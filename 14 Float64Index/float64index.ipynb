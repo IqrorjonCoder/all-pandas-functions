{
 "cells": [
  {
   "cell_type": "code",
   "execution_count": 3,
   "metadata": {
    "collapsed": true
   },
   "outputs": [
    {
     "name": "stdout",
     "output_type": "stream",
     "text": [
      "0 T\n",
      "1 all\n",
      "2 any\n",
      "3 append\n",
      "4 argmax\n",
      "5 argmin\n",
      "6 argsort\n",
      "7 array\n",
      "8 asi8\n",
      "9 asof\n",
      "10 asof_locs\n",
      "11 astype\n",
      "12 copy\n",
      "13 delete\n",
      "14 difference\n",
      "15 drop\n",
      "16 drop_duplicates\n",
      "17 droplevel\n",
      "18 dropna\n",
      "19 dtype\n",
      "20 duplicated\n",
      "21 empty\n",
      "22 equals\n",
      "23 factorize\n",
      "24 fillna\n",
      "25 format\n",
      "26 get_indexer\n",
      "27 get_indexer_for\n",
      "28 get_indexer_non_unique\n",
      "29 get_level_values\n",
      "30 get_loc\n",
      "31 get_slice_bound\n",
      "32 get_value\n",
      "33 groupby\n",
      "34 has_duplicates\n",
      "35 hasnans\n",
      "36 holds_integer\n",
      "37 identical\n",
      "38 inferred_type\n",
      "39 insert\n",
      "40 intersection\n",
      "41 is_\n",
      "42 is_all_dates\n",
      "43 is_boolean\n",
      "44 is_categorical\n",
      "45 is_floating\n",
      "46 is_integer\n",
      "47 is_interval\n",
      "48 is_mixed\n",
      "49 is_monotonic\n",
      "50 is_monotonic_decreasing\n",
      "51 is_monotonic_increasing\n",
      "52 is_numeric\n",
      "53 is_object\n",
      "54 is_type_compatible\n",
      "55 is_unique\n",
      "56 isin\n",
      "57 isna\n",
      "58 isnull\n",
      "59 item\n",
      "60 join\n",
      "61 map\n",
      "62 max\n",
      "63 memory_usage\n",
      "64 min\n",
      "65 name\n",
      "66 names\n",
      "67 nbytes\n",
      "68 ndim\n",
      "69 nlevels\n",
      "70 notna\n",
      "71 notnull\n",
      "72 nunique\n",
      "73 putmask\n",
      "74 ravel\n",
      "75 reindex\n",
      "76 rename\n",
      "77 repeat\n",
      "78 searchsorted\n",
      "79 set_names\n",
      "80 set_value\n",
      "81 shape\n",
      "82 shift\n",
      "83 size\n",
      "84 slice_indexer\n",
      "85 slice_locs\n",
      "86 sort\n",
      "87 sort_values\n",
      "88 sortlevel\n",
      "89 str\n",
      "90 symmetric_difference\n",
      "91 take\n",
      "92 to_flat_index\n",
      "93 to_frame\n",
      "94 to_list\n",
      "95 to_native_types\n",
      "96 to_numpy\n",
      "97 to_series\n",
      "98 tolist\n",
      "99 transpose\n",
      "100 union\n",
      "101 unique\n",
      "102 value_counts\n",
      "103 values\n",
      "104 view\n",
      "105 where\n"
     ]
    },
    {
     "name": "stderr",
     "output_type": "stream",
     "text": [
      "C:\\Users\\student.ASTRUM-DOMAIN\\AppData\\Local\\Temp\\ipykernel_12788\\1585188748.py:5: FutureWarning: pandas.Float64Index is deprecated and will be removed from pandas in a future version. Use pandas.Index with the appropriate dtype instead.\n",
      "  functions = [i for i in dir(pd.Float64Index) if i[:1] != '_']\n"
     ]
    }
   ],
   "source": [
    "import numpy as np\n",
    "import pandas as pd\n",
    "import matplotlib.pyplot as plt\n",
    "\n",
    "functions = [i for i in dir(pd.Float64Index) if i[:1] != '_']\n",
    "\n",
    "for i, v in enumerate(functions):\n",
    "    print(i, v)"
   ]
  },
  {
   "cell_type": "code",
   "execution_count": 33,
   "outputs": [
    {
     "name": "stderr",
     "output_type": "stream",
     "text": [
      "C:\\Users\\student.ASTRUM-DOMAIN\\AppData\\Local\\Temp\\ipykernel_12788\\2501042142.py:1: FutureWarning: pandas.Float64Index is deprecated and will be removed from pandas in a future version. Use pandas.Index with the appropriate dtype instead.\n",
      "  data = pd.Float64Index([1,2,3,4])\n"
     ]
    },
    {
     "data": {
      "text/plain": "Float64Index([1.0, 2.0, 3.0, 4.0], dtype='float64')"
     },
     "execution_count": 33,
     "metadata": {},
     "output_type": "execute_result"
    }
   ],
   "source": [
    "data = pd.Float64Index([1,2,3,4])\n",
    "data.T"
   ],
   "metadata": {
    "collapsed": false
   }
  },
  {
   "cell_type": "code",
   "execution_count": 40,
   "outputs": [
    {
     "name": "stderr",
     "output_type": "stream",
     "text": [
      "C:\\Users\\student.ASTRUM-DOMAIN\\AppData\\Local\\Temp\\ipykernel_12788\\2546132042.py:1: FutureWarning: pandas.Float64Index is deprecated and will be removed from pandas in a future version. Use pandas.Index with the appropriate dtype instead.\n",
      "  data = pd.Float64Index([1,2,3,4])\n"
     ]
    },
    {
     "data": {
      "text/plain": "<bound method Index.all of Float64Index([1.0, 2.0, 3.0, 4.0], dtype='float64')>"
     },
     "execution_count": 40,
     "metadata": {},
     "output_type": "execute_result"
    }
   ],
   "source": [
    "data = pd.Float64Index([1,2,3,4])\n",
    "data.all"
   ],
   "metadata": {
    "collapsed": false
   }
  },
  {
   "cell_type": "code",
   "execution_count": 41,
   "outputs": [
    {
     "name": "stderr",
     "output_type": "stream",
     "text": [
      "C:\\Users\\student.ASTRUM-DOMAIN\\AppData\\Local\\Temp\\ipykernel_12788\\1704341632.py:1: FutureWarning: pandas.Float64Index is deprecated and will be removed from pandas in a future version. Use pandas.Index with the appropriate dtype instead.\n",
      "  data = pd.Float64Index([1,2,3,4])\n"
     ]
    },
    {
     "data": {
      "text/plain": "<bound method Index.any of Float64Index([1.0, 2.0, 3.0, 4.0], dtype='float64')>"
     },
     "execution_count": 41,
     "metadata": {},
     "output_type": "execute_result"
    }
   ],
   "source": [
    "data = pd.Float64Index([1,2,3,4])\n",
    "data.any"
   ],
   "metadata": {
    "collapsed": false
   }
  },
  {
   "cell_type": "code",
   "execution_count": 43,
   "outputs": [
    {
     "name": "stderr",
     "output_type": "stream",
     "text": [
      "C:\\Users\\student.ASTRUM-DOMAIN\\AppData\\Local\\Temp\\ipykernel_12788\\2987917164.py:1: FutureWarning: pandas.Float64Index is deprecated and will be removed from pandas in a future version. Use pandas.Index with the appropriate dtype instead.\n",
      "  data = pd.Float64Index([1,2,3,4])\n"
     ]
    },
    {
     "data": {
      "text/plain": "Float64Index([1.0, 2.0, 3.0, 4.0, 1.0, 2.0, 3.0], dtype='float64')"
     },
     "execution_count": 43,
     "metadata": {},
     "output_type": "execute_result"
    }
   ],
   "source": [
    "data = pd.Float64Index([1,2,3,4])\n",
    "data.append(pd.Index([1,2,3]))"
   ],
   "metadata": {
    "collapsed": false
   }
  },
  {
   "cell_type": "code",
   "execution_count": 46,
   "outputs": [
    {
     "name": "stderr",
     "output_type": "stream",
     "text": [
      "C:\\Users\\student.ASTRUM-DOMAIN\\AppData\\Local\\Temp\\ipykernel_12788\\1196728404.py:1: FutureWarning: pandas.Float64Index is deprecated and will be removed from pandas in a future version. Use pandas.Index with the appropriate dtype instead.\n",
      "  data = pd.Float64Index([1,2,3,4])\n"
     ]
    },
    {
     "data": {
      "text/plain": "4.0"
     },
     "execution_count": 46,
     "metadata": {},
     "output_type": "execute_result"
    }
   ],
   "source": [
    "data = pd.Float64Index([1,2,3,4])\n",
    "data[data.argmax()]"
   ],
   "metadata": {
    "collapsed": false
   }
  },
  {
   "cell_type": "code",
   "execution_count": 47,
   "outputs": [
    {
     "name": "stderr",
     "output_type": "stream",
     "text": [
      "C:\\Users\\student.ASTRUM-DOMAIN\\AppData\\Local\\Temp\\ipykernel_12788\\4273293600.py:1: FutureWarning: pandas.Float64Index is deprecated and will be removed from pandas in a future version. Use pandas.Index with the appropriate dtype instead.\n",
      "  data = pd.Float64Index([1,2,3,4])\n"
     ]
    },
    {
     "data": {
      "text/plain": "1.0"
     },
     "execution_count": 47,
     "metadata": {},
     "output_type": "execute_result"
    }
   ],
   "source": [
    "data = pd.Float64Index([1,2,3,4])\n",
    "data[data.argmin()]"
   ],
   "metadata": {
    "collapsed": false
   }
  },
  {
   "cell_type": "code",
   "execution_count": 51,
   "outputs": [
    {
     "name": "stderr",
     "output_type": "stream",
     "text": [
      "C:\\Users\\student.ASTRUM-DOMAIN\\AppData\\Local\\Temp\\ipykernel_12788\\3919494131.py:1: FutureWarning: pandas.Float64Index is deprecated and will be removed from pandas in a future version. Use pandas.Index with the appropriate dtype instead.\n",
      "  data = pd.Float64Index([10,12,1,2,3,4])\n"
     ]
    },
    {
     "data": {
      "text/plain": "Float64Index([1.0, 2.0, 3.0, 4.0, 10.0, 12.0], dtype='float64')"
     },
     "execution_count": 51,
     "metadata": {},
     "output_type": "execute_result"
    }
   ],
   "source": [
    "data = pd.Float64Index([10,12,1,2,3,4])\n",
    "data[data.argsort()]"
   ],
   "metadata": {
    "collapsed": false
   }
  },
  {
   "cell_type": "code",
   "execution_count": 55,
   "outputs": [
    {
     "name": "stderr",
     "output_type": "stream",
     "text": [
      "C:\\Users\\student.ASTRUM-DOMAIN\\AppData\\Local\\Temp\\ipykernel_12788\\3507632520.py:1: FutureWarning: pandas.Float64Index is deprecated and will be removed from pandas in a future version. Use pandas.Index with the appropriate dtype instead.\n",
      "  data = pd.Float64Index([1,2,3,4])\n"
     ]
    },
    {
     "data": {
      "text/plain": "<PandasArray>\n[1.0, 2.0, 3.0, 4.0]\nLength: 4, dtype: float64"
     },
     "execution_count": 55,
     "metadata": {},
     "output_type": "execute_result"
    }
   ],
   "source": [
    "data = pd.Float64Index([1,2,3,4])\n",
    "data.array"
   ],
   "metadata": {
    "collapsed": false
   }
  },
  {
   "cell_type": "code",
   "execution_count": 60,
   "outputs": [
    {
     "name": "stderr",
     "output_type": "stream",
     "text": [
      "C:\\Users\\student.ASTRUM-DOMAIN\\AppData\\Local\\Temp\\ipykernel_12788\\3158714467.py:1: FutureWarning: pandas.Float64Index is deprecated and will be removed from pandas in a future version. Use pandas.Index with the appropriate dtype instead.\n",
      "  data = pd.Float64Index([1,2,3,4])\n",
      "C:\\Users\\student.ASTRUM-DOMAIN\\AppData\\Local\\Temp\\ipykernel_12788\\3158714467.py:2: FutureWarning: Index.asi8 is deprecated and will be removed in a future version.\n",
      "  data.asi8\n"
     ]
    }
   ],
   "source": [
    "data = pd.Float64Index([1,2,3,4])\n",
    "data.asi8"
   ],
   "metadata": {
    "collapsed": false
   }
  },
  {
   "cell_type": "code",
   "execution_count": 70,
   "outputs": [
    {
     "name": "stdout",
     "output_type": "stream",
     "text": [
      "4.0\n",
      "4.0\n",
      "3.0\n"
     ]
    },
    {
     "name": "stderr",
     "output_type": "stream",
     "text": [
      "C:\\Users\\student.ASTRUM-DOMAIN\\AppData\\Local\\Temp\\ipykernel_12788\\840341096.py:1: FutureWarning: pandas.Float64Index is deprecated and will be removed from pandas in a future version. Use pandas.Index with the appropriate dtype instead.\n",
      "  data = pd.Float64Index([1,2,3,4])\n"
     ]
    }
   ],
   "source": [
    "data = pd.Float64Index([1,2,3,4])\n",
    "print(data.asof(5))\n",
    "print(data.asof(4))\n",
    "print(data.asof(3))"
   ],
   "metadata": {
    "collapsed": false
   }
  },
  {
   "cell_type": "code",
   "execution_count": 90,
   "outputs": [
    {
     "name": "stderr",
     "output_type": "stream",
     "text": [
      "C:\\Users\\student.ASTRUM-DOMAIN\\AppData\\Local\\Temp\\ipykernel_12788\\1841333773.py:1: FutureWarning: pandas.Float64Index is deprecated and will be removed from pandas in a future version. Use pandas.Index with the appropriate dtype instead.\n",
      "  data = pd.Float64Index([1,2,3,4])\n"
     ]
    },
    {
     "data": {
      "text/plain": "'\\n        Return the locations (indices) of labels in the index.\\n\\n        As in the `asof` function, if the label (a particular entry in\\n        `where`) is not in the index, the latest index label up to the\\n        passed label is chosen and its index returned.\\n\\n        If all of the labels in the index are later than a label in `where`,\\n        -1 is returned.\\n\\n        `mask` is used to ignore NA values in the index during calculation.\\n\\n        Parameters\\n        ----------\\n        where : Index\\n            An Index consisting of an array of timestamps.\\n        mask : np.ndarray[bool]\\n            Array of booleans denoting where values in the original\\n            data are not NA.\\n\\n        Returns\\n        -------\\n        np.ndarray[np.intp]\\n            An array of locations (indices) of the labels from the Index\\n            which correspond to the return values of the `asof` function\\n            for every element in `where`.\\n        '"
     },
     "execution_count": 90,
     "metadata": {},
     "output_type": "execute_result"
    }
   ],
   "source": [
    "data = pd.Float64Index([1,2,3,4])\n",
    "data.asof_locs.__doc__"
   ],
   "metadata": {
    "collapsed": false
   }
  },
  {
   "cell_type": "code",
   "execution_count": 93,
   "outputs": [
    {
     "name": "stderr",
     "output_type": "stream",
     "text": [
      "C:\\Users\\student.ASTRUM-DOMAIN\\AppData\\Local\\Temp\\ipykernel_12788\\3423273408.py:1: FutureWarning: pandas.Float64Index is deprecated and will be removed from pandas in a future version. Use pandas.Index with the appropriate dtype instead.\n",
      "  data = pd.Float64Index([1,2,3,4])\n"
     ]
    },
    {
     "data": {
      "text/plain": "Int64Index([1, 2, 3, 4], dtype='int64')"
     },
     "execution_count": 93,
     "metadata": {},
     "output_type": "execute_result"
    }
   ],
   "source": [
    "data = pd.Float64Index([1,2,3,4])\n",
    "data.astype(np.int64)"
   ],
   "metadata": {
    "collapsed": false
   }
  },
  {
   "cell_type": "code",
   "execution_count": 100,
   "outputs": [
    {
     "name": "stdout",
     "output_type": "stream",
     "text": [
      "[ True  True  True  True]\n",
      "False\n"
     ]
    },
    {
     "name": "stderr",
     "output_type": "stream",
     "text": [
      "C:\\Users\\student.ASTRUM-DOMAIN\\AppData\\Local\\Temp\\ipykernel_12788\\3304237561.py:1: FutureWarning: pandas.Float64Index is deprecated and will be removed from pandas in a future version. Use pandas.Index with the appropriate dtype instead.\n",
      "  data = pd.Float64Index([1,2,3,4])\n"
     ]
    }
   ],
   "source": [
    "data = pd.Float64Index([1,2,3,4])\n",
    "print(data.copy() == data)\n",
    "print(data.copy() is data)"
   ],
   "metadata": {
    "collapsed": false
   }
  },
  {
   "cell_type": "code",
   "execution_count": 103,
   "outputs": [
    {
     "name": "stderr",
     "output_type": "stream",
     "text": [
      "C:\\Users\\student.ASTRUM-DOMAIN\\AppData\\Local\\Temp\\ipykernel_12788\\4282038518.py:1: FutureWarning: pandas.Float64Index is deprecated and will be removed from pandas in a future version. Use pandas.Index with the appropriate dtype instead.\n",
      "  data = pd.Float64Index([1,2,3,4])\n"
     ]
    },
    {
     "data": {
      "text/plain": "Float64Index([3.0], dtype='float64')"
     },
     "execution_count": 103,
     "metadata": {},
     "output_type": "execute_result"
    }
   ],
   "source": [
    "data = pd.Float64Index([1,2,3,4])\n",
    "data.delete([1,-1,0])"
   ],
   "metadata": {
    "collapsed": false
   }
  },
  {
   "cell_type": "code",
   "execution_count": 109,
   "outputs": [
    {
     "name": "stderr",
     "output_type": "stream",
     "text": [
      "C:\\Users\\student.ASTRUM-DOMAIN\\AppData\\Local\\Temp\\ipykernel_12788\\953057918.py:1: FutureWarning: pandas.Float64Index is deprecated and will be removed from pandas in a future version. Use pandas.Index with the appropriate dtype instead.\n",
      "  data = pd.Float64Index([1,2,3,4])\n"
     ]
    },
    {
     "data": {
      "text/plain": "Float64Index([], dtype='float64')"
     },
     "execution_count": 109,
     "metadata": {},
     "output_type": "execute_result"
    }
   ],
   "source": [
    "data = pd.Float64Index([1,2,3,4])\n",
    "data.difference(data.copy())"
   ],
   "metadata": {
    "collapsed": false
   }
  },
  {
   "cell_type": "code",
   "execution_count": 111,
   "outputs": [
    {
     "name": "stderr",
     "output_type": "stream",
     "text": [
      "C:\\Users\\student.ASTRUM-DOMAIN\\AppData\\Local\\Temp\\ipykernel_12788\\678219585.py:1: FutureWarning: pandas.Float64Index is deprecated and will be removed from pandas in a future version. Use pandas.Index with the appropriate dtype instead.\n",
      "  data = pd.Float64Index([1,2,3,4])\n"
     ]
    },
    {
     "data": {
      "text/plain": "Float64Index([2.0, 3.0, 4.0], dtype='float64')"
     },
     "execution_count": 111,
     "metadata": {},
     "output_type": "execute_result"
    }
   ],
   "source": [
    "data = pd.Float64Index([1,2,3,4])\n",
    "data.drop(1)"
   ],
   "metadata": {
    "collapsed": false
   }
  },
  {
   "cell_type": "code",
   "execution_count": 113,
   "outputs": [
    {
     "name": "stderr",
     "output_type": "stream",
     "text": [
      "C:\\Users\\student.ASTRUM-DOMAIN\\AppData\\Local\\Temp\\ipykernel_12788\\2260352990.py:1: FutureWarning: pandas.Float64Index is deprecated and will be removed from pandas in a future version. Use pandas.Index with the appropriate dtype instead.\n",
      "  data = pd.Float64Index([1,2,3,4,1,2,3])\n"
     ]
    },
    {
     "data": {
      "text/plain": "Float64Index([1.0, 2.0, 3.0, 4.0], dtype='float64')"
     },
     "execution_count": 113,
     "metadata": {},
     "output_type": "execute_result"
    }
   ],
   "source": [
    "data = pd.Float64Index([1,2,3,4,1,2,3])\n",
    "data.drop_duplicates()"
   ],
   "metadata": {
    "collapsed": false
   }
  },
  {
   "cell_type": "code",
   "execution_count": 124,
   "outputs": [
    {
     "name": "stderr",
     "output_type": "stream",
     "text": [
      "C:\\Users\\student.ASTRUM-DOMAIN\\AppData\\Local\\Temp\\ipykernel_12788\\3739935268.py:1: FutureWarning: pandas.Float64Index is deprecated and will be removed from pandas in a future version. Use pandas.Index with the appropriate dtype instead.\n",
      "  data = pd.Float64Index([1,2,3,4])\n"
     ]
    },
    {
     "data": {
      "text/plain": "\"\\n        Return index with requested level(s) removed.\\n\\n        If resulting index has only 1 level left, the result will be\\n        of Index type, not MultiIndex.\\n\\n        Parameters\\n        ----------\\n        level : int, str, or list-like, default 0\\n            If a string is given, must be the name of a level\\n            If list-like, elements must be names or indexes of levels.\\n\\n        Returns\\n        -------\\n        Index or MultiIndex\\n\\n        Examples\\n        --------\\n        >>> mi = pd.MultiIndex.from_arrays(\\n        ... [[1, 2], [3, 4], [5, 6]], names=['x', 'y', 'z'])\\n        >>> mi\\n        MultiIndex([(1, 3, 5),\\n                    (2, 4, 6)],\\n                   names=['x', 'y', 'z'])\\n\\n        >>> mi.droplevel()\\n        MultiIndex([(3, 5),\\n                    (4, 6)],\\n                   names=['y', 'z'])\\n\\n        >>> mi.droplevel(2)\\n        MultiIndex([(1, 3),\\n                    (2, 4)],\\n                   names=['x', 'y'])\\n\\n        >>> mi.droplevel('z')\\n        MultiIndex([(1, 3),\\n                    (2, 4)],\\n                   names=['x', 'y'])\\n\\n        >>> mi.droplevel(['x', 'y'])\\n        Int64Index([5, 6], dtype='int64', name='z')\\n        \""
     },
     "execution_count": 124,
     "metadata": {},
     "output_type": "execute_result"
    }
   ],
   "source": [
    "data = pd.Float64Index([1,2,3,4])\n",
    "data.droplevel.__doc__"
   ],
   "metadata": {
    "collapsed": false
   }
  },
  {
   "cell_type": "code",
   "execution_count": 126,
   "outputs": [
    {
     "name": "stderr",
     "output_type": "stream",
     "text": [
      "C:\\Users\\student.ASTRUM-DOMAIN\\AppData\\Local\\Temp\\ipykernel_12788\\1845660908.py:1: FutureWarning: pandas.Float64Index is deprecated and will be removed from pandas in a future version. Use pandas.Index with the appropriate dtype instead.\n",
      "  data = pd.Float64Index([1,2,3,4,np.nan, np.nan])\n"
     ]
    },
    {
     "data": {
      "text/plain": "Float64Index([1.0, 2.0, 3.0, 4.0], dtype='float64')"
     },
     "execution_count": 126,
     "metadata": {},
     "output_type": "execute_result"
    }
   ],
   "source": [
    "data = pd.Float64Index([1,2,3,4,np.nan, np.nan])\n",
    "data.dropna()"
   ],
   "metadata": {
    "collapsed": false
   }
  },
  {
   "cell_type": "code",
   "execution_count": 145,
   "outputs": [
    {
     "name": "stderr",
     "output_type": "stream",
     "text": [
      "C:\\Users\\student.ASTRUM-DOMAIN\\AppData\\Local\\Temp\\ipykernel_12788\\2479479653.py:1: FutureWarning: pandas.Float64Index is deprecated and will be removed from pandas in a future version. Use pandas.Index with the appropriate dtype instead.\n",
      "  data = pd.Float64Index([1,2,3,4])\n"
     ]
    },
    {
     "data": {
      "text/plain": "dtype('float64')"
     },
     "execution_count": 145,
     "metadata": {},
     "output_type": "execute_result"
    }
   ],
   "source": [
    "data = pd.Float64Index([1,2,3,4])\n",
    "data.dtype"
   ],
   "metadata": {
    "collapsed": false
   }
  },
  {
   "cell_type": "code",
   "execution_count": 149,
   "outputs": [
    {
     "name": "stderr",
     "output_type": "stream",
     "text": [
      "C:\\Users\\student.ASTRUM-DOMAIN\\AppData\\Local\\Temp\\ipykernel_12788\\104087242.py:1: FutureWarning: pandas.Float64Index is deprecated and will be removed from pandas in a future version. Use pandas.Index with the appropriate dtype instead.\n",
      "  data = pd.Float64Index([1,1,2,3,4])\n"
     ]
    },
    {
     "data": {
      "text/plain": "array([False,  True, False, False, False])"
     },
     "execution_count": 149,
     "metadata": {},
     "output_type": "execute_result"
    }
   ],
   "source": [
    "data = pd.Float64Index([1,1,2,3,4])\n",
    "data.duplicated()"
   ],
   "metadata": {
    "collapsed": false
   }
  },
  {
   "cell_type": "code",
   "execution_count": 157,
   "outputs": [
    {
     "name": "stderr",
     "output_type": "stream",
     "text": [
      "C:\\Users\\student.ASTRUM-DOMAIN\\AppData\\Local\\Temp\\ipykernel_12788\\558488564.py:1: FutureWarning: pandas.Float64Index is deprecated and will be removed from pandas in a future version. Use pandas.Index with the appropriate dtype instead.\n",
      "  data = pd.Float64Index([1,2,3,4])\n"
     ]
    },
    {
     "data": {
      "text/plain": "False"
     },
     "execution_count": 157,
     "metadata": {},
     "output_type": "execute_result"
    }
   ],
   "source": [
    "data = pd.Float64Index([1,2,3,4])\n",
    "data.empty"
   ],
   "metadata": {
    "collapsed": false
   }
  },
  {
   "cell_type": "code",
   "execution_count": 158,
   "outputs": [
    {
     "name": "stderr",
     "output_type": "stream",
     "text": [
      "C:\\Users\\student.ASTRUM-DOMAIN\\AppData\\Local\\Temp\\ipykernel_12788\\3380714326.py:1: FutureWarning: pandas.Float64Index is deprecated and will be removed from pandas in a future version. Use pandas.Index with the appropriate dtype instead.\n",
      "  data = pd.Float64Index([1,2,3,4])\n"
     ]
    },
    {
     "data": {
      "text/plain": "<bound method Index.equals of Float64Index([1.0, 2.0, 3.0, 4.0], dtype='float64')>"
     },
     "execution_count": 158,
     "metadata": {},
     "output_type": "execute_result"
    }
   ],
   "source": [
    "data = pd.Float64Index([1,2,3,4])\n",
    "data.equals"
   ],
   "metadata": {
    "collapsed": false
   }
  },
  {
   "cell_type": "code",
   "execution_count": 160,
   "outputs": [
    {
     "name": "stderr",
     "output_type": "stream",
     "text": [
      "C:\\Users\\student.ASTRUM-DOMAIN\\AppData\\Local\\Temp\\ipykernel_12788\\3109501084.py:1: FutureWarning: pandas.Float64Index is deprecated and will be removed from pandas in a future version. Use pandas.Index with the appropriate dtype instead.\n",
      "  data = pd.Float64Index([1,2,3,4])\n"
     ]
    },
    {
     "data": {
      "text/plain": "(array([0, 1, 2, 3], dtype=int64),\n Float64Index([1.0, 2.0, 3.0, 4.0], dtype='float64'))"
     },
     "execution_count": 160,
     "metadata": {},
     "output_type": "execute_result"
    }
   ],
   "source": [
    "data = pd.Float64Index([1,2,3,4])\n",
    "data.factorize()"
   ],
   "metadata": {
    "collapsed": false
   }
  },
  {
   "cell_type": "code",
   "execution_count": 170,
   "outputs": [
    {
     "name": "stderr",
     "output_type": "stream",
     "text": [
      "C:\\Users\\student.ASTRUM-DOMAIN\\AppData\\Local\\Temp\\ipykernel_12788\\3436270363.py:1: FutureWarning: pandas.Float64Index is deprecated and will be removed from pandas in a future version. Use pandas.Index with the appropriate dtype instead.\n",
      "  data = pd.Float64Index([1,2,3,4,np.nan, np.nan])\n"
     ]
    },
    {
     "data": {
      "text/plain": "Float64Index([1.0, 2.0, 3.0, 4.0, 1000.0, 1000.0], dtype='float64')"
     },
     "execution_count": 170,
     "metadata": {},
     "output_type": "execute_result"
    }
   ],
   "source": [
    "data = pd.Float64Index([1,2,3,4,np.nan, np.nan])\n",
    "data.fillna(1000)"
   ],
   "metadata": {
    "collapsed": false
   }
  },
  {
   "cell_type": "code",
   "execution_count": 173,
   "outputs": [
    {
     "name": "stderr",
     "output_type": "stream",
     "text": [
      "C:\\Users\\student.ASTRUM-DOMAIN\\AppData\\Local\\Temp\\ipykernel_12788\\3320394620.py:1: FutureWarning: pandas.Float64Index is deprecated and will be removed from pandas in a future version. Use pandas.Index with the appropriate dtype instead.\n",
      "  data = pd.Float64Index([1,2,3,4])\n"
     ]
    },
    {
     "data": {
      "text/plain": "['1.0', '2.0', '3.0', '4.0']"
     },
     "execution_count": 173,
     "metadata": {},
     "output_type": "execute_result"
    }
   ],
   "source": [
    "data = pd.Float64Index([1,2,3,4])\n",
    "data.format()"
   ],
   "metadata": {
    "collapsed": false
   }
  },
  {
   "cell_type": "code",
   "execution_count": 181,
   "outputs": [
    {
     "name": "stderr",
     "output_type": "stream",
     "text": [
      "C:\\Users\\student.ASTRUM-DOMAIN\\AppData\\Local\\Temp\\ipykernel_12788\\2867755289.py:1: FutureWarning: pandas.Float64Index is deprecated and will be removed from pandas in a future version. Use pandas.Index with the appropriate dtype instead.\n",
      "  data = pd.Float64Index([1,2,3,4])\n"
     ]
    },
    {
     "data": {
      "text/plain": "<bound method Index.get_indexer of Float64Index([1.0, 2.0, 3.0, 4.0], dtype='float64')>"
     },
     "execution_count": 181,
     "metadata": {},
     "output_type": "execute_result"
    }
   ],
   "source": [
    "data = pd.Float64Index([1,2,3,4])\n",
    "data.get_indexer"
   ],
   "metadata": {
    "collapsed": false
   }
  },
  {
   "cell_type": "code",
   "execution_count": 185,
   "outputs": [
    {
     "name": "stderr",
     "output_type": "stream",
     "text": [
      "C:\\Users\\student.ASTRUM-DOMAIN\\AppData\\Local\\Temp\\ipykernel_12788\\1871372919.py:1: FutureWarning: pandas.Float64Index is deprecated and will be removed from pandas in a future version. Use pandas.Index with the appropriate dtype instead.\n",
      "  data = pd.Float64Index([1,2,3,4])\n"
     ]
    },
    {
     "data": {
      "text/plain": "<bound method Index.get_indexer_for of Float64Index([1.0, 2.0, 3.0, 4.0], dtype='float64')>"
     },
     "execution_count": 185,
     "metadata": {},
     "output_type": "execute_result"
    }
   ],
   "source": [
    "data = pd.Float64Index([1,2,3,4])\n",
    "data.get_indexer_for"
   ],
   "metadata": {
    "collapsed": false
   }
  },
  {
   "cell_type": "code",
   "execution_count": 187,
   "outputs": [
    {
     "name": "stderr",
     "output_type": "stream",
     "text": [
      "C:\\Users\\student.ASTRUM-DOMAIN\\AppData\\Local\\Temp\\ipykernel_12788\\3906139655.py:1: FutureWarning: pandas.Float64Index is deprecated and will be removed from pandas in a future version. Use pandas.Index with the appropriate dtype instead.\n",
      "  data = pd.Float64Index([1,2,3,4])\n"
     ]
    },
    {
     "data": {
      "text/plain": "<bound method Index.get_indexer_non_unique of Float64Index([1.0, 2.0, 3.0, 4.0], dtype='float64')>"
     },
     "execution_count": 187,
     "metadata": {},
     "output_type": "execute_result"
    }
   ],
   "source": [
    "data = pd.Float64Index([1,2,3,4])\n",
    "data.get_indexer_non_unique"
   ],
   "metadata": {
    "collapsed": false
   }
  },
  {
   "cell_type": "code",
   "execution_count": 191,
   "outputs": [
    {
     "name": "stderr",
     "output_type": "stream",
     "text": [
      "C:\\Users\\student.ASTRUM-DOMAIN\\AppData\\Local\\Temp\\ipykernel_12788\\1096008746.py:1: FutureWarning: pandas.Float64Index is deprecated and will be removed from pandas in a future version. Use pandas.Index with the appropriate dtype instead.\n",
      "  data = pd.Float64Index([1,2,3,4])\n"
     ]
    },
    {
     "data": {
      "text/plain": "<bound method Index._get_level_values of Float64Index([1.0, 2.0, 3.0, 4.0], dtype='float64')>"
     },
     "execution_count": 191,
     "metadata": {},
     "output_type": "execute_result"
    }
   ],
   "source": [
    "data = pd.Float64Index([1,2,3,4])\n",
    "data.get_level_values"
   ],
   "metadata": {
    "collapsed": false
   }
  },
  {
   "cell_type": "code",
   "execution_count": 195,
   "outputs": [
    {
     "name": "stderr",
     "output_type": "stream",
     "text": [
      "C:\\Users\\student.ASTRUM-DOMAIN\\AppData\\Local\\Temp\\ipykernel_12788\\3980837881.py:1: FutureWarning: pandas.Float64Index is deprecated and will be removed from pandas in a future version. Use pandas.Index with the appropriate dtype instead.\n",
      "  data = pd.Float64Index([1,2,3,4])\n"
     ]
    },
    {
     "data": {
      "text/plain": "<bound method Index.get_loc of Float64Index([1.0, 2.0, 3.0, 4.0], dtype='float64')>"
     },
     "execution_count": 195,
     "metadata": {},
     "output_type": "execute_result"
    }
   ],
   "source": [
    "data = pd.Float64Index([1,2,3,4])\n",
    "data.get_loc"
   ],
   "metadata": {
    "collapsed": false
   }
  },
  {
   "cell_type": "code",
   "execution_count": 200,
   "outputs": [
    {
     "name": "stderr",
     "output_type": "stream",
     "text": [
      "C:\\Users\\student.ASTRUM-DOMAIN\\AppData\\Local\\Temp\\ipykernel_12788\\3148375980.py:1: FutureWarning: pandas.Float64Index is deprecated and will be removed from pandas in a future version. Use pandas.Index with the appropriate dtype instead.\n",
      "  data = pd.Float64Index([1,2,3,4])\n"
     ]
    },
    {
     "data": {
      "text/plain": "\"\\n        Calculate slice bound that corresponds to given label.\\n\\n        Returns leftmost (one-past-the-rightmost if ``side=='right'``) position\\n        of given label.\\n\\n        Parameters\\n        ----------\\n        label : object\\n        side : {'left', 'right'}\\n        kind : {'loc', 'getitem'} or None\\n\\n            .. deprecated:: 1.4.0\\n\\n        Returns\\n        -------\\n        int\\n            Index of label.\\n        \""
     },
     "execution_count": 200,
     "metadata": {},
     "output_type": "execute_result"
    }
   ],
   "source": [
    "data = pd.Float64Index([1,2,3,4])\n",
    "data.get_slice_bound.__doc__"
   ],
   "metadata": {
    "collapsed": false
   }
  },
  {
   "cell_type": "code",
   "execution_count": 209,
   "outputs": [
    {
     "name": "stderr",
     "output_type": "stream",
     "text": [
      "C:\\Users\\student.ASTRUM-DOMAIN\\AppData\\Local\\Temp\\ipykernel_12788\\3519329389.py:1: FutureWarning: pandas.Float64Index is deprecated and will be removed from pandas in a future version. Use pandas.Index with the appropriate dtype instead.\n",
      "  data = pd.Float64Index([1,2,3,4])\n"
     ]
    },
    {
     "data": {
      "text/plain": "\"\\n        Fast lookup of value from 1-dimensional ndarray.\\n\\n        Only use this if you know what you're doing.\\n\\n        Returns\\n        -------\\n        scalar or Series\\n        \""
     },
     "execution_count": 209,
     "metadata": {},
     "output_type": "execute_result"
    }
   ],
   "source": [
    "data = pd.Float64Index([1,2,3,4])\n",
    "data.get_value.__doc__"
   ],
   "metadata": {
    "collapsed": false
   }
  },
  {
   "cell_type": "code",
   "execution_count": 216,
   "outputs": [
    {
     "name": "stderr",
     "output_type": "stream",
     "text": [
      "C:\\Users\\student.ASTRUM-DOMAIN\\AppData\\Local\\Temp\\ipykernel_12788\\1870570277.py:1: FutureWarning: pandas.Float64Index is deprecated and will be removed from pandas in a future version. Use pandas.Index with the appropriate dtype instead.\n",
      "  data = pd.Float64Index([1,2,3,4])\n"
     ]
    },
    {
     "data": {
      "text/plain": "{100: [1.0], 200: [2.0]}"
     },
     "execution_count": 216,
     "metadata": {},
     "output_type": "execute_result"
    }
   ],
   "source": [
    "data = pd.Float64Index([1,2,3,4])\n",
    "data.groupby(values=[100,200])"
   ],
   "metadata": {
    "collapsed": false
   }
  },
  {
   "cell_type": "code",
   "execution_count": 220,
   "outputs": [
    {
     "name": "stderr",
     "output_type": "stream",
     "text": [
      "C:\\Users\\student.ASTRUM-DOMAIN\\AppData\\Local\\Temp\\ipykernel_12788\\2936024221.py:1: FutureWarning: pandas.Float64Index is deprecated and will be removed from pandas in a future version. Use pandas.Index with the appropriate dtype instead.\n",
      "  data = pd.Float64Index([1,2,3,4])\n"
     ]
    },
    {
     "data": {
      "text/plain": "False"
     },
     "execution_count": 220,
     "metadata": {},
     "output_type": "execute_result"
    }
   ],
   "source": [
    "data = pd.Float64Index([1,2,3,4])\n",
    "data.has_duplicates"
   ],
   "metadata": {
    "collapsed": false
   }
  },
  {
   "cell_type": "code",
   "execution_count": 222,
   "outputs": [
    {
     "name": "stderr",
     "output_type": "stream",
     "text": [
      "C:\\Users\\student.ASTRUM-DOMAIN\\AppData\\Local\\Temp\\ipykernel_12788\\1691806041.py:1: FutureWarning: pandas.Float64Index is deprecated and will be removed from pandas in a future version. Use pandas.Index with the appropriate dtype instead.\n",
      "  data = pd.Float64Index([1,2,3,4, np.nan])\n"
     ]
    },
    {
     "data": {
      "text/plain": "True"
     },
     "execution_count": 222,
     "metadata": {},
     "output_type": "execute_result"
    }
   ],
   "source": [
    "data = pd.Float64Index([1,2,3,4, np.nan])\n",
    "data.hasnans"
   ],
   "metadata": {
    "collapsed": false
   }
  },
  {
   "cell_type": "code",
   "execution_count": 225,
   "outputs": [
    {
     "name": "stderr",
     "output_type": "stream",
     "text": [
      "C:\\Users\\student.ASTRUM-DOMAIN\\AppData\\Local\\Temp\\ipykernel_12788\\443691762.py:1: FutureWarning: pandas.Float64Index is deprecated and will be removed from pandas in a future version. Use pandas.Index with the appropriate dtype instead.\n",
      "  data = pd.Float64Index([1,2,3,4])\n"
     ]
    },
    {
     "data": {
      "text/plain": "False"
     },
     "execution_count": 225,
     "metadata": {},
     "output_type": "execute_result"
    }
   ],
   "source": [
    "data = pd.Float64Index([1,2,3,4])\n",
    "data.holds_integer()"
   ],
   "metadata": {
    "collapsed": false
   }
  },
  {
   "cell_type": "code",
   "execution_count": 248,
   "outputs": [
    {
     "name": "stderr",
     "output_type": "stream",
     "text": [
      "C:\\Users\\student.ASTRUM-DOMAIN\\AppData\\Local\\Temp\\ipykernel_12788\\3420452926.py:1: FutureWarning: pandas.Float64Index is deprecated and will be removed from pandas in a future version. Use pandas.Index with the appropriate dtype instead.\n",
      "  data = pd.Float64Index([1,2,3,4])\n"
     ]
    },
    {
     "data": {
      "text/plain": "True"
     },
     "execution_count": 248,
     "metadata": {},
     "output_type": "execute_result"
    }
   ],
   "source": [
    "data = pd.Float64Index([1,2,3,4])\n",
    "data.identical(data.copy())"
   ],
   "metadata": {
    "collapsed": false
   }
  },
  {
   "cell_type": "code",
   "execution_count": 251,
   "outputs": [
    {
     "name": "stderr",
     "output_type": "stream",
     "text": [
      "C:\\Users\\student.ASTRUM-DOMAIN\\AppData\\Local\\Temp\\ipykernel_12788\\911086164.py:1: FutureWarning: pandas.Float64Index is deprecated and will be removed from pandas in a future version. Use pandas.Index with the appropriate dtype instead.\n",
      "  data = pd.Float64Index([1,2,3,4])\n"
     ]
    },
    {
     "data": {
      "text/plain": "'floating'"
     },
     "execution_count": 251,
     "metadata": {},
     "output_type": "execute_result"
    }
   ],
   "source": [
    "data = pd.Float64Index([1,2,3,4])\n",
    "data.inferred_type"
   ],
   "metadata": {
    "collapsed": false
   }
  },
  {
   "cell_type": "code",
   "execution_count": 257,
   "outputs": [
    {
     "name": "stderr",
     "output_type": "stream",
     "text": [
      "C:\\Users\\student.ASTRUM-DOMAIN\\AppData\\Local\\Temp\\ipykernel_12788\\2132730395.py:1: FutureWarning: pandas.Float64Index is deprecated and will be removed from pandas in a future version. Use pandas.Index with the appropriate dtype instead.\n",
      "  data = pd.Float64Index([1,2,3,4])\n"
     ]
    },
    {
     "data": {
      "text/plain": "Float64Index([200.0, 1.0, 100.0, 2.0, 3.0, 4.0], dtype='float64')"
     },
     "execution_count": 257,
     "metadata": {},
     "output_type": "execute_result"
    }
   ],
   "source": [
    "data = pd.Float64Index([1,2,3,4])\n",
    "data.insert(item=[200,100], loc=[0,1])"
   ],
   "metadata": {
    "collapsed": false
   }
  },
  {
   "cell_type": "code",
   "execution_count": 265,
   "outputs": [
    {
     "name": "stderr",
     "output_type": "stream",
     "text": [
      "C:\\Users\\student.ASTRUM-DOMAIN\\AppData\\Local\\Temp\\ipykernel_12788\\4182904048.py:1: FutureWarning: pandas.Float64Index is deprecated and will be removed from pandas in a future version. Use pandas.Index with the appropriate dtype instead.\n",
      "  data = pd.Float64Index([1,2,3,4])\n"
     ]
    },
    {
     "data": {
      "text/plain": "Float64Index([1.0, 2.0, 3.0, 4.0], dtype='float64')"
     },
     "execution_count": 265,
     "metadata": {},
     "output_type": "execute_result"
    }
   ],
   "source": [
    "data = pd.Float64Index([1,2,3,4])\n",
    "data.intersection(data.insert(item=[100], loc=[1]))"
   ],
   "metadata": {
    "collapsed": false
   }
  },
  {
   "cell_type": "code",
   "execution_count": 269,
   "outputs": [
    {
     "name": "stderr",
     "output_type": "stream",
     "text": [
      "C:\\Users\\student.ASTRUM-DOMAIN\\AppData\\Local\\Temp\\ipykernel_12788\\804719060.py:1: FutureWarning: pandas.Float64Index is deprecated and will be removed from pandas in a future version. Use pandas.Index with the appropriate dtype instead.\n",
      "  data = pd.Float64Index([1,2,3,4])\n"
     ]
    },
    {
     "data": {
      "text/plain": "True"
     },
     "execution_count": 269,
     "metadata": {},
     "output_type": "execute_result"
    }
   ],
   "source": [
    "data = pd.Float64Index([1,2,3,4])\n",
    "data.is_(data)"
   ],
   "metadata": {
    "collapsed": false
   }
  },
  {
   "cell_type": "code",
   "execution_count": 273,
   "outputs": [
    {
     "name": "stderr",
     "output_type": "stream",
     "text": [
      "C:\\Users\\student.ASTRUM-DOMAIN\\AppData\\Local\\Temp\\ipykernel_12788\\2203621129.py:1: FutureWarning: pandas.Float64Index is deprecated and will be removed from pandas in a future version. Use pandas.Index with the appropriate dtype instead.\n",
      "  data = pd.Float64Index([1,2,3,4])\n",
      "C:\\Users\\student.ASTRUM-DOMAIN\\AppData\\Local\\Temp\\ipykernel_12788\\2203621129.py:2: FutureWarning: Index.is_all_dates is deprecated, will be removed in a future version. check index.inferred_type instead.\n",
      "  data.is_all_dates\n"
     ]
    },
    {
     "data": {
      "text/plain": "False"
     },
     "execution_count": 273,
     "metadata": {},
     "output_type": "execute_result"
    }
   ],
   "source": [
    "data = pd.Float64Index([1,2,3,4])\n",
    "data.is_all_dates"
   ],
   "metadata": {
    "collapsed": false
   }
  },
  {
   "cell_type": "code",
   "execution_count": 276,
   "outputs": [
    {
     "name": "stderr",
     "output_type": "stream",
     "text": [
      "C:\\Users\\student.ASTRUM-DOMAIN\\AppData\\Local\\Temp\\ipykernel_12788\\9509436.py:1: FutureWarning: pandas.Float64Index is deprecated and will be removed from pandas in a future version. Use pandas.Index with the appropriate dtype instead.\n",
      "  data = pd.Float64Index([1,2,3,4, True])\n"
     ]
    },
    {
     "data": {
      "text/plain": "False"
     },
     "execution_count": 276,
     "metadata": {},
     "output_type": "execute_result"
    }
   ],
   "source": [
    "data = pd.Float64Index([1,2,3,4, True])\n",
    "data.is_boolean()"
   ],
   "metadata": {
    "collapsed": false
   }
  },
  {
   "cell_type": "code",
   "execution_count": 280,
   "outputs": [
    {
     "name": "stderr",
     "output_type": "stream",
     "text": [
      "C:\\Users\\student.ASTRUM-DOMAIN\\AppData\\Local\\Temp\\ipykernel_12788\\1116563416.py:1: FutureWarning: pandas.Float64Index is deprecated and will be removed from pandas in a future version. Use pandas.Index with the appropriate dtype instead.\n",
      "  data = pd.Float64Index([1,2,3,4])\n"
     ]
    },
    {
     "data": {
      "text/plain": "False"
     },
     "execution_count": 280,
     "metadata": {},
     "output_type": "execute_result"
    }
   ],
   "source": [
    "data = pd.Float64Index([1,2,3,4])\n",
    "data.is_categorical()"
   ],
   "metadata": {
    "collapsed": false
   }
  },
  {
   "cell_type": "code",
   "execution_count": 282,
   "outputs": [
    {
     "name": "stderr",
     "output_type": "stream",
     "text": [
      "C:\\Users\\student.ASTRUM-DOMAIN\\AppData\\Local\\Temp\\ipykernel_12788\\3734045820.py:1: FutureWarning: pandas.Float64Index is deprecated and will be removed from pandas in a future version. Use pandas.Index with the appropriate dtype instead.\n",
      "  data = pd.Float64Index([1,2,3,4])\n"
     ]
    },
    {
     "data": {
      "text/plain": "True"
     },
     "execution_count": 282,
     "metadata": {},
     "output_type": "execute_result"
    }
   ],
   "source": [
    "data = pd.Float64Index([1,2,3,4])\n",
    "data.is_floating()"
   ],
   "metadata": {
    "collapsed": false
   }
  },
  {
   "cell_type": "code",
   "execution_count": 284,
   "outputs": [
    {
     "name": "stderr",
     "output_type": "stream",
     "text": [
      "C:\\Users\\student.ASTRUM-DOMAIN\\AppData\\Local\\Temp\\ipykernel_12788\\3827211226.py:1: FutureWarning: pandas.Float64Index is deprecated and will be removed from pandas in a future version. Use pandas.Index with the appropriate dtype instead.\n",
      "  data = pd.Float64Index([1,2,3,4])\n"
     ]
    },
    {
     "data": {
      "text/plain": "False"
     },
     "execution_count": 284,
     "metadata": {},
     "output_type": "execute_result"
    }
   ],
   "source": [
    "data = pd.Float64Index([1,2,3,4])\n",
    "data.is_integer()"
   ],
   "metadata": {
    "collapsed": false
   }
  },
  {
   "cell_type": "code",
   "execution_count": 286,
   "outputs": [
    {
     "name": "stderr",
     "output_type": "stream",
     "text": [
      "C:\\Users\\student.ASTRUM-DOMAIN\\AppData\\Local\\Temp\\ipykernel_12788\\3099659121.py:1: FutureWarning: pandas.Float64Index is deprecated and will be removed from pandas in a future version. Use pandas.Index with the appropriate dtype instead.\n",
      "  data = pd.Float64Index([1,2,3,4])\n"
     ]
    },
    {
     "data": {
      "text/plain": "False"
     },
     "execution_count": 286,
     "metadata": {},
     "output_type": "execute_result"
    }
   ],
   "source": [
    "data = pd.Float64Index([1,2,3,4])\n",
    "data.is_interval()"
   ],
   "metadata": {
    "collapsed": false
   }
  },
  {
   "cell_type": "code",
   "execution_count": 289,
   "outputs": [
    {
     "name": "stderr",
     "output_type": "stream",
     "text": [
      "C:\\Users\\student.ASTRUM-DOMAIN\\AppData\\Local\\Temp\\ipykernel_12788\\1467081046.py:1: FutureWarning: pandas.Float64Index is deprecated and will be removed from pandas in a future version. Use pandas.Index with the appropriate dtype instead.\n",
      "  data = pd.Float64Index([1,2,3,4])\n",
      "C:\\Users\\student.ASTRUM-DOMAIN\\AppData\\Local\\Temp\\ipykernel_12788\\1467081046.py:2: FutureWarning: Index.is_mixed is deprecated and will be removed in a future version. Check index.inferred_type directly instead.\n",
      "  data.is_mixed()\n"
     ]
    },
    {
     "data": {
      "text/plain": "False"
     },
     "execution_count": 289,
     "metadata": {},
     "output_type": "execute_result"
    }
   ],
   "source": [
    "data = pd.Float64Index([1,2,3,4])\n",
    "data.is_mixed()"
   ],
   "metadata": {
    "collapsed": false
   }
  },
  {
   "cell_type": "code",
   "execution_count": 293,
   "outputs": [
    {
     "name": "stderr",
     "output_type": "stream",
     "text": [
      "C:\\Users\\student.ASTRUM-DOMAIN\\AppData\\Local\\Temp\\ipykernel_12788\\2733759573.py:1: FutureWarning: pandas.Float64Index is deprecated and will be removed from pandas in a future version. Use pandas.Index with the appropriate dtype instead.\n",
      "  data = pd.Float64Index([1,2,3,4])\n",
      "C:\\Users\\student.ASTRUM-DOMAIN\\AppData\\Local\\Temp\\ipykernel_12788\\2733759573.py:2: FutureWarning: is_monotonic is deprecated and will be removed in a future version. Use is_monotonic_increasing instead.\n",
      "  data.is_monotonic\n"
     ]
    },
    {
     "data": {
      "text/plain": "True"
     },
     "execution_count": 293,
     "metadata": {},
     "output_type": "execute_result"
    }
   ],
   "source": [
    "data = pd.Float64Index([1,2,3,4])\n",
    "data.is_monotonic"
   ],
   "metadata": {
    "collapsed": false
   }
  },
  {
   "cell_type": "code",
   "execution_count": 295,
   "outputs": [
    {
     "name": "stderr",
     "output_type": "stream",
     "text": [
      "C:\\Users\\student.ASTRUM-DOMAIN\\AppData\\Local\\Temp\\ipykernel_12788\\2658978187.py:1: FutureWarning: pandas.Float64Index is deprecated and will be removed from pandas in a future version. Use pandas.Index with the appropriate dtype instead.\n",
      "  data = pd.Float64Index([1,2,3,4])\n"
     ]
    },
    {
     "data": {
      "text/plain": "False"
     },
     "execution_count": 295,
     "metadata": {},
     "output_type": "execute_result"
    }
   ],
   "source": [
    "data = pd.Float64Index([1,2,3,4])\n",
    "data.is_monotonic_decreasing"
   ],
   "metadata": {
    "collapsed": false
   }
  },
  {
   "cell_type": "code",
   "execution_count": 296,
   "outputs": [
    {
     "name": "stderr",
     "output_type": "stream",
     "text": [
      "C:\\Users\\student.ASTRUM-DOMAIN\\AppData\\Local\\Temp\\ipykernel_12788\\1660759462.py:1: FutureWarning: pandas.Float64Index is deprecated and will be removed from pandas in a future version. Use pandas.Index with the appropriate dtype instead.\n",
      "  data = pd.Float64Index([1,2,3,4])\n"
     ]
    },
    {
     "data": {
      "text/plain": "True"
     },
     "execution_count": 296,
     "metadata": {},
     "output_type": "execute_result"
    }
   ],
   "source": [
    "data = pd.Float64Index([1,2,3,4])\n",
    "data.is_monotonic_increasing"
   ],
   "metadata": {
    "collapsed": false
   }
  },
  {
   "cell_type": "code",
   "execution_count": 320,
   "outputs": [
    {
     "name": "stderr",
     "output_type": "stream",
     "text": [
      "C:\\Users\\student.ASTRUM-DOMAIN\\AppData\\Local\\Temp\\ipykernel_12788\\3274451347.py:1: FutureWarning: pandas.Float64Index is deprecated and will be removed from pandas in a future version. Use pandas.Index with the appropriate dtype instead.\n",
      "  data = pd.Float64Index([1,2,3,4])\n"
     ]
    },
    {
     "data": {
      "text/plain": "True"
     },
     "execution_count": 320,
     "metadata": {},
     "output_type": "execute_result"
    }
   ],
   "source": [
    "data = pd.Float64Index([1,2,3,4])\n",
    "data.is_numeric()"
   ],
   "metadata": {
    "collapsed": false
   }
  },
  {
   "cell_type": "code",
   "execution_count": 323,
   "outputs": [
    {
     "name": "stderr",
     "output_type": "stream",
     "text": [
      "C:\\Users\\student.ASTRUM-DOMAIN\\AppData\\Local\\Temp\\ipykernel_12788\\1798633381.py:1: FutureWarning: pandas.Float64Index is deprecated and will be removed from pandas in a future version. Use pandas.Index with the appropriate dtype instead.\n",
      "  data = pd.Float64Index([1,2,3,4])\n"
     ]
    },
    {
     "data": {
      "text/plain": "False"
     },
     "execution_count": 323,
     "metadata": {},
     "output_type": "execute_result"
    }
   ],
   "source": [
    "data = pd.Float64Index([1,2,3,4])\n",
    "data.is_object()"
   ],
   "metadata": {
    "collapsed": false
   }
  },
  {
   "cell_type": "code",
   "execution_count": 327,
   "outputs": [
    {
     "name": "stderr",
     "output_type": "stream",
     "text": [
      "C:\\Users\\student.ASTRUM-DOMAIN\\AppData\\Local\\Temp\\ipykernel_12788\\895482558.py:1: FutureWarning: pandas.Float64Index is deprecated and will be removed from pandas in a future version. Use pandas.Index with the appropriate dtype instead.\n",
      "  data = pd.Float64Index([1,2,3,4])\n",
      "C:\\Users\\student.ASTRUM-DOMAIN\\AppData\\Local\\Temp\\ipykernel_12788\\895482558.py:2: FutureWarning: Index.is_type_compatible is deprecated and will be removed in a future version.\n",
      "  data.is_type_compatible(data.copy())\n"
     ]
    },
    {
     "data": {
      "text/plain": "array([False, False, False, False])"
     },
     "execution_count": 327,
     "metadata": {},
     "output_type": "execute_result"
    }
   ],
   "source": [
    "data = pd.Float64Index([1,2,3,4])\n",
    "data.is_type_compatible(data.copy())"
   ],
   "metadata": {
    "collapsed": false
   }
  },
  {
   "cell_type": "code",
   "execution_count": 331,
   "outputs": [
    {
     "name": "stderr",
     "output_type": "stream",
     "text": [
      "C:\\Users\\student.ASTRUM-DOMAIN\\AppData\\Local\\Temp\\ipykernel_12788\\1224722156.py:1: FutureWarning: pandas.Float64Index is deprecated and will be removed from pandas in a future version. Use pandas.Index with the appropriate dtype instead.\n",
      "  data = pd.Float64Index([1,2,3,4])\n"
     ]
    },
    {
     "data": {
      "text/plain": "True"
     },
     "execution_count": 331,
     "metadata": {},
     "output_type": "execute_result"
    }
   ],
   "source": [
    "data = pd.Float64Index([1,2,3,4])\n",
    "data.is_unique"
   ],
   "metadata": {
    "collapsed": false
   }
  },
  {
   "cell_type": "code",
   "execution_count": 335,
   "outputs": [
    {
     "name": "stderr",
     "output_type": "stream",
     "text": [
      "C:\\Users\\student.ASTRUM-DOMAIN\\AppData\\Local\\Temp\\ipykernel_12788\\1328147412.py:1: FutureWarning: pandas.Float64Index is deprecated and will be removed from pandas in a future version. Use pandas.Index with the appropriate dtype instead.\n",
      "  data = pd.Float64Index([1,2,3,4])\n"
     ]
    },
    {
     "data": {
      "text/plain": "array([ True,  True, False, False])"
     },
     "execution_count": 335,
     "metadata": {},
     "output_type": "execute_result"
    }
   ],
   "source": [
    "data = pd.Float64Index([1,2,3,4])\n",
    "data.isin([1,2])"
   ],
   "metadata": {
    "collapsed": false
   }
  },
  {
   "cell_type": "code",
   "execution_count": 338,
   "outputs": [
    {
     "name": "stderr",
     "output_type": "stream",
     "text": [
      "C:\\Users\\student.ASTRUM-DOMAIN\\AppData\\Local\\Temp\\ipykernel_12788\\3729063831.py:1: FutureWarning: pandas.Float64Index is deprecated and will be removed from pandas in a future version. Use pandas.Index with the appropriate dtype instead.\n",
      "  data = pd.Float64Index([1,2,3,4,np.nan])\n"
     ]
    },
    {
     "data": {
      "text/plain": "array([False, False, False, False,  True])"
     },
     "execution_count": 338,
     "metadata": {},
     "output_type": "execute_result"
    }
   ],
   "source": [
    "data = pd.Float64Index([1,2,3,4,np.nan])\n",
    "data.isna()"
   ],
   "metadata": {
    "collapsed": false
   }
  },
  {
   "cell_type": "code",
   "execution_count": 342,
   "outputs": [
    {
     "name": "stderr",
     "output_type": "stream",
     "text": [
      "C:\\Users\\student.ASTRUM-DOMAIN\\AppData\\Local\\Temp\\ipykernel_12788\\3133705779.py:1: FutureWarning: pandas.Float64Index is deprecated and will be removed from pandas in a future version. Use pandas.Index with the appropriate dtype instead.\n",
      "  data = pd.Float64Index([1,2,3,4,np.nan])\n"
     ]
    },
    {
     "data": {
      "text/plain": "array([False, False, False, False,  True])"
     },
     "execution_count": 342,
     "metadata": {},
     "output_type": "execute_result"
    }
   ],
   "source": [
    "data = pd.Float64Index([1,2,3,4,np.nan])\n",
    "data.isnull()"
   ],
   "metadata": {
    "collapsed": false
   }
  },
  {
   "cell_type": "code",
   "execution_count": 350,
   "outputs": [
    {
     "name": "stderr",
     "output_type": "stream",
     "text": [
      "C:\\Users\\student.ASTRUM-DOMAIN\\AppData\\Local\\Temp\\ipykernel_12788\\2035821869.py:1: FutureWarning: pandas.Float64Index is deprecated and will be removed from pandas in a future version. Use pandas.Index with the appropriate dtype instead.\n",
      "  data = pd.Float64Index([1,2,3,4])\n"
     ]
    },
    {
     "data": {
      "text/plain": "'\\n        Return the first element of the underlying data as a Python scalar.\\n\\n        Returns\\n        -------\\n        scalar\\n            The first element of %(klass)s.\\n\\n        Raises\\n        ------\\n        ValueError\\n            If the data is not length-1.\\n        '"
     },
     "execution_count": 350,
     "metadata": {},
     "output_type": "execute_result"
    }
   ],
   "source": [
    "data = pd.Float64Index([1,2,3,4])\n",
    "data.item.__doc__"
   ],
   "metadata": {
    "collapsed": false
   }
  },
  {
   "cell_type": "code",
   "execution_count": 354,
   "outputs": [
    {
     "name": "stderr",
     "output_type": "stream",
     "text": [
      "C:\\Users\\student.ASTRUM-DOMAIN\\AppData\\Local\\Temp\\ipykernel_12788\\3160847061.py:1: FutureWarning: pandas.Float64Index is deprecated and will be removed from pandas in a future version. Use pandas.Index with the appropriate dtype instead.\n",
      "  data = pd.Float64Index([1,2,3,4])\n"
     ]
    },
    {
     "data": {
      "text/plain": "Float64Index([1.0, 2.0, 3.0, 4.0], dtype='float64')"
     },
     "execution_count": 354,
     "metadata": {},
     "output_type": "execute_result"
    }
   ],
   "source": [
    "data = pd.Float64Index([1,2,3,4])\n",
    "data.join(data.copy())"
   ],
   "metadata": {
    "collapsed": false
   }
  },
  {
   "cell_type": "code",
   "execution_count": 359,
   "outputs": [
    {
     "name": "stderr",
     "output_type": "stream",
     "text": [
      "C:\\Users\\student.ASTRUM-DOMAIN\\AppData\\Local\\Temp\\ipykernel_12788\\196097758.py:1: FutureWarning: pandas.Float64Index is deprecated and will be removed from pandas in a future version. Use pandas.Index with the appropriate dtype instead.\n",
      "  data = pd.Float64Index([1,2,3,4])\n"
     ]
    },
    {
     "data": {
      "text/plain": "\"\\n        Map values using an input mapping or function.\\n\\n        Parameters\\n        ----------\\n        mapper : function, dict, or Series\\n            Mapping correspondence.\\n        na_action : {None, 'ignore'}\\n            If 'ignore', propagate NA values, without passing them to the\\n            mapping correspondence.\\n\\n        Returns\\n        -------\\n        applied : Union[Index, MultiIndex], inferred\\n            The output of the mapping function applied to the index.\\n            If the function returns a tuple with more than one element\\n            a MultiIndex will be returned.\\n        \""
     },
     "execution_count": 359,
     "metadata": {},
     "output_type": "execute_result"
    }
   ],
   "source": [
    "data = pd.Float64Index([1,2,3,4])\n",
    "data.map.__doc__"
   ],
   "metadata": {
    "collapsed": false
   }
  },
  {
   "cell_type": "code",
   "execution_count": 361,
   "outputs": [
    {
     "name": "stderr",
     "output_type": "stream",
     "text": [
      "C:\\Users\\student.ASTRUM-DOMAIN\\AppData\\Local\\Temp\\ipykernel_12788\\1545927332.py:1: FutureWarning: pandas.Float64Index is deprecated and will be removed from pandas in a future version. Use pandas.Index with the appropriate dtype instead.\n",
      "  data = pd.Float64Index([1,2,3,4])\n"
     ]
    },
    {
     "data": {
      "text/plain": "4.0"
     },
     "execution_count": 361,
     "metadata": {},
     "output_type": "execute_result"
    }
   ],
   "source": [
    "data = pd.Float64Index([1,2,3,4])\n",
    "data.max()"
   ],
   "metadata": {
    "collapsed": false
   }
  },
  {
   "cell_type": "code",
   "execution_count": 364,
   "outputs": [
    {
     "name": "stderr",
     "output_type": "stream",
     "text": [
      "C:\\Users\\student.ASTRUM-DOMAIN\\AppData\\Local\\Temp\\ipykernel_12788\\2569826964.py:1: FutureWarning: pandas.Float64Index is deprecated and will be removed from pandas in a future version. Use pandas.Index with the appropriate dtype instead.\n",
      "  data = pd.Float64Index([1,2,3,4])\n"
     ]
    },
    {
     "data": {
      "text/plain": "32"
     },
     "execution_count": 364,
     "metadata": {},
     "output_type": "execute_result"
    }
   ],
   "source": [
    "data = pd.Float64Index([1,2,3,4])\n",
    "data.memory_usage()"
   ],
   "metadata": {
    "collapsed": false
   }
  },
  {
   "cell_type": "code",
   "execution_count": 367,
   "outputs": [
    {
     "name": "stderr",
     "output_type": "stream",
     "text": [
      "C:\\Users\\student.ASTRUM-DOMAIN\\AppData\\Local\\Temp\\ipykernel_12788\\1646593652.py:1: FutureWarning: pandas.Float64Index is deprecated and will be removed from pandas in a future version. Use pandas.Index with the appropriate dtype instead.\n",
      "  data = pd.Float64Index([1,2,3,4])\n"
     ]
    },
    {
     "data": {
      "text/plain": "1.0"
     },
     "execution_count": 367,
     "metadata": {},
     "output_type": "execute_result"
    }
   ],
   "source": [
    "data = pd.Float64Index([1,2,3,4])\n",
    "data.min()"
   ],
   "metadata": {
    "collapsed": false
   }
  },
  {
   "cell_type": "code",
   "execution_count": 371,
   "outputs": [
    {
     "name": "stderr",
     "output_type": "stream",
     "text": [
      "C:\\Users\\student.ASTRUM-DOMAIN\\AppData\\Local\\Temp\\ipykernel_12788\\3267290616.py:1: FutureWarning: pandas.Float64Index is deprecated and will be removed from pandas in a future version. Use pandas.Index with the appropriate dtype instead.\n",
      "  data = pd.Float64Index([1,2,3,4])\n"
     ]
    }
   ],
   "source": [
    "data = pd.Float64Index([1,2,3,4])\n",
    "data.name"
   ],
   "metadata": {
    "collapsed": false
   }
  },
  {
   "cell_type": "code",
   "execution_count": 373,
   "outputs": [
    {
     "name": "stderr",
     "output_type": "stream",
     "text": [
      "C:\\Users\\student.ASTRUM-DOMAIN\\AppData\\Local\\Temp\\ipykernel_12788\\1547497068.py:1: FutureWarning: pandas.Float64Index is deprecated and will be removed from pandas in a future version. Use pandas.Index with the appropriate dtype instead.\n",
      "  data = pd.Float64Index([1,2,3,4])\n"
     ]
    },
    {
     "data": {
      "text/plain": "FrozenList([None])"
     },
     "execution_count": 373,
     "metadata": {},
     "output_type": "execute_result"
    }
   ],
   "source": [
    "data = pd.Float64Index([1,2,3,4])\n",
    "data.names"
   ],
   "metadata": {
    "collapsed": false
   }
  },
  {
   "cell_type": "code",
   "execution_count": 375,
   "outputs": [
    {
     "name": "stderr",
     "output_type": "stream",
     "text": [
      "C:\\Users\\student.ASTRUM-DOMAIN\\AppData\\Local\\Temp\\ipykernel_12788\\1420113088.py:1: FutureWarning: pandas.Float64Index is deprecated and will be removed from pandas in a future version. Use pandas.Index with the appropriate dtype instead.\n",
      "  data = pd.Float64Index([1,2,3,4])\n"
     ]
    },
    {
     "data": {
      "text/plain": "32"
     },
     "execution_count": 375,
     "metadata": {},
     "output_type": "execute_result"
    }
   ],
   "source": [
    "data = pd.Float64Index([1,2,3,4])\n",
    "data.nbytes"
   ],
   "metadata": {
    "collapsed": false
   }
  },
  {
   "cell_type": "code",
   "execution_count": 377,
   "outputs": [
    {
     "name": "stderr",
     "output_type": "stream",
     "text": [
      "C:\\Users\\student.ASTRUM-DOMAIN\\AppData\\Local\\Temp\\ipykernel_12788\\4249340297.py:1: FutureWarning: pandas.Float64Index is deprecated and will be removed from pandas in a future version. Use pandas.Index with the appropriate dtype instead.\n",
      "  data = pd.Float64Index([1,2,3,4])\n"
     ]
    },
    {
     "data": {
      "text/plain": "1"
     },
     "execution_count": 377,
     "metadata": {},
     "output_type": "execute_result"
    }
   ],
   "source": [
    "data = pd.Float64Index([1,2,3,4])\n",
    "data.ndim"
   ],
   "metadata": {
    "collapsed": false
   }
  },
  {
   "cell_type": "code",
   "execution_count": 379,
   "outputs": [
    {
     "name": "stderr",
     "output_type": "stream",
     "text": [
      "C:\\Users\\student.ASTRUM-DOMAIN\\AppData\\Local\\Temp\\ipykernel_12788\\2192072891.py:1: FutureWarning: pandas.Float64Index is deprecated and will be removed from pandas in a future version. Use pandas.Index with the appropriate dtype instead.\n",
      "  data = pd.Float64Index([1,2,3,4])\n"
     ]
    },
    {
     "data": {
      "text/plain": "1"
     },
     "execution_count": 379,
     "metadata": {},
     "output_type": "execute_result"
    }
   ],
   "source": [
    "data = pd.Float64Index([1,2,3,4])\n",
    "data.nlevels"
   ],
   "metadata": {
    "collapsed": false
   }
  },
  {
   "cell_type": "code",
   "execution_count": 383,
   "outputs": [
    {
     "name": "stderr",
     "output_type": "stream",
     "text": [
      "C:\\Users\\student.ASTRUM-DOMAIN\\AppData\\Local\\Temp\\ipykernel_12788\\1186170483.py:1: FutureWarning: pandas.Float64Index is deprecated and will be removed from pandas in a future version. Use pandas.Index with the appropriate dtype instead.\n",
      "  data = pd.Float64Index([1,2,3,4,np.nan])\n"
     ]
    },
    {
     "data": {
      "text/plain": "array([ True,  True,  True,  True, False])"
     },
     "execution_count": 383,
     "metadata": {},
     "output_type": "execute_result"
    }
   ],
   "source": [
    "data = pd.Float64Index([1,2,3,4,np.nan])\n",
    "data.notna()"
   ],
   "metadata": {
    "collapsed": false
   }
  },
  {
   "cell_type": "code",
   "execution_count": 387,
   "outputs": [
    {
     "name": "stderr",
     "output_type": "stream",
     "text": [
      "C:\\Users\\student.ASTRUM-DOMAIN\\AppData\\Local\\Temp\\ipykernel_12788\\897724771.py:1: FutureWarning: pandas.Float64Index is deprecated and will be removed from pandas in a future version. Use pandas.Index with the appropriate dtype instead.\n",
      "  data = pd.Float64Index([np.nan,1,2,3,4])\n"
     ]
    },
    {
     "data": {
      "text/plain": "array([False,  True,  True,  True,  True])"
     },
     "execution_count": 387,
     "metadata": {},
     "output_type": "execute_result"
    }
   ],
   "source": [
    "data = pd.Float64Index([np.nan,1,2,3,4])\n",
    "data.notnull()"
   ],
   "metadata": {
    "collapsed": false
   }
  },
  {
   "cell_type": "code",
   "execution_count": 389,
   "outputs": [
    {
     "name": "stderr",
     "output_type": "stream",
     "text": [
      "C:\\Users\\student.ASTRUM-DOMAIN\\AppData\\Local\\Temp\\ipykernel_12788\\1936185667.py:1: FutureWarning: pandas.Float64Index is deprecated and will be removed from pandas in a future version. Use pandas.Index with the appropriate dtype instead.\n",
      "  data = pd.Float64Index([np.nan,1,2,3,4])\n"
     ]
    },
    {
     "data": {
      "text/plain": "4"
     },
     "execution_count": 389,
     "metadata": {},
     "output_type": "execute_result"
    }
   ],
   "source": [
    "data = pd.Float64Index([np.nan,1,2,3,4])\n",
    "data.nunique()"
   ],
   "metadata": {
    "collapsed": false
   }
  },
  {
   "cell_type": "code",
   "execution_count": 425,
   "outputs": [
    {
     "name": "stderr",
     "output_type": "stream",
     "text": [
      "C:\\Users\\student.ASTRUM-DOMAIN\\AppData\\Local\\Temp\\ipykernel_12788\\2603232188.py:1: FutureWarning: pandas.Float64Index is deprecated and will be removed from pandas in a future version. Use pandas.Index with the appropriate dtype instead.\n",
      "  data = pd.Float64Index([1,2,3,4])\n"
     ]
    },
    {
     "data": {
      "text/plain": "Float64Index([1.0, 2.0, 1.0, 2.0], dtype='float64')"
     },
     "execution_count": 425,
     "metadata": {},
     "output_type": "execute_result"
    }
   ],
   "source": [
    "data = pd.Float64Index([1,2,3,4])\n",
    "data.putmask(mask=[0,1,2,3], value=[1,2])"
   ],
   "metadata": {
    "collapsed": false
   }
  },
  {
   "cell_type": "code",
   "execution_count": 429,
   "outputs": [
    {
     "name": "stderr",
     "output_type": "stream",
     "text": [
      "C:\\Users\\student.ASTRUM-DOMAIN\\AppData\\Local\\Temp\\ipykernel_12788\\2826474325.py:1: FutureWarning: pandas.Float64Index is deprecated and will be removed from pandas in a future version. Use pandas.Index with the appropriate dtype instead.\n",
      "  data = pd.Float64Index([1,2,3,4])\n",
      "C:\\Users\\student.ASTRUM-DOMAIN\\AppData\\Local\\Temp\\ipykernel_12788\\2826474325.py:2: FutureWarning: Index.ravel returning ndarray is deprecated; in a future version this will return a view on self.\n",
      "  data.ravel()\n"
     ]
    },
    {
     "data": {
      "text/plain": "array([1., 2., 3., 4.])"
     },
     "execution_count": 429,
     "metadata": {},
     "output_type": "execute_result"
    }
   ],
   "source": [
    "data = pd.Float64Index([1,2,3,4])\n",
    "data.ravel()"
   ],
   "metadata": {
    "collapsed": false
   }
  },
  {
   "cell_type": "code",
   "execution_count": 433,
   "outputs": [
    {
     "name": "stderr",
     "output_type": "stream",
     "text": [
      "C:\\Users\\student.ASTRUM-DOMAIN\\AppData\\Local\\Temp\\ipykernel_12788\\2503551554.py:1: FutureWarning: pandas.Float64Index is deprecated and will be removed from pandas in a future version. Use pandas.Index with the appropriate dtype instead.\n",
      "  data = pd.Float64Index([1,2,3,4]).to_series()\n"
     ]
    },
    {
     "data": {
      "text/plain": "1.0    1.0\n2.0    2.0\n3.0    3.0\n4.0    4.0\ndtype: float64"
     },
     "execution_count": 433,
     "metadata": {},
     "output_type": "execute_result"
    }
   ],
   "source": [
    "data = pd.Float64Index([1,2,3,4]).to_series()\n",
    "data.reindex()"
   ],
   "metadata": {
    "collapsed": false
   }
  },
  {
   "cell_type": "code",
   "execution_count": 436,
   "outputs": [
    {
     "name": "stderr",
     "output_type": "stream",
     "text": [
      "C:\\Users\\student.ASTRUM-DOMAIN\\AppData\\Local\\Temp\\ipykernel_12788\\691575693.py:1: FutureWarning: pandas.Float64Index is deprecated and will be removed from pandas in a future version. Use pandas.Index with the appropriate dtype instead.\n",
      "  data = pd.Float64Index([1,2,3,4])\n"
     ]
    },
    {
     "data": {
      "text/plain": "Float64Index([1.0, 2.0, 3.0, 4.0], dtype='float64', name='@iqrorjoncoder')"
     },
     "execution_count": 436,
     "metadata": {},
     "output_type": "execute_result"
    }
   ],
   "source": [
    "data = pd.Float64Index([1,2,3,4])\n",
    "data.rename(\"@iqrorjoncoder\")"
   ],
   "metadata": {
    "collapsed": false
   }
  },
  {
   "cell_type": "code",
   "execution_count": 438,
   "outputs": [
    {
     "name": "stderr",
     "output_type": "stream",
     "text": [
      "C:\\Users\\student.ASTRUM-DOMAIN\\AppData\\Local\\Temp\\ipykernel_12788\\3825797040.py:1: FutureWarning: pandas.Float64Index is deprecated and will be removed from pandas in a future version. Use pandas.Index with the appropriate dtype instead.\n",
      "  data = pd.Float64Index([1,2,3,4])\n"
     ]
    },
    {
     "data": {
      "text/plain": "Float64Index([1.0, 1.0, 2.0, 2.0, 3.0, 3.0, 4.0, 4.0], dtype='float64')"
     },
     "execution_count": 438,
     "metadata": {},
     "output_type": "execute_result"
    }
   ],
   "source": [
    "data = pd.Float64Index([1,2,3,4])\n",
    "data.repeat(2)"
   ],
   "metadata": {
    "collapsed": false
   }
  },
  {
   "cell_type": "code",
   "execution_count": 444,
   "outputs": [
    {
     "name": "stderr",
     "output_type": "stream",
     "text": [
      "C:\\Users\\student.ASTRUM-DOMAIN\\AppData\\Local\\Temp\\ipykernel_12788\\320066459.py:1: FutureWarning: pandas.Float64Index is deprecated and will be removed from pandas in a future version. Use pandas.Index with the appropriate dtype instead.\n",
      "  data = pd.Float64Index([1,2,3,4])\n"
     ]
    },
    {
     "data": {
      "text/plain": "array([3, 1, 0], dtype=int64)"
     },
     "execution_count": 444,
     "metadata": {},
     "output_type": "execute_result"
    }
   ],
   "source": [
    "data = pd.Float64Index([1,2,3,4])\n",
    "data.searchsorted(value=[4,2,1])"
   ],
   "metadata": {
    "collapsed": false
   }
  },
  {
   "cell_type": "code",
   "execution_count": 449,
   "outputs": [
    {
     "name": "stderr",
     "output_type": "stream",
     "text": [
      "C:\\Users\\student.ASTRUM-DOMAIN\\AppData\\Local\\Temp\\ipykernel_12788\\3461948473.py:1: FutureWarning: pandas.Float64Index is deprecated and will be removed from pandas in a future version. Use pandas.Index with the appropriate dtype instead.\n",
      "  data = pd.Float64Index([1,2,3,4])\n"
     ]
    },
    {
     "data": {
      "text/plain": "Float64Index([1.0, 2.0, 3.0, 4.0], dtype='float64', name='@iqrorjoncoder')"
     },
     "execution_count": 449,
     "metadata": {},
     "output_type": "execute_result"
    }
   ],
   "source": [
    "data = pd.Float64Index([1,2,3,4])\n",
    "data.set_names(\"@iqrorjoncoder\")"
   ],
   "metadata": {
    "collapsed": false
   }
  },
  {
   "cell_type": "code",
   "execution_count": 465,
   "outputs": [
    {
     "name": "stderr",
     "output_type": "stream",
     "text": [
      "C:\\Users\\student.ASTRUM-DOMAIN\\AppData\\Local\\Temp\\ipykernel_12788\\1936924947.py:1: FutureWarning: pandas.Float64Index is deprecated and will be removed from pandas in a future version. Use pandas.Index with the appropriate dtype instead.\n",
      "  data = pd.Float64Index([1,2,3,4])\n"
     ]
    },
    {
     "data": {
      "text/plain": "\"\\n        Fast lookup of value from 1-dimensional ndarray.\\n\\n        .. deprecated:: 1.0\\n\\n        Notes\\n        -----\\n        Only use this if you know what you're doing.\\n        \""
     },
     "execution_count": 465,
     "metadata": {},
     "output_type": "execute_result"
    }
   ],
   "source": [
    "data = pd.Float64Index([1,2,3,4])\n",
    "data.set_value.__doc__"
   ],
   "metadata": {
    "collapsed": false
   }
  },
  {
   "cell_type": "code",
   "execution_count": 467,
   "outputs": [
    {
     "name": "stderr",
     "output_type": "stream",
     "text": [
      "C:\\Users\\student.ASTRUM-DOMAIN\\AppData\\Local\\Temp\\ipykernel_12788\\1526025645.py:1: FutureWarning: pandas.Float64Index is deprecated and will be removed from pandas in a future version. Use pandas.Index with the appropriate dtype instead.\n",
      "  data = pd.Float64Index([1,2,3,4])\n"
     ]
    },
    {
     "data": {
      "text/plain": "(4,)"
     },
     "execution_count": 467,
     "metadata": {},
     "output_type": "execute_result"
    }
   ],
   "source": [
    "data = pd.Float64Index([1,2,3,4])\n",
    "data.shape"
   ],
   "metadata": {
    "collapsed": false
   }
  },
  {
   "cell_type": "code",
   "execution_count": 478,
   "outputs": [
    {
     "name": "stderr",
     "output_type": "stream",
     "text": [
      "C:\\Users\\student.ASTRUM-DOMAIN\\AppData\\Local\\Temp\\ipykernel_12788\\850290347.py:1: FutureWarning: pandas.Float64Index is deprecated and will be removed from pandas in a future version. Use pandas.Index with the appropriate dtype instead.\n",
      "  data = pd.Float64Index([1,2,23])\n"
     ]
    },
    {
     "data": {
      "text/plain": "\"\\n        Shift index by desired number of time frequency increments.\\n\\n        This method is for shifting the values of datetime-like indexes\\n        by a specified time increment a given number of times.\\n\\n        Parameters\\n        ----------\\n        periods : int, default 1\\n            Number of periods (or increments) to shift by,\\n            can be positive or negative.\\n        freq : pandas.DateOffset, pandas.Timedelta or str, optional\\n            Frequency increment to shift by.\\n            If None, the index is shifted by its own `freq` attribute.\\n            Offset aliases are valid strings, e.g., 'D', 'W', 'M' etc.\\n\\n        Returns\\n        -------\\n        pandas.Index\\n            Shifted index.\\n\\n        See Also\\n        --------\\n        Series.shift : Shift values of Series.\\n\\n        Notes\\n        -----\\n        This method is only implemented for datetime-like index classes,\\n        i.e., DatetimeIndex, PeriodIndex and TimedeltaIndex.\\n\\n        Examples\\n        --------\\n        Put the first 5 month starts of 2011 into an index.\\n\\n        >>> month_starts = pd.date_range('1/1/2011', periods=5, freq='MS')\\n        >>> month_starts\\n        DatetimeIndex(['2011-01-01', '2011-02-01', '2011-03-01', '2011-04-01',\\n                       '2011-05-01'],\\n                      dtype='datetime64[ns]', freq='MS')\\n\\n        Shift the index by 10 days.\\n\\n        >>> month_starts.shift(10, freq='D')\\n        DatetimeIndex(['2011-01-11', '2011-02-11', '2011-03-11', '2011-04-11',\\n                       '2011-05-11'],\\n                      dtype='datetime64[ns]', freq=None)\\n\\n        The default value of `freq` is the `freq` attribute of the index,\\n        which is 'MS' (month start) in this example.\\n\\n        >>> month_starts.shift(10)\\n        DatetimeIndex(['2011-11-01', '2011-12-01', '2012-01-01', '2012-02-01',\\n                       '2012-03-01'],\\n                      dtype='datetime64[ns]', freq='MS')\\n        \""
     },
     "execution_count": 478,
     "metadata": {},
     "output_type": "execute_result"
    }
   ],
   "source": [
    "data = pd.Float64Index([1,2,23])\n",
    "data.shift.__doc__"
   ],
   "metadata": {
    "collapsed": false
   }
  },
  {
   "cell_type": "code",
   "execution_count": 480,
   "outputs": [
    {
     "name": "stderr",
     "output_type": "stream",
     "text": [
      "C:\\Users\\student.ASTRUM-DOMAIN\\AppData\\Local\\Temp\\ipykernel_12788\\3518886671.py:1: FutureWarning: pandas.Float64Index is deprecated and will be removed from pandas in a future version. Use pandas.Index with the appropriate dtype instead.\n",
      "  data = pd.Float64Index([1,2,3,4])\n"
     ]
    },
    {
     "data": {
      "text/plain": "4"
     },
     "execution_count": 480,
     "metadata": {},
     "output_type": "execute_result"
    }
   ],
   "source": [
    "data = pd.Float64Index([1,2,3,4])\n",
    "data.size"
   ],
   "metadata": {
    "collapsed": false
   }
  },
  {
   "cell_type": "code",
   "execution_count": 483,
   "outputs": [
    {
     "name": "stderr",
     "output_type": "stream",
     "text": [
      "C:\\Users\\student.ASTRUM-DOMAIN\\AppData\\Local\\Temp\\ipykernel_12788\\1690094017.py:1: FutureWarning: pandas.Float64Index is deprecated and will be removed from pandas in a future version. Use pandas.Index with the appropriate dtype instead.\n",
      "  data = pd.Float64Index([1,2,3,4])\n"
     ]
    },
    {
     "data": {
      "text/plain": "slice(0, 4, None)"
     },
     "execution_count": 483,
     "metadata": {},
     "output_type": "execute_result"
    }
   ],
   "source": [
    "data = pd.Float64Index([1,2,3,4])\n",
    "data.slice_indexer()"
   ],
   "metadata": {
    "collapsed": false
   }
  },
  {
   "cell_type": "code",
   "execution_count": 486,
   "outputs": [
    {
     "name": "stderr",
     "output_type": "stream",
     "text": [
      "C:\\Users\\student.ASTRUM-DOMAIN\\AppData\\Local\\Temp\\ipykernel_12788\\2485908127.py:1: FutureWarning: pandas.Float64Index is deprecated and will be removed from pandas in a future version. Use pandas.Index with the appropriate dtype instead.\n",
      "  data = pd.Float64Index([1,2,3,4])\n"
     ]
    },
    {
     "data": {
      "text/plain": "(0, 4)"
     },
     "execution_count": 486,
     "metadata": {},
     "output_type": "execute_result"
    }
   ],
   "source": [
    "data = pd.Float64Index([1,2,3,4])\n",
    "data.slice_locs()"
   ],
   "metadata": {
    "collapsed": false
   }
  },
  {
   "cell_type": "code",
   "execution_count": 495,
   "outputs": [
    {
     "name": "stderr",
     "output_type": "stream",
     "text": [
      "C:\\Users\\student.ASTRUM-DOMAIN\\AppData\\Local\\Temp\\ipykernel_12788\\2382138229.py:1: FutureWarning: pandas.Float64Index is deprecated and will be removed from pandas in a future version. Use pandas.Index with the appropriate dtype instead.\n",
      "  data = pd.Float64Index([1,2,3,4])\n"
     ]
    },
    {
     "data": {
      "text/plain": "'\\n        Use sort_values instead.\\n        '"
     },
     "execution_count": 495,
     "metadata": {},
     "output_type": "execute_result"
    }
   ],
   "source": [
    "data = pd.Float64Index([1,2,3,4])\n",
    "data.sort.__doc__"
   ],
   "metadata": {
    "collapsed": false
   }
  },
  {
   "cell_type": "code",
   "execution_count": 499,
   "outputs": [
    {
     "name": "stderr",
     "output_type": "stream",
     "text": [
      "C:\\Users\\student.ASTRUM-DOMAIN\\AppData\\Local\\Temp\\ipykernel_12788\\1469576952.py:1: FutureWarning: pandas.Float64Index is deprecated and will be removed from pandas in a future version. Use pandas.Index with the appropriate dtype instead.\n",
      "  data = pd.Float64Index([1,2,3,4])\n"
     ]
    },
    {
     "data": {
      "text/plain": "Float64Index([4.0, 3.0, 2.0, 1.0], dtype='float64')"
     },
     "execution_count": 499,
     "metadata": {},
     "output_type": "execute_result"
    }
   ],
   "source": [
    "data = pd.Float64Index([1,2,3,4])\n",
    "data.sort_values(ascending=False)"
   ],
   "metadata": {
    "collapsed": false
   }
  },
  {
   "cell_type": "code",
   "execution_count": 502,
   "outputs": [
    {
     "name": "stderr",
     "output_type": "stream",
     "text": [
      "C:\\Users\\student.ASTRUM-DOMAIN\\AppData\\Local\\Temp\\ipykernel_12788\\465556438.py:1: FutureWarning: pandas.Float64Index is deprecated and will be removed from pandas in a future version. Use pandas.Index with the appropriate dtype instead.\n",
      "  data = pd.Float64Index([1,2,3,4])\n"
     ]
    },
    {
     "data": {
      "text/plain": "(Float64Index([4.0, 3.0, 2.0, 1.0], dtype='float64'),\n array([3, 2, 1, 0], dtype=int64))"
     },
     "execution_count": 502,
     "metadata": {},
     "output_type": "execute_result"
    }
   ],
   "source": [
    "data = pd.Float64Index([1,2,3,4])\n",
    "data.sortlevel(ascending=False)"
   ],
   "metadata": {
    "collapsed": false
   }
  },
  {
   "cell_type": "code",
   "execution_count": 514,
   "outputs": [
    {
     "name": "stderr",
     "output_type": "stream",
     "text": [
      "C:\\Users\\student.ASTRUM-DOMAIN\\AppData\\Local\\Temp\\ipykernel_12788\\2759867395.py:1: FutureWarning: pandas.Float64Index is deprecated and will be removed from pandas in a future version. Use pandas.Index with the appropriate dtype instead.\n",
      "  data = pd.Float64Index([np.nan,1,2,3,4])\n"
     ]
    }
   ],
   "source": [
    "data = pd.Float64Index([np.nan,1,2,3,4])\n",
    "data.str"
   ],
   "metadata": {
    "collapsed": false
   }
  },
  {
   "cell_type": "code",
   "execution_count": 520,
   "outputs": [
    {
     "name": "stderr",
     "output_type": "stream",
     "text": [
      "C:\\Users\\student.ASTRUM-DOMAIN\\AppData\\Local\\Temp\\ipykernel_12788\\1369228314.py:1: FutureWarning: pandas.Float64Index is deprecated and will be removed from pandas in a future version. Use pandas.Index with the appropriate dtype instead.\n",
      "  data = pd.Float64Index([np.nan,1,2,3,4])\n"
     ]
    },
    {
     "data": {
      "text/plain": "Float64Index([100.0, 200.0], dtype='float64')"
     },
     "execution_count": 520,
     "metadata": {},
     "output_type": "execute_result"
    }
   ],
   "source": [
    "data = pd.Float64Index([np.nan,1,2,3,4])\n",
    "data.symmetric_difference(data.insert([1,2], [100,200]))"
   ],
   "metadata": {
    "collapsed": false
   }
  },
  {
   "cell_type": "code",
   "execution_count": 525,
   "outputs": [
    {
     "name": "stderr",
     "output_type": "stream",
     "text": [
      "C:\\Users\\student.ASTRUM-DOMAIN\\AppData\\Local\\Temp\\ipykernel_12788\\1568992337.py:1: FutureWarning: pandas.Float64Index is deprecated and will be removed from pandas in a future version. Use pandas.Index with the appropriate dtype instead.\n",
      "  data = pd.Float64Index([np.nan,1,2,3,4])\n"
     ]
    },
    {
     "data": {
      "text/plain": "Float64Index([4.0, nan, 3.0], dtype='float64')"
     },
     "execution_count": 525,
     "metadata": {},
     "output_type": "execute_result"
    }
   ],
   "source": [
    "data = pd.Float64Index([np.nan,1,2,3,4])\n",
    "data.take([-1,0,3])"
   ],
   "metadata": {
    "collapsed": false
   }
  },
  {
   "cell_type": "code",
   "execution_count": 528,
   "outputs": [
    {
     "name": "stderr",
     "output_type": "stream",
     "text": [
      "C:\\Users\\student.ASTRUM-DOMAIN\\AppData\\Local\\Temp\\ipykernel_12788\\4011967910.py:1: FutureWarning: pandas.Float64Index is deprecated and will be removed from pandas in a future version. Use pandas.Index with the appropriate dtype instead.\n",
      "  data = pd.Float64Index([np.nan,1,2,3,4])\n"
     ]
    },
    {
     "data": {
      "text/plain": "Float64Index([nan, 1.0, 2.0, 3.0, 4.0], dtype='float64')"
     },
     "execution_count": 528,
     "metadata": {},
     "output_type": "execute_result"
    }
   ],
   "source": [
    "data = pd.Float64Index([np.nan,1,2,3,4])\n",
    "data.to_flat_index()"
   ],
   "metadata": {
    "collapsed": false
   }
  },
  {
   "cell_type": "code",
   "execution_count": 531,
   "outputs": [
    {
     "name": "stderr",
     "output_type": "stream",
     "text": [
      "C:\\Users\\student.ASTRUM-DOMAIN\\AppData\\Local\\Temp\\ipykernel_12788\\3550417001.py:1: FutureWarning: pandas.Float64Index is deprecated and will be removed from pandas in a future version. Use pandas.Index with the appropriate dtype instead.\n",
      "  data = pd.Float64Index([np.nan,1,2,3,4])\n"
     ]
    },
    {
     "data": {
      "text/plain": "       0\nNaN  NaN\n1.0  1.0\n2.0  2.0\n3.0  3.0\n4.0  4.0",
      "text/html": "<div>\n<style scoped>\n    .dataframe tbody tr th:only-of-type {\n        vertical-align: middle;\n    }\n\n    .dataframe tbody tr th {\n        vertical-align: top;\n    }\n\n    .dataframe thead th {\n        text-align: right;\n    }\n</style>\n<table border=\"1\" class=\"dataframe\">\n  <thead>\n    <tr style=\"text-align: right;\">\n      <th></th>\n      <th>0</th>\n    </tr>\n  </thead>\n  <tbody>\n    <tr>\n      <th>NaN</th>\n      <td>NaN</td>\n    </tr>\n    <tr>\n      <th>1.0</th>\n      <td>1.0</td>\n    </tr>\n    <tr>\n      <th>2.0</th>\n      <td>2.0</td>\n    </tr>\n    <tr>\n      <th>3.0</th>\n      <td>3.0</td>\n    </tr>\n    <tr>\n      <th>4.0</th>\n      <td>4.0</td>\n    </tr>\n  </tbody>\n</table>\n</div>"
     },
     "execution_count": 531,
     "metadata": {},
     "output_type": "execute_result"
    }
   ],
   "source": [
    "data = pd.Float64Index([np.nan,1,2,3,4])\n",
    "data.to_frame()"
   ],
   "metadata": {
    "collapsed": false
   }
  },
  {
   "cell_type": "code",
   "execution_count": 534,
   "outputs": [
    {
     "name": "stderr",
     "output_type": "stream",
     "text": [
      "C:\\Users\\student.ASTRUM-DOMAIN\\AppData\\Local\\Temp\\ipykernel_12788\\2321130977.py:1: FutureWarning: pandas.Float64Index is deprecated and will be removed from pandas in a future version. Use pandas.Index with the appropriate dtype instead.\n",
      "  data = pd.Float64Index([np.nan,1,2,3,4])\n"
     ]
    },
    {
     "data": {
      "text/plain": "[nan, 1.0, 2.0, 3.0, 4.0]"
     },
     "execution_count": 534,
     "metadata": {},
     "output_type": "execute_result"
    }
   ],
   "source": [
    "data = pd.Float64Index([np.nan,1,2,3,4])\n",
    "data.to_list()"
   ],
   "metadata": {
    "collapsed": false
   }
  },
  {
   "cell_type": "code",
   "execution_count": 537,
   "outputs": [
    {
     "name": "stderr",
     "output_type": "stream",
     "text": [
      "C:\\Users\\student.ASTRUM-DOMAIN\\AppData\\Local\\Temp\\ipykernel_12788\\1570506620.py:1: FutureWarning: pandas.Float64Index is deprecated and will be removed from pandas in a future version. Use pandas.Index with the appropriate dtype instead.\n",
      "  data = pd.Float64Index([np.nan,1,2,3,4])\n",
      "C:\\Users\\student.ASTRUM-DOMAIN\\AppData\\Local\\Temp\\ipykernel_12788\\1570506620.py:2: FutureWarning: The 'to_native_types' method is deprecated and will be removed in a future version. Use 'astype(str)' instead.\n",
      "  data.to_native_types()\n"
     ]
    },
    {
     "data": {
      "text/plain": "array(['', '1.0', '2.0', '3.0', '4.0'], dtype='<U3')"
     },
     "execution_count": 537,
     "metadata": {},
     "output_type": "execute_result"
    }
   ],
   "source": [
    "data = pd.Float64Index([np.nan,1,2,3,4])\n",
    "data.to_native_types()"
   ],
   "metadata": {
    "collapsed": false
   }
  },
  {
   "cell_type": "code",
   "execution_count": 545,
   "outputs": [
    {
     "name": "stderr",
     "output_type": "stream",
     "text": [
      "C:\\Users\\student.ASTRUM-DOMAIN\\AppData\\Local\\Temp\\ipykernel_12788\\2077744662.py:1: FutureWarning: pandas.Float64Index is deprecated and will be removed from pandas in a future version. Use pandas.Index with the appropriate dtype instead.\n",
      "  data = pd.Float64Index([np.nan,1,2,3,4])\n"
     ]
    },
    {
     "data": {
      "text/plain": "array([nan,  1.,  2.,  3.,  4.])"
     },
     "execution_count": 545,
     "metadata": {},
     "output_type": "execute_result"
    }
   ],
   "source": [
    "data = pd.Float64Index([np.nan,1,2,3,4])\n",
    "data.to_numpy()"
   ],
   "metadata": {
    "collapsed": false
   }
  },
  {
   "cell_type": "code",
   "execution_count": 547,
   "outputs": [
    {
     "name": "stderr",
     "output_type": "stream",
     "text": [
      "C:\\Users\\student.ASTRUM-DOMAIN\\AppData\\Local\\Temp\\ipykernel_12788\\515808355.py:1: FutureWarning: pandas.Float64Index is deprecated and will be removed from pandas in a future version. Use pandas.Index with the appropriate dtype instead.\n",
      "  data = pd.Float64Index([np.nan,1,2,3,4])\n"
     ]
    },
    {
     "data": {
      "text/plain": "NaN    NaN\n1.0    1.0\n2.0    2.0\n3.0    3.0\n4.0    4.0\ndtype: float64"
     },
     "execution_count": 547,
     "metadata": {},
     "output_type": "execute_result"
    }
   ],
   "source": [
    "data = pd.Float64Index([np.nan,1,2,3,4])\n",
    "data.to_series()"
   ],
   "metadata": {
    "collapsed": false
   }
  },
  {
   "cell_type": "code",
   "execution_count": 548,
   "outputs": [
    {
     "name": "stderr",
     "output_type": "stream",
     "text": [
      "C:\\Users\\student.ASTRUM-DOMAIN\\AppData\\Local\\Temp\\ipykernel_12788\\3102791978.py:1: FutureWarning: pandas.Float64Index is deprecated and will be removed from pandas in a future version. Use pandas.Index with the appropriate dtype instead.\n",
      "  data = pd.Float64Index([np.nan,1,2,3,4])\n"
     ]
    },
    {
     "data": {
      "text/plain": "[nan, 1.0, 2.0, 3.0, 4.0]"
     },
     "execution_count": 548,
     "metadata": {},
     "output_type": "execute_result"
    }
   ],
   "source": [
    "data = pd.Float64Index([np.nan,1,2,3,4])\n",
    "data.tolist()"
   ],
   "metadata": {
    "collapsed": false
   }
  },
  {
   "cell_type": "code",
   "execution_count": 551,
   "outputs": [
    {
     "name": "stderr",
     "output_type": "stream",
     "text": [
      "C:\\Users\\student.ASTRUM-DOMAIN\\AppData\\Local\\Temp\\ipykernel_12788\\2353959544.py:1: FutureWarning: pandas.Float64Index is deprecated and will be removed from pandas in a future version. Use pandas.Index with the appropriate dtype instead.\n",
      "  data = pd.Float64Index([np.nan,1,2,3,4])\n"
     ]
    },
    {
     "data": {
      "text/plain": "Float64Index([nan, 1.0, 2.0, 3.0, 4.0], dtype='float64')"
     },
     "execution_count": 551,
     "metadata": {},
     "output_type": "execute_result"
    }
   ],
   "source": [
    "data = pd.Float64Index([np.nan,1,2,3,4])\n",
    "data.transpose()"
   ],
   "metadata": {
    "collapsed": false
   }
  },
  {
   "cell_type": "code",
   "execution_count": 556,
   "outputs": [
    {
     "name": "stderr",
     "output_type": "stream",
     "text": [
      "C:\\Users\\student.ASTRUM-DOMAIN\\AppData\\Local\\Temp\\ipykernel_12788\\1887249492.py:1: FutureWarning: pandas.Float64Index is deprecated and will be removed from pandas in a future version. Use pandas.Index with the appropriate dtype instead.\n",
      "  data = pd.Float64Index([np.nan,1,2,3,4])\n"
     ]
    },
    {
     "data": {
      "text/plain": "Float64Index([1.0, 2.0, 3.0, 4.0, 100.0, 200.0, nan], dtype='float64')"
     },
     "execution_count": 556,
     "metadata": {},
     "output_type": "execute_result"
    }
   ],
   "source": [
    "data = pd.Float64Index([np.nan,1,2,3,4])\n",
    "data.union(data.insert([1,2], [100,200]))"
   ],
   "metadata": {
    "collapsed": false
   }
  },
  {
   "cell_type": "code",
   "execution_count": 560,
   "outputs": [
    {
     "name": "stderr",
     "output_type": "stream",
     "text": [
      "C:\\Users\\student.ASTRUM-DOMAIN\\AppData\\Local\\Temp\\ipykernel_12788\\2252132817.py:1: FutureWarning: pandas.Float64Index is deprecated and will be removed from pandas in a future version. Use pandas.Index with the appropriate dtype instead.\n",
      "  data = pd.Float64Index([np.nan,1,2,3,4,4])\n"
     ]
    },
    {
     "data": {
      "text/plain": "Float64Index([nan, 1.0, 2.0, 3.0, 4.0], dtype='float64')"
     },
     "execution_count": 560,
     "metadata": {},
     "output_type": "execute_result"
    }
   ],
   "source": [
    "data = pd.Float64Index([np.nan,1,2,3,4,4])\n",
    "data.unique()"
   ],
   "metadata": {
    "collapsed": false
   }
  },
  {
   "cell_type": "code",
   "execution_count": 567,
   "outputs": [
    {
     "name": "stderr",
     "output_type": "stream",
     "text": [
      "C:\\Users\\student.ASTRUM-DOMAIN\\AppData\\Local\\Temp\\ipykernel_12788\\1437261679.py:1: FutureWarning: pandas.Float64Index is deprecated and will be removed from pandas in a future version. Use pandas.Index with the appropriate dtype instead.\n",
      "  data = pd.Float64Index([np.nan,1,2,3,4,4])\n"
     ]
    },
    {
     "data": {
      "text/plain": "4.0    2\n1.0    1\n2.0    1\n3.0    1\ndtype: int64"
     },
     "execution_count": 567,
     "metadata": {},
     "output_type": "execute_result"
    }
   ],
   "source": [
    "data = pd.Float64Index([np.nan,1,2,3,4,4])\n",
    "data.value_counts()"
   ],
   "metadata": {
    "collapsed": false
   }
  },
  {
   "cell_type": "code",
   "execution_count": 569,
   "outputs": [
    {
     "name": "stderr",
     "output_type": "stream",
     "text": [
      "C:\\Users\\student.ASTRUM-DOMAIN\\AppData\\Local\\Temp\\ipykernel_12788\\1429866033.py:1: FutureWarning: pandas.Float64Index is deprecated and will be removed from pandas in a future version. Use pandas.Index with the appropriate dtype instead.\n",
      "  data = pd.Float64Index([np.nan,1,2,3,4,4])\n"
     ]
    },
    {
     "data": {
      "text/plain": "array([nan,  1.,  2.,  3.,  4.,  4.])"
     },
     "execution_count": 569,
     "metadata": {},
     "output_type": "execute_result"
    }
   ],
   "source": [
    "data = pd.Float64Index([np.nan,1,2,3,4,4])\n",
    "data.values"
   ],
   "metadata": {
    "collapsed": false
   }
  },
  {
   "cell_type": "code",
   "execution_count": 571,
   "outputs": [
    {
     "name": "stderr",
     "output_type": "stream",
     "text": [
      "C:\\Users\\student.ASTRUM-DOMAIN\\AppData\\Local\\Temp\\ipykernel_12788\\2951707021.py:1: FutureWarning: pandas.Float64Index is deprecated and will be removed from pandas in a future version. Use pandas.Index with the appropriate dtype instead.\n",
      "  data = pd.Float64Index([np.nan,1,2,3,4,4])\n"
     ]
    },
    {
     "data": {
      "text/plain": "Float64Index([nan, 1.0, 2.0, 3.0, 4.0, 4.0], dtype='float64')"
     },
     "execution_count": 571,
     "metadata": {},
     "output_type": "execute_result"
    }
   ],
   "source": [
    "data = pd.Float64Index([np.nan,1,2,3,4,4])\n",
    "data.view()"
   ],
   "metadata": {
    "collapsed": false
   }
  },
  {
   "cell_type": "code",
   "execution_count": 576,
   "outputs": [
    {
     "name": "stderr",
     "output_type": "stream",
     "text": [
      "C:\\Users\\student.ASTRUM-DOMAIN\\AppData\\Local\\Temp\\ipykernel_12788\\918610403.py:1: FutureWarning: pandas.Float64Index is deprecated and will be removed from pandas in a future version. Use pandas.Index with the appropriate dtype instead.\n",
      "  data = pd.Float64Index([np.nan,1,2,3,4,4])\n"
     ]
    },
    {
     "data": {
      "text/plain": "Float64Index([nan, nan, 2.0, nan, nan, nan], dtype='float64')"
     },
     "execution_count": 576,
     "metadata": {},
     "output_type": "execute_result"
    }
   ],
   "source": [
    "data = pd.Float64Index([np.nan,1,2,3,4,4])\n",
    "data.where(data==2)"
   ],
   "metadata": {
    "collapsed": false
   }
  }
 ],
 "metadata": {
  "kernelspec": {
   "display_name": "Python 3",
   "language": "python",
   "name": "python3"
  },
  "language_info": {
   "codemirror_mode": {
    "name": "ipython",
    "version": 2
   },
   "file_extension": ".py",
   "mimetype": "text/x-python",
   "name": "python",
   "nbconvert_exporter": "python",
   "pygments_lexer": "ipython2",
   "version": "2.7.6"
  }
 },
 "nbformat": 4,
 "nbformat_minor": 0
}
