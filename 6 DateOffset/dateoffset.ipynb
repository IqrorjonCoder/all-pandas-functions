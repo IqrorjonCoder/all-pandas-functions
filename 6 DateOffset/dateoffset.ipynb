{
 "cells": [
  {
   "cell_type": "code",
   "execution_count": 3,
   "metadata": {
    "collapsed": true
   },
   "outputs": [
    {
     "name": "stdout",
     "output_type": "stream",
     "text": [
      "0 apply\n",
      "1 apply_index\n",
      "2 base\n",
      "3 copy\n",
      "4 freqstr\n",
      "5 isAnchored\n",
      "6 is_anchored\n",
      "7 is_month_end\n",
      "8 is_month_start\n",
      "9 is_on_offset\n",
      "10 is_quarter_end\n",
      "11 is_quarter_start\n",
      "12 is_year_end\n",
      "13 is_year_start\n",
      "14 kwds\n",
      "15 n\n",
      "16 name\n",
      "17 nanos\n",
      "18 normalize\n",
      "19 onOffset\n",
      "20 rollback\n",
      "21 rollforward\n",
      "22 rule_code\n"
     ]
    }
   ],
   "source": [
    "import numpy as np\n",
    "import pandas as pd\n",
    "import matplotlib.pyplot as plt\n",
    "\n",
    "functions = [i for i in dir(pd.DateOffset) if i[:1] != '_']\n",
    "\n",
    "for i, v in enumerate(functions):\n",
    "    print(i, v)"
   ]
  },
  {
   "cell_type": "code",
   "execution_count": 17,
   "outputs": [
    {
     "name": "stdout",
     "output_type": "stream",
     "text": [
      "<DateOffset: years=17>\n"
     ]
    },
    {
     "data": {
      "text/plain": "Timestamp('2022-08-24 00:00:00')"
     },
     "execution_count": 17,
     "metadata": {},
     "output_type": "execute_result"
    }
   ],
   "source": [
    "date = pd.DateOffset(years=17)\n",
    "print(date)\n",
    "date = pd.Timestamp('2005-08-24') + date\n",
    "date"
   ],
   "metadata": {
    "collapsed": false
   }
  },
  {
   "cell_type": "code",
   "execution_count": 26,
   "outputs": [
    {
     "name": "stderr",
     "output_type": "stream",
     "text": [
      "C:\\Users\\student.ASTRUM-DOMAIN\\AppData\\Local\\Temp\\ipykernel_3968\\235361859.py:1: FutureWarning: DateOffset.apply is deprecated and will be removed in a future version. Use `offset + other` instead\n",
      "  date = pd.DateOffset(years=10).apply(np.datetime64('2005-01-01'))\n"
     ]
    },
    {
     "data": {
      "text/plain": "Timestamp('2015-01-01 00:00:00')"
     },
     "execution_count": 26,
     "metadata": {},
     "output_type": "execute_result"
    }
   ],
   "source": [
    "date = pd.DateOffset(years=10).apply(np.datetime64('2005-01-01'))\n",
    "date"
   ],
   "metadata": {
    "collapsed": false
   }
  },
  {
   "cell_type": "code",
   "execution_count": 33,
   "outputs": [
    {
     "name": "stderr",
     "output_type": "stream",
     "text": [
      "C:\\Users\\student.ASTRUM-DOMAIN\\AppData\\Local\\Temp\\ipykernel_3968\\173584651.py:1: FutureWarning: 'Offset.apply_index(other)' is deprecated. Use 'offset + other' instead.\n",
      "  date = pd.DateOffset(years=10).apply_index(np.datetime64('2005-01-01'))\n"
     ]
    },
    {
     "data": {
      "text/plain": "numpy.datetime64('2015-01-01')"
     },
     "execution_count": 33,
     "metadata": {},
     "output_type": "execute_result"
    }
   ],
   "source": [
    "date = pd.DateOffset(years=10).apply_index(np.datetime64('2005-01-01'))\n",
    "date"
   ],
   "metadata": {
    "collapsed": false
   }
  },
  {
   "cell_type": "code",
   "execution_count": 37,
   "outputs": [
    {
     "data": {
      "text/plain": "True"
     },
     "execution_count": 37,
     "metadata": {},
     "output_type": "execute_result"
    }
   ],
   "source": [
    "date = pd.DateOffset(years=10)\n",
    "x = date.base\n",
    "x == date"
   ],
   "metadata": {
    "collapsed": false
   }
  },
  {
   "cell_type": "code",
   "execution_count": 40,
   "outputs": [
    {
     "data": {
      "text/plain": "False"
     },
     "execution_count": 40,
     "metadata": {},
     "output_type": "execute_result"
    }
   ],
   "source": [
    "date = pd.DateOffset(years=10)\n",
    "x = date.copy()\n",
    "x == date"
   ],
   "metadata": {
    "collapsed": false
   }
  },
  {
   "cell_type": "code",
   "execution_count": 44,
   "outputs": [
    {
     "data": {
      "text/plain": "'<DateOffset: years=10>'"
     },
     "execution_count": 44,
     "metadata": {},
     "output_type": "execute_result"
    }
   ],
   "source": [
    "date = pd.DateOffset(years=10)\n",
    "date.freqstr"
   ],
   "metadata": {
    "collapsed": false
   }
  },
  {
   "cell_type": "code",
   "execution_count": 45,
   "outputs": [
    {
     "name": "stderr",
     "output_type": "stream",
     "text": [
      "C:\\Users\\student.ASTRUM-DOMAIN\\AppData\\Local\\Temp\\ipykernel_3968\\3557897176.py:2: FutureWarning: isAnchored is a deprecated, use is_anchored instead.\n",
      "  date.isAnchored()\n"
     ]
    },
    {
     "data": {
      "text/plain": "True"
     },
     "execution_count": 45,
     "metadata": {},
     "output_type": "execute_result"
    }
   ],
   "source": [
    "date = pd.DateOffset(years=10)\n",
    "date.isAnchored()"
   ],
   "metadata": {
    "collapsed": false
   }
  },
  {
   "cell_type": "code",
   "execution_count": 46,
   "outputs": [
    {
     "data": {
      "text/plain": "True"
     },
     "execution_count": 46,
     "metadata": {},
     "output_type": "execute_result"
    }
   ],
   "source": [
    "date = pd.DateOffset(years=10)\n",
    "date.is_anchored()"
   ],
   "metadata": {
    "collapsed": false
   }
  },
  {
   "cell_type": "code",
   "execution_count": 58,
   "outputs": [
    {
     "name": "stdout",
     "output_type": "stream",
     "text": [
      "True\n",
      "False\n"
     ]
    }
   ],
   "source": [
    "date = pd.DateOffset(years=10)\n",
    "print(date.is_month_end(pd.Timestamp('2005-01-31')))\n",
    "print(date.is_month_end(pd.Timestamp('2005-01-30')))"
   ],
   "metadata": {
    "collapsed": false
   }
  },
  {
   "cell_type": "code",
   "execution_count": 61,
   "outputs": [
    {
     "name": "stdout",
     "output_type": "stream",
     "text": [
      "True\n",
      "False\n"
     ]
    }
   ],
   "source": [
    "date = pd.DateOffset(years=10)\n",
    "print(date.is_month_start(pd.Timestamp('2005-01-01')))\n",
    "print(date.is_month_start(pd.Timestamp('2005-01-30')))"
   ],
   "metadata": {
    "collapsed": false
   }
  },
  {
   "cell_type": "code",
   "execution_count": 69,
   "outputs": [
    {
     "name": "stdout",
     "output_type": "stream",
     "text": [
      "True\n",
      "False\n"
     ]
    }
   ],
   "source": [
    "date = pd.Timestamp(2005, 1, 1)\n",
    "x = pd.offsets.Day(1)\n",
    "y = pd.offsets.BusinessDay(1)\n",
    "print(x.is_on_offset(date))\n",
    "print(y.is_on_offset(date))"
   ],
   "metadata": {
    "collapsed": false
   }
  },
  {
   "cell_type": "code",
   "execution_count": 119,
   "outputs": [
    {
     "name": "stdout",
     "output_type": "stream",
     "text": [
      "False\n",
      "True\n"
     ]
    },
    {
     "name": "stderr",
     "output_type": "stream",
     "text": [
      "C:\\Users\\student.ASTRUM-DOMAIN\\AppData\\Local\\Temp\\ipykernel_3968\\375813957.py:2: UserWarning: Parsing dates in DD/MM/YYYY format when dayfirst=False (the default) was specified. This may lead to inconsistently parsed dates! Specify a format to ensure consistent parsing.\n",
      "  print(x.is_quarter_start(pd.Timestamp('31/01/2022')))\n"
     ]
    }
   ],
   "source": [
    "x = pd.DateOffset()\n",
    "print(x.is_quarter_start(pd.Timestamp('31/01/2022')))\n",
    "print(x.is_quarter_start(pd.Timestamp('01/01/2022')))"
   ],
   "metadata": {
    "collapsed": false
   }
  },
  {
   "cell_type": "code",
   "execution_count": 128,
   "outputs": [
    {
     "name": "stdout",
     "output_type": "stream",
     "text": [
      "False\n",
      "True\n"
     ]
    },
    {
     "name": "stderr",
     "output_type": "stream",
     "text": [
      "C:\\Users\\student.ASTRUM-DOMAIN\\AppData\\Local\\Temp\\ipykernel_3968\\4270980164.py:3: UserWarning: Parsing dates in DD/MM/YYYY format when dayfirst=False (the default) was specified. This may lead to inconsistently parsed dates! Specify a format to ensure consistent parsing.\n",
      "  print(x.is_quarter_end(pd.Timestamp('31/12/2022')))\n"
     ]
    }
   ],
   "source": [
    "x = pd.DateOffset()\n",
    "print(x.is_quarter_end(pd.Timestamp('01/01/2022')))\n",
    "print(x.is_quarter_end(pd.Timestamp('31/12/2022')))"
   ],
   "metadata": {
    "collapsed": false
   }
  },
  {
   "cell_type": "code",
   "execution_count": 131,
   "outputs": [
    {
     "name": "stdout",
     "output_type": "stream",
     "text": [
      "False\n",
      "True\n"
     ]
    },
    {
     "name": "stderr",
     "output_type": "stream",
     "text": [
      "C:\\Users\\student.ASTRUM-DOMAIN\\AppData\\Local\\Temp\\ipykernel_3968\\1728351124.py:3: UserWarning: Parsing dates in DD/MM/YYYY format when dayfirst=False (the default) was specified. This may lead to inconsistently parsed dates! Specify a format to ensure consistent parsing.\n",
      "  print(x.is_year_end(pd.Timestamp('31/12/2022')))\n"
     ]
    }
   ],
   "source": [
    "x = pd.DateOffset()\n",
    "print(x.is_year_end(pd.Timestamp('01/01/2022')))\n",
    "print(x.is_year_end(pd.Timestamp('31/12/2022')))"
   ],
   "metadata": {
    "collapsed": false
   }
  },
  {
   "cell_type": "code",
   "execution_count": 132,
   "outputs": [
    {
     "name": "stdout",
     "output_type": "stream",
     "text": [
      "True\n",
      "False\n"
     ]
    },
    {
     "name": "stderr",
     "output_type": "stream",
     "text": [
      "C:\\Users\\student.ASTRUM-DOMAIN\\AppData\\Local\\Temp\\ipykernel_3968\\1756127481.py:3: UserWarning: Parsing dates in DD/MM/YYYY format when dayfirst=False (the default) was specified. This may lead to inconsistently parsed dates! Specify a format to ensure consistent parsing.\n",
      "  print(x.is_year_start(pd.Timestamp('31/12/2022')))\n"
     ]
    }
   ],
   "source": [
    "x = pd.DateOffset()\n",
    "print(x.is_year_start(pd.Timestamp('01/01/2022')))\n",
    "print(x.is_year_start(pd.Timestamp('31/12/2022')))"
   ],
   "metadata": {
    "collapsed": false
   }
  },
  {
   "cell_type": "code",
   "execution_count": 137,
   "outputs": [
    {
     "data": {
      "text/plain": "{'months': 3, 'days': 10, 'years': 5}"
     },
     "execution_count": 137,
     "metadata": {},
     "output_type": "execute_result"
    }
   ],
   "source": [
    "date = pd.DateOffset(days=10, months=3, years=5)\n",
    "date.kwds"
   ],
   "metadata": {
    "collapsed": false
   }
  },
  {
   "cell_type": "code",
   "execution_count": 146,
   "outputs": [
    {
     "data": {
      "text/plain": "1"
     },
     "execution_count": 146,
     "metadata": {},
     "output_type": "execute_result"
    }
   ],
   "source": [
    "date = pd.offsets.Hour()\n",
    "date.n"
   ],
   "metadata": {
    "collapsed": false
   }
  },
  {
   "cell_type": "code",
   "execution_count": 149,
   "outputs": [
    {
     "data": {
      "text/plain": "'H'"
     },
     "execution_count": 149,
     "metadata": {},
     "output_type": "execute_result"
    }
   ],
   "source": [
    "pd.offsets.Hour().name"
   ],
   "metadata": {
    "collapsed": false
   }
  },
  {
   "cell_type": "code",
   "execution_count": 159,
   "outputs": [
    {
     "name": "stdout",
     "output_type": "stream",
     "text": [
      "1000000\n",
      "1000000000\n",
      "60000000000\n"
     ]
    }
   ],
   "source": [
    "print(pd.offsets.Milli(1).nanos)\n",
    "print(pd.offsets.Second(1).nanos)\n",
    "print(pd.offsets.Minute(1).nanos)"
   ],
   "metadata": {
    "collapsed": false
   }
  },
  {
   "cell_type": "code",
   "execution_count": 162,
   "outputs": [
    {
     "name": "stdout",
     "output_type": "stream",
     "text": [
      "False\n",
      "False\n",
      "False\n"
     ]
    }
   ],
   "source": [
    "print(pd.offsets.Milli(1).normalize)\n",
    "print(pd.offsets.Second(1).normalize)\n",
    "print(pd.offsets.Minute(10).normalize)"
   ],
   "metadata": {
    "collapsed": false
   }
  },
  {
   "cell_type": "code",
   "execution_count": 175,
   "outputs": [
    {
     "data": {
      "text/plain": "<function Day.onOffset>"
     },
     "execution_count": 175,
     "metadata": {},
     "output_type": "execute_result"
    }
   ],
   "source": [
    "pd.offsets.Day(10).onOffset"
   ],
   "metadata": {
    "collapsed": false
   }
  },
  {
   "cell_type": "code",
   "execution_count": 183,
   "outputs": [
    {
     "data": {
      "text/plain": "Timestamp('2022-02-01 00:00:00')"
     },
     "execution_count": 183,
     "metadata": {},
     "output_type": "execute_result"
    }
   ],
   "source": [
    "pd.DateOffset(days=3).rollback(pd.Timestamp(2022, 2, 1))"
   ],
   "metadata": {
    "collapsed": false
   }
  },
  {
   "cell_type": "code",
   "execution_count": 184,
   "outputs": [
    {
     "data": {
      "text/plain": "Timestamp('2022-02-01 00:00:00')"
     },
     "execution_count": 184,
     "metadata": {},
     "output_type": "execute_result"
    }
   ],
   "source": [
    "pd.DateOffset(days=3).rollforward(pd.Timestamp(2022, 2, 1))"
   ],
   "metadata": {
    "collapsed": false
   }
  },
  {
   "cell_type": "code",
   "execution_count": 189,
   "outputs": [
    {
     "data": {
      "text/plain": "'D'"
     },
     "execution_count": 189,
     "metadata": {},
     "output_type": "execute_result"
    }
   ],
   "source": [
    "pd.offsets.Day(5).rule_code"
   ],
   "metadata": {
    "collapsed": false
   }
  }
 ],
 "metadata": {
  "kernelspec": {
   "display_name": "Python 3",
   "language": "python",
   "name": "python3"
  },
  "language_info": {
   "codemirror_mode": {
    "name": "ipython",
    "version": 2
   },
   "file_extension": ".py",
   "mimetype": "text/x-python",
   "name": "python",
   "nbconvert_exporter": "python",
   "pygments_lexer": "ipython2",
   "version": "2.7.6"
  }
 },
 "nbformat": 4,
 "nbformat_minor": 0
}
