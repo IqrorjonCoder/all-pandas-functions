{
 "cells": [
  {
   "cell_type": "code",
   "execution_count": 1,
   "metadata": {
    "collapsed": true
   },
   "outputs": [
    {
     "name": "stdout",
     "output_type": "stream",
     "text": [
      "0 T\n",
      "1 add_categories\n",
      "2 all\n",
      "3 any\n",
      "4 append\n",
      "5 argmax\n",
      "6 argmin\n",
      "7 argsort\n",
      "8 array\n",
      "9 as_ordered\n",
      "10 as_unordered\n",
      "11 asi8\n",
      "12 asof\n",
      "13 asof_locs\n",
      "14 astype\n",
      "15 categories\n",
      "16 codes\n",
      "17 copy\n",
      "18 delete\n",
      "19 difference\n",
      "20 drop\n",
      "21 drop_duplicates\n",
      "22 droplevel\n",
      "23 dropna\n",
      "24 dtype\n",
      "25 duplicated\n",
      "26 empty\n",
      "27 equals\n",
      "28 factorize\n",
      "29 fillna\n",
      "30 format\n",
      "31 get_indexer\n",
      "32 get_indexer_for\n",
      "33 get_indexer_non_unique\n",
      "34 get_level_values\n",
      "35 get_loc\n",
      "36 get_slice_bound\n",
      "37 get_value\n",
      "38 groupby\n",
      "39 has_duplicates\n",
      "40 hasnans\n",
      "41 holds_integer\n",
      "42 identical\n",
      "43 inferred_type\n",
      "44 insert\n",
      "45 intersection\n",
      "46 is_\n",
      "47 is_all_dates\n",
      "48 is_boolean\n",
      "49 is_categorical\n",
      "50 is_dtype_equal\n",
      "51 is_floating\n",
      "52 is_integer\n",
      "53 is_interval\n",
      "54 is_mixed\n",
      "55 is_monotonic\n",
      "56 is_monotonic_decreasing\n",
      "57 is_monotonic_increasing\n",
      "58 is_numeric\n",
      "59 is_object\n",
      "60 is_type_compatible\n",
      "61 is_unique\n",
      "62 isin\n",
      "63 isna\n",
      "64 isnull\n",
      "65 item\n",
      "66 join\n",
      "67 map\n",
      "68 max\n",
      "69 memory_usage\n",
      "70 min\n",
      "71 name\n",
      "72 names\n",
      "73 nbytes\n",
      "74 ndim\n",
      "75 nlevels\n",
      "76 notna\n",
      "77 notnull\n",
      "78 nunique\n",
      "79 ordered\n",
      "80 putmask\n",
      "81 ravel\n",
      "82 reindex\n",
      "83 remove_categories\n",
      "84 remove_unused_categories\n",
      "85 rename\n",
      "86 rename_categories\n",
      "87 reorder_categories\n",
      "88 repeat\n",
      "89 searchsorted\n",
      "90 set_categories\n",
      "91 set_names\n",
      "92 set_value\n",
      "93 shape\n",
      "94 shift\n",
      "95 size\n",
      "96 slice_indexer\n",
      "97 slice_locs\n",
      "98 sort\n",
      "99 sort_values\n",
      "100 sortlevel\n",
      "101 str\n",
      "102 symmetric_difference\n",
      "103 take\n",
      "104 take_nd\n",
      "105 to_flat_index\n",
      "106 to_frame\n",
      "107 to_list\n",
      "108 to_native_types\n",
      "109 to_numpy\n",
      "110 to_series\n",
      "111 tolist\n",
      "112 transpose\n",
      "113 union\n",
      "114 unique\n",
      "115 value_counts\n",
      "116 values\n",
      "117 view\n",
      "118 where\n"
     ]
    }
   ],
   "source": [
    "import numpy as np\n",
    "\n",
    "import pandas as pd\n",
    "\n",
    "functions = [i for i in dir(pd.CategoricalIndex) if i[:1] != '_']\n",
    "\n",
    "for i, v in enumerate(functions):\n",
    "    print(i, v)"
   ]
  },
  {
   "cell_type": "code",
   "execution_count": 3,
   "outputs": [
    {
     "data": {
      "text/plain": "CategoricalIndex([1, 2, 3, 1, 2, 4], categories=[1, 2, 3, 4], ordered=False, dtype='category')"
     },
     "execution_count": 3,
     "metadata": {},
     "output_type": "execute_result"
    }
   ],
   "source": [
    "x = pd.CategoricalIndex([1,2,3,1,2,4])\n",
    "x"
   ],
   "metadata": {
    "collapsed": false
   }
  },
  {
   "cell_type": "code",
   "execution_count": 4,
   "outputs": [
    {
     "name": "stdout",
     "output_type": "stream",
     "text": [
      "CategoricalIndex([1, 2, 3, 1, 2, 4], categories=[1, 2, 3, 4], ordered=False, dtype='category')\n"
     ]
    },
    {
     "data": {
      "text/plain": "CategoricalIndex([1, 2, 3, 1, 2, 4], categories=[1, 2, 3, 4], ordered=False, dtype='category')"
     },
     "execution_count": 4,
     "metadata": {},
     "output_type": "execute_result"
    }
   ],
   "source": [
    "print(x)\n",
    "x.T"
   ],
   "metadata": {
    "collapsed": false
   }
  },
  {
   "cell_type": "code",
   "execution_count": 8,
   "outputs": [
    {
     "name": "stdout",
     "output_type": "stream",
     "text": [
      "CategoricalIndex([1, 2, 3, 1, 2, 4], categories=[1, 2, 3, 4], ordered=False, dtype='category')\n"
     ]
    },
    {
     "data": {
      "text/plain": "CategoricalIndex([1, 2, 3, 1, 2, 4], categories=[1, 2, 3, 4, 10], ordered=False, dtype='category')"
     },
     "execution_count": 8,
     "metadata": {},
     "output_type": "execute_result"
    }
   ],
   "source": [
    "print(x)\n",
    "x.add_categories([10])"
   ],
   "metadata": {
    "collapsed": false
   }
  },
  {
   "cell_type": "code",
   "execution_count": 16,
   "outputs": [
    {
     "name": "stdout",
     "output_type": "stream",
     "text": [
      "CategoricalIndex([1, 2, 3, 1, 2, 4], categories=[1, 2, 3, 4], ordered=False, dtype='category')\n"
     ]
    },
    {
     "data": {
      "text/plain": "<bound method Index.all of CategoricalIndex([1, 2, 3, 1, 2, 4], categories=[1, 2, 3, 4], ordered=False, dtype='category')>"
     },
     "execution_count": 16,
     "metadata": {},
     "output_type": "execute_result"
    }
   ],
   "source": [
    "print(x)\n",
    "x.all"
   ],
   "metadata": {
    "collapsed": false
   }
  },
  {
   "cell_type": "code",
   "execution_count": 19,
   "outputs": [
    {
     "name": "stdout",
     "output_type": "stream",
     "text": [
      "CategoricalIndex([1, 2, 3, 1, 2, 4], categories=[1, 2, 3, 4], ordered=False, dtype='category')\n"
     ]
    },
    {
     "data": {
      "text/plain": "<bound method Index.any of CategoricalIndex([1, 2, 3, 1, 2, 4], categories=[1, 2, 3, 4], ordered=False, dtype='category')>"
     },
     "execution_count": 19,
     "metadata": {},
     "output_type": "execute_result"
    }
   ],
   "source": [
    "print(x)\n",
    "x.any"
   ],
   "metadata": {
    "collapsed": false
   }
  },
  {
   "cell_type": "code",
   "execution_count": 28,
   "outputs": [
    {
     "name": "stdout",
     "output_type": "stream",
     "text": [
      "CategoricalIndex([1, 2, 3, 1, 2, 4], categories=[1, 2, 3, 4], ordered=False, dtype='category')\n"
     ]
    },
    {
     "data": {
      "text/plain": "<bound method Index.append of CategoricalIndex([1, 2, 3, 1, 2, 4], categories=[1, 2, 3, 4], ordered=False, dtype='category')>"
     },
     "execution_count": 28,
     "metadata": {},
     "output_type": "execute_result"
    }
   ],
   "source": [
    "print(x)\n",
    "x.append"
   ],
   "metadata": {
    "collapsed": false
   }
  },
  {
   "cell_type": "code",
   "execution_count": 32,
   "outputs": [
    {
     "name": "stdout",
     "output_type": "stream",
     "text": [
      "CategoricalIndex([1, 2, 3, 1, 2, 4], categories=[1, 2, 3, 4], ordered=False, dtype='category')\n"
     ]
    },
    {
     "data": {
      "text/plain": "4"
     },
     "execution_count": 32,
     "metadata": {},
     "output_type": "execute_result"
    }
   ],
   "source": [
    "print(x)\n",
    "x[x.argmax()]"
   ],
   "metadata": {
    "collapsed": false
   }
  },
  {
   "cell_type": "code",
   "execution_count": 34,
   "outputs": [
    {
     "name": "stdout",
     "output_type": "stream",
     "text": [
      "CategoricalIndex([1, 2, 3, 1, 2, 4], categories=[1, 2, 3, 4], ordered=False, dtype='category')\n"
     ]
    },
    {
     "data": {
      "text/plain": "1"
     },
     "execution_count": 34,
     "metadata": {},
     "output_type": "execute_result"
    }
   ],
   "source": [
    "print(x)\n",
    "x[x.argmin()]"
   ],
   "metadata": {
    "collapsed": false
   }
  },
  {
   "cell_type": "code",
   "execution_count": 37,
   "outputs": [
    {
     "name": "stdout",
     "output_type": "stream",
     "text": [
      "CategoricalIndex([1, 2, 3, 1, 2, 4], categories=[1, 2, 3, 4], ordered=False, dtype='category')\n"
     ]
    },
    {
     "data": {
      "text/plain": "CategoricalIndex([1, 1, 2, 2, 3, 4], categories=[1, 2, 3, 4], ordered=False, dtype='category')"
     },
     "execution_count": 37,
     "metadata": {},
     "output_type": "execute_result"
    }
   ],
   "source": [
    "print(x)\n",
    "x[x.argsort()]"
   ],
   "metadata": {
    "collapsed": false
   }
  },
  {
   "cell_type": "code",
   "execution_count": 39,
   "outputs": [
    {
     "name": "stdout",
     "output_type": "stream",
     "text": [
      "CategoricalIndex([1, 2, 3, 1, 2, 4], categories=[1, 2, 3, 4], ordered=False, dtype='category')\n"
     ]
    },
    {
     "data": {
      "text/plain": "[1, 2, 3, 1, 2, 4]\nCategories (4, int64): [1, 2, 3, 4]"
     },
     "execution_count": 39,
     "metadata": {},
     "output_type": "execute_result"
    }
   ],
   "source": [
    "print(x)\n",
    "x.array"
   ],
   "metadata": {
    "collapsed": false
   }
  },
  {
   "cell_type": "code",
   "execution_count": 46,
   "outputs": [
    {
     "name": "stdout",
     "output_type": "stream",
     "text": [
      "CategoricalIndex([1, 2, 3, 1, 2, 4], categories=[1, 2, 3, 4], ordered=True, dtype='category')\n"
     ]
    },
    {
     "data": {
      "text/plain": "CategoricalIndex([1, 2, 3, 1, 2, 4], categories=[1, 2, 3, 4], ordered=True, dtype='category')"
     },
     "execution_count": 46,
     "metadata": {},
     "output_type": "execute_result"
    }
   ],
   "source": [
    "print(x)\n",
    "x.as_ordered()"
   ],
   "metadata": {
    "collapsed": false
   }
  },
  {
   "cell_type": "code",
   "execution_count": 48,
   "outputs": [
    {
     "name": "stdout",
     "output_type": "stream",
     "text": [
      "CategoricalIndex([1, 2, 3, 1, 2, 4], categories=[1, 2, 3, 4], ordered=True, dtype='category')\n"
     ]
    },
    {
     "data": {
      "text/plain": "CategoricalIndex([1, 2, 3, 1, 2, 4], categories=[1, 2, 3, 4], ordered=False, dtype='category')"
     },
     "execution_count": 48,
     "metadata": {},
     "output_type": "execute_result"
    }
   ],
   "source": [
    "print(x)\n",
    "x.as_unordered()"
   ],
   "metadata": {
    "collapsed": false
   }
  },
  {
   "cell_type": "code",
   "execution_count": 51,
   "outputs": [
    {
     "name": "stdout",
     "output_type": "stream",
     "text": [
      "CategoricalIndex([1, 2, 3, 1, 2, 4], categories=[1, 2, 3, 4], ordered=True, dtype='category')\n"
     ]
    },
    {
     "name": "stderr",
     "output_type": "stream",
     "text": [
      "C:\\Users\\student.ASTRUM-DOMAIN\\AppData\\Local\\Temp\\ipykernel_808\\3254979091.py:2: FutureWarning: Index.asi8 is deprecated and will be removed in a future version.\n",
      "  x.asi8\n"
     ]
    }
   ],
   "source": [
    "print(x)\n",
    "x.asi8"
   ],
   "metadata": {
    "collapsed": false
   }
  },
  {
   "cell_type": "code",
   "execution_count": 56,
   "outputs": [
    {
     "data": {
      "text/plain": "'2013-12-31'"
     },
     "execution_count": 56,
     "metadata": {},
     "output_type": "execute_result"
    }
   ],
   "source": [
    "idx = pd.Index(['2013-12-31', '2014-01-02', '2014-01-03'])\n",
    "idx.asof('2014-01-01')"
   ],
   "metadata": {
    "collapsed": false
   }
  },
  {
   "cell_type": "code",
   "execution_count": 69,
   "outputs": [
    {
     "data": {
      "text/plain": "'\\n        Return the locations (indices) of labels in the index.\\n\\n        As in the `asof` function, if the label (a particular entry in\\n        `where`) is not in the index, the latest index label up to the\\n        passed label is chosen and its index returned.\\n\\n        If all of the labels in the index are later than a label in `where`,\\n        -1 is returned.\\n\\n        `mask` is used to ignore NA values in the index during calculation.\\n\\n        Parameters\\n        ----------\\n        where : Index\\n            An Index consisting of an array of timestamps.\\n        mask : np.ndarray[bool]\\n            Array of booleans denoting where values in the original\\n            data are not NA.\\n\\n        Returns\\n        -------\\n        np.ndarray[np.intp]\\n            An array of locations (indices) of the labels from the Index\\n            which correspond to the return values of the `asof` function\\n            for every element in `where`.\\n        '"
     },
     "execution_count": 69,
     "metadata": {},
     "output_type": "execute_result"
    }
   ],
   "source": [
    "idx = pd.Index(['2013-12-31', '2014-01-02', '2014-01-03'])\n",
    "idx.asof_locs.__doc__"
   ],
   "metadata": {
    "collapsed": false
   }
  },
  {
   "cell_type": "code",
   "execution_count": 73,
   "outputs": [
    {
     "name": "stdout",
     "output_type": "stream",
     "text": [
      "CategoricalIndex([1, 2, 3, 1, 2, 4], categories=[1, 2, 3, 4], ordered=True, dtype='category')\n"
     ]
    },
    {
     "data": {
      "text/plain": "Float64Index([1.0, 2.0, 3.0, 1.0, 2.0, 4.0], dtype='float64')"
     },
     "execution_count": 73,
     "metadata": {},
     "output_type": "execute_result"
    }
   ],
   "source": [
    "import numpy as np\n",
    "print(x)\n",
    "x.astype(np.float64)"
   ],
   "metadata": {
    "collapsed": false
   }
  },
  {
   "cell_type": "code",
   "execution_count": 76,
   "outputs": [
    {
     "name": "stdout",
     "output_type": "stream",
     "text": [
      "CategoricalIndex([1, 2, 3, 1, 2, 4], categories=[1, 2, 3, 4], ordered=True, dtype='category')\n"
     ]
    },
    {
     "data": {
      "text/plain": "Int64Index([1, 2, 3, 4], dtype='int64')"
     },
     "execution_count": 76,
     "metadata": {},
     "output_type": "execute_result"
    }
   ],
   "source": [
    "print(x)\n",
    "x.categories"
   ],
   "metadata": {
    "collapsed": false
   }
  },
  {
   "cell_type": "code",
   "execution_count": 78,
   "outputs": [
    {
     "name": "stdout",
     "output_type": "stream",
     "text": [
      "CategoricalIndex([1, 2, 3, 1, 2, 4], categories=[1, 2, 3, 4], ordered=True, dtype='category')\n"
     ]
    },
    {
     "data": {
      "text/plain": "array([0, 1, 2, 0, 1, 3], dtype=int8)"
     },
     "execution_count": 78,
     "metadata": {},
     "output_type": "execute_result"
    }
   ],
   "source": [
    "print(x)\n",
    "x.codes"
   ],
   "metadata": {
    "collapsed": false
   }
  },
  {
   "cell_type": "code",
   "execution_count": 85,
   "outputs": [
    {
     "name": "stdout",
     "output_type": "stream",
     "text": [
      "CategoricalIndex([1, 2, 3, 1, 2, 4], categories=[1, 2, 3, 4], ordered=True, dtype='category')\n",
      "CategoricalIndex([1, 2, 3, 1, 2, 4], categories=[1, 2, 3, 4], ordered=True, dtype='category')\n"
     ]
    },
    {
     "data": {
      "text/plain": "array([ True,  True,  True,  True,  True,  True])"
     },
     "execution_count": 85,
     "metadata": {},
     "output_type": "execute_result"
    }
   ],
   "source": [
    "print(x)\n",
    "y = x.copy()\n",
    "print(y)\n",
    "y == x"
   ],
   "metadata": {
    "collapsed": false
   }
  },
  {
   "cell_type": "code",
   "execution_count": 88,
   "outputs": [
    {
     "name": "stdout",
     "output_type": "stream",
     "text": [
      "CategoricalIndex([1, 2, 3, 1, 2, 4], categories=[1, 2, 3, 4], ordered=True, dtype='category')\n"
     ]
    },
    {
     "data": {
      "text/plain": "CategoricalIndex([3, 1, 2], categories=[1, 2, 3, 4], ordered=True, dtype='category')"
     },
     "execution_count": 88,
     "metadata": {},
     "output_type": "execute_result"
    }
   ],
   "source": [
    "print(x)\n",
    "x.delete([-1,0,1])"
   ],
   "metadata": {
    "collapsed": false
   }
  },
  {
   "cell_type": "code",
   "execution_count": 91,
   "outputs": [
    {
     "name": "stdout",
     "output_type": "stream",
     "text": [
      "CategoricalIndex([1, 2, 3, 1, 2, 4], categories=[1, 2, 3, 4], ordered=True, dtype='category')\n"
     ]
    },
    {
     "data": {
      "text/plain": "CategoricalIndex([4], categories=[1, 2, 3, 4], ordered=True, dtype='category')"
     },
     "execution_count": 91,
     "metadata": {},
     "output_type": "execute_result"
    }
   ],
   "source": [
    "print(x)\n",
    "x.difference([1,2,3])"
   ],
   "metadata": {
    "collapsed": false
   }
  },
  {
   "cell_type": "code",
   "execution_count": 108,
   "outputs": [
    {
     "name": "stdout",
     "output_type": "stream",
     "text": [
      "CategoricalIndex([1, 2, 3, 1, 2, 4], categories=[1, 2, 3, 4], ordered=True, dtype='category')\n"
     ]
    },
    {
     "data": {
      "text/plain": "CategoricalIndex([2, 3, 2, 4], categories=[1, 2, 3, 4], ordered=True, dtype='category')"
     },
     "execution_count": 108,
     "metadata": {},
     "output_type": "execute_result"
    }
   ],
   "source": [
    "print(x)\n",
    "x.drop(labels=[1])"
   ],
   "metadata": {
    "collapsed": false
   }
  },
  {
   "cell_type": "code",
   "execution_count": 111,
   "outputs": [
    {
     "name": "stdout",
     "output_type": "stream",
     "text": [
      "CategoricalIndex([1, 2, 3, 1, 2, 4], categories=[1, 2, 3, 4], ordered=True, dtype='category')\n"
     ]
    },
    {
     "data": {
      "text/plain": "CategoricalIndex([1, 2, 3, 4], categories=[1, 2, 3, 4], ordered=True, dtype='category')"
     },
     "execution_count": 111,
     "metadata": {},
     "output_type": "execute_result"
    }
   ],
   "source": [
    "print(x)\n",
    "x.drop_duplicates()"
   ],
   "metadata": {
    "collapsed": false
   }
  },
  {
   "cell_type": "code",
   "execution_count": 120,
   "outputs": [
    {
     "name": "stdout",
     "output_type": "stream",
     "text": [
      "MultiIndex([(1, 3, 5),\n",
      "            (2, 4, 6)],\n",
      "           names=['x', 'y', 'z'])\n"
     ]
    },
    {
     "data": {
      "text/plain": "MultiIndex([(3, 5),\n            (4, 6)],\n           names=['y', 'z'])"
     },
     "execution_count": 120,
     "metadata": {},
     "output_type": "execute_result"
    }
   ],
   "source": [
    "mi = pd.MultiIndex.from_arrays([[1, 2], [3, 4], [5, 6]], names=['x', 'y', 'z'])\n",
    "print(mi)\n",
    "mi.droplevel()"
   ],
   "metadata": {
    "collapsed": false
   }
  },
  {
   "cell_type": "code",
   "execution_count": 123,
   "outputs": [
    {
     "name": "stdout",
     "output_type": "stream",
     "text": [
      "CategoricalIndex([1, 2, 3, 1, 2, nan], categories=[1, 2, 3], ordered=False, dtype='category')\n"
     ]
    },
    {
     "data": {
      "text/plain": "CategoricalIndex([1, 2, 3, 1, 2], categories=[1, 2, 3], ordered=False, dtype='category')"
     },
     "execution_count": 123,
     "metadata": {},
     "output_type": "execute_result"
    }
   ],
   "source": [
    "x = pd.CategoricalIndex([1,2,3,1,2,np.nan])\n",
    "print(x)\n",
    "x.dropna()"
   ],
   "metadata": {
    "collapsed": false
   }
  },
  {
   "cell_type": "code",
   "execution_count": 125,
   "outputs": [
    {
     "name": "stdout",
     "output_type": "stream",
     "text": [
      "CategoricalIndex([1, 2, 3, 1, 2, nan], categories=[1, 2, 3], ordered=False, dtype='category')\n"
     ]
    },
    {
     "data": {
      "text/plain": "CategoricalDtype(categories=[1, 2, 3], ordered=False)"
     },
     "execution_count": 125,
     "metadata": {},
     "output_type": "execute_result"
    }
   ],
   "source": [
    "print(x)\n",
    "x.dtype"
   ],
   "metadata": {
    "collapsed": false
   }
  },
  {
   "cell_type": "code",
   "execution_count": 128,
   "outputs": [
    {
     "name": "stdout",
     "output_type": "stream",
     "text": [
      "CategoricalIndex([1, 2, 3, 1, 2, nan], categories=[1, 2, 3], ordered=False, dtype='category')\n"
     ]
    },
    {
     "data": {
      "text/plain": "array([False, False, False,  True,  True, False])"
     },
     "execution_count": 128,
     "metadata": {},
     "output_type": "execute_result"
    }
   ],
   "source": [
    "print(x)\n",
    "x.duplicated('first')"
   ],
   "metadata": {
    "collapsed": false
   }
  },
  {
   "cell_type": "code",
   "execution_count": 130,
   "outputs": [
    {
     "name": "stdout",
     "output_type": "stream",
     "text": [
      "CategoricalIndex([1, 2, 3, 1, 2, nan], categories=[1, 2, 3], ordered=False, dtype='category')\n"
     ]
    },
    {
     "data": {
      "text/plain": "False"
     },
     "execution_count": 130,
     "metadata": {},
     "output_type": "execute_result"
    }
   ],
   "source": [
    "print(x)\n",
    "x.empty"
   ],
   "metadata": {
    "collapsed": false
   }
  },
  {
   "cell_type": "code",
   "execution_count": 138,
   "outputs": [
    {
     "name": "stdout",
     "output_type": "stream",
     "text": [
      "CategoricalIndex([1, 2, 3, 1, 2, nan], categories=[1, 2, 3], ordered=False, dtype='category')\n"
     ]
    },
    {
     "data": {
      "text/plain": "False"
     },
     "execution_count": 138,
     "metadata": {},
     "output_type": "execute_result"
    }
   ],
   "source": [
    "print(x)\n",
    "y = pd.CategoricalIndex([1,2,3,5])\n",
    "x.equals(y)"
   ],
   "metadata": {
    "collapsed": false
   }
  },
  {
   "cell_type": "code",
   "execution_count": 141,
   "outputs": [
    {
     "name": "stdout",
     "output_type": "stream",
     "text": [
      "CategoricalIndex([1, 2, 3, 1, 2, nan], categories=[1, 2, 3], ordered=False, dtype='category')\n"
     ]
    },
    {
     "data": {
      "text/plain": "(array([ 0,  1,  2,  0,  1, -1], dtype=int64),\n CategoricalIndex([1, 2, 3], categories=[1, 2, 3], ordered=False, dtype='category'))"
     },
     "execution_count": 141,
     "metadata": {},
     "output_type": "execute_result"
    }
   ],
   "source": [
    "print(x)\n",
    "x.factorize()"
   ],
   "metadata": {
    "collapsed": false
   }
  },
  {
   "cell_type": "code",
   "execution_count": 148,
   "outputs": [
    {
     "name": "stdout",
     "output_type": "stream",
     "text": [
      "CategoricalIndex([1, 2, 3, 1, 2, nan], categories=[1, 2, 3], ordered=False, dtype='category')\n"
     ]
    },
    {
     "data": {
      "text/plain": "Float64Index([1.0, 2.0, 3.0, 1.0, 2.0, 100.0], dtype='float64')"
     },
     "execution_count": 148,
     "metadata": {},
     "output_type": "execute_result"
    }
   ],
   "source": [
    "print(x)\n",
    "x.fillna(100)"
   ],
   "metadata": {
    "collapsed": false
   }
  },
  {
   "cell_type": "code",
   "execution_count": 150,
   "outputs": [
    {
     "name": "stdout",
     "output_type": "stream",
     "text": [
      "CategoricalIndex([1, 2, 3, 1, 2, nan], categories=[1, 2, 3], ordered=False, dtype='category')\n"
     ]
    },
    {
     "data": {
      "text/plain": "['1', '2', '3', '1', '2', 'NaN']"
     },
     "execution_count": 150,
     "metadata": {},
     "output_type": "execute_result"
    }
   ],
   "source": [
    "print(x)\n",
    "x.format()"
   ],
   "metadata": {
    "collapsed": false
   }
  },
  {
   "cell_type": "code",
   "execution_count": 175,
   "outputs": [
    {
     "name": "stdout",
     "output_type": "stream",
     "text": [
      "CategoricalIndex([1, 2, 3, 1, 2, nan], categories=[1, 2, 3], ordered=False, dtype='category')\n"
     ]
    },
    {
     "data": {
      "text/plain": "\"\\nCompute indexer and mask for new index given the current index.\\n\\nThe indexer should be then used as an input to ndarray.take to align the\\ncurrent data to the new index.\\n\\nParameters\\n----------\\ntarget : Index\\nmethod : {None, 'pad'/'ffill', 'backfill'/'bfill', 'nearest'}, optional\\n    * default: exact matches only.\\n    * pad / ffill: find the PREVIOUS index value if no exact match.\\n    * backfill / bfill: use NEXT index value if no exact match\\n    * nearest: use the NEAREST index value if no exact match. Tied\\n      distances are broken by preferring the larger index value.\\nlimit : int, optional\\n    Maximum number of consecutive labels in ``target`` to match for\\n    inexact matches.\\ntolerance : optional\\n    Maximum distance between original and new labels for inexact\\n    matches. The values of the index at the matching locations must\\n    satisfy the equation ``abs(index[indexer] - target) <= tolerance``.\\n\\n    Tolerance may be a scalar value, which applies the same tolerance\\n    to all values, or list-like, which applies variable tolerance per\\n    element. List-like includes list, tuple, array, Series, and must be\\n    the same size as the index and its dtype must exactly match the\\n    index's type.\\n\\nReturns\\n-------\\nindexer : np.ndarray[np.intp]\\n    Integers from 0 to n - 1 indicating that the index at these\\n    positions matches the corresponding target values. Missing values\\n    in the target are marked by -1.\\n\\nNotes\\n-----\\nReturns -1 for unmatched values, for further explanation see the\\nexample below.\\n\\nExamples\\n--------\\n>>> index = pd.Index(['c', 'a', 'b'])\\n>>> index.get_indexer(['a', 'b', 'x'])\\narray([ 1,  2, -1])\\n\\nNotice that the return value is an array of locations in ``index``\\nand ``x`` is marked by -1, as it is not in ``index``.\\n\""
     },
     "execution_count": 175,
     "metadata": {},
     "output_type": "execute_result"
    }
   ],
   "source": [
    "print(x)\n",
    "x.get_indexer.__doc__"
   ],
   "metadata": {
    "collapsed": false
   }
  },
  {
   "cell_type": "code",
   "execution_count": 163,
   "outputs": [
    {
     "name": "stdout",
     "output_type": "stream",
     "text": [
      "CategoricalIndex([1, 2, 3, 1, 2, nan], categories=[1, 2, 3], ordered=False, dtype='category')\n"
     ]
    },
    {
     "data": {
      "text/plain": "array([5], dtype=int64)"
     },
     "execution_count": 163,
     "metadata": {},
     "output_type": "execute_result"
    }
   ],
   "source": [
    "print(x)\n",
    "x.get_indexer_for([np.nan])"
   ],
   "metadata": {
    "collapsed": false
   }
  },
  {
   "cell_type": "code",
   "execution_count": 170,
   "outputs": [
    {
     "name": "stdout",
     "output_type": "stream",
     "text": [
      "CategoricalIndex([1, 2, 3, 1, 2, nan], categories=[1, 2, 3], ordered=False, dtype='category')\n"
     ]
    },
    {
     "data": {
      "text/plain": "(array([0, 3], dtype=int64), array([], dtype=int64))"
     },
     "execution_count": 170,
     "metadata": {},
     "output_type": "execute_result"
    }
   ],
   "source": [
    "print(x)\n",
    "x.get_indexer_non_unique(pd.Index([1]))"
   ],
   "metadata": {
    "collapsed": false
   }
  },
  {
   "cell_type": "code",
   "execution_count": 184,
   "outputs": [
    {
     "name": "stdout",
     "output_type": "stream",
     "text": [
      "CategoricalIndex([1, 2, 3, 1, 2, nan], categories=[1, 2, 3], ordered=False, dtype='category')\n"
     ]
    },
    {
     "data": {
      "text/plain": "CategoricalIndex([1, 2, 3, 1, 2, nan], categories=[1, 2, 3], ordered=False, dtype='category')"
     },
     "execution_count": 184,
     "metadata": {},
     "output_type": "execute_result"
    }
   ],
   "source": [
    "print(x)\n",
    "x.get_level_values(0)"
   ],
   "metadata": {
    "collapsed": false
   }
  },
  {
   "cell_type": "code",
   "execution_count": 186,
   "outputs": [
    {
     "name": "stdout",
     "output_type": "stream",
     "text": [
      "CategoricalIndex([1, 2, 3, 1, 2, nan], categories=[1, 2, 3], ordered=False, dtype='category')\n"
     ]
    },
    {
     "data": {
      "text/plain": "array([ True, False, False,  True, False, False])"
     },
     "execution_count": 186,
     "metadata": {},
     "output_type": "execute_result"
    }
   ],
   "source": [
    "print(x)\n",
    "x.get_loc(1)"
   ],
   "metadata": {
    "collapsed": false
   }
  },
  {
   "cell_type": "code",
   "execution_count": 197,
   "outputs": [
    {
     "name": "stdout",
     "output_type": "stream",
     "text": [
      "CategoricalIndex([1, 2, 3, 1, 2, nan], categories=[1, 2, 3], ordered=False, dtype='category')\n"
     ]
    },
    {
     "data": {
      "text/plain": "5"
     },
     "execution_count": 197,
     "metadata": {},
     "output_type": "execute_result"
    }
   ],
   "source": [
    "print(x)\n",
    "x.get_slice_bound(side='left', label=None)"
   ],
   "metadata": {
    "collapsed": false
   }
  },
  {
   "cell_type": "code",
   "execution_count": 212,
   "outputs": [
    {
     "name": "stdout",
     "output_type": "stream",
     "text": [
      "CategoricalIndex([1, 2, 3, 1, 2, nan], categories=[1, 2, 3], ordered=False, dtype='category')\n"
     ]
    },
    {
     "data": {
      "text/plain": "\"\\n        Fast lookup of value from 1-dimensional ndarray.\\n\\n        Only use this if you know what you're doing.\\n\\n        Returns\\n        -------\\n        scalar or Series\\n        \""
     },
     "execution_count": 212,
     "metadata": {},
     "output_type": "execute_result"
    }
   ],
   "source": [
    "print(x)\n",
    "x.get_value.__doc__"
   ],
   "metadata": {
    "collapsed": false
   }
  },
  {
   "cell_type": "code",
   "execution_count": 223,
   "outputs": [
    {
     "data": {
      "text/plain": "      b                                  \n  count mean std  min  25%  50%  75%  max\na                                        \n1   1.0  2.0 NaN  2.0  2.0  2.0  2.0  2.0",
      "text/html": "<div>\n<style scoped>\n    .dataframe tbody tr th:only-of-type {\n        vertical-align: middle;\n    }\n\n    .dataframe tbody tr th {\n        vertical-align: top;\n    }\n\n    .dataframe thead tr th {\n        text-align: left;\n    }\n\n    .dataframe thead tr:last-of-type th {\n        text-align: right;\n    }\n</style>\n<table border=\"1\" class=\"dataframe\">\n  <thead>\n    <tr>\n      <th></th>\n      <th colspan=\"8\" halign=\"left\">b</th>\n    </tr>\n    <tr>\n      <th></th>\n      <th>count</th>\n      <th>mean</th>\n      <th>std</th>\n      <th>min</th>\n      <th>25%</th>\n      <th>50%</th>\n      <th>75%</th>\n      <th>max</th>\n    </tr>\n    <tr>\n      <th>a</th>\n      <th></th>\n      <th></th>\n      <th></th>\n      <th></th>\n      <th></th>\n      <th></th>\n      <th></th>\n      <th></th>\n    </tr>\n  </thead>\n  <tbody>\n    <tr>\n      <th>1</th>\n      <td>1.0</td>\n      <td>2.0</td>\n      <td>NaN</td>\n      <td>2.0</td>\n      <td>2.0</td>\n      <td>2.0</td>\n      <td>2.0</td>\n      <td>2.0</td>\n    </tr>\n  </tbody>\n</table>\n</div>"
     },
     "execution_count": 223,
     "metadata": {},
     "output_type": "execute_result"
    }
   ],
   "source": [
    "a = pd.DataFrame({'a': [1], 'b': [2]})\n",
    "a.groupby('a').describe()"
   ],
   "metadata": {
    "collapsed": false
   }
  },
  {
   "cell_type": "code",
   "execution_count": 225,
   "outputs": [
    {
     "name": "stdout",
     "output_type": "stream",
     "text": [
      "CategoricalIndex([1, 2, 3, 1, 2, nan], categories=[1, 2, 3], ordered=False, dtype='category')\n"
     ]
    },
    {
     "data": {
      "text/plain": "True"
     },
     "execution_count": 225,
     "metadata": {},
     "output_type": "execute_result"
    }
   ],
   "source": [
    "print(x)\n",
    "x.has_duplicates"
   ],
   "metadata": {
    "collapsed": false
   }
  },
  {
   "cell_type": "code",
   "execution_count": 227,
   "outputs": [
    {
     "name": "stdout",
     "output_type": "stream",
     "text": [
      "CategoricalIndex([1, 2, 3, 1, 2, nan], categories=[1, 2, 3], ordered=False, dtype='category')\n"
     ]
    },
    {
     "data": {
      "text/plain": "True"
     },
     "execution_count": 227,
     "metadata": {},
     "output_type": "execute_result"
    }
   ],
   "source": [
    "print(x)\n",
    "x.hasnans"
   ],
   "metadata": {
    "collapsed": false
   }
  },
  {
   "cell_type": "code",
   "execution_count": 229,
   "outputs": [
    {
     "name": "stdout",
     "output_type": "stream",
     "text": [
      "CategoricalIndex([1, 2, 3, 1, 2, nan], categories=[1, 2, 3], ordered=False, dtype='category')\n"
     ]
    },
    {
     "data": {
      "text/plain": "False"
     },
     "execution_count": 229,
     "metadata": {},
     "output_type": "execute_result"
    }
   ],
   "source": [
    "print(x)\n",
    "x.holds_integer()"
   ],
   "metadata": {
    "collapsed": false
   }
  },
  {
   "cell_type": "code",
   "execution_count": 235,
   "outputs": [
    {
     "name": "stdout",
     "output_type": "stream",
     "text": [
      "CategoricalIndex([1, 2, 3, 1, 2, nan], categories=[1, 2, 3], ordered=False, dtype='category')\n"
     ]
    },
    {
     "data": {
      "text/plain": "False"
     },
     "execution_count": 235,
     "metadata": {},
     "output_type": "execute_result"
    }
   ],
   "source": [
    "print(x)\n",
    "x.identical(1)"
   ],
   "metadata": {
    "collapsed": false
   }
  },
  {
   "cell_type": "code",
   "execution_count": 237,
   "outputs": [
    {
     "name": "stdout",
     "output_type": "stream",
     "text": [
      "CategoricalIndex([1, 2, 3, 1, 2, nan], categories=[1, 2, 3], ordered=False, dtype='category')\n"
     ]
    },
    {
     "data": {
      "text/plain": "'categorical'"
     },
     "execution_count": 237,
     "metadata": {},
     "output_type": "execute_result"
    }
   ],
   "source": [
    "print(x)\n",
    "x.inferred_type"
   ],
   "metadata": {
    "collapsed": false
   }
  },
  {
   "cell_type": "code",
   "execution_count": 240,
   "outputs": [
    {
     "name": "stdout",
     "output_type": "stream",
     "text": [
      "CategoricalIndex([1, 2, 3, 1, 2, nan], categories=[1, 2, 3], ordered=False, dtype='category')\n"
     ]
    },
    {
     "data": {
      "text/plain": "Float64Index([1.0, 2.0, 3.0, 1.0, 2.0, 10.0, nan], dtype='float64')"
     },
     "execution_count": 240,
     "metadata": {},
     "output_type": "execute_result"
    }
   ],
   "source": [
    "print(x)\n",
    "x.insert(-1, 10)"
   ],
   "metadata": {
    "collapsed": false
   }
  },
  {
   "cell_type": "code",
   "execution_count": 243,
   "outputs": [
    {
     "name": "stdout",
     "output_type": "stream",
     "text": [
      "CategoricalIndex([1, 2, 3, 1, 2, nan], categories=[1, 2, 3], ordered=False, dtype='category')\n"
     ]
    },
    {
     "data": {
      "text/plain": "Float64Index([3.0], dtype='float64')"
     },
     "execution_count": 243,
     "metadata": {},
     "output_type": "execute_result"
    }
   ],
   "source": [
    "print(x)\n",
    "x.intersection([9,8,7,6,5,3])"
   ],
   "metadata": {
    "collapsed": false
   }
  },
  {
   "cell_type": "code",
   "execution_count": 249,
   "outputs": [
    {
     "name": "stdout",
     "output_type": "stream",
     "text": [
      "CategoricalIndex([1, 2, 3, 1, 2, nan], categories=[1, 2, 3], ordered=False, dtype='category')\n"
     ]
    },
    {
     "data": {
      "text/plain": "False"
     },
     "execution_count": 249,
     "metadata": {},
     "output_type": "execute_result"
    }
   ],
   "source": [
    "print(x)\n",
    "x.is_(np.nan)"
   ],
   "metadata": {
    "collapsed": false
   }
  },
  {
   "cell_type": "code",
   "execution_count": 251,
   "outputs": [
    {
     "name": "stdout",
     "output_type": "stream",
     "text": [
      "CategoricalIndex([1, 2, 3, 1, 2, nan], categories=[1, 2, 3], ordered=False, dtype='category')\n"
     ]
    },
    {
     "data": {
      "text/plain": "False"
     },
     "execution_count": 251,
     "metadata": {},
     "output_type": "execute_result"
    }
   ],
   "source": [
    "print(x)\n",
    "x.is_all_dates"
   ],
   "metadata": {
    "collapsed": false
   }
  },
  {
   "cell_type": "code",
   "execution_count": 253,
   "outputs": [
    {
     "name": "stdout",
     "output_type": "stream",
     "text": [
      "CategoricalIndex([1, 2, 3, 1, 2, nan], categories=[1, 2, 3], ordered=False, dtype='category')\n"
     ]
    },
    {
     "data": {
      "text/plain": "False"
     },
     "execution_count": 253,
     "metadata": {},
     "output_type": "execute_result"
    }
   ],
   "source": [
    "print(x)\n",
    "x.is_boolean()"
   ],
   "metadata": {
    "collapsed": false
   }
  },
  {
   "cell_type": "code",
   "execution_count": 255,
   "outputs": [
    {
     "name": "stdout",
     "output_type": "stream",
     "text": [
      "CategoricalIndex([1, 2, 3, 1, 2, nan], categories=[1, 2, 3], ordered=False, dtype='category')\n"
     ]
    },
    {
     "data": {
      "text/plain": "True"
     },
     "execution_count": 255,
     "metadata": {},
     "output_type": "execute_result"
    }
   ],
   "source": [
    "print(x)\n",
    "x.is_categorical()"
   ],
   "metadata": {
    "collapsed": false
   }
  },
  {
   "cell_type": "code",
   "execution_count": 259,
   "outputs": [
    {
     "name": "stdout",
     "output_type": "stream",
     "text": [
      "CategoricalIndex([1, 2, 3, 1, 2, nan], categories=[1, 2, 3], ordered=False, dtype='category')\n"
     ]
    },
    {
     "name": "stderr",
     "output_type": "stream",
     "text": [
      "C:\\Users\\student.ASTRUM-DOMAIN\\AppData\\Local\\Temp\\ipykernel_808\\191053426.py:2: FutureWarning: Categorical.is_dtype_equal is deprecated and will be removed in a future version\n",
      "  x.is_dtype_equal(np.int64)\n"
     ]
    },
    {
     "data": {
      "text/plain": "False"
     },
     "execution_count": 259,
     "metadata": {},
     "output_type": "execute_result"
    }
   ],
   "source": [
    "print(x)\n",
    "x.is_dtype_equal(np.int64)"
   ],
   "metadata": {
    "collapsed": false
   }
  },
  {
   "cell_type": "code",
   "execution_count": 261,
   "outputs": [
    {
     "name": "stdout",
     "output_type": "stream",
     "text": [
      "CategoricalIndex([1, 2, 3, 1, 2, nan], categories=[1, 2, 3], ordered=False, dtype='category')\n"
     ]
    },
    {
     "data": {
      "text/plain": "False"
     },
     "execution_count": 261,
     "metadata": {},
     "output_type": "execute_result"
    }
   ],
   "source": [
    "print(x)\n",
    "x.is_floating()"
   ],
   "metadata": {
    "collapsed": false
   }
  },
  {
   "cell_type": "code",
   "execution_count": 263,
   "outputs": [
    {
     "name": "stdout",
     "output_type": "stream",
     "text": [
      "CategoricalIndex([1, 2, 3, 1, 2, nan], categories=[1, 2, 3], ordered=False, dtype='category')\n"
     ]
    },
    {
     "data": {
      "text/plain": "False"
     },
     "execution_count": 263,
     "metadata": {},
     "output_type": "execute_result"
    }
   ],
   "source": [
    "print(x)\n",
    "x.is_integer()"
   ],
   "metadata": {
    "collapsed": false
   }
  },
  {
   "cell_type": "code",
   "execution_count": 264,
   "outputs": [
    {
     "name": "stdout",
     "output_type": "stream",
     "text": [
      "CategoricalIndex([1, 2, 3, 1, 2, nan], categories=[1, 2, 3], ordered=False, dtype='category')\n"
     ]
    },
    {
     "data": {
      "text/plain": "False"
     },
     "execution_count": 264,
     "metadata": {},
     "output_type": "execute_result"
    }
   ],
   "source": [
    "print(x)\n",
    "x.is_interval()"
   ],
   "metadata": {
    "collapsed": false
   }
  },
  {
   "cell_type": "code",
   "execution_count": 266,
   "outputs": [
    {
     "name": "stdout",
     "output_type": "stream",
     "text": [
      "CategoricalIndex([1, 2, 3, 1, 2, nan], categories=[1, 2, 3], ordered=False, dtype='category')\n"
     ]
    },
    {
     "name": "stderr",
     "output_type": "stream",
     "text": [
      "C:\\Users\\student.ASTRUM-DOMAIN\\AppData\\Local\\Temp\\ipykernel_808\\3281929459.py:2: FutureWarning: Index.is_mixed is deprecated and will be removed in a future version. Check index.inferred_type directly instead.\n",
      "  x.is_mixed()\n"
     ]
    },
    {
     "data": {
      "text/plain": "False"
     },
     "execution_count": 266,
     "metadata": {},
     "output_type": "execute_result"
    }
   ],
   "source": [
    "print(x)\n",
    "x.is_mixed()"
   ],
   "metadata": {
    "collapsed": false
   }
  },
  {
   "cell_type": "code",
   "execution_count": 268,
   "outputs": [
    {
     "name": "stdout",
     "output_type": "stream",
     "text": [
      "CategoricalIndex([1, 2, 3, 1, 2, nan], categories=[1, 2, 3], ordered=False, dtype='category')\n"
     ]
    },
    {
     "name": "stderr",
     "output_type": "stream",
     "text": [
      "C:\\Users\\student.ASTRUM-DOMAIN\\AppData\\Local\\Temp\\ipykernel_808\\3976452832.py:2: FutureWarning: is_monotonic is deprecated and will be removed in a future version. Use is_monotonic_increasing instead.\n",
      "  x.is_monotonic\n"
     ]
    },
    {
     "data": {
      "text/plain": "False"
     },
     "execution_count": 268,
     "metadata": {},
     "output_type": "execute_result"
    }
   ],
   "source": [
    "print(x)\n",
    "x.is_monotonic"
   ],
   "metadata": {
    "collapsed": false
   }
  },
  {
   "cell_type": "code",
   "execution_count": 270,
   "outputs": [
    {
     "name": "stdout",
     "output_type": "stream",
     "text": [
      "CategoricalIndex([1, 2, 3, 1, 2, nan], categories=[1, 2, 3], ordered=False, dtype='category')\n"
     ]
    },
    {
     "data": {
      "text/plain": "False"
     },
     "execution_count": 270,
     "metadata": {},
     "output_type": "execute_result"
    }
   ],
   "source": [
    "print(x)\n",
    "x.is_monotonic_decreasing"
   ],
   "metadata": {
    "collapsed": false
   }
  },
  {
   "cell_type": "code",
   "execution_count": 272,
   "outputs": [
    {
     "name": "stdout",
     "output_type": "stream",
     "text": [
      "CategoricalIndex([1, 2, 3, 1, 2, nan], categories=[1, 2, 3], ordered=False, dtype='category')\n"
     ]
    },
    {
     "data": {
      "text/plain": "False"
     },
     "execution_count": 272,
     "metadata": {},
     "output_type": "execute_result"
    }
   ],
   "source": [
    "print(x)\n",
    "x.is_monotonic_increasing"
   ],
   "metadata": {
    "collapsed": false
   }
  },
  {
   "cell_type": "code",
   "execution_count": 274,
   "outputs": [
    {
     "name": "stdout",
     "output_type": "stream",
     "text": [
      "CategoricalIndex([1, 2, 3, 1, 2, nan], categories=[1, 2, 3], ordered=False, dtype='category')\n"
     ]
    },
    {
     "data": {
      "text/plain": "False"
     },
     "execution_count": 274,
     "metadata": {},
     "output_type": "execute_result"
    }
   ],
   "source": [
    "print(x)\n",
    "x.is_numeric()"
   ],
   "metadata": {
    "collapsed": false
   }
  },
  {
   "cell_type": "code",
   "execution_count": 276,
   "outputs": [
    {
     "name": "stdout",
     "output_type": "stream",
     "text": [
      "CategoricalIndex([1, 2, 3, 1, 2, nan], categories=[1, 2, 3], ordered=False, dtype='category')\n"
     ]
    },
    {
     "data": {
      "text/plain": "False"
     },
     "execution_count": 276,
     "metadata": {},
     "output_type": "execute_result"
    }
   ],
   "source": [
    "print(x)\n",
    "x.is_object()"
   ],
   "metadata": {
    "collapsed": false
   }
  },
  {
   "cell_type": "code",
   "execution_count": 280,
   "outputs": [
    {
     "name": "stdout",
     "output_type": "stream",
     "text": [
      "CategoricalIndex([1, 2, 3, 1, 2, nan], categories=[1, 2, 3], ordered=False, dtype='category')\n"
     ]
    },
    {
     "name": "stderr",
     "output_type": "stream",
     "text": [
      "C:\\Users\\student.ASTRUM-DOMAIN\\AppData\\Local\\Temp\\ipykernel_808\\1936553790.py:2: FutureWarning: Index.is_type_compatible is deprecated and will be removed in a future version.\n",
      "  x.is_type_compatible(None)\n"
     ]
    },
    {
     "data": {
      "text/plain": "False"
     },
     "execution_count": 280,
     "metadata": {},
     "output_type": "execute_result"
    }
   ],
   "source": [
    "print(x)\n",
    "x.is_type_compatible(None)"
   ],
   "metadata": {
    "collapsed": false
   }
  },
  {
   "cell_type": "code",
   "execution_count": 282,
   "outputs": [
    {
     "name": "stdout",
     "output_type": "stream",
     "text": [
      "CategoricalIndex([1, 2, 3, 1, 2, nan], categories=[1, 2, 3], ordered=False, dtype='category')\n"
     ]
    },
    {
     "data": {
      "text/plain": "False"
     },
     "execution_count": 282,
     "metadata": {},
     "output_type": "execute_result"
    }
   ],
   "source": [
    "print(x)\n",
    "x.is_unique"
   ],
   "metadata": {
    "collapsed": false
   }
  },
  {
   "cell_type": "code",
   "execution_count": 286,
   "outputs": [
    {
     "name": "stdout",
     "output_type": "stream",
     "text": [
      "CategoricalIndex([1, 2, 3, 1, 2, nan], categories=[1, 2, 3], ordered=False, dtype='category')\n"
     ]
    },
    {
     "data": {
      "text/plain": "array([False, False, False, False, False,  True])"
     },
     "execution_count": 286,
     "metadata": {},
     "output_type": "execute_result"
    }
   ],
   "source": [
    "print(x)\n",
    "x.isin([np.nan])"
   ],
   "metadata": {
    "collapsed": false
   }
  },
  {
   "cell_type": "code",
   "execution_count": 288,
   "outputs": [
    {
     "name": "stdout",
     "output_type": "stream",
     "text": [
      "CategoricalIndex([1, 2, 3, 1, 2, nan], categories=[1, 2, 3], ordered=False, dtype='category')\n"
     ]
    },
    {
     "data": {
      "text/plain": "array([False, False, False, False, False,  True])"
     },
     "execution_count": 288,
     "metadata": {},
     "output_type": "execute_result"
    }
   ],
   "source": [
    "print(x)\n",
    "x.isna()"
   ],
   "metadata": {
    "collapsed": false
   }
  },
  {
   "cell_type": "code",
   "execution_count": 291,
   "outputs": [
    {
     "name": "stdout",
     "output_type": "stream",
     "text": [
      "CategoricalIndex([1, 2, 3, 1, 2, nan], categories=[1, 2, 3], ordered=False, dtype='category')\n"
     ]
    },
    {
     "data": {
      "text/plain": "array([False, False, False, False, False,  True])"
     },
     "execution_count": 291,
     "metadata": {},
     "output_type": "execute_result"
    }
   ],
   "source": [
    "print(x)\n",
    "x.isnull()"
   ],
   "metadata": {
    "collapsed": false
   }
  },
  {
   "cell_type": "code",
   "execution_count": 294,
   "outputs": [
    {
     "name": "stdout",
     "output_type": "stream",
     "text": [
      "CategoricalIndex([1, 2, 3, 1, 2, nan], categories=[1, 2, 3], ordered=False, dtype='category')\n"
     ]
    },
    {
     "data": {
      "text/plain": "'\\n        Return the first element of the underlying data as a Python scalar.\\n\\n        Returns\\n        -------\\n        scalar\\n            The first element of %(klass)s.\\n\\n        Raises\\n        ------\\n        ValueError\\n            If the data is not length-1.\\n        '"
     },
     "execution_count": 294,
     "metadata": {},
     "output_type": "execute_result"
    }
   ],
   "source": [
    "print(x)\n",
    "x.item.__doc__"
   ],
   "metadata": {
    "collapsed": false
   }
  },
  {
   "cell_type": "code",
   "execution_count": 306,
   "outputs": [
    {
     "name": "stdout",
     "output_type": "stream",
     "text": [
      "CategoricalIndex([1, 2, 3, 1, 2, nan], categories=[1, 2, 3], ordered=False, dtype='category')\n"
     ]
    },
    {
     "data": {
      "text/plain": "Float64Index([1.0, 1.0, 2.0, 2.0, 3.0, nan], dtype='float64')"
     },
     "execution_count": 306,
     "metadata": {},
     "output_type": "execute_result"
    }
   ],
   "source": [
    "print(x)\n",
    "x.join([0])"
   ],
   "metadata": {
    "collapsed": false
   }
  },
  {
   "cell_type": "code",
   "execution_count": 313,
   "outputs": [
    {
     "name": "stdout",
     "output_type": "stream",
     "text": [
      "CategoricalIndex([1, 2, 3, 1, 2, nan], categories=[1, 2, 3], ordered=False, dtype='category')\n"
     ]
    },
    {
     "data": {
      "text/plain": "CategoricalIndex([10, 20, 30, 10, 20, nan], categories=[10, 20, 30], ordered=False, dtype='category')"
     },
     "execution_count": 313,
     "metadata": {},
     "output_type": "execute_result"
    }
   ],
   "source": [
    "print(x)\n",
    "def new_f(p):\n",
    "    return p*10\n",
    "x.map(new_f)"
   ],
   "metadata": {
    "collapsed": false
   }
  },
  {
   "cell_type": "code",
   "execution_count": 320,
   "outputs": [
    {
     "name": "stdout",
     "output_type": "stream",
     "text": [
      "CategoricalIndex([1, 2, 3, 1, 2, nan], categories=[1, 2, 3], ordered=False, dtype='category')\n"
     ]
    },
    {
     "data": {
      "text/plain": "<bound method _inherit_from_data.<locals>.method of CategoricalIndex([1, 2, 3, 1, 2, nan], categories=[1, 2, 3], ordered=False, dtype='category')>"
     },
     "execution_count": 320,
     "metadata": {},
     "output_type": "execute_result"
    }
   ],
   "source": [
    "print(x)\n",
    "x.max"
   ],
   "metadata": {
    "collapsed": false
   }
  },
  {
   "cell_type": "code",
   "execution_count": 323,
   "outputs": [
    {
     "name": "stdout",
     "output_type": "stream",
     "text": [
      "CategoricalIndex([1, 2, 3, 1, 2, nan], categories=[1, 2, 3], ordered=False, dtype='category')\n"
     ]
    },
    {
     "data": {
      "text/plain": "254"
     },
     "execution_count": 323,
     "metadata": {},
     "output_type": "execute_result"
    }
   ],
   "source": [
    "print(x)\n",
    "x.memory_usage()"
   ],
   "metadata": {
    "collapsed": false
   }
  },
  {
   "cell_type": "code",
   "execution_count": 330,
   "outputs": [
    {
     "name": "stdout",
     "output_type": "stream",
     "text": [
      "CategoricalIndex([1, 2, 3, 1, 2, nan], categories=[1, 2, 3], ordered=False, dtype='category')\n"
     ]
    },
    {
     "data": {
      "text/plain": "<bound method _inherit_from_data.<locals>.method of CategoricalIndex([1, 2, 3, 1, 2, nan], categories=[1, 2, 3], ordered=False, dtype='category')>"
     },
     "execution_count": 330,
     "metadata": {},
     "output_type": "execute_result"
    }
   ],
   "source": [
    "print(x)\n",
    "x.min"
   ],
   "metadata": {
    "collapsed": false
   }
  },
  {
   "cell_type": "code",
   "execution_count": 336,
   "outputs": [
    {
     "name": "stdout",
     "output_type": "stream",
     "text": [
      "CategoricalIndex([1, 2, 3, 1, 2, nan], categories=[1, 2, 3], ordered=False, dtype='category')\n"
     ]
    }
   ],
   "source": [
    "print(x)\n",
    "x.name"
   ],
   "metadata": {
    "collapsed": false
   }
  },
  {
   "cell_type": "code",
   "execution_count": 338,
   "outputs": [
    {
     "name": "stdout",
     "output_type": "stream",
     "text": [
      "CategoricalIndex([1, 2, 3, 1, 2, nan], categories=[1, 2, 3], ordered=False, dtype='category')\n"
     ]
    },
    {
     "data": {
      "text/plain": "FrozenList([None])"
     },
     "execution_count": 338,
     "metadata": {},
     "output_type": "execute_result"
    }
   ],
   "source": [
    "print(x)\n",
    "x.names"
   ],
   "metadata": {
    "collapsed": false
   }
  },
  {
   "cell_type": "code",
   "execution_count": 340,
   "outputs": [
    {
     "name": "stdout",
     "output_type": "stream",
     "text": [
      "CategoricalIndex([1, 2, 3, 1, 2, nan], categories=[1, 2, 3], ordered=False, dtype='category')\n"
     ]
    },
    {
     "data": {
      "text/plain": "30"
     },
     "execution_count": 340,
     "metadata": {},
     "output_type": "execute_result"
    }
   ],
   "source": [
    "print(x)\n",
    "x.nbytes"
   ],
   "metadata": {
    "collapsed": false
   }
  },
  {
   "cell_type": "code",
   "execution_count": 342,
   "outputs": [
    {
     "name": "stdout",
     "output_type": "stream",
     "text": [
      "CategoricalIndex([1, 2, 3, 1, 2, nan], categories=[1, 2, 3], ordered=False, dtype='category')\n"
     ]
    },
    {
     "data": {
      "text/plain": "1"
     },
     "execution_count": 342,
     "metadata": {},
     "output_type": "execute_result"
    }
   ],
   "source": [
    "print(x)\n",
    "x.ndim"
   ],
   "metadata": {
    "collapsed": false
   }
  },
  {
   "cell_type": "code",
   "execution_count": 344,
   "outputs": [
    {
     "name": "stdout",
     "output_type": "stream",
     "text": [
      "CategoricalIndex([1, 2, 3, 1, 2, nan], categories=[1, 2, 3], ordered=False, dtype='category')\n"
     ]
    },
    {
     "data": {
      "text/plain": "1"
     },
     "execution_count": 344,
     "metadata": {},
     "output_type": "execute_result"
    }
   ],
   "source": [
    "print(x)\n",
    "x.nlevels"
   ],
   "metadata": {
    "collapsed": false
   }
  },
  {
   "cell_type": "code",
   "execution_count": 346,
   "outputs": [
    {
     "name": "stdout",
     "output_type": "stream",
     "text": [
      "CategoricalIndex([1, 2, 3, 1, 2, nan], categories=[1, 2, 3], ordered=False, dtype='category')\n"
     ]
    },
    {
     "data": {
      "text/plain": "array([ True,  True,  True,  True,  True, False])"
     },
     "execution_count": 346,
     "metadata": {},
     "output_type": "execute_result"
    }
   ],
   "source": [
    "print(x)\n",
    "x.notna()"
   ],
   "metadata": {
    "collapsed": false
   }
  },
  {
   "cell_type": "code",
   "execution_count": 349,
   "outputs": [
    {
     "name": "stdout",
     "output_type": "stream",
     "text": [
      "CategoricalIndex([1, 2, 3, 1, 2, nan], categories=[1, 2, 3], ordered=False, dtype='category')\n"
     ]
    },
    {
     "data": {
      "text/plain": "array([ True,  True,  True,  True,  True, False])"
     },
     "execution_count": 349,
     "metadata": {},
     "output_type": "execute_result"
    }
   ],
   "source": [
    "print(x)\n",
    "x.notnull()"
   ],
   "metadata": {
    "collapsed": false
   }
  },
  {
   "cell_type": "code",
   "execution_count": 350,
   "outputs": [
    {
     "name": "stdout",
     "output_type": "stream",
     "text": [
      "CategoricalIndex([1, 2, 3, 1, 2, nan], categories=[1, 2, 3], ordered=False, dtype='category')\n"
     ]
    },
    {
     "data": {
      "text/plain": "3"
     },
     "execution_count": 350,
     "metadata": {},
     "output_type": "execute_result"
    }
   ],
   "source": [
    "print(x)\n",
    "x.nunique()"
   ],
   "metadata": {
    "collapsed": false
   }
  },
  {
   "cell_type": "code",
   "execution_count": 352,
   "outputs": [
    {
     "name": "stdout",
     "output_type": "stream",
     "text": [
      "CategoricalIndex([1, 2, 3, 1, 2, nan], categories=[1, 2, 3], ordered=False, dtype='category')\n"
     ]
    },
    {
     "data": {
      "text/plain": "False"
     },
     "execution_count": 352,
     "metadata": {},
     "output_type": "execute_result"
    }
   ],
   "source": [
    "print(x)\n",
    "x.ordered"
   ],
   "metadata": {
    "collapsed": false
   }
  },
  {
   "cell_type": "code",
   "execution_count": 359,
   "outputs": [
    {
     "name": "stdout",
     "output_type": "stream",
     "text": [
      "CategoricalIndex([1, 2, 3, 1, 2, nan], categories=[1, 2, 3], ordered=False, dtype='category')\n",
      "CategoricalIndex([1, 2, 3, 1, 2, nan], categories=[1, 2, 3], ordered=False, dtype='category')\n"
     ]
    }
   ],
   "source": [
    "print(x)\n",
    "x.putmask(['a', 'b', 'c', 's', 'd', 'g'], [1,2,3,1,2,np.nan])"
   ],
   "metadata": {
    "collapsed": false
   }
  },
  {
   "cell_type": "code",
   "execution_count": 361,
   "outputs": [
    {
     "name": "stdout",
     "output_type": "stream",
     "text": [
      "CategoricalIndex([1, 2, 3, 1, 2, nan], categories=[1, 2, 3], ordered=False, dtype='category')\n"
     ]
    },
    {
     "name": "stderr",
     "output_type": "stream",
     "text": [
      "C:\\Users\\student.ASTRUM-DOMAIN\\AppData\\Local\\Temp\\ipykernel_808\\87049756.py:2: FutureWarning: Index.ravel returning ndarray is deprecated; in a future version this will return a view on self.\n",
      "  x.ravel()\n"
     ]
    },
    {
     "data": {
      "text/plain": "array([ 0,  1,  2,  0,  1, -1], dtype=int8)"
     },
     "execution_count": 361,
     "metadata": {},
     "output_type": "execute_result"
    }
   ],
   "source": [
    "print(x)\n",
    "x.ravel()"
   ],
   "metadata": {
    "collapsed": false
   }
  },
  {
   "cell_type": "code",
   "execution_count": 365,
   "outputs": [
    {
     "name": "stdout",
     "output_type": "stream",
     "text": [
      "CategoricalIndex([1, 2, 3, 1, 2, nan], categories=[1, 2, 3], ordered=False, dtype='category')\n"
     ]
    },
    {
     "name": "stderr",
     "output_type": "stream",
     "text": [
      "C:\\Users\\student.ASTRUM-DOMAIN\\AppData\\Local\\Temp\\ipykernel_808\\3305880912.py:2: FutureWarning: reindexing with a non-unique Index is deprecated and will raise in a future version.\n",
      "  x.reindex(target=pd.Index([9]))\n"
     ]
    },
    {
     "data": {
      "text/plain": "(Float64Index([nan], dtype='float64'), array([5], dtype=int64))"
     },
     "execution_count": 365,
     "metadata": {},
     "output_type": "execute_result"
    }
   ],
   "source": [
    "print(x)\n",
    "x.reindex(target=pd.Index([9]))"
   ],
   "metadata": {
    "collapsed": false
   }
  },
  {
   "cell_type": "code",
   "execution_count": 373,
   "outputs": [
    {
     "name": "stdout",
     "output_type": "stream",
     "text": [
      "CategoricalIndex([1, 2, 3, 1, 2, nan], categories=[1, 2, 3], ordered=False, dtype='category')\n"
     ]
    },
    {
     "data": {
      "text/plain": "CategoricalIndex([nan, nan, 3, nan, nan, nan], categories=[3], ordered=False, dtype='category')"
     },
     "execution_count": 373,
     "metadata": {},
     "output_type": "execute_result"
    }
   ],
   "source": [
    "print(x)\n",
    "x.remove_categories([1,2])"
   ],
   "metadata": {
    "collapsed": false
   }
  },
  {
   "cell_type": "code",
   "execution_count": 377,
   "outputs": [
    {
     "name": "stdout",
     "output_type": "stream",
     "text": [
      "CategoricalIndex([1, 2, 3, 1, 2, nan], categories=[1, 2, 3], ordered=False, dtype='category')\n"
     ]
    },
    {
     "data": {
      "text/plain": "CategoricalIndex([1, 2, 3, 1, 2, nan], categories=[1, 2, 3], ordered=False, dtype='category')"
     },
     "execution_count": 377,
     "metadata": {},
     "output_type": "execute_result"
    }
   ],
   "source": [
    "print(x)\n",
    "x.remove_unused_categories()"
   ],
   "metadata": {
    "collapsed": false
   }
  },
  {
   "cell_type": "code",
   "execution_count": 381,
   "outputs": [
    {
     "name": "stdout",
     "output_type": "stream",
     "text": [
      "CategoricalIndex([1, 2, 3, 1, 2, nan], categories=[1, 2, 3], ordered=False, dtype='category')\n"
     ]
    },
    {
     "data": {
      "text/plain": "CategoricalIndex([1, 2, 3, 1, 2, nan], categories=[1, 2, 3], ordered=False, dtype='category', name='iqrorjoncoder')"
     },
     "execution_count": 381,
     "metadata": {},
     "output_type": "execute_result"
    }
   ],
   "source": [
    "print(x)\n",
    "x.rename(\"iqrorjoncoder\")"
   ],
   "metadata": {
    "collapsed": false
   }
  },
  {
   "cell_type": "code",
   "execution_count": 393,
   "outputs": [
    {
     "name": "stdout",
     "output_type": "stream",
     "text": [
      "CategoricalIndex([1, 2, 3, 1, 2, nan], categories=[1, 2, 3], ordered=False, dtype='category')\n"
     ]
    },
    {
     "data": {
      "text/plain": "CategoricalIndex([100, 200, 300, 100, 200, nan], categories=[100, 200, 300], ordered=False, dtype='category')"
     },
     "execution_count": 393,
     "metadata": {},
     "output_type": "execute_result"
    }
   ],
   "source": [
    "print(x)\n",
    "def new_f(p):\n",
    "    return p*100\n",
    "x.rename_categories(new_f)"
   ],
   "metadata": {
    "collapsed": false
   }
  },
  {
   "cell_type": "code",
   "execution_count": 401,
   "outputs": [
    {
     "name": "stdout",
     "output_type": "stream",
     "text": [
      "CategoricalIndex([1, 2, 3, 1, 2, nan], categories=[1, 2, 3], ordered=False, dtype='category')\n"
     ]
    },
    {
     "data": {
      "text/plain": "'\\n        Reorder categories as specified in new_categories.\\n\\n        `new_categories` need to include all old categories and no new category\\n        items.\\n\\n        Parameters\\n        ----------\\n        new_categories : Index-like\\n           The categories in new order.\\n        ordered : bool, optional\\n           Whether or not the categorical is treated as a ordered categorical.\\n           If not given, do not change the ordered information.\\n        inplace : bool, default False\\n           Whether or not to reorder the categories inplace or return a copy of\\n           this categorical with reordered categories.\\n\\n           .. deprecated:: 1.3.0\\n\\n        Returns\\n        -------\\n        cat : Categorical or None\\n            Categorical with removed categories or None if ``inplace=True``.\\n\\n        Raises\\n        ------\\n        ValueError\\n            If the new categories do not contain all old category items or any\\n            new ones\\n\\n        See Also\\n        --------\\n        rename_categories : Rename categories.\\n        add_categories : Add new categories.\\n        remove_categories : Remove the specified categories.\\n        remove_unused_categories : Remove categories which are not used.\\n        set_categories : Set the categories to the specified ones.\\n        '"
     },
     "execution_count": 401,
     "metadata": {},
     "output_type": "execute_result"
    }
   ],
   "source": [
    "print(x)\n",
    "x.reorder_categories.__doc__"
   ],
   "metadata": {
    "collapsed": false
   }
  },
  {
   "cell_type": "code",
   "execution_count": 403,
   "outputs": [
    {
     "name": "stdout",
     "output_type": "stream",
     "text": [
      "CategoricalIndex([1, 2, 3, 1, 2, nan], categories=[1, 2, 3], ordered=False, dtype='category')\n"
     ]
    },
    {
     "data": {
      "text/plain": "CategoricalIndex([1, 1, 2, 2, 3, 3, 1, 1, 2, 2, nan, nan], categories=[1, 2, 3], ordered=False, dtype='category')"
     },
     "execution_count": 403,
     "metadata": {},
     "output_type": "execute_result"
    }
   ],
   "source": [
    "print(x)\n",
    "x.repeat(2)"
   ],
   "metadata": {
    "collapsed": false
   }
  },
  {
   "cell_type": "code",
   "execution_count": 411,
   "outputs": [
    {
     "name": "stdout",
     "output_type": "stream",
     "text": [
      "CategoricalIndex([1, 2, 3, 1, 2, nan], categories=[1, 2, 3], ordered=False, dtype='category')\n"
     ]
    },
    {
     "data": {
      "text/plain": "array([0], dtype=int64)"
     },
     "execution_count": 411,
     "metadata": {},
     "output_type": "execute_result"
    }
   ],
   "source": [
    "print(x)\n",
    "x.searchsorted([1])"
   ],
   "metadata": {
    "collapsed": false
   }
  },
  {
   "cell_type": "code",
   "execution_count": 417,
   "outputs": [
    {
     "name": "stdout",
     "output_type": "stream",
     "text": [
      "CategoricalIndex([1, 2, 3, 1, 2, nan], categories=[1, 2, 3], ordered=False, dtype='category')\n"
     ]
    },
    {
     "data": {
      "text/plain": "CategoricalIndex([1, nan, nan, 1, nan, nan], categories=[1], ordered=False, dtype='category')"
     },
     "execution_count": 417,
     "metadata": {},
     "output_type": "execute_result"
    }
   ],
   "source": [
    "print(x)\n",
    "x.set_categories([1])"
   ],
   "metadata": {
    "collapsed": false
   }
  },
  {
   "cell_type": "code",
   "execution_count": 419,
   "outputs": [
    {
     "name": "stdout",
     "output_type": "stream",
     "text": [
      "CategoricalIndex([1, 2, 3, 1, 2, nan], categories=[1, 2, 3], ordered=False, dtype='category')\n"
     ]
    },
    {
     "data": {
      "text/plain": "CategoricalIndex([1, 2, 3, 1, 2, nan], categories=[1, 2, 3], ordered=False, dtype='category', name='iqrorjon')"
     },
     "execution_count": 419,
     "metadata": {},
     "output_type": "execute_result"
    }
   ],
   "source": [
    "print(x)\n",
    "x.set_names(\"iqrorjon\")"
   ],
   "metadata": {
    "collapsed": false
   }
  },
  {
   "cell_type": "code",
   "execution_count": 426,
   "outputs": [
    {
     "name": "stdout",
     "output_type": "stream",
     "text": [
      "CategoricalIndex([1, 2, 3, 1, 2, nan], categories=[1, 2, 3], ordered=False, dtype='category')\n"
     ]
    },
    {
     "data": {
      "text/plain": "\"\\n        Fast lookup of value from 1-dimensional ndarray.\\n\\n        .. deprecated:: 1.0\\n\\n        Notes\\n        -----\\n        Only use this if you know what you're doing.\\n        \""
     },
     "execution_count": 426,
     "metadata": {},
     "output_type": "execute_result"
    }
   ],
   "source": [
    "print(x)\n",
    "x.set_value.__doc__"
   ],
   "metadata": {
    "collapsed": false
   }
  },
  {
   "cell_type": "code",
   "execution_count": 428,
   "outputs": [
    {
     "name": "stdout",
     "output_type": "stream",
     "text": [
      "CategoricalIndex([1, 2, 3, 1, 2, nan], categories=[1, 2, 3], ordered=False, dtype='category')\n"
     ]
    },
    {
     "data": {
      "text/plain": "(6,)"
     },
     "execution_count": 428,
     "metadata": {},
     "output_type": "execute_result"
    }
   ],
   "source": [
    "print(x)\n",
    "x.shape"
   ],
   "metadata": {
    "collapsed": false
   }
  },
  {
   "cell_type": "code",
   "execution_count": 434,
   "outputs": [
    {
     "name": "stdout",
     "output_type": "stream",
     "text": [
      "[1, 2, 3, 1, 2, NaN]\n",
      "Categories (3, int64): [1, 2, 3]\n"
     ]
    },
    {
     "data": {
      "text/plain": "[NaN, NaN, 1, 2, 3, 1]\nCategories (3, int64): [1, 2, 3]"
     },
     "execution_count": 434,
     "metadata": {},
     "output_type": "execute_result"
    }
   ],
   "source": [
    "xxx = pd.Categorical([1,2,3,1,2,np.nan])\n",
    "print(xxx)\n",
    "xxx.shift(periods=2)"
   ],
   "metadata": {
    "collapsed": false
   }
  },
  {
   "cell_type": "code",
   "execution_count": 436,
   "outputs": [
    {
     "name": "stdout",
     "output_type": "stream",
     "text": [
      "CategoricalIndex([1, 2, 3, 1, 2, nan], categories=[1, 2, 3], ordered=False, dtype='category')\n"
     ]
    },
    {
     "data": {
      "text/plain": "6"
     },
     "execution_count": 436,
     "metadata": {},
     "output_type": "execute_result"
    }
   ],
   "source": [
    "print(x)\n",
    "x.size"
   ],
   "metadata": {
    "collapsed": false
   }
  },
  {
   "cell_type": "code",
   "execution_count": 438,
   "outputs": [
    {
     "name": "stdout",
     "output_type": "stream",
     "text": [
      "CategoricalIndex([1, 2, 3, 1, 2, nan], categories=[1, 2, 3], ordered=False, dtype='category')\n"
     ]
    },
    {
     "data": {
      "text/plain": "slice(0, 6, None)"
     },
     "execution_count": 438,
     "metadata": {},
     "output_type": "execute_result"
    }
   ],
   "source": [
    "print(x)\n",
    "x.slice_indexer()"
   ],
   "metadata": {
    "collapsed": false
   }
  },
  {
   "cell_type": "code",
   "execution_count": 440,
   "outputs": [
    {
     "name": "stdout",
     "output_type": "stream",
     "text": [
      "CategoricalIndex([1, 2, 3, 1, 2, nan], categories=[1, 2, 3], ordered=False, dtype='category')\n"
     ]
    },
    {
     "data": {
      "text/plain": "(0, 6)"
     },
     "execution_count": 440,
     "metadata": {},
     "output_type": "execute_result"
    }
   ],
   "source": [
    "print(x)\n",
    "x.slice_locs()"
   ],
   "metadata": {
    "collapsed": false
   }
  },
  {
   "cell_type": "code",
   "execution_count": 443,
   "outputs": [
    {
     "name": "stdout",
     "output_type": "stream",
     "text": [
      "CategoricalIndex([1, 2, 3, 1, 2, nan], categories=[1, 2, 3], ordered=False, dtype='category')\n"
     ]
    },
    {
     "data": {
      "text/plain": "CategoricalIndex([1, 1, 2, 2, 3, nan], categories=[1, 2, 3], ordered=False, dtype='category')"
     },
     "execution_count": 443,
     "metadata": {},
     "output_type": "execute_result"
    }
   ],
   "source": [
    "print(x)\n",
    "# x.sort()\n",
    "x.sort_values()"
   ],
   "metadata": {
    "collapsed": false
   }
  },
  {
   "cell_type": "code",
   "execution_count": 445,
   "outputs": [
    {
     "name": "stdout",
     "output_type": "stream",
     "text": [
      "CategoricalIndex([1, 2, 3, 1, 2, nan], categories=[1, 2, 3], ordered=False, dtype='category')\n"
     ]
    },
    {
     "data": {
      "text/plain": "(CategoricalIndex([1, 1, 2, 2, 3, nan], categories=[1, 2, 3], ordered=False, dtype='category'),\n array([0, 3, 1, 4, 2, 5], dtype=int64))"
     },
     "execution_count": 445,
     "metadata": {},
     "output_type": "execute_result"
    }
   ],
   "source": [
    "print(x)\n",
    "x.sortlevel()"
   ],
   "metadata": {
    "collapsed": false
   }
  },
  {
   "cell_type": "code",
   "execution_count": 452,
   "outputs": [
    {
     "name": "stdout",
     "output_type": "stream",
     "text": [
      "CategoricalIndex([1, 2, 3, 1, 2, nan], categories=[1, 2, 3], ordered=False, dtype='category')\n",
      "CategoricalIndex([1, 2, 3, 1, 3, 4], categories=[1, 2, 3, 4], ordered=False, dtype='category')\n"
     ]
    },
    {
     "data": {
      "text/plain": "Float64Index([4.0, nan], dtype='float64')"
     },
     "execution_count": 452,
     "metadata": {},
     "output_type": "execute_result"
    }
   ],
   "source": [
    "print(x)\n",
    "y = pd.CategoricalIndex([1,2,3,1,3,4])\n",
    "print(y)\n",
    "x.symmetric_difference(y)"
   ],
   "metadata": {
    "collapsed": false
   }
  },
  {
   "cell_type": "code",
   "execution_count": 456,
   "outputs": [
    {
     "name": "stdout",
     "output_type": "stream",
     "text": [
      "CategoricalIndex([1, 2, 3, 1, 2, nan], categories=[1, 2, 3], ordered=False, dtype='category')\n"
     ]
    },
    {
     "data": {
      "text/plain": "CategoricalIndex([2], categories=[1, 2, 3], ordered=False, dtype='category')"
     },
     "execution_count": 456,
     "metadata": {},
     "output_type": "execute_result"
    }
   ],
   "source": [
    "print(x)\n",
    "x.take([1])"
   ],
   "metadata": {
    "collapsed": false
   }
  },
  {
   "cell_type": "code",
   "execution_count": 460,
   "outputs": [
    {
     "name": "stdout",
     "output_type": "stream",
     "text": [
      "CategoricalIndex([1, 2, 3, 1, 2, nan], categories=[1, 2, 3], ordered=False, dtype='category')\n"
     ]
    },
    {
     "name": "stderr",
     "output_type": "stream",
     "text": [
      "C:\\Users\\student.ASTRUM-DOMAIN\\AppData\\Local\\Temp\\ipykernel_808\\4240524533.py:2: FutureWarning: CategoricalIndex.take_nd is deprecated, use CategoricalIndex.take instead.\n",
      "  x.take_nd([2])\n"
     ]
    },
    {
     "data": {
      "text/plain": "CategoricalIndex([3], categories=[1, 2, 3], ordered=False, dtype='category')"
     },
     "execution_count": 460,
     "metadata": {},
     "output_type": "execute_result"
    }
   ],
   "source": [
    "print(x)\n",
    "x.take_nd([2])"
   ],
   "metadata": {
    "collapsed": false
   }
  },
  {
   "cell_type": "code",
   "execution_count": 462,
   "outputs": [
    {
     "name": "stdout",
     "output_type": "stream",
     "text": [
      "CategoricalIndex([1, 2, 3, 1, 2, nan], categories=[1, 2, 3], ordered=False, dtype='category')\n"
     ]
    },
    {
     "data": {
      "text/plain": "CategoricalIndex([1, 2, 3, 1, 2, nan], categories=[1, 2, 3], ordered=False, dtype='category')"
     },
     "execution_count": 462,
     "metadata": {},
     "output_type": "execute_result"
    }
   ],
   "source": [
    "print(x)\n",
    "x.to_flat_index()"
   ],
   "metadata": {
    "collapsed": false
   }
  },
  {
   "cell_type": "code",
   "execution_count": 464,
   "outputs": [
    {
     "name": "stdout",
     "output_type": "stream",
     "text": [
      "CategoricalIndex([1, 2, 3, 1, 2, nan], categories=[1, 2, 3], ordered=False, dtype='category')\n"
     ]
    },
    {
     "data": {
      "text/plain": "       0\n1      1\n2      2\n3      3\n1      1\n2      2\nNaN  NaN",
      "text/html": "<div>\n<style scoped>\n    .dataframe tbody tr th:only-of-type {\n        vertical-align: middle;\n    }\n\n    .dataframe tbody tr th {\n        vertical-align: top;\n    }\n\n    .dataframe thead th {\n        text-align: right;\n    }\n</style>\n<table border=\"1\" class=\"dataframe\">\n  <thead>\n    <tr style=\"text-align: right;\">\n      <th></th>\n      <th>0</th>\n    </tr>\n  </thead>\n  <tbody>\n    <tr>\n      <th>1</th>\n      <td>1</td>\n    </tr>\n    <tr>\n      <th>2</th>\n      <td>2</td>\n    </tr>\n    <tr>\n      <th>3</th>\n      <td>3</td>\n    </tr>\n    <tr>\n      <th>1</th>\n      <td>1</td>\n    </tr>\n    <tr>\n      <th>2</th>\n      <td>2</td>\n    </tr>\n    <tr>\n      <th>NaN</th>\n      <td>NaN</td>\n    </tr>\n  </tbody>\n</table>\n</div>"
     },
     "execution_count": 464,
     "metadata": {},
     "output_type": "execute_result"
    }
   ],
   "source": [
    "print(x)\n",
    "x.to_frame()"
   ],
   "metadata": {
    "collapsed": false
   }
  },
  {
   "cell_type": "code",
   "execution_count": 467,
   "outputs": [
    {
     "name": "stdout",
     "output_type": "stream",
     "text": [
      "CategoricalIndex([1, 2, 3, 1, 2, nan], categories=[1, 2, 3], ordered=False, dtype='category')\n"
     ]
    },
    {
     "data": {
      "text/plain": "[1, 2, 3, 1, 2, nan]"
     },
     "execution_count": 467,
     "metadata": {},
     "output_type": "execute_result"
    }
   ],
   "source": [
    "print(x)\n",
    "x.to_list()"
   ],
   "metadata": {
    "collapsed": false
   }
  },
  {
   "cell_type": "code",
   "execution_count": 469,
   "outputs": [
    {
     "name": "stdout",
     "output_type": "stream",
     "text": [
      "CategoricalIndex([1, 2, 3, 1, 2, nan], categories=[1, 2, 3], ordered=False, dtype='category')\n"
     ]
    },
    {
     "name": "stderr",
     "output_type": "stream",
     "text": [
      "C:\\Users\\student.ASTRUM-DOMAIN\\AppData\\Local\\Temp\\ipykernel_808\\597243550.py:2: FutureWarning: The 'to_native_types' method is deprecated and will be removed in a future version. Use 'astype(str)' instead.\n",
      "  x.to_native_types()\n"
     ]
    },
    {
     "data": {
      "text/plain": "array(['1.0', '2.0', '3.0', '1.0', '2.0', ''], dtype='<U32')"
     },
     "execution_count": 469,
     "metadata": {},
     "output_type": "execute_result"
    }
   ],
   "source": [
    "print(x)\n",
    "x.to_native_types()"
   ],
   "metadata": {
    "collapsed": false
   }
  },
  {
   "cell_type": "code",
   "execution_count": 471,
   "outputs": [
    {
     "name": "stdout",
     "output_type": "stream",
     "text": [
      "CategoricalIndex([1, 2, 3, 1, 2, nan], categories=[1, 2, 3], ordered=False, dtype='category')\n"
     ]
    },
    {
     "data": {
      "text/plain": "array([ 1.,  2.,  3.,  1.,  2., nan])"
     },
     "execution_count": 471,
     "metadata": {},
     "output_type": "execute_result"
    }
   ],
   "source": [
    "print(x)\n",
    "x.to_numpy()"
   ],
   "metadata": {
    "collapsed": false
   }
  },
  {
   "cell_type": "code",
   "execution_count": 473,
   "outputs": [
    {
     "name": "stdout",
     "output_type": "stream",
     "text": [
      "CategoricalIndex([1, 2, 3, 1, 2, nan], categories=[1, 2, 3], ordered=False, dtype='category')\n"
     ]
    },
    {
     "data": {
      "text/plain": "1        1\n2        2\n3        3\n1        1\n2        2\nNaN    NaN\ndtype: category\nCategories (3, int64): [1, 2, 3]"
     },
     "execution_count": 473,
     "metadata": {},
     "output_type": "execute_result"
    }
   ],
   "source": [
    "print(x)\n",
    "x.to_series()"
   ],
   "metadata": {
    "collapsed": false
   }
  },
  {
   "cell_type": "code",
   "execution_count": 474,
   "outputs": [
    {
     "name": "stdout",
     "output_type": "stream",
     "text": [
      "CategoricalIndex([1, 2, 3, 1, 2, nan], categories=[1, 2, 3], ordered=False, dtype='category')\n"
     ]
    },
    {
     "data": {
      "text/plain": "[1, 2, 3, 1, 2, nan]"
     },
     "execution_count": 474,
     "metadata": {},
     "output_type": "execute_result"
    }
   ],
   "source": [
    "print(x)\n",
    "x.tolist()"
   ],
   "metadata": {
    "collapsed": false
   }
  },
  {
   "cell_type": "code",
   "execution_count": 477,
   "outputs": [
    {
     "name": "stdout",
     "output_type": "stream",
     "text": [
      "CategoricalIndex([1, 2, 3, 1, 2, nan], categories=[1, 2, 3], ordered=False, dtype='category')\n"
     ]
    },
    {
     "data": {
      "text/plain": "CategoricalIndex([1, 2, 3, 1, 2, nan], categories=[1, 2, 3], ordered=False, dtype='category')"
     },
     "execution_count": 477,
     "metadata": {},
     "output_type": "execute_result"
    }
   ],
   "source": [
    "print(x)\n",
    "x.transpose()"
   ],
   "metadata": {
    "collapsed": false
   }
  },
  {
   "cell_type": "code",
   "execution_count": 481,
   "outputs": [
    {
     "name": "stdout",
     "output_type": "stream",
     "text": [
      "CategoricalIndex([1, 2, 3, 1, 2, nan], categories=[1, 2, 3], ordered=False, dtype='category')\n",
      "CategoricalIndex([1, 2, 3, 1, 3, 4], categories=[1, 2, 3, 4], ordered=False, dtype='category')\n"
     ]
    },
    {
     "data": {
      "text/plain": "Float64Index([1.0, 1.0, 2.0, 2.0, 3.0, 3.0, 4.0, nan], dtype='float64')"
     },
     "execution_count": 481,
     "metadata": {},
     "output_type": "execute_result"
    }
   ],
   "source": [
    "print(x)\n",
    "y = pd.CategoricalIndex([1,2,3,1,3,4])\n",
    "print(y)\n",
    "x.union(y)"
   ],
   "metadata": {
    "collapsed": false
   }
  },
  {
   "cell_type": "code",
   "execution_count": 483,
   "outputs": [
    {
     "name": "stdout",
     "output_type": "stream",
     "text": [
      "CategoricalIndex([1, 2, 3, 1, 2, nan], categories=[1, 2, 3], ordered=False, dtype='category')\n"
     ]
    },
    {
     "data": {
      "text/plain": "CategoricalIndex([1, 2, 3, nan], categories=[1, 2, 3], ordered=False, dtype='category')"
     },
     "execution_count": 483,
     "metadata": {},
     "output_type": "execute_result"
    }
   ],
   "source": [
    "print(x)\n",
    "x.unique()"
   ],
   "metadata": {
    "collapsed": false
   }
  },
  {
   "cell_type": "code",
   "execution_count": 485,
   "outputs": [
    {
     "name": "stdout",
     "output_type": "stream",
     "text": [
      "CategoricalIndex([1, 2, 3, 1, 2, nan], categories=[1, 2, 3], ordered=False, dtype='category')\n"
     ]
    },
    {
     "data": {
      "text/plain": "1    2\n2    2\n3    1\ndtype: int64"
     },
     "execution_count": 485,
     "metadata": {},
     "output_type": "execute_result"
    }
   ],
   "source": [
    "print(x)\n",
    "x.value_counts()"
   ],
   "metadata": {
    "collapsed": false
   }
  },
  {
   "cell_type": "code",
   "execution_count": 487,
   "outputs": [
    {
     "name": "stdout",
     "output_type": "stream",
     "text": [
      "CategoricalIndex([1, 2, 3, 1, 2, nan], categories=[1, 2, 3], ordered=False, dtype='category')\n"
     ]
    },
    {
     "data": {
      "text/plain": "[1, 2, 3, 1, 2, NaN]\nCategories (3, int64): [1, 2, 3]"
     },
     "execution_count": 487,
     "metadata": {},
     "output_type": "execute_result"
    }
   ],
   "source": [
    "print(x)\n",
    "x.values"
   ],
   "metadata": {
    "collapsed": false
   }
  },
  {
   "cell_type": "code",
   "execution_count": 489,
   "outputs": [
    {
     "name": "stdout",
     "output_type": "stream",
     "text": [
      "CategoricalIndex([1, 2, 3, 1, 2, nan], categories=[1, 2, 3], ordered=False, dtype='category')\n"
     ]
    },
    {
     "data": {
      "text/plain": "CategoricalIndex([1, 2, 3, 1, 2, nan], categories=[1, 2, 3], ordered=False, dtype='category')"
     },
     "execution_count": 489,
     "metadata": {},
     "output_type": "execute_result"
    }
   ],
   "source": [
    "print(x)\n",
    "x.view()"
   ],
   "metadata": {
    "collapsed": false
   }
  },
  {
   "cell_type": "code",
   "execution_count": 490,
   "outputs": [
    {
     "name": "stdout",
     "output_type": "stream",
     "text": [
      "CategoricalIndex([1, 2, 3, 1, 2, nan], categories=[1, 2, 3], ordered=False, dtype='category')\n"
     ]
    },
    {
     "data": {
      "text/plain": "CategoricalIndex([nan, 2, nan, nan, 2, nan], categories=[1, 2, 3], ordered=False, dtype='category')"
     },
     "execution_count": 490,
     "metadata": {},
     "output_type": "execute_result"
    }
   ],
   "source": [
    "print(x)\n",
    "x.where(x == 2)"
   ],
   "metadata": {
    "collapsed": false
   }
  }
 ],
 "metadata": {
  "kernelspec": {
   "display_name": "Python 3",
   "language": "python",
   "name": "python3"
  },
  "language_info": {
   "codemirror_mode": {
    "name": "ipython",
    "version": 2
   },
   "file_extension": ".py",
   "mimetype": "text/x-python",
   "name": "python",
   "nbconvert_exporter": "python",
   "pygments_lexer": "ipython2",
   "version": "2.7.6"
  }
 },
 "nbformat": 4,
 "nbformat_minor": 0
}
