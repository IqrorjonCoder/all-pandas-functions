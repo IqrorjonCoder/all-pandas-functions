{
 "cells": [
  {
   "cell_type": "code",
   "execution_count": 1,
   "metadata": {
    "collapsed": true
   },
   "outputs": [
    {
     "name": "stdout",
     "output_type": "stream",
     "text": [
      "0 __annotations__\n",
      "1 __class__\n",
      "2 __delattr__\n",
      "3 __dict__\n",
      "4 __dir__\n",
      "5 __doc__\n",
      "6 __eq__\n",
      "7 __format__\n",
      "8 __from_arrow__\n",
      "9 __ge__\n",
      "10 __getattribute__\n",
      "11 __gt__\n",
      "12 __hash__\n",
      "13 __init__\n",
      "14 __init_subclass__\n",
      "15 __le__\n",
      "16 __lt__\n",
      "17 __module__\n",
      "18 __ne__\n",
      "19 __new__\n",
      "20 __reduce__\n",
      "21 __reduce_ex__\n",
      "22 __repr__\n",
      "23 __setattr__\n",
      "24 __sizeof__\n",
      "25 __str__\n",
      "26 __subclasshook__\n",
      "27 __weakref__\n",
      "28 _can_hold_na\n",
      "29 _get_common_dtype\n",
      "30 _is_boolean\n",
      "31 _is_numeric\n",
      "32 _metadata\n",
      "33 base\n",
      "34 construct_array_type\n",
      "35 construct_from_string\n",
      "36 empty\n",
      "37 from_numpy_dtype\n",
      "38 is_dtype\n",
      "39 itemsize\n",
      "40 kind\n",
      "41 na_value\n",
      "42 name\n",
      "43 names\n",
      "44 numpy_dtype\n",
      "45 type\n"
     ]
    }
   ],
   "source": [
    "import pandas as pd\n",
    "\n",
    "for i, v in enumerate(dir(pd.BooleanDtype)):\n",
    "    print(i, v)"
   ]
  },
  {
   "cell_type": "code",
   "execution_count": 5,
   "outputs": [
    {
     "data": {
      "text/plain": "BooleanDtype"
     },
     "execution_count": 5,
     "metadata": {},
     "output_type": "execute_result"
    }
   ],
   "source": [
    "pd.BooleanDtype()"
   ],
   "metadata": {
    "collapsed": false
   }
  }
 ],
 "metadata": {
  "kernelspec": {
   "display_name": "Python 3",
   "language": "python",
   "name": "python3"
  },
  "language_info": {
   "codemirror_mode": {
    "name": "ipython",
    "version": 2
   },
   "file_extension": ".py",
   "mimetype": "text/x-python",
   "name": "python",
   "nbconvert_exporter": "python",
   "pygments_lexer": "ipython2",
   "version": "2.7.6"
  }
 },
 "nbformat": 4,
 "nbformat_minor": 0
}
