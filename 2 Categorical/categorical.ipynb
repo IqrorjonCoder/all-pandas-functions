{
 "cells": [
  {
   "cell_type": "code",
   "execution_count": 2,
   "metadata": {
    "collapsed": true
   },
   "outputs": [
    {
     "name": "stdout",
     "output_type": "stream",
     "text": [
      "0 T\n",
      "1 add_categories\n",
      "2 argmax\n",
      "3 argmin\n",
      "4 argsort\n",
      "5 as_ordered\n",
      "6 as_unordered\n",
      "7 astype\n",
      "8 categories\n",
      "9 check_for_ordered\n",
      "10 codes\n",
      "11 copy\n",
      "12 delete\n",
      "13 describe\n",
      "14 dropna\n",
      "15 dtype\n",
      "16 equals\n",
      "17 factorize\n",
      "18 fillna\n",
      "19 from_codes\n",
      "20 insert\n",
      "21 is_dtype_equal\n",
      "22 isin\n",
      "23 isna\n",
      "24 isnull\n",
      "25 map\n",
      "26 max\n",
      "27 memory_usage\n",
      "28 min\n",
      "29 mode\n",
      "30 nbytes\n",
      "31 ndim\n",
      "32 notna\n",
      "33 notnull\n",
      "34 ordered\n",
      "35 ravel\n",
      "36 remove_categories\n",
      "37 remove_unused_categories\n",
      "38 rename_categories\n",
      "39 reorder_categories\n",
      "40 repeat\n",
      "41 replace\n",
      "42 reshape\n",
      "43 searchsorted\n",
      "44 set_categories\n",
      "45 set_ordered\n",
      "46 shape\n",
      "47 shift\n",
      "48 size\n",
      "49 sort_values\n",
      "50 swapaxes\n",
      "51 take\n",
      "52 take_nd\n",
      "53 to_dense\n",
      "54 to_list\n",
      "55 to_numpy\n",
      "56 tolist\n",
      "57 transpose\n",
      "58 unique\n",
      "59 value_counts\n",
      "60 view\n"
     ]
    }
   ],
   "source": [
    "import pandas as pd\n",
    "\n",
    "functions = [i for i in dir(pd.Categorical) if i[:1] != '_']\n",
    "\n",
    "for i, v in enumerate(functions):\n",
    "    print(i, v)"
   ]
  },
  {
   "cell_type": "code",
   "execution_count": 39,
   "outputs": [
    {
     "data": {
      "text/plain": "[1, 2, 3, 4, 1, 3]\nCategories (4, int64): [1, 2, 3, 4]"
     },
     "execution_count": 39,
     "metadata": {},
     "output_type": "execute_result"
    }
   ],
   "source": [
    "x = pd.Categorical([1,2,3,4,1,3])\n",
    "x"
   ],
   "metadata": {
    "collapsed": false
   }
  },
  {
   "cell_type": "code",
   "execution_count": 17,
   "outputs": [
    {
     "data": {
      "text/plain": "[1, 2, 3, 4, 1, 3]\nCategories (4, int64): [1, 2, 3, 4]"
     },
     "execution_count": 17,
     "metadata": {},
     "output_type": "execute_result"
    }
   ],
   "source": [
    "x.T"
   ],
   "metadata": {
    "collapsed": false
   }
  },
  {
   "cell_type": "code",
   "execution_count": 18,
   "outputs": [
    {
     "data": {
      "text/plain": "[1, 2, 3, 4, 1, 3]\nCategories (5, int64): [1, 2, 3, 4, 5]"
     },
     "execution_count": 18,
     "metadata": {},
     "output_type": "execute_result"
    }
   ],
   "source": [
    "x.add_categories(5)"
   ],
   "metadata": {
    "collapsed": false
   }
  },
  {
   "cell_type": "code",
   "execution_count": 21,
   "outputs": [
    {
     "name": "stdout",
     "output_type": "stream",
     "text": [
      "[1, 2, 3, 4, 1, 3]\n",
      "Categories (4, int64): [1, 2, 3, 4]\n"
     ]
    },
    {
     "data": {
      "text/plain": "4"
     },
     "execution_count": 21,
     "metadata": {},
     "output_type": "execute_result"
    }
   ],
   "source": [
    "print(x)\n",
    "x[x.argmax()]"
   ],
   "metadata": {
    "collapsed": false
   }
  },
  {
   "cell_type": "code",
   "execution_count": 22,
   "outputs": [
    {
     "name": "stdout",
     "output_type": "stream",
     "text": [
      "[1, 2, 3, 4, 1, 3]\n",
      "Categories (4, int64): [1, 2, 3, 4]\n"
     ]
    },
    {
     "data": {
      "text/plain": "1"
     },
     "execution_count": 22,
     "metadata": {},
     "output_type": "execute_result"
    }
   ],
   "source": [
    "print(x)\n",
    "x[x.argmin()]"
   ],
   "metadata": {
    "collapsed": false
   }
  },
  {
   "cell_type": "code",
   "execution_count": 25,
   "outputs": [
    {
     "name": "stdout",
     "output_type": "stream",
     "text": [
      "[1, 2, 3, 4, 1, 3]\n",
      "Categories (4, int64): [1, 2, 3, 4]\n"
     ]
    },
    {
     "data": {
      "text/plain": "[1, 1, 2, 3, 3, 4]\nCategories (4, int64): [1, 2, 3, 4]"
     },
     "execution_count": 25,
     "metadata": {},
     "output_type": "execute_result"
    }
   ],
   "source": [
    "print(x)\n",
    "x[x.argsort()]"
   ],
   "metadata": {
    "collapsed": false
   }
  },
  {
   "cell_type": "code",
   "execution_count": 44,
   "outputs": [
    {
     "name": "stdout",
     "output_type": "stream",
     "text": [
      "[1, 2, 3, 4, 1, 3]\n",
      "Categories (4, int64): [1 < 2 < 3 < 4]\n"
     ]
    },
    {
     "data": {
      "text/plain": "<bound method Categorical.as_ordered of [1, 2, 3, 4, 1, 3]\nCategories (4, int64): [1 < 2 < 3 < 4]>"
     },
     "execution_count": 44,
     "metadata": {},
     "output_type": "execute_result"
    }
   ],
   "source": [
    "print(x)\n",
    "x.as_ordered"
   ],
   "metadata": {
    "collapsed": false
   }
  },
  {
   "cell_type": "code",
   "execution_count": 50,
   "outputs": [
    {
     "name": "stdout",
     "output_type": "stream",
     "text": [
      "[1, 2, 3, 4, 1, 3]\n",
      "Categories (4, int64): [1, 2, 3, 4]\n"
     ]
    },
    {
     "data": {
      "text/plain": "<bound method Categorical.as_unordered of [1, 2, 3, 4, 1, 3]\nCategories (4, int64): [1, 2, 3, 4]>"
     },
     "execution_count": 50,
     "metadata": {},
     "output_type": "execute_result"
    }
   ],
   "source": [
    "print(x)\n",
    "x.as_unordered"
   ],
   "metadata": {
    "collapsed": false
   }
  },
  {
   "cell_type": "code",
   "execution_count": 58,
   "outputs": [
    {
     "name": "stdout",
     "output_type": "stream",
     "text": [
      "[1, 2, 3, 4, 1, 3]\n",
      "Categories (4, int64): [1, 2, 3, 4]\n"
     ]
    },
    {
     "data": {
      "text/plain": "array([1., 2., 3., 4., 1., 3.])"
     },
     "execution_count": 58,
     "metadata": {},
     "output_type": "execute_result"
    }
   ],
   "source": [
    "import numpy as np\n",
    "print(x)\n",
    "x.astype(np.float64)"
   ],
   "metadata": {
    "collapsed": false
   }
  },
  {
   "cell_type": "code",
   "execution_count": 66,
   "outputs": [
    {
     "name": "stdout",
     "output_type": "stream",
     "text": [
      "[1, 2, 3, 4, 1, 3]\n",
      "Categories (4, int64): [1, 2, 3, 4]\n"
     ]
    },
    {
     "data": {
      "text/plain": "Int64Index([1, 2, 3, 4, 10], dtype='int64')"
     },
     "execution_count": 66,
     "metadata": {},
     "output_type": "execute_result"
    }
   ],
   "source": [
    "print(x)\n",
    "x = x.add_categories(10)\n",
    "x.categories"
   ],
   "metadata": {
    "collapsed": false
   }
  },
  {
   "cell_type": "code",
   "execution_count": 68,
   "outputs": [
    {
     "name": "stdout",
     "output_type": "stream",
     "text": [
      "[1, 2, 3, 4, 1, 3]\n",
      "Categories (5, int64): [1, 2, 3, 4, 10]\n"
     ]
    },
    {
     "data": {
      "text/plain": "<bound method Categorical.check_for_ordered of [1, 2, 3, 4, 1, 3]\nCategories (5, int64): [1, 2, 3, 4, 10]>"
     },
     "execution_count": 68,
     "metadata": {},
     "output_type": "execute_result"
    }
   ],
   "source": [
    "print(x)\n",
    "x.check_for_ordered"
   ],
   "metadata": {
    "collapsed": false
   }
  },
  {
   "cell_type": "code",
   "execution_count": 70,
   "outputs": [
    {
     "name": "stdout",
     "output_type": "stream",
     "text": [
      "[1, 2, 3, 4, 1, 3]\n",
      "Categories (5, int64): [1, 2, 3, 4, 10]\n"
     ]
    },
    {
     "data": {
      "text/plain": "array([0, 1, 2, 3, 0, 2], dtype=int8)"
     },
     "execution_count": 70,
     "metadata": {},
     "output_type": "execute_result"
    }
   ],
   "source": [
    "print(x)\n",
    "x.codes"
   ],
   "metadata": {
    "collapsed": false
   }
  },
  {
   "cell_type": "code",
   "execution_count": 88,
   "outputs": [
    {
     "name": "stdout",
     "output_type": "stream",
     "text": [
      "[1, 2, 3, 4, 1, 3]\n",
      "Categories (5, int64): [1, 2, 3, 4, 10]\n",
      "[1, 2, 3, 4, 1, 3]\n",
      "Categories (5, int64): [1, 2, 3, 4, 10]\n"
     ]
    },
    {
     "data": {
      "text/plain": "array([ True,  True,  True,  True,  True,  True])"
     },
     "execution_count": 88,
     "metadata": {},
     "output_type": "execute_result"
    }
   ],
   "source": [
    "print(x)\n",
    "y = x.copy()\n",
    "print(y)\n",
    "y == x"
   ],
   "metadata": {
    "collapsed": false
   }
  },
  {
   "cell_type": "code",
   "execution_count": 95,
   "outputs": [
    {
     "name": "stdout",
     "output_type": "stream",
     "text": [
      "[1, 2, 3, 4, 1, 3]\n",
      "Categories (5, int64): [1, 2, 3, 4, 10]\n"
     ]
    },
    {
     "data": {
      "text/plain": "[3, 4, 1]\nCategories (5, int64): [1, 2, 3, 4, 10]"
     },
     "execution_count": 95,
     "metadata": {},
     "output_type": "execute_result"
    }
   ],
   "source": [
    "print(x)\n",
    "x.delete([-1, 0, 1])"
   ],
   "metadata": {
    "collapsed": false
   }
  },
  {
   "cell_type": "code",
   "execution_count": 97,
   "outputs": [
    {
     "name": "stdout",
     "output_type": "stream",
     "text": [
      "[1, 2, 3, 4, 1, 3]\n",
      "Categories (5, int64): [1, 2, 3, 4, 10]\n"
     ]
    },
    {
     "data": {
      "text/plain": "            counts     freqs\ncategories                  \n1                2  0.333333\n2                1  0.166667\n3                2  0.333333\n4                1  0.166667\n10               0  0.000000",
      "text/html": "<div>\n<style scoped>\n    .dataframe tbody tr th:only-of-type {\n        vertical-align: middle;\n    }\n\n    .dataframe tbody tr th {\n        vertical-align: top;\n    }\n\n    .dataframe thead th {\n        text-align: right;\n    }\n</style>\n<table border=\"1\" class=\"dataframe\">\n  <thead>\n    <tr style=\"text-align: right;\">\n      <th></th>\n      <th>counts</th>\n      <th>freqs</th>\n    </tr>\n    <tr>\n      <th>categories</th>\n      <th></th>\n      <th></th>\n    </tr>\n  </thead>\n  <tbody>\n    <tr>\n      <th>1</th>\n      <td>2</td>\n      <td>0.333333</td>\n    </tr>\n    <tr>\n      <th>2</th>\n      <td>1</td>\n      <td>0.166667</td>\n    </tr>\n    <tr>\n      <th>3</th>\n      <td>2</td>\n      <td>0.333333</td>\n    </tr>\n    <tr>\n      <th>4</th>\n      <td>1</td>\n      <td>0.166667</td>\n    </tr>\n    <tr>\n      <th>10</th>\n      <td>0</td>\n      <td>0.000000</td>\n    </tr>\n  </tbody>\n</table>\n</div>"
     },
     "execution_count": 97,
     "metadata": {},
     "output_type": "execute_result"
    }
   ],
   "source": [
    "print(x)\n",
    "x.describe()"
   ],
   "metadata": {
    "collapsed": false
   }
  },
  {
   "cell_type": "code",
   "execution_count": 102,
   "outputs": [
    {
     "name": "stdout",
     "output_type": "stream",
     "text": [
      "[1, 2, 3, 1, 2, NaN]\n",
      "Categories (3, int64): [1, 2, 3]\n"
     ]
    },
    {
     "data": {
      "text/plain": "<bound method ExtensionArray.dropna of [1, 2, 3, 1, 2, NaN]\nCategories (3, int64): [1, 2, 3]>"
     },
     "execution_count": 102,
     "metadata": {},
     "output_type": "execute_result"
    }
   ],
   "source": [
    "x = pd.Categorical([1,2,3,1,2,np.nan])\n",
    "print(x)\n",
    "x.dropna"
   ],
   "metadata": {
    "collapsed": false
   }
  },
  {
   "cell_type": "code",
   "execution_count": 104,
   "outputs": [
    {
     "name": "stdout",
     "output_type": "stream",
     "text": [
      "[1, 2, 3, 1, 2, NaN]\n",
      "Categories (3, int64): [1, 2, 3]\n"
     ]
    },
    {
     "data": {
      "text/plain": "CategoricalDtype(categories=[1, 2, 3], ordered=False)"
     },
     "execution_count": 104,
     "metadata": {},
     "output_type": "execute_result"
    }
   ],
   "source": [
    "print(x)\n",
    "x.dtype"
   ],
   "metadata": {
    "collapsed": false
   }
  },
  {
   "cell_type": "code",
   "execution_count": 107,
   "outputs": [
    {
     "name": "stdout",
     "output_type": "stream",
     "text": [
      "[1, 2, 3, 1, 2, NaN]\n",
      "Categories (3, int64): [1, 2, 3]\n"
     ]
    },
    {
     "data": {
      "text/plain": "<bound method Categorical.equals of [1, 2, 3, 1, 2, NaN]\nCategories (3, int64): [1, 2, 3]>"
     },
     "execution_count": 107,
     "metadata": {},
     "output_type": "execute_result"
    }
   ],
   "source": [
    "print(x)\n",
    "x.equals"
   ],
   "metadata": {
    "collapsed": false
   }
  },
  {
   "cell_type": "code",
   "execution_count": 109,
   "outputs": [
    {
     "name": "stdout",
     "output_type": "stream",
     "text": [
      "[1, 2, 3, 1, 2, NaN]\n",
      "Categories (3, int64): [1, 2, 3]\n"
     ]
    },
    {
     "data": {
      "text/plain": "(array([ 0,  1,  2,  0,  1, -1], dtype=int64),\n [1, 2, 3]\n Categories (3, int64): [1, 2, 3])"
     },
     "execution_count": 109,
     "metadata": {},
     "output_type": "execute_result"
    }
   ],
   "source": [
    "print(x)\n",
    "x.factorize()"
   ],
   "metadata": {
    "collapsed": false
   }
  },
  {
   "cell_type": "code",
   "execution_count": 117,
   "outputs": [
    {
     "name": "stdout",
     "output_type": "stream",
     "text": [
      "[1, 2, 3, 1, 2, NaN]\n",
      "Categories (3, int64): [1, 2, 3]\n"
     ]
    },
    {
     "data": {
      "text/plain": "[1, 2, 3, 1, 2, 1]\nCategories (3, int64): [1, 2, 3]"
     },
     "execution_count": 117,
     "metadata": {},
     "output_type": "execute_result"
    }
   ],
   "source": [
    "print(x)\n",
    "x.fillna(1)"
   ],
   "metadata": {
    "collapsed": false
   }
  },
  {
   "cell_type": "code",
   "execution_count": 122,
   "outputs": [
    {
     "data": {
      "text/plain": "['a', 'b', 'a', 'b']\nCategories (2, object): ['a' < 'b']"
     },
     "execution_count": 122,
     "metadata": {},
     "output_type": "execute_result"
    }
   ],
   "source": [
    "y = pd.Categorical.from_codes(codes=[0,1,0,1], dtype=pd.CategoricalDtype(['a', 'b'], ordered=True))\n",
    "y"
   ],
   "metadata": {
    "collapsed": false
   }
  },
  {
   "cell_type": "code",
   "execution_count": 133,
   "outputs": [
    {
     "name": "stdout",
     "output_type": "stream",
     "text": [
      "[1, 2, 3, 1, 2, NaN]\n",
      "Categories (3, int64): [1, 2, 3]\n"
     ]
    },
    {
     "data": {
      "text/plain": "[1, 2, 3, 1, 2, NaN, NaN]\nCategories (3, int64): [1, 2, 3]"
     },
     "execution_count": 133,
     "metadata": {},
     "output_type": "execute_result"
    }
   ],
   "source": [
    "print(x)\n",
    "x.insert(-1, item=None)"
   ],
   "metadata": {
    "collapsed": false
   }
  },
  {
   "cell_type": "code",
   "execution_count": 136,
   "outputs": [
    {
     "name": "stdout",
     "output_type": "stream",
     "text": [
      "[1, 2, 3, 1, 2, NaN]\n",
      "Categories (3, int64): [1, 2, 3]\n"
     ]
    },
    {
     "name": "stderr",
     "output_type": "stream",
     "text": [
      "C:\\Users\\student.ASTRUM-DOMAIN\\AppData\\Local\\Temp\\ipykernel_2792\\2693322613.py:2: FutureWarning: Categorical.is_dtype_equal is deprecated and will be removed in a future version\n",
      "  x.is_dtype_equal(y)\n"
     ]
    },
    {
     "data": {
      "text/plain": "False"
     },
     "execution_count": 136,
     "metadata": {},
     "output_type": "execute_result"
    }
   ],
   "source": [
    "print(x)\n",
    "x.is_dtype_equal(y)\n"
   ],
   "metadata": {
    "collapsed": false
   }
  },
  {
   "cell_type": "code",
   "execution_count": 138,
   "outputs": [
    {
     "name": "stdout",
     "output_type": "stream",
     "text": [
      "[1, 2, 3, 1, 2, NaN]\n",
      "Categories (3, int64): [1, 2, 3]\n"
     ]
    },
    {
     "data": {
      "text/plain": "array([ True,  True, False,  True,  True, False])"
     },
     "execution_count": 138,
     "metadata": {},
     "output_type": "execute_result"
    }
   ],
   "source": [
    "print(x)\n",
    "x.isin([1,2])"
   ],
   "metadata": {
    "collapsed": false
   }
  },
  {
   "cell_type": "code",
   "execution_count": 140,
   "outputs": [
    {
     "name": "stdout",
     "output_type": "stream",
     "text": [
      "[1, 2, 3, 1, 2, NaN]\n",
      "Categories (3, int64): [1, 2, 3]\n"
     ]
    },
    {
     "data": {
      "text/plain": "array([False, False, False, False, False,  True])"
     },
     "execution_count": 140,
     "metadata": {},
     "output_type": "execute_result"
    }
   ],
   "source": [
    "print(x)\n",
    "x.isna()"
   ],
   "metadata": {
    "collapsed": false
   }
  },
  {
   "cell_type": "code",
   "execution_count": 143,
   "outputs": [
    {
     "name": "stdout",
     "output_type": "stream",
     "text": [
      "[1, 2, 3, 1, 2, NaN]\n",
      "Categories (3, int64): [1, 2, 3]\n"
     ]
    },
    {
     "data": {
      "text/plain": "array([False, False, False, False, False,  True])"
     },
     "execution_count": 143,
     "metadata": {},
     "output_type": "execute_result"
    }
   ],
   "source": [
    "print(x)\n",
    "x.isnull()"
   ],
   "metadata": {
    "collapsed": false
   }
  },
  {
   "cell_type": "code",
   "execution_count": 146,
   "outputs": [
    {
     "name": "stdout",
     "output_type": "stream",
     "text": [
      "[1, 2, 3, 1, 2, NaN]\n",
      "Categories (3, int64): [1, 2, 3]\n"
     ]
    },
    {
     "data": {
      "text/plain": "[10, 20, 30, 10, 20, NaN]\nCategories (3, int64): [10, 20, 30]"
     },
     "execution_count": 146,
     "metadata": {},
     "output_type": "execute_result"
    }
   ],
   "source": [
    "print(x)\n",
    "def func(p):\n",
    "    return p*10\n",
    "x.map(func)"
   ],
   "metadata": {
    "collapsed": false
   }
  },
  {
   "cell_type": "code",
   "execution_count": 151,
   "outputs": [
    {
     "name": "stdout",
     "output_type": "stream",
     "text": [
      "[1, 2, 3, 1, 2, NaN]\n",
      "Categories (3, int64): [1, 2, 3]\n"
     ]
    },
    {
     "data": {
      "text/plain": "<bound method Categorical.max of [1, 2, 3, 1, 2, NaN]\nCategories (3, int64): [1, 2, 3]>"
     },
     "execution_count": 151,
     "metadata": {},
     "output_type": "execute_result"
    }
   ],
   "source": [
    "print(x)\n",
    "x.max"
   ],
   "metadata": {
    "collapsed": false
   }
  },
  {
   "cell_type": "code",
   "execution_count": 154,
   "outputs": [
    {
     "name": "stdout",
     "output_type": "stream",
     "text": [
      "[1, 2, 3, 1, 2, NaN]\n",
      "Categories (3, int64): [1, 2, 3]\n"
     ]
    },
    {
     "data": {
      "text/plain": "138"
     },
     "execution_count": 154,
     "metadata": {},
     "output_type": "execute_result"
    }
   ],
   "source": [
    "print(x)\n",
    "x.memory_usage()"
   ],
   "metadata": {
    "collapsed": false
   }
  },
  {
   "cell_type": "code",
   "execution_count": 158,
   "outputs": [
    {
     "name": "stdout",
     "output_type": "stream",
     "text": [
      "[1, 2, 3, 1, 2, NaN]\n",
      "Categories (3, int64): [1, 2, 3]\n"
     ]
    },
    {
     "data": {
      "text/plain": "<bound method Categorical.min of [1, 2, 3, 1, 2, NaN]\nCategories (3, int64): [1, 2, 3]>"
     },
     "execution_count": 158,
     "metadata": {},
     "output_type": "execute_result"
    }
   ],
   "source": [
    "print(x)\n",
    "x.min"
   ],
   "metadata": {
    "collapsed": false
   }
  },
  {
   "cell_type": "code",
   "execution_count": 161,
   "outputs": [
    {
     "name": "stdout",
     "output_type": "stream",
     "text": [
      "[1, 2, 3, 1, 2, NaN]\n",
      "Categories (3, int64): [1, 2, 3]\n"
     ]
    },
    {
     "name": "stderr",
     "output_type": "stream",
     "text": [
      "C:\\Users\\student.ASTRUM-DOMAIN\\AppData\\Local\\Temp\\ipykernel_2792\\4161692488.py:2: FutureWarning: Categorical.mode is deprecated and will be removed in a future version. Use Series.mode instead.\n",
      "  x.mode()\n"
     ]
    },
    {
     "data": {
      "text/plain": "[1, 2]\nCategories (3, int64): [1, 2, 3]"
     },
     "execution_count": 161,
     "metadata": {},
     "output_type": "execute_result"
    }
   ],
   "source": [
    "print(x)\n",
    "x.mode()\n"
   ],
   "metadata": {
    "collapsed": false
   }
  },
  {
   "cell_type": "code",
   "execution_count": 163,
   "outputs": [
    {
     "name": "stdout",
     "output_type": "stream",
     "text": [
      "[1, 2, 3, 1, 2, NaN]\n",
      "Categories (3, int64): [1, 2, 3]\n"
     ]
    },
    {
     "data": {
      "text/plain": "30"
     },
     "execution_count": 163,
     "metadata": {},
     "output_type": "execute_result"
    }
   ],
   "source": [
    "print(x)\n",
    "x.nbytes"
   ],
   "metadata": {
    "collapsed": false
   }
  },
  {
   "cell_type": "code",
   "execution_count": 165,
   "outputs": [
    {
     "name": "stdout",
     "output_type": "stream",
     "text": [
      "[1, 2, 3, 1, 2, NaN]\n",
      "Categories (3, int64): [1, 2, 3]\n"
     ]
    },
    {
     "data": {
      "text/plain": "1"
     },
     "execution_count": 165,
     "metadata": {},
     "output_type": "execute_result"
    }
   ],
   "source": [
    "print(x)\n",
    "x.ndim"
   ],
   "metadata": {
    "collapsed": false
   }
  },
  {
   "cell_type": "code",
   "execution_count": 167,
   "outputs": [
    {
     "name": "stdout",
     "output_type": "stream",
     "text": [
      "[1, 2, 3, 1, 2, NaN]\n",
      "Categories (3, int64): [1, 2, 3]\n"
     ]
    },
    {
     "data": {
      "text/plain": "array([ True,  True,  True,  True,  True, False])"
     },
     "execution_count": 167,
     "metadata": {},
     "output_type": "execute_result"
    }
   ],
   "source": [
    "print(x)\n",
    "x.notna()"
   ],
   "metadata": {
    "collapsed": false
   }
  },
  {
   "cell_type": "code",
   "execution_count": 170,
   "outputs": [
    {
     "name": "stdout",
     "output_type": "stream",
     "text": [
      "[1, 2, 3, 1, 2, NaN]\n",
      "Categories (3, int64): [1, 2, 3]\n"
     ]
    },
    {
     "data": {
      "text/plain": "array([ True,  True,  True,  True,  True, False])"
     },
     "execution_count": 170,
     "metadata": {},
     "output_type": "execute_result"
    }
   ],
   "source": [
    "print(x)\n",
    "x.notnull()"
   ],
   "metadata": {
    "collapsed": false
   }
  },
  {
   "cell_type": "code",
   "execution_count": 174,
   "outputs": [
    {
     "name": "stdout",
     "output_type": "stream",
     "text": [
      "[1, 2, 3, 1, 2, NaN]\n",
      "Categories (3, int64): [1, 2, 3]\n"
     ]
    },
    {
     "data": {
      "text/plain": "False"
     },
     "execution_count": 174,
     "metadata": {},
     "output_type": "execute_result"
    }
   ],
   "source": [
    "print(x)\n",
    "x.ordered"
   ],
   "metadata": {
    "collapsed": false
   }
  },
  {
   "cell_type": "code",
   "execution_count": 180,
   "outputs": [
    {
     "name": "stdout",
     "output_type": "stream",
     "text": [
      "[1, 2, 3, 1, 2, NaN]\n",
      "Categories (3, int64): [1, 2, 3]\n"
     ]
    },
    {
     "data": {
      "text/plain": "[1, 2, 3, 1, 2, NaN]\nCategories (3, int64): [1, 2, 3]"
     },
     "execution_count": 180,
     "metadata": {},
     "output_type": "execute_result"
    }
   ],
   "source": [
    "print(x)\n",
    "x.ravel('A')"
   ],
   "metadata": {
    "collapsed": false
   }
  },
  {
   "cell_type": "code",
   "execution_count": 183,
   "outputs": [
    {
     "name": "stdout",
     "output_type": "stream",
     "text": [
      "[1, 2, 3, 1, 2, NaN]\n",
      "Categories (3, int64): [1, 2, 3]\n"
     ]
    },
    {
     "data": {
      "text/plain": "[NaN, 2, 3, NaN, 2, NaN]\nCategories (2, int64): [2, 3]"
     },
     "execution_count": 183,
     "metadata": {},
     "output_type": "execute_result"
    }
   ],
   "source": [
    "print(x)\n",
    "x.remove_categories(1)"
   ],
   "metadata": {
    "collapsed": false
   }
  },
  {
   "cell_type": "code",
   "execution_count": 188,
   "outputs": [
    {
     "name": "stdout",
     "output_type": "stream",
     "text": [
      "[1, 2, 3, 1, 2, NaN]\n",
      "Categories (3, int64): [1, 2, 3]\n"
     ]
    },
    {
     "data": {
      "text/plain": "[1, 2, 3, 1, 2, NaN]\nCategories (3, int64): [1, 2, 3]"
     },
     "execution_count": 188,
     "metadata": {},
     "output_type": "execute_result"
    }
   ],
   "source": [
    "print(x)\n",
    "x.remove_unused_categories()"
   ],
   "metadata": {
    "collapsed": false
   }
  },
  {
   "cell_type": "code",
   "execution_count": 192,
   "outputs": [
    {
     "name": "stdout",
     "output_type": "stream",
     "text": [
      "[1, 2, 3, 1, 2, NaN]\n",
      "Categories (3, int64): [1, 2, 3]\n"
     ]
    },
    {
     "data": {
      "text/plain": "[3, 4, 5, 3, 4, NaN]\nCategories (3, int64): [3, 4, 5]"
     },
     "execution_count": 192,
     "metadata": {},
     "output_type": "execute_result"
    }
   ],
   "source": [
    "print(x)\n",
    "x.rename_categories([3,4,5])"
   ],
   "metadata": {
    "collapsed": false
   }
  },
  {
   "cell_type": "code",
   "execution_count": 199,
   "outputs": [
    {
     "name": "stdout",
     "output_type": "stream",
     "text": [
      "[1, 2, 3, 1, 2, NaN]\n",
      "Categories (3, int64): [1, 2, 3]\n"
     ]
    },
    {
     "data": {
      "text/plain": "<bound method Categorical.reorder_categories of [1, 2, 3, 1, 2, NaN]\nCategories (3, int64): [1, 2, 3]>"
     },
     "execution_count": 199,
     "metadata": {},
     "output_type": "execute_result"
    }
   ],
   "source": [
    "print(x)\n",
    "x.reorder_categories"
   ],
   "metadata": {
    "collapsed": false
   }
  },
  {
   "cell_type": "code",
   "execution_count": 203,
   "outputs": [
    {
     "name": "stdout",
     "output_type": "stream",
     "text": [
      "[1, 2, 3, 1, 2, NaN]\n",
      "Categories (3, int64): [1, 2, 3]\n"
     ]
    },
    {
     "data": {
      "text/plain": "[1, 1, 1, 2, 2, ..., 2, 2, NaN, NaN, NaN]\nLength: 18\nCategories (3, int64): [1, 2, 3]"
     },
     "execution_count": 203,
     "metadata": {},
     "output_type": "execute_result"
    }
   ],
   "source": [
    "print(x)\n",
    "x.repeat(3)"
   ],
   "metadata": {
    "collapsed": false
   }
  },
  {
   "cell_type": "code",
   "execution_count": 206,
   "outputs": [
    {
     "name": "stdout",
     "output_type": "stream",
     "text": [
      "[1, 2, 3, 1, 2, NaN]\n",
      "Categories (3, int64): [1, 2, 3]\n"
     ]
    },
    {
     "name": "stderr",
     "output_type": "stream",
     "text": [
      "C:\\Users\\student.ASTRUM-DOMAIN\\AppData\\Local\\Temp\\ipykernel_2792\\3458565353.py:2: FutureWarning: In a future version of pandas all arguments of Categorical.replace except for the argument 'value' will be keyword-only.\n",
      "  x.replace(1, 100)\n",
      "C:\\Users\\student.ASTRUM-DOMAIN\\AppData\\Local\\Temp\\ipykernel_2792\\3458565353.py:2: FutureWarning: Categorical.replace is deprecated and will be removed in a future version. Use Series.replace directly instead.\n",
      "  x.replace(1, 100)\n"
     ]
    },
    {
     "data": {
      "text/plain": "[100, 2, 3, 100, 2, NaN]\nCategories (3, int64): [100, 2, 3]"
     },
     "execution_count": 206,
     "metadata": {},
     "output_type": "execute_result"
    }
   ],
   "source": [
    "print(x)\n",
    "x.replace(1, 100)"
   ],
   "metadata": {
    "collapsed": false
   }
  },
  {
   "cell_type": "code",
   "execution_count": 223,
   "outputs": [
    {
     "name": "stdout",
     "output_type": "stream",
     "text": [
      "[1, 2, 3, 1, 2, NaN]\n",
      "Categories (3, int64): [1, 2, 3]\n"
     ]
    },
    {
     "data": {
      "text/plain": "[1, 2, 3, 1, 2, NaN]\nCategories (3, int64): [1, 2, 3]"
     },
     "execution_count": 223,
     "metadata": {},
     "output_type": "execute_result"
    }
   ],
   "source": [
    "print(x)\n",
    "x.reshape(6)"
   ],
   "metadata": {
    "collapsed": false
   }
  },
  {
   "cell_type": "code",
   "execution_count": 229,
   "outputs": [
    {
     "name": "stdout",
     "output_type": "stream",
     "text": [
      "[1, 2, 3, 1, 2, NaN]\n",
      "Categories (3, int64): [1, 2, 3]\n"
     ]
    },
    {
     "data": {
      "text/plain": "array([6, 6, 6], dtype=int64)"
     },
     "execution_count": 229,
     "metadata": {},
     "output_type": "execute_result"
    }
   ],
   "source": [
    "print(x)\n",
    "x.searchsorted([1,2,3], side='right')"
   ],
   "metadata": {
    "collapsed": false
   }
  },
  {
   "cell_type": "code",
   "execution_count": 234,
   "outputs": [
    {
     "name": "stdout",
     "output_type": "stream",
     "text": [
      "[1, 2, 3, 1, 2, NaN]\n",
      "Categories (3, int64): [1, 2, 3]\n"
     ]
    },
    {
     "data": {
      "text/plain": "[1, NaN, NaN, 1, NaN, NaN]\nCategories (3, int64): [9, 1, 7]"
     },
     "execution_count": 234,
     "metadata": {},
     "output_type": "execute_result"
    }
   ],
   "source": [
    "print(x)\n",
    "x.set_categories([9,1,7])"
   ],
   "metadata": {
    "collapsed": false
   }
  },
  {
   "cell_type": "code",
   "execution_count": 240,
   "outputs": [
    {
     "name": "stdout",
     "output_type": "stream",
     "text": [
      "[1, 2, 3, 1, 2, NaN]\n",
      "Categories (3, int64): [1, 2, 3]\n"
     ]
    },
    {
     "data": {
      "text/plain": "[1, 2, 3, 1, 2, NaN]\nCategories (3, int64): [1 < 2 < 3]"
     },
     "execution_count": 240,
     "metadata": {},
     "output_type": "execute_result"
    }
   ],
   "source": [
    "print(x)\n",
    "x.set_ordered(True)"
   ],
   "metadata": {
    "collapsed": false
   }
  },
  {
   "cell_type": "code",
   "execution_count": 242,
   "outputs": [
    {
     "name": "stdout",
     "output_type": "stream",
     "text": [
      "[1, 2, 3, 1, 2, NaN]\n",
      "Categories (3, int64): [1, 2, 3]\n"
     ]
    },
    {
     "data": {
      "text/plain": "(6,)"
     },
     "execution_count": 242,
     "metadata": {},
     "output_type": "execute_result"
    }
   ],
   "source": [
    "print(x)\n",
    "x.shape"
   ],
   "metadata": {
    "collapsed": false
   }
  },
  {
   "cell_type": "code",
   "execution_count": 245,
   "outputs": [
    {
     "name": "stdout",
     "output_type": "stream",
     "text": [
      "[1, 2, 3, 1, 2, NaN]\n",
      "Categories (3, int64): [1, 2, 3]\n"
     ]
    },
    {
     "data": {
      "text/plain": "[NaN, NaN, 1, 2, 3, 1]\nCategories (3, int64): [1, 2, 3]"
     },
     "execution_count": 245,
     "metadata": {},
     "output_type": "execute_result"
    }
   ],
   "source": [
    "print(x)\n",
    "x.shift(periods=2)"
   ],
   "metadata": {
    "collapsed": false
   }
  },
  {
   "cell_type": "code",
   "execution_count": 247,
   "outputs": [
    {
     "name": "stdout",
     "output_type": "stream",
     "text": [
      "[1, 2, 3, 1, 2, NaN]\n",
      "Categories (3, int64): [1, 2, 3]\n"
     ]
    },
    {
     "data": {
      "text/plain": "6"
     },
     "execution_count": 247,
     "metadata": {},
     "output_type": "execute_result"
    }
   ],
   "source": [
    "print(x)\n",
    "x.size"
   ],
   "metadata": {
    "collapsed": false
   }
  },
  {
   "cell_type": "code",
   "execution_count": 249,
   "outputs": [
    {
     "name": "stdout",
     "output_type": "stream",
     "text": [
      "[1, 2, 3, 1, 2, NaN]\n",
      "Categories (3, int64): [1, 2, 3]\n"
     ]
    },
    {
     "data": {
      "text/plain": "[1, 1, 2, 2, 3, NaN]\nCategories (3, int64): [1, 2, 3]"
     },
     "execution_count": 249,
     "metadata": {},
     "output_type": "execute_result"
    }
   ],
   "source": [
    "print(x)\n",
    "x.sort_values()"
   ],
   "metadata": {
    "collapsed": false
   }
  },
  {
   "cell_type": "code",
   "execution_count": 264,
   "outputs": [
    {
     "name": "stdout",
     "output_type": "stream",
     "text": [
      "[1, 2, 3, 1, 2, NaN]\n",
      "Categories (3, int64): [1, 2, 3]\n"
     ]
    },
    {
     "data": {
      "text/plain": "[1, 2, 3, 1, 2, NaN]\nCategories (3, int64): [1, 2, 3]"
     },
     "execution_count": 264,
     "metadata": {},
     "output_type": "execute_result"
    }
   ],
   "source": [
    "print(x)\n",
    "x.swapaxes(0,-1)"
   ],
   "metadata": {
    "collapsed": false
   }
  },
  {
   "cell_type": "code",
   "execution_count": 267,
   "outputs": [
    {
     "name": "stdout",
     "output_type": "stream",
     "text": [
      "[1, 2, 3, 1, 2, NaN]\n",
      "Categories (3, int64): [1, 2, 3]\n"
     ]
    },
    {
     "data": {
      "text/plain": "[1, 2, NaN]\nCategories (3, int64): [1, 2, 3]"
     },
     "execution_count": 267,
     "metadata": {},
     "output_type": "execute_result"
    }
   ],
   "source": [
    "print(x)\n",
    "x.take([0,1,-1])"
   ],
   "metadata": {
    "collapsed": false
   }
  },
  {
   "cell_type": "code",
   "execution_count": 270,
   "outputs": [
    {
     "name": "stdout",
     "output_type": "stream",
     "text": [
      "[1, 2, 3, 1, 2, NaN]\n",
      "Categories (3, int64): [1, 2, 3]\n"
     ]
    },
    {
     "name": "stderr",
     "output_type": "stream",
     "text": [
      "C:\\Users\\student.ASTRUM-DOMAIN\\AppData\\Local\\Temp\\ipykernel_2792\\3064203266.py:2: FutureWarning: Categorical.take_nd is deprecated, use Categorical.take instead\n",
      "  x.take_nd([0,1])\n"
     ]
    },
    {
     "data": {
      "text/plain": "[1, 2]\nCategories (3, int64): [1, 2, 3]"
     },
     "execution_count": 270,
     "metadata": {},
     "output_type": "execute_result"
    }
   ],
   "source": [
    "print(x)\n",
    "x.take_nd([0,1])"
   ],
   "metadata": {
    "collapsed": false
   }
  },
  {
   "cell_type": "code",
   "execution_count": 273,
   "outputs": [
    {
     "name": "stdout",
     "output_type": "stream",
     "text": [
      "[1, 2, 3, 1, 2, NaN]\n",
      "Categories (3, int64): [1, 2, 3]\n"
     ]
    },
    {
     "name": "stderr",
     "output_type": "stream",
     "text": [
      "C:\\Users\\student.ASTRUM-DOMAIN\\AppData\\Local\\Temp\\ipykernel_2792\\2254180175.py:2: FutureWarning: Categorical.to_dense is deprecated and will be removed in a future version.  Use np.asarray(cat) instead.\n",
      "  x.to_dense()\n"
     ]
    },
    {
     "data": {
      "text/plain": "array([ 1.,  2.,  3.,  1.,  2., nan])"
     },
     "execution_count": 273,
     "metadata": {},
     "output_type": "execute_result"
    }
   ],
   "source": [
    "print(x)\n",
    "x.to_dense()"
   ],
   "metadata": {
    "collapsed": false
   }
  },
  {
   "cell_type": "code",
   "execution_count": 275,
   "outputs": [
    {
     "name": "stdout",
     "output_type": "stream",
     "text": [
      "[1, 2, 3, 1, 2, NaN]\n",
      "Categories (3, int64): [1, 2, 3]\n"
     ]
    },
    {
     "data": {
      "text/plain": "[1, 2, 3, 1, 2, nan]"
     },
     "execution_count": 275,
     "metadata": {},
     "output_type": "execute_result"
    }
   ],
   "source": [
    "print(x)\n",
    "x.to_list()"
   ],
   "metadata": {
    "collapsed": false
   }
  },
  {
   "cell_type": "code",
   "execution_count": 278,
   "outputs": [
    {
     "name": "stdout",
     "output_type": "stream",
     "text": [
      "[1, 2, 3, 1, 2, NaN]\n",
      "Categories (3, int64): [1, 2, 3]\n",
      "[ 1.  2.  3.  1.  2. nan] float64\n"
     ]
    }
   ],
   "source": [
    "print(x)\n",
    "y = x.to_numpy()\n",
    "print(y, y.dtype)"
   ],
   "metadata": {
    "collapsed": false
   }
  },
  {
   "cell_type": "code",
   "execution_count": 280,
   "outputs": [
    {
     "name": "stdout",
     "output_type": "stream",
     "text": [
      "[1, 2, 3, 1, 2, NaN]\n",
      "Categories (3, int64): [1, 2, 3]\n"
     ]
    },
    {
     "data": {
      "text/plain": "[1, 2, 3, 1, 2, nan]"
     },
     "execution_count": 280,
     "metadata": {},
     "output_type": "execute_result"
    }
   ],
   "source": [
    "print(x)\n",
    "x.tolist()"
   ],
   "metadata": {
    "collapsed": false
   }
  },
  {
   "cell_type": "code",
   "execution_count": 285,
   "outputs": [
    {
     "name": "stdout",
     "output_type": "stream",
     "text": [
      "[1, 2, 3, 1, 2, NaN]\n",
      "Categories (3, int64): [1, 2, 3]\n"
     ]
    },
    {
     "data": {
      "text/plain": "[1, 2, 3, 1, 2, NaN]\nCategories (3, int64): [1, 2, 3]"
     },
     "execution_count": 285,
     "metadata": {},
     "output_type": "execute_result"
    }
   ],
   "source": [
    "print(x)\n",
    "x.transpose()"
   ],
   "metadata": {
    "collapsed": false
   }
  },
  {
   "cell_type": "code",
   "execution_count": 287,
   "outputs": [
    {
     "name": "stdout",
     "output_type": "stream",
     "text": [
      "[1, 2, 3, 1, 2, NaN]\n",
      "Categories (3, int64): [1, 2, 3]\n"
     ]
    },
    {
     "data": {
      "text/plain": "[1, 2, 3, NaN]\nCategories (3, int64): [1, 2, 3]"
     },
     "execution_count": 287,
     "metadata": {},
     "output_type": "execute_result"
    }
   ],
   "source": [
    "print(x)\n",
    "x.unique()"
   ],
   "metadata": {
    "collapsed": false
   }
  },
  {
   "cell_type": "code",
   "execution_count": 289,
   "outputs": [
    {
     "name": "stdout",
     "output_type": "stream",
     "text": [
      "[1, 2, 3, 1, 2, NaN]\n",
      "Categories (3, int64): [1, 2, 3]\n"
     ]
    },
    {
     "data": {
      "text/plain": "1    2\n2    2\n3    1\ndtype: int64"
     },
     "execution_count": 289,
     "metadata": {},
     "output_type": "execute_result"
    }
   ],
   "source": [
    "print(x)\n",
    "x.value_counts()"
   ],
   "metadata": {
    "collapsed": false
   }
  },
  {
   "cell_type": "code",
   "execution_count": 291,
   "outputs": [
    {
     "name": "stdout",
     "output_type": "stream",
     "text": [
      "[1, 2, 3, 1, 2, NaN]\n",
      "Categories (3, int64): [1, 2, 3]\n"
     ]
    },
    {
     "data": {
      "text/plain": "[1, 2, 3, 1, 2, NaN]\nCategories (3, int64): [1, 2, 3]"
     },
     "execution_count": 291,
     "metadata": {},
     "output_type": "execute_result"
    }
   ],
   "source": [
    "print(x)\n",
    "x.view()"
   ],
   "metadata": {
    "collapsed": false
   }
  }
 ],
 "metadata": {
  "kernelspec": {
   "display_name": "Python 3",
   "language": "python",
   "name": "python3"
  },
  "language_info": {
   "codemirror_mode": {
    "name": "ipython",
    "version": 2
   },
   "file_extension": ".py",
   "mimetype": "text/x-python",
   "name": "python",
   "nbconvert_exporter": "python",
   "pygments_lexer": "ipython2",
   "version": "2.7.6"
  }
 },
 "nbformat": 4,
 "nbformat_minor": 0
}
