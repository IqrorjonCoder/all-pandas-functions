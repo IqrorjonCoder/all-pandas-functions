{
 "cells": [
  {
   "cell_type": "code",
   "execution_count": 2,
   "metadata": {
    "collapsed": true
   },
   "outputs": [
    {
     "name": "stdout",
     "output_type": "stream",
     "text": [
      "0 T\n",
      "1 add_categories\n",
      "2 argmax\n",
      "3 argmin\n",
      "4 argsort\n",
      "5 as_ordered\n",
      "6 as_unordered\n",
      "7 astype\n",
      "8 categories\n",
      "9 check_for_ordered\n",
      "10 codes\n",
      "11 copy\n",
      "12 delete\n",
      "13 describe\n",
      "14 dropna\n",
      "15 dtype\n",
      "16 equals\n",
      "17 factorize\n",
      "18 fillna\n",
      "19 from_codes\n",
      "20 insert\n",
      "21 is_dtype_equal\n",
      "22 isin\n",
      "23 isna\n",
      "24 isnull\n",
      "25 map\n",
      "26 max\n",
      "27 memory_usage\n",
      "28 min\n",
      "29 mode\n",
      "30 nbytes\n",
      "31 ndim\n",
      "32 notna\n",
      "33 notnull\n",
      "34 ordered\n",
      "35 ravel\n",
      "36 remove_categories\n",
      "37 remove_unused_categories\n",
      "38 rename_categories\n",
      "39 reorder_categories\n",
      "40 repeat\n",
      "41 replace\n",
      "42 reshape\n",
      "43 searchsorted\n",
      "44 set_categories\n",
      "45 set_ordered\n",
      "46 shape\n",
      "47 shift\n",
      "48 size\n",
      "49 sort_values\n",
      "50 swapaxes\n",
      "51 take\n",
      "52 take_nd\n",
      "53 to_dense\n",
      "54 to_list\n",
      "55 to_numpy\n",
      "56 tolist\n",
      "57 transpose\n",
      "58 unique\n",
      "59 value_counts\n",
      "60 view\n"
     ]
    }
   ],
   "source": [
    "import pandas as pd\n",
    "\n",
    "functions = [i for i in dir(pd.Categorical) if i[:1] != '_']\n",
    "\n",
    "for i, v in enumerate(functions):\n",
    "    print(i, v)"
   ]
  },
  {
   "cell_type": "code",
   "execution_count": 39,
   "outputs": [
    {
     "data": {
      "text/plain": "[1, 2, 3, 4, 1, 3]\nCategories (4, int64): [1, 2, 3, 4]"
     },
     "execution_count": 39,
     "metadata": {},
     "output_type": "execute_result"
    }
   ],
   "source": [
    "x = pd.Categorical([1,2,3,4,1,3])\n",
    "x"
   ],
   "metadata": {
    "collapsed": false
   }
  },
  {
   "cell_type": "code",
   "execution_count": 17,
   "outputs": [
    {
     "data": {
      "text/plain": "[1, 2, 3, 4, 1, 3]\nCategories (4, int64): [1, 2, 3, 4]"
     },
     "execution_count": 17,
     "metadata": {},
     "output_type": "execute_result"
    }
   ],
   "source": [
    "x.T"
   ],
   "metadata": {
    "collapsed": false
   }
  },
  {
   "cell_type": "code",
   "execution_count": 18,
   "outputs": [
    {
     "data": {
      "text/plain": "[1, 2, 3, 4, 1, 3]\nCategories (5, int64): [1, 2, 3, 4, 5]"
     },
     "execution_count": 18,
     "metadata": {},
     "output_type": "execute_result"
    }
   ],
   "source": [
    "x.add_categories(5)"
   ],
   "metadata": {
    "collapsed": false
   }
  },
  {
   "cell_type": "code",
   "execution_count": 21,
   "outputs": [
    {
     "name": "stdout",
     "output_type": "stream",
     "text": [
      "[1, 2, 3, 4, 1, 3]\n",
      "Categories (4, int64): [1, 2, 3, 4]\n"
     ]
    },
    {
     "data": {
      "text/plain": "4"
     },
     "execution_count": 21,
     "metadata": {},
     "output_type": "execute_result"
    }
   ],
   "source": [
    "print(x)\n",
    "x[x.argmax()]"
   ],
   "metadata": {
    "collapsed": false
   }
  },
  {
   "cell_type": "code",
   "execution_count": 22,
   "outputs": [
    {
     "name": "stdout",
     "output_type": "stream",
     "text": [
      "[1, 2, 3, 4, 1, 3]\n",
      "Categories (4, int64): [1, 2, 3, 4]\n"
     ]
    },
    {
     "data": {
      "text/plain": "1"
     },
     "execution_count": 22,
     "metadata": {},
     "output_type": "execute_result"
    }
   ],
   "source": [
    "print(x)\n",
    "x[x.argmin()]"
   ],
   "metadata": {
    "collapsed": false
   }
  },
  {
   "cell_type": "code",
   "execution_count": 25,
   "outputs": [
    {
     "name": "stdout",
     "output_type": "stream",
     "text": [
      "[1, 2, 3, 4, 1, 3]\n",
      "Categories (4, int64): [1, 2, 3, 4]\n"
     ]
    },
    {
     "data": {
      "text/plain": "[1, 1, 2, 3, 3, 4]\nCategories (4, int64): [1, 2, 3, 4]"
     },
     "execution_count": 25,
     "metadata": {},
     "output_type": "execute_result"
    }
   ],
   "source": [
    "print(x)\n",
    "x[x.argsort()]"
   ],
   "metadata": {
    "collapsed": false
   }
  },
  {
   "cell_type": "code",
   "execution_count": 40,
   "outputs": [
    {
     "name": "stdout",
     "output_type": "stream",
     "text": [
      "[1, 2, 3, 4, 1, 3]\n",
      "Categories (4, int64): [1, 2, 3, 4]\n"
     ]
    },
    {
     "data": {
      "text/plain": "<bound method Categorical.as_ordered of [1, 2, 3, 4, 1, 3]\nCategories (4, int64): [1, 2, 3, 4]>"
     },
     "execution_count": 40,
     "metadata": {},
     "output_type": "execute_result"
    }
   ],
   "source": [
    "print(x)\n",
    "x.as_ordered"
   ],
   "metadata": {
    "collapsed": false
   }
  },
  {
   "cell_type": "code",
   "execution_count": null,
   "outputs": [],
   "source": [],
   "metadata": {
    "collapsed": false
   }
  }
 ],
 "metadata": {
  "kernelspec": {
   "display_name": "Python 3",
   "language": "python",
   "name": "python3"
  },
  "language_info": {
   "codemirror_mode": {
    "name": "ipython",
    "version": 2
   },
   "file_extension": ".py",
   "mimetype": "text/x-python",
   "name": "python",
   "nbconvert_exporter": "python",
   "pygments_lexer": "ipython2",
   "version": "2.7.6"
  }
 },
 "nbformat": 4,
 "nbformat_minor": 0
}
