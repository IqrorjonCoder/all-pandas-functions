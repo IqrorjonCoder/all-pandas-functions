{
 "cells": [
  {
   "cell_type": "code",
   "execution_count": 15,
   "metadata": {
    "collapsed": true
   },
   "outputs": [
    {
     "name": "stdout",
     "output_type": "stream",
     "text": [
      "     ______________ _______________ ______________________ ______ ______________________  \\\n",
      "0     A3GALT2       1p35.1          U3KPV4     A3LT2...                                    \n",
      "1     AADACL3       1p36.21         Q5VUY0     ADCL3...                                    \n",
      "2     AADACL4       1p36.21         Q5VUY2     ADCL4...                                    \n",
      "3     ABCA4         1p21-p22.1      P78363     ABCA4...                                    \n",
      "4     ABCB10        1q42            Q9NRK6     ABCBA...                                    \n",
      "...                                                 ...                                    \n",
      "2065  -             1p32.1          Q0P140     YA037...                                    \n",
      "2066  -             1p34.3          Q6XCG6     YA011...                                    \n",
      "2067  -             1p34.3          Q7L0L9     YA043...                                    \n",
      "2068  -             1p36.13         P0DMU3     F231L...                                    \n",
      "2069  -             1q21.3          A8MUI8     YA034...                                    \n",
      "\n",
      "     Unnamed: 1 Unnamed: 2  \n",
      "0           NaN        NaN  \n",
      "1           NaN        NaN  \n",
      "2           NaN        NaN  \n",
      "3           NaN        NaN  \n",
      "4           NaN        NaN  \n",
      "...         ...        ...  \n",
      "2065        NaN        NaN  \n",
      "2066        NaN        NaN  \n",
      "2067        NaN        NaN  \n",
      "2068        NaN        NaN  \n",
      "2069        NaN        NaN  \n",
      "\n",
      "[2070 rows x 3 columns]\n"
     ]
    }
   ],
   "source": [
    "import pandas as pd\n",
    "\n",
    "data = pd.read_fwf(\"https://ftp.uniprot.org/pub/databases/uniprot/current_release/knowledgebase/complete/docs/humchr01.txt\", skiprows=35, skipfooter=5)\n",
    "\n",
    "print(data)"
   ]
  }
 ],
 "metadata": {
  "kernelspec": {
   "display_name": "Python 3",
   "language": "python",
   "name": "python3"
  },
  "language_info": {
   "codemirror_mode": {
    "name": "ipython",
    "version": 2
   },
   "file_extension": ".py",
   "mimetype": "text/x-python",
   "name": "python",
   "nbconvert_exporter": "python",
   "pygments_lexer": "ipython2",
   "version": "2.7.6"
  }
 },
 "nbformat": 4,
 "nbformat_minor": 0
}
