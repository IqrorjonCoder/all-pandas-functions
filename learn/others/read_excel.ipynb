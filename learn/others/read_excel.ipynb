{
 "cells": [
  {
   "cell_type": "code",
   "execution_count": 6,
   "metadata": {
    "collapsed": true
   },
   "outputs": [
    {
     "name": "stdout",
     "output_type": "stream",
     "text": [
      "  First Name\n",
      "0      Dulce\n",
      "1       Mara\n",
      "2     Philip\n",
      "3   Kathleen\n",
      "4    Nereida\n",
      "5     Gaston\n",
      "6       Etta\n",
      "7    Earlean\n",
      "8   Vincenza\n"
     ]
    }
   ],
   "source": [
    "import pandas as pd\n",
    "\n",
    "data = pd.read_excel(\"/home/iqrorjoon/PycharmProjects/pandas all functions/base/file_example_XLS_10.xls\",\n",
    "                     usecols=['First Name'])\n",
    "\n",
    "print(data)"
   ]
  }
 ],
 "metadata": {
  "kernelspec": {
   "display_name": "Python 3",
   "language": "python",
   "name": "python3"
  },
  "language_info": {
   "codemirror_mode": {
    "name": "ipython",
    "version": 2
   },
   "file_extension": ".py",
   "mimetype": "text/x-python",
   "name": "python",
   "nbconvert_exporter": "python",
   "pygments_lexer": "ipython2",
   "version": "2.7.6"
  }
 },
 "nbformat": 4,
 "nbformat_minor": 0
}
