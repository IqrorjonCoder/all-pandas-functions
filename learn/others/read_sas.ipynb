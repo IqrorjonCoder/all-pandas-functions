{
 "cells": [
  {
   "cell_type": "code",
   "execution_count": 2,
   "metadata": {
    "collapsed": true
   },
   "outputs": [
    {
     "name": "stdout",
     "output_type": "stream",
     "text": [
      "       AGE     GENDER   ISS   GCS    SBP  penetrate  dead\n",
      "0      6.5  b'Female'   5.0  15.0  124.0        0.0   0.0\n",
      "1     17.7    b'Male'  25.0   6.0  188.0        1.0   0.0\n",
      "2     14.6    b'Male'   9.0  15.0  118.0        0.0   0.0\n",
      "3      7.1  b'Female'  26.0  14.0  123.0        0.0   0.0\n",
      "4     12.4    b'Male'  29.0   7.0  137.0        0.0   0.0\n",
      "...    ...        ...   ...   ...    ...        ...   ...\n",
      "3678  17.3    b'Male'  22.0   3.0  172.0        0.0   0.0\n",
      "3679  17.7  b'Female'  17.0   3.0  127.0        0.0   0.0\n",
      "3680  17.4    b'Male'  10.0  10.0  127.0        0.0   0.0\n",
      "3681  17.8  b'Female'  17.0  15.0  132.0        0.0   0.0\n",
      "3682  17.9    b'Male'  41.0   3.0  154.0        0.0   0.0\n",
      "\n",
      "[3683 rows x 7 columns]\n"
     ]
    }
   ],
   "source": [
    "import pandas as pd\n",
    "\n",
    "data = pd.read_sas(\"/home/iqrorjoon/PycharmProjects/pandas all functions/base/simple_sas.sas7bdat\")\n",
    "\n",
    "print(data)"
   ]
  }
 ],
 "metadata": {
  "kernelspec": {
   "display_name": "Python 3",
   "language": "python",
   "name": "python3"
  },
  "language_info": {
   "codemirror_mode": {
    "name": "ipython",
    "version": 2
   },
   "file_extension": ".py",
   "mimetype": "text/x-python",
   "name": "python",
   "nbconvert_exporter": "python",
   "pygments_lexer": "ipython2",
   "version": "2.7.6"
  }
 },
 "nbformat": 4,
 "nbformat_minor": 0
}
