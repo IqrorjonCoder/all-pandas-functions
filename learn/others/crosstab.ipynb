{
 "cells": [
  {
   "cell_type": "code",
   "execution_count": 10,
   "metadata": {
    "collapsed": true
   },
   "outputs": [
    {
     "data": {
      "text/plain": "b   four three\nc    six fivee\na             \none    0     6\ntwo    5     0",
      "text/html": "<div>\n<style scoped>\n    .dataframe tbody tr th:only-of-type {\n        vertical-align: middle;\n    }\n\n    .dataframe tbody tr th {\n        vertical-align: top;\n    }\n\n    .dataframe thead tr th {\n        text-align: left;\n    }\n\n    .dataframe thead tr:last-of-type th {\n        text-align: right;\n    }\n</style>\n<table border=\"1\" class=\"dataframe\">\n  <thead>\n    <tr>\n      <th>b</th>\n      <th>four</th>\n      <th>three</th>\n    </tr>\n    <tr>\n      <th>c</th>\n      <th>six</th>\n      <th>fivee</th>\n    </tr>\n    <tr>\n      <th>a</th>\n      <th></th>\n      <th></th>\n    </tr>\n  </thead>\n  <tbody>\n    <tr>\n      <th>one</th>\n      <td>0</td>\n      <td>6</td>\n    </tr>\n    <tr>\n      <th>two</th>\n      <td>5</td>\n      <td>0</td>\n    </tr>\n  </tbody>\n</table>\n</div>"
     },
     "execution_count": 10,
     "metadata": {},
     "output_type": "execute_result"
    }
   ],
   "source": [
    "import pandas as pd\n",
    "import numpy as np\n",
    "\n",
    "a = np.array([\"one\", \"one\", \"one\", \"one\", \"one\", \"one\",\n",
    "               \"two\", \"two\", \"two\", \"two\", \"two\"], dtype=object)\n",
    "b = np.array([\"three\", \"three\", \"three\", \"three\", \"three\", \"three\",\n",
    "               \"four\", \"four\", \"four\", \"four\", \"four\"], dtype=object)\n",
    "c = np.array([\"fivee\", \"fivee\", \"fivee\", \"fivee\", \"fivee\", \"fivee\",\n",
    "               \"six\", \"six\", \"six\", \"six\", \"six\"],\n",
    "              dtype=object)\n",
    "pd.crosstab(a, [b, c], rownames=['a'], colnames=['b', 'c'])"
   ]
  }
 ],
 "metadata": {
  "kernelspec": {
   "display_name": "Python 3",
   "language": "python",
   "name": "python3"
  },
  "language_info": {
   "codemirror_mode": {
    "name": "ipython",
    "version": 2
   },
   "file_extension": ".py",
   "mimetype": "text/x-python",
   "name": "python",
   "nbconvert_exporter": "python",
   "pygments_lexer": "ipython2",
   "version": "2.7.6"
  }
 },
 "nbformat": 4,
 "nbformat_minor": 0
}
