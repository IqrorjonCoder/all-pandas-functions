{
 "cells": [
  {
   "cell_type": "code",
   "execution_count": 2,
   "metadata": {
    "collapsed": true
   },
   "outputs": [
    {
     "name": "stdout",
     "output_type": "stream",
     "text": [
      "{\n",
      "  \"system\": {\n",
      "    \"commit\": \"8dab54d6573f7186ff0c3b6364d5e4dd635ff3e7\",\n",
      "    \"python\": \"3.8.10.final.0\",\n",
      "    \"python-bits\": 64,\n",
      "    \"OS\": \"Linux\",\n",
      "    \"OS-release\": \"5.4.0-72-generic\",\n",
      "    \"Version\": \"#80-Ubuntu SMP Mon Apr 12 17:35:00 UTC 2021\",\n",
      "    \"machine\": \"x86_64\",\n",
      "    \"processor\": \"x86_64\",\n",
      "    \"byteorder\": \"little\",\n",
      "    \"LC_ALL\": \"en_US.UTF-8\",\n",
      "    \"LANG\": \"en_US.UTF-8\",\n",
      "    \"LOCALE\": {\n",
      "      \"language-code\": \"en_US\",\n",
      "      \"encoding\": \"UTF-8\"\n",
      "    }\n",
      "  },\n",
      "  \"dependencies\": {\n",
      "    \"pandas\": \"1.5.2\",\n",
      "    \"numpy\": \"1.24.0\",\n",
      "    \"pytz\": \"2022.7\",\n",
      "    \"dateutil\": \"2.8.2\",\n",
      "    \"setuptools\": \"60.2.0\",\n",
      "    \"pip\": \"22.3.1\",\n",
      "    \"Cython\": \"0.29.33\",\n",
      "    \"pytest\": null,\n",
      "    \"hypothesis\": null,\n",
      "    \"sphinx\": null,\n",
      "    \"blosc\": null,\n",
      "    \"feather\": null,\n",
      "    \"xlsxwriter\": null,\n",
      "    \"lxml.etree\": \"4.8.0\",\n",
      "    \"html5lib\": \"1.1\",\n",
      "    \"pymysql\": null,\n",
      "    \"psycopg2\": null,\n",
      "    \"jinja2\": \"3.1.2\",\n",
      "    \"IPython\": \"8.8.0\",\n",
      "    \"pandas_datareader\": null,\n",
      "    \"bs4\": \"4.11.1\",\n",
      "    \"bottleneck\": null,\n",
      "    \"brotli\": null,\n",
      "    \"fastparquet\": null,\n",
      "    \"fsspec\": null,\n",
      "    \"gcsfs\": null,\n",
      "    \"matplotlib\": \"3.6.2\",\n",
      "    \"numba\": null,\n",
      "    \"numexpr\": \"2.8.4\",\n",
      "    \"odfpy\": null,\n",
      "    \"openpyxl\": \"3.0.10\",\n",
      "    \"pandas_gbq\": null,\n",
      "    \"pyarrow\": \"10.0.1\",\n",
      "    \"pyreadstat\": \"1.2.0\",\n",
      "    \"pyxlsb\": null,\n",
      "    \"s3fs\": null,\n",
      "    \"scipy\": null,\n",
      "    \"snappy\": null,\n",
      "    \"sqlalchemy\": null,\n",
      "    \"tables\": \"3.8.0\",\n",
      "    \"tabulate\": null,\n",
      "    \"xarray\": null,\n",
      "    \"xlrd\": \"2.0.1\",\n",
      "    \"xlwt\": \"1.3.0\",\n",
      "    \"zstandard\": null,\n",
      "    \"tzdata\": null\n",
      "  }\n",
      "}None\n"
     ]
    }
   ],
   "source": [
    "import pandas as pd\n",
    "\n",
    "data = pd.show_versions(as_json=True)\n",
    "\n",
    "print(data)"
   ]
  }
 ],
 "metadata": {
  "kernelspec": {
   "display_name": "Python 3",
   "language": "python",
   "name": "python3"
  },
  "language_info": {
   "codemirror_mode": {
    "name": "ipython",
    "version": 2
   },
   "file_extension": ".py",
   "mimetype": "text/x-python",
   "name": "python",
   "nbconvert_exporter": "python",
   "pygments_lexer": "ipython2",
   "version": "2.7.6"
  }
 },
 "nbformat": 4,
 "nbformat_minor": 0
}
