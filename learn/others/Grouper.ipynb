{
 "cells": [
  {
   "cell_type": "code",
   "execution_count": 5,
   "metadata": {
    "collapsed": true
   },
   "outputs": [
    {
     "name": "stdout",
     "output_type": "stream",
     "text": [
      "   one  two  three\n",
      "0    1    4      7\n",
      "1    2    5      8\n",
      "2    3    6      9\n",
      "     two  three\n",
      "one            \n",
      "1    4.0    7.0\n",
      "2    5.0    8.0\n",
      "3    6.0    9.0\n"
     ]
    }
   ],
   "source": [
    "import pandas as pd\n",
    "\n",
    "g = pd.Grouper(key='one')\n",
    "\n",
    "data = pd.DataFrame({'one': [1,2,3],\n",
    "                     'two': [4,5,6],\n",
    "                     'three': [7,8,9]})\n",
    "\n",
    "print(data)\n",
    "print(data.groupby(g).mean())"
   ]
  }
 ],
 "metadata": {
  "kernelspec": {
   "display_name": "Python 3",
   "language": "python",
   "name": "python3"
  },
  "language_info": {
   "codemirror_mode": {
    "name": "ipython",
    "version": 2
   },
   "file_extension": ".py",
   "mimetype": "text/x-python",
   "name": "python",
   "nbconvert_exporter": "python",
   "pygments_lexer": "ipython2",
   "version": "2.7.6"
  }
 },
 "nbformat": 4,
 "nbformat_minor": 0
}
