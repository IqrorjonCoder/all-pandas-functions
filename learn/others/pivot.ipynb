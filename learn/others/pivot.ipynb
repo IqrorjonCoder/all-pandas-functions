{
 "cells": [
  {
   "cell_type": "code",
   "execution_count": 14,
   "metadata": {
    "collapsed": true
   },
   "outputs": [
    {
     "name": "stdout",
     "output_type": "stream",
     "text": [
      "   a  b\n",
      "0  1  4\n",
      "1  2  5\n",
      "2  3  6\n",
      "     a          \n",
      "b    4    5    6\n",
      "0  1.0  NaN  NaN\n",
      "1  NaN  2.0  NaN\n",
      "2  NaN  NaN  3.0\n",
      "     a          \n",
      "b    4    5    6\n",
      "0  1.0  NaN  NaN\n",
      "1  NaN  2.0  NaN\n",
      "2  NaN  NaN  3.0\n"
     ]
    }
   ],
   "source": [
    "import pandas as pd\n",
    "\n",
    "df = pd.DataFrame({\n",
    "    'a': [1,2,3],\n",
    "    'b': [4,5,6],\n",
    "})\n",
    "\n",
    "data1 = pd.pivot(data=df, columns='b')\n",
    "data2 = pd.pivot(data=df, columns='b')\n",
    "# data = pd.pivot.__doc__\n",
    "\n",
    "print(df)\n",
    "print(data1)\n",
    "print(data2)"
   ]
  }
 ],
 "metadata": {
  "kernelspec": {
   "display_name": "Python 3",
   "language": "python",
   "name": "python3"
  },
  "language_info": {
   "codemirror_mode": {
    "name": "ipython",
    "version": 2
   },
   "file_extension": ".py",
   "mimetype": "text/x-python",
   "name": "python",
   "nbconvert_exporter": "python",
   "pygments_lexer": "ipython2",
   "version": "2.7.6"
  }
 },
 "nbformat": 4,
 "nbformat_minor": 0
}
