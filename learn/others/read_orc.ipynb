{
 "cells": [
  {
   "cell_type": "code",
   "execution_count": 2,
   "metadata": {
    "collapsed": true
   },
   "outputs": [
    {
     "name": "stdout",
     "output_type": "stream",
     "text": [
      "      boolean1  byte1  short1   int1                long1  float1  double1  \\\n",
      "0        False      1    1024  65536  9223372036854775807     1.0    -15.0   \n",
      "1         True    100    2048  65536  9223372036854775807     2.0     -5.0   \n",
      "2        False      1    1024  65536  9223372036854775807     1.0    -15.0   \n",
      "3         True    100    2048  65536  9223372036854775807     2.0     -5.0   \n",
      "4        False      1    1024  65536  9223372036854775807     1.0    -15.0   \n",
      "...        ...    ...     ...    ...                  ...     ...      ...   \n",
      "7495      True    100    2048  65536  9223372036854775807     2.0     -5.0   \n",
      "7496     False      1    1024  65536  9223372036854775807     1.0    -15.0   \n",
      "7497      True    100    2048  65536  9223372036854775807     2.0     -5.0   \n",
      "7498     False      1    1024  65536  9223372036854775807     1.0    -15.0   \n",
      "7499      True    100    2048  65536  9223372036854775807     2.0     -5.0   \n",
      "\n",
      "                       bytes1 string1  \\\n",
      "0     b'\\x00\\x01\\x02\\x03\\x04'      hi   \n",
      "1                         b''     bye   \n",
      "2     b'\\x00\\x01\\x02\\x03\\x04'      hi   \n",
      "3                         b''     bye   \n",
      "4     b'\\x00\\x01\\x02\\x03\\x04'      hi   \n",
      "...                       ...     ...   \n",
      "7495                      b''     bye   \n",
      "7496  b'\\x00\\x01\\x02\\x03\\x04'      hi   \n",
      "7497                      b''     bye   \n",
      "7498  b'\\x00\\x01\\x02\\x03\\x04'      hi   \n",
      "7499                      b''     bye   \n",
      "\n",
      "                                                 middle  \\\n",
      "0     {'list': [{'int1': 1, 'string1': 'bye'}, {'int...   \n",
      "1     {'list': [{'int1': 1, 'string1': 'bye'}, {'int...   \n",
      "2     {'list': [{'int1': 1, 'string1': 'bye'}, {'int...   \n",
      "3     {'list': [{'int1': 1, 'string1': 'bye'}, {'int...   \n",
      "4     {'list': [{'int1': 1, 'string1': 'bye'}, {'int...   \n",
      "...                                                 ...   \n",
      "7495  {'list': [{'int1': 1, 'string1': 'bye'}, {'int...   \n",
      "7496  {'list': [{'int1': 1, 'string1': 'bye'}, {'int...   \n",
      "7497  {'list': [{'int1': 1, 'string1': 'bye'}, {'int...   \n",
      "7498  {'list': [{'int1': 1, 'string1': 'bye'}, {'int...   \n",
      "7499  {'list': [{'int1': 1, 'string1': 'bye'}, {'int...   \n",
      "\n",
      "                                                   list  \\\n",
      "0     [{'int1': 3, 'string1': 'good'}, {'int1': 4, '...   \n",
      "1     [{'int1': 100000000, 'string1': 'cat'}, {'int1...   \n",
      "2     [{'int1': 3, 'string1': 'good'}, {'int1': 4, '...   \n",
      "3     [{'int1': 100000000, 'string1': 'cat'}, {'int1...   \n",
      "4     [{'int1': 3, 'string1': 'good'}, {'int1': 4, '...   \n",
      "...                                                 ...   \n",
      "7495  [{'int1': 100000000, 'string1': 'cat'}, {'int1...   \n",
      "7496  [{'int1': 3, 'string1': 'good'}, {'int1': 4, '...   \n",
      "7497  [{'int1': 100000000, 'string1': 'cat'}, {'int1...   \n",
      "7498  [{'int1': 3, 'string1': 'good'}, {'int1': 4, '...   \n",
      "7499  [{'int1': 100000000, 'string1': 'cat'}, {'int1...   \n",
      "\n",
      "                                                    map                  ts  \\\n",
      "0                                                    [] 2000-03-12 15:00:00   \n",
      "1     [(chani, {'int1': 5, 'string1': 'chani'}), (ma... 2000-03-12 15:00:01   \n",
      "2                                                    [] 2000-03-12 15:00:00   \n",
      "3     [(chani, {'int1': 5, 'string1': 'chani'}), (ma... 2000-03-12 15:00:01   \n",
      "4                                                    [] 2000-03-12 15:00:00   \n",
      "...                                                 ...                 ...   \n",
      "7495  [(chani, {'int1': 5, 'string1': 'chani'}), (ma... 2000-03-12 15:00:01   \n",
      "7496                                                 [] 2000-03-12 15:00:00   \n",
      "7497  [(chani, {'int1': 5, 'string1': 'chani'}), (ma... 2000-03-12 15:00:01   \n",
      "7498                                                 [] 2000-03-12 15:00:00   \n",
      "7499  [(chani, {'int1': 5, 'string1': 'chani'}), (ma... 2000-03-12 15:00:01   \n",
      "\n",
      "             decimal1  \n",
      "0     12345678.654745  \n",
      "1     12345678.654745  \n",
      "2     12345678.654745  \n",
      "3     12345678.654745  \n",
      "4     12345678.654745  \n",
      "...               ...  \n",
      "7495  12345678.654745  \n",
      "7496  12345678.654745  \n",
      "7497  12345678.654745  \n",
      "7498  12345678.654745  \n",
      "7499  12345678.654745  \n",
      "\n",
      "[7500 rows x 14 columns]\n"
     ]
    }
   ],
   "source": [
    "import pandas as pd\n",
    "\n",
    "data = pd.read_orc(\"/home/iqrorjoon/PycharmProjects/pandas all functions/base/simple_orc.orc\")\n",
    "\n",
    "print(data)"
   ]
  }
 ],
 "metadata": {
  "kernelspec": {
   "display_name": "Python 3",
   "language": "python",
   "name": "python3"
  },
  "language_info": {
   "codemirror_mode": {
    "name": "ipython",
    "version": 2
   },
   "file_extension": ".py",
   "mimetype": "text/x-python",
   "name": "python",
   "nbconvert_exporter": "python",
   "pygments_lexer": "ipython2",
   "version": "2.7.6"
  }
 },
 "nbformat": 4,
 "nbformat_minor": 0
}
