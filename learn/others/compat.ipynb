{
 "cells": [
  {
   "cell_type": "code",
   "execution_count": 12,
   "metadata": {
    "collapsed": true
   },
   "outputs": [
    {
     "name": "stdout",
     "output_type": "stream",
     "text": [
      "['is_numpy_dev', 'np_version_under1p21', 'pa_version_under1p01', 'pa_version_under2p0', 'pa_version_under3p0', 'pa_version_under4p0', 'pa_version_under5p0', 'pa_version_under6p0', 'pa_version_under7p0', 'pa_version_under8p0', 'pa_version_under9p0']\n",
      "False\n",
      "True\n"
     ]
    },
    {
     "data": {
      "text/plain": "200"
     },
     "execution_count": 12,
     "metadata": {},
     "output_type": "execute_result"
    }
   ],
   "source": [
    "import pandas as pd\n",
    "\n",
    "data = pd.compat.__all__\n",
    "\n",
    "print(data)\n",
    "\n",
    "def main(x):\n",
    "    return x+100\n",
    "\n",
    "print(pd.compat.is_numpy_dev)\n",
    "print(pd.compat.is_platform_linux())\n",
    "pd.compat.set_function_name(f=main, name='simplee', cls=main)(100)"
   ]
  }
 ],
 "metadata": {
  "kernelspec": {
   "display_name": "Python 3",
   "language": "python",
   "name": "python3"
  },
  "language_info": {
   "codemirror_mode": {
    "name": "ipython",
    "version": 2
   },
   "file_extension": ".py",
   "mimetype": "text/x-python",
   "name": "python",
   "nbconvert_exporter": "python",
   "pygments_lexer": "ipython2",
   "version": "2.7.6"
  }
 },
 "nbformat": 4,
 "nbformat_minor": 0
}
