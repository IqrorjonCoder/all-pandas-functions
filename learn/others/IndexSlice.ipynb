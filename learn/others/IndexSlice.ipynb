{
 "cells": [
  {
   "cell_type": "code",
   "execution_count": 28,
   "metadata": {
    "collapsed": true
   },
   "outputs": [
    {
     "name": "stdout",
     "output_type": "stream",
     "text": [
      "MultiIndex([(1, 4, 7),\n",
      "            (2, 5, 8),\n",
      "            (3, 6, 9)],\n",
      "           )\n",
      "MultiIndex([(1, 4, 7),\n",
      "            (2, 5, 8)],\n",
      "           )\n"
     ]
    }
   ],
   "source": [
    "import pandas as pd\n",
    "import random\n",
    "\n",
    "idx = pd.IndexSlice\n",
    "\n",
    "data = pd.MultiIndex.from_arrays([[1,2,3], [4,5,6], [7,8,9]])\n",
    "print(data)\n",
    "print(data[idx[:2]])"
   ]
  }
 ],
 "metadata": {
  "kernelspec": {
   "display_name": "Python 3",
   "language": "python",
   "name": "python3"
  },
  "language_info": {
   "codemirror_mode": {
    "name": "ipython",
    "version": 2
   },
   "file_extension": ".py",
   "mimetype": "text/x-python",
   "name": "python",
   "nbconvert_exporter": "python",
   "pygments_lexer": "ipython2",
   "version": "2.7.6"
  }
 },
 "nbformat": 4,
 "nbformat_minor": 0
}
