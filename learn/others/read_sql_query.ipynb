{
 "cells": [
  {
   "cell_type": "code",
   "execution_count": 7,
   "metadata": {
    "collapsed": true
   },
   "outputs": [
    {
     "name": "stdout",
     "output_type": "stream",
     "text": [
      "   index  a\n",
      "0      0  1\n",
      "1      1  2\n",
      "2      2  4\n"
     ]
    }
   ],
   "source": [
    "import pandas as pd\n",
    "import sqlite3\n",
    "\n",
    "\n",
    "# pd.DataFrame({'a': [1,2,4]}).to_sql('simple', con=sqlite3.connect(\"/home/iqrorjoon/PycharmProjects/pandas all functions/base/simple_sql\"))\n",
    "data = pd.read_sql_query(\"select * from simple;\", sqlite3.connect(\"/home/iqrorjoon/PycharmProjects/pandas all functions/base/simple_sql\"))\n",
    "\n",
    "print(data)"
   ]
  }
 ],
 "metadata": {
  "kernelspec": {
   "display_name": "Python 3",
   "language": "python",
   "name": "python3"
  },
  "language_info": {
   "codemirror_mode": {
    "name": "ipython",
    "version": 2
   },
   "file_extension": ".py",
   "mimetype": "text/x-python",
   "name": "python",
   "nbconvert_exporter": "python",
   "pygments_lexer": "ipython2",
   "version": "2.7.6"
  }
 },
 "nbformat": 4,
 "nbformat_minor": 0
}
