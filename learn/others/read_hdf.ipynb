{
 "cells": [
  {
   "cell_type": "code",
   "execution_count": 4,
   "metadata": {
    "collapsed": true
   },
   "outputs": [
    {
     "name": "stdout",
     "output_type": "stream",
     "text": [
      "   x\n",
      "0  a\n",
      "1  b\n",
      "2  c\n"
     ]
    }
   ],
   "source": [
    "import pandas as pd\n",
    "import tables\n",
    "\n",
    "pd.DataFrame({'x': ['a', 'b', 'c']}).to_hdf(\"/home/iqrorjoon/PycharmProjects/pandas all functions/base/simplee_hdff.h5\", key='keyy')\n",
    "data = pd.read_hdf(\"/home/iqrorjoon/PycharmProjects/pandas all functions/base/simplee_hdff.h5\", key='keyy')\n",
    "\n",
    "print(data)"
   ]
  }
 ],
 "metadata": {
  "kernelspec": {
   "display_name": "Python 3",
   "language": "python",
   "name": "python3"
  },
  "language_info": {
   "codemirror_mode": {
    "name": "ipython",
    "version": 2
   },
   "file_extension": ".py",
   "mimetype": "text/x-python",
   "name": "python",
   "nbconvert_exporter": "python",
   "pygments_lexer": "ipython2",
   "version": "2.7.6"
  }
 },
 "nbformat": 4,
 "nbformat_minor": 0
}
