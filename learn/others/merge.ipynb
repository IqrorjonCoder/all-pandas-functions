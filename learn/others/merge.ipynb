{
 "cells": [
  {
   "cell_type": "code",
   "execution_count": 15,
   "metadata": {
    "collapsed": true
   },
   "outputs": [
    {
     "name": "stdout",
     "output_type": "stream",
     "text": [
      "       a     b     c\n",
      "0    one  onee   two\n",
      "1    one  onee  four\n",
      "2  three  onee   two\n",
      "3  three  onee  four\n"
     ]
    }
   ],
   "source": [
    "import pandas as pd\n",
    "\n",
    "df1 = pd.DataFrame({'a': ['one', 'three'], 'b': ['onee', 'onee']})\n",
    "df2 = pd.DataFrame({'c': ['two', 'four'], 'b': ['onee', 'onee']})\n",
    "\n",
    "data = pd.merge(df1, df2, on='b', suffixes=('__df1', '__df2'))\n",
    "\n",
    "print(data)"
   ]
  }
 ],
 "metadata": {
  "kernelspec": {
   "display_name": "Python 3",
   "language": "python",
   "name": "python3"
  },
  "language_info": {
   "codemirror_mode": {
    "name": "ipython",
    "version": 2
   },
   "file_extension": ".py",
   "mimetype": "text/x-python",
   "name": "python",
   "nbconvert_exporter": "python",
   "pygments_lexer": "ipython2",
   "version": "2.7.6"
  }
 },
 "nbformat": 4,
 "nbformat_minor": 0
}
