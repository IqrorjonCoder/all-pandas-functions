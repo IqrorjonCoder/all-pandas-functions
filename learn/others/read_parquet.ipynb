{
 "cells": [
  {
   "cell_type": "code",
   "execution_count": 1,
   "metadata": {
    "collapsed": true
   },
   "outputs": [
    {
     "name": "stdout",
     "output_type": "stream",
     "text": [
      "      registration_dttm    id first_name last_name                     email  \\\n",
      "0   2016-02-03 07:55:29     1     Amanda    Jordan          ajordan0@com.com   \n",
      "1   2016-02-03 17:04:03     2     Albert   Freeman           afreeman1@is.gd   \n",
      "2   2016-02-03 01:09:31     3     Evelyn    Morgan   emorgan2@altervista.org   \n",
      "3   2016-02-03 00:36:21     4     Denise     Riley          driley3@gmpg.org   \n",
      "4   2016-02-03 05:05:31     5     Carlos     Burns  cburns4@miitbeian.gov.cn   \n",
      "..                  ...   ...        ...       ...                       ...   \n",
      "995 2016-02-03 10:30:59   996     Dennis    Harris      dharrisrn@eepurl.com   \n",
      "996 2016-02-03 17:16:53   997     Gloria  Hamilton    ghamiltonro@rambler.ru   \n",
      "997 2016-02-03 05:02:20   998      Nancy    Morris         nmorrisrp@ask.com   \n",
      "998 2016-02-03 02:41:32   999      Annie   Daniels    adanielsrq@squidoo.com   \n",
      "999 2016-02-03 09:52:18  1000      Julie     Meyer       jmeyerrr@flavors.me   \n",
      "\n",
      "     gender       ip_address                cc       country  birthdate  \\\n",
      "0    Female      1.197.201.2  6759521864920116     Indonesia   3/8/1971   \n",
      "1      Male   218.111.175.34                          Canada  1/16/1968   \n",
      "2    Female     7.161.136.94  6767119071901597        Russia   2/1/1960   \n",
      "3    Female    140.35.109.83  3576031598965625         China   4/8/1997   \n",
      "4             169.113.235.40  5602256255204850  South Africa              \n",
      "..      ...              ...               ...           ...        ...   \n",
      "995    Male  178.180.111.236   374288806662929        Greece   7/8/1965   \n",
      "996  Female     71.50.39.137                           China  4/22/1975   \n",
      "997            6.188.121.221  3553564071014997        Sweden   5/1/1979   \n",
      "998  Female    97.221.132.35    30424803513734         China  10/9/1991   \n",
      "999  Female    217.1.147.132   374288099198540         China              \n",
      "\n",
      "        salary                   title comments  \n",
      "0     49756.53        Internal Auditor    1E+02  \n",
      "1    150280.17           Accountant IV           \n",
      "2    144972.51     Structural Engineer           \n",
      "3     90263.05  Senior Cost Accountant           \n",
      "4          NaN                                   \n",
      "..         ...                     ...      ...  \n",
      "995  263399.54                  Editor           \n",
      "996   83183.54   VP Product Management           \n",
      "997        NaN        Junior Executive           \n",
      "998   18433.85                  Editor        ​  \n",
      "999  222561.13                                   \n",
      "\n",
      "[1000 rows x 13 columns]\n"
     ]
    }
   ],
   "source": [
    "import pandas as pd\n",
    "\n",
    "data = pd.read_parquet(\"/home/iqrorjoon/PycharmProjects/pandas all functions/base/simple_parquet.parquet\")\n",
    "\n",
    "print(data)"
   ]
  }
 ],
 "metadata": {
  "kernelspec": {
   "display_name": "Python 3",
   "language": "python",
   "name": "python3"
  },
  "language_info": {
   "codemirror_mode": {
    "name": "ipython",
    "version": 2
   },
   "file_extension": ".py",
   "mimetype": "text/x-python",
   "name": "python",
   "nbconvert_exporter": "python",
   "pygments_lexer": "ipython2",
   "version": "2.7.6"
  }
 },
 "nbformat": 4,
 "nbformat_minor": 0
}
