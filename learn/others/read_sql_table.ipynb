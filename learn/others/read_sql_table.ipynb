{
 "cells": [
  {
   "cell_type": "code",
   "execution_count": 3,
   "metadata": {
    "collapsed": true
   },
   "outputs": [
    {
     "ename": "AttributeError",
     "evalue": "'SQLiteDatabase' object has no attribute 'read_table'",
     "output_type": "error",
     "traceback": [
      "\u001B[0;31m---------------------------------------------------------------------------\u001B[0m",
      "\u001B[0;31mAttributeError\u001B[0m                            Traceback (most recent call last)",
      "Cell \u001B[0;32mIn[3], line 4\u001B[0m\n\u001B[1;32m      1\u001B[0m \u001B[38;5;28;01mimport\u001B[39;00m \u001B[38;5;21;01mpandas\u001B[39;00m \u001B[38;5;28;01mas\u001B[39;00m \u001B[38;5;21;01mpd\u001B[39;00m\n\u001B[1;32m      2\u001B[0m \u001B[38;5;28;01mimport\u001B[39;00m \u001B[38;5;21;01msqlite3\u001B[39;00m\n\u001B[0;32m----> 4\u001B[0m data \u001B[38;5;241m=\u001B[39m \u001B[43mpd\u001B[49m\u001B[38;5;241;43m.\u001B[39;49m\u001B[43mread_sql_table\u001B[49m\u001B[43m(\u001B[49m\u001B[38;5;124;43m\"\u001B[39;49m\u001B[38;5;124;43msimple\u001B[39;49m\u001B[38;5;124;43m\"\u001B[39;49m\u001B[43m,\u001B[49m\u001B[43m \u001B[49m\u001B[43msqlite3\u001B[49m\u001B[38;5;241;43m.\u001B[39;49m\u001B[43mconnect\u001B[49m\u001B[43m(\u001B[49m\u001B[38;5;124;43m\"\u001B[39;49m\u001B[38;5;124;43m/home/iqrorjoon/PycharmProjects/pandas all functions/base/simple_sql\u001B[39;49m\u001B[38;5;124;43m\"\u001B[39;49m\u001B[43m)\u001B[49m\u001B[43m)\u001B[49m\n\u001B[1;32m      6\u001B[0m \u001B[38;5;28mprint\u001B[39m(data)\n",
      "File \u001B[0;32m~/PycharmProjects/pandas all functions/venv/lib/python3.8/site-packages/pandas/io/sql.py:286\u001B[0m, in \u001B[0;36mread_sql_table\u001B[0;34m(table_name, con, schema, index_col, coerce_float, parse_dates, columns, chunksize)\u001B[0m\n\u001B[1;32m    282\u001B[0m     \u001B[38;5;28;01mraise\u001B[39;00m \u001B[38;5;167;01mValueError\u001B[39;00m(\u001B[38;5;124mf\u001B[39m\u001B[38;5;124m\"\u001B[39m\u001B[38;5;124mTable \u001B[39m\u001B[38;5;132;01m{\u001B[39;00mtable_name\u001B[38;5;132;01m}\u001B[39;00m\u001B[38;5;124m not found\u001B[39m\u001B[38;5;124m\"\u001B[39m)\n\u001B[1;32m    284\u001B[0m \u001B[38;5;66;03m# error: Item \"SQLiteDatabase\" of \"Union[SQLDatabase, SQLiteDatabase]\"\u001B[39;00m\n\u001B[1;32m    285\u001B[0m \u001B[38;5;66;03m# has no attribute \"read_table\"\u001B[39;00m\n\u001B[0;32m--> 286\u001B[0m table \u001B[38;5;241m=\u001B[39m \u001B[43mpandas_sql\u001B[49m\u001B[38;5;241;43m.\u001B[39;49m\u001B[43mread_table\u001B[49m(  \u001B[38;5;66;03m# type: ignore[union-attr]\u001B[39;00m\n\u001B[1;32m    287\u001B[0m     table_name,\n\u001B[1;32m    288\u001B[0m     index_col\u001B[38;5;241m=\u001B[39mindex_col,\n\u001B[1;32m    289\u001B[0m     coerce_float\u001B[38;5;241m=\u001B[39mcoerce_float,\n\u001B[1;32m    290\u001B[0m     parse_dates\u001B[38;5;241m=\u001B[39mparse_dates,\n\u001B[1;32m    291\u001B[0m     columns\u001B[38;5;241m=\u001B[39mcolumns,\n\u001B[1;32m    292\u001B[0m     chunksize\u001B[38;5;241m=\u001B[39mchunksize,\n\u001B[1;32m    293\u001B[0m )\n\u001B[1;32m    295\u001B[0m \u001B[38;5;28;01mif\u001B[39;00m table \u001B[38;5;129;01mis\u001B[39;00m \u001B[38;5;129;01mnot\u001B[39;00m \u001B[38;5;28;01mNone\u001B[39;00m:\n\u001B[1;32m    296\u001B[0m     \u001B[38;5;28;01mreturn\u001B[39;00m table\n",
      "\u001B[0;31mAttributeError\u001B[0m: 'SQLiteDatabase' object has no attribute 'read_table'"
     ]
    }
   ],
   "source": [
    "import pandas as pd\n",
    "import sqlite3\n",
    "\n",
    "data = pd.read_sql_table(\"simple\", sqlite3.connect(\"/home/iqrorjoon/PycharmProjects/pandas all functions/base/simple_sql\"))\n",
    "\n",
    "print(data)"
   ]
  }
 ],
 "metadata": {
  "kernelspec": {
   "display_name": "Python 3",
   "language": "python",
   "name": "python3"
  },
  "language_info": {
   "codemirror_mode": {
    "name": "ipython",
    "version": 2
   },
   "file_extension": ".py",
   "mimetype": "text/x-python",
   "name": "python",
   "nbconvert_exporter": "python",
   "pygments_lexer": "ipython2",
   "version": "2.7.6"
  }
 },
 "nbformat": 4,
 "nbformat_minor": 0
}
