{
 "cells": [
  {
   "cell_type": "code",
   "execution_count": 6,
   "metadata": {
    "collapsed": true
   },
   "outputs": [
    {
     "name": "stdout",
     "output_type": "stream",
     "text": [
      "   a1  a2  c1  c2  d\n",
      "0   1   3   5   7  9\n",
      "1   2   4   6   8  0\n",
      "   d  a  c\n",
      "0  9  1  5\n",
      "1  0  2  6\n",
      "2  9  3  7\n",
      "3  0  4  8\n"
     ]
    }
   ],
   "source": [
    "import pandas as pd\n",
    "df = pd.DataFrame({\n",
    "    'a1': [1,2],\n",
    "    'a2': [3,4],\n",
    "    'c1': [5,6],\n",
    "    'c2': [7,8],\n",
    "    'd': [9,0],\n",
    "})\n",
    "\n",
    "data = pd.lreshape(df, {'a': ['a1', 'a2'],\n",
    "                        'c': ['c1', 'c2']})\n",
    "\n",
    "print(df)\n",
    "print(data)"
   ]
  }
 ],
 "metadata": {
  "kernelspec": {
   "display_name": "Python 3",
   "language": "python",
   "name": "python3"
  },
  "language_info": {
   "codemirror_mode": {
    "name": "ipython",
    "version": 2
   },
   "file_extension": ".py",
   "mimetype": "text/x-python",
   "name": "python",
   "nbconvert_exporter": "python",
   "pygments_lexer": "ipython2",
   "version": "2.7.6"
  }
 },
 "nbformat": 4,
 "nbformat_minor": 0
}
