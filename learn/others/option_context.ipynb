{
 "cells": [
  {
   "cell_type": "code",
   "execution_count": 5,
   "metadata": {
    "collapsed": true
   },
   "outputs": [
    {
     "name": "stdout",
     "output_type": "stream",
     "text": [
      "   a  ...  d\n",
      "0  1  ...  5\n",
      "1  2  ...  6\n",
      "2  3  ...  7\n",
      "3  4  ...  8\n",
      "\n",
      "[4 rows x 4 columns]\n"
     ]
    }
   ],
   "source": [
    "import pandas as pd\n",
    "\n",
    "with pd.option_context('display.max_rows', 4, 'display.max_columns', 3):\n",
    "    print(pd.DataFrame({'a': [1,2,3,4],\n",
    "                        'b': [2,3,4,5],\n",
    "                        'c': [3,4,5,6],\n",
    "                        'd': [5,6,7,8]}))"
   ]
  }
 ],
 "metadata": {
  "kernelspec": {
   "display_name": "Python 3",
   "language": "python",
   "name": "python3"
  },
  "language_info": {
   "codemirror_mode": {
    "name": "ipython",
    "version": 2
   },
   "file_extension": ".py",
   "mimetype": "text/x-python",
   "name": "python",
   "nbconvert_exporter": "python",
   "pygments_lexer": "ipython2",
   "version": "2.7.6"
  }
 },
 "nbformat": 4,
 "nbformat_minor": 0
}
