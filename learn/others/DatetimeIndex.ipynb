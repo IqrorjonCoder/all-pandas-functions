{
 "cells": [
  {
   "cell_type": "code",
   "execution_count": 14,
   "metadata": {
    "collapsed": true
   },
   "outputs": [
    {
     "name": "stdout",
     "output_type": "stream",
     "text": [
      "            simplee\n",
      "2005-01-01        0\n",
      "2005-01-02        1\n",
      "2005-01-03        2\n",
      "2005-01-04        3\n",
      "2005-01-05        4\n",
      "2005-01-06        5\n",
      "2005-01-07        6\n",
      "2005-01-08        7\n",
      "2005-01-09        8\n",
      "2005-01-10        9\n"
     ]
    }
   ],
   "source": [
    "import pandas as pd\n",
    "\n",
    "data = pd.DatetimeIndex(pd.date_range('1/1/2005', periods=10, freq='1D'))\n",
    "\n",
    "print(pd.DataFrame([i for i in range(10)], index=data, columns=['simplee']))"
   ]
  }
 ],
 "metadata": {
  "kernelspec": {
   "display_name": "Python 3",
   "language": "python",
   "name": "python3"
  },
  "language_info": {
   "codemirror_mode": {
    "name": "ipython",
    "version": 2
   },
   "file_extension": ".py",
   "mimetype": "text/x-python",
   "name": "python",
   "nbconvert_exporter": "python",
   "pygments_lexer": "ipython2",
   "version": "2.7.6"
  }
 },
 "nbformat": 4,
 "nbformat_minor": 0
}
