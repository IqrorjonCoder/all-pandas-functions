{
 "cells": [
  {
   "cell_type": "code",
   "execution_count": 2,
   "metadata": {
    "collapsed": true
   },
   "outputs": [
    {
     "name": "stdout",
     "output_type": "stream",
     "text": [
      "     agecat  gender    accid       pop\n",
      "0  Under 21  Female  57997.0  198522.0\n",
      "1     21-25  Female  57113.0  203200.0\n",
      "2     26-30  Female  54123.0  200744.0\n",
      "3  Under 21    Male  63936.0  187791.0\n",
      "4     21-25    Male  64835.0  195714.0\n",
      "5     26-30    Male  66804.0  208239.0\n"
     ]
    }
   ],
   "source": [
    "import pandas as pd\n",
    "\n",
    "data = pd.read_spss(\"/home/iqrorjoon/PycharmProjects/pandas all functions/base/simple_spss.sav\")\n",
    "\n",
    "print(data)"
   ]
  }
 ],
 "metadata": {
  "kernelspec": {
   "display_name": "Python 3",
   "language": "python",
   "name": "python3"
  },
  "language_info": {
   "codemirror_mode": {
    "name": "ipython",
    "version": 2
   },
   "file_extension": ".py",
   "mimetype": "text/x-python",
   "name": "python",
   "nbconvert_exporter": "python",
   "pygments_lexer": "ipython2",
   "version": "2.7.6"
  }
 },
 "nbformat": 4,
 "nbformat_minor": 0
}
