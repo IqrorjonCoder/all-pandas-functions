{
 "cells": [
  {
   "cell_type": "code",
   "execution_count": 3,
   "metadata": {
    "collapsed": true
   },
   "outputs": [
    {
     "name": "stdout",
     "output_type": "stream",
     "text": [
      "IntervalIndex([(2022-12-01, 2022-12-02], (2022-12-02, 2022-12-03], (2022-12-03, 2022-12-04], (2022-12-04, 2022-12-05], (2022-12-05, 2022-12-06], (2022-12-06, 2022-12-07], (2022-12-07, 2022-12-08], (2022-12-08, 2022-12-09], (2022-12-09, 2022-12-10]], dtype='interval[datetime64[ns], right]')\n"
     ]
    }
   ],
   "source": [
    "import pandas as pd\n",
    "\n",
    "data = pd.interval_range(start=pd.Timestamp(2022,12,1), end=pd.Timestamp(2022,12,10))\n",
    "\n",
    "print(data)"
   ]
  }
 ],
 "metadata": {
  "kernelspec": {
   "display_name": "Python 3",
   "language": "python",
   "name": "python3"
  },
  "language_info": {
   "codemirror_mode": {
    "name": "ipython",
    "version": 2
   },
   "file_extension": ".py",
   "mimetype": "text/x-python",
   "name": "python",
   "nbconvert_exporter": "python",
   "pygments_lexer": "ipython2",
   "version": "2.7.6"
  }
 },
 "nbformat": 4,
 "nbformat_minor": 0
}
