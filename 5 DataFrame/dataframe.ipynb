{
 "cells": [
  {
   "cell_type": "code",
   "execution_count": 2,
   "metadata": {
    "collapsed": true
   },
   "outputs": [
    {
     "name": "stdout",
     "output_type": "stream",
     "text": [
      "0 T\n",
      "1 abs\n",
      "2 add\n",
      "3 add_prefix\n",
      "4 add_suffix\n",
      "5 agg\n",
      "6 aggregate\n",
      "7 align\n",
      "8 all\n",
      "9 any\n",
      "10 append\n",
      "11 apply\n",
      "12 applymap\n",
      "13 asfreq\n",
      "14 asof\n",
      "15 assign\n",
      "16 astype\n",
      "17 at\n",
      "18 at_time\n",
      "19 attrs\n",
      "20 axes\n",
      "21 backfill\n",
      "22 between_time\n",
      "23 bfill\n",
      "24 bool\n",
      "25 boxplot\n",
      "26 clip\n",
      "27 columns\n",
      "28 combine\n",
      "29 combine_first\n",
      "30 compare\n",
      "31 convert_dtypes\n",
      "32 copy\n",
      "33 corr\n",
      "34 corrwith\n",
      "35 count\n",
      "36 cov\n",
      "37 cummax\n",
      "38 cummin\n",
      "39 cumprod\n",
      "40 cumsum\n",
      "41 describe\n",
      "42 diff\n",
      "43 div\n",
      "44 divide\n",
      "45 dot\n",
      "46 drop\n",
      "47 drop_duplicates\n",
      "48 droplevel\n",
      "49 dropna\n",
      "50 dtypes\n",
      "51 duplicated\n",
      "52 empty\n",
      "53 eq\n",
      "54 equals\n",
      "55 eval\n",
      "56 ewm\n",
      "57 expanding\n",
      "58 explode\n",
      "59 ffill\n",
      "60 fillna\n",
      "61 filter\n",
      "62 first\n",
      "63 first_valid_index\n",
      "64 flags\n",
      "65 floordiv\n",
      "66 from_dict\n",
      "67 from_records\n",
      "68 ge\n",
      "69 get\n",
      "70 groupby\n",
      "71 gt\n",
      "72 head\n",
      "73 hist\n",
      "74 iat\n",
      "75 idxmax\n",
      "76 idxmin\n",
      "77 iloc\n",
      "78 index\n",
      "79 infer_objects\n",
      "80 info\n",
      "81 insert\n",
      "82 interpolate\n",
      "83 isetitem\n",
      "84 isin\n",
      "85 isna\n",
      "86 isnull\n",
      "87 items\n",
      "88 iteritems\n",
      "89 iterrows\n",
      "90 itertuples\n",
      "91 join\n",
      "92 keys\n",
      "93 kurt\n",
      "94 kurtosis\n",
      "95 last\n",
      "96 last_valid_index\n",
      "97 le\n",
      "98 loc\n",
      "99 lookup\n",
      "100 lt\n",
      "101 mad\n",
      "102 mask\n",
      "103 max\n",
      "104 mean\n",
      "105 median\n",
      "106 melt\n",
      "107 memory_usage\n",
      "108 merge\n",
      "109 min\n",
      "110 mod\n",
      "111 mode\n",
      "112 mul\n",
      "113 multiply\n",
      "114 ndim\n",
      "115 ne\n",
      "116 nlargest\n",
      "117 notna\n",
      "118 notnull\n",
      "119 nsmallest\n",
      "120 nunique\n",
      "121 pad\n",
      "122 pct_change\n",
      "123 pipe\n",
      "124 pivot\n",
      "125 pivot_table\n",
      "126 plot\n",
      "127 pop\n",
      "128 pow\n",
      "129 prod\n",
      "130 product\n",
      "131 quantile\n",
      "132 query\n",
      "133 radd\n",
      "134 rank\n",
      "135 rdiv\n",
      "136 reindex\n",
      "137 reindex_like\n",
      "138 rename\n",
      "139 rename_axis\n",
      "140 reorder_levels\n",
      "141 replace\n",
      "142 resample\n",
      "143 reset_index\n",
      "144 rfloordiv\n",
      "145 rmod\n",
      "146 rmul\n",
      "147 rolling\n",
      "148 round\n",
      "149 rpow\n",
      "150 rsub\n",
      "151 rtruediv\n",
      "152 sample\n",
      "153 select_dtypes\n",
      "154 sem\n",
      "155 set_axis\n",
      "156 set_flags\n",
      "157 set_index\n",
      "158 shape\n",
      "159 shift\n",
      "160 size\n",
      "161 skew\n",
      "162 slice_shift\n",
      "163 sort_index\n",
      "164 sort_values\n",
      "165 sparse\n",
      "166 squeeze\n",
      "167 stack\n",
      "168 std\n",
      "169 style\n",
      "170 sub\n",
      "171 subtract\n",
      "172 sum\n",
      "173 swapaxes\n",
      "174 swaplevel\n",
      "175 tail\n",
      "176 take\n",
      "177 to_clipboard\n",
      "178 to_csv\n",
      "179 to_dict\n",
      "180 to_excel\n",
      "181 to_feather\n",
      "182 to_gbq\n",
      "183 to_hdf\n",
      "184 to_html\n",
      "185 to_json\n",
      "186 to_latex\n",
      "187 to_markdown\n",
      "188 to_numpy\n",
      "189 to_orc\n",
      "190 to_parquet\n",
      "191 to_period\n",
      "192 to_pickle\n",
      "193 to_records\n",
      "194 to_sql\n",
      "195 to_stata\n",
      "196 to_string\n",
      "197 to_timestamp\n",
      "198 to_xarray\n",
      "199 to_xml\n",
      "200 transform\n",
      "201 transpose\n",
      "202 truediv\n",
      "203 truncate\n",
      "204 tshift\n",
      "205 tz_convert\n",
      "206 tz_localize\n",
      "207 unstack\n",
      "208 update\n",
      "209 value_counts\n",
      "210 values\n",
      "211 var\n",
      "212 where\n",
      "213 xs\n"
     ]
    }
   ],
   "source": [
    "import numpy as np\n",
    "\n",
    "import pandas as pd\n",
    "\n",
    "functions = [i for i in dir(pd.DataFrame) if i[:1] != '_']\n",
    "\n",
    "for i, v in enumerate(functions):\n",
    "    print(i, v)"
   ]
  },
  {
   "cell_type": "code",
   "execution_count": 5,
   "outputs": [],
   "source": [
    "\n",
    "data = pd.DataFrame({\n",
    "    'a': [-1,2,3,4],\n",
    "    'b': [5,6,7,8],\n",
    "    'c': [9,-10,11,12]\n",
    "})\n"
   ],
   "metadata": {
    "collapsed": false
   }
  },
  {
   "cell_type": "code",
   "execution_count": 6,
   "outputs": [
    {
     "data": {
      "text/plain": "   0   1   2   3\na -1   2   3   4\nb  5   6   7   8\nc  9 -10  11  12",
      "text/html": "<div>\n<style scoped>\n    .dataframe tbody tr th:only-of-type {\n        vertical-align: middle;\n    }\n\n    .dataframe tbody tr th {\n        vertical-align: top;\n    }\n\n    .dataframe thead th {\n        text-align: right;\n    }\n</style>\n<table border=\"1\" class=\"dataframe\">\n  <thead>\n    <tr style=\"text-align: right;\">\n      <th></th>\n      <th>0</th>\n      <th>1</th>\n      <th>2</th>\n      <th>3</th>\n    </tr>\n  </thead>\n  <tbody>\n    <tr>\n      <th>a</th>\n      <td>-1</td>\n      <td>2</td>\n      <td>3</td>\n      <td>4</td>\n    </tr>\n    <tr>\n      <th>b</th>\n      <td>5</td>\n      <td>6</td>\n      <td>7</td>\n      <td>8</td>\n    </tr>\n    <tr>\n      <th>c</th>\n      <td>9</td>\n      <td>-10</td>\n      <td>11</td>\n      <td>12</td>\n    </tr>\n  </tbody>\n</table>\n</div>"
     },
     "execution_count": 6,
     "metadata": {},
     "output_type": "execute_result"
    }
   ],
   "source": [
    "data.T"
   ],
   "metadata": {
    "collapsed": false
   }
  },
  {
   "cell_type": "code",
   "execution_count": 9,
   "outputs": [
    {
     "data": {
      "text/plain": "   a  b   c\n0  1  5   9\n1  2  6  10\n2  3  7  11\n3  4  8  12",
      "text/html": "<div>\n<style scoped>\n    .dataframe tbody tr th:only-of-type {\n        vertical-align: middle;\n    }\n\n    .dataframe tbody tr th {\n        vertical-align: top;\n    }\n\n    .dataframe thead th {\n        text-align: right;\n    }\n</style>\n<table border=\"1\" class=\"dataframe\">\n  <thead>\n    <tr style=\"text-align: right;\">\n      <th></th>\n      <th>a</th>\n      <th>b</th>\n      <th>c</th>\n    </tr>\n  </thead>\n  <tbody>\n    <tr>\n      <th>0</th>\n      <td>1</td>\n      <td>5</td>\n      <td>9</td>\n    </tr>\n    <tr>\n      <th>1</th>\n      <td>2</td>\n      <td>6</td>\n      <td>10</td>\n    </tr>\n    <tr>\n      <th>2</th>\n      <td>3</td>\n      <td>7</td>\n      <td>11</td>\n    </tr>\n    <tr>\n      <th>3</th>\n      <td>4</td>\n      <td>8</td>\n      <td>12</td>\n    </tr>\n  </tbody>\n</table>\n</div>"
     },
     "execution_count": 9,
     "metadata": {},
     "output_type": "execute_result"
    }
   ],
   "source": [
    "data.abs()"
   ],
   "metadata": {
    "collapsed": false
   }
  },
  {
   "cell_type": "code",
   "execution_count": 16,
   "outputs": [
    {
     "name": "stdout",
     "output_type": "stream",
     "text": [
      "   a  b   c\n",
      "0 -1  5   9\n",
      "1  2  6 -10\n",
      "2  3  7  11\n",
      "3  4  8  12\n"
     ]
    },
    {
     "data": {
      "text/plain": "     a    b    c\n0   99  205  309\n1  102  206  290\n2  103  207  311\n3  104  208  312",
      "text/html": "<div>\n<style scoped>\n    .dataframe tbody tr th:only-of-type {\n        vertical-align: middle;\n    }\n\n    .dataframe tbody tr th {\n        vertical-align: top;\n    }\n\n    .dataframe thead th {\n        text-align: right;\n    }\n</style>\n<table border=\"1\" class=\"dataframe\">\n  <thead>\n    <tr style=\"text-align: right;\">\n      <th></th>\n      <th>a</th>\n      <th>b</th>\n      <th>c</th>\n    </tr>\n  </thead>\n  <tbody>\n    <tr>\n      <th>0</th>\n      <td>99</td>\n      <td>205</td>\n      <td>309</td>\n    </tr>\n    <tr>\n      <th>1</th>\n      <td>102</td>\n      <td>206</td>\n      <td>290</td>\n    </tr>\n    <tr>\n      <th>2</th>\n      <td>103</td>\n      <td>207</td>\n      <td>311</td>\n    </tr>\n    <tr>\n      <th>3</th>\n      <td>104</td>\n      <td>208</td>\n      <td>312</td>\n    </tr>\n  </tbody>\n</table>\n</div>"
     },
     "execution_count": 16,
     "metadata": {},
     "output_type": "execute_result"
    }
   ],
   "source": [
    "print(data)\n",
    "data.add([100,200,300])"
   ],
   "metadata": {
    "collapsed": false
   }
  },
  {
   "cell_type": "code",
   "execution_count": 18,
   "outputs": [
    {
     "name": "stdout",
     "output_type": "stream",
     "text": [
      "   a  b   c\n",
      "0 -1  5   9\n",
      "1  2  6 -10\n",
      "2  3  7  11\n",
      "3  4  8  12\n"
     ]
    },
    {
     "data": {
      "text/plain": "   x_a  x_b  x_c\n0   -1    5    9\n1    2    6  -10\n2    3    7   11\n3    4    8   12",
      "text/html": "<div>\n<style scoped>\n    .dataframe tbody tr th:only-of-type {\n        vertical-align: middle;\n    }\n\n    .dataframe tbody tr th {\n        vertical-align: top;\n    }\n\n    .dataframe thead th {\n        text-align: right;\n    }\n</style>\n<table border=\"1\" class=\"dataframe\">\n  <thead>\n    <tr style=\"text-align: right;\">\n      <th></th>\n      <th>x_a</th>\n      <th>x_b</th>\n      <th>x_c</th>\n    </tr>\n  </thead>\n  <tbody>\n    <tr>\n      <th>0</th>\n      <td>-1</td>\n      <td>5</td>\n      <td>9</td>\n    </tr>\n    <tr>\n      <th>1</th>\n      <td>2</td>\n      <td>6</td>\n      <td>-10</td>\n    </tr>\n    <tr>\n      <th>2</th>\n      <td>3</td>\n      <td>7</td>\n      <td>11</td>\n    </tr>\n    <tr>\n      <th>3</th>\n      <td>4</td>\n      <td>8</td>\n      <td>12</td>\n    </tr>\n  </tbody>\n</table>\n</div>"
     },
     "execution_count": 18,
     "metadata": {},
     "output_type": "execute_result"
    }
   ],
   "source": [
    "print(data)\n",
    "data.add_prefix(\"x_\")"
   ],
   "metadata": {
    "collapsed": false
   }
  },
  {
   "cell_type": "code",
   "execution_count": 21,
   "outputs": [
    {
     "name": "stdout",
     "output_type": "stream",
     "text": [
      "   a  b   c\n",
      "0 -1  5   9\n",
      "1  2  6 -10\n",
      "2  3  7  11\n",
      "3  4  8  12\n"
     ]
    },
    {
     "data": {
      "text/plain": "   a_x  b_x  c_x\n0   -1    5    9\n1    2    6  -10\n2    3    7   11\n3    4    8   12",
      "text/html": "<div>\n<style scoped>\n    .dataframe tbody tr th:only-of-type {\n        vertical-align: middle;\n    }\n\n    .dataframe tbody tr th {\n        vertical-align: top;\n    }\n\n    .dataframe thead th {\n        text-align: right;\n    }\n</style>\n<table border=\"1\" class=\"dataframe\">\n  <thead>\n    <tr style=\"text-align: right;\">\n      <th></th>\n      <th>a_x</th>\n      <th>b_x</th>\n      <th>c_x</th>\n    </tr>\n  </thead>\n  <tbody>\n    <tr>\n      <th>0</th>\n      <td>-1</td>\n      <td>5</td>\n      <td>9</td>\n    </tr>\n    <tr>\n      <th>1</th>\n      <td>2</td>\n      <td>6</td>\n      <td>-10</td>\n    </tr>\n    <tr>\n      <th>2</th>\n      <td>3</td>\n      <td>7</td>\n      <td>11</td>\n    </tr>\n    <tr>\n      <th>3</th>\n      <td>4</td>\n      <td>8</td>\n      <td>12</td>\n    </tr>\n  </tbody>\n</table>\n</div>"
     },
     "execution_count": 21,
     "metadata": {},
     "output_type": "execute_result"
    }
   ],
   "source": [
    "print(data)\n",
    "data.add_suffix(\"_x\")"
   ],
   "metadata": {
    "collapsed": false
   }
  },
  {
   "cell_type": "code",
   "execution_count": 26,
   "outputs": [
    {
     "name": "stdout",
     "output_type": "stream",
     "text": [
      "   a  b   c\n",
      "0 -1  5   9\n",
      "1  2  6 -10\n",
      "2  3  7  11\n",
      "3  4  8  12\n"
     ]
    },
    {
     "data": {
      "text/plain": "     a   b   c\nmin -1   5 -10\nmax  4   8  12\nsum  8  26  22",
      "text/html": "<div>\n<style scoped>\n    .dataframe tbody tr th:only-of-type {\n        vertical-align: middle;\n    }\n\n    .dataframe tbody tr th {\n        vertical-align: top;\n    }\n\n    .dataframe thead th {\n        text-align: right;\n    }\n</style>\n<table border=\"1\" class=\"dataframe\">\n  <thead>\n    <tr style=\"text-align: right;\">\n      <th></th>\n      <th>a</th>\n      <th>b</th>\n      <th>c</th>\n    </tr>\n  </thead>\n  <tbody>\n    <tr>\n      <th>min</th>\n      <td>-1</td>\n      <td>5</td>\n      <td>-10</td>\n    </tr>\n    <tr>\n      <th>max</th>\n      <td>4</td>\n      <td>8</td>\n      <td>12</td>\n    </tr>\n    <tr>\n      <th>sum</th>\n      <td>8</td>\n      <td>26</td>\n      <td>22</td>\n    </tr>\n  </tbody>\n</table>\n</div>"
     },
     "execution_count": 26,
     "metadata": {},
     "output_type": "execute_result"
    }
   ],
   "source": [
    "print(data)\n",
    "data.agg(['min', 'max', 'sum'])"
   ],
   "metadata": {
    "collapsed": false
   }
  },
  {
   "cell_type": "code",
   "execution_count": 30,
   "outputs": [
    {
     "name": "stdout",
     "output_type": "stream",
     "text": [
      "   a  b   c\n",
      "0 -1  5   9\n",
      "1  2  6 -10\n",
      "2  3  7  11\n",
      "3  4  8  12\n"
     ]
    },
    {
     "data": {
      "text/plain": "     a   b   c\nmin -1   5 -10\nmax  4   8  12\nsum  8  26  22",
      "text/html": "<div>\n<style scoped>\n    .dataframe tbody tr th:only-of-type {\n        vertical-align: middle;\n    }\n\n    .dataframe tbody tr th {\n        vertical-align: top;\n    }\n\n    .dataframe thead th {\n        text-align: right;\n    }\n</style>\n<table border=\"1\" class=\"dataframe\">\n  <thead>\n    <tr style=\"text-align: right;\">\n      <th></th>\n      <th>a</th>\n      <th>b</th>\n      <th>c</th>\n    </tr>\n  </thead>\n  <tbody>\n    <tr>\n      <th>min</th>\n      <td>-1</td>\n      <td>5</td>\n      <td>-10</td>\n    </tr>\n    <tr>\n      <th>max</th>\n      <td>4</td>\n      <td>8</td>\n      <td>12</td>\n    </tr>\n    <tr>\n      <th>sum</th>\n      <td>8</td>\n      <td>26</td>\n      <td>22</td>\n    </tr>\n  </tbody>\n</table>\n</div>"
     },
     "execution_count": 30,
     "metadata": {},
     "output_type": "execute_result"
    }
   ],
   "source": [
    "print(data)\n",
    "data.aggregate(['min', 'max', 'sum'])"
   ],
   "metadata": {
    "collapsed": false
   }
  },
  {
   "cell_type": "code",
   "execution_count": 62,
   "outputs": [
    {
     "name": "stdout",
     "output_type": "stream",
     "text": [
      "data : \n",
      "    a  b   c\n",
      "0 -1  5   9\n",
      "1  2  6 -10\n",
      "2  3  7  11\n",
      "3  4  8  12\n",
      "other data : \n",
      "      A    B    C\n",
      "0   10   20   30\n",
      "1   60   70   80\n",
      "2  600  700  800\n",
      "3 -100 -200 -300\n"
     ]
    },
    {
     "data": {
      "text/plain": "(   a  b   c\n 0 -1  5   9\n 1  2  6 -10\n 2  3  7  11\n 3  4  8  12,\n      A    B    C\n 0   10   20   30\n 1   60   70   80\n 2  600  700  800\n 3 -100 -200 -300)"
     },
     "execution_count": 62,
     "metadata": {},
     "output_type": "execute_result"
    }
   ],
   "source": [
    "print(\"data : \\n\", data)\n",
    "other = pd.DataFrame(\n",
    "    [[10, 20, 30], [60, 70, 80], [600, 700, 800], [-100, -200, -300]],\n",
    "    columns=[\"A\", \"B\", \"C\"],\n",
    "    index=[0,1,2,3],\n",
    ")\n",
    "print(\"other data : \\n\", other)\n",
    "x = data.align(other, join='left', axis=0)\n",
    "x"
   ],
   "metadata": {
    "collapsed": false
   }
  },
  {
   "cell_type": "code",
   "execution_count": 69,
   "outputs": [
    {
     "name": "stdout",
     "output_type": "stream",
     "text": [
      "data : \n",
      "        a    b   c\n",
      "0     -1  5.0   9\n",
      "1  False  6.0 -10\n",
      "2      3  7.0  11\n",
      "3    NaN  NaN  12\n"
     ]
    },
    {
     "data": {
      "text/plain": "a    False\nb     True\nc     True\ndtype: bool"
     },
     "execution_count": 69,
     "metadata": {},
     "output_type": "execute_result"
    }
   ],
   "source": [
    "data = pd.DataFrame({\n",
    "    'a': [-1,False,3,np.nan],\n",
    "    'b': [5,6,7,np.nan],\n",
    "    'c': [9,-10,11,12]\n",
    "})\n",
    "\n",
    "print(\"data : \\n\", data)\n",
    "data.all()"
   ],
   "metadata": {
    "collapsed": false
   }
  },
  {
   "cell_type": "code",
   "execution_count": 74,
   "outputs": [
    {
     "name": "stdout",
     "output_type": "stream",
     "text": [
      "data : \n",
      "        a      b   c\n",
      "0      0      0   9\n",
      "1  False      6 -10\n",
      "2  False  False  11\n",
      "3  False    NaN  12\n"
     ]
    },
    {
     "data": {
      "text/plain": "a    False\nb     True\nc     True\ndtype: bool"
     },
     "execution_count": 74,
     "metadata": {},
     "output_type": "execute_result"
    }
   ],
   "source": [
    "data = pd.DataFrame({\n",
    "    'a': [0,False,False,False],\n",
    "    'b': [0,6,False,np.nan],\n",
    "    'c': [9,-10,11,12]\n",
    "})\n",
    "print(\"data : \\n\", data)\n",
    "data.any()"
   ],
   "metadata": {
    "collapsed": false
   }
  },
  {
   "cell_type": "code",
   "execution_count": 92,
   "outputs": [
    {
     "name": "stdout",
     "output_type": "stream",
     "text": [
      "data : \n",
      "    a  b   c\n",
      "0 -1  5   9\n",
      "1  2  6 -10\n",
      "2  3  7  11\n",
      "3  4  8  12\n",
      "other : \n",
      "      a    b    c\n",
      "0   10   20   30\n",
      "1   60   70   80\n",
      "2  600  700  800\n",
      "3 -100 -200 -300\n"
     ]
    },
    {
     "name": "stderr",
     "output_type": "stream",
     "text": [
      "C:\\Users\\student.ASTRUM-DOMAIN\\AppData\\Local\\Temp\\ipykernel_14268\\2897359158.py:14: FutureWarning: The frame.append method is deprecated and will be removed from pandas in a future version. Use pandas.concat instead.\n",
      "  data.append(other)\n"
     ]
    },
    {
     "data": {
      "text/plain": "     a    b    c\n0   -1    5    9\n1    2    6  -10\n2    3    7   11\n3    4    8   12\n0   10   20   30\n1   60   70   80\n2  600  700  800\n3 -100 -200 -300",
      "text/html": "<div>\n<style scoped>\n    .dataframe tbody tr th:only-of-type {\n        vertical-align: middle;\n    }\n\n    .dataframe tbody tr th {\n        vertical-align: top;\n    }\n\n    .dataframe thead th {\n        text-align: right;\n    }\n</style>\n<table border=\"1\" class=\"dataframe\">\n  <thead>\n    <tr style=\"text-align: right;\">\n      <th></th>\n      <th>a</th>\n      <th>b</th>\n      <th>c</th>\n    </tr>\n  </thead>\n  <tbody>\n    <tr>\n      <th>0</th>\n      <td>-1</td>\n      <td>5</td>\n      <td>9</td>\n    </tr>\n    <tr>\n      <th>1</th>\n      <td>2</td>\n      <td>6</td>\n      <td>-10</td>\n    </tr>\n    <tr>\n      <th>2</th>\n      <td>3</td>\n      <td>7</td>\n      <td>11</td>\n    </tr>\n    <tr>\n      <th>3</th>\n      <td>4</td>\n      <td>8</td>\n      <td>12</td>\n    </tr>\n    <tr>\n      <th>0</th>\n      <td>10</td>\n      <td>20</td>\n      <td>30</td>\n    </tr>\n    <tr>\n      <th>1</th>\n      <td>60</td>\n      <td>70</td>\n      <td>80</td>\n    </tr>\n    <tr>\n      <th>2</th>\n      <td>600</td>\n      <td>700</td>\n      <td>800</td>\n    </tr>\n    <tr>\n      <th>3</th>\n      <td>-100</td>\n      <td>-200</td>\n      <td>-300</td>\n    </tr>\n  </tbody>\n</table>\n</div>"
     },
     "execution_count": 92,
     "metadata": {},
     "output_type": "execute_result"
    }
   ],
   "source": [
    "other = pd.DataFrame(\n",
    "    [[10, 20, 30], [60, 70, 80], [600, 700, 800], [-100, -200, -300]],\n",
    "    columns=[\"a\", \"b\", \"c\"],\n",
    "    index=[0,1,2,3],\n",
    ")\n",
    "\n",
    "data = pd.DataFrame({\n",
    "    'a': [-1,2,3,4],\n",
    "    'b': [5,6,7,8],\n",
    "    'c': [9,-10,11,12]\n",
    "})\n",
    "print(\"data : \\n\", data)\n",
    "print(\"other : \\n\", other)\n",
    "data.append(other)"
   ],
   "metadata": {
    "collapsed": false
   }
  },
  {
   "cell_type": "code",
   "execution_count": 96,
   "outputs": [
    {
     "name": "stdout",
     "output_type": "stream",
     "text": [
      "data : \n",
      "    a  b   c\n",
      "0 -1  5   9\n",
      "1  2  6 -10\n",
      "2  3  7  11\n",
      "3  4  8  12\n"
     ]
    },
    {
     "data": {
      "text/plain": "          a         b         c\n0       NaN  2.236068  3.000000\n1  1.414214  2.449490       NaN\n2  1.732051  2.645751  3.316625\n3  2.000000  2.828427  3.464102",
      "text/html": "<div>\n<style scoped>\n    .dataframe tbody tr th:only-of-type {\n        vertical-align: middle;\n    }\n\n    .dataframe tbody tr th {\n        vertical-align: top;\n    }\n\n    .dataframe thead th {\n        text-align: right;\n    }\n</style>\n<table border=\"1\" class=\"dataframe\">\n  <thead>\n    <tr style=\"text-align: right;\">\n      <th></th>\n      <th>a</th>\n      <th>b</th>\n      <th>c</th>\n    </tr>\n  </thead>\n  <tbody>\n    <tr>\n      <th>0</th>\n      <td>NaN</td>\n      <td>2.236068</td>\n      <td>3.000000</td>\n    </tr>\n    <tr>\n      <th>1</th>\n      <td>1.414214</td>\n      <td>2.449490</td>\n      <td>NaN</td>\n    </tr>\n    <tr>\n      <th>2</th>\n      <td>1.732051</td>\n      <td>2.645751</td>\n      <td>3.316625</td>\n    </tr>\n    <tr>\n      <th>3</th>\n      <td>2.000000</td>\n      <td>2.828427</td>\n      <td>3.464102</td>\n    </tr>\n  </tbody>\n</table>\n</div>"
     },
     "execution_count": 96,
     "metadata": {},
     "output_type": "execute_result"
    }
   ],
   "source": [
    "data = pd.DataFrame({\n",
    "    'a': [-1,2,3,4],\n",
    "    'b': [5,6,7,8],\n",
    "    'c': [9,-10,11,12]\n",
    "})\n",
    "print(\"data : \\n\", data)\n",
    "data.apply(np.sqrt)"
   ],
   "metadata": {
    "collapsed": false
   }
  },
  {
   "cell_type": "code",
   "execution_count": 98,
   "outputs": [
    {
     "name": "stdout",
     "output_type": "stream",
     "text": [
      "data : \n",
      "    a  b   c\n",
      "0 -1  5   9\n",
      "1  2  6 -10\n",
      "2  3  7  11\n",
      "3  4  8  12\n"
     ]
    },
    {
     "name": "stderr",
     "output_type": "stream",
     "text": [
      "C:\\Users\\student.ASTRUM-DOMAIN\\AppData\\IqrorjonCoder\\python-projects\\all-pandas-functions\\venv\\lib\\site-packages\\pandas\\core\\frame.py:9641: RuntimeWarning: invalid value encountered in sqrt\n",
      "  return lib.map_infer(x.astype(object)._values, func, ignore_na=ignore_na)\n"
     ]
    },
    {
     "data": {
      "text/plain": "          a         b         c\n0       NaN  2.236068  3.000000\n1  1.414214  2.449490       NaN\n2  1.732051  2.645751  3.316625\n3  2.000000  2.828427  3.464102",
      "text/html": "<div>\n<style scoped>\n    .dataframe tbody tr th:only-of-type {\n        vertical-align: middle;\n    }\n\n    .dataframe tbody tr th {\n        vertical-align: top;\n    }\n\n    .dataframe thead th {\n        text-align: right;\n    }\n</style>\n<table border=\"1\" class=\"dataframe\">\n  <thead>\n    <tr style=\"text-align: right;\">\n      <th></th>\n      <th>a</th>\n      <th>b</th>\n      <th>c</th>\n    </tr>\n  </thead>\n  <tbody>\n    <tr>\n      <th>0</th>\n      <td>NaN</td>\n      <td>2.236068</td>\n      <td>3.000000</td>\n    </tr>\n    <tr>\n      <th>1</th>\n      <td>1.414214</td>\n      <td>2.449490</td>\n      <td>NaN</td>\n    </tr>\n    <tr>\n      <th>2</th>\n      <td>1.732051</td>\n      <td>2.645751</td>\n      <td>3.316625</td>\n    </tr>\n    <tr>\n      <th>3</th>\n      <td>2.000000</td>\n      <td>2.828427</td>\n      <td>3.464102</td>\n    </tr>\n  </tbody>\n</table>\n</div>"
     },
     "execution_count": 98,
     "metadata": {},
     "output_type": "execute_result"
    }
   ],
   "source": [
    "data = pd.DataFrame({\n",
    "    'a': [-1,2,3,4],\n",
    "    'b': [5,6,7,8],\n",
    "    'c': [9,-10,11,12]\n",
    "})\n",
    "print(\"data : \\n\", data)\n",
    "data.applymap(np.sqrt)"
   ],
   "metadata": {
    "collapsed": false
   }
  },
  {
   "cell_type": "code",
   "execution_count": 152,
   "outputs": [
    {
     "data": {
      "text/plain": "2005-01-01 00:00:00    0\n2005-01-01 01:00:00    1\n2005-01-01 02:00:00    2\n2005-01-01 03:00:00    3\n2005-01-01 04:00:00    4\n2005-01-01 05:00:00    5\n2005-01-01 06:00:00    6\n2005-01-01 07:00:00    7\n2005-01-01 08:00:00    8\n2005-01-01 09:00:00    9\nFreq: H, dtype: int64"
     },
     "execution_count": 152,
     "metadata": {},
     "output_type": "execute_result"
    }
   ],
   "source": [
    "index = pd.date_range('1/1/2005', periods=10, freq='H')\n",
    "series = pd.Series([i for i in range(len(index))], index=index)\n",
    "series.asfreq('60T')"
   ],
   "metadata": {
    "collapsed": false
   }
  },
  {
   "cell_type": "code",
   "execution_count": 157,
   "outputs": [
    {
     "name": "stdout",
     "output_type": "stream",
     "text": [
      "data : \n",
      "    a  b     c\n",
      "0 -1  5   NaN\n",
      "1  2  6 -10.0\n",
      "2  3  7  11.0\n",
      "3  4  8  12.0\n",
      "a   NaN\n",
      "b   NaN\n",
      "c   NaN\n",
      "Name: 0, dtype: float64\n",
      "a     2.0\n",
      "b     6.0\n",
      "c   -10.0\n",
      "Name: 1, dtype: float64\n"
     ]
    }
   ],
   "source": [
    "data = pd.DataFrame({\n",
    "    'a': [-1,2,3,4],\n",
    "    'b': [5,6,7,8],\n",
    "    'c': [np.nan,-10,11,12]\n",
    "})\n",
    "\n",
    "print(\"data : \\n\", data)\n",
    "print(data.asof(0))\n",
    "print(data.asof(1))"
   ],
   "metadata": {
    "collapsed": false
   }
  },
  {
   "cell_type": "code",
   "execution_count": 162,
   "outputs": [
    {
     "name": "stdout",
     "output_type": "stream",
     "text": [
      "data  :\n",
      "     a  b   c\n",
      "0 -1  5   9\n",
      "1  2  6 -10\n",
      "2  3  7  11\n",
      "3  4  8  12\n"
     ]
    },
    {
     "data": {
      "text/plain": "   a  b   c\n0 -1  5   9\n1  2  6 -10\n2  3  7  11\n3  4  8  12",
      "text/html": "<div>\n<style scoped>\n    .dataframe tbody tr th:only-of-type {\n        vertical-align: middle;\n    }\n\n    .dataframe tbody tr th {\n        vertical-align: top;\n    }\n\n    .dataframe thead th {\n        text-align: right;\n    }\n</style>\n<table border=\"1\" class=\"dataframe\">\n  <thead>\n    <tr style=\"text-align: right;\">\n      <th></th>\n      <th>a</th>\n      <th>b</th>\n      <th>c</th>\n    </tr>\n  </thead>\n  <tbody>\n    <tr>\n      <th>0</th>\n      <td>-1</td>\n      <td>5</td>\n      <td>9</td>\n    </tr>\n    <tr>\n      <th>1</th>\n      <td>2</td>\n      <td>6</td>\n      <td>-10</td>\n    </tr>\n    <tr>\n      <th>2</th>\n      <td>3</td>\n      <td>7</td>\n      <td>11</td>\n    </tr>\n    <tr>\n      <th>3</th>\n      <td>4</td>\n      <td>8</td>\n      <td>12</td>\n    </tr>\n  </tbody>\n</table>\n</div>"
     },
     "execution_count": 162,
     "metadata": {},
     "output_type": "execute_result"
    }
   ],
   "source": [
    "data = pd.DataFrame({\n",
    "    'a': [-1,2,3,4],\n",
    "    'b': [5,6,7,8],\n",
    "    'c': [9,-10,11,12]\n",
    "})\n",
    "print(\"data  :\\n \", data)\n",
    "data.assign()"
   ],
   "metadata": {
    "collapsed": false
   }
  },
  {
   "cell_type": "code",
   "execution_count": 164,
   "outputs": [
    {
     "name": "stdout",
     "output_type": "stream",
     "text": [
      "data : \n",
      "     a  b   c\n",
      "0 -1  5   9\n",
      "1  2  6 -10\n",
      "2  3  7  11\n",
      "3  4  8  12\n"
     ]
    },
    {
     "data": {
      "text/plain": "     a    b     c\n0 -1.0  5.0   9.0\n1  2.0  6.0 -10.0\n2  3.0  7.0  11.0\n3  4.0  8.0  12.0",
      "text/html": "<div>\n<style scoped>\n    .dataframe tbody tr th:only-of-type {\n        vertical-align: middle;\n    }\n\n    .dataframe tbody tr th {\n        vertical-align: top;\n    }\n\n    .dataframe thead th {\n        text-align: right;\n    }\n</style>\n<table border=\"1\" class=\"dataframe\">\n  <thead>\n    <tr style=\"text-align: right;\">\n      <th></th>\n      <th>a</th>\n      <th>b</th>\n      <th>c</th>\n    </tr>\n  </thead>\n  <tbody>\n    <tr>\n      <th>0</th>\n      <td>-1.0</td>\n      <td>5.0</td>\n      <td>9.0</td>\n    </tr>\n    <tr>\n      <th>1</th>\n      <td>2.0</td>\n      <td>6.0</td>\n      <td>-10.0</td>\n    </tr>\n    <tr>\n      <th>2</th>\n      <td>3.0</td>\n      <td>7.0</td>\n      <td>11.0</td>\n    </tr>\n    <tr>\n      <th>3</th>\n      <td>4.0</td>\n      <td>8.0</td>\n      <td>12.0</td>\n    </tr>\n  </tbody>\n</table>\n</div>"
     },
     "execution_count": 164,
     "metadata": {},
     "output_type": "execute_result"
    }
   ],
   "source": [
    "data = pd.DataFrame({\n",
    "    'a': [-1,2,3,4],\n",
    "    'b': [5,6,7,8],\n",
    "    'c': [9,-10,11,12]\n",
    "})\n",
    "print(\"data : \\n \", data)\n",
    "data.astype(np.float64)"
   ],
   "metadata": {
    "collapsed": false
   }
  },
  {
   "cell_type": "code",
   "execution_count": 172,
   "outputs": [
    {
     "name": "stdout",
     "output_type": "stream",
     "text": [
      "data : \n",
      "     a  b   c\n",
      "0 -1  5   9\n",
      "1  2  6 -10\n",
      "2  3  7  11\n",
      "3  4  8  12\n",
      "res :  -1\n"
     ]
    }
   ],
   "source": [
    "data = pd.DataFrame({\n",
    "    'a': [-1,2,3,4],\n",
    "    'b': [5,6,7,8],\n",
    "    'c': [9,-10,11,12]\n",
    "})\n",
    "print(\"data : \\n \", data)\n",
    "print(\"res : \", data.at[0, 'a'])"
   ],
   "metadata": {
    "collapsed": false
   }
  },
  {
   "cell_type": "code",
   "execution_count": 191,
   "outputs": [
    {
     "name": "stdout",
     "output_type": "stream",
     "text": [
      "data : \n",
      "                       date\n",
      "2005-01-01 00:00:00     0\n",
      "2005-01-01 06:00:00     1\n",
      "2005-01-01 12:00:00     2\n",
      "2005-01-01 18:00:00     3\n",
      "2005-01-02 00:00:00     4\n",
      "2005-01-02 06:00:00     5\n",
      "2005-01-02 12:00:00     6\n",
      "2005-01-02 18:00:00     7\n",
      "2005-01-03 00:00:00     8\n",
      "2005-01-03 06:00:00     9\n"
     ]
    },
    {
     "data": {
      "text/plain": "                     date\n2005-01-01 12:00:00     2\n2005-01-02 12:00:00     6",
      "text/html": "<div>\n<style scoped>\n    .dataframe tbody tr th:only-of-type {\n        vertical-align: middle;\n    }\n\n    .dataframe tbody tr th {\n        vertical-align: top;\n    }\n\n    .dataframe thead th {\n        text-align: right;\n    }\n</style>\n<table border=\"1\" class=\"dataframe\">\n  <thead>\n    <tr style=\"text-align: right;\">\n      <th></th>\n      <th>date</th>\n    </tr>\n  </thead>\n  <tbody>\n    <tr>\n      <th>2005-01-01 12:00:00</th>\n      <td>2</td>\n    </tr>\n    <tr>\n      <th>2005-01-02 12:00:00</th>\n      <td>6</td>\n    </tr>\n  </tbody>\n</table>\n</div>"
     },
     "execution_count": 191,
     "metadata": {},
     "output_type": "execute_result"
    }
   ],
   "source": [
    "date = pd.date_range('1/1/2005', periods=10, freq='6H')\n",
    "data = pd.DataFrame({'date': [i for i in range(len(date))]}, index=date)\n",
    "print(\"data : \\n \", data)\n",
    "data.at_time('12:00')"
   ],
   "metadata": {
    "collapsed": false
   }
  },
  {
   "cell_type": "code",
   "execution_count": 196,
   "outputs": [
    {
     "name": "stdout",
     "output_type": "stream",
     "text": [
      "data : \n",
      "     a  b   c\n",
      "0 -1  5   9\n",
      "1  2  6 -10\n",
      "2  3  7  11\n",
      "3  4  8  12\n",
      "attrs :  {}\n"
     ]
    }
   ],
   "source": [
    "data = pd.DataFrame({\n",
    "    'a': [-1,2,3,4],\n",
    "    'b': [5,6,7,8],\n",
    "    'c': [9,-10,11,12]\n",
    "})\n",
    "print(\"data : \\n \", data)\n",
    "print(\"attrs : \", data.attrs)"
   ],
   "metadata": {
    "collapsed": false
   }
  },
  {
   "cell_type": "code",
   "execution_count": 200,
   "outputs": [
    {
     "name": "stdout",
     "output_type": "stream",
     "text": [
      "data : \n",
      "     a  b   c\n",
      "0 -1  5   9\n",
      "1  2  6 -10\n",
      "2  3  7  11\n",
      "3  4  8  12\n"
     ]
    },
    {
     "data": {
      "text/plain": "[RangeIndex(start=0, stop=4, step=1), Index(['a', 'b', 'c'], dtype='object')]"
     },
     "execution_count": 200,
     "metadata": {},
     "output_type": "execute_result"
    }
   ],
   "source": [
    "data = pd.DataFrame({\n",
    "    'a': [-1,2,3,4],\n",
    "    'b': [5,6,7,8],\n",
    "    'c': [9,-10,11,12]\n",
    "})\n",
    "print(\"data : \\n \", data)\n",
    "data.axes"
   ],
   "metadata": {
    "collapsed": false
   }
  },
  {
   "cell_type": "code",
   "execution_count": 207,
   "outputs": [
    {
     "name": "stdout",
     "output_type": "stream",
     "text": [
      "data : \n",
      "     a  b     c\n",
      "0 -1  5   9.0\n",
      "1  2  6 -10.0\n",
      "2  3  7  11.0\n",
      "3  4  8   NaN\n",
      "None\n"
     ]
    }
   ],
   "source": [
    "data = pd.DataFrame({\n",
    "    'a': [-1,2,3,4],\n",
    "    'b': [5,6,7,8],\n",
    "    'c': [9,-10,11,np.nan]\n",
    "})\n",
    "print(\"data : \\n \", data)\n",
    "x = data.backfill(axis=0, inplace=True)\n",
    "print(x)"
   ],
   "metadata": {
    "collapsed": false
   }
  },
  {
   "cell_type": "code",
   "execution_count": 217,
   "outputs": [
    {
     "name": "stdout",
     "output_type": "stream",
     "text": [
      "data : \n",
      "                       date\n",
      "2005-01-01 00:00:00     0\n",
      "2005-01-01 01:00:00     1\n",
      "2005-01-01 02:00:00     2\n",
      "2005-01-01 03:00:00     3\n",
      "2005-01-01 04:00:00     4\n",
      "2005-01-01 05:00:00     5\n",
      "2005-01-01 06:00:00     6\n",
      "2005-01-01 07:00:00     7\n",
      "2005-01-01 08:00:00     8\n",
      "2005-01-01 09:00:00     9\n",
      "2005-01-01 10:00:00    10\n"
     ]
    },
    {
     "data": {
      "text/plain": "                     date\n2005-01-01 03:00:00     3\n2005-01-01 04:00:00     4\n2005-01-01 05:00:00     5\n2005-01-01 06:00:00     6\n2005-01-01 07:00:00     7\n2005-01-01 08:00:00     8\n2005-01-01 09:00:00     9",
      "text/html": "<div>\n<style scoped>\n    .dataframe tbody tr th:only-of-type {\n        vertical-align: middle;\n    }\n\n    .dataframe tbody tr th {\n        vertical-align: top;\n    }\n\n    .dataframe thead th {\n        text-align: right;\n    }\n</style>\n<table border=\"1\" class=\"dataframe\">\n  <thead>\n    <tr style=\"text-align: right;\">\n      <th></th>\n      <th>date</th>\n    </tr>\n  </thead>\n  <tbody>\n    <tr>\n      <th>2005-01-01 03:00:00</th>\n      <td>3</td>\n    </tr>\n    <tr>\n      <th>2005-01-01 04:00:00</th>\n      <td>4</td>\n    </tr>\n    <tr>\n      <th>2005-01-01 05:00:00</th>\n      <td>5</td>\n    </tr>\n    <tr>\n      <th>2005-01-01 06:00:00</th>\n      <td>6</td>\n    </tr>\n    <tr>\n      <th>2005-01-01 07:00:00</th>\n      <td>7</td>\n    </tr>\n    <tr>\n      <th>2005-01-01 08:00:00</th>\n      <td>8</td>\n    </tr>\n    <tr>\n      <th>2005-01-01 09:00:00</th>\n      <td>9</td>\n    </tr>\n  </tbody>\n</table>\n</div>"
     },
     "execution_count": 217,
     "metadata": {},
     "output_type": "execute_result"
    }
   ],
   "source": [
    "date = pd.date_range('1/1/2005', periods=11, freq='1H')\n",
    "data = pd.DataFrame({'date': [i for i in range(len(date))]}, index=date)\n",
    "print(\"data : \\n \", data)\n",
    "data.between_time('03:00', '09:00')"
   ],
   "metadata": {
    "collapsed": false
   }
  },
  {
   "cell_type": "code",
   "execution_count": 225,
   "outputs": [
    {
     "name": "stdout",
     "output_type": "stream",
     "text": [
      "data : \n",
      "     a    b     c\n",
      "0 -1  NaN   9.0\n",
      "1  2  6.0 -10.0\n",
      "2  3  7.0  11.0\n",
      "3  4  8.0   NaN\n",
      "   a    b     c\n",
      "0 -1  6.0   9.0\n",
      "1  2  6.0 -10.0\n",
      "2  3  7.0  11.0\n",
      "3  4  8.0   NaN\n",
      "     a    b     c\n",
      "0 -1.0  9.0   9.0\n",
      "1  2.0  6.0 -10.0\n",
      "2  3.0  7.0  11.0\n",
      "3  4.0  8.0   NaN\n"
     ]
    }
   ],
   "source": [
    "data = pd.DataFrame({\n",
    "    'a': [-1,2,3,4],\n",
    "    'b': [np.nan,6,7,8],\n",
    "    'c': [9,-10,11,np.nan]\n",
    "})\n",
    "print(\"data : \\n \", data)\n",
    "x = data.bfill(axis='rows')\n",
    "y = data.bfill(axis='columns')\n",
    "print(x)\n",
    "print(y)"
   ],
   "metadata": {
    "collapsed": false
   }
  },
  {
   "cell_type": "code",
   "execution_count": 231,
   "outputs": [
    {
     "data": {
      "text/plain": "True"
     },
     "execution_count": 231,
     "metadata": {},
     "output_type": "execute_result"
    }
   ],
   "source": [
    "data = pd.DataFrame({\n",
    "    'a': [True]\n",
    "}).bool()\n",
    "data"
   ],
   "metadata": {
    "collapsed": false
   }
  },
  {
   "cell_type": "code",
   "execution_count": 236,
   "outputs": [
    {
     "name": "stdout",
     "output_type": "stream",
     "text": [
      "data : \n",
      "     a  b   c\n",
      "0 -1  5   9\n",
      "1  2  6 -10\n",
      "2  3  7  11\n",
      "3  4  8  12\n"
     ]
    },
    {
     "data": {
      "text/plain": "<AxesSubplot: >"
     },
     "execution_count": 236,
     "metadata": {},
     "output_type": "execute_result"
    },
    {
     "data": {
      "text/plain": "<Figure size 640x480 with 1 Axes>",
      "image/png": "[encoded data removed]"
     },
     "metadata": {},
     "output_type": "display_data"
    }
   ],
   "source": [
    "data = pd.DataFrame({\n",
    "    'a': [-1,2,3,4],\n",
    "    'b': [5,6,7,8],\n",
    "    'c': [9,-10,11,12]\n",
    "})\n",
    "print(\"data : \\n \", data)\n",
    "data.boxplot(column=['a', 'b', 'c'])"
   ],
   "metadata": {
    "collapsed": false
   }
  },
  {
   "cell_type": "code",
   "execution_count": 242,
   "outputs": [
    {
     "name": "stdout",
     "output_type": "stream",
     "text": [
      "data : \n",
      "     a  b   c\n",
      "0 -1  5   9\n",
      "1  2  6 -10\n",
      "2  3  7  11\n",
      "3  4  8  12\n"
     ]
    },
    {
     "data": {
      "text/plain": "   a  b  c\n0  2  5  5\n1  2  5  2\n2  3  5  5\n3  4  5  5",
      "text/html": "<div>\n<style scoped>\n    .dataframe tbody tr th:only-of-type {\n        vertical-align: middle;\n    }\n\n    .dataframe tbody tr th {\n        vertical-align: top;\n    }\n\n    .dataframe thead th {\n        text-align: right;\n    }\n</style>\n<table border=\"1\" class=\"dataframe\">\n  <thead>\n    <tr style=\"text-align: right;\">\n      <th></th>\n      <th>a</th>\n      <th>b</th>\n      <th>c</th>\n    </tr>\n  </thead>\n  <tbody>\n    <tr>\n      <th>0</th>\n      <td>2</td>\n      <td>5</td>\n      <td>5</td>\n    </tr>\n    <tr>\n      <th>1</th>\n      <td>2</td>\n      <td>5</td>\n      <td>2</td>\n    </tr>\n    <tr>\n      <th>2</th>\n      <td>3</td>\n      <td>5</td>\n      <td>5</td>\n    </tr>\n    <tr>\n      <th>3</th>\n      <td>4</td>\n      <td>5</td>\n      <td>5</td>\n    </tr>\n  </tbody>\n</table>\n</div>"
     },
     "execution_count": 242,
     "metadata": {},
     "output_type": "execute_result"
    }
   ],
   "source": [
    "data = pd.DataFrame({\n",
    "    'a': [-1,2,3,4],\n",
    "    'b': [5,6,7,8],\n",
    "    'c': [9,-10,11,12]\n",
    "})\n",
    "print(\"data : \\n \", data)\n",
    "data.clip(2.0, 5.0)"
   ],
   "metadata": {
    "collapsed": false
   }
  },
  {
   "cell_type": "code",
   "execution_count": 244,
   "outputs": [
    {
     "name": "stdout",
     "output_type": "stream",
     "text": [
      "data : \n",
      "     a  b   c\n",
      "0 -1  5   9\n",
      "1  2  6 -10\n",
      "2  3  7  11\n",
      "3  4  8  12\n"
     ]
    },
    {
     "data": {
      "text/plain": "Index(['a', 'b', 'c'], dtype='object')"
     },
     "execution_count": 244,
     "metadata": {},
     "output_type": "execute_result"
    }
   ],
   "source": [
    "data = pd.DataFrame({\n",
    "    'a': [-1,2,3,4],\n",
    "    'b': [5,6,7,8],\n",
    "    'c': [9,-10,11,12]\n",
    "})\n",
    "print(\"data : \\n \", data)\n",
    "data.columns"
   ],
   "metadata": {
    "collapsed": false
   }
  },
  {
   "cell_type": "code",
   "execution_count": 257,
   "outputs": [
    {
     "name": "stdout",
     "output_type": "stream",
     "text": [
      "\n",
      "data1 : \n",
      "    A  B\n",
      "0  0  4\n",
      "1  0  4\n",
      "\n",
      "data2 : \n",
      "    A  B\n",
      "0  1  3\n",
      "1  1  3\n"
     ]
    },
    {
     "data": {
      "text/plain": "   A    B\n0  1  400\n1  1  400",
      "text/html": "<div>\n<style scoped>\n    .dataframe tbody tr th:only-of-type {\n        vertical-align: middle;\n    }\n\n    .dataframe tbody tr th {\n        vertical-align: top;\n    }\n\n    .dataframe thead th {\n        text-align: right;\n    }\n</style>\n<table border=\"1\" class=\"dataframe\">\n  <thead>\n    <tr style=\"text-align: right;\">\n      <th></th>\n      <th>A</th>\n      <th>B</th>\n    </tr>\n  </thead>\n  <tbody>\n    <tr>\n      <th>0</th>\n      <td>1</td>\n      <td>400</td>\n    </tr>\n    <tr>\n      <th>1</th>\n      <td>1</td>\n      <td>400</td>\n    </tr>\n  </tbody>\n</table>\n</div>"
     },
     "execution_count": 257,
     "metadata": {},
     "output_type": "execute_result"
    }
   ],
   "source": [
    "df1 = pd.DataFrame({'A': [0, 0], 'B': [4, 4]})\n",
    "df2 = pd.DataFrame({'A': [1, 1], 'B': [3, 3]})\n",
    "print(\"\\ndata1 : \\n\", df1)\n",
    "print(\"\\ndata2 : \\n\", df2)\n",
    "\n",
    "take_bigger = lambda s1, s2: s1*100 if s1.sum() > s2.sum() else s2\n",
    "df1.combine(df2, take_bigger)"
   ],
   "metadata": {
    "collapsed": false
   }
  },
  {
   "cell_type": "code",
   "execution_count": 262,
   "outputs": [
    {
     "name": "stdout",
     "output_type": "stream",
     "text": [
      "\n",
      "data1 : \n",
      "      A  B\n",
      "0  NaN  4\n",
      "1  0.0  4\n",
      "\n",
      "data2 : \n",
      "    A    B\n",
      "0  1  NaN\n",
      "1  1  3.0\n"
     ]
    },
    {
     "data": {
      "text/plain": "     A    B\n0  1.0  4.0\n1  0.0  4.0",
      "text/html": "<div>\n<style scoped>\n    .dataframe tbody tr th:only-of-type {\n        vertical-align: middle;\n    }\n\n    .dataframe tbody tr th {\n        vertical-align: top;\n    }\n\n    .dataframe thead th {\n        text-align: right;\n    }\n</style>\n<table border=\"1\" class=\"dataframe\">\n  <thead>\n    <tr style=\"text-align: right;\">\n      <th></th>\n      <th>A</th>\n      <th>B</th>\n    </tr>\n  </thead>\n  <tbody>\n    <tr>\n      <th>0</th>\n      <td>1.0</td>\n      <td>4.0</td>\n    </tr>\n    <tr>\n      <th>1</th>\n      <td>0.0</td>\n      <td>4.0</td>\n    </tr>\n  </tbody>\n</table>\n</div>"
     },
     "execution_count": 262,
     "metadata": {},
     "output_type": "execute_result"
    }
   ],
   "source": [
    "df1 = pd.DataFrame({'A': [np.nan, 0], 'B': [4, 4]})\n",
    "df2 = pd.DataFrame({'A': [1, 1], 'B': [np.nan, 3]})\n",
    "print(\"\\ndata1 : \\n\", df1)\n",
    "print(\"\\ndata2 : \\n\", df2)\n",
    "df1.combine_first(df2)"
   ],
   "metadata": {
    "collapsed": false
   }
  },
  {
   "cell_type": "code",
   "execution_count": 266,
   "outputs": [
    {
     "name": "stdout",
     "output_type": "stream",
     "text": [
      "\n",
      "data1 : \n",
      "      A  B\n",
      "0  NaN  4\n",
      "1  0.0  4\n",
      "\n",
      "data2 : \n",
      "    A    B\n",
      "0  1  NaN\n",
      "1  1  3.0\n"
     ]
    },
    {
     "data": {
      "text/plain": "     A          B      \n  self other self other\n0  NaN     1    4   NaN\n1  0.0     1    4   3.0",
      "text/html": "<div>\n<style scoped>\n    .dataframe tbody tr th:only-of-type {\n        vertical-align: middle;\n    }\n\n    .dataframe tbody tr th {\n        vertical-align: top;\n    }\n\n    .dataframe thead tr th {\n        text-align: left;\n    }\n</style>\n<table border=\"1\" class=\"dataframe\">\n  <thead>\n    <tr>\n      <th></th>\n      <th colspan=\"2\" halign=\"left\">A</th>\n      <th colspan=\"2\" halign=\"left\">B</th>\n    </tr>\n    <tr>\n      <th></th>\n      <th>self</th>\n      <th>other</th>\n      <th>self</th>\n      <th>other</th>\n    </tr>\n  </thead>\n  <tbody>\n    <tr>\n      <th>0</th>\n      <td>NaN</td>\n      <td>1</td>\n      <td>4</td>\n      <td>NaN</td>\n    </tr>\n    <tr>\n      <th>1</th>\n      <td>0.0</td>\n      <td>1</td>\n      <td>4</td>\n      <td>3.0</td>\n    </tr>\n  </tbody>\n</table>\n</div>"
     },
     "execution_count": 266,
     "metadata": {},
     "output_type": "execute_result"
    }
   ],
   "source": [
    "df1 = pd.DataFrame({'A': [np.nan, 0], 'B': [4, 4]})\n",
    "df2 = pd.DataFrame({'A': [1, 1], 'B': [np.nan, 3]})\n",
    "print(\"\\ndata1 : \\n\", df1)\n",
    "print(\"\\ndata2 : \\n\", df2)\n",
    "df1.compare(df2)"
   ],
   "metadata": {
    "collapsed": false
   }
  },
  {
   "cell_type": "code",
   "execution_count": 272,
   "outputs": [
    {
     "name": "stdout",
     "output_type": "stream",
     "text": [
      "data : \n",
      "  a    float64\n",
      "b     object\n",
      "c     object\n",
      "dtype: object\n"
     ]
    },
    {
     "data": {
      "text/plain": "a     Int64\nb    object\nc    object\ndtype: object"
     },
     "execution_count": 272,
     "metadata": {},
     "output_type": "execute_result"
    }
   ],
   "source": [
    "data = pd.DataFrame({\n",
    "    'a': [-1,2,3,np.nan],\n",
    "    'b': [0,6,True,8],\n",
    "    'c': [9,-10,False,12]\n",
    "})\n",
    "print(\"data : \\n \", data.dtypes)\n",
    "data.convert_dtypes().dtypes"
   ],
   "metadata": {
    "collapsed": false
   }
  },
  {
   "cell_type": "code",
   "execution_count": 274,
   "outputs": [
    {
     "name": "stdout",
     "output_type": "stream",
     "text": [
      "data : \n",
      "     a  b   c\n",
      "0 -1  5   9\n",
      "1  2  6 -10\n",
      "2  3  7  11\n",
      "3  4  8  12\n"
     ]
    },
    {
     "data": {
      "text/plain": "   a  b   c\n0 -1  5   9\n1  2  6 -10\n2  3  7  11\n3  4  8  12",
      "text/html": "<div>\n<style scoped>\n    .dataframe tbody tr th:only-of-type {\n        vertical-align: middle;\n    }\n\n    .dataframe tbody tr th {\n        vertical-align: top;\n    }\n\n    .dataframe thead th {\n        text-align: right;\n    }\n</style>\n<table border=\"1\" class=\"dataframe\">\n  <thead>\n    <tr style=\"text-align: right;\">\n      <th></th>\n      <th>a</th>\n      <th>b</th>\n      <th>c</th>\n    </tr>\n  </thead>\n  <tbody>\n    <tr>\n      <th>0</th>\n      <td>-1</td>\n      <td>5</td>\n      <td>9</td>\n    </tr>\n    <tr>\n      <th>1</th>\n      <td>2</td>\n      <td>6</td>\n      <td>-10</td>\n    </tr>\n    <tr>\n      <th>2</th>\n      <td>3</td>\n      <td>7</td>\n      <td>11</td>\n    </tr>\n    <tr>\n      <th>3</th>\n      <td>4</td>\n      <td>8</td>\n      <td>12</td>\n    </tr>\n  </tbody>\n</table>\n</div>"
     },
     "execution_count": 274,
     "metadata": {},
     "output_type": "execute_result"
    }
   ],
   "source": [
    "data = pd.DataFrame({\n",
    "    'a': [-1,2,3,4],\n",
    "    'b': [5,6,7,8],\n",
    "    'c': [9,-10,11,12]\n",
    "})\n",
    "print(\"data : \\n \", data)\n",
    "data.copy()"
   ],
   "metadata": {
    "collapsed": false
   }
  },
  {
   "cell_type": "code",
   "execution_count": 304,
   "outputs": [
    {
     "name": "stdout",
     "output_type": "stream",
     "text": [
      "data : \n",
      "     ax  bx  cx  dx\n",
      "0  -1   5   9   3\n",
      "1   2   6 -10   0\n",
      "2   3   7  11  21\n",
      "3   4   8  12   2\n"
     ]
    },
    {
     "data": {
      "text/plain": "<Figure size 640x480 with 2 Axes>",
      "image/png": "[encoded data removed]"
     },
     "metadata": {},
     "output_type": "display_data"
    },
    {
     "data": {
      "text/plain": "<Figure size 640x480 with 2 Axes>",
      "image/png": "[encoded data removed]"
     },
     "metadata": {},
     "output_type": "display_data"
    },
    {
     "data": {
      "text/plain": "<Figure size 640x480 with 2 Axes>",
      "image/png": "[encoded data removed]"
     },
     "metadata": {},
     "output_type": "display_data"
    }
   ],
   "source": [
    "import seaborn as sns\n",
    "import matplotlib.pyplot as plt\n",
    "data = pd.DataFrame({\n",
    "    'ax': [-1,2,3,4],\n",
    "    'bx': [5,6,7,8],\n",
    "    'cx': [9,-10,11,12],\n",
    "    'dx': [3,0,21,2],\n",
    "})\n",
    "print(\"data : \\n \", data)\n",
    "# data.corr(\"pearson\")\n",
    "sns.heatmap(data.corr(\"pearson\"), annot=True)\n",
    "plt.show()\n",
    "\n",
    "# data.corr(\"spearman)\n",
    "sns.heatmap(data.corr(\"spearman\"), annot=True)\n",
    "plt.show()\n",
    "\n",
    "# data.corr(\"kendall)\n",
    "sns.heatmap(data.corr(\"kendall\"), annot=True)\n",
    "plt.show()"
   ],
   "metadata": {
    "collapsed": false
   }
  },
  {
   "cell_type": "code",
   "execution_count": null,
   "outputs": [],
   "source": [],
   "metadata": {
    "collapsed": false
   }
  }
 ],
 "metadata": {
  "kernelspec": {
   "display_name": "Python 3",
   "language": "python",
   "name": "python3"
  },
  "language_info": {
   "codemirror_mode": {
    "name": "ipython",
    "version": 2
   },
   "file_extension": ".py",
   "mimetype": "text/x-python",
   "name": "python",
   "nbconvert_exporter": "python",
   "pygments_lexer": "ipython2",
   "version": "2.7.6"
  }
 },
 "nbformat": 4,
 "nbformat_minor": 0
}
