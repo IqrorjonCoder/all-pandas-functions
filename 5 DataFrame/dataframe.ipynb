{
 "cells": [
  {
   "cell_type": "code",
   "execution_count": 1,
   "metadata": {
    "collapsed": true
   },
   "outputs": [
    {
     "name": "stdout",
     "output_type": "stream",
     "text": [
      "0 T\n",
      "1 abs\n",
      "2 add\n",
      "3 add_prefix\n",
      "4 add_suffix\n",
      "5 agg\n",
      "6 aggregate\n",
      "7 align\n",
      "8 all\n",
      "9 any\n",
      "10 append\n",
      "11 apply\n",
      "12 applymap\n",
      "13 asfreq\n",
      "14 asof\n",
      "15 assign\n",
      "16 astype\n",
      "17 at\n",
      "18 at_time\n",
      "19 attrs\n",
      "20 axes\n",
      "21 backfill\n",
      "22 between_time\n",
      "23 bfill\n",
      "24 bool\n",
      "25 boxplot\n",
      "26 clip\n",
      "27 columns\n",
      "28 combine\n",
      "29 combine_first\n",
      "30 compare\n",
      "31 convert_dtypes\n",
      "32 copy\n",
      "33 corr\n",
      "34 corrwith\n",
      "35 count\n",
      "36 cov\n",
      "37 cummax\n",
      "38 cummin\n",
      "39 cumprod\n",
      "40 cumsum\n",
      "41 describe\n",
      "42 diff\n",
      "43 div\n",
      "44 divide\n",
      "45 dot\n",
      "46 drop\n",
      "47 drop_duplicates\n",
      "48 droplevel\n",
      "49 dropna\n",
      "50 dtypes\n",
      "51 duplicated\n",
      "52 empty\n",
      "53 eq\n",
      "54 equals\n",
      "55 eval\n",
      "56 ewm\n",
      "57 expanding\n",
      "58 explode\n",
      "59 ffill\n",
      "60 fillna\n",
      "61 filter\n",
      "62 first\n",
      "63 first_valid_index\n",
      "64 flags\n",
      "65 floordiv\n",
      "66 from_dict\n",
      "67 from_records\n",
      "68 ge\n",
      "69 get\n",
      "70 groupby\n",
      "71 gt\n",
      "72 head\n",
      "73 hist\n",
      "74 iat\n",
      "75 idxmax\n",
      "76 idxmin\n",
      "77 iloc\n",
      "78 index\n",
      "79 infer_objects\n",
      "80 info\n",
      "81 insert\n",
      "82 interpolate\n",
      "83 isetitem\n",
      "84 isin\n",
      "85 isna\n",
      "86 isnull\n",
      "87 items\n",
      "88 iteritems\n",
      "89 iterrows\n",
      "90 itertuples\n",
      "91 join\n",
      "92 keys\n",
      "93 kurt\n",
      "94 kurtosis\n",
      "95 last\n",
      "96 last_valid_index\n",
      "97 le\n",
      "98 loc\n",
      "99 lookup\n",
      "100 lt\n",
      "101 mad\n",
      "102 mask\n",
      "103 max\n",
      "104 mean\n",
      "105 median\n",
      "106 melt\n",
      "107 memory_usage\n",
      "108 merge\n",
      "109 min\n",
      "110 mod\n",
      "111 mode\n",
      "112 mul\n",
      "113 multiply\n",
      "114 ndim\n",
      "115 ne\n",
      "116 nlargest\n",
      "117 notna\n",
      "118 notnull\n",
      "119 nsmallest\n",
      "120 nunique\n",
      "121 pad\n",
      "122 pct_change\n",
      "123 pipe\n",
      "124 pivot\n",
      "125 pivot_table\n",
      "126 plot\n",
      "127 pop\n",
      "128 pow\n",
      "129 prod\n",
      "130 product\n",
      "131 quantile\n",
      "132 query\n",
      "133 radd\n",
      "134 rank\n",
      "135 rdiv\n",
      "136 reindex\n",
      "137 reindex_like\n",
      "138 rename\n",
      "139 rename_axis\n",
      "140 reorder_levels\n",
      "141 replace\n",
      "142 resample\n",
      "143 reset_index\n",
      "144 rfloordiv\n",
      "145 rmod\n",
      "146 rmul\n",
      "147 rolling\n",
      "148 round\n",
      "149 rpow\n",
      "150 rsub\n",
      "151 rtruediv\n",
      "152 sample\n",
      "153 select_dtypes\n",
      "154 sem\n",
      "155 set_axis\n",
      "156 set_flags\n",
      "157 set_index\n",
      "158 shape\n",
      "159 shift\n",
      "160 size\n",
      "161 skew\n",
      "162 slice_shift\n",
      "163 sort_index\n",
      "164 sort_values\n",
      "165 sparse\n",
      "166 squeeze\n",
      "167 stack\n",
      "168 std\n",
      "169 style\n",
      "170 sub\n",
      "171 subtract\n",
      "172 sum\n",
      "173 swapaxes\n",
      "174 swaplevel\n",
      "175 tail\n",
      "176 take\n",
      "177 to_clipboard\n",
      "178 to_csv\n",
      "179 to_dict\n",
      "180 to_excel\n",
      "181 to_feather\n",
      "182 to_gbq\n",
      "183 to_hdf\n",
      "184 to_html\n",
      "185 to_json\n",
      "186 to_latex\n",
      "187 to_markdown\n",
      "188 to_numpy\n",
      "189 to_orc\n",
      "190 to_parquet\n",
      "191 to_period\n",
      "192 to_pickle\n",
      "193 to_records\n",
      "194 to_sql\n",
      "195 to_stata\n",
      "196 to_string\n",
      "197 to_timestamp\n",
      "198 to_xarray\n",
      "199 to_xml\n",
      "200 transform\n",
      "201 transpose\n",
      "202 truediv\n",
      "203 truncate\n",
      "204 tshift\n",
      "205 tz_convert\n",
      "206 tz_localize\n",
      "207 unstack\n",
      "208 update\n",
      "209 value_counts\n",
      "210 values\n",
      "211 var\n",
      "212 where\n",
      "213 xs\n"
     ]
    }
   ],
   "source": [
    "import numpy as np\n",
    "import pandas as pd\n",
    "import matplotlib.pyplot as plt\n",
    "\n",
    "functions = [i for i in dir(pd.DataFrame) if i[:1] != '_']\n",
    "\n",
    "for i, v in enumerate(functions):\n",
    "    print(i, v)"
   ]
  },
  {
   "cell_type": "code",
   "execution_count": 5,
   "outputs": [],
   "source": [
    "\n",
    "data = pd.DataFrame({\n",
    "    'a': [-1,2,3,4],\n",
    "    'b': [5,6,7,8],\n",
    "    'c': [9,-10,11,12]\n",
    "})\n"
   ],
   "metadata": {
    "collapsed": false
   }
  },
  {
   "cell_type": "code",
   "execution_count": 6,
   "outputs": [
    {
     "data": {
      "text/plain": "   0   1   2   3\na -1   2   3   4\nb  5   6   7   8\nc  9 -10  11  12",
      "text/html": "<div>\n<style scoped>\n    .dataframe tbody tr th:only-of-type {\n        vertical-align: middle;\n    }\n\n    .dataframe tbody tr th {\n        vertical-align: top;\n    }\n\n    .dataframe thead th {\n        text-align: right;\n    }\n</style>\n<table border=\"1\" class=\"dataframe\">\n  <thead>\n    <tr style=\"text-align: right;\">\n      <th></th>\n      <th>0</th>\n      <th>1</th>\n      <th>2</th>\n      <th>3</th>\n    </tr>\n  </thead>\n  <tbody>\n    <tr>\n      <th>a</th>\n      <td>-1</td>\n      <td>2</td>\n      <td>3</td>\n      <td>4</td>\n    </tr>\n    <tr>\n      <th>b</th>\n      <td>5</td>\n      <td>6</td>\n      <td>7</td>\n      <td>8</td>\n    </tr>\n    <tr>\n      <th>c</th>\n      <td>9</td>\n      <td>-10</td>\n      <td>11</td>\n      <td>12</td>\n    </tr>\n  </tbody>\n</table>\n</div>"
     },
     "execution_count": 6,
     "metadata": {},
     "output_type": "execute_result"
    }
   ],
   "source": [
    "data.T"
   ],
   "metadata": {
    "collapsed": false
   }
  },
  {
   "cell_type": "code",
   "execution_count": 9,
   "outputs": [
    {
     "data": {
      "text/plain": "   a  b   c\n0  1  5   9\n1  2  6  10\n2  3  7  11\n3  4  8  12",
      "text/html": "<div>\n<style scoped>\n    .dataframe tbody tr th:only-of-type {\n        vertical-align: middle;\n    }\n\n    .dataframe tbody tr th {\n        vertical-align: top;\n    }\n\n    .dataframe thead th {\n        text-align: right;\n    }\n</style>\n<table border=\"1\" class=\"dataframe\">\n  <thead>\n    <tr style=\"text-align: right;\">\n      <th></th>\n      <th>a</th>\n      <th>b</th>\n      <th>c</th>\n    </tr>\n  </thead>\n  <tbody>\n    <tr>\n      <th>0</th>\n      <td>1</td>\n      <td>5</td>\n      <td>9</td>\n    </tr>\n    <tr>\n      <th>1</th>\n      <td>2</td>\n      <td>6</td>\n      <td>10</td>\n    </tr>\n    <tr>\n      <th>2</th>\n      <td>3</td>\n      <td>7</td>\n      <td>11</td>\n    </tr>\n    <tr>\n      <th>3</th>\n      <td>4</td>\n      <td>8</td>\n      <td>12</td>\n    </tr>\n  </tbody>\n</table>\n</div>"
     },
     "execution_count": 9,
     "metadata": {},
     "output_type": "execute_result"
    }
   ],
   "source": [
    "data.abs()"
   ],
   "metadata": {
    "collapsed": false
   }
  },
  {
   "cell_type": "code",
   "execution_count": 16,
   "outputs": [
    {
     "name": "stdout",
     "output_type": "stream",
     "text": [
      "   a  b   c\n",
      "0 -1  5   9\n",
      "1  2  6 -10\n",
      "2  3  7  11\n",
      "3  4  8  12\n"
     ]
    },
    {
     "data": {
      "text/plain": "     a    b    c\n0   99  205  309\n1  102  206  290\n2  103  207  311\n3  104  208  312",
      "text/html": "<div>\n<style scoped>\n    .dataframe tbody tr th:only-of-type {\n        vertical-align: middle;\n    }\n\n    .dataframe tbody tr th {\n        vertical-align: top;\n    }\n\n    .dataframe thead th {\n        text-align: right;\n    }\n</style>\n<table border=\"1\" class=\"dataframe\">\n  <thead>\n    <tr style=\"text-align: right;\">\n      <th></th>\n      <th>a</th>\n      <th>b</th>\n      <th>c</th>\n    </tr>\n  </thead>\n  <tbody>\n    <tr>\n      <th>0</th>\n      <td>99</td>\n      <td>205</td>\n      <td>309</td>\n    </tr>\n    <tr>\n      <th>1</th>\n      <td>102</td>\n      <td>206</td>\n      <td>290</td>\n    </tr>\n    <tr>\n      <th>2</th>\n      <td>103</td>\n      <td>207</td>\n      <td>311</td>\n    </tr>\n    <tr>\n      <th>3</th>\n      <td>104</td>\n      <td>208</td>\n      <td>312</td>\n    </tr>\n  </tbody>\n</table>\n</div>"
     },
     "execution_count": 16,
     "metadata": {},
     "output_type": "execute_result"
    }
   ],
   "source": [
    "print(data)\n",
    "data.add([100,200,300])"
   ],
   "metadata": {
    "collapsed": false
   }
  },
  {
   "cell_type": "code",
   "execution_count": 18,
   "outputs": [
    {
     "name": "stdout",
     "output_type": "stream",
     "text": [
      "   a  b   c\n",
      "0 -1  5   9\n",
      "1  2  6 -10\n",
      "2  3  7  11\n",
      "3  4  8  12\n"
     ]
    },
    {
     "data": {
      "text/plain": "   x_a  x_b  x_c\n0   -1    5    9\n1    2    6  -10\n2    3    7   11\n3    4    8   12",
      "text/html": "<div>\n<style scoped>\n    .dataframe tbody tr th:only-of-type {\n        vertical-align: middle;\n    }\n\n    .dataframe tbody tr th {\n        vertical-align: top;\n    }\n\n    .dataframe thead th {\n        text-align: right;\n    }\n</style>\n<table border=\"1\" class=\"dataframe\">\n  <thead>\n    <tr style=\"text-align: right;\">\n      <th></th>\n      <th>x_a</th>\n      <th>x_b</th>\n      <th>x_c</th>\n    </tr>\n  </thead>\n  <tbody>\n    <tr>\n      <th>0</th>\n      <td>-1</td>\n      <td>5</td>\n      <td>9</td>\n    </tr>\n    <tr>\n      <th>1</th>\n      <td>2</td>\n      <td>6</td>\n      <td>-10</td>\n    </tr>\n    <tr>\n      <th>2</th>\n      <td>3</td>\n      <td>7</td>\n      <td>11</td>\n    </tr>\n    <tr>\n      <th>3</th>\n      <td>4</td>\n      <td>8</td>\n      <td>12</td>\n    </tr>\n  </tbody>\n</table>\n</div>"
     },
     "execution_count": 18,
     "metadata": {},
     "output_type": "execute_result"
    }
   ],
   "source": [
    "print(data)\n",
    "data.add_prefix(\"x_\")"
   ],
   "metadata": {
    "collapsed": false
   }
  },
  {
   "cell_type": "code",
   "execution_count": 21,
   "outputs": [
    {
     "name": "stdout",
     "output_type": "stream",
     "text": [
      "   a  b   c\n",
      "0 -1  5   9\n",
      "1  2  6 -10\n",
      "2  3  7  11\n",
      "3  4  8  12\n"
     ]
    },
    {
     "data": {
      "text/plain": "   a_x  b_x  c_x\n0   -1    5    9\n1    2    6  -10\n2    3    7   11\n3    4    8   12",
      "text/html": "<div>\n<style scoped>\n    .dataframe tbody tr th:only-of-type {\n        vertical-align: middle;\n    }\n\n    .dataframe tbody tr th {\n        vertical-align: top;\n    }\n\n    .dataframe thead th {\n        text-align: right;\n    }\n</style>\n<table border=\"1\" class=\"dataframe\">\n  <thead>\n    <tr style=\"text-align: right;\">\n      <th></th>\n      <th>a_x</th>\n      <th>b_x</th>\n      <th>c_x</th>\n    </tr>\n  </thead>\n  <tbody>\n    <tr>\n      <th>0</th>\n      <td>-1</td>\n      <td>5</td>\n      <td>9</td>\n    </tr>\n    <tr>\n      <th>1</th>\n      <td>2</td>\n      <td>6</td>\n      <td>-10</td>\n    </tr>\n    <tr>\n      <th>2</th>\n      <td>3</td>\n      <td>7</td>\n      <td>11</td>\n    </tr>\n    <tr>\n      <th>3</th>\n      <td>4</td>\n      <td>8</td>\n      <td>12</td>\n    </tr>\n  </tbody>\n</table>\n</div>"
     },
     "execution_count": 21,
     "metadata": {},
     "output_type": "execute_result"
    }
   ],
   "source": [
    "print(data)\n",
    "data.add_suffix(\"_x\")"
   ],
   "metadata": {
    "collapsed": false
   }
  },
  {
   "cell_type": "code",
   "execution_count": 26,
   "outputs": [
    {
     "name": "stdout",
     "output_type": "stream",
     "text": [
      "   a  b   c\n",
      "0 -1  5   9\n",
      "1  2  6 -10\n",
      "2  3  7  11\n",
      "3  4  8  12\n"
     ]
    },
    {
     "data": {
      "text/plain": "     a   b   c\nmin -1   5 -10\nmax  4   8  12\nsum  8  26  22",
      "text/html": "<div>\n<style scoped>\n    .dataframe tbody tr th:only-of-type {\n        vertical-align: middle;\n    }\n\n    .dataframe tbody tr th {\n        vertical-align: top;\n    }\n\n    .dataframe thead th {\n        text-align: right;\n    }\n</style>\n<table border=\"1\" class=\"dataframe\">\n  <thead>\n    <tr style=\"text-align: right;\">\n      <th></th>\n      <th>a</th>\n      <th>b</th>\n      <th>c</th>\n    </tr>\n  </thead>\n  <tbody>\n    <tr>\n      <th>min</th>\n      <td>-1</td>\n      <td>5</td>\n      <td>-10</td>\n    </tr>\n    <tr>\n      <th>max</th>\n      <td>4</td>\n      <td>8</td>\n      <td>12</td>\n    </tr>\n    <tr>\n      <th>sum</th>\n      <td>8</td>\n      <td>26</td>\n      <td>22</td>\n    </tr>\n  </tbody>\n</table>\n</div>"
     },
     "execution_count": 26,
     "metadata": {},
     "output_type": "execute_result"
    }
   ],
   "source": [
    "print(data)\n",
    "data.agg(['min', 'max', 'sum'])"
   ],
   "metadata": {
    "collapsed": false
   }
  },
  {
   "cell_type": "code",
   "execution_count": 30,
   "outputs": [
    {
     "name": "stdout",
     "output_type": "stream",
     "text": [
      "   a  b   c\n",
      "0 -1  5   9\n",
      "1  2  6 -10\n",
      "2  3  7  11\n",
      "3  4  8  12\n"
     ]
    },
    {
     "data": {
      "text/plain": "     a   b   c\nmin -1   5 -10\nmax  4   8  12\nsum  8  26  22",
      "text/html": "<div>\n<style scoped>\n    .dataframe tbody tr th:only-of-type {\n        vertical-align: middle;\n    }\n\n    .dataframe tbody tr th {\n        vertical-align: top;\n    }\n\n    .dataframe thead th {\n        text-align: right;\n    }\n</style>\n<table border=\"1\" class=\"dataframe\">\n  <thead>\n    <tr style=\"text-align: right;\">\n      <th></th>\n      <th>a</th>\n      <th>b</th>\n      <th>c</th>\n    </tr>\n  </thead>\n  <tbody>\n    <tr>\n      <th>min</th>\n      <td>-1</td>\n      <td>5</td>\n      <td>-10</td>\n    </tr>\n    <tr>\n      <th>max</th>\n      <td>4</td>\n      <td>8</td>\n      <td>12</td>\n    </tr>\n    <tr>\n      <th>sum</th>\n      <td>8</td>\n      <td>26</td>\n      <td>22</td>\n    </tr>\n  </tbody>\n</table>\n</div>"
     },
     "execution_count": 30,
     "metadata": {},
     "output_type": "execute_result"
    }
   ],
   "source": [
    "print(data)\n",
    "data.aggregate(['min', 'max', 'sum'])"
   ],
   "metadata": {
    "collapsed": false
   }
  },
  {
   "cell_type": "code",
   "execution_count": 62,
   "outputs": [
    {
     "name": "stdout",
     "output_type": "stream",
     "text": [
      "data : \n",
      "    a  b   c\n",
      "0 -1  5   9\n",
      "1  2  6 -10\n",
      "2  3  7  11\n",
      "3  4  8  12\n",
      "other data : \n",
      "      A    B    C\n",
      "0   10   20   30\n",
      "1   60   70   80\n",
      "2  600  700  800\n",
      "3 -100 -200 -300\n"
     ]
    },
    {
     "data": {
      "text/plain": "(   a  b   c\n 0 -1  5   9\n 1  2  6 -10\n 2  3  7  11\n 3  4  8  12,\n      A    B    C\n 0   10   20   30\n 1   60   70   80\n 2  600  700  800\n 3 -100 -200 -300)"
     },
     "execution_count": 62,
     "metadata": {},
     "output_type": "execute_result"
    }
   ],
   "source": [
    "print(\"data : \\n\", data)\n",
    "other = pd.DataFrame(\n",
    "    [[10, 20, 30], [60, 70, 80], [600, 700, 800], [-100, -200, -300]],\n",
    "    columns=[\"A\", \"B\", \"C\"],\n",
    "    index=[0,1,2,3],\n",
    ")\n",
    "print(\"other data : \\n\", other)\n",
    "x = data.align(other, join='left', axis=0)\n",
    "x"
   ],
   "metadata": {
    "collapsed": false
   }
  },
  {
   "cell_type": "code",
   "execution_count": 69,
   "outputs": [
    {
     "name": "stdout",
     "output_type": "stream",
     "text": [
      "data : \n",
      "        a    b   c\n",
      "0     -1  5.0   9\n",
      "1  False  6.0 -10\n",
      "2      3  7.0  11\n",
      "3    NaN  NaN  12\n"
     ]
    },
    {
     "data": {
      "text/plain": "a    False\nb     True\nc     True\ndtype: bool"
     },
     "execution_count": 69,
     "metadata": {},
     "output_type": "execute_result"
    }
   ],
   "source": [
    "data = pd.DataFrame({\n",
    "    'a': [-1,False,3,np.nan],\n",
    "    'b': [5,6,7,np.nan],\n",
    "    'c': [9,-10,11,12]\n",
    "})\n",
    "\n",
    "print(\"data : \\n\", data)\n",
    "data.all()"
   ],
   "metadata": {
    "collapsed": false
   }
  },
  {
   "cell_type": "code",
   "execution_count": 74,
   "outputs": [
    {
     "name": "stdout",
     "output_type": "stream",
     "text": [
      "data : \n",
      "        a      b   c\n",
      "0      0      0   9\n",
      "1  False      6 -10\n",
      "2  False  False  11\n",
      "3  False    NaN  12\n"
     ]
    },
    {
     "data": {
      "text/plain": "a    False\nb     True\nc     True\ndtype: bool"
     },
     "execution_count": 74,
     "metadata": {},
     "output_type": "execute_result"
    }
   ],
   "source": [
    "data = pd.DataFrame({\n",
    "    'a': [0,False,False,False],\n",
    "    'b': [0,6,False,np.nan],\n",
    "    'c': [9,-10,11,12]\n",
    "})\n",
    "print(\"data : \\n\", data)\n",
    "data.any()"
   ],
   "metadata": {
    "collapsed": false
   }
  },
  {
   "cell_type": "code",
   "execution_count": 92,
   "outputs": [
    {
     "name": "stdout",
     "output_type": "stream",
     "text": [
      "data : \n",
      "    a  b   c\n",
      "0 -1  5   9\n",
      "1  2  6 -10\n",
      "2  3  7  11\n",
      "3  4  8  12\n",
      "other : \n",
      "      a    b    c\n",
      "0   10   20   30\n",
      "1   60   70   80\n",
      "2  600  700  800\n",
      "3 -100 -200 -300\n"
     ]
    },
    {
     "name": "stderr",
     "output_type": "stream",
     "text": [
      "C:\\Users\\student.ASTRUM-DOMAIN\\AppData\\Local\\Temp\\ipykernel_14268\\2897359158.py:14: FutureWarning: The frame.append method is deprecated and will be removed from pandas in a future version. Use pandas.concat instead.\n",
      "  data.append(other)\n"
     ]
    },
    {
     "data": {
      "text/plain": "     a    b    c\n0   -1    5    9\n1    2    6  -10\n2    3    7   11\n3    4    8   12\n0   10   20   30\n1   60   70   80\n2  600  700  800\n3 -100 -200 -300",
      "text/html": "<div>\n<style scoped>\n    .dataframe tbody tr th:only-of-type {\n        vertical-align: middle;\n    }\n\n    .dataframe tbody tr th {\n        vertical-align: top;\n    }\n\n    .dataframe thead th {\n        text-align: right;\n    }\n</style>\n<table border=\"1\" class=\"dataframe\">\n  <thead>\n    <tr style=\"text-align: right;\">\n      <th></th>\n      <th>a</th>\n      <th>b</th>\n      <th>c</th>\n    </tr>\n  </thead>\n  <tbody>\n    <tr>\n      <th>0</th>\n      <td>-1</td>\n      <td>5</td>\n      <td>9</td>\n    </tr>\n    <tr>\n      <th>1</th>\n      <td>2</td>\n      <td>6</td>\n      <td>-10</td>\n    </tr>\n    <tr>\n      <th>2</th>\n      <td>3</td>\n      <td>7</td>\n      <td>11</td>\n    </tr>\n    <tr>\n      <th>3</th>\n      <td>4</td>\n      <td>8</td>\n      <td>12</td>\n    </tr>\n    <tr>\n      <th>0</th>\n      <td>10</td>\n      <td>20</td>\n      <td>30</td>\n    </tr>\n    <tr>\n      <th>1</th>\n      <td>60</td>\n      <td>70</td>\n      <td>80</td>\n    </tr>\n    <tr>\n      <th>2</th>\n      <td>600</td>\n      <td>700</td>\n      <td>800</td>\n    </tr>\n    <tr>\n      <th>3</th>\n      <td>-100</td>\n      <td>-200</td>\n      <td>-300</td>\n    </tr>\n  </tbody>\n</table>\n</div>"
     },
     "execution_count": 92,
     "metadata": {},
     "output_type": "execute_result"
    }
   ],
   "source": [
    "other = pd.DataFrame(\n",
    "    [[10, 20, 30], [60, 70, 80], [600, 700, 800], [-100, -200, -300]],\n",
    "    columns=[\"a\", \"b\", \"c\"],\n",
    "    index=[0,1,2,3],\n",
    ")\n",
    "\n",
    "data = pd.DataFrame({\n",
    "    'a': [-1,2,3,4],\n",
    "    'b': [5,6,7,8],\n",
    "    'c': [9,-10,11,12]\n",
    "})\n",
    "print(\"data : \\n\", data)\n",
    "print(\"other : \\n\", other)\n",
    "data.append(other)"
   ],
   "metadata": {
    "collapsed": false
   }
  },
  {
   "cell_type": "code",
   "execution_count": 96,
   "outputs": [
    {
     "name": "stdout",
     "output_type": "stream",
     "text": [
      "data : \n",
      "    a  b   c\n",
      "0 -1  5   9\n",
      "1  2  6 -10\n",
      "2  3  7  11\n",
      "3  4  8  12\n"
     ]
    },
    {
     "data": {
      "text/plain": "          a         b         c\n0       NaN  2.236068  3.000000\n1  1.414214  2.449490       NaN\n2  1.732051  2.645751  3.316625\n3  2.000000  2.828427  3.464102",
      "text/html": "<div>\n<style scoped>\n    .dataframe tbody tr th:only-of-type {\n        vertical-align: middle;\n    }\n\n    .dataframe tbody tr th {\n        vertical-align: top;\n    }\n\n    .dataframe thead th {\n        text-align: right;\n    }\n</style>\n<table border=\"1\" class=\"dataframe\">\n  <thead>\n    <tr style=\"text-align: right;\">\n      <th></th>\n      <th>a</th>\n      <th>b</th>\n      <th>c</th>\n    </tr>\n  </thead>\n  <tbody>\n    <tr>\n      <th>0</th>\n      <td>NaN</td>\n      <td>2.236068</td>\n      <td>3.000000</td>\n    </tr>\n    <tr>\n      <th>1</th>\n      <td>1.414214</td>\n      <td>2.449490</td>\n      <td>NaN</td>\n    </tr>\n    <tr>\n      <th>2</th>\n      <td>1.732051</td>\n      <td>2.645751</td>\n      <td>3.316625</td>\n    </tr>\n    <tr>\n      <th>3</th>\n      <td>2.000000</td>\n      <td>2.828427</td>\n      <td>3.464102</td>\n    </tr>\n  </tbody>\n</table>\n</div>"
     },
     "execution_count": 96,
     "metadata": {},
     "output_type": "execute_result"
    }
   ],
   "source": [
    "data = pd.DataFrame({\n",
    "    'a': [-1,2,3,4],\n",
    "    'b': [5,6,7,8],\n",
    "    'c': [9,-10,11,12]\n",
    "})\n",
    "print(\"data : \\n\", data)\n",
    "data.apply(np.sqrt)"
   ],
   "metadata": {
    "collapsed": false
   }
  },
  {
   "cell_type": "code",
   "execution_count": 98,
   "outputs": [
    {
     "name": "stdout",
     "output_type": "stream",
     "text": [
      "data : \n",
      "    a  b   c\n",
      "0 -1  5   9\n",
      "1  2  6 -10\n",
      "2  3  7  11\n",
      "3  4  8  12\n"
     ]
    },
    {
     "name": "stderr",
     "output_type": "stream",
     "text": [
      "C:\\Users\\student.ASTRUM-DOMAIN\\AppData\\IqrorjonCoder\\python-projects\\all-pandas-functions\\venv\\lib\\site-packages\\pandas\\core\\frame.py:9641: RuntimeWarning: invalid value encountered in sqrt\n",
      "  return lib.map_infer(x.astype(object)._values, func, ignore_na=ignore_na)\n"
     ]
    },
    {
     "data": {
      "text/plain": "          a         b         c\n0       NaN  2.236068  3.000000\n1  1.414214  2.449490       NaN\n2  1.732051  2.645751  3.316625\n3  2.000000  2.828427  3.464102",
      "text/html": "<div>\n<style scoped>\n    .dataframe tbody tr th:only-of-type {\n        vertical-align: middle;\n    }\n\n    .dataframe tbody tr th {\n        vertical-align: top;\n    }\n\n    .dataframe thead th {\n        text-align: right;\n    }\n</style>\n<table border=\"1\" class=\"dataframe\">\n  <thead>\n    <tr style=\"text-align: right;\">\n      <th></th>\n      <th>a</th>\n      <th>b</th>\n      <th>c</th>\n    </tr>\n  </thead>\n  <tbody>\n    <tr>\n      <th>0</th>\n      <td>NaN</td>\n      <td>2.236068</td>\n      <td>3.000000</td>\n    </tr>\n    <tr>\n      <th>1</th>\n      <td>1.414214</td>\n      <td>2.449490</td>\n      <td>NaN</td>\n    </tr>\n    <tr>\n      <th>2</th>\n      <td>1.732051</td>\n      <td>2.645751</td>\n      <td>3.316625</td>\n    </tr>\n    <tr>\n      <th>3</th>\n      <td>2.000000</td>\n      <td>2.828427</td>\n      <td>3.464102</td>\n    </tr>\n  </tbody>\n</table>\n</div>"
     },
     "execution_count": 98,
     "metadata": {},
     "output_type": "execute_result"
    }
   ],
   "source": [
    "data = pd.DataFrame({\n",
    "    'a': [-1,2,3,4],\n",
    "    'b': [5,6,7,8],\n",
    "    'c': [9,-10,11,12]\n",
    "})\n",
    "print(\"data : \\n\", data)\n",
    "data.applymap(np.sqrt)"
   ],
   "metadata": {
    "collapsed": false
   }
  },
  {
   "cell_type": "code",
   "execution_count": 152,
   "outputs": [
    {
     "data": {
      "text/plain": "2005-01-01 00:00:00    0\n2005-01-01 01:00:00    1\n2005-01-01 02:00:00    2\n2005-01-01 03:00:00    3\n2005-01-01 04:00:00    4\n2005-01-01 05:00:00    5\n2005-01-01 06:00:00    6\n2005-01-01 07:00:00    7\n2005-01-01 08:00:00    8\n2005-01-01 09:00:00    9\nFreq: H, dtype: int64"
     },
     "execution_count": 152,
     "metadata": {},
     "output_type": "execute_result"
    }
   ],
   "source": [
    "index = pd.date_range('1/1/2005', periods=10, freq='H')\n",
    "series = pd.Series([i for i in range(len(index))], index=index)\n",
    "series.asfreq('60T')"
   ],
   "metadata": {
    "collapsed": false
   }
  },
  {
   "cell_type": "code",
   "execution_count": 157,
   "outputs": [
    {
     "name": "stdout",
     "output_type": "stream",
     "text": [
      "data : \n",
      "    a  b     c\n",
      "0 -1  5   NaN\n",
      "1  2  6 -10.0\n",
      "2  3  7  11.0\n",
      "3  4  8  12.0\n",
      "a   NaN\n",
      "b   NaN\n",
      "c   NaN\n",
      "Name: 0, dtype: float64\n",
      "a     2.0\n",
      "b     6.0\n",
      "c   -10.0\n",
      "Name: 1, dtype: float64\n"
     ]
    }
   ],
   "source": [
    "data = pd.DataFrame({\n",
    "    'a': [-1,2,3,4],\n",
    "    'b': [5,6,7,8],\n",
    "    'c': [np.nan,-10,11,12]\n",
    "})\n",
    "\n",
    "print(\"data : \\n\", data)\n",
    "print(data.asof(0))\n",
    "print(data.asof(1))"
   ],
   "metadata": {
    "collapsed": false
   }
  },
  {
   "cell_type": "code",
   "execution_count": 162,
   "outputs": [
    {
     "name": "stdout",
     "output_type": "stream",
     "text": [
      "data  :\n",
      "     a  b   c\n",
      "0 -1  5   9\n",
      "1  2  6 -10\n",
      "2  3  7  11\n",
      "3  4  8  12\n"
     ]
    },
    {
     "data": {
      "text/plain": "   a  b   c\n0 -1  5   9\n1  2  6 -10\n2  3  7  11\n3  4  8  12",
      "text/html": "<div>\n<style scoped>\n    .dataframe tbody tr th:only-of-type {\n        vertical-align: middle;\n    }\n\n    .dataframe tbody tr th {\n        vertical-align: top;\n    }\n\n    .dataframe thead th {\n        text-align: right;\n    }\n</style>\n<table border=\"1\" class=\"dataframe\">\n  <thead>\n    <tr style=\"text-align: right;\">\n      <th></th>\n      <th>a</th>\n      <th>b</th>\n      <th>c</th>\n    </tr>\n  </thead>\n  <tbody>\n    <tr>\n      <th>0</th>\n      <td>-1</td>\n      <td>5</td>\n      <td>9</td>\n    </tr>\n    <tr>\n      <th>1</th>\n      <td>2</td>\n      <td>6</td>\n      <td>-10</td>\n    </tr>\n    <tr>\n      <th>2</th>\n      <td>3</td>\n      <td>7</td>\n      <td>11</td>\n    </tr>\n    <tr>\n      <th>3</th>\n      <td>4</td>\n      <td>8</td>\n      <td>12</td>\n    </tr>\n  </tbody>\n</table>\n</div>"
     },
     "execution_count": 162,
     "metadata": {},
     "output_type": "execute_result"
    }
   ],
   "source": [
    "data = pd.DataFrame({\n",
    "    'a': [-1,2,3,4],\n",
    "    'b': [5,6,7,8],\n",
    "    'c': [9,-10,11,12]\n",
    "})\n",
    "print(\"data  :\\n \", data)\n",
    "data.assign()"
   ],
   "metadata": {
    "collapsed": false
   }
  },
  {
   "cell_type": "code",
   "execution_count": 164,
   "outputs": [
    {
     "name": "stdout",
     "output_type": "stream",
     "text": [
      "data : \n",
      "     a  b   c\n",
      "0 -1  5   9\n",
      "1  2  6 -10\n",
      "2  3  7  11\n",
      "3  4  8  12\n"
     ]
    },
    {
     "data": {
      "text/plain": "     a    b     c\n0 -1.0  5.0   9.0\n1  2.0  6.0 -10.0\n2  3.0  7.0  11.0\n3  4.0  8.0  12.0",
      "text/html": "<div>\n<style scoped>\n    .dataframe tbody tr th:only-of-type {\n        vertical-align: middle;\n    }\n\n    .dataframe tbody tr th {\n        vertical-align: top;\n    }\n\n    .dataframe thead th {\n        text-align: right;\n    }\n</style>\n<table border=\"1\" class=\"dataframe\">\n  <thead>\n    <tr style=\"text-align: right;\">\n      <th></th>\n      <th>a</th>\n      <th>b</th>\n      <th>c</th>\n    </tr>\n  </thead>\n  <tbody>\n    <tr>\n      <th>0</th>\n      <td>-1.0</td>\n      <td>5.0</td>\n      <td>9.0</td>\n    </tr>\n    <tr>\n      <th>1</th>\n      <td>2.0</td>\n      <td>6.0</td>\n      <td>-10.0</td>\n    </tr>\n    <tr>\n      <th>2</th>\n      <td>3.0</td>\n      <td>7.0</td>\n      <td>11.0</td>\n    </tr>\n    <tr>\n      <th>3</th>\n      <td>4.0</td>\n      <td>8.0</td>\n      <td>12.0</td>\n    </tr>\n  </tbody>\n</table>\n</div>"
     },
     "execution_count": 164,
     "metadata": {},
     "output_type": "execute_result"
    }
   ],
   "source": [
    "data = pd.DataFrame({\n",
    "    'a': [-1,2,3,4],\n",
    "    'b': [5,6,7,8],\n",
    "    'c': [9,-10,11,12]\n",
    "})\n",
    "print(\"data : \\n \", data)\n",
    "data.astype(np.float64)"
   ],
   "metadata": {
    "collapsed": false
   }
  },
  {
   "cell_type": "code",
   "execution_count": 172,
   "outputs": [
    {
     "name": "stdout",
     "output_type": "stream",
     "text": [
      "data : \n",
      "     a  b   c\n",
      "0 -1  5   9\n",
      "1  2  6 -10\n",
      "2  3  7  11\n",
      "3  4  8  12\n",
      "res :  -1\n"
     ]
    }
   ],
   "source": [
    "data = pd.DataFrame({\n",
    "    'a': [-1,2,3,4],\n",
    "    'b': [5,6,7,8],\n",
    "    'c': [9,-10,11,12]\n",
    "})\n",
    "print(\"data : \\n \", data)\n",
    "print(\"res : \", data.at[0, 'a'])"
   ],
   "metadata": {
    "collapsed": false
   }
  },
  {
   "cell_type": "code",
   "execution_count": 191,
   "outputs": [
    {
     "name": "stdout",
     "output_type": "stream",
     "text": [
      "data : \n",
      "                       date\n",
      "2005-01-01 00:00:00     0\n",
      "2005-01-01 06:00:00     1\n",
      "2005-01-01 12:00:00     2\n",
      "2005-01-01 18:00:00     3\n",
      "2005-01-02 00:00:00     4\n",
      "2005-01-02 06:00:00     5\n",
      "2005-01-02 12:00:00     6\n",
      "2005-01-02 18:00:00     7\n",
      "2005-01-03 00:00:00     8\n",
      "2005-01-03 06:00:00     9\n"
     ]
    },
    {
     "data": {
      "text/plain": "                     date\n2005-01-01 12:00:00     2\n2005-01-02 12:00:00     6",
      "text/html": "<div>\n<style scoped>\n    .dataframe tbody tr th:only-of-type {\n        vertical-align: middle;\n    }\n\n    .dataframe tbody tr th {\n        vertical-align: top;\n    }\n\n    .dataframe thead th {\n        text-align: right;\n    }\n</style>\n<table border=\"1\" class=\"dataframe\">\n  <thead>\n    <tr style=\"text-align: right;\">\n      <th></th>\n      <th>date</th>\n    </tr>\n  </thead>\n  <tbody>\n    <tr>\n      <th>2005-01-01 12:00:00</th>\n      <td>2</td>\n    </tr>\n    <tr>\n      <th>2005-01-02 12:00:00</th>\n      <td>6</td>\n    </tr>\n  </tbody>\n</table>\n</div>"
     },
     "execution_count": 191,
     "metadata": {},
     "output_type": "execute_result"
    }
   ],
   "source": [
    "date = pd.date_range('1/1/2005', periods=10, freq='6H')\n",
    "data = pd.DataFrame({'date': [i for i in range(len(date))]}, index=date)\n",
    "print(\"data : \\n \", data)\n",
    "data.at_time('12:00')"
   ],
   "metadata": {
    "collapsed": false
   }
  },
  {
   "cell_type": "code",
   "execution_count": 196,
   "outputs": [
    {
     "name": "stdout",
     "output_type": "stream",
     "text": [
      "data : \n",
      "     a  b   c\n",
      "0 -1  5   9\n",
      "1  2  6 -10\n",
      "2  3  7  11\n",
      "3  4  8  12\n",
      "attrs :  {}\n"
     ]
    }
   ],
   "source": [
    "data = pd.DataFrame({\n",
    "    'a': [-1,2,3,4],\n",
    "    'b': [5,6,7,8],\n",
    "    'c': [9,-10,11,12]\n",
    "})\n",
    "print(\"data : \\n \", data)\n",
    "print(\"attrs : \", data.attrs)"
   ],
   "metadata": {
    "collapsed": false
   }
  },
  {
   "cell_type": "code",
   "execution_count": 200,
   "outputs": [
    {
     "name": "stdout",
     "output_type": "stream",
     "text": [
      "data : \n",
      "     a  b   c\n",
      "0 -1  5   9\n",
      "1  2  6 -10\n",
      "2  3  7  11\n",
      "3  4  8  12\n"
     ]
    },
    {
     "data": {
      "text/plain": "[RangeIndex(start=0, stop=4, step=1), Index(['a', 'b', 'c'], dtype='object')]"
     },
     "execution_count": 200,
     "metadata": {},
     "output_type": "execute_result"
    }
   ],
   "source": [
    "data = pd.DataFrame({\n",
    "    'a': [-1,2,3,4],\n",
    "    'b': [5,6,7,8],\n",
    "    'c': [9,-10,11,12]\n",
    "})\n",
    "print(\"data : \\n \", data)\n",
    "data.axes"
   ],
   "metadata": {
    "collapsed": false
   }
  },
  {
   "cell_type": "code",
   "execution_count": 207,
   "outputs": [
    {
     "name": "stdout",
     "output_type": "stream",
     "text": [
      "data : \n",
      "     a  b     c\n",
      "0 -1  5   9.0\n",
      "1  2  6 -10.0\n",
      "2  3  7  11.0\n",
      "3  4  8   NaN\n",
      "None\n"
     ]
    }
   ],
   "source": [
    "data = pd.DataFrame({\n",
    "    'a': [-1,2,3,4],\n",
    "    'b': [5,6,7,8],\n",
    "    'c': [9,-10,11,np.nan]\n",
    "})\n",
    "print(\"data : \\n \", data)\n",
    "x = data.backfill(axis=0, inplace=True)\n",
    "print(x)"
   ],
   "metadata": {
    "collapsed": false
   }
  },
  {
   "cell_type": "code",
   "execution_count": 217,
   "outputs": [
    {
     "name": "stdout",
     "output_type": "stream",
     "text": [
      "data : \n",
      "                       date\n",
      "2005-01-01 00:00:00     0\n",
      "2005-01-01 01:00:00     1\n",
      "2005-01-01 02:00:00     2\n",
      "2005-01-01 03:00:00     3\n",
      "2005-01-01 04:00:00     4\n",
      "2005-01-01 05:00:00     5\n",
      "2005-01-01 06:00:00     6\n",
      "2005-01-01 07:00:00     7\n",
      "2005-01-01 08:00:00     8\n",
      "2005-01-01 09:00:00     9\n",
      "2005-01-01 10:00:00    10\n"
     ]
    },
    {
     "data": {
      "text/plain": "                     date\n2005-01-01 03:00:00     3\n2005-01-01 04:00:00     4\n2005-01-01 05:00:00     5\n2005-01-01 06:00:00     6\n2005-01-01 07:00:00     7\n2005-01-01 08:00:00     8\n2005-01-01 09:00:00     9",
      "text/html": "<div>\n<style scoped>\n    .dataframe tbody tr th:only-of-type {\n        vertical-align: middle;\n    }\n\n    .dataframe tbody tr th {\n        vertical-align: top;\n    }\n\n    .dataframe thead th {\n        text-align: right;\n    }\n</style>\n<table border=\"1\" class=\"dataframe\">\n  <thead>\n    <tr style=\"text-align: right;\">\n      <th></th>\n      <th>date</th>\n    </tr>\n  </thead>\n  <tbody>\n    <tr>\n      <th>2005-01-01 03:00:00</th>\n      <td>3</td>\n    </tr>\n    <tr>\n      <th>2005-01-01 04:00:00</th>\n      <td>4</td>\n    </tr>\n    <tr>\n      <th>2005-01-01 05:00:00</th>\n      <td>5</td>\n    </tr>\n    <tr>\n      <th>2005-01-01 06:00:00</th>\n      <td>6</td>\n    </tr>\n    <tr>\n      <th>2005-01-01 07:00:00</th>\n      <td>7</td>\n    </tr>\n    <tr>\n      <th>2005-01-01 08:00:00</th>\n      <td>8</td>\n    </tr>\n    <tr>\n      <th>2005-01-01 09:00:00</th>\n      <td>9</td>\n    </tr>\n  </tbody>\n</table>\n</div>"
     },
     "execution_count": 217,
     "metadata": {},
     "output_type": "execute_result"
    }
   ],
   "source": [
    "date = pd.date_range('1/1/2005', periods=11, freq='1H')\n",
    "data = pd.DataFrame({'date': [i for i in range(len(date))]}, index=date)\n",
    "print(\"data : \\n \", data)\n",
    "data.between_time('03:00', '09:00')"
   ],
   "metadata": {
    "collapsed": false
   }
  },
  {
   "cell_type": "code",
   "execution_count": 225,
   "outputs": [
    {
     "name": "stdout",
     "output_type": "stream",
     "text": [
      "data : \n",
      "     a    b     c\n",
      "0 -1  NaN   9.0\n",
      "1  2  6.0 -10.0\n",
      "2  3  7.0  11.0\n",
      "3  4  8.0   NaN\n",
      "   a    b     c\n",
      "0 -1  6.0   9.0\n",
      "1  2  6.0 -10.0\n",
      "2  3  7.0  11.0\n",
      "3  4  8.0   NaN\n",
      "     a    b     c\n",
      "0 -1.0  9.0   9.0\n",
      "1  2.0  6.0 -10.0\n",
      "2  3.0  7.0  11.0\n",
      "3  4.0  8.0   NaN\n"
     ]
    }
   ],
   "source": [
    "data = pd.DataFrame({\n",
    "    'a': [-1,2,3,4],\n",
    "    'b': [np.nan,6,7,8],\n",
    "    'c': [9,-10,11,np.nan]\n",
    "})\n",
    "print(\"data : \\n \", data)\n",
    "x = data.bfill(axis='rows')\n",
    "y = data.bfill(axis='columns')\n",
    "print(x)\n",
    "print(y)"
   ],
   "metadata": {
    "collapsed": false
   }
  },
  {
   "cell_type": "code",
   "execution_count": 231,
   "outputs": [
    {
     "data": {
      "text/plain": "True"
     },
     "execution_count": 231,
     "metadata": {},
     "output_type": "execute_result"
    }
   ],
   "source": [
    "data = pd.DataFrame({\n",
    "    'a': [True]\n",
    "}).bool()\n",
    "data"
   ],
   "metadata": {
    "collapsed": false
   }
  },
  {
   "cell_type": "code",
   "execution_count": 236,
   "outputs": [
    {
     "name": "stdout",
     "output_type": "stream",
     "text": [
      "data : \n",
      "     a  b   c\n",
      "0 -1  5   9\n",
      "1  2  6 -10\n",
      "2  3  7  11\n",
      "3  4  8  12\n"
     ]
    },
    {
     "data": {
      "text/plain": "<AxesSubplot: >"
     },
     "execution_count": 236,
     "metadata": {},
     "output_type": "execute_result"
    },
    {
     "data": {
      "text/plain": "<Figure size 640x480 with 1 Axes>",
      "image/png": "[encoded data removed]"
     },
     "metadata": {},
     "output_type": "display_data"
    }
   ],
   "source": [
    "data = pd.DataFrame({\n",
    "    'a': [-1,2,3,4],\n",
    "    'b': [5,6,7,8],\n",
    "    'c': [9,-10,11,12]\n",
    "})\n",
    "print(\"data : \\n \", data)\n",
    "data.boxplot(column=['a', 'b', 'c'])"
   ],
   "metadata": {
    "collapsed": false
   }
  },
  {
   "cell_type": "code",
   "execution_count": 242,
   "outputs": [
    {
     "name": "stdout",
     "output_type": "stream",
     "text": [
      "data : \n",
      "     a  b   c\n",
      "0 -1  5   9\n",
      "1  2  6 -10\n",
      "2  3  7  11\n",
      "3  4  8  12\n"
     ]
    },
    {
     "data": {
      "text/plain": "   a  b  c\n0  2  5  5\n1  2  5  2\n2  3  5  5\n3  4  5  5",
      "text/html": "<div>\n<style scoped>\n    .dataframe tbody tr th:only-of-type {\n        vertical-align: middle;\n    }\n\n    .dataframe tbody tr th {\n        vertical-align: top;\n    }\n\n    .dataframe thead th {\n        text-align: right;\n    }\n</style>\n<table border=\"1\" class=\"dataframe\">\n  <thead>\n    <tr style=\"text-align: right;\">\n      <th></th>\n      <th>a</th>\n      <th>b</th>\n      <th>c</th>\n    </tr>\n  </thead>\n  <tbody>\n    <tr>\n      <th>0</th>\n      <td>2</td>\n      <td>5</td>\n      <td>5</td>\n    </tr>\n    <tr>\n      <th>1</th>\n      <td>2</td>\n      <td>5</td>\n      <td>2</td>\n    </tr>\n    <tr>\n      <th>2</th>\n      <td>3</td>\n      <td>5</td>\n      <td>5</td>\n    </tr>\n    <tr>\n      <th>3</th>\n      <td>4</td>\n      <td>5</td>\n      <td>5</td>\n    </tr>\n  </tbody>\n</table>\n</div>"
     },
     "execution_count": 242,
     "metadata": {},
     "output_type": "execute_result"
    }
   ],
   "source": [
    "data = pd.DataFrame({\n",
    "    'a': [-1,2,3,4],\n",
    "    'b': [5,6,7,8],\n",
    "    'c': [9,-10,11,12]\n",
    "})\n",
    "print(\"data : \\n \", data)\n",
    "data.clip(2.0, 5.0)"
   ],
   "metadata": {
    "collapsed": false
   }
  },
  {
   "cell_type": "code",
   "execution_count": 244,
   "outputs": [
    {
     "name": "stdout",
     "output_type": "stream",
     "text": [
      "data : \n",
      "     a  b   c\n",
      "0 -1  5   9\n",
      "1  2  6 -10\n",
      "2  3  7  11\n",
      "3  4  8  12\n"
     ]
    },
    {
     "data": {
      "text/plain": "Index(['a', 'b', 'c'], dtype='object')"
     },
     "execution_count": 244,
     "metadata": {},
     "output_type": "execute_result"
    }
   ],
   "source": [
    "data = pd.DataFrame({\n",
    "    'a': [-1,2,3,4],\n",
    "    'b': [5,6,7,8],\n",
    "    'c': [9,-10,11,12]\n",
    "})\n",
    "print(\"data : \\n \", data)\n",
    "data.columns"
   ],
   "metadata": {
    "collapsed": false
   }
  },
  {
   "cell_type": "code",
   "execution_count": 257,
   "outputs": [
    {
     "name": "stdout",
     "output_type": "stream",
     "text": [
      "\n",
      "data1 : \n",
      "    A  B\n",
      "0  0  4\n",
      "1  0  4\n",
      "\n",
      "data2 : \n",
      "    A  B\n",
      "0  1  3\n",
      "1  1  3\n"
     ]
    },
    {
     "data": {
      "text/plain": "   A    B\n0  1  400\n1  1  400",
      "text/html": "<div>\n<style scoped>\n    .dataframe tbody tr th:only-of-type {\n        vertical-align: middle;\n    }\n\n    .dataframe tbody tr th {\n        vertical-align: top;\n    }\n\n    .dataframe thead th {\n        text-align: right;\n    }\n</style>\n<table border=\"1\" class=\"dataframe\">\n  <thead>\n    <tr style=\"text-align: right;\">\n      <th></th>\n      <th>A</th>\n      <th>B</th>\n    </tr>\n  </thead>\n  <tbody>\n    <tr>\n      <th>0</th>\n      <td>1</td>\n      <td>400</td>\n    </tr>\n    <tr>\n      <th>1</th>\n      <td>1</td>\n      <td>400</td>\n    </tr>\n  </tbody>\n</table>\n</div>"
     },
     "execution_count": 257,
     "metadata": {},
     "output_type": "execute_result"
    }
   ],
   "source": [
    "df1 = pd.DataFrame({'A': [0, 0], 'B': [4, 4]})\n",
    "df2 = pd.DataFrame({'A': [1, 1], 'B': [3, 3]})\n",
    "print(\"\\ndata1 : \\n\", df1)\n",
    "print(\"\\ndata2 : \\n\", df2)\n",
    "\n",
    "take_bigger = lambda s1, s2: s1*100 if s1.sum() > s2.sum() else s2\n",
    "df1.combine(df2, take_bigger)"
   ],
   "metadata": {
    "collapsed": false
   }
  },
  {
   "cell_type": "code",
   "execution_count": 262,
   "outputs": [
    {
     "name": "stdout",
     "output_type": "stream",
     "text": [
      "\n",
      "data1 : \n",
      "      A  B\n",
      "0  NaN  4\n",
      "1  0.0  4\n",
      "\n",
      "data2 : \n",
      "    A    B\n",
      "0  1  NaN\n",
      "1  1  3.0\n"
     ]
    },
    {
     "data": {
      "text/plain": "     A    B\n0  1.0  4.0\n1  0.0  4.0",
      "text/html": "<div>\n<style scoped>\n    .dataframe tbody tr th:only-of-type {\n        vertical-align: middle;\n    }\n\n    .dataframe tbody tr th {\n        vertical-align: top;\n    }\n\n    .dataframe thead th {\n        text-align: right;\n    }\n</style>\n<table border=\"1\" class=\"dataframe\">\n  <thead>\n    <tr style=\"text-align: right;\">\n      <th></th>\n      <th>A</th>\n      <th>B</th>\n    </tr>\n  </thead>\n  <tbody>\n    <tr>\n      <th>0</th>\n      <td>1.0</td>\n      <td>4.0</td>\n    </tr>\n    <tr>\n      <th>1</th>\n      <td>0.0</td>\n      <td>4.0</td>\n    </tr>\n  </tbody>\n</table>\n</div>"
     },
     "execution_count": 262,
     "metadata": {},
     "output_type": "execute_result"
    }
   ],
   "source": [
    "df1 = pd.DataFrame({'A': [np.nan, 0], 'B': [4, 4]})\n",
    "df2 = pd.DataFrame({'A': [1, 1], 'B': [np.nan, 3]})\n",
    "print(\"\\ndata1 : \\n\", df1)\n",
    "print(\"\\ndata2 : \\n\", df2)\n",
    "df1.combine_first(df2)"
   ],
   "metadata": {
    "collapsed": false
   }
  },
  {
   "cell_type": "code",
   "execution_count": 266,
   "outputs": [
    {
     "name": "stdout",
     "output_type": "stream",
     "text": [
      "\n",
      "data1 : \n",
      "      A  B\n",
      "0  NaN  4\n",
      "1  0.0  4\n",
      "\n",
      "data2 : \n",
      "    A    B\n",
      "0  1  NaN\n",
      "1  1  3.0\n"
     ]
    },
    {
     "data": {
      "text/plain": "     A          B      \n  self other self other\n0  NaN     1    4   NaN\n1  0.0     1    4   3.0",
      "text/html": "<div>\n<style scoped>\n    .dataframe tbody tr th:only-of-type {\n        vertical-align: middle;\n    }\n\n    .dataframe tbody tr th {\n        vertical-align: top;\n    }\n\n    .dataframe thead tr th {\n        text-align: left;\n    }\n</style>\n<table border=\"1\" class=\"dataframe\">\n  <thead>\n    <tr>\n      <th></th>\n      <th colspan=\"2\" halign=\"left\">A</th>\n      <th colspan=\"2\" halign=\"left\">B</th>\n    </tr>\n    <tr>\n      <th></th>\n      <th>self</th>\n      <th>other</th>\n      <th>self</th>\n      <th>other</th>\n    </tr>\n  </thead>\n  <tbody>\n    <tr>\n      <th>0</th>\n      <td>NaN</td>\n      <td>1</td>\n      <td>4</td>\n      <td>NaN</td>\n    </tr>\n    <tr>\n      <th>1</th>\n      <td>0.0</td>\n      <td>1</td>\n      <td>4</td>\n      <td>3.0</td>\n    </tr>\n  </tbody>\n</table>\n</div>"
     },
     "execution_count": 266,
     "metadata": {},
     "output_type": "execute_result"
    }
   ],
   "source": [
    "df1 = pd.DataFrame({'A': [np.nan, 0], 'B': [4, 4]})\n",
    "df2 = pd.DataFrame({'A': [1, 1], 'B': [np.nan, 3]})\n",
    "print(\"\\ndata1 : \\n\", df1)\n",
    "print(\"\\ndata2 : \\n\", df2)\n",
    "df1.compare(df2)"
   ],
   "metadata": {
    "collapsed": false
   }
  },
  {
   "cell_type": "code",
   "execution_count": 272,
   "outputs": [
    {
     "name": "stdout",
     "output_type": "stream",
     "text": [
      "data : \n",
      "  a    float64\n",
      "b     object\n",
      "c     object\n",
      "dtype: object\n"
     ]
    },
    {
     "data": {
      "text/plain": "a     Int64\nb    object\nc    object\ndtype: object"
     },
     "execution_count": 272,
     "metadata": {},
     "output_type": "execute_result"
    }
   ],
   "source": [
    "data = pd.DataFrame({\n",
    "    'a': [-1,2,3,np.nan],\n",
    "    'b': [0,6,True,8],\n",
    "    'c': [9,-10,False,12]\n",
    "})\n",
    "print(\"data : \\n \", data.dtypes)\n",
    "data.convert_dtypes().dtypes"
   ],
   "metadata": {
    "collapsed": false
   }
  },
  {
   "cell_type": "code",
   "execution_count": 274,
   "outputs": [
    {
     "name": "stdout",
     "output_type": "stream",
     "text": [
      "data : \n",
      "     a  b   c\n",
      "0 -1  5   9\n",
      "1  2  6 -10\n",
      "2  3  7  11\n",
      "3  4  8  12\n"
     ]
    },
    {
     "data": {
      "text/plain": "   a  b   c\n0 -1  5   9\n1  2  6 -10\n2  3  7  11\n3  4  8  12",
      "text/html": "<div>\n<style scoped>\n    .dataframe tbody tr th:only-of-type {\n        vertical-align: middle;\n    }\n\n    .dataframe tbody tr th {\n        vertical-align: top;\n    }\n\n    .dataframe thead th {\n        text-align: right;\n    }\n</style>\n<table border=\"1\" class=\"dataframe\">\n  <thead>\n    <tr style=\"text-align: right;\">\n      <th></th>\n      <th>a</th>\n      <th>b</th>\n      <th>c</th>\n    </tr>\n  </thead>\n  <tbody>\n    <tr>\n      <th>0</th>\n      <td>-1</td>\n      <td>5</td>\n      <td>9</td>\n    </tr>\n    <tr>\n      <th>1</th>\n      <td>2</td>\n      <td>6</td>\n      <td>-10</td>\n    </tr>\n    <tr>\n      <th>2</th>\n      <td>3</td>\n      <td>7</td>\n      <td>11</td>\n    </tr>\n    <tr>\n      <th>3</th>\n      <td>4</td>\n      <td>8</td>\n      <td>12</td>\n    </tr>\n  </tbody>\n</table>\n</div>"
     },
     "execution_count": 274,
     "metadata": {},
     "output_type": "execute_result"
    }
   ],
   "source": [
    "data = pd.DataFrame({\n",
    "    'a': [-1,2,3,4],\n",
    "    'b': [5,6,7,8],\n",
    "    'c': [9,-10,11,12]\n",
    "})\n",
    "print(\"data : \\n \", data)\n",
    "data.copy()"
   ],
   "metadata": {
    "collapsed": false
   }
  },
  {
   "cell_type": "code",
   "execution_count": 7,
   "outputs": [
    {
     "name": "stdout",
     "output_type": "stream",
     "text": [
      "data : \n",
      "     ax  bx  cx  dx\n",
      "0  -1   5   9   3\n",
      "1   2   6 -10   0\n",
      "2   3   7  11  21\n",
      "3   4   8  12   2\n"
     ]
    },
    {
     "data": {
      "text/plain": "<Figure size 640x480 with 2 Axes>",
      "image/png": "[encoded data removed]"
     },
     "metadata": {},
     "output_type": "display_data"
    },
    {
     "data": {
      "text/plain": "<Figure size 640x480 with 2 Axes>",
      "image/png": "[encoded data removed]"
     },
     "metadata": {},
     "output_type": "display_data"
    },
    {
     "data": {
      "text/plain": "<Figure size 640x480 with 2 Axes>",
      "image/png": "[encoded data removed]"
     },
     "metadata": {},
     "output_type": "display_data"
    }
   ],
   "source": [
    "import seaborn as sns\n",
    "import matplotlib.pyplot as plt\n",
    "data = pd.DataFrame({\n",
    "    'ax': [-1,2,3,4],\n",
    "    'bx': [5,6,7,8],\n",
    "    'cx': [9,-10,11,12],\n",
    "    'dx': [3,0,21,2],\n",
    "})\n",
    "print(\"data : \\n \", data)\n",
    "# data.corr(\"pearson\")\n",
    "sns.heatmap(data.corr(\"pearson\"), annot=True)\n",
    "plt.show()\n",
    "\n",
    "# data.corr(\"spearman)\n",
    "sns.heatmap(data.corr(\"spearman\"), annot=True)\n",
    "plt.show()\n",
    "\n",
    "# data.corr(\"kendall)\n",
    "sns.heatmap(data.corr(\"kendall\"), annot=True)\n",
    "plt.show()"
   ],
   "metadata": {
    "collapsed": false
   }
  },
  {
   "cell_type": "code",
   "execution_count": 10,
   "outputs": [
    {
     "data": {
      "text/plain": "one      1.0\ntwo      1.0\nthree    1.0\nfour     1.0\ndtype: float64"
     },
     "execution_count": 10,
     "metadata": {},
     "output_type": "execute_result"
    }
   ],
   "source": [
    "index = [\"a\", \"b\", \"c\", \"d\", \"e\"]\n",
    "columns = [\"one\", \"two\", \"three\", \"four\"]\n",
    "df1 = pd.DataFrame(np.arange(20).reshape(5, 4), index=index, columns=columns)\n",
    "df2 = pd.DataFrame(np.arange(16).reshape(4, 4), index=index[:4], columns=columns)\n",
    "df1.corrwith(df2)"
   ],
   "metadata": {
    "collapsed": false
   }
  },
  {
   "cell_type": "code",
   "execution_count": 4,
   "outputs": [
    {
     "name": "stdout",
     "output_type": "stream",
     "text": [
      "data : \n",
      "     a  b   c\n",
      "0 -1  5   9\n",
      "1  2  6 -10\n",
      "2  3  7  11\n",
      "3  4  8  12\n"
     ]
    },
    {
     "data": {
      "text/plain": "a    4\nb    4\nc    4\ndtype: int64"
     },
     "execution_count": 4,
     "metadata": {},
     "output_type": "execute_result"
    }
   ],
   "source": [
    "data = pd.DataFrame({\n",
    "    'a': [-1,2,3,4],\n",
    "    'b': [5,6,7,8],\n",
    "    'c': [9,-10,11,12]\n",
    "})\n",
    "print(\"data : \\n \", data)\n",
    "data.count()"
   ],
   "metadata": {
    "collapsed": false
   }
  },
  {
   "cell_type": "code",
   "execution_count": 11,
   "outputs": [
    {
     "name": "stdout",
     "output_type": "stream",
     "text": [
      "data : \n",
      "     a  b   c\n",
      "0 -1  5   9\n",
      "1  2  6 -10\n",
      "2  3  7  11\n",
      "3  4  8  12\n"
     ]
    },
    {
     "data": {
      "text/plain": "          a         b           c\na  4.666667  2.666667    2.666667\nb  2.666667  1.666667    5.000000\nc  2.666667  5.000000  108.333333",
      "text/html": "<div>\n<style scoped>\n    .dataframe tbody tr th:only-of-type {\n        vertical-align: middle;\n    }\n\n    .dataframe tbody tr th {\n        vertical-align: top;\n    }\n\n    .dataframe thead th {\n        text-align: right;\n    }\n</style>\n<table border=\"1\" class=\"dataframe\">\n  <thead>\n    <tr style=\"text-align: right;\">\n      <th></th>\n      <th>a</th>\n      <th>b</th>\n      <th>c</th>\n    </tr>\n  </thead>\n  <tbody>\n    <tr>\n      <th>a</th>\n      <td>4.666667</td>\n      <td>2.666667</td>\n      <td>2.666667</td>\n    </tr>\n    <tr>\n      <th>b</th>\n      <td>2.666667</td>\n      <td>1.666667</td>\n      <td>5.000000</td>\n    </tr>\n    <tr>\n      <th>c</th>\n      <td>2.666667</td>\n      <td>5.000000</td>\n      <td>108.333333</td>\n    </tr>\n  </tbody>\n</table>\n</div>"
     },
     "execution_count": 11,
     "metadata": {},
     "output_type": "execute_result"
    }
   ],
   "source": [
    "data = pd.DataFrame({\n",
    "    'a': [-1,2,3,4],\n",
    "    'b': [5,6,7,8],\n",
    "    'c': [9,-10,11,12]\n",
    "})\n",
    "print(\"data : \\n \", data)\n",
    "data.cov()"
   ],
   "metadata": {
    "collapsed": false
   }
  },
  {
   "cell_type": "code",
   "execution_count": 13,
   "outputs": [
    {
     "name": "stdout",
     "output_type": "stream",
     "text": [
      "data : \n",
      "     a  b   c\n",
      "0 -1  5   9\n",
      "1  2  6 -10\n",
      "2  3  7  11\n",
      "3  4  8  12\n"
     ]
    },
    {
     "data": {
      "text/plain": "   a  b   c\n0 -1  5   9\n1  2  6   9\n2  3  7  11\n3  4  8  12",
      "text/html": "<div>\n<style scoped>\n    .dataframe tbody tr th:only-of-type {\n        vertical-align: middle;\n    }\n\n    .dataframe tbody tr th {\n        vertical-align: top;\n    }\n\n    .dataframe thead th {\n        text-align: right;\n    }\n</style>\n<table border=\"1\" class=\"dataframe\">\n  <thead>\n    <tr style=\"text-align: right;\">\n      <th></th>\n      <th>a</th>\n      <th>b</th>\n      <th>c</th>\n    </tr>\n  </thead>\n  <tbody>\n    <tr>\n      <th>0</th>\n      <td>-1</td>\n      <td>5</td>\n      <td>9</td>\n    </tr>\n    <tr>\n      <th>1</th>\n      <td>2</td>\n      <td>6</td>\n      <td>9</td>\n    </tr>\n    <tr>\n      <th>2</th>\n      <td>3</td>\n      <td>7</td>\n      <td>11</td>\n    </tr>\n    <tr>\n      <th>3</th>\n      <td>4</td>\n      <td>8</td>\n      <td>12</td>\n    </tr>\n  </tbody>\n</table>\n</div>"
     },
     "execution_count": 13,
     "metadata": {},
     "output_type": "execute_result"
    }
   ],
   "source": [
    "data = pd.DataFrame({\n",
    "    'a': [-1,2,3,4],\n",
    "    'b': [5,6,7,8],\n",
    "    'c': [9,-10,11,12]\n",
    "})\n",
    "print(\"data : \\n \", data)\n",
    "data.cummax()"
   ],
   "metadata": {
    "collapsed": false
   }
  },
  {
   "cell_type": "code",
   "execution_count": 15,
   "outputs": [
    {
     "name": "stdout",
     "output_type": "stream",
     "text": [
      "data : \n",
      "     a  b   c\n",
      "0 -1  5   9\n",
      "1  2  6 -10\n",
      "2  3  7  11\n",
      "3  4  8  12\n"
     ]
    },
    {
     "data": {
      "text/plain": "   a  b   c\n0 -1  5   9\n1 -1  5 -10\n2 -1  5 -10\n3 -1  5 -10",
      "text/html": "<div>\n<style scoped>\n    .dataframe tbody tr th:only-of-type {\n        vertical-align: middle;\n    }\n\n    .dataframe tbody tr th {\n        vertical-align: top;\n    }\n\n    .dataframe thead th {\n        text-align: right;\n    }\n</style>\n<table border=\"1\" class=\"dataframe\">\n  <thead>\n    <tr style=\"text-align: right;\">\n      <th></th>\n      <th>a</th>\n      <th>b</th>\n      <th>c</th>\n    </tr>\n  </thead>\n  <tbody>\n    <tr>\n      <th>0</th>\n      <td>-1</td>\n      <td>5</td>\n      <td>9</td>\n    </tr>\n    <tr>\n      <th>1</th>\n      <td>-1</td>\n      <td>5</td>\n      <td>-10</td>\n    </tr>\n    <tr>\n      <th>2</th>\n      <td>-1</td>\n      <td>5</td>\n      <td>-10</td>\n    </tr>\n    <tr>\n      <th>3</th>\n      <td>-1</td>\n      <td>5</td>\n      <td>-10</td>\n    </tr>\n  </tbody>\n</table>\n</div>"
     },
     "execution_count": 15,
     "metadata": {},
     "output_type": "execute_result"
    }
   ],
   "source": [
    "data = pd.DataFrame({\n",
    "    'a': [-1,2,3,4],\n",
    "    'b': [5,6,7,8],\n",
    "    'c': [9,-10,11,12]\n",
    "})\n",
    "print(\"data : \\n \", data)\n",
    "data.cummin()"
   ],
   "metadata": {
    "collapsed": false
   }
  },
  {
   "cell_type": "code",
   "execution_count": 17,
   "outputs": [
    {
     "name": "stdout",
     "output_type": "stream",
     "text": [
      "data : \n",
      "     a  b   c\n",
      "0 -1  5   9\n",
      "1  2  6 -10\n",
      "2  3  7  11\n",
      "3  4  8  12\n"
     ]
    },
    {
     "data": {
      "text/plain": "    a     b      c\n0  -1     5      9\n1  -2    30    -90\n2  -6   210   -990\n3 -24  1680 -11880",
      "text/html": "<div>\n<style scoped>\n    .dataframe tbody tr th:only-of-type {\n        vertical-align: middle;\n    }\n\n    .dataframe tbody tr th {\n        vertical-align: top;\n    }\n\n    .dataframe thead th {\n        text-align: right;\n    }\n</style>\n<table border=\"1\" class=\"dataframe\">\n  <thead>\n    <tr style=\"text-align: right;\">\n      <th></th>\n      <th>a</th>\n      <th>b</th>\n      <th>c</th>\n    </tr>\n  </thead>\n  <tbody>\n    <tr>\n      <th>0</th>\n      <td>-1</td>\n      <td>5</td>\n      <td>9</td>\n    </tr>\n    <tr>\n      <th>1</th>\n      <td>-2</td>\n      <td>30</td>\n      <td>-90</td>\n    </tr>\n    <tr>\n      <th>2</th>\n      <td>-6</td>\n      <td>210</td>\n      <td>-990</td>\n    </tr>\n    <tr>\n      <th>3</th>\n      <td>-24</td>\n      <td>1680</td>\n      <td>-11880</td>\n    </tr>\n  </tbody>\n</table>\n</div>"
     },
     "execution_count": 17,
     "metadata": {},
     "output_type": "execute_result"
    }
   ],
   "source": [
    "data = pd.DataFrame({\n",
    "    'a': [-1,2,3,4],\n",
    "    'b': [5,6,7,8],\n",
    "    'c': [9,-10,11,12]\n",
    "})\n",
    "print(\"data : \\n \", data)\n",
    "data.cumprod()"
   ],
   "metadata": {
    "collapsed": false
   }
  },
  {
   "cell_type": "code",
   "execution_count": 19,
   "outputs": [
    {
     "name": "stdout",
     "output_type": "stream",
     "text": [
      "data : \n",
      "     a  b   c\n",
      "0 -1  5   9\n",
      "1  2  6 -10\n",
      "2  3  7  11\n",
      "3  4  8  12\n"
     ]
    },
    {
     "data": {
      "text/plain": "   a   b   c\n0 -1   5   9\n1  1  11  -1\n2  4  18  10\n3  8  26  22",
      "text/html": "<div>\n<style scoped>\n    .dataframe tbody tr th:only-of-type {\n        vertical-align: middle;\n    }\n\n    .dataframe tbody tr th {\n        vertical-align: top;\n    }\n\n    .dataframe thead th {\n        text-align: right;\n    }\n</style>\n<table border=\"1\" class=\"dataframe\">\n  <thead>\n    <tr style=\"text-align: right;\">\n      <th></th>\n      <th>a</th>\n      <th>b</th>\n      <th>c</th>\n    </tr>\n  </thead>\n  <tbody>\n    <tr>\n      <th>0</th>\n      <td>-1</td>\n      <td>5</td>\n      <td>9</td>\n    </tr>\n    <tr>\n      <th>1</th>\n      <td>1</td>\n      <td>11</td>\n      <td>-1</td>\n    </tr>\n    <tr>\n      <th>2</th>\n      <td>4</td>\n      <td>18</td>\n      <td>10</td>\n    </tr>\n    <tr>\n      <th>3</th>\n      <td>8</td>\n      <td>26</td>\n      <td>22</td>\n    </tr>\n  </tbody>\n</table>\n</div>"
     },
     "execution_count": 19,
     "metadata": {},
     "output_type": "execute_result"
    }
   ],
   "source": [
    "data = pd.DataFrame({\n",
    "    'a': [-1,2,3,4],\n",
    "    'b': [5,6,7,8],\n",
    "    'c': [9,-10,11,12]\n",
    "})\n",
    "print(\"data : \\n \", data)\n",
    "data.cumsum()"
   ],
   "metadata": {
    "collapsed": false
   }
  },
  {
   "cell_type": "code",
   "execution_count": 28,
   "outputs": [
    {
     "name": "stdout",
     "output_type": "stream",
     "text": [
      "data : \n",
      "     a  b   c\n",
      "0 -1  5   9\n",
      "1  2  6 -10\n",
      "2  3  7  11\n",
      "3  4  8  12\n"
     ]
    },
    {
     "data": {
      "text/plain": "              a         b         c\ncount  4.000000  4.000000   4.00000\nmean   2.000000  6.500000   5.50000\nstd    2.160247  1.290994  10.40833\nmin   -1.000000  5.000000 -10.00000\n10%   -0.100000  5.300000  -4.30000\n25%    1.250000  5.750000   4.25000\n35%    2.050000  6.050000   9.10000\n50%    2.500000  6.500000  10.00000\n75%    3.250000  7.250000  11.25000\nmax    4.000000  8.000000  12.00000",
      "text/html": "<div>\n<style scoped>\n    .dataframe tbody tr th:only-of-type {\n        vertical-align: middle;\n    }\n\n    .dataframe tbody tr th {\n        vertical-align: top;\n    }\n\n    .dataframe thead th {\n        text-align: right;\n    }\n</style>\n<table border=\"1\" class=\"dataframe\">\n  <thead>\n    <tr style=\"text-align: right;\">\n      <th></th>\n      <th>a</th>\n      <th>b</th>\n      <th>c</th>\n    </tr>\n  </thead>\n  <tbody>\n    <tr>\n      <th>count</th>\n      <td>4.000000</td>\n      <td>4.000000</td>\n      <td>4.00000</td>\n    </tr>\n    <tr>\n      <th>mean</th>\n      <td>2.000000</td>\n      <td>6.500000</td>\n      <td>5.50000</td>\n    </tr>\n    <tr>\n      <th>std</th>\n      <td>2.160247</td>\n      <td>1.290994</td>\n      <td>10.40833</td>\n    </tr>\n    <tr>\n      <th>min</th>\n      <td>-1.000000</td>\n      <td>5.000000</td>\n      <td>-10.00000</td>\n    </tr>\n    <tr>\n      <th>10%</th>\n      <td>-0.100000</td>\n      <td>5.300000</td>\n      <td>-4.30000</td>\n    </tr>\n    <tr>\n      <th>25%</th>\n      <td>1.250000</td>\n      <td>5.750000</td>\n      <td>4.25000</td>\n    </tr>\n    <tr>\n      <th>35%</th>\n      <td>2.050000</td>\n      <td>6.050000</td>\n      <td>9.10000</td>\n    </tr>\n    <tr>\n      <th>50%</th>\n      <td>2.500000</td>\n      <td>6.500000</td>\n      <td>10.00000</td>\n    </tr>\n    <tr>\n      <th>75%</th>\n      <td>3.250000</td>\n      <td>7.250000</td>\n      <td>11.25000</td>\n    </tr>\n    <tr>\n      <th>max</th>\n      <td>4.000000</td>\n      <td>8.000000</td>\n      <td>12.00000</td>\n    </tr>\n  </tbody>\n</table>\n</div>"
     },
     "execution_count": 28,
     "metadata": {},
     "output_type": "execute_result"
    }
   ],
   "source": [
    "data = pd.DataFrame({\n",
    "    'a': [-1,2,3,4],\n",
    "    'b': [5,6,7,8],\n",
    "    'c': [9,-10,11,12]\n",
    "})\n",
    "print(\"data : \\n \", data)\n",
    "data.describe(percentiles=[.25, .35, .5, .75, .100], include='all')"
   ],
   "metadata": {
    "collapsed": false
   }
  },
  {
   "cell_type": "code",
   "execution_count": 31,
   "outputs": [
    {
     "name": "stdout",
     "output_type": "stream",
     "text": [
      "data : \n",
      "     a  b   c\n",
      "0 -1  5   9\n",
      "1  2  6 -10\n",
      "2  3  7  11\n",
      "3  4  8  12\n"
     ]
    },
    {
     "data": {
      "text/plain": "     a    b     c\n0  NaN  NaN   NaN\n1  3.0  1.0 -19.0\n2  1.0  1.0  21.0\n3  1.0  1.0   1.0",
      "text/html": "<div>\n<style scoped>\n    .dataframe tbody tr th:only-of-type {\n        vertical-align: middle;\n    }\n\n    .dataframe tbody tr th {\n        vertical-align: top;\n    }\n\n    .dataframe thead th {\n        text-align: right;\n    }\n</style>\n<table border=\"1\" class=\"dataframe\">\n  <thead>\n    <tr style=\"text-align: right;\">\n      <th></th>\n      <th>a</th>\n      <th>b</th>\n      <th>c</th>\n    </tr>\n  </thead>\n  <tbody>\n    <tr>\n      <th>0</th>\n      <td>NaN</td>\n      <td>NaN</td>\n      <td>NaN</td>\n    </tr>\n    <tr>\n      <th>1</th>\n      <td>3.0</td>\n      <td>1.0</td>\n      <td>-19.0</td>\n    </tr>\n    <tr>\n      <th>2</th>\n      <td>1.0</td>\n      <td>1.0</td>\n      <td>21.0</td>\n    </tr>\n    <tr>\n      <th>3</th>\n      <td>1.0</td>\n      <td>1.0</td>\n      <td>1.0</td>\n    </tr>\n  </tbody>\n</table>\n</div>"
     },
     "execution_count": 31,
     "metadata": {},
     "output_type": "execute_result"
    }
   ],
   "source": [
    "data = pd.DataFrame({\n",
    "    'a': [-1,2,3,4],\n",
    "    'b': [5,6,7,8],\n",
    "    'c': [9,-10,11,12]\n",
    "})\n",
    "print(\"data : \\n \", data)\n",
    "data.diff()"
   ],
   "metadata": {
    "collapsed": false
   }
  },
  {
   "cell_type": "code",
   "execution_count": 37,
   "outputs": [
    {
     "name": "stdout",
     "output_type": "stream",
     "text": [
      "data : \n",
      "     a  b   c\n",
      "0 -1  5   9\n",
      "1  2  6 -10\n",
      "2  3  7  11\n",
      "3  4  8  12\n"
     ]
    },
    {
     "data": {
      "text/plain": "     a    b    c\n0 -0.1  0.5  0.9\n1  0.2  0.6 -1.0\n2  0.3  0.7  1.1\n3  0.4  0.8  1.2",
      "text/html": "<div>\n<style scoped>\n    .dataframe tbody tr th:only-of-type {\n        vertical-align: middle;\n    }\n\n    .dataframe tbody tr th {\n        vertical-align: top;\n    }\n\n    .dataframe thead th {\n        text-align: right;\n    }\n</style>\n<table border=\"1\" class=\"dataframe\">\n  <thead>\n    <tr style=\"text-align: right;\">\n      <th></th>\n      <th>a</th>\n      <th>b</th>\n      <th>c</th>\n    </tr>\n  </thead>\n  <tbody>\n    <tr>\n      <th>0</th>\n      <td>-0.1</td>\n      <td>0.5</td>\n      <td>0.9</td>\n    </tr>\n    <tr>\n      <th>1</th>\n      <td>0.2</td>\n      <td>0.6</td>\n      <td>-1.0</td>\n    </tr>\n    <tr>\n      <th>2</th>\n      <td>0.3</td>\n      <td>0.7</td>\n      <td>1.1</td>\n    </tr>\n    <tr>\n      <th>3</th>\n      <td>0.4</td>\n      <td>0.8</td>\n      <td>1.2</td>\n    </tr>\n  </tbody>\n</table>\n</div>"
     },
     "execution_count": 37,
     "metadata": {},
     "output_type": "execute_result"
    }
   ],
   "source": [
    "data = pd.DataFrame({\n",
    "    'a': [-1,2,3,4],\n",
    "    'b': [5,6,7,8],\n",
    "    'c': [9,-10,11,12]\n",
    "})\n",
    "print(\"data : \\n \", data)\n",
    "data.div(10)"
   ],
   "metadata": {
    "collapsed": false
   }
  },
  {
   "cell_type": "code",
   "execution_count": 39,
   "outputs": [
    {
     "name": "stdout",
     "output_type": "stream",
     "text": [
      "data : \n",
      "     a  b   c\n",
      "0 -1  5   9\n",
      "1  2  6 -10\n",
      "2  3  7  11\n",
      "3  4  8  12\n"
     ]
    },
    {
     "data": {
      "text/plain": "     a    b    c\n0 -0.1  0.5  0.9\n1  0.2  0.6 -1.0\n2  0.3  0.7  1.1\n3  0.4  0.8  1.2",
      "text/html": "<div>\n<style scoped>\n    .dataframe tbody tr th:only-of-type {\n        vertical-align: middle;\n    }\n\n    .dataframe tbody tr th {\n        vertical-align: top;\n    }\n\n    .dataframe thead th {\n        text-align: right;\n    }\n</style>\n<table border=\"1\" class=\"dataframe\">\n  <thead>\n    <tr style=\"text-align: right;\">\n      <th></th>\n      <th>a</th>\n      <th>b</th>\n      <th>c</th>\n    </tr>\n  </thead>\n  <tbody>\n    <tr>\n      <th>0</th>\n      <td>-0.1</td>\n      <td>0.5</td>\n      <td>0.9</td>\n    </tr>\n    <tr>\n      <th>1</th>\n      <td>0.2</td>\n      <td>0.6</td>\n      <td>-1.0</td>\n    </tr>\n    <tr>\n      <th>2</th>\n      <td>0.3</td>\n      <td>0.7</td>\n      <td>1.1</td>\n    </tr>\n    <tr>\n      <th>3</th>\n      <td>0.4</td>\n      <td>0.8</td>\n      <td>1.2</td>\n    </tr>\n  </tbody>\n</table>\n</div>"
     },
     "execution_count": 39,
     "metadata": {},
     "output_type": "execute_result"
    }
   ],
   "source": [
    "data = pd.DataFrame({\n",
    "    'a': [-1,2,3,4],\n",
    "    'b': [5,6,7,8],\n",
    "    'c': [9,-10,11,12]\n",
    "})\n",
    "print(\"data : \\n \", data)\n",
    "data.divide(10)"
   ],
   "metadata": {
    "collapsed": false
   }
  },
  {
   "cell_type": "code",
   "execution_count": 61,
   "outputs": [
    {
     "name": "stdout",
     "output_type": "stream",
     "text": [
      "df : \n",
      "  0   -2\n",
      "1    3\n",
      "2   -4\n",
      "3    5\n",
      "dtype: int64\n",
      "ser : \n",
      "  0    1\n",
      "1    2\n",
      "2    3\n",
      "3    4\n",
      "dtype: int64\n"
     ]
    },
    {
     "data": {
      "text/plain": "12"
     },
     "execution_count": 61,
     "metadata": {},
     "output_type": "execute_result"
    }
   ],
   "source": [
    "s = pd.Series([1, 2, 3, 4])\n",
    "df = pd.Series([-2, 3, -4, 5])\n",
    "print(\"df : \\n \", df)\n",
    "print(\"ser : \\n \", s)\n",
    "df.dot(s)"
   ],
   "metadata": {
    "collapsed": false
   }
  },
  {
   "cell_type": "code",
   "execution_count": 66,
   "outputs": [
    {
     "name": "stdout",
     "output_type": "stream",
     "text": [
      "data : \n",
      "     a  b   c\n",
      "0 -1  5   9\n",
      "1  2  6 -10\n",
      "2  3  7  11\n",
      "3  4  8  12\n",
      "\n",
      "\n",
      "    a  b   c\n",
      "1  2  6 -10\n",
      "2  3  7  11\n",
      "\n",
      "\n",
      "    b\n",
      "0  5\n",
      "1  6\n",
      "2  7\n",
      "3  8\n"
     ]
    }
   ],
   "source": [
    "data = pd.DataFrame({\n",
    "    'a': [-1,2,3,4],\n",
    "    'b': [5,6,7,8],\n",
    "    'c': [9,-10,11,12]\n",
    "})\n",
    "print(\"data : \\n \", data)\n",
    "print(\"\\n\\n\", data.drop(index=[0,3]))\n",
    "print(\"\\n\\n\", data.drop(columns=['a', 'c']))"
   ],
   "metadata": {
    "collapsed": false
   }
  },
  {
   "cell_type": "code",
   "execution_count": 73,
   "outputs": [
    {
     "name": "stdout",
     "output_type": "stream",
     "text": [
      "data : \n",
      "     a  b   c\n",
      "0 -1  5  -1\n",
      "1  2  6 -10\n",
      "2  3  7  11\n",
      "3 -1  5  -1\n"
     ]
    },
    {
     "data": {
      "text/plain": "   a  b   c\n0 -1  5  -1\n1  2  6 -10\n2  3  7  11",
      "text/html": "<div>\n<style scoped>\n    .dataframe tbody tr th:only-of-type {\n        vertical-align: middle;\n    }\n\n    .dataframe tbody tr th {\n        vertical-align: top;\n    }\n\n    .dataframe thead th {\n        text-align: right;\n    }\n</style>\n<table border=\"1\" class=\"dataframe\">\n  <thead>\n    <tr style=\"text-align: right;\">\n      <th></th>\n      <th>a</th>\n      <th>b</th>\n      <th>c</th>\n    </tr>\n  </thead>\n  <tbody>\n    <tr>\n      <th>0</th>\n      <td>-1</td>\n      <td>5</td>\n      <td>-1</td>\n    </tr>\n    <tr>\n      <th>1</th>\n      <td>2</td>\n      <td>6</td>\n      <td>-10</td>\n    </tr>\n    <tr>\n      <th>2</th>\n      <td>3</td>\n      <td>7</td>\n      <td>11</td>\n    </tr>\n  </tbody>\n</table>\n</div>"
     },
     "execution_count": 73,
     "metadata": {},
     "output_type": "execute_result"
    }
   ],
   "source": [
    "data = pd.DataFrame({\n",
    "    'a': [-1,2,3,-1],\n",
    "    'b': [5,6,7,5],\n",
    "    'c': [-1,-10,11,-1]\n",
    "})\n",
    "print(\"data : \\n \", data)\n",
    "data.drop_duplicates()"
   ],
   "metadata": {
    "collapsed": false
   }
  },
  {
   "cell_type": "code",
   "execution_count": 83,
   "outputs": [
    {
     "name": "stdout",
     "output_type": "stream",
     "text": [
      "data : \n",
      "         2   3\n",
      "a b         \n",
      "1 2    3   4\n",
      "5 6    7   8\n",
      "9 10  11  12\n"
     ]
    },
    {
     "data": {
      "text/plain": "     2   3\nb         \n2    3   4\n6    7   8\n10  11  12",
      "text/html": "<div>\n<style scoped>\n    .dataframe tbody tr th:only-of-type {\n        vertical-align: middle;\n    }\n\n    .dataframe tbody tr th {\n        vertical-align: top;\n    }\n\n    .dataframe thead th {\n        text-align: right;\n    }\n</style>\n<table border=\"1\" class=\"dataframe\">\n  <thead>\n    <tr style=\"text-align: right;\">\n      <th></th>\n      <th>2</th>\n      <th>3</th>\n    </tr>\n    <tr>\n      <th>b</th>\n      <th></th>\n      <th></th>\n    </tr>\n  </thead>\n  <tbody>\n    <tr>\n      <th>2</th>\n      <td>3</td>\n      <td>4</td>\n    </tr>\n    <tr>\n      <th>6</th>\n      <td>7</td>\n      <td>8</td>\n    </tr>\n    <tr>\n      <th>10</th>\n      <td>11</td>\n      <td>12</td>\n    </tr>\n  </tbody>\n</table>\n</div>"
     },
     "execution_count": 83,
     "metadata": {},
     "output_type": "execute_result"
    }
   ],
   "source": [
    "data = pd.DataFrame([\n",
    "    [1, 2, 3, 4],\n",
    "    [5, 6, 7, 8],\n",
    "    [9, 10, 11, 12]\n",
    "]).set_index([0, 1]).rename_axis(['a', 'b'])\n",
    "print(\"data : \\n \", data)\n",
    "data.droplevel('a')"
   ],
   "metadata": {
    "collapsed": false
   }
  },
  {
   "cell_type": "code",
   "execution_count": 85,
   "outputs": [
    {
     "name": "stdout",
     "output_type": "stream",
     "text": [
      "data : \n",
      "       a  b     c\n",
      "0 -1.0  5   9.0\n",
      "1  2.0  6 -10.0\n",
      "2  3.0  7   NaN\n",
      "3  NaN  8  12.0\n"
     ]
    },
    {
     "data": {
      "text/plain": "     a  b     c\n0 -1.0  5   9.0\n1  2.0  6 -10.0",
      "text/html": "<div>\n<style scoped>\n    .dataframe tbody tr th:only-of-type {\n        vertical-align: middle;\n    }\n\n    .dataframe tbody tr th {\n        vertical-align: top;\n    }\n\n    .dataframe thead th {\n        text-align: right;\n    }\n</style>\n<table border=\"1\" class=\"dataframe\">\n  <thead>\n    <tr style=\"text-align: right;\">\n      <th></th>\n      <th>a</th>\n      <th>b</th>\n      <th>c</th>\n    </tr>\n  </thead>\n  <tbody>\n    <tr>\n      <th>0</th>\n      <td>-1.0</td>\n      <td>5</td>\n      <td>9.0</td>\n    </tr>\n    <tr>\n      <th>1</th>\n      <td>2.0</td>\n      <td>6</td>\n      <td>-10.0</td>\n    </tr>\n  </tbody>\n</table>\n</div>"
     },
     "execution_count": 85,
     "metadata": {},
     "output_type": "execute_result"
    }
   ],
   "source": [
    "data = pd.DataFrame({\n",
    "    'a': [-1,2,3,np.nan],\n",
    "    'b': [5,6,7,8],\n",
    "    'c': [9,-10,np.nan,12]\n",
    "})\n",
    "print(\"data : \\n \", data)\n",
    "data.dropna()"
   ],
   "metadata": {
    "collapsed": false
   }
  },
  {
   "cell_type": "code",
   "execution_count": 87,
   "outputs": [
    {
     "name": "stdout",
     "output_type": "stream",
     "text": [
      "data : \n",
      "     a  b   c\n",
      "0 -1  5   9\n",
      "1  2  6 -10\n",
      "2  3  7  11\n",
      "3  4  8  12\n"
     ]
    },
    {
     "data": {
      "text/plain": "a    int64\nb    int64\nc    int64\ndtype: object"
     },
     "execution_count": 87,
     "metadata": {},
     "output_type": "execute_result"
    }
   ],
   "source": [
    "data = pd.DataFrame({\n",
    "    'a': [-1,2,3,4],\n",
    "    'b': [5,6,7,8],\n",
    "    'c': [9,-10,11,12]\n",
    "})\n",
    "print(\"data : \\n \", data)\n",
    "data.dtypes"
   ],
   "metadata": {
    "collapsed": false
   }
  },
  {
   "cell_type": "code",
   "execution_count": 2,
   "outputs": [
    {
     "name": "stdout",
     "output_type": "stream",
     "text": [
      "data : \n",
      "       brand style  rating\n",
      "0  Yum Yum   cup     4.0\n",
      "1  Yum Yum   cup     4.0\n",
      "2  Indomie   cup     3.5\n",
      "3  Indomie  pack    15.0\n",
      "4  Indomie  pack     5.0\n"
     ]
    },
    {
     "data": {
      "text/plain": "0    False\n1     True\n2    False\n3    False\n4    False\ndtype: bool"
     },
     "execution_count": 2,
     "metadata": {},
     "output_type": "execute_result"
    }
   ],
   "source": [
    "data = pd.DataFrame({\n",
    "    'brand': ['Yum Yum', 'Yum Yum', 'Indomie', 'Indomie', 'Indomie'],\n",
    "    'style': ['cup', 'cup', 'cup', 'pack', 'pack'],\n",
    "    'rating': [4, 4, 3.5, 15, 5]\n",
    "})\n",
    "print(\"data : \\n \", data)\n",
    "data.duplicated()"
   ],
   "metadata": {
    "collapsed": false
   }
  },
  {
   "cell_type": "code",
   "execution_count": 6,
   "outputs": [
    {
     "name": "stdout",
     "output_type": "stream",
     "text": [
      "data : \n",
      "     a  b   c\n",
      "0 -1  5   9\n",
      "1  2  6 -10\n",
      "2  3  7  11\n",
      "3  4  8  12\n"
     ]
    },
    {
     "data": {
      "text/plain": "False"
     },
     "execution_count": 6,
     "metadata": {},
     "output_type": "execute_result"
    }
   ],
   "source": [
    "data = pd.DataFrame({\n",
    "    'a': [-1,2,3,4],\n",
    "    'b': [5,6,7,8],\n",
    "    'c': [9,-10,11,12]\n",
    "})\n",
    "print(\"data : \\n \", data)\n",
    "data.empty"
   ],
   "metadata": {
    "collapsed": false
   }
  },
  {
   "cell_type": "code",
   "execution_count": 13,
   "outputs": [
    {
     "name": "stdout",
     "output_type": "stream",
     "text": [
      "data : \n",
      "     a  b   c\n",
      "0 -1  5   9\n",
      "1  2  6 -10\n",
      "2  3  7  11\n",
      "3  4  8  12\n",
      "other : \n",
      "       a    b    c\n",
      "0   10    5   30\n",
      "1   60   70   80\n",
      "2  600    7  800\n",
      "3 -100 -200 -300\n"
     ]
    },
    {
     "data": {
      "text/plain": "       a      b      c\n0  False   True  False\n1  False  False  False\n2  False   True  False\n3  False  False  False",
      "text/html": "<div>\n<style scoped>\n    .dataframe tbody tr th:only-of-type {\n        vertical-align: middle;\n    }\n\n    .dataframe tbody tr th {\n        vertical-align: top;\n    }\n\n    .dataframe thead th {\n        text-align: right;\n    }\n</style>\n<table border=\"1\" class=\"dataframe\">\n  <thead>\n    <tr style=\"text-align: right;\">\n      <th></th>\n      <th>a</th>\n      <th>b</th>\n      <th>c</th>\n    </tr>\n  </thead>\n  <tbody>\n    <tr>\n      <th>0</th>\n      <td>False</td>\n      <td>True</td>\n      <td>False</td>\n    </tr>\n    <tr>\n      <th>1</th>\n      <td>False</td>\n      <td>False</td>\n      <td>False</td>\n    </tr>\n    <tr>\n      <th>2</th>\n      <td>False</td>\n      <td>True</td>\n      <td>False</td>\n    </tr>\n    <tr>\n      <th>3</th>\n      <td>False</td>\n      <td>False</td>\n      <td>False</td>\n    </tr>\n  </tbody>\n</table>\n</div>"
     },
     "execution_count": 13,
     "metadata": {},
     "output_type": "execute_result"
    }
   ],
   "source": [
    "data = pd.DataFrame({\n",
    "    'a': [-1,2,3,4],\n",
    "    'b': [5,6,7,8],\n",
    "    'c': [9,-10,11,12]\n",
    "})\n",
    "other2 = pd.DataFrame(\n",
    "    [[10, 5, 30], [60, 70, 80], [600, 7, 800], [-100, -200, -300]],\n",
    "    columns=[\"a\", \"b\", \"c\"],\n",
    "    index=[0,1,2,3],\n",
    ")\n",
    "print(\"data : \\n \", data)\n",
    "print(\"other : \\n \", other2)\n",
    "\n",
    "data.eq(other2)"
   ],
   "metadata": {
    "collapsed": false
   }
  },
  {
   "cell_type": "code",
   "execution_count": 16,
   "outputs": [
    {
     "name": "stdout",
     "output_type": "stream",
     "text": [
      "data : \n",
      "     a  b   c\n",
      "0 -1  5   9\n",
      "1  2  6 -10\n",
      "2  3  7  11\n",
      "3  4  8  12\n",
      "other : \n",
      "       a    b    c\n",
      "0   10    5   30\n",
      "1   60   70   80\n",
      "2  600    7  800\n",
      "3 -100 -200 -300\n"
     ]
    },
    {
     "data": {
      "text/plain": "False"
     },
     "execution_count": 16,
     "metadata": {},
     "output_type": "execute_result"
    }
   ],
   "source": [
    "data = pd.DataFrame({\n",
    "    'a': [-1,2,3,4],\n",
    "    'b': [5,6,7,8],\n",
    "    'c': [9,-10,11,12]\n",
    "})\n",
    "other = pd.DataFrame(\n",
    "    [[10, 5, 30], [60, 70, 80], [600, 7, 800], [-100, -200, -300]],\n",
    "    columns=[\"a\", \"b\", \"c\"],\n",
    "    index=[0,1,2,3],\n",
    ")\n",
    "print(\"data : \\n \", data)\n",
    "print(\"other : \\n \", other)\n",
    "data.equals(other)"
   ],
   "metadata": {
    "collapsed": false
   }
  },
  {
   "cell_type": "code",
   "execution_count": 22,
   "outputs": [
    {
     "name": "stdout",
     "output_type": "stream",
     "text": [
      "data : \n",
      "     a  b   c\n",
      "0 -1  5   9\n",
      "1  2  6 -10\n",
      "2  3  7  11\n",
      "3  4  8  12\n"
     ]
    },
    {
     "data": {
      "text/plain": "0    1.200000\n1   -7.333333\n2    0.714286\n3    2.000000\ndtype: float64"
     },
     "execution_count": 22,
     "metadata": {},
     "output_type": "execute_result"
    }
   ],
   "source": [
    "data = pd.DataFrame({\n",
    "    'a': [-1,2,3,4],\n",
    "    'b': [5,6,7,8],\n",
    "    'c': [9,-10,11,12]\n",
    "})\n",
    "print(\"data : \\n \", data)\n",
    "data.eval('a-b+c*a/b%c')"
   ],
   "metadata": {
    "collapsed": false
   }
  },
  {
   "cell_type": "code",
   "execution_count": 28,
   "outputs": [
    {
     "name": "stdout",
     "output_type": "stream",
     "text": [
      "data : \n",
      "     a  b   c\n",
      "0 -1  5   9\n",
      "1  2  6 -10\n",
      "2  3  7  11\n",
      "3  4  8  12\n"
     ]
    },
    {
     "data": {
      "text/plain": "          a         b         c\n0 -1.000000  5.000000  9.000000\n1  0.636364  5.545455 -1.363636\n2  1.571429  6.120879  3.527473\n3  2.353204  6.725782  6.254844",
      "text/html": "<div>\n<style scoped>\n    .dataframe tbody tr th:only-of-type {\n        vertical-align: middle;\n    }\n\n    .dataframe tbody tr th {\n        vertical-align: top;\n    }\n\n    .dataframe thead th {\n        text-align: right;\n    }\n</style>\n<table border=\"1\" class=\"dataframe\">\n  <thead>\n    <tr style=\"text-align: right;\">\n      <th></th>\n      <th>a</th>\n      <th>b</th>\n      <th>c</th>\n    </tr>\n  </thead>\n  <tbody>\n    <tr>\n      <th>0</th>\n      <td>-1.000000</td>\n      <td>5.000000</td>\n      <td>9.000000</td>\n    </tr>\n    <tr>\n      <th>1</th>\n      <td>0.636364</td>\n      <td>5.545455</td>\n      <td>-1.363636</td>\n    </tr>\n    <tr>\n      <th>2</th>\n      <td>1.571429</td>\n      <td>6.120879</td>\n      <td>3.527473</td>\n    </tr>\n    <tr>\n      <th>3</th>\n      <td>2.353204</td>\n      <td>6.725782</td>\n      <td>6.254844</td>\n    </tr>\n  </tbody>\n</table>\n</div>"
     },
     "execution_count": 28,
     "metadata": {},
     "output_type": "execute_result"
    }
   ],
   "source": [
    "data = pd.DataFrame({\n",
    "    'a': [-1,2,3,4],\n",
    "    'b': [5,6,7,8],\n",
    "    'c': [9,-10,11,12]\n",
    "})\n",
    "print(\"data : \\n \", data)\n",
    "data.ewm(com=5).mean()"
   ],
   "metadata": {
    "collapsed": false
   }
  },
  {
   "cell_type": "code",
   "execution_count": 31,
   "outputs": [
    {
     "name": "stdout",
     "output_type": "stream",
     "text": [
      "data : \n",
      "     a  b   c\n",
      "0 -1  5   9\n",
      "1  2  6 -10\n",
      "2  3  7  11\n",
      "3  4  8  12\n"
     ]
    },
    {
     "data": {
      "text/plain": "          a    b         c\n0 -1.000000  5.0  9.000000\n1  0.500000  5.5 -0.500000\n2  1.333333  6.0  3.333333\n3  2.000000  6.5  5.500000",
      "text/html": "<div>\n<style scoped>\n    .dataframe tbody tr th:only-of-type {\n        vertical-align: middle;\n    }\n\n    .dataframe tbody tr th {\n        vertical-align: top;\n    }\n\n    .dataframe thead th {\n        text-align: right;\n    }\n</style>\n<table border=\"1\" class=\"dataframe\">\n  <thead>\n    <tr style=\"text-align: right;\">\n      <th></th>\n      <th>a</th>\n      <th>b</th>\n      <th>c</th>\n    </tr>\n  </thead>\n  <tbody>\n    <tr>\n      <th>0</th>\n      <td>-1.000000</td>\n      <td>5.0</td>\n      <td>9.000000</td>\n    </tr>\n    <tr>\n      <th>1</th>\n      <td>0.500000</td>\n      <td>5.5</td>\n      <td>-0.500000</td>\n    </tr>\n    <tr>\n      <th>2</th>\n      <td>1.333333</td>\n      <td>6.0</td>\n      <td>3.333333</td>\n    </tr>\n    <tr>\n      <th>3</th>\n      <td>2.000000</td>\n      <td>6.5</td>\n      <td>5.500000</td>\n    </tr>\n  </tbody>\n</table>\n</div>"
     },
     "execution_count": 31,
     "metadata": {},
     "output_type": "execute_result"
    }
   ],
   "source": [
    "data = pd.DataFrame({\n",
    "    'a': [-1,2,3,4],\n",
    "    'b': [5,6,7,8],\n",
    "    'c': [9,-10,11,12]\n",
    "})\n",
    "print(\"data : \\n \", data)\n",
    "data.expanding().mean()"
   ],
   "metadata": {
    "collapsed": false
   }
  },
  {
   "cell_type": "code",
   "execution_count": 36,
   "outputs": [
    {
     "name": "stdout",
     "output_type": "stream",
     "text": [
      "data : \n",
      "           a        b   c\n",
      "0  [-1, 2]  [5, 30]   9\n",
      "1       10        6 -10\n",
      "2        3        7  11\n",
      "3        4  [8, 10]  12\n"
     ]
    },
    {
     "data": {
      "text/plain": "    a        b   c\n0  -1  [5, 30]   9\n0   2  [5, 30]   9\n1  10        6 -10\n2   3        7  11\n3   4  [8, 10]  12",
      "text/html": "<div>\n<style scoped>\n    .dataframe tbody tr th:only-of-type {\n        vertical-align: middle;\n    }\n\n    .dataframe tbody tr th {\n        vertical-align: top;\n    }\n\n    .dataframe thead th {\n        text-align: right;\n    }\n</style>\n<table border=\"1\" class=\"dataframe\">\n  <thead>\n    <tr style=\"text-align: right;\">\n      <th></th>\n      <th>a</th>\n      <th>b</th>\n      <th>c</th>\n    </tr>\n  </thead>\n  <tbody>\n    <tr>\n      <th>0</th>\n      <td>-1</td>\n      <td>[5, 30]</td>\n      <td>9</td>\n    </tr>\n    <tr>\n      <th>0</th>\n      <td>2</td>\n      <td>[5, 30]</td>\n      <td>9</td>\n    </tr>\n    <tr>\n      <th>1</th>\n      <td>10</td>\n      <td>6</td>\n      <td>-10</td>\n    </tr>\n    <tr>\n      <th>2</th>\n      <td>3</td>\n      <td>7</td>\n      <td>11</td>\n    </tr>\n    <tr>\n      <th>3</th>\n      <td>4</td>\n      <td>[8, 10]</td>\n      <td>12</td>\n    </tr>\n  </tbody>\n</table>\n</div>"
     },
     "execution_count": 36,
     "metadata": {},
     "output_type": "execute_result"
    }
   ],
   "source": [
    "data = pd.DataFrame({\n",
    "    'a': [[-1,2],10,3,4],\n",
    "    'b': [[5,30],6,7,[8,10]],\n",
    "    'c': [9,-10,11,12]\n",
    "})\n",
    "print(\"data : \\n \", data)\n",
    "data.explode('a')\n"
   ],
   "metadata": {
    "collapsed": false
   }
  },
  {
   "cell_type": "code",
   "execution_count": 43,
   "outputs": [
    {
     "name": "stdout",
     "output_type": "stream",
     "text": [
      "data : \n",
      "       a    b   c\n",
      "0  NaN  5.0   9\n",
      "1  2.0  6.0 -10\n",
      "2  3.0  NaN  11\n",
      "3  4.0  8.0  12\n"
     ]
    },
    {
     "data": {
      "text/plain": "     a    b   c\n0  NaN  5.0   9\n1  2.0  6.0 -10\n2  3.0  6.0  11\n3  4.0  8.0  12",
      "text/html": "<div>\n<style scoped>\n    .dataframe tbody tr th:only-of-type {\n        vertical-align: middle;\n    }\n\n    .dataframe tbody tr th {\n        vertical-align: top;\n    }\n\n    .dataframe thead th {\n        text-align: right;\n    }\n</style>\n<table border=\"1\" class=\"dataframe\">\n  <thead>\n    <tr style=\"text-align: right;\">\n      <th></th>\n      <th>a</th>\n      <th>b</th>\n      <th>c</th>\n    </tr>\n  </thead>\n  <tbody>\n    <tr>\n      <th>0</th>\n      <td>NaN</td>\n      <td>5.0</td>\n      <td>9</td>\n    </tr>\n    <tr>\n      <th>1</th>\n      <td>2.0</td>\n      <td>6.0</td>\n      <td>-10</td>\n    </tr>\n    <tr>\n      <th>2</th>\n      <td>3.0</td>\n      <td>6.0</td>\n      <td>11</td>\n    </tr>\n    <tr>\n      <th>3</th>\n      <td>4.0</td>\n      <td>8.0</td>\n      <td>12</td>\n    </tr>\n  </tbody>\n</table>\n</div>"
     },
     "execution_count": 43,
     "metadata": {},
     "output_type": "execute_result"
    }
   ],
   "source": [
    "data = pd.DataFrame({\n",
    "    'a': [np.nan,2,3,4],\n",
    "    'b': [5,6,np.nan,8],\n",
    "    'c': [9,-10,11,12]\n",
    "})\n",
    "print(\"data : \\n \", data)\n",
    "data.ffill()"
   ],
   "metadata": {
    "collapsed": false
   }
  },
  {
   "cell_type": "code",
   "execution_count": 67,
   "outputs": [
    {
     "name": "stdout",
     "output_type": "stream",
     "text": [
      "data : \n",
      "       a    b   c\n",
      "0  NaN  5.0   9\n",
      "1  2.0  6.0 -10\n",
      "2  3.0  NaN  11\n",
      "3  4.0  8.0  12\n"
     ]
    },
    {
     "data": {
      "text/plain": "       a      b   c\n0  100.0    5.0   9\n1    2.0    6.0 -10\n2    3.0  100.0  11\n3    4.0    8.0  12",
      "text/html": "<div>\n<style scoped>\n    .dataframe tbody tr th:only-of-type {\n        vertical-align: middle;\n    }\n\n    .dataframe tbody tr th {\n        vertical-align: top;\n    }\n\n    .dataframe thead th {\n        text-align: right;\n    }\n</style>\n<table border=\"1\" class=\"dataframe\">\n  <thead>\n    <tr style=\"text-align: right;\">\n      <th></th>\n      <th>a</th>\n      <th>b</th>\n      <th>c</th>\n    </tr>\n  </thead>\n  <tbody>\n    <tr>\n      <th>0</th>\n      <td>100.0</td>\n      <td>5.0</td>\n      <td>9</td>\n    </tr>\n    <tr>\n      <th>1</th>\n      <td>2.0</td>\n      <td>6.0</td>\n      <td>-10</td>\n    </tr>\n    <tr>\n      <th>2</th>\n      <td>3.0</td>\n      <td>100.0</td>\n      <td>11</td>\n    </tr>\n    <tr>\n      <th>3</th>\n      <td>4.0</td>\n      <td>8.0</td>\n      <td>12</td>\n    </tr>\n  </tbody>\n</table>\n</div>"
     },
     "execution_count": 67,
     "metadata": {},
     "output_type": "execute_result"
    }
   ],
   "source": [
    "data = pd.DataFrame({\n",
    "    'a': [np.nan,2,3,4],\n",
    "    'b': [5,6,np.nan,8],\n",
    "    'c': [9,-10,11,12]\n",
    "})\n",
    "print(\"data : \\n \", data)\n",
    "data.fillna(100)\n"
   ],
   "metadata": {
    "collapsed": false
   }
  },
  {
   "cell_type": "code",
   "execution_count": 71,
   "outputs": [
    {
     "name": "stdout",
     "output_type": "stream",
     "text": [
      "data : \n",
      "     a  b   c\n",
      "0 -1  5   9\n",
      "1  2  6 -10\n",
      "2  3  7  11\n",
      "3  4  8  12\n"
     ]
    },
    {
     "data": {
      "text/plain": "   a   c\n0 -1   9\n1  2 -10\n2  3  11\n3  4  12",
      "text/html": "<div>\n<style scoped>\n    .dataframe tbody tr th:only-of-type {\n        vertical-align: middle;\n    }\n\n    .dataframe tbody tr th {\n        vertical-align: top;\n    }\n\n    .dataframe thead th {\n        text-align: right;\n    }\n</style>\n<table border=\"1\" class=\"dataframe\">\n  <thead>\n    <tr style=\"text-align: right;\">\n      <th></th>\n      <th>a</th>\n      <th>c</th>\n    </tr>\n  </thead>\n  <tbody>\n    <tr>\n      <th>0</th>\n      <td>-1</td>\n      <td>9</td>\n    </tr>\n    <tr>\n      <th>1</th>\n      <td>2</td>\n      <td>-10</td>\n    </tr>\n    <tr>\n      <th>2</th>\n      <td>3</td>\n      <td>11</td>\n    </tr>\n    <tr>\n      <th>3</th>\n      <td>4</td>\n      <td>12</td>\n    </tr>\n  </tbody>\n</table>\n</div>"
     },
     "execution_count": 71,
     "metadata": {},
     "output_type": "execute_result"
    }
   ],
   "source": [
    "data = pd.DataFrame({\n",
    "    'a': [-1,2,3,4],\n",
    "    'b': [5,6,7,8],\n",
    "    'c': [9,-10,11,12]\n",
    "})\n",
    "print(\"data : \\n \", data)\n",
    "data.filter(items=['a', 'c'])"
   ],
   "metadata": {
    "collapsed": false
   }
  },
  {
   "cell_type": "code",
   "execution_count": 80,
   "outputs": [
    {
     "name": "stdout",
     "output_type": "stream",
     "text": [
      "data : \n",
      "              date\n",
      "2005-01-01     0\n",
      "2005-01-03     1\n",
      "2005-01-05     2\n",
      "2005-01-07     3\n",
      "2005-01-09     4\n",
      "2005-01-11     5\n",
      "2005-01-13     6\n",
      "2005-01-15     7\n",
      "2005-01-17     8\n",
      "2005-01-19     9\n"
     ]
    },
    {
     "data": {
      "text/plain": "            date\n2005-01-01     0\n2005-01-03     1\n2005-01-05     2\n2005-01-07     3",
      "text/html": "<div>\n<style scoped>\n    .dataframe tbody tr th:only-of-type {\n        vertical-align: middle;\n    }\n\n    .dataframe tbody tr th {\n        vertical-align: top;\n    }\n\n    .dataframe thead th {\n        text-align: right;\n    }\n</style>\n<table border=\"1\" class=\"dataframe\">\n  <thead>\n    <tr style=\"text-align: right;\">\n      <th></th>\n      <th>date</th>\n    </tr>\n  </thead>\n  <tbody>\n    <tr>\n      <th>2005-01-01</th>\n      <td>0</td>\n    </tr>\n    <tr>\n      <th>2005-01-03</th>\n      <td>1</td>\n    </tr>\n    <tr>\n      <th>2005-01-05</th>\n      <td>2</td>\n    </tr>\n    <tr>\n      <th>2005-01-07</th>\n      <td>3</td>\n    </tr>\n  </tbody>\n</table>\n</div>"
     },
     "execution_count": 80,
     "metadata": {},
     "output_type": "execute_result"
    }
   ],
   "source": [
    "date = pd.date_range('1/1/2005', periods=10, freq='2D')\n",
    "data = pd.DataFrame({'date': [i for i in range(len(date))]}, index=date)\n",
    "print(\"data : \\n \", data)\n",
    "data.first('7D')"
   ],
   "metadata": {
    "collapsed": false
   }
  },
  {
   "cell_type": "code",
   "execution_count": 85,
   "outputs": [
    {
     "name": "stdout",
     "output_type": "stream",
     "text": [
      "data : \n",
      "         a  b   c\n",
      "one   -1  5   9\n",
      "two    2  6 -10\n",
      "three  3  7  11\n",
      "four   4  8  12\n"
     ]
    },
    {
     "data": {
      "text/plain": "'one'"
     },
     "execution_count": 85,
     "metadata": {},
     "output_type": "execute_result"
    }
   ],
   "source": [
    "data = pd.DataFrame({\n",
    "    'a': [-1,2,3,4],\n",
    "    'b': [5,6,7,8],\n",
    "    'c': [9,-10,11,12]\n",
    "}, index=['one', 'two', 'three', 'four'])\n",
    "print(\"data : \\n \", data)\n",
    "data.first_valid_index()"
   ],
   "metadata": {
    "collapsed": false
   }
  },
  {
   "cell_type": "code",
   "execution_count": 89,
   "outputs": [
    {
     "name": "stdout",
     "output_type": "stream",
     "text": [
      "data : \n",
      "     a  b   c\n",
      "0 -1  5   9\n",
      "1  2  6 -10\n",
      "2  3  7  11\n",
      "3  4  8  12\n"
     ]
    },
    {
     "data": {
      "text/plain": "<Flags(allows_duplicate_labels=True)>"
     },
     "execution_count": 89,
     "metadata": {},
     "output_type": "execute_result"
    }
   ],
   "source": [
    "data = pd.DataFrame({\n",
    "    'a': [-1,2,3,4],\n",
    "    'b': [5,6,7,8],\n",
    "    'c': [9,-10,11,12]\n",
    "})\n",
    "print(\"data : \\n \", data)\n",
    "data.flags"
   ],
   "metadata": {
    "collapsed": false
   }
  },
  {
   "cell_type": "code",
   "execution_count": 98,
   "outputs": [
    {
     "name": "stdout",
     "output_type": "stream",
     "text": [
      "data : \n",
      "     a  b   c\n",
      "0 -1  5   9\n",
      "1  2  6 -10\n",
      "2  3  7  11\n",
      "3  4  8  12\n",
      "\n",
      "\n",
      "    a  b   c\n",
      "0 -1  5   9\n",
      "1  2  6 -10\n",
      "2  3  7  11\n",
      "3  4  8  12\n",
      "\n",
      "\n",
      "    a  b  c\n",
      "0 -1  2  4\n",
      "1  1  3 -5\n",
      "2  1  3  5\n",
      "3  2  4  6\n"
     ]
    }
   ],
   "source": [
    "data = pd.DataFrame({\n",
    "    'a': [-1,2,3,4],\n",
    "    'b': [5,6,7,8],\n",
    "    'c': [9,-10,11,12]\n",
    "})\n",
    "print(\"data : \\n \", data)\n",
    "print(\"\\n\\n\", data.floordiv(1))\n",
    "print(\"\\n\\n\", data.floordiv(2))"
   ],
   "metadata": {
    "collapsed": false
   }
  },
  {
   "cell_type": "code",
   "execution_count": 101,
   "outputs": [
    {
     "data": {
      "text/plain": "   a  b\n0  1  4\n1  2  5\n2  3  6",
      "text/html": "<div>\n<style scoped>\n    .dataframe tbody tr th:only-of-type {\n        vertical-align: middle;\n    }\n\n    .dataframe tbody tr th {\n        vertical-align: top;\n    }\n\n    .dataframe thead th {\n        text-align: right;\n    }\n</style>\n<table border=\"1\" class=\"dataframe\">\n  <thead>\n    <tr style=\"text-align: right;\">\n      <th></th>\n      <th>a</th>\n      <th>b</th>\n    </tr>\n  </thead>\n  <tbody>\n    <tr>\n      <th>0</th>\n      <td>1</td>\n      <td>4</td>\n    </tr>\n    <tr>\n      <th>1</th>\n      <td>2</td>\n      <td>5</td>\n    </tr>\n    <tr>\n      <th>2</th>\n      <td>3</td>\n      <td>6</td>\n    </tr>\n  </tbody>\n</table>\n</div>"
     },
     "execution_count": 101,
     "metadata": {},
     "output_type": "execute_result"
    }
   ],
   "source": [
    "pd.DataFrame.from_dict({'a': [1,2,3],\n",
    "                        'b': [4,5,6]})"
   ],
   "metadata": {
    "collapsed": false
   }
  },
  {
   "cell_type": "code",
   "execution_count": 103,
   "outputs": [
    {
     "data": {
      "text/plain": "   col_1 col_2\n0      3     a\n1      2     b\n2      1     c\n3      0     d",
      "text/html": "<div>\n<style scoped>\n    .dataframe tbody tr th:only-of-type {\n        vertical-align: middle;\n    }\n\n    .dataframe tbody tr th {\n        vertical-align: top;\n    }\n\n    .dataframe thead th {\n        text-align: right;\n    }\n</style>\n<table border=\"1\" class=\"dataframe\">\n  <thead>\n    <tr style=\"text-align: right;\">\n      <th></th>\n      <th>col_1</th>\n      <th>col_2</th>\n    </tr>\n  </thead>\n  <tbody>\n    <tr>\n      <th>0</th>\n      <td>3</td>\n      <td>a</td>\n    </tr>\n    <tr>\n      <th>1</th>\n      <td>2</td>\n      <td>b</td>\n    </tr>\n    <tr>\n      <th>2</th>\n      <td>1</td>\n      <td>c</td>\n    </tr>\n    <tr>\n      <th>3</th>\n      <td>0</td>\n      <td>d</td>\n    </tr>\n  </tbody>\n</table>\n</div>"
     },
     "execution_count": 103,
     "metadata": {},
     "output_type": "execute_result"
    }
   ],
   "source": [
    "data = [{'col_1': 3, 'col_2': 'a'},\n",
    "        {'col_1': 2, 'col_2': 'b'},\n",
    "        {'col_1': 1, 'col_2': 'c'},\n",
    "        {'col_1': 0, 'col_2': 'd'}]\n",
    "pd.DataFrame.from_records(data)"
   ],
   "metadata": {
    "collapsed": false
   }
  },
  {
   "cell_type": "code",
   "execution_count": 111,
   "outputs": [
    {
     "name": "stdout",
     "output_type": "stream",
     "text": [
      "data : \n",
      "     a  b   c\n",
      "0 -1  5   9\n",
      "1  2  6 -10\n",
      "2  3  7  11\n",
      "3  4  8  12\n",
      "\n",
      "\n",
      "        a     b      c\n",
      "0  False  True   True\n",
      "1  False  True  False\n",
      "2  False  True   True\n",
      "3  False  True   True\n",
      "\n",
      "\n",
      "        a     b      c\n",
      "0  False  True   True\n",
      "1  False  True  False\n",
      "2  False  True   True\n",
      "3  False  True   True\n"
     ]
    }
   ],
   "source": [
    "data = pd.DataFrame({\n",
    "    'a': [-1,2,3,4],\n",
    "    'b': [5,6,7,8],\n",
    "    'c': [9,-10,11,12]\n",
    "})\n",
    "print(\"data : \\n \", data)\n",
    "print(\"\\n\\n\", data.ge(5))\n",
    "print(\"\\n\\n\", data >= 5)"
   ],
   "metadata": {
    "collapsed": false
   }
  },
  {
   "cell_type": "code",
   "execution_count": 115,
   "outputs": [
    {
     "name": "stdout",
     "output_type": "stream",
     "text": [
      "data : \n",
      "     a  b   c\n",
      "0 -1  5   9\n",
      "1  2  6 -10\n",
      "2  3  7  11\n",
      "3  4  8  12\n"
     ]
    },
    {
     "data": {
      "text/plain": "   a  b\n0 -1  5\n1  2  6\n2  3  7\n3  4  8",
      "text/html": "<div>\n<style scoped>\n    .dataframe tbody tr th:only-of-type {\n        vertical-align: middle;\n    }\n\n    .dataframe tbody tr th {\n        vertical-align: top;\n    }\n\n    .dataframe thead th {\n        text-align: right;\n    }\n</style>\n<table border=\"1\" class=\"dataframe\">\n  <thead>\n    <tr style=\"text-align: right;\">\n      <th></th>\n      <th>a</th>\n      <th>b</th>\n    </tr>\n  </thead>\n  <tbody>\n    <tr>\n      <th>0</th>\n      <td>-1</td>\n      <td>5</td>\n    </tr>\n    <tr>\n      <th>1</th>\n      <td>2</td>\n      <td>6</td>\n    </tr>\n    <tr>\n      <th>2</th>\n      <td>3</td>\n      <td>7</td>\n    </tr>\n    <tr>\n      <th>3</th>\n      <td>4</td>\n      <td>8</td>\n    </tr>\n  </tbody>\n</table>\n</div>"
     },
     "execution_count": 115,
     "metadata": {},
     "output_type": "execute_result"
    }
   ],
   "source": [
    "data = pd.DataFrame({\n",
    "    'a': [-1,2,3,4],\n",
    "    'b': [5,6,7,8],\n",
    "    'c': [9,-10,11,12]\n",
    "})\n",
    "print(\"data : \\n \", data)\n",
    "data.get(['a', 'b'])"
   ],
   "metadata": {
    "collapsed": false
   }
  },
  {
   "cell_type": "code",
   "execution_count": 124,
   "outputs": [
    {
     "name": "stdout",
     "output_type": "stream",
     "text": [
      "data : \n",
      "     a  b   c\n",
      "0 -1  5   9\n",
      "1  2  6 -10\n",
      "2  3  7  11\n",
      "3  4  8  12\n"
     ]
    },
    {
     "data": {
      "text/plain": "      b     c\na            \n-1  5.0   9.0\n 2  6.0 -10.0\n 3  7.0  11.0\n 4  8.0  12.0",
      "text/html": "<div>\n<style scoped>\n    .dataframe tbody tr th:only-of-type {\n        vertical-align: middle;\n    }\n\n    .dataframe tbody tr th {\n        vertical-align: top;\n    }\n\n    .dataframe thead th {\n        text-align: right;\n    }\n</style>\n<table border=\"1\" class=\"dataframe\">\n  <thead>\n    <tr style=\"text-align: right;\">\n      <th></th>\n      <th>b</th>\n      <th>c</th>\n    </tr>\n    <tr>\n      <th>a</th>\n      <th></th>\n      <th></th>\n    </tr>\n  </thead>\n  <tbody>\n    <tr>\n      <th>-1</th>\n      <td>5.0</td>\n      <td>9.0</td>\n    </tr>\n    <tr>\n      <th>2</th>\n      <td>6.0</td>\n      <td>-10.0</td>\n    </tr>\n    <tr>\n      <th>3</th>\n      <td>7.0</td>\n      <td>11.0</td>\n    </tr>\n    <tr>\n      <th>4</th>\n      <td>8.0</td>\n      <td>12.0</td>\n    </tr>\n  </tbody>\n</table>\n</div>"
     },
     "execution_count": 124,
     "metadata": {},
     "output_type": "execute_result"
    }
   ],
   "source": [
    "data = pd.DataFrame({\n",
    "    'a': [-1,2,3,4],\n",
    "    'b': [5,6,7,8],\n",
    "    'c': [9,-10,11,12]\n",
    "})\n",
    "print(\"data : \\n \", data)\n",
    "data.groupby(['a']).mean()"
   ],
   "metadata": {
    "collapsed": false
   }
  },
  {
   "cell_type": "code",
   "execution_count": 129,
   "outputs": [
    {
     "name": "stdout",
     "output_type": "stream",
     "text": [
      "data : \n",
      "     a  b   c\n",
      "0 -1  5   9\n",
      "1  2  6 -10\n",
      "2  3  7  11\n",
      "3  4  8  12\n",
      "\n",
      "\n",
      "        a      b      c\n",
      "0  False  False   True\n",
      "1  False   True  False\n",
      "2  False   True   True\n",
      "3  False   True   True\n",
      "\n",
      "\n",
      "        a      b      c\n",
      "0  False  False   True\n",
      "1  False   True  False\n",
      "2  False   True   True\n",
      "3  False   True   True\n"
     ]
    }
   ],
   "source": [
    "data = pd.DataFrame({\n",
    "    'a': [-1,2,3,4],\n",
    "    'b': [5,6,7,8],\n",
    "    'c': [9,-10,11,12]\n",
    "})\n",
    "print(\"data : \\n \", data)\n",
    "print(\"\\n\\n\", data.gt(5))\n",
    "print(\"\\n\\n\", data > 5)"
   ],
   "metadata": {
    "collapsed": false
   }
  },
  {
   "cell_type": "code",
   "execution_count": 131,
   "outputs": [
    {
     "name": "stdout",
     "output_type": "stream",
     "text": [
      "data : \n",
      "     a  b   c\n",
      "0 -1  5   9\n",
      "1  2  6 -10\n",
      "2  3  7  11\n",
      "3  4  8  12\n"
     ]
    },
    {
     "data": {
      "text/plain": "   a  b   c\n0 -1  5   9\n1  2  6 -10",
      "text/html": "<div>\n<style scoped>\n    .dataframe tbody tr th:only-of-type {\n        vertical-align: middle;\n    }\n\n    .dataframe tbody tr th {\n        vertical-align: top;\n    }\n\n    .dataframe thead th {\n        text-align: right;\n    }\n</style>\n<table border=\"1\" class=\"dataframe\">\n  <thead>\n    <tr style=\"text-align: right;\">\n      <th></th>\n      <th>a</th>\n      <th>b</th>\n      <th>c</th>\n    </tr>\n  </thead>\n  <tbody>\n    <tr>\n      <th>0</th>\n      <td>-1</td>\n      <td>5</td>\n      <td>9</td>\n    </tr>\n    <tr>\n      <th>1</th>\n      <td>2</td>\n      <td>6</td>\n      <td>-10</td>\n    </tr>\n  </tbody>\n</table>\n</div>"
     },
     "execution_count": 131,
     "metadata": {},
     "output_type": "execute_result"
    }
   ],
   "source": [
    "data = pd.DataFrame({\n",
    "    'a': [-1,2,3,4],\n",
    "    'b': [5,6,7,8],\n",
    "    'c': [9,-10,11,12]\n",
    "})\n",
    "print(\"data : \\n \", data)\n",
    "data.head(2)"
   ],
   "metadata": {
    "collapsed": false
   }
  },
  {
   "cell_type": "code",
   "execution_count": 144,
   "outputs": [
    {
     "name": "stdout",
     "output_type": "stream",
     "text": [
      "data : \n",
      "     a  b   c\n",
      "0 -1  5   9\n",
      "1  2  6 -10\n",
      "2  3  7  11\n",
      "3  4  8  12\n"
     ]
    },
    {
     "data": {
      "text/plain": "<Figure size 1000x600 with 4 Axes>",
      "image/png": "[encoded data removed]"
     },
     "metadata": {},
     "output_type": "display_data"
    }
   ],
   "source": [
    "data = pd.DataFrame({\n",
    "    'a': [-1,2,3,4],\n",
    "    'b': [5,6,7,8],\n",
    "    'c': [9,-10,11,12]\n",
    "})\n",
    "print(\"data : \\n \", data)\n",
    "ax = data.hist(bins=5, figsize=(10,6))\n"
   ],
   "metadata": {
    "collapsed": false
   }
  },
  {
   "cell_type": "code",
   "execution_count": 153,
   "outputs": [
    {
     "name": "stdout",
     "output_type": "stream",
     "text": [
      "data : \n",
      "     a  b   c\n",
      "0 -1  5   9\n",
      "1  2  6 -10\n",
      "2  3  7  11\n",
      "3  4  8  12\n"
     ]
    },
    {
     "data": {
      "text/plain": "5"
     },
     "execution_count": 153,
     "metadata": {},
     "output_type": "execute_result"
    }
   ],
   "source": [
    "data = pd.DataFrame({\n",
    "    'a': [-1,2,3,4],\n",
    "    'b': [5,6,7,8],\n",
    "    'c': [9,-10,11,12]\n",
    "})\n",
    "print(\"data : \\n \", data)\n",
    "data.iat[0, 1]"
   ],
   "metadata": {
    "collapsed": false
   }
  },
  {
   "cell_type": "code",
   "execution_count": 160,
   "outputs": [
    {
     "name": "stdout",
     "output_type": "stream",
     "text": [
      "       a  b   c\n",
      "zero  -1  5  19\n",
      "one    2  6 -10\n",
      "two    3  7  11\n",
      "three  4  2   1\n"
     ]
    },
    {
     "data": {
      "text/plain": "a    three\nb      two\nc     zero\ndtype: object"
     },
     "execution_count": 160,
     "metadata": {},
     "output_type": "execute_result"
    }
   ],
   "source": [
    "data = pd.DataFrame({\n",
    "    'a': [-1,2,3,4],\n",
    "    'b': [5,6,7,2],\n",
    "    'c': [19,-10,11,1]\n",
    "}, index=['zero', 'one', 'two', 'three'])\n",
    "print(data)\n",
    "data.idxmax()"
   ],
   "metadata": {
    "collapsed": false
   }
  },
  {
   "cell_type": "code",
   "execution_count": 162,
   "outputs": [
    {
     "name": "stdout",
     "output_type": "stream",
     "text": [
      "       a  b   c\n",
      "zero  -1  5  19\n",
      "one    2  6 -10\n",
      "two    3  7  11\n",
      "three  4  2   1\n"
     ]
    },
    {
     "data": {
      "text/plain": "a     zero\nb    three\nc      one\ndtype: object"
     },
     "execution_count": 162,
     "metadata": {},
     "output_type": "execute_result"
    }
   ],
   "source": [
    "data = pd.DataFrame({\n",
    "    'a': [-1,2,3,4],\n",
    "    'b': [5,6,7,2],\n",
    "    'c': [19,-10,11,1]\n",
    "}, index=['zero', 'one', 'two', 'three'])\n",
    "print(data)\n",
    "data.idxmin()"
   ],
   "metadata": {
    "collapsed": false
   }
  },
  {
   "cell_type": "code",
   "execution_count": 166,
   "outputs": [
    {
     "name": "stdout",
     "output_type": "stream",
     "text": [
      "data : \n",
      "     a  b   c\n",
      "0 -1  5   9\n",
      "1  2  6 -10\n",
      "2  3  7  11\n",
      "3  4  8  12\n"
     ]
    },
    {
     "data": {
      "text/plain": "a   -1\nb    5\nc    9\nName: 0, dtype: int64"
     },
     "execution_count": 166,
     "metadata": {},
     "output_type": "execute_result"
    }
   ],
   "source": [
    "data = pd.DataFrame({\n",
    "    'a': [-1,2,3,4],\n",
    "    'b': [5,6,7,8],\n",
    "    'c': [9,-10,11,12]\n",
    "})\n",
    "print(\"data : \\n \", data)\n",
    "data.iloc[0]"
   ],
   "metadata": {
    "collapsed": false
   }
  },
  {
   "cell_type": "code",
   "execution_count": 173,
   "outputs": [
    {
     "name": "stdout",
     "output_type": "stream",
     "text": [
      "data : \n",
      "     a  b   c\n",
      "0 -1  5   9\n",
      "1  2  6 -10\n",
      "2  3  7  11\n",
      "3  4  8  12\n"
     ]
    },
    {
     "data": {
      "text/plain": "RangeIndex(start=0, stop=4, step=1)"
     },
     "execution_count": 173,
     "metadata": {},
     "output_type": "execute_result"
    }
   ],
   "source": [
    "data = pd.DataFrame({\n",
    "    'a': [-1,2,3,4],\n",
    "    'b': [5,6,7,8],\n",
    "    'c': [9,-10,11,12]\n",
    "})\n",
    "print(\"data : \\n \", data)\n",
    "data.index"
   ],
   "metadata": {
    "collapsed": false
   }
  },
  {
   "cell_type": "code",
   "execution_count": 182,
   "outputs": [
    {
     "name": "stdout",
     "output_type": "stream",
     "text": [
      "data : \n",
      "     a         b     c   d\n",
      "0 -1  1.0+3.0j   9.0  -1\n",
      "1  2  6.0+0.0j -10.0   2\n",
      "2  3  7.0+0.0j   NaN   3\n",
      "3  4  8.0+0.0j  12.0   4\n"
     ]
    },
    {
     "data": {
      "text/plain": "a         int64\nb    complex128\nc       float64\nd        object\ndtype: object"
     },
     "execution_count": 182,
     "metadata": {},
     "output_type": "execute_result"
    }
   ],
   "source": [
    "data = pd.DataFrame({\n",
    "    'a': [-1,2,3,4],\n",
    "    'b': [1+3j,6,7,8],\n",
    "    'c': [9.0,-10,np.nan,12],\n",
    "    'd': ['-1',2,3,4],\n",
    "\n",
    "})\n",
    "print(\"data : \\n \", data)\n",
    "data.infer_objects().dtypes"
   ],
   "metadata": {
    "collapsed": false
   }
  },
  {
   "cell_type": "code",
   "execution_count": 185,
   "outputs": [
    {
     "name": "stdout",
     "output_type": "stream",
     "text": [
      "data : \n",
      "     a  b   c\n",
      "0 -1  5   9\n",
      "1  2  6 -10\n",
      "2  3  7  11\n",
      "3  4  8  12\n",
      "<class 'pandas.core.frame.DataFrame'>\n",
      "RangeIndex: 4 entries, 0 to 3\n",
      "Data columns (total 3 columns):\n",
      " #   Column  Non-Null Count  Dtype\n",
      "---  ------  --------------  -----\n",
      " 0   a       4 non-null      int64\n",
      " 1   b       4 non-null      int64\n",
      " 2   c       4 non-null      int64\n",
      "dtypes: int64(3)\n",
      "memory usage: 224.0 bytes\n"
     ]
    }
   ],
   "source": [
    "data = pd.DataFrame({\n",
    "    'a': [-1,2,3,4],\n",
    "    'b': [5,6,7,8],\n",
    "    'c': [9,-10,11,12]\n",
    "})\n",
    "print(\"data : \\n \", data)\n",
    "data.info()"
   ],
   "metadata": {
    "collapsed": false
   }
  },
  {
   "cell_type": "code",
   "execution_count": 206,
   "outputs": [
    {
     "name": "stdout",
     "output_type": "stream",
     "text": [
      "data : \n",
      "     a  b   c\n",
      "0 -1  5   9\n",
      "1  2  6 -10\n",
      "2  3  7  11\n",
      "3  4  8  12\n",
      "after : \n",
      "    a  d  b   c\n",
      "0 -1  0  5   9\n",
      "1  2  0  6 -10\n",
      "2  3  0  7  11\n",
      "3  4  0  8  12\n"
     ]
    }
   ],
   "source": [
    "data = pd.DataFrame({\n",
    "    'a': [-1,2,3,4],\n",
    "    'b': [5,6,7,8],\n",
    "    'c': [9,-10,11,12]\n",
    "})\n",
    "print(\"data : \\n \", data)\n",
    "data.insert(1, 'd', [0,0,0,0], allow_duplicates=True)\n",
    "print(\"after : \\n\", data)"
   ],
   "metadata": {
    "collapsed": false
   }
  },
  {
   "cell_type": "code",
   "execution_count": 214,
   "outputs": [
    {
     "name": "stdout",
     "output_type": "stream",
     "text": [
      "data : \n",
      "       a    b   c\n",
      "0 -1.0  5.0   9\n",
      "1  2.0  NaN -10\n",
      "2  NaN  7.0  11\n",
      "3  4.0  8.0  12\n"
     ]
    },
    {
     "data": {
      "text/plain": "     a    b   c\n0 -1.0  5.0   9\n1  2.0  6.0 -10\n2  3.0  7.0  11\n3  4.0  8.0  12",
      "text/html": "<div>\n<style scoped>\n    .dataframe tbody tr th:only-of-type {\n        vertical-align: middle;\n    }\n\n    .dataframe tbody tr th {\n        vertical-align: top;\n    }\n\n    .dataframe thead th {\n        text-align: right;\n    }\n</style>\n<table border=\"1\" class=\"dataframe\">\n  <thead>\n    <tr style=\"text-align: right;\">\n      <th></th>\n      <th>a</th>\n      <th>b</th>\n      <th>c</th>\n    </tr>\n  </thead>\n  <tbody>\n    <tr>\n      <th>0</th>\n      <td>-1.0</td>\n      <td>5.0</td>\n      <td>9</td>\n    </tr>\n    <tr>\n      <th>1</th>\n      <td>2.0</td>\n      <td>6.0</td>\n      <td>-10</td>\n    </tr>\n    <tr>\n      <th>2</th>\n      <td>3.0</td>\n      <td>7.0</td>\n      <td>11</td>\n    </tr>\n    <tr>\n      <th>3</th>\n      <td>4.0</td>\n      <td>8.0</td>\n      <td>12</td>\n    </tr>\n  </tbody>\n</table>\n</div>"
     },
     "execution_count": 214,
     "metadata": {},
     "output_type": "execute_result"
    }
   ],
   "source": [
    "data = pd.DataFrame({\n",
    "    'a': [-1,2,np.nan,4],\n",
    "    'b': [5,np.nan,7,8],\n",
    "    'c': [9,-10,11,12]\n",
    "})\n",
    "print(\"data : \\n \", data)\n",
    "data.interpolate()"
   ],
   "metadata": {
    "collapsed": false
   }
  },
  {
   "cell_type": "code",
   "execution_count": 225,
   "outputs": [
    {
     "name": "stdout",
     "output_type": "stream",
     "text": [
      "data : \n",
      "     a  b   c\n",
      "0 -1  5   9\n",
      "1  2  6 -10\n",
      "2  3  7  11\n",
      "3  4  8  12\n",
      "after : \n",
      "    a  b    c\n",
      "0 -1  5  100\n",
      "1  2  6  200\n",
      "2  3  7  300\n",
      "3  4  8  400\n"
     ]
    }
   ],
   "source": [
    "data = pd.DataFrame({\n",
    "    'a': [-1,2,3,4],\n",
    "    'b': [5,6,7,8],\n",
    "    'c': [9,-10,11,12]\n",
    "})\n",
    "print(\"data : \\n \", data)\n",
    "data.isetitem(2, [100,200,300, 400])\n",
    "print(\"after : \\n\", data)"
   ],
   "metadata": {
    "collapsed": false
   }
  },
  {
   "cell_type": "code",
   "execution_count": 229,
   "outputs": [
    {
     "name": "stdout",
     "output_type": "stream",
     "text": [
      "data : \n",
      "     a  b   c\n",
      "0 -1  5   9\n",
      "1  2  6 -10\n",
      "2  3  7  11\n",
      "3  4  8  12\n"
     ]
    },
    {
     "data": {
      "text/plain": "       a      b      c\n0  False   True  False\n1  False  False  False\n2  False   True  False\n3  False  False  False",
      "text/html": "<div>\n<style scoped>\n    .dataframe tbody tr th:only-of-type {\n        vertical-align: middle;\n    }\n\n    .dataframe tbody tr th {\n        vertical-align: top;\n    }\n\n    .dataframe thead th {\n        text-align: right;\n    }\n</style>\n<table border=\"1\" class=\"dataframe\">\n  <thead>\n    <tr style=\"text-align: right;\">\n      <th></th>\n      <th>a</th>\n      <th>b</th>\n      <th>c</th>\n    </tr>\n  </thead>\n  <tbody>\n    <tr>\n      <th>0</th>\n      <td>False</td>\n      <td>True</td>\n      <td>False</td>\n    </tr>\n    <tr>\n      <th>1</th>\n      <td>False</td>\n      <td>False</td>\n      <td>False</td>\n    </tr>\n    <tr>\n      <th>2</th>\n      <td>False</td>\n      <td>True</td>\n      <td>False</td>\n    </tr>\n    <tr>\n      <th>3</th>\n      <td>False</td>\n      <td>False</td>\n      <td>False</td>\n    </tr>\n  </tbody>\n</table>\n</div>"
     },
     "execution_count": 229,
     "metadata": {},
     "output_type": "execute_result"
    }
   ],
   "source": [
    "data = pd.DataFrame({\n",
    "    'a': [-1,2,3,4],\n",
    "    'b': [5,6,7,8],\n",
    "    'c': [9,-10,11,12]\n",
    "})\n",
    "print(\"data : \\n \", data)\n",
    "data.isin([5, 7])"
   ],
   "metadata": {
    "collapsed": false
   }
  },
  {
   "cell_type": "code",
   "execution_count": 231,
   "outputs": [
    {
     "name": "stdout",
     "output_type": "stream",
     "text": [
      "data : \n",
      "       a    b   c\n",
      "0  NaN  5.0   9\n",
      "1  2.0  6.0 -10\n",
      "2  3.0  NaN  11\n",
      "3  4.0  8.0  12\n"
     ]
    },
    {
     "data": {
      "text/plain": "       a      b      c\n0   True  False  False\n1  False  False  False\n2  False   True  False\n3  False  False  False",
      "text/html": "<div>\n<style scoped>\n    .dataframe tbody tr th:only-of-type {\n        vertical-align: middle;\n    }\n\n    .dataframe tbody tr th {\n        vertical-align: top;\n    }\n\n    .dataframe thead th {\n        text-align: right;\n    }\n</style>\n<table border=\"1\" class=\"dataframe\">\n  <thead>\n    <tr style=\"text-align: right;\">\n      <th></th>\n      <th>a</th>\n      <th>b</th>\n      <th>c</th>\n    </tr>\n  </thead>\n  <tbody>\n    <tr>\n      <th>0</th>\n      <td>True</td>\n      <td>False</td>\n      <td>False</td>\n    </tr>\n    <tr>\n      <th>1</th>\n      <td>False</td>\n      <td>False</td>\n      <td>False</td>\n    </tr>\n    <tr>\n      <th>2</th>\n      <td>False</td>\n      <td>True</td>\n      <td>False</td>\n    </tr>\n    <tr>\n      <th>3</th>\n      <td>False</td>\n      <td>False</td>\n      <td>False</td>\n    </tr>\n  </tbody>\n</table>\n</div>"
     },
     "execution_count": 231,
     "metadata": {},
     "output_type": "execute_result"
    }
   ],
   "source": [
    "data = pd.DataFrame({\n",
    "    'a': [np.nan,2,3,4],\n",
    "    'b': [5,6,np.nan,8],\n",
    "    'c': [9,-10,11,12]\n",
    "})\n",
    "print(\"data : \\n \", data)\n",
    "data.isna()"
   ],
   "metadata": {
    "collapsed": false
   }
  },
  {
   "cell_type": "code",
   "execution_count": 233,
   "outputs": [
    {
     "name": "stdout",
     "output_type": "stream",
     "text": [
      "data : \n",
      "       a    b   c\n",
      "0  NaN  5.0   9\n",
      "1  2.0  6.0 -10\n",
      "2  3.0  NaN  11\n",
      "3  4.0  8.0  12\n"
     ]
    },
    {
     "data": {
      "text/plain": "       a      b      c\n0   True  False  False\n1  False  False  False\n2  False   True  False\n3  False  False  False",
      "text/html": "<div>\n<style scoped>\n    .dataframe tbody tr th:only-of-type {\n        vertical-align: middle;\n    }\n\n    .dataframe tbody tr th {\n        vertical-align: top;\n    }\n\n    .dataframe thead th {\n        text-align: right;\n    }\n</style>\n<table border=\"1\" class=\"dataframe\">\n  <thead>\n    <tr style=\"text-align: right;\">\n      <th></th>\n      <th>a</th>\n      <th>b</th>\n      <th>c</th>\n    </tr>\n  </thead>\n  <tbody>\n    <tr>\n      <th>0</th>\n      <td>True</td>\n      <td>False</td>\n      <td>False</td>\n    </tr>\n    <tr>\n      <th>1</th>\n      <td>False</td>\n      <td>False</td>\n      <td>False</td>\n    </tr>\n    <tr>\n      <th>2</th>\n      <td>False</td>\n      <td>True</td>\n      <td>False</td>\n    </tr>\n    <tr>\n      <th>3</th>\n      <td>False</td>\n      <td>False</td>\n      <td>False</td>\n    </tr>\n  </tbody>\n</table>\n</div>"
     },
     "execution_count": 233,
     "metadata": {},
     "output_type": "execute_result"
    }
   ],
   "source": [
    "data = pd.DataFrame({\n",
    "    'a': [np.nan,2,3,4],\n",
    "    'b': [5,6,np.nan,8],\n",
    "    'c': [9,-10,11,12]\n",
    "})\n",
    "print(\"data : \\n \", data)\n",
    "data.isnull()"
   ],
   "metadata": {
    "collapsed": false
   }
  },
  {
   "cell_type": "code",
   "execution_count": 238,
   "outputs": [
    {
     "name": "stdout",
     "output_type": "stream",
     "text": [
      "data : \n",
      "     a  b   c\n",
      "0 -1  5   9\n",
      "1  2  6 -10\n",
      "2  3  7  11\n",
      "3  4  8  12\n",
      "label: a\n",
      "content: 0   -1\n",
      "1    2\n",
      "2    3\n",
      "3    4\n",
      "Name: a, dtype: int64\n",
      "\n",
      "label: b\n",
      "content: 0    5\n",
      "1    6\n",
      "2    7\n",
      "3    8\n",
      "Name: b, dtype: int64\n",
      "\n",
      "label: c\n",
      "content: 0     9\n",
      "1   -10\n",
      "2    11\n",
      "3    12\n",
      "Name: c, dtype: int64\n",
      "\n"
     ]
    }
   ],
   "source": [
    "data = pd.DataFrame({\n",
    "    'a': [-1,2,3,4],\n",
    "    'b': [5,6,7,8],\n",
    "    'c': [9,-10,11,12]\n",
    "})\n",
    "print(\"data : \\n \", data)\n",
    "for label, content in data.items():\n",
    "    print(f'label: {label}')\n",
    "    print(f'content: {content}\\n', sep='\\n')"
   ],
   "metadata": {
    "collapsed": false
   }
  },
  {
   "cell_type": "code",
   "execution_count": 246,
   "outputs": [
    {
     "name": "stdout",
     "output_type": "stream",
     "text": [
      "data : \n",
      "     a  b   c\n",
      "0 -1  5   9\n",
      "1  2  6 -10\n",
      "2  3  7  11\n",
      "3  4  8  12\n",
      "\n",
      " (0, a   -1\n",
      "b    5\n",
      "c    9\n",
      "Name: 0, dtype: int64) \n",
      "\n",
      "\n",
      "\n",
      " (1, a     2\n",
      "b     6\n",
      "c   -10\n",
      "Name: 1, dtype: int64) \n",
      "\n",
      "\n",
      "\n",
      " (2, a     3\n",
      "b     7\n",
      "c    11\n",
      "Name: 2, dtype: int64) \n",
      "\n",
      "\n",
      "\n",
      " (3, a     4\n",
      "b     8\n",
      "c    12\n",
      "Name: 3, dtype: int64) \n",
      "\n",
      "\n"
     ]
    }
   ],
   "source": [
    "data = pd.DataFrame({\n",
    "    'a': [-1,2,3,4],\n",
    "    'b': [5,6,7,8],\n",
    "    'c': [9,-10,11,12]\n",
    "})\n",
    "print(\"data : \\n \", data)\n",
    "for i in data.iterrows():\n",
    "    print(\"\\n\", i, \"\\n\\n\")"
   ],
   "metadata": {
    "collapsed": false
   }
  },
  {
   "cell_type": "code",
   "execution_count": 250,
   "outputs": [
    {
     "name": "stdout",
     "output_type": "stream",
     "text": [
      "data : \n",
      "     a  b   c\n",
      "0 -1  5   9\n",
      "1  2  6 -10\n",
      "2  3  7  11\n",
      "3  4  8  12\n",
      "Pandas(Index=0, a=-1, b=5, c=9)\n",
      "Pandas(Index=1, a=2, b=6, c=-10)\n",
      "Pandas(Index=2, a=3, b=7, c=11)\n",
      "Pandas(Index=3, a=4, b=8, c=12)\n"
     ]
    }
   ],
   "source": [
    "data = pd.DataFrame({\n",
    "    'a': [-1,2,3,4],\n",
    "    'b': [5,6,7,8],\n",
    "    'c': [9,-10,11,12]\n",
    "})\n",
    "print(\"data : \\n \", data)\n",
    "for row in data.itertuples():\n",
    "    print(row)"
   ],
   "metadata": {
    "collapsed": false
   }
  },
  {
   "cell_type": "code",
   "execution_count": 262,
   "outputs": [
    {
     "name": "stdout",
     "output_type": "stream",
     "text": [
      "data : \n",
      "     a  b   c\n",
      "0 -1  5   9\n",
      "1  2  6 -10\n",
      "2  3  7  11\n",
      "3  4  8  12\n"
     ]
    },
    {
     "data": {
      "text/plain": "   a  b   c    x\n0 -1  5   9  100\n1  2  6 -10  200\n2  3  7  11  300\n3  4  8  12  400",
      "text/html": "<div>\n<style scoped>\n    .dataframe tbody tr th:only-of-type {\n        vertical-align: middle;\n    }\n\n    .dataframe tbody tr th {\n        vertical-align: top;\n    }\n\n    .dataframe thead th {\n        text-align: right;\n    }\n</style>\n<table border=\"1\" class=\"dataframe\">\n  <thead>\n    <tr style=\"text-align: right;\">\n      <th></th>\n      <th>a</th>\n      <th>b</th>\n      <th>c</th>\n      <th>x</th>\n    </tr>\n  </thead>\n  <tbody>\n    <tr>\n      <th>0</th>\n      <td>-1</td>\n      <td>5</td>\n      <td>9</td>\n      <td>100</td>\n    </tr>\n    <tr>\n      <th>1</th>\n      <td>2</td>\n      <td>6</td>\n      <td>-10</td>\n      <td>200</td>\n    </tr>\n    <tr>\n      <th>2</th>\n      <td>3</td>\n      <td>7</td>\n      <td>11</td>\n      <td>300</td>\n    </tr>\n    <tr>\n      <th>3</th>\n      <td>4</td>\n      <td>8</td>\n      <td>12</td>\n      <td>400</td>\n    </tr>\n  </tbody>\n</table>\n</div>"
     },
     "execution_count": 262,
     "metadata": {},
     "output_type": "execute_result"
    }
   ],
   "source": [
    "data = pd.DataFrame({\n",
    "    'a': [-1,2,3,4],\n",
    "    'b': [5,6,7,8],\n",
    "    'c': [9,-10,11,12]\n",
    "})\n",
    "print(\"data : \\n \", data)\n",
    "other = pd.DataFrame({'x': [100, 200, 300, 400]})\n",
    "data.join(other)\n"
   ],
   "metadata": {
    "collapsed": false
   }
  },
  {
   "cell_type": "code",
   "execution_count": 264,
   "outputs": [
    {
     "name": "stdout",
     "output_type": "stream",
     "text": [
      "data : \n",
      "     a  b   c\n",
      "0 -1  5   9\n",
      "1  2  6 -10\n",
      "2  3  7  11\n",
      "3  4  8  12\n"
     ]
    },
    {
     "data": {
      "text/plain": "Index(['a', 'b', 'c'], dtype='object')"
     },
     "execution_count": 264,
     "metadata": {},
     "output_type": "execute_result"
    }
   ],
   "source": [
    "data = pd.DataFrame({\n",
    "    'a': [-1,2,3,4],\n",
    "    'b': [5,6,7,8],\n",
    "    'c': [9,-10,11,12]\n",
    "})\n",
    "print(\"data : \\n \", data)\n",
    "data.keys()"
   ],
   "metadata": {
    "collapsed": false
   }
  },
  {
   "cell_type": "code",
   "execution_count": 265,
   "outputs": [
    {
     "name": "stdout",
     "output_type": "stream",
     "text": [
      "data : \n",
      "     a  b   c\n",
      "0 -1  5   9\n",
      "1  2  6 -10\n",
      "2  3  7  11\n",
      "3  4  8  12\n"
     ]
    },
    {
     "data": {
      "text/plain": "a    1.500000\nb   -1.200000\nc    3.703385\ndtype: float64"
     },
     "execution_count": 265,
     "metadata": {},
     "output_type": "execute_result"
    }
   ],
   "source": [
    "data = pd.DataFrame({\n",
    "    'a': [-1,2,3,4],\n",
    "    'b': [5,6,7,8],\n",
    "    'c': [9,-10,11,12]\n",
    "})\n",
    "print(\"data : \\n \", data)\n",
    "data.kurt()"
   ],
   "metadata": {
    "collapsed": false
   }
  },
  {
   "cell_type": "code",
   "execution_count": 267,
   "outputs": [
    {
     "name": "stdout",
     "output_type": "stream",
     "text": [
      "data : \n",
      "     a  b   c\n",
      "0 -1  5   9\n",
      "1  2  6 -10\n",
      "2  3  7  11\n",
      "3  4  8  12\n"
     ]
    },
    {
     "data": {
      "text/plain": "a    1.500000\nb   -1.200000\nc    3.703385\ndtype: float64"
     },
     "execution_count": 267,
     "metadata": {},
     "output_type": "execute_result"
    }
   ],
   "source": [
    "data = pd.DataFrame({\n",
    "    'a': [-1,2,3,4],\n",
    "    'b': [5,6,7,8],\n",
    "    'c': [9,-10,11,12]\n",
    "})\n",
    "print(\"data : \\n \", data)\n",
    "data.kurtosis()"
   ],
   "metadata": {
    "collapsed": false
   }
  },
  {
   "cell_type": "code",
   "execution_count": 270,
   "outputs": [
    {
     "name": "stdout",
     "output_type": "stream",
     "text": [
      "data : \n",
      "             dates\n",
      "2005-01-01      0\n",
      "2005-01-02      1\n",
      "2005-01-03      2\n",
      "2005-01-04      3\n",
      "2005-01-05      4\n",
      "2005-01-06      5\n",
      "2005-01-07      6\n",
      "2005-01-08      7\n",
      "2005-01-09      8\n",
      "2005-01-10      9\n"
     ]
    },
    {
     "data": {
      "text/plain": "            dates\n2005-01-07      6\n2005-01-08      7\n2005-01-09      8\n2005-01-10      9",
      "text/html": "<div>\n<style scoped>\n    .dataframe tbody tr th:only-of-type {\n        vertical-align: middle;\n    }\n\n    .dataframe tbody tr th {\n        vertical-align: top;\n    }\n\n    .dataframe thead th {\n        text-align: right;\n    }\n</style>\n<table border=\"1\" class=\"dataframe\">\n  <thead>\n    <tr style=\"text-align: right;\">\n      <th></th>\n      <th>dates</th>\n    </tr>\n  </thead>\n  <tbody>\n    <tr>\n      <th>2005-01-07</th>\n      <td>6</td>\n    </tr>\n    <tr>\n      <th>2005-01-08</th>\n      <td>7</td>\n    </tr>\n    <tr>\n      <th>2005-01-09</th>\n      <td>8</td>\n    </tr>\n    <tr>\n      <th>2005-01-10</th>\n      <td>9</td>\n    </tr>\n  </tbody>\n</table>\n</div>"
     },
     "execution_count": 270,
     "metadata": {},
     "output_type": "execute_result"
    }
   ],
   "source": [
    "date = pd.date_range('1/1/2005', periods=10, freq='1D')\n",
    "data = pd.DataFrame({'dates': [i for i in range(len(date))]}, index=date)\n",
    "print(\"data : \\n\", data)\n",
    "data.last('4D')"
   ],
   "metadata": {
    "collapsed": false
   }
  },
  {
   "cell_type": "code",
   "execution_count": 272,
   "outputs": [
    {
     "name": "stdout",
     "output_type": "stream",
     "text": [
      "data : \n",
      "     a  b   c\n",
      "0 -1  5   9\n",
      "1  2  6 -10\n",
      "2  3  7  11\n",
      "3  4  8  12\n"
     ]
    },
    {
     "data": {
      "text/plain": "3"
     },
     "execution_count": 272,
     "metadata": {},
     "output_type": "execute_result"
    }
   ],
   "source": [
    "data = pd.DataFrame({\n",
    "    'a': [-1,2,3,4],\n",
    "    'b': [5,6,7,8],\n",
    "    'c': [9,-10,11,12]\n",
    "})\n",
    "print(\"data : \\n \", data)\n",
    "data.last_valid_index()"
   ],
   "metadata": {
    "collapsed": false
   }
  },
  {
   "cell_type": "code",
   "execution_count": 280,
   "outputs": [
    {
     "name": "stdout",
     "output_type": "stream",
     "text": [
      "data : \n",
      "     a  b   c\n",
      "0 -1  5   9\n",
      "1  2  6 -10\n",
      "2  3  7  11\n",
      "3  4  8  12\n"
     ]
    },
    {
     "data": {
      "text/plain": "      a      b      c\n0  True   True  False\n1  True  False   True\n2  True  False  False\n3  True  False  False",
      "text/html": "<div>\n<style scoped>\n    .dataframe tbody tr th:only-of-type {\n        vertical-align: middle;\n    }\n\n    .dataframe tbody tr th {\n        vertical-align: top;\n    }\n\n    .dataframe thead th {\n        text-align: right;\n    }\n</style>\n<table border=\"1\" class=\"dataframe\">\n  <thead>\n    <tr style=\"text-align: right;\">\n      <th></th>\n      <th>a</th>\n      <th>b</th>\n      <th>c</th>\n    </tr>\n  </thead>\n  <tbody>\n    <tr>\n      <th>0</th>\n      <td>True</td>\n      <td>True</td>\n      <td>False</td>\n    </tr>\n    <tr>\n      <th>1</th>\n      <td>True</td>\n      <td>False</td>\n      <td>True</td>\n    </tr>\n    <tr>\n      <th>2</th>\n      <td>True</td>\n      <td>False</td>\n      <td>False</td>\n    </tr>\n    <tr>\n      <th>3</th>\n      <td>True</td>\n      <td>False</td>\n      <td>False</td>\n    </tr>\n  </tbody>\n</table>\n</div>"
     },
     "execution_count": 280,
     "metadata": {},
     "output_type": "execute_result"
    }
   ],
   "source": [
    "data = pd.DataFrame({\n",
    "    'a': [-1,2,3,4],\n",
    "    'b': [5,6,7,8],\n",
    "    'c': [9,-10,11,12]\n",
    "})\n",
    "print(\"data : \\n \", data)\n",
    "data.le(5)\n",
    "# data <= 5"
   ],
   "metadata": {
    "collapsed": false
   }
  },
  {
   "cell_type": "code",
   "execution_count": 286,
   "outputs": [
    {
     "name": "stdout",
     "output_type": "stream",
     "text": [
      "data : \n",
      "     a  b   c\n",
      "0 -1  5   9\n",
      "1  2  6 -10\n",
      "2  3  7  11\n",
      "3  4  8  12\n"
     ]
    },
    {
     "data": {
      "text/plain": "a   -1\nb    5\nc    9\nName: 0, dtype: int64"
     },
     "execution_count": 286,
     "metadata": {},
     "output_type": "execute_result"
    }
   ],
   "source": [
    "data = pd.DataFrame({\n",
    "    'a': [-1,2,3,4],\n",
    "    'b': [5,6,7,8],\n",
    "    'c': [9,-10,11,12]\n",
    "})\n",
    "print(\"data : \\n \", data)\n",
    "data.loc[0]"
   ],
   "metadata": {
    "collapsed": false
   }
  },
  {
   "cell_type": "code",
   "execution_count": 304,
   "outputs": [
    {
     "name": "stdout",
     "output_type": "stream",
     "text": [
      "data : \n",
      "     a  b   c\n",
      "0 -1  5   9\n",
      "1  2  6 -10\n",
      "2  3  7  11\n",
      "3  4  8  12\n"
     ]
    },
    {
     "name": "stderr",
     "output_type": "stream",
     "text": [
      "C:\\Users\\student.ASTRUM-DOMAIN\\AppData\\Local\\Temp\\ipykernel_9884\\2065739471.py:7: FutureWarning: The 'lookup' method is deprecated and will be removed in a future version. You can use DataFrame.melt and DataFrame.loc as a substitute.\n",
      "  data.lookup(row_labels=[0, 1, 3], col_labels=['a', 'b', 'c'])\n"
     ]
    },
    {
     "data": {
      "text/plain": "array([-1,  6, 12], dtype=int64)"
     },
     "execution_count": 304,
     "metadata": {},
     "output_type": "execute_result"
    }
   ],
   "source": [
    "data = pd.DataFrame({\n",
    "    'a': [-1,2,3,4],\n",
    "    'b': [5,6,7,8],\n",
    "    'c': [9,-10,11,12]\n",
    "})\n",
    "print(\"data : \\n \", data)\n",
    "data.lookup(row_labels=[0, 1, 3], col_labels=['a', 'b', 'c'])"
   ],
   "metadata": {
    "collapsed": false
   }
  },
  {
   "cell_type": "code",
   "execution_count": 307,
   "outputs": [
    {
     "name": "stdout",
     "output_type": "stream",
     "text": [
      "data : \n",
      "     a  b   c\n",
      "0 -1  5   9\n",
      "1  2  6 -10\n",
      "2  3  7  11\n",
      "3  4  8  12\n"
     ]
    },
    {
     "data": {
      "text/plain": "      a      b      c\n0  True  False  False\n1  True  False   True\n2  True  False  False\n3  True  False  False",
      "text/html": "<div>\n<style scoped>\n    .dataframe tbody tr th:only-of-type {\n        vertical-align: middle;\n    }\n\n    .dataframe tbody tr th {\n        vertical-align: top;\n    }\n\n    .dataframe thead th {\n        text-align: right;\n    }\n</style>\n<table border=\"1\" class=\"dataframe\">\n  <thead>\n    <tr style=\"text-align: right;\">\n      <th></th>\n      <th>a</th>\n      <th>b</th>\n      <th>c</th>\n    </tr>\n  </thead>\n  <tbody>\n    <tr>\n      <th>0</th>\n      <td>True</td>\n      <td>False</td>\n      <td>False</td>\n    </tr>\n    <tr>\n      <th>1</th>\n      <td>True</td>\n      <td>False</td>\n      <td>True</td>\n    </tr>\n    <tr>\n      <th>2</th>\n      <td>True</td>\n      <td>False</td>\n      <td>False</td>\n    </tr>\n    <tr>\n      <th>3</th>\n      <td>True</td>\n      <td>False</td>\n      <td>False</td>\n    </tr>\n  </tbody>\n</table>\n</div>"
     },
     "execution_count": 307,
     "metadata": {},
     "output_type": "execute_result"
    }
   ],
   "source": [
    "data = pd.DataFrame({\n",
    "    'a': [-1,2,3,4],\n",
    "    'b': [5,6,7,8],\n",
    "    'c': [9,-10,11,12]\n",
    "})\n",
    "print(\"data : \\n \", data)\n",
    "data.lt(5)"
   ],
   "metadata": {
    "collapsed": false
   }
  },
  {
   "cell_type": "code",
   "execution_count": 309,
   "outputs": [
    {
     "name": "stdout",
     "output_type": "stream",
     "text": [
      "data : \n",
      "     a  b   c\n",
      "0 -1  5   9\n",
      "1  2  6 -10\n",
      "2  3  7  11\n",
      "3  4  8  12\n"
     ]
    },
    {
     "name": "stderr",
     "output_type": "stream",
     "text": [
      "C:\\Users\\student.ASTRUM-DOMAIN\\AppData\\Local\\Temp\\ipykernel_9884\\711045816.py:7: FutureWarning: The 'mad' method is deprecated and will be removed in a future version. To compute the same result, you may do `(df - df.mean()).abs().mean()`.\n",
      "  data.mad()\n"
     ]
    },
    {
     "data": {
      "text/plain": "a    1.50\nb    1.00\nc    7.75\ndtype: float64"
     },
     "execution_count": 309,
     "metadata": {},
     "output_type": "execute_result"
    }
   ],
   "source": [
    "data = pd.DataFrame({\n",
    "    'a': [-1,2,3,4],\n",
    "    'b': [5,6,7,8],\n",
    "    'c': [9,-10,11,12]\n",
    "})\n",
    "print(\"data : \\n \", data)\n",
    "data.mad()"
   ],
   "metadata": {
    "collapsed": false
   }
  },
  {
   "cell_type": "code",
   "execution_count": 312,
   "outputs": [
    {
     "name": "stdout",
     "output_type": "stream",
     "text": [
      "data : \n",
      "     a  b   c\n",
      "0 -1  5   9\n",
      "1  2  6 -10\n",
      "2  3  7  11\n",
      "3  4  8  12\n"
     ]
    },
    {
     "data": {
      "text/plain": "    a  b     c\n0 NaN  5   9.0\n1 NaN  6   NaN\n2 NaN  7  11.0\n3 NaN  8  12.0",
      "text/html": "<div>\n<style scoped>\n    .dataframe tbody tr th:only-of-type {\n        vertical-align: middle;\n    }\n\n    .dataframe tbody tr th {\n        vertical-align: top;\n    }\n\n    .dataframe thead th {\n        text-align: right;\n    }\n</style>\n<table border=\"1\" class=\"dataframe\">\n  <thead>\n    <tr style=\"text-align: right;\">\n      <th></th>\n      <th>a</th>\n      <th>b</th>\n      <th>c</th>\n    </tr>\n  </thead>\n  <tbody>\n    <tr>\n      <th>0</th>\n      <td>NaN</td>\n      <td>5</td>\n      <td>9.0</td>\n    </tr>\n    <tr>\n      <th>1</th>\n      <td>NaN</td>\n      <td>6</td>\n      <td>NaN</td>\n    </tr>\n    <tr>\n      <th>2</th>\n      <td>NaN</td>\n      <td>7</td>\n      <td>11.0</td>\n    </tr>\n    <tr>\n      <th>3</th>\n      <td>NaN</td>\n      <td>8</td>\n      <td>12.0</td>\n    </tr>\n  </tbody>\n</table>\n</div>"
     },
     "execution_count": 312,
     "metadata": {},
     "output_type": "execute_result"
    }
   ],
   "source": [
    "data = pd.DataFrame({\n",
    "    'a': [-1,2,3,4],\n",
    "    'b': [5,6,7,8],\n",
    "    'c': [9,-10,11,12]\n",
    "})\n",
    "print(\"data : \\n \", data)\n",
    "data.mask(data < 5)"
   ],
   "metadata": {
    "collapsed": false
   }
  },
  {
   "cell_type": "code",
   "execution_count": 314,
   "outputs": [
    {
     "name": "stdout",
     "output_type": "stream",
     "text": [
      "data : \n",
      "     a  b   c\n",
      "0 -1  5   9\n",
      "1  2  6 -10\n",
      "2  3  7  11\n",
      "3  4  8  12\n"
     ]
    },
    {
     "data": {
      "text/plain": "a     4\nb     8\nc    12\ndtype: int64"
     },
     "execution_count": 314,
     "metadata": {},
     "output_type": "execute_result"
    }
   ],
   "source": [
    "data = pd.DataFrame({\n",
    "    'a': [-1,2,3,4],\n",
    "    'b': [5,6,7,8],\n",
    "    'c': [9,-10,11,12]\n",
    "})\n",
    "print(\"data : \\n \", data)\n",
    "data.max()"
   ],
   "metadata": {
    "collapsed": false
   }
  },
  {
   "cell_type": "code",
   "execution_count": 316,
   "outputs": [
    {
     "name": "stdout",
     "output_type": "stream",
     "text": [
      "data : \n",
      "     a  b   c\n",
      "0 -1  5   9\n",
      "1  2  6 -10\n",
      "2  3  7  11\n",
      "3  4  8  12\n"
     ]
    },
    {
     "data": {
      "text/plain": "a    2.0\nb    6.5\nc    5.5\ndtype: float64"
     },
     "execution_count": 316,
     "metadata": {},
     "output_type": "execute_result"
    }
   ],
   "source": [
    "data = pd.DataFrame({\n",
    "    'a': [-1,2,3,4],\n",
    "    'b': [5,6,7,8],\n",
    "    'c': [9,-10,11,12]\n",
    "})\n",
    "print(\"data : \\n \", data)\n",
    "data.mean()"
   ],
   "metadata": {
    "collapsed": false
   }
  },
  {
   "cell_type": "code",
   "execution_count": 318,
   "outputs": [
    {
     "name": "stdout",
     "output_type": "stream",
     "text": [
      "data : \n",
      "     a  b   c\n",
      "0 -1  5   9\n",
      "1  2  6 -10\n",
      "2  3  7  11\n",
      "3  4  8  12\n"
     ]
    },
    {
     "data": {
      "text/plain": "a     2.5\nb     6.5\nc    10.0\ndtype: float64"
     },
     "execution_count": 318,
     "metadata": {},
     "output_type": "execute_result"
    }
   ],
   "source": [
    "data = pd.DataFrame({\n",
    "    'a': [-1,2,3,4],\n",
    "    'b': [5,6,7,8],\n",
    "    'c': [9,-10,11,12]\n",
    "})\n",
    "print(\"data : \\n \", data)\n",
    "data.median()"
   ],
   "metadata": {
    "collapsed": false
   }
  },
  {
   "cell_type": "code",
   "execution_count": 320,
   "outputs": [
    {
     "name": "stdout",
     "output_type": "stream",
     "text": [
      "data : \n",
      "     a  b   c\n",
      "0 -1  5   9\n",
      "1  2  6 -10\n",
      "2  3  7  11\n",
      "3  4  8  12\n"
     ]
    },
    {
     "data": {
      "text/plain": "   variable  value\n0         a     -1\n1         a      2\n2         a      3\n3         a      4\n4         b      5\n5         b      6\n6         b      7\n7         b      8\n8         c      9\n9         c    -10\n10        c     11\n11        c     12",
      "text/html": "<div>\n<style scoped>\n    .dataframe tbody tr th:only-of-type {\n        vertical-align: middle;\n    }\n\n    .dataframe tbody tr th {\n        vertical-align: top;\n    }\n\n    .dataframe thead th {\n        text-align: right;\n    }\n</style>\n<table border=\"1\" class=\"dataframe\">\n  <thead>\n    <tr style=\"text-align: right;\">\n      <th></th>\n      <th>variable</th>\n      <th>value</th>\n    </tr>\n  </thead>\n  <tbody>\n    <tr>\n      <th>0</th>\n      <td>a</td>\n      <td>-1</td>\n    </tr>\n    <tr>\n      <th>1</th>\n      <td>a</td>\n      <td>2</td>\n    </tr>\n    <tr>\n      <th>2</th>\n      <td>a</td>\n      <td>3</td>\n    </tr>\n    <tr>\n      <th>3</th>\n      <td>a</td>\n      <td>4</td>\n    </tr>\n    <tr>\n      <th>4</th>\n      <td>b</td>\n      <td>5</td>\n    </tr>\n    <tr>\n      <th>5</th>\n      <td>b</td>\n      <td>6</td>\n    </tr>\n    <tr>\n      <th>6</th>\n      <td>b</td>\n      <td>7</td>\n    </tr>\n    <tr>\n      <th>7</th>\n      <td>b</td>\n      <td>8</td>\n    </tr>\n    <tr>\n      <th>8</th>\n      <td>c</td>\n      <td>9</td>\n    </tr>\n    <tr>\n      <th>9</th>\n      <td>c</td>\n      <td>-10</td>\n    </tr>\n    <tr>\n      <th>10</th>\n      <td>c</td>\n      <td>11</td>\n    </tr>\n    <tr>\n      <th>11</th>\n      <td>c</td>\n      <td>12</td>\n    </tr>\n  </tbody>\n</table>\n</div>"
     },
     "execution_count": 320,
     "metadata": {},
     "output_type": "execute_result"
    }
   ],
   "source": [
    "data = pd.DataFrame({\n",
    "    'a': [-1,2,3,4],\n",
    "    'b': [5,6,7,8],\n",
    "    'c': [9,-10,11,12]\n",
    "})\n",
    "print(\"data : \\n \", data)\n",
    "data.melt()"
   ],
   "metadata": {
    "collapsed": false
   }
  },
  {
   "cell_type": "code",
   "execution_count": 322,
   "outputs": [
    {
     "name": "stdout",
     "output_type": "stream",
     "text": [
      "data : \n",
      "     a  b   c\n",
      "0 -1  5   9\n",
      "1  2  6 -10\n",
      "2  3  7  11\n",
      "3  4  8  12\n"
     ]
    },
    {
     "data": {
      "text/plain": "Index    128\na         32\nb         32\nc         32\ndtype: int64"
     },
     "execution_count": 322,
     "metadata": {},
     "output_type": "execute_result"
    }
   ],
   "source": [
    "data = pd.DataFrame({\n",
    "    'a': [-1,2,3,4],\n",
    "    'b': [5,6,7,8],\n",
    "    'c': [9,-10,11,12]\n",
    "})\n",
    "print(\"data : \\n \", data)\n",
    "data.memory_usage()"
   ],
   "metadata": {
    "collapsed": false
   }
  },
  {
   "cell_type": "code",
   "execution_count": 352,
   "outputs": [
    {
     "name": "stdout",
     "output_type": "stream",
     "text": [
      "\n",
      "     a  b\n",
      "0  foo  1\n",
      "1  bar  2\n",
      "\n",
      "     a  c\n",
      "0  foo  3\n",
      "1  baz  4\n",
      "\n"
     ]
    },
    {
     "data": {
      "text/plain": "     a    b  c\n0  foo  1.0  3\n1  baz  NaN  4",
      "text/html": "<div>\n<style scoped>\n    .dataframe tbody tr th:only-of-type {\n        vertical-align: middle;\n    }\n\n    .dataframe tbody tr th {\n        vertical-align: top;\n    }\n\n    .dataframe thead th {\n        text-align: right;\n    }\n</style>\n<table border=\"1\" class=\"dataframe\">\n  <thead>\n    <tr style=\"text-align: right;\">\n      <th></th>\n      <th>a</th>\n      <th>b</th>\n      <th>c</th>\n    </tr>\n  </thead>\n  <tbody>\n    <tr>\n      <th>0</th>\n      <td>foo</td>\n      <td>1.0</td>\n      <td>3</td>\n    </tr>\n    <tr>\n      <th>1</th>\n      <td>baz</td>\n      <td>NaN</td>\n      <td>4</td>\n    </tr>\n  </tbody>\n</table>\n</div>"
     },
     "execution_count": 352,
     "metadata": {},
     "output_type": "execute_result"
    }
   ],
   "source": [
    "df1 = pd.DataFrame({'a': ['foo', 'bar'], 'b': [1, 2]})\n",
    "df2 = pd.DataFrame({'a': ['foo', 'baz'], 'c': [3, 4]})\n",
    "print(f\"\\n{df1}\\n\\n{df2}\\n\")\n",
    "df1.merge(df2, how='right', on='a')\n"
   ],
   "metadata": {
    "collapsed": false
   }
  },
  {
   "cell_type": "code",
   "execution_count": 354,
   "outputs": [
    {
     "name": "stdout",
     "output_type": "stream",
     "text": [
      "data : \n",
      "     a  b   c\n",
      "0 -1  5   9\n",
      "1  2  6 -10\n",
      "2  3  7  11\n",
      "3  4  8  12\n"
     ]
    },
    {
     "data": {
      "text/plain": "a    -1\nb     5\nc   -10\ndtype: int64"
     },
     "execution_count": 354,
     "metadata": {},
     "output_type": "execute_result"
    }
   ],
   "source": [
    "data = pd.DataFrame({\n",
    "    'a': [-1,2,3,4],\n",
    "    'b': [5,6,7,8],\n",
    "    'c': [9,-10,11,12]\n",
    "})\n",
    "print(\"data : \\n \", data)\n",
    "data.min()"
   ],
   "metadata": {
    "collapsed": false
   }
  },
  {
   "cell_type": "code",
   "execution_count": 363,
   "outputs": [
    {
     "name": "stdout",
     "output_type": "stream",
     "text": [
      "data : \n",
      "     a  b   c\n",
      "0 -1  5   9\n",
      "1  2  6 -10\n",
      "2  3  7  11\n",
      "3  4  8  12\n"
     ]
    },
    {
     "data": {
      "text/plain": "   a  b  c\n0  1  2  1\n1  0  0  2\n2  1  1  3\n3  0  2  0",
      "text/html": "<div>\n<style scoped>\n    .dataframe tbody tr th:only-of-type {\n        vertical-align: middle;\n    }\n\n    .dataframe tbody tr th {\n        vertical-align: top;\n    }\n\n    .dataframe thead th {\n        text-align: right;\n    }\n</style>\n<table border=\"1\" class=\"dataframe\">\n  <thead>\n    <tr style=\"text-align: right;\">\n      <th></th>\n      <th>a</th>\n      <th>b</th>\n      <th>c</th>\n    </tr>\n  </thead>\n  <tbody>\n    <tr>\n      <th>0</th>\n      <td>1</td>\n      <td>2</td>\n      <td>1</td>\n    </tr>\n    <tr>\n      <th>1</th>\n      <td>0</td>\n      <td>0</td>\n      <td>2</td>\n    </tr>\n    <tr>\n      <th>2</th>\n      <td>1</td>\n      <td>1</td>\n      <td>3</td>\n    </tr>\n    <tr>\n      <th>3</th>\n      <td>0</td>\n      <td>2</td>\n      <td>0</td>\n    </tr>\n  </tbody>\n</table>\n</div>"
     },
     "execution_count": 363,
     "metadata": {},
     "output_type": "execute_result"
    }
   ],
   "source": [
    "data = pd.DataFrame({\n",
    "    'a': [-1,2,3,4],\n",
    "    'b': [5,6,7,8],\n",
    "    'c': [9,-10,11,12]\n",
    "})\n",
    "print(\"data : \\n \", data)\n",
    "data.mod([2, 3, 4])"
   ],
   "metadata": {
    "collapsed": false
   }
  },
  {
   "cell_type": "code",
   "execution_count": 368,
   "outputs": [
    {
     "name": "stdout",
     "output_type": "stream",
     "text": [
      "data : \n",
      "     a  b   c\n",
      "0 -1  5   9\n",
      "1  2  6 -10\n",
      "2  3  7  11\n",
      "3  4  8  12\n"
     ]
    },
    {
     "data": {
      "text/plain": "    0  1   2\n0  -1  5   9\n1 -10  2   6\n2   3  7  11\n3   4  8  12",
      "text/html": "<div>\n<style scoped>\n    .dataframe tbody tr th:only-of-type {\n        vertical-align: middle;\n    }\n\n    .dataframe tbody tr th {\n        vertical-align: top;\n    }\n\n    .dataframe thead th {\n        text-align: right;\n    }\n</style>\n<table border=\"1\" class=\"dataframe\">\n  <thead>\n    <tr style=\"text-align: right;\">\n      <th></th>\n      <th>0</th>\n      <th>1</th>\n      <th>2</th>\n    </tr>\n  </thead>\n  <tbody>\n    <tr>\n      <th>0</th>\n      <td>-1</td>\n      <td>5</td>\n      <td>9</td>\n    </tr>\n    <tr>\n      <th>1</th>\n      <td>-10</td>\n      <td>2</td>\n      <td>6</td>\n    </tr>\n    <tr>\n      <th>2</th>\n      <td>3</td>\n      <td>7</td>\n      <td>11</td>\n    </tr>\n    <tr>\n      <th>3</th>\n      <td>4</td>\n      <td>8</td>\n      <td>12</td>\n    </tr>\n  </tbody>\n</table>\n</div>"
     },
     "execution_count": 368,
     "metadata": {},
     "output_type": "execute_result"
    }
   ],
   "source": [
    "data = pd.DataFrame({\n",
    "    'a': [-1,2,3,4],\n",
    "    'b': [5,6,7,8],\n",
    "    'c': [9,-10,11,12]\n",
    "})\n",
    "print(\"data : \\n \", data)\n",
    "data.mode(axis='columns', numeric_only=True)"
   ],
   "metadata": {
    "collapsed": false
   }
  },
  {
   "cell_type": "code",
   "execution_count": 371,
   "outputs": [
    {
     "name": "stdout",
     "output_type": "stream",
     "text": [
      "data : \n",
      "     a  b   c\n",
      "0 -1  5   9\n",
      "1  2  6 -10\n",
      "2  3  7  11\n",
      "3  4  8  12\n"
     ]
    },
    {
     "data": {
      "text/plain": "    a   b    c\n0 -10  50   90\n1  20  60 -100\n2  30  70  110\n3  40  80  120",
      "text/html": "<div>\n<style scoped>\n    .dataframe tbody tr th:only-of-type {\n        vertical-align: middle;\n    }\n\n    .dataframe tbody tr th {\n        vertical-align: top;\n    }\n\n    .dataframe thead th {\n        text-align: right;\n    }\n</style>\n<table border=\"1\" class=\"dataframe\">\n  <thead>\n    <tr style=\"text-align: right;\">\n      <th></th>\n      <th>a</th>\n      <th>b</th>\n      <th>c</th>\n    </tr>\n  </thead>\n  <tbody>\n    <tr>\n      <th>0</th>\n      <td>-10</td>\n      <td>50</td>\n      <td>90</td>\n    </tr>\n    <tr>\n      <th>1</th>\n      <td>20</td>\n      <td>60</td>\n      <td>-100</td>\n    </tr>\n    <tr>\n      <th>2</th>\n      <td>30</td>\n      <td>70</td>\n      <td>110</td>\n    </tr>\n    <tr>\n      <th>3</th>\n      <td>40</td>\n      <td>80</td>\n      <td>120</td>\n    </tr>\n  </tbody>\n</table>\n</div>"
     },
     "execution_count": 371,
     "metadata": {},
     "output_type": "execute_result"
    }
   ],
   "source": [
    "data = pd.DataFrame({\n",
    "    'a': [-1,2,3,4],\n",
    "    'b': [5,6,7,8],\n",
    "    'c': [9,-10,11,12]\n",
    "})\n",
    "print(\"data : \\n \", data)\n",
    "data.mul(10)"
   ],
   "metadata": {
    "collapsed": false
   }
  },
  {
   "cell_type": "code",
   "execution_count": 373,
   "outputs": [
    {
     "name": "stdout",
     "output_type": "stream",
     "text": [
      "data : \n",
      "     a  b   c\n",
      "0 -1  5   9\n",
      "1  2  6 -10\n",
      "2  3  7  11\n",
      "3  4  8  12\n"
     ]
    },
    {
     "data": {
      "text/plain": "    a   b    c\n0 -10  50   90\n1  20  60 -100\n2  30  70  110\n3  40  80  120",
      "text/html": "<div>\n<style scoped>\n    .dataframe tbody tr th:only-of-type {\n        vertical-align: middle;\n    }\n\n    .dataframe tbody tr th {\n        vertical-align: top;\n    }\n\n    .dataframe thead th {\n        text-align: right;\n    }\n</style>\n<table border=\"1\" class=\"dataframe\">\n  <thead>\n    <tr style=\"text-align: right;\">\n      <th></th>\n      <th>a</th>\n      <th>b</th>\n      <th>c</th>\n    </tr>\n  </thead>\n  <tbody>\n    <tr>\n      <th>0</th>\n      <td>-10</td>\n      <td>50</td>\n      <td>90</td>\n    </tr>\n    <tr>\n      <th>1</th>\n      <td>20</td>\n      <td>60</td>\n      <td>-100</td>\n    </tr>\n    <tr>\n      <th>2</th>\n      <td>30</td>\n      <td>70</td>\n      <td>110</td>\n    </tr>\n    <tr>\n      <th>3</th>\n      <td>40</td>\n      <td>80</td>\n      <td>120</td>\n    </tr>\n  </tbody>\n</table>\n</div>"
     },
     "execution_count": 373,
     "metadata": {},
     "output_type": "execute_result"
    }
   ],
   "source": [
    "data = pd.DataFrame({\n",
    "    'a': [-1,2,3,4],\n",
    "    'b': [5,6,7,8],\n",
    "    'c': [9,-10,11,12]\n",
    "})\n",
    "print(\"data : \\n \", data)\n",
    "data.multiply(10)"
   ],
   "metadata": {
    "collapsed": false
   }
  },
  {
   "cell_type": "code",
   "execution_count": 377,
   "outputs": [
    {
     "name": "stdout",
     "output_type": "stream",
     "text": [
      "data : \n",
      "     a  b   c\n",
      "0 -1  5   9\n",
      "1  2  6 -10\n",
      "2  3  7  11\n",
      "3  4  8  12\n"
     ]
    },
    {
     "data": {
      "text/plain": "2"
     },
     "execution_count": 377,
     "metadata": {},
     "output_type": "execute_result"
    }
   ],
   "source": [
    "data = pd.DataFrame({\n",
    "    'a': [-1,2,3,4],\n",
    "    'b': [5,6,7,8],\n",
    "    'c': [9,-10,11,12]\n",
    "})\n",
    "print(\"data : \\n \", data)\n",
    "data.ndim"
   ],
   "metadata": {
    "collapsed": false
   }
  },
  {
   "cell_type": "code",
   "execution_count": 389,
   "outputs": [
    {
     "name": "stdout",
     "output_type": "stream",
     "text": [
      "data : \n",
      "     a  b   c\n",
      "0 -1  5   9\n",
      "1  2  6 -10\n",
      "2  3  7  11\n",
      "3  4  8  12\n",
      "other : \n",
      "     x\n",
      "0 -1\n",
      "1  2\n",
      "2  3\n",
      "3  4\n"
     ]
    },
    {
     "data": {
      "text/plain": "      a     b     c     x\n0  True  True  True  True\n1  True  True  True  True\n2  True  True  True  True\n3  True  True  True  True",
      "text/html": "<div>\n<style scoped>\n    .dataframe tbody tr th:only-of-type {\n        vertical-align: middle;\n    }\n\n    .dataframe tbody tr th {\n        vertical-align: top;\n    }\n\n    .dataframe thead th {\n        text-align: right;\n    }\n</style>\n<table border=\"1\" class=\"dataframe\">\n  <thead>\n    <tr style=\"text-align: right;\">\n      <th></th>\n      <th>a</th>\n      <th>b</th>\n      <th>c</th>\n      <th>x</th>\n    </tr>\n  </thead>\n  <tbody>\n    <tr>\n      <th>0</th>\n      <td>True</td>\n      <td>True</td>\n      <td>True</td>\n      <td>True</td>\n    </tr>\n    <tr>\n      <th>1</th>\n      <td>True</td>\n      <td>True</td>\n      <td>True</td>\n      <td>True</td>\n    </tr>\n    <tr>\n      <th>2</th>\n      <td>True</td>\n      <td>True</td>\n      <td>True</td>\n      <td>True</td>\n    </tr>\n    <tr>\n      <th>3</th>\n      <td>True</td>\n      <td>True</td>\n      <td>True</td>\n      <td>True</td>\n    </tr>\n  </tbody>\n</table>\n</div>"
     },
     "execution_count": 389,
     "metadata": {},
     "output_type": "execute_result"
    }
   ],
   "source": [
    "data = pd.DataFrame({\n",
    "    'a': [-1,2,3,4],\n",
    "    'b': [5,6,7,8],\n",
    "    'c': [9,-10,11,12]\n",
    "})\n",
    "other = pd.DataFrame({'x' : [-1, 2, 3, 4]})\n",
    "print(\"data : \\n \", data)\n",
    "print(\"other : \\n \", other)\n",
    "data.ne(other)"
   ],
   "metadata": {
    "collapsed": false
   }
  },
  {
   "cell_type": "code",
   "execution_count": 397,
   "outputs": [
    {
     "name": "stdout",
     "output_type": "stream",
     "text": [
      "data : \n",
      "    a  b   c\n",
      "0 -1  5   9\n",
      "1  2  6 -10\n",
      "2  3  7  11\n",
      "3  4  8  12\n"
     ]
    },
    {
     "data": {
      "text/plain": "   a  b   c\n3  4  8  12",
      "text/html": "<div>\n<style scoped>\n    .dataframe tbody tr th:only-of-type {\n        vertical-align: middle;\n    }\n\n    .dataframe tbody tr th {\n        vertical-align: top;\n    }\n\n    .dataframe thead th {\n        text-align: right;\n    }\n</style>\n<table border=\"1\" class=\"dataframe\">\n  <thead>\n    <tr style=\"text-align: right;\">\n      <th></th>\n      <th>a</th>\n      <th>b</th>\n      <th>c</th>\n    </tr>\n  </thead>\n  <tbody>\n    <tr>\n      <th>3</th>\n      <td>4</td>\n      <td>8</td>\n      <td>12</td>\n    </tr>\n  </tbody>\n</table>\n</div>"
     },
     "execution_count": 397,
     "metadata": {},
     "output_type": "execute_result"
    }
   ],
   "source": [
    "data = pd.DataFrame({\n",
    "    'a': [-1,2,3,4],\n",
    "    'b': [5,6,7,8],\n",
    "    'c': [9,-10,11,12]\n",
    "})\n",
    "print(\"data : \\n\", data)\n",
    "data.nlargest(1, columns=['a', 'b', 'c'])\n"
   ],
   "metadata": {
    "collapsed": false
   }
  },
  {
   "cell_type": "code",
   "execution_count": 399,
   "outputs": [
    {
     "name": "stdout",
     "output_type": "stream",
     "text": [
      "data : \n",
      "    a    b     c\n",
      "0 -1  NaN   9.0\n",
      "1  2  6.0 -10.0\n",
      "2  3  7.0   NaN\n",
      "3  4  8.0  12.0\n"
     ]
    },
    {
     "data": {
      "text/plain": "      a      b      c\n0  True  False   True\n1  True   True   True\n2  True   True  False\n3  True   True   True",
      "text/html": "<div>\n<style scoped>\n    .dataframe tbody tr th:only-of-type {\n        vertical-align: middle;\n    }\n\n    .dataframe tbody tr th {\n        vertical-align: top;\n    }\n\n    .dataframe thead th {\n        text-align: right;\n    }\n</style>\n<table border=\"1\" class=\"dataframe\">\n  <thead>\n    <tr style=\"text-align: right;\">\n      <th></th>\n      <th>a</th>\n      <th>b</th>\n      <th>c</th>\n    </tr>\n  </thead>\n  <tbody>\n    <tr>\n      <th>0</th>\n      <td>True</td>\n      <td>False</td>\n      <td>True</td>\n    </tr>\n    <tr>\n      <th>1</th>\n      <td>True</td>\n      <td>True</td>\n      <td>True</td>\n    </tr>\n    <tr>\n      <th>2</th>\n      <td>True</td>\n      <td>True</td>\n      <td>False</td>\n    </tr>\n    <tr>\n      <th>3</th>\n      <td>True</td>\n      <td>True</td>\n      <td>True</td>\n    </tr>\n  </tbody>\n</table>\n</div>"
     },
     "execution_count": 399,
     "metadata": {},
     "output_type": "execute_result"
    }
   ],
   "source": [
    "data = pd.DataFrame({\n",
    "    'a': [-1,2,3,4],\n",
    "    'b': [np.nan,6,7,8],\n",
    "    'c': [9,-10,np.nan,12]\n",
    "})\n",
    "print(\"data : \\n\", data)\n",
    "data.notna()"
   ],
   "metadata": {
    "collapsed": false
   }
  },
  {
   "cell_type": "code",
   "execution_count": 401,
   "outputs": [
    {
     "name": "stdout",
     "output_type": "stream",
     "text": [
      "data : \n",
      "    a    b     c\n",
      "0 -1  NaN   9.0\n",
      "1  2  6.0 -10.0\n",
      "2  3  7.0   NaN\n",
      "3  4  8.0  12.0\n"
     ]
    },
    {
     "data": {
      "text/plain": "      a      b      c\n0  True  False   True\n1  True   True   True\n2  True   True  False\n3  True   True   True",
      "text/html": "<div>\n<style scoped>\n    .dataframe tbody tr th:only-of-type {\n        vertical-align: middle;\n    }\n\n    .dataframe tbody tr th {\n        vertical-align: top;\n    }\n\n    .dataframe thead th {\n        text-align: right;\n    }\n</style>\n<table border=\"1\" class=\"dataframe\">\n  <thead>\n    <tr style=\"text-align: right;\">\n      <th></th>\n      <th>a</th>\n      <th>b</th>\n      <th>c</th>\n    </tr>\n  </thead>\n  <tbody>\n    <tr>\n      <th>0</th>\n      <td>True</td>\n      <td>False</td>\n      <td>True</td>\n    </tr>\n    <tr>\n      <th>1</th>\n      <td>True</td>\n      <td>True</td>\n      <td>True</td>\n    </tr>\n    <tr>\n      <th>2</th>\n      <td>True</td>\n      <td>True</td>\n      <td>False</td>\n    </tr>\n    <tr>\n      <th>3</th>\n      <td>True</td>\n      <td>True</td>\n      <td>True</td>\n    </tr>\n  </tbody>\n</table>\n</div>"
     },
     "execution_count": 401,
     "metadata": {},
     "output_type": "execute_result"
    }
   ],
   "source": [
    "data = pd.DataFrame({\n",
    "    'a': [-1,2,3,4],\n",
    "    'b': [np.nan,6,7,8],\n",
    "    'c': [9,-10,np.nan,12]\n",
    "})\n",
    "print(\"data : \\n\", data)\n",
    "data.notnull()"
   ],
   "metadata": {
    "collapsed": false
   }
  },
  {
   "cell_type": "code",
   "execution_count": 403,
   "outputs": [
    {
     "name": "stdout",
     "output_type": "stream",
     "text": [
      "data : \n",
      "    a    b     c\n",
      "0 -1  NaN   9.0\n",
      "1  2  6.0 -10.0\n",
      "2  3  7.0   NaN\n",
      "3  4  8.0  12.0\n"
     ]
    },
    {
     "data": {
      "text/plain": "   a   b    c\n0 -1 NaN  9.0",
      "text/html": "<div>\n<style scoped>\n    .dataframe tbody tr th:only-of-type {\n        vertical-align: middle;\n    }\n\n    .dataframe tbody tr th {\n        vertical-align: top;\n    }\n\n    .dataframe thead th {\n        text-align: right;\n    }\n</style>\n<table border=\"1\" class=\"dataframe\">\n  <thead>\n    <tr style=\"text-align: right;\">\n      <th></th>\n      <th>a</th>\n      <th>b</th>\n      <th>c</th>\n    </tr>\n  </thead>\n  <tbody>\n    <tr>\n      <th>0</th>\n      <td>-1</td>\n      <td>NaN</td>\n      <td>9.0</td>\n    </tr>\n  </tbody>\n</table>\n</div>"
     },
     "execution_count": 403,
     "metadata": {},
     "output_type": "execute_result"
    }
   ],
   "source": [
    "data = pd.DataFrame({\n",
    "    'a': [-1,2,3,4],\n",
    "    'b': [np.nan,6,7,8],\n",
    "    'c': [9,-10,np.nan,12]\n",
    "})\n",
    "print(\"data : \\n\", data)\n",
    "data.nsmallest(1, columns=['a', 'b', 'c'])"
   ],
   "metadata": {
    "collapsed": false
   }
  },
  {
   "cell_type": "code",
   "execution_count": 408,
   "outputs": [
    {
     "name": "stdout",
     "output_type": "stream",
     "text": [
      "data : \n",
      "     a  b   c\n",
      "0 -1  5   9\n",
      "1  2  6 -10\n",
      "2  3  7  11\n",
      "3  4  8  12\n"
     ]
    },
    {
     "data": {
      "text/plain": "a    4\nb    4\nc    4\ndtype: int64"
     },
     "execution_count": 408,
     "metadata": {},
     "output_type": "execute_result"
    }
   ],
   "source": [
    "data = pd.DataFrame({\n",
    "    'a': [-1,2,3,4],\n",
    "    'b': [5,6,7,8],\n",
    "    'c': [9,-10,11,12]\n",
    "})\n",
    "print(\"data : \\n \", data)\n",
    "data.nunique(0)"
   ],
   "metadata": {
    "collapsed": false
   }
  },
  {
   "cell_type": "code",
   "execution_count": 410,
   "outputs": [
    {
     "name": "stdout",
     "output_type": "stream",
     "text": [
      "data : \n",
      "     a  b   c\n",
      "0 -1  5   9\n",
      "1  2  6 -10\n",
      "2  3  7  11\n",
      "3  4  8  12\n"
     ]
    },
    {
     "data": {
      "text/plain": "   a  b   c\n0 -1  5   9\n1  2  6 -10\n2  3  7  11\n3  4  8  12",
      "text/html": "<div>\n<style scoped>\n    .dataframe tbody tr th:only-of-type {\n        vertical-align: middle;\n    }\n\n    .dataframe tbody tr th {\n        vertical-align: top;\n    }\n\n    .dataframe thead th {\n        text-align: right;\n    }\n</style>\n<table border=\"1\" class=\"dataframe\">\n  <thead>\n    <tr style=\"text-align: right;\">\n      <th></th>\n      <th>a</th>\n      <th>b</th>\n      <th>c</th>\n    </tr>\n  </thead>\n  <tbody>\n    <tr>\n      <th>0</th>\n      <td>-1</td>\n      <td>5</td>\n      <td>9</td>\n    </tr>\n    <tr>\n      <th>1</th>\n      <td>2</td>\n      <td>6</td>\n      <td>-10</td>\n    </tr>\n    <tr>\n      <th>2</th>\n      <td>3</td>\n      <td>7</td>\n      <td>11</td>\n    </tr>\n    <tr>\n      <th>3</th>\n      <td>4</td>\n      <td>8</td>\n      <td>12</td>\n    </tr>\n  </tbody>\n</table>\n</div>"
     },
     "execution_count": 410,
     "metadata": {},
     "output_type": "execute_result"
    }
   ],
   "source": [
    "data = pd.DataFrame({\n",
    "    'a': [-1,2,3,4],\n",
    "    'b': [5,6,7,8],\n",
    "    'c': [9,-10,11,12]\n",
    "})\n",
    "print(\"data : \\n \", data)\n",
    "data.pad()"
   ],
   "metadata": {
    "collapsed": false
   }
  },
  {
   "cell_type": "code",
   "execution_count": 412,
   "outputs": [
    {
     "name": "stdout",
     "output_type": "stream",
     "text": [
      "data : \n",
      "     a  b   c\n",
      "0 -1  5   9\n",
      "1  2  6 -10\n",
      "2  3  7  11\n",
      "3  4  8  12\n"
     ]
    },
    {
     "data": {
      "text/plain": "          a         b         c\n0       NaN       NaN       NaN\n1 -3.000000  0.200000 -2.111111\n2  0.500000  0.166667 -2.100000\n3  0.333333  0.142857  0.090909",
      "text/html": "<div>\n<style scoped>\n    .dataframe tbody tr th:only-of-type {\n        vertical-align: middle;\n    }\n\n    .dataframe tbody tr th {\n        vertical-align: top;\n    }\n\n    .dataframe thead th {\n        text-align: right;\n    }\n</style>\n<table border=\"1\" class=\"dataframe\">\n  <thead>\n    <tr style=\"text-align: right;\">\n      <th></th>\n      <th>a</th>\n      <th>b</th>\n      <th>c</th>\n    </tr>\n  </thead>\n  <tbody>\n    <tr>\n      <th>0</th>\n      <td>NaN</td>\n      <td>NaN</td>\n      <td>NaN</td>\n    </tr>\n    <tr>\n      <th>1</th>\n      <td>-3.000000</td>\n      <td>0.200000</td>\n      <td>-2.111111</td>\n    </tr>\n    <tr>\n      <th>2</th>\n      <td>0.500000</td>\n      <td>0.166667</td>\n      <td>-2.100000</td>\n    </tr>\n    <tr>\n      <th>3</th>\n      <td>0.333333</td>\n      <td>0.142857</td>\n      <td>0.090909</td>\n    </tr>\n  </tbody>\n</table>\n</div>"
     },
     "execution_count": 412,
     "metadata": {},
     "output_type": "execute_result"
    }
   ],
   "source": [
    "data = pd.DataFrame({\n",
    "    'a': [-1,2,3,4],\n",
    "    'b': [5,6,7,8],\n",
    "    'c': [9,-10,11,12]\n",
    "})\n",
    "print(\"data : \\n \", data)\n",
    "data.pct_change()"
   ],
   "metadata": {
    "collapsed": false
   }
  },
  {
   "cell_type": "code",
   "execution_count": 419,
   "outputs": [
    {
     "name": "stdout",
     "output_type": "stream",
     "text": [
      "data : \n",
      "     a  b   c\n",
      "0 -1  5   9\n",
      "1  2  6 -10\n",
      "2  3  7  11\n",
      "3  4  8  12\n"
     ]
    },
    {
     "name": "stderr",
     "output_type": "stream",
     "text": [
      "C:\\Users\\student.ASTRUM-DOMAIN\\AppData\\IqrorjonCoder\\python-projects\\all-pandas-functions\\venv\\lib\\site-packages\\pandas\\core\\internals\\blocks.py:352: RuntimeWarning: invalid value encountered in sqrt\n",
      "  result = func(self.values, **kwargs)\n"
     ]
    },
    {
     "data": {
      "text/plain": "          a         b         c\n0       NaN  2.236068  3.000000\n1  1.414214  2.449490       NaN\n2  1.732051  2.645751  3.316625\n3  2.000000  2.828427  3.464102",
      "text/html": "<div>\n<style scoped>\n    .dataframe tbody tr th:only-of-type {\n        vertical-align: middle;\n    }\n\n    .dataframe tbody tr th {\n        vertical-align: top;\n    }\n\n    .dataframe thead th {\n        text-align: right;\n    }\n</style>\n<table border=\"1\" class=\"dataframe\">\n  <thead>\n    <tr style=\"text-align: right;\">\n      <th></th>\n      <th>a</th>\n      <th>b</th>\n      <th>c</th>\n    </tr>\n  </thead>\n  <tbody>\n    <tr>\n      <th>0</th>\n      <td>NaN</td>\n      <td>2.236068</td>\n      <td>3.000000</td>\n    </tr>\n    <tr>\n      <th>1</th>\n      <td>1.414214</td>\n      <td>2.449490</td>\n      <td>NaN</td>\n    </tr>\n    <tr>\n      <th>2</th>\n      <td>1.732051</td>\n      <td>2.645751</td>\n      <td>3.316625</td>\n    </tr>\n    <tr>\n      <th>3</th>\n      <td>2.000000</td>\n      <td>2.828427</td>\n      <td>3.464102</td>\n    </tr>\n  </tbody>\n</table>\n</div>"
     },
     "execution_count": 419,
     "metadata": {},
     "output_type": "execute_result"
    }
   ],
   "source": [
    "data = pd.DataFrame({\n",
    "    'a': [-1,2,3,4],\n",
    "    'b': [5,6,7,8],\n",
    "    'c': [9,-10,11,12]\n",
    "})\n",
    "print(\"data : \\n \", data)\n",
    "data.pipe(np.sqrt)"
   ],
   "metadata": {
    "collapsed": false
   }
  },
  {
   "cell_type": "code",
   "execution_count": 425,
   "outputs": [
    {
     "name": "stdout",
     "output_type": "stream",
     "text": [
      "data : \n",
      "     a  b   c\n",
      "0 -1  5   9\n",
      "1  2  6 -10\n",
      "2  3  7  11\n",
      "3  4  8  12\n"
     ]
    },
    {
     "name": "stderr",
     "output_type": "stream",
     "text": [
      "C:\\Users\\student.ASTRUM-DOMAIN\\AppData\\Local\\Temp\\ipykernel_9884\\2853035559.py:7: FutureWarning: In a future version of pandas all arguments of DataFrame.pivot will be keyword-only.\n",
      "  data.pivot('a', columns='b')\n"
     ]
    },
    {
     "data": {
      "text/plain": "      c                  \nb     5     6     7     8\na                        \n-1  9.0   NaN   NaN   NaN\n 2  NaN -10.0   NaN   NaN\n 3  NaN   NaN  11.0   NaN\n 4  NaN   NaN   NaN  12.0",
      "text/html": "<div>\n<style scoped>\n    .dataframe tbody tr th:only-of-type {\n        vertical-align: middle;\n    }\n\n    .dataframe tbody tr th {\n        vertical-align: top;\n    }\n\n    .dataframe thead tr th {\n        text-align: left;\n    }\n\n    .dataframe thead tr:last-of-type th {\n        text-align: right;\n    }\n</style>\n<table border=\"1\" class=\"dataframe\">\n  <thead>\n    <tr>\n      <th></th>\n      <th colspan=\"4\" halign=\"left\">c</th>\n    </tr>\n    <tr>\n      <th>b</th>\n      <th>5</th>\n      <th>6</th>\n      <th>7</th>\n      <th>8</th>\n    </tr>\n    <tr>\n      <th>a</th>\n      <th></th>\n      <th></th>\n      <th></th>\n      <th></th>\n    </tr>\n  </thead>\n  <tbody>\n    <tr>\n      <th>-1</th>\n      <td>9.0</td>\n      <td>NaN</td>\n      <td>NaN</td>\n      <td>NaN</td>\n    </tr>\n    <tr>\n      <th>2</th>\n      <td>NaN</td>\n      <td>-10.0</td>\n      <td>NaN</td>\n      <td>NaN</td>\n    </tr>\n    <tr>\n      <th>3</th>\n      <td>NaN</td>\n      <td>NaN</td>\n      <td>11.0</td>\n      <td>NaN</td>\n    </tr>\n    <tr>\n      <th>4</th>\n      <td>NaN</td>\n      <td>NaN</td>\n      <td>NaN</td>\n      <td>12.0</td>\n    </tr>\n  </tbody>\n</table>\n</div>"
     },
     "execution_count": 425,
     "metadata": {},
     "output_type": "execute_result"
    }
   ],
   "source": [
    "data = pd.DataFrame({\n",
    "    'a': [-1,2,3,4],\n",
    "    'b': [5,6,7,8],\n",
    "    'c': [9,-10,11,12]\n",
    "})\n",
    "print(\"data : \\n \", data)\n",
    "data.pivot('a', columns='b')"
   ],
   "metadata": {
    "collapsed": false
   }
  },
  {
   "cell_type": "code",
   "execution_count": 428,
   "outputs": [
    {
     "name": "stdout",
     "output_type": "stream",
     "text": [
      "data : \n",
      "     a  b   c\n",
      "0 -1  5   9\n",
      "1  2  6 -10\n",
      "2  3  7  11\n",
      "3  4  8  12\n"
     ]
    },
    {
     "data": {
      "text/plain": "b  5  6  7  8\na -1  2  3  4",
      "text/html": "<div>\n<style scoped>\n    .dataframe tbody tr th:only-of-type {\n        vertical-align: middle;\n    }\n\n    .dataframe tbody tr th {\n        vertical-align: top;\n    }\n\n    .dataframe thead th {\n        text-align: right;\n    }\n</style>\n<table border=\"1\" class=\"dataframe\">\n  <thead>\n    <tr style=\"text-align: right;\">\n      <th>b</th>\n      <th>5</th>\n      <th>6</th>\n      <th>7</th>\n      <th>8</th>\n    </tr>\n  </thead>\n  <tbody>\n    <tr>\n      <th>a</th>\n      <td>-1</td>\n      <td>2</td>\n      <td>3</td>\n      <td>4</td>\n    </tr>\n  </tbody>\n</table>\n</div>"
     },
     "execution_count": 428,
     "metadata": {},
     "output_type": "execute_result"
    }
   ],
   "source": [
    "data = pd.DataFrame({\n",
    "    'a': [-1,2,3,4],\n",
    "    'b': [5,6,7,8],\n",
    "    'c': [9,-10,11,12]\n",
    "})\n",
    "print(\"data : \\n \", data)\n",
    "data.pivot_table('a', columns='b')"
   ],
   "metadata": {
    "collapsed": false
   }
  },
  {
   "cell_type": "code",
   "execution_count": 434,
   "outputs": [
    {
     "name": "stdout",
     "output_type": "stream",
     "text": [
      "data : \n",
      "     a  b   c\n",
      "0 -1  5   9\n",
      "1  2  6 -10\n",
      "2  3  7  11\n",
      "3  4  8  12\n"
     ]
    },
    {
     "data": {
      "text/plain": "<AxesSubplot: >"
     },
     "execution_count": 434,
     "metadata": {},
     "output_type": "execute_result"
    },
    {
     "data": {
      "text/plain": "<Figure size 640x480 with 1 Axes>",
      "image/png": "[encoded data removed]"
     },
     "metadata": {},
     "output_type": "display_data"
    }
   ],
   "source": [
    "data = pd.DataFrame({\n",
    "    'a': [-1,2,3,4],\n",
    "    'b': [5,6,7,8],\n",
    "    'c': [9,-10,11,12]\n",
    "})\n",
    "print(\"data : \\n \", data)\n",
    "data.plot()"
   ],
   "metadata": {
    "collapsed": false
   }
  },
  {
   "cell_type": "code",
   "execution_count": 438,
   "outputs": [
    {
     "name": "stdout",
     "output_type": "stream",
     "text": [
      "data : \n",
      "     a  b   c\n",
      "0 -1  5   9\n",
      "1  2  6 -10\n",
      "2  3  7  11\n",
      "3  4  8  12\n"
     ]
    },
    {
     "data": {
      "text/plain": "0   -1\n1    2\n2    3\n3    4\nName: a, dtype: int64"
     },
     "execution_count": 438,
     "metadata": {},
     "output_type": "execute_result"
    }
   ],
   "source": [
    "data = pd.DataFrame({\n",
    "    'a': [-1,2,3,4],\n",
    "    'b': [5,6,7,8],\n",
    "    'c': [9,-10,11,12]\n",
    "})\n",
    "print(\"data : \\n \", data)\n",
    "data.pop('a')"
   ],
   "metadata": {
    "collapsed": false
   }
  },
  {
   "cell_type": "code",
   "execution_count": 442,
   "outputs": [
    {
     "name": "stdout",
     "output_type": "stream",
     "text": [
      "data : \n",
      "     a  b   c\n",
      "0 -1  5   9\n",
      "1  2  6 -10\n",
      "2  3  7  11\n",
      "3  4  8  12\n"
     ]
    },
    {
     "data": {
      "text/plain": "    a   b    c\n0   1  25   81\n1   4  36  100\n2   9  49  121\n3  16  64  144",
      "text/html": "<div>\n<style scoped>\n    .dataframe tbody tr th:only-of-type {\n        vertical-align: middle;\n    }\n\n    .dataframe tbody tr th {\n        vertical-align: top;\n    }\n\n    .dataframe thead th {\n        text-align: right;\n    }\n</style>\n<table border=\"1\" class=\"dataframe\">\n  <thead>\n    <tr style=\"text-align: right;\">\n      <th></th>\n      <th>a</th>\n      <th>b</th>\n      <th>c</th>\n    </tr>\n  </thead>\n  <tbody>\n    <tr>\n      <th>0</th>\n      <td>1</td>\n      <td>25</td>\n      <td>81</td>\n    </tr>\n    <tr>\n      <th>1</th>\n      <td>4</td>\n      <td>36</td>\n      <td>100</td>\n    </tr>\n    <tr>\n      <th>2</th>\n      <td>9</td>\n      <td>49</td>\n      <td>121</td>\n    </tr>\n    <tr>\n      <th>3</th>\n      <td>16</td>\n      <td>64</td>\n      <td>144</td>\n    </tr>\n  </tbody>\n</table>\n</div>"
     },
     "execution_count": 442,
     "metadata": {},
     "output_type": "execute_result"
    }
   ],
   "source": [
    "data = pd.DataFrame({\n",
    "    'a': [-1,2,3,4],\n",
    "    'b': [5,6,7,8],\n",
    "    'c': [9,-10,11,12]\n",
    "})\n",
    "print(\"data : \\n \", data)\n",
    "data.pow(2)"
   ],
   "metadata": {
    "collapsed": false
   }
  },
  {
   "cell_type": "code",
   "execution_count": 444,
   "outputs": [
    {
     "name": "stdout",
     "output_type": "stream",
     "text": [
      "data : \n",
      "     a  b   c\n",
      "0 -1  5   9\n",
      "1  2  6 -10\n",
      "2  3  7  11\n",
      "3  4  8  12\n"
     ]
    },
    {
     "data": {
      "text/plain": "a      -24\nb     1680\nc   -11880\ndtype: int64"
     },
     "execution_count": 444,
     "metadata": {},
     "output_type": "execute_result"
    }
   ],
   "source": [
    "data = pd.DataFrame({\n",
    "    'a': [-1,2,3,4],\n",
    "    'b': [5,6,7,8],\n",
    "    'c': [9,-10,11,12]\n",
    "})\n",
    "print(\"data : \\n \", data)\n",
    "data.prod()"
   ],
   "metadata": {
    "collapsed": false
   }
  },
  {
   "cell_type": "code",
   "execution_count": 447,
   "outputs": [
    {
     "name": "stdout",
     "output_type": "stream",
     "text": [
      "data : \n",
      "     a  b   c\n",
      "0 -1  5   9\n",
      "1  2  6 -10\n",
      "2  3  7  11\n",
      "3  4  8  12\n"
     ]
    },
    {
     "data": {
      "text/plain": "a      -24\nb     1680\nc   -11880\ndtype: int64"
     },
     "execution_count": 447,
     "metadata": {},
     "output_type": "execute_result"
    }
   ],
   "source": [
    "data = pd.DataFrame({\n",
    "    'a': [-1,2,3,4],\n",
    "    'b': [5,6,7,8],\n",
    "    'c': [9,-10,11,12]\n",
    "})\n",
    "print(\"data : \\n \", data)\n",
    "data.product()"
   ],
   "metadata": {
    "collapsed": false
   }
  },
  {
   "cell_type": "code",
   "execution_count": 454,
   "outputs": [
    {
     "name": "stdout",
     "output_type": "stream",
     "text": [
      "data : \n",
      "     a  b   c\n",
      "0 -1  5   9\n",
      "1  2  6 -10\n",
      "2  3  7  11\n",
      "3  4  8  12\n"
     ]
    },
    {
     "data": {
      "text/plain": "       a    b     c\n0.1 -0.1  5.3  -4.3\n0.5  2.5  6.5  10.0",
      "text/html": "<div>\n<style scoped>\n    .dataframe tbody tr th:only-of-type {\n        vertical-align: middle;\n    }\n\n    .dataframe tbody tr th {\n        vertical-align: top;\n    }\n\n    .dataframe thead th {\n        text-align: right;\n    }\n</style>\n<table border=\"1\" class=\"dataframe\">\n  <thead>\n    <tr style=\"text-align: right;\">\n      <th></th>\n      <th>a</th>\n      <th>b</th>\n      <th>c</th>\n    </tr>\n  </thead>\n  <tbody>\n    <tr>\n      <th>0.1</th>\n      <td>-0.1</td>\n      <td>5.3</td>\n      <td>-4.3</td>\n    </tr>\n    <tr>\n      <th>0.5</th>\n      <td>2.5</td>\n      <td>6.5</td>\n      <td>10.0</td>\n    </tr>\n  </tbody>\n</table>\n</div>"
     },
     "execution_count": 454,
     "metadata": {},
     "output_type": "execute_result"
    }
   ],
   "source": [
    "data = pd.DataFrame({\n",
    "    'a': [-1,2,3,4],\n",
    "    'b': [5,6,7,8],\n",
    "    'c': [9,-10,11,12]\n",
    "})\n",
    "print(\"data : \\n \", data)\n",
    "data.quantile([.10, .50])"
   ],
   "metadata": {
    "collapsed": false
   }
  },
  {
   "cell_type": "code",
   "execution_count": 464,
   "outputs": [
    {
     "name": "stdout",
     "output_type": "stream",
     "text": [
      "data : \n",
      "     A   B  C C\n",
      "0  1  10   10\n",
      "1  2   8    9\n",
      "2  3   6    8\n",
      "3  4   4    7\n",
      "4  5   2    6\n"
     ]
    },
    {
     "data": {
      "text/plain": "   A  B  C C\n4  5  2    6",
      "text/html": "<div>\n<style scoped>\n    .dataframe tbody tr th:only-of-type {\n        vertical-align: middle;\n    }\n\n    .dataframe tbody tr th {\n        vertical-align: top;\n    }\n\n    .dataframe thead th {\n        text-align: right;\n    }\n</style>\n<table border=\"1\" class=\"dataframe\">\n  <thead>\n    <tr style=\"text-align: right;\">\n      <th></th>\n      <th>A</th>\n      <th>B</th>\n      <th>C C</th>\n    </tr>\n  </thead>\n  <tbody>\n    <tr>\n      <th>4</th>\n      <td>5</td>\n      <td>2</td>\n      <td>6</td>\n    </tr>\n  </tbody>\n</table>\n</div>"
     },
     "execution_count": 464,
     "metadata": {},
     "output_type": "execute_result"
    }
   ],
   "source": [
    "data = pd.DataFrame({'A': range(1, 6),\n",
    "                    'B': range(10, 0, -2),\n",
    "                    'C C': range(10, 5, -1)})\n",
    "print(\"data : \\n \", data)\n",
    "data.query('A > B')"
   ],
   "metadata": {
    "collapsed": false
   }
  },
  {
   "cell_type": "code",
   "execution_count": 472,
   "outputs": [
    {
     "name": "stdout",
     "output_type": "stream",
     "text": [
      "data : \n",
      "     a  b   c\n",
      "0 -1  5   9\n",
      "1  2  6 -10\n",
      "2  3  7  11\n",
      "3  4  8  12\n",
      "other : \n",
      "      x\n",
      "0  10\n",
      "1  20\n",
      "2  30\n",
      "3  40\n"
     ]
    },
    {
     "data": {
      "text/plain": "    a   b   c   x\n0 NaN NaN NaN NaN\n1 NaN NaN NaN NaN\n2 NaN NaN NaN NaN\n3 NaN NaN NaN NaN",
      "text/html": "<div>\n<style scoped>\n    .dataframe tbody tr th:only-of-type {\n        vertical-align: middle;\n    }\n\n    .dataframe tbody tr th {\n        vertical-align: top;\n    }\n\n    .dataframe thead th {\n        text-align: right;\n    }\n</style>\n<table border=\"1\" class=\"dataframe\">\n  <thead>\n    <tr style=\"text-align: right;\">\n      <th></th>\n      <th>a</th>\n      <th>b</th>\n      <th>c</th>\n      <th>x</th>\n    </tr>\n  </thead>\n  <tbody>\n    <tr>\n      <th>0</th>\n      <td>NaN</td>\n      <td>NaN</td>\n      <td>NaN</td>\n      <td>NaN</td>\n    </tr>\n    <tr>\n      <th>1</th>\n      <td>NaN</td>\n      <td>NaN</td>\n      <td>NaN</td>\n      <td>NaN</td>\n    </tr>\n    <tr>\n      <th>2</th>\n      <td>NaN</td>\n      <td>NaN</td>\n      <td>NaN</td>\n      <td>NaN</td>\n    </tr>\n    <tr>\n      <th>3</th>\n      <td>NaN</td>\n      <td>NaN</td>\n      <td>NaN</td>\n      <td>NaN</td>\n    </tr>\n  </tbody>\n</table>\n</div>"
     },
     "execution_count": 472,
     "metadata": {},
     "output_type": "execute_result"
    }
   ],
   "source": [
    "data = pd.DataFrame({\n",
    "    'a': [-1,2,3,4],\n",
    "    'b': [5,6,7,8],\n",
    "    'c': [9,-10,11,12]\n",
    "})\n",
    "other = pd.DataFrame({'x': [10, 20, 30, 40]})\n",
    "print(\"data : \\n \", data)\n",
    "print(\"other : \\n \", other)\n",
    "data.radd(other)"
   ],
   "metadata": {
    "collapsed": false
   }
  },
  {
   "cell_type": "code",
   "execution_count": 474,
   "outputs": [
    {
     "name": "stdout",
     "output_type": "stream",
     "text": [
      "data : \n",
      "     a  b   c\n",
      "0 -1  5   9\n",
      "1  2  6 -10\n",
      "2  3  7  11\n",
      "3  4  8  12\n"
     ]
    },
    {
     "data": {
      "text/plain": "     a    b    c\n0  1.0  1.0  2.0\n1  2.0  2.0  1.0\n2  3.0  3.0  3.0\n3  4.0  4.0  4.0",
      "text/html": "<div>\n<style scoped>\n    .dataframe tbody tr th:only-of-type {\n        vertical-align: middle;\n    }\n\n    .dataframe tbody tr th {\n        vertical-align: top;\n    }\n\n    .dataframe thead th {\n        text-align: right;\n    }\n</style>\n<table border=\"1\" class=\"dataframe\">\n  <thead>\n    <tr style=\"text-align: right;\">\n      <th></th>\n      <th>a</th>\n      <th>b</th>\n      <th>c</th>\n    </tr>\n  </thead>\n  <tbody>\n    <tr>\n      <th>0</th>\n      <td>1.0</td>\n      <td>1.0</td>\n      <td>2.0</td>\n    </tr>\n    <tr>\n      <th>1</th>\n      <td>2.0</td>\n      <td>2.0</td>\n      <td>1.0</td>\n    </tr>\n    <tr>\n      <th>2</th>\n      <td>3.0</td>\n      <td>3.0</td>\n      <td>3.0</td>\n    </tr>\n    <tr>\n      <th>3</th>\n      <td>4.0</td>\n      <td>4.0</td>\n      <td>4.0</td>\n    </tr>\n  </tbody>\n</table>\n</div>"
     },
     "execution_count": 474,
     "metadata": {},
     "output_type": "execute_result"
    }
   ],
   "source": [
    "data = pd.DataFrame({\n",
    "    'a': [-1,2,3,4],\n",
    "    'b': [5,6,7,8],\n",
    "    'c': [9,-10,11,12]\n",
    "})\n",
    "print(\"data : \\n \", data)\n",
    "data.rank()"
   ],
   "metadata": {
    "collapsed": false
   }
  },
  {
   "cell_type": "code",
   "execution_count": 479,
   "outputs": [
    {
     "name": "stdout",
     "output_type": "stream",
     "text": [
      "data : \n",
      "     a  b   c\n",
      "0 -1  5   9\n",
      "1  2  6 -10\n",
      "2  3  7  11\n",
      "3  4  8  12\n"
     ]
    },
    {
     "data": {
      "text/plain": "           a         b         c\n0 -10.000000  2.000000  1.111111\n1   5.000000  1.666667 -1.000000\n2   3.333333  1.428571  0.909091\n3   2.500000  1.250000  0.833333",
      "text/html": "<div>\n<style scoped>\n    .dataframe tbody tr th:only-of-type {\n        vertical-align: middle;\n    }\n\n    .dataframe tbody tr th {\n        vertical-align: top;\n    }\n\n    .dataframe thead th {\n        text-align: right;\n    }\n</style>\n<table border=\"1\" class=\"dataframe\">\n  <thead>\n    <tr style=\"text-align: right;\">\n      <th></th>\n      <th>a</th>\n      <th>b</th>\n      <th>c</th>\n    </tr>\n  </thead>\n  <tbody>\n    <tr>\n      <th>0</th>\n      <td>-10.000000</td>\n      <td>2.000000</td>\n      <td>1.111111</td>\n    </tr>\n    <tr>\n      <th>1</th>\n      <td>5.000000</td>\n      <td>1.666667</td>\n      <td>-1.000000</td>\n    </tr>\n    <tr>\n      <th>2</th>\n      <td>3.333333</td>\n      <td>1.428571</td>\n      <td>0.909091</td>\n    </tr>\n    <tr>\n      <th>3</th>\n      <td>2.500000</td>\n      <td>1.250000</td>\n      <td>0.833333</td>\n    </tr>\n  </tbody>\n</table>\n</div>"
     },
     "execution_count": 479,
     "metadata": {},
     "output_type": "execute_result"
    }
   ],
   "source": [
    "data = pd.DataFrame({\n",
    "    'a': [-1,2,3,4],\n",
    "    'b': [5,6,7,8],\n",
    "    'c': [9,-10,11,12]\n",
    "})\n",
    "print(\"data : \\n \", data)\n",
    "data.rdiv(10)"
   ],
   "metadata": {
    "collapsed": false
   }
  },
  {
   "cell_type": "code",
   "execution_count": 482,
   "outputs": [
    {
     "name": "stdout",
     "output_type": "stream",
     "text": [
      "data : \n",
      "     a  b   c\n",
      "0 -1  5   9\n",
      "1  2  6 -10\n",
      "2  3  7  11\n",
      "3  4  8  12\n"
     ]
    },
    {
     "data": {
      "text/plain": "        a   b   c\nzero  NaN NaN NaN\none   NaN NaN NaN\ntwo   NaN NaN NaN\nthree NaN NaN NaN",
      "text/html": "<div>\n<style scoped>\n    .dataframe tbody tr th:only-of-type {\n        vertical-align: middle;\n    }\n\n    .dataframe tbody tr th {\n        vertical-align: top;\n    }\n\n    .dataframe thead th {\n        text-align: right;\n    }\n</style>\n<table border=\"1\" class=\"dataframe\">\n  <thead>\n    <tr style=\"text-align: right;\">\n      <th></th>\n      <th>a</th>\n      <th>b</th>\n      <th>c</th>\n    </tr>\n  </thead>\n  <tbody>\n    <tr>\n      <th>zero</th>\n      <td>NaN</td>\n      <td>NaN</td>\n      <td>NaN</td>\n    </tr>\n    <tr>\n      <th>one</th>\n      <td>NaN</td>\n      <td>NaN</td>\n      <td>NaN</td>\n    </tr>\n    <tr>\n      <th>two</th>\n      <td>NaN</td>\n      <td>NaN</td>\n      <td>NaN</td>\n    </tr>\n    <tr>\n      <th>three</th>\n      <td>NaN</td>\n      <td>NaN</td>\n      <td>NaN</td>\n    </tr>\n  </tbody>\n</table>\n</div>"
     },
     "execution_count": 482,
     "metadata": {},
     "output_type": "execute_result"
    }
   ],
   "source": [
    "data = pd.DataFrame({\n",
    "    'a': [-1,2,3,4],\n",
    "    'b': [5,6,7,8],\n",
    "    'c': [9,-10,11,12]\n",
    "})\n",
    "print(\"data : \\n \", data)\n",
    "data.reindex(['zero', 'one', 'two', 'three'])"
   ],
   "metadata": {
    "collapsed": false
   }
  },
  {
   "cell_type": "code",
   "execution_count": 490,
   "outputs": [
    {
     "name": "stdout",
     "output_type": "stream",
     "text": [
      "data : \n",
      "     a  b   c\n",
      "0 -1  5   9\n",
      "1  2  6 -10\n",
      "2  3  7  11\n",
      "3  4  8  12\n",
      "other : \n",
      "           a\n",
      "zero   100\n",
      "one    200\n",
      "two    300\n",
      "three  400\n"
     ]
    },
    {
     "data": {
      "text/plain": "        a\nzero  NaN\none   NaN\ntwo   NaN\nthree NaN",
      "text/html": "<div>\n<style scoped>\n    .dataframe tbody tr th:only-of-type {\n        vertical-align: middle;\n    }\n\n    .dataframe tbody tr th {\n        vertical-align: top;\n    }\n\n    .dataframe thead th {\n        text-align: right;\n    }\n</style>\n<table border=\"1\" class=\"dataframe\">\n  <thead>\n    <tr style=\"text-align: right;\">\n      <th></th>\n      <th>a</th>\n    </tr>\n  </thead>\n  <tbody>\n    <tr>\n      <th>zero</th>\n      <td>NaN</td>\n    </tr>\n    <tr>\n      <th>one</th>\n      <td>NaN</td>\n    </tr>\n    <tr>\n      <th>two</th>\n      <td>NaN</td>\n    </tr>\n    <tr>\n      <th>three</th>\n      <td>NaN</td>\n    </tr>\n  </tbody>\n</table>\n</div>"
     },
     "execution_count": 490,
     "metadata": {},
     "output_type": "execute_result"
    }
   ],
   "source": [
    "data = pd.DataFrame({\n",
    "    'a': [-1,2,3,4],\n",
    "    'b': [5,6,7,8],\n",
    "    'c': [9,-10,11,12]\n",
    "})\n",
    "other = pd.DataFrame({'a': [100, 200, 300, 400]}, index=['zero', 'one', 'two', 'three'])\n",
    "print(\"data : \\n \", data)\n",
    "print(\"other : \\n \", other)\n",
    "data.reindex_like(other)"
   ],
   "metadata": {
    "collapsed": false
   }
  },
  {
   "cell_type": "code",
   "execution_count": 493,
   "outputs": [
    {
     "name": "stdout",
     "output_type": "stream",
     "text": [
      "data : \n",
      "     a  b   c\n",
      "0 -1  5   9\n",
      "1  2  6 -10\n",
      "2  3  7  11\n",
      "3  4  8  12\n"
     ]
    },
    {
     "data": {
      "text/plain": "   first  second  third\n0     -1       5      9\n1      2       6    -10\n2      3       7     11\n3      4       8     12",
      "text/html": "<div>\n<style scoped>\n    .dataframe tbody tr th:only-of-type {\n        vertical-align: middle;\n    }\n\n    .dataframe tbody tr th {\n        vertical-align: top;\n    }\n\n    .dataframe thead th {\n        text-align: right;\n    }\n</style>\n<table border=\"1\" class=\"dataframe\">\n  <thead>\n    <tr style=\"text-align: right;\">\n      <th></th>\n      <th>first</th>\n      <th>second</th>\n      <th>third</th>\n    </tr>\n  </thead>\n  <tbody>\n    <tr>\n      <th>0</th>\n      <td>-1</td>\n      <td>5</td>\n      <td>9</td>\n    </tr>\n    <tr>\n      <th>1</th>\n      <td>2</td>\n      <td>6</td>\n      <td>-10</td>\n    </tr>\n    <tr>\n      <th>2</th>\n      <td>3</td>\n      <td>7</td>\n      <td>11</td>\n    </tr>\n    <tr>\n      <th>3</th>\n      <td>4</td>\n      <td>8</td>\n      <td>12</td>\n    </tr>\n  </tbody>\n</table>\n</div>"
     },
     "execution_count": 493,
     "metadata": {},
     "output_type": "execute_result"
    }
   ],
   "source": [
    "data = pd.DataFrame({\n",
    "    'a': [-1,2,3,4],\n",
    "    'b': [5,6,7,8],\n",
    "    'c': [9,-10,11,12]\n",
    "})\n",
    "print(\"data : \\n \", data)\n",
    "data.rename(columns={'a' :'first', 'b': 'second', 'c': 'third'})"
   ],
   "metadata": {
    "collapsed": false
   }
  },
  {
   "cell_type": "code",
   "execution_count": 498,
   "outputs": [
    {
     "name": "stdout",
     "output_type": "stream",
     "text": [
      "data : \n",
      "     a  b   c\n",
      "0 -1  5   9\n",
      "1  2  6 -10\n",
      "2  3  7  11\n",
      "3  4  8  12\n"
     ]
    },
    {
     "data": {
      "text/plain": "               a  b   c\nnew axis name          \n0             -1  5   9\n1              2  6 -10\n2              3  7  11\n3              4  8  12",
      "text/html": "<div>\n<style scoped>\n    .dataframe tbody tr th:only-of-type {\n        vertical-align: middle;\n    }\n\n    .dataframe tbody tr th {\n        vertical-align: top;\n    }\n\n    .dataframe thead th {\n        text-align: right;\n    }\n</style>\n<table border=\"1\" class=\"dataframe\">\n  <thead>\n    <tr style=\"text-align: right;\">\n      <th></th>\n      <th>a</th>\n      <th>b</th>\n      <th>c</th>\n    </tr>\n    <tr>\n      <th>new axis name</th>\n      <th></th>\n      <th></th>\n      <th></th>\n    </tr>\n  </thead>\n  <tbody>\n    <tr>\n      <th>0</th>\n      <td>-1</td>\n      <td>5</td>\n      <td>9</td>\n    </tr>\n    <tr>\n      <th>1</th>\n      <td>2</td>\n      <td>6</td>\n      <td>-10</td>\n    </tr>\n    <tr>\n      <th>2</th>\n      <td>3</td>\n      <td>7</td>\n      <td>11</td>\n    </tr>\n    <tr>\n      <th>3</th>\n      <td>4</td>\n      <td>8</td>\n      <td>12</td>\n    </tr>\n  </tbody>\n</table>\n</div>"
     },
     "execution_count": 498,
     "metadata": {},
     "output_type": "execute_result"
    }
   ],
   "source": [
    "data = pd.DataFrame({\n",
    "    'a': [-1,2,3,4],\n",
    "    'b': [5,6,7,8],\n",
    "    'c': [9,-10,11,12]\n",
    "})\n",
    "print(\"data : \\n \", data)\n",
    "data.rename_axis(\"new axis name\")"
   ],
   "metadata": {
    "collapsed": false
   }
  },
  {
   "cell_type": "code",
   "execution_count": 504,
   "outputs": [
    {
     "name": "stdout",
     "output_type": "stream",
     "text": [
      "data : \n",
      "                    species\n",
      "class    diet             \n",
      "Mammals  Omnivore   Humans\n",
      "         Carnivore    Dogs\n",
      "Reptiles Carnivore  Snakes\n"
     ]
    },
    {
     "data": {
      "text/plain": "                   species\ndiet      class           \nOmnivore  Mammals   Humans\nCarnivore Mammals     Dogs\n          Reptiles  Snakes",
      "text/html": "<div>\n<style scoped>\n    .dataframe tbody tr th:only-of-type {\n        vertical-align: middle;\n    }\n\n    .dataframe tbody tr th {\n        vertical-align: top;\n    }\n\n    .dataframe thead th {\n        text-align: right;\n    }\n</style>\n<table border=\"1\" class=\"dataframe\">\n  <thead>\n    <tr style=\"text-align: right;\">\n      <th></th>\n      <th></th>\n      <th>species</th>\n    </tr>\n    <tr>\n      <th>diet</th>\n      <th>class</th>\n      <th></th>\n    </tr>\n  </thead>\n  <tbody>\n    <tr>\n      <th>Omnivore</th>\n      <th>Mammals</th>\n      <td>Humans</td>\n    </tr>\n    <tr>\n      <th rowspan=\"2\" valign=\"top\">Carnivore</th>\n      <th>Mammals</th>\n      <td>Dogs</td>\n    </tr>\n    <tr>\n      <th>Reptiles</th>\n      <td>Snakes</td>\n    </tr>\n  </tbody>\n</table>\n</div>"
     },
     "execution_count": 504,
     "metadata": {},
     "output_type": "execute_result"
    }
   ],
   "source": [
    "data = {\n",
    "    \"class\": [\"Mammals\", \"Mammals\", \"Reptiles\"],\n",
    "    \"diet\": [\"Omnivore\", \"Carnivore\", \"Carnivore\"],\n",
    "    \"species\": [\"Humans\", \"Dogs\", \"Snakes\"],\n",
    "}\n",
    "df = pd.DataFrame(data, columns=[\"class\", \"diet\", \"species\"])\n",
    "df = df.set_index([\"class\", \"diet\"])\n",
    "print(\"data : \\n\", df)\n",
    "df.reorder_levels([\"diet\", \"class\"])\n"
   ],
   "metadata": {
    "collapsed": false
   }
  },
  {
   "cell_type": "code",
   "execution_count": 507,
   "outputs": [
    {
     "name": "stdout",
     "output_type": "stream",
     "text": [
      "data : \n",
      "     a  b   c\n",
      "0 -1  5   9\n",
      "1  2  6 -10\n",
      "2  3  7  11\n",
      "3  4  8  12\n"
     ]
    },
    {
     "data": {
      "text/plain": "   a    b   c\n0 -1  100   9\n1  2  100 -10\n2  3  100  11\n3  4    8  12",
      "text/html": "<div>\n<style scoped>\n    .dataframe tbody tr th:only-of-type {\n        vertical-align: middle;\n    }\n\n    .dataframe tbody tr th {\n        vertical-align: top;\n    }\n\n    .dataframe thead th {\n        text-align: right;\n    }\n</style>\n<table border=\"1\" class=\"dataframe\">\n  <thead>\n    <tr style=\"text-align: right;\">\n      <th></th>\n      <th>a</th>\n      <th>b</th>\n      <th>c</th>\n    </tr>\n  </thead>\n  <tbody>\n    <tr>\n      <th>0</th>\n      <td>-1</td>\n      <td>100</td>\n      <td>9</td>\n    </tr>\n    <tr>\n      <th>1</th>\n      <td>2</td>\n      <td>100</td>\n      <td>-10</td>\n    </tr>\n    <tr>\n      <th>2</th>\n      <td>3</td>\n      <td>100</td>\n      <td>11</td>\n    </tr>\n    <tr>\n      <th>3</th>\n      <td>4</td>\n      <td>8</td>\n      <td>12</td>\n    </tr>\n  </tbody>\n</table>\n</div>"
     },
     "execution_count": 507,
     "metadata": {},
     "output_type": "execute_result"
    }
   ],
   "source": [
    "data = pd.DataFrame({\n",
    "    'a': [-1,2,3,4],\n",
    "    'b': [5,6,7,8],\n",
    "    'c': [9,-10,11,12]\n",
    "})\n",
    "print(\"data : \\n \", data)\n",
    "data.replace([5,6,7], 100)"
   ],
   "metadata": {
    "collapsed": false
   }
  },
  {
   "cell_type": "code",
   "execution_count": 513,
   "outputs": [
    {
     "data": {
      "text/plain": "2000-01-01 00:00:00     3\n2000-01-01 00:03:00    12\n2000-01-01 00:06:00    21\nFreq: 3T, dtype: int64"
     },
     "execution_count": 513,
     "metadata": {},
     "output_type": "execute_result"
    }
   ],
   "source": [
    "index = pd.date_range('1/1/2000', periods=9, freq='T')\n",
    "series = pd.Series(range(9), index=index)\n",
    "series.resample('3T').sum()"
   ],
   "metadata": {
    "collapsed": false
   }
  },
  {
   "cell_type": "code",
   "execution_count": 518,
   "outputs": [
    {
     "name": "stdout",
     "output_type": "stream",
     "text": [
      "data : \n",
      "     a  b   c\n",
      "0 -1  5   9\n",
      "1  2  6 -10\n",
      "2  3  7  11\n",
      "3  4  8  12\n"
     ]
    },
    {
     "data": {
      "text/plain": "   index  a  b   c\n0      0 -1  5   9\n1      1  2  6 -10\n2      2  3  7  11\n3      3  4  8  12",
      "text/html": "<div>\n<style scoped>\n    .dataframe tbody tr th:only-of-type {\n        vertical-align: middle;\n    }\n\n    .dataframe tbody tr th {\n        vertical-align: top;\n    }\n\n    .dataframe thead th {\n        text-align: right;\n    }\n</style>\n<table border=\"1\" class=\"dataframe\">\n  <thead>\n    <tr style=\"text-align: right;\">\n      <th></th>\n      <th>index</th>\n      <th>a</th>\n      <th>b</th>\n      <th>c</th>\n    </tr>\n  </thead>\n  <tbody>\n    <tr>\n      <th>0</th>\n      <td>0</td>\n      <td>-1</td>\n      <td>5</td>\n      <td>9</td>\n    </tr>\n    <tr>\n      <th>1</th>\n      <td>1</td>\n      <td>2</td>\n      <td>6</td>\n      <td>-10</td>\n    </tr>\n    <tr>\n      <th>2</th>\n      <td>2</td>\n      <td>3</td>\n      <td>7</td>\n      <td>11</td>\n    </tr>\n    <tr>\n      <th>3</th>\n      <td>3</td>\n      <td>4</td>\n      <td>8</td>\n      <td>12</td>\n    </tr>\n  </tbody>\n</table>\n</div>"
     },
     "execution_count": 518,
     "metadata": {},
     "output_type": "execute_result"
    }
   ],
   "source": [
    "data = pd.DataFrame({\n",
    "    'a': [-1,2,3,4],\n",
    "    'b': [5,6,7,8],\n",
    "    'c': [9,-10,11,12]\n",
    "})\n",
    "print(\"data : \\n \", data)\n",
    "data.reset_index()"
   ],
   "metadata": {
    "collapsed": false
   }
  },
  {
   "cell_type": "code",
   "execution_count": 529,
   "outputs": [
    {
     "name": "stdout",
     "output_type": "stream",
     "text": [
      "data : \n",
      "     a  b   c\n",
      "0 -1  5   9\n",
      "1  2  6 -10\n",
      "2  3  7  11\n",
      "3  4  8  12\n"
     ]
    },
    {
     "data": {
      "text/plain": "    a  b  c\n0 -10  2  1\n1   5  1 -1\n2   3  1  0\n3   2  1  0",
      "text/html": "<div>\n<style scoped>\n    .dataframe tbody tr th:only-of-type {\n        vertical-align: middle;\n    }\n\n    .dataframe tbody tr th {\n        vertical-align: top;\n    }\n\n    .dataframe thead th {\n        text-align: right;\n    }\n</style>\n<table border=\"1\" class=\"dataframe\">\n  <thead>\n    <tr style=\"text-align: right;\">\n      <th></th>\n      <th>a</th>\n      <th>b</th>\n      <th>c</th>\n    </tr>\n  </thead>\n  <tbody>\n    <tr>\n      <th>0</th>\n      <td>-10</td>\n      <td>2</td>\n      <td>1</td>\n    </tr>\n    <tr>\n      <th>1</th>\n      <td>5</td>\n      <td>1</td>\n      <td>-1</td>\n    </tr>\n    <tr>\n      <th>2</th>\n      <td>3</td>\n      <td>1</td>\n      <td>0</td>\n    </tr>\n    <tr>\n      <th>3</th>\n      <td>2</td>\n      <td>1</td>\n      <td>0</td>\n    </tr>\n  </tbody>\n</table>\n</div>"
     },
     "execution_count": 529,
     "metadata": {},
     "output_type": "execute_result"
    }
   ],
   "source": [
    "data = pd.DataFrame({\n",
    "    'a': [-1,2,3,4],\n",
    "    'b': [5,6,7,8],\n",
    "    'c': [9,-10,11,12]\n",
    "})\n",
    "print(\"data : \\n \", data)\n",
    "data.rfloordiv(10)"
   ],
   "metadata": {
    "collapsed": false
   }
  },
  {
   "cell_type": "code",
   "execution_count": 531,
   "outputs": [
    {
     "name": "stdout",
     "output_type": "stream",
     "text": [
      "data : \n",
      "     a  b   c\n",
      "0 -1  5   9\n",
      "1  2  6 -10\n",
      "2  3  7  11\n",
      "3  4  8  12\n"
     ]
    },
    {
     "data": {
      "text/plain": "   a  b   c\n0  0  0   1\n1  0  4   0\n2  1  3  10\n3  2  2  10",
      "text/html": "<div>\n<style scoped>\n    .dataframe tbody tr th:only-of-type {\n        vertical-align: middle;\n    }\n\n    .dataframe tbody tr th {\n        vertical-align: top;\n    }\n\n    .dataframe thead th {\n        text-align: right;\n    }\n</style>\n<table border=\"1\" class=\"dataframe\">\n  <thead>\n    <tr style=\"text-align: right;\">\n      <th></th>\n      <th>a</th>\n      <th>b</th>\n      <th>c</th>\n    </tr>\n  </thead>\n  <tbody>\n    <tr>\n      <th>0</th>\n      <td>0</td>\n      <td>0</td>\n      <td>1</td>\n    </tr>\n    <tr>\n      <th>1</th>\n      <td>0</td>\n      <td>4</td>\n      <td>0</td>\n    </tr>\n    <tr>\n      <th>2</th>\n      <td>1</td>\n      <td>3</td>\n      <td>10</td>\n    </tr>\n    <tr>\n      <th>3</th>\n      <td>2</td>\n      <td>2</td>\n      <td>10</td>\n    </tr>\n  </tbody>\n</table>\n</div>"
     },
     "execution_count": 531,
     "metadata": {},
     "output_type": "execute_result"
    }
   ],
   "source": [
    "data = pd.DataFrame({\n",
    "    'a': [-1,2,3,4],\n",
    "    'b': [5,6,7,8],\n",
    "    'c': [9,-10,11,12]\n",
    "})\n",
    "print(\"data : \\n \", data)\n",
    "data.rmod(10)"
   ],
   "metadata": {
    "collapsed": false
   }
  },
  {
   "cell_type": "code",
   "execution_count": 532,
   "outputs": [
    {
     "name": "stdout",
     "output_type": "stream",
     "text": [
      "data : \n",
      "     a  b   c\n",
      "0 -1  5   9\n",
      "1  2  6 -10\n",
      "2  3  7  11\n",
      "3  4  8  12\n"
     ]
    },
    {
     "data": {
      "text/plain": "    a   b    c\n0 -10  50   90\n1  20  60 -100\n2  30  70  110\n3  40  80  120",
      "text/html": "<div>\n<style scoped>\n    .dataframe tbody tr th:only-of-type {\n        vertical-align: middle;\n    }\n\n    .dataframe tbody tr th {\n        vertical-align: top;\n    }\n\n    .dataframe thead th {\n        text-align: right;\n    }\n</style>\n<table border=\"1\" class=\"dataframe\">\n  <thead>\n    <tr style=\"text-align: right;\">\n      <th></th>\n      <th>a</th>\n      <th>b</th>\n      <th>c</th>\n    </tr>\n  </thead>\n  <tbody>\n    <tr>\n      <th>0</th>\n      <td>-10</td>\n      <td>50</td>\n      <td>90</td>\n    </tr>\n    <tr>\n      <th>1</th>\n      <td>20</td>\n      <td>60</td>\n      <td>-100</td>\n    </tr>\n    <tr>\n      <th>2</th>\n      <td>30</td>\n      <td>70</td>\n      <td>110</td>\n    </tr>\n    <tr>\n      <th>3</th>\n      <td>40</td>\n      <td>80</td>\n      <td>120</td>\n    </tr>\n  </tbody>\n</table>\n</div>"
     },
     "execution_count": 532,
     "metadata": {},
     "output_type": "execute_result"
    }
   ],
   "source": [
    "data = pd.DataFrame({\n",
    "    'a': [-1,2,3,4],\n",
    "    'b': [5,6,7,8],\n",
    "    'c': [9,-10,11,12]\n",
    "})\n",
    "print(\"data : \\n \", data)\n",
    "data.rmul(10)"
   ],
   "metadata": {
    "collapsed": false
   }
  },
  {
   "cell_type": "code",
   "execution_count": 536,
   "outputs": [
    {
     "name": "stdout",
     "output_type": "stream",
     "text": [
      "data : \n",
      "     a  b   c\n",
      "0 -1  5   9\n",
      "1  2  6 -10\n",
      "2  3  7  11\n",
      "3  4  8  12\n"
     ]
    },
    {
     "data": {
      "text/plain": "     a     b     c\n0  NaN   NaN   NaN\n1  1.0  11.0  -1.0\n2  5.0  13.0   1.0\n3  7.0  15.0  23.0",
      "text/html": "<div>\n<style scoped>\n    .dataframe tbody tr th:only-of-type {\n        vertical-align: middle;\n    }\n\n    .dataframe tbody tr th {\n        vertical-align: top;\n    }\n\n    .dataframe thead th {\n        text-align: right;\n    }\n</style>\n<table border=\"1\" class=\"dataframe\">\n  <thead>\n    <tr style=\"text-align: right;\">\n      <th></th>\n      <th>a</th>\n      <th>b</th>\n      <th>c</th>\n    </tr>\n  </thead>\n  <tbody>\n    <tr>\n      <th>0</th>\n      <td>NaN</td>\n      <td>NaN</td>\n      <td>NaN</td>\n    </tr>\n    <tr>\n      <th>1</th>\n      <td>1.0</td>\n      <td>11.0</td>\n      <td>-1.0</td>\n    </tr>\n    <tr>\n      <th>2</th>\n      <td>5.0</td>\n      <td>13.0</td>\n      <td>1.0</td>\n    </tr>\n    <tr>\n      <th>3</th>\n      <td>7.0</td>\n      <td>15.0</td>\n      <td>23.0</td>\n    </tr>\n  </tbody>\n</table>\n</div>"
     },
     "execution_count": 536,
     "metadata": {},
     "output_type": "execute_result"
    }
   ],
   "source": [
    "data = pd.DataFrame({\n",
    "    'a': [-1,2,3,4],\n",
    "    'b': [5,6,7,8],\n",
    "    'c': [9,-10,11,12]\n",
    "})\n",
    "print(\"data : \\n \", data)\n",
    "data.rolling(2).sum()"
   ],
   "metadata": {
    "collapsed": false
   }
  },
  {
   "cell_type": "code",
   "execution_count": 544,
   "outputs": [
    {
     "name": "stdout",
     "output_type": "stream",
     "text": [
      "data : \n",
      "          a  b        c\n",
      "0 -1.3870  5   9.0000\n",
      "1  2.2390  6 -10.0000\n",
      "2  3.3434  7  11.5834\n",
      "3  4.0000  8  12.0000\n"
     ]
    },
    {
     "data": {
      "text/plain": "      a  b      c\n0 -1.39  5   9.00\n1  2.24  6 -10.00\n2  3.34  7  11.58\n3  4.00  8  12.00",
      "text/html": "<div>\n<style scoped>\n    .dataframe tbody tr th:only-of-type {\n        vertical-align: middle;\n    }\n\n    .dataframe tbody tr th {\n        vertical-align: top;\n    }\n\n    .dataframe thead th {\n        text-align: right;\n    }\n</style>\n<table border=\"1\" class=\"dataframe\">\n  <thead>\n    <tr style=\"text-align: right;\">\n      <th></th>\n      <th>a</th>\n      <th>b</th>\n      <th>c</th>\n    </tr>\n  </thead>\n  <tbody>\n    <tr>\n      <th>0</th>\n      <td>-1.39</td>\n      <td>5</td>\n      <td>9.00</td>\n    </tr>\n    <tr>\n      <th>1</th>\n      <td>2.24</td>\n      <td>6</td>\n      <td>-10.00</td>\n    </tr>\n    <tr>\n      <th>2</th>\n      <td>3.34</td>\n      <td>7</td>\n      <td>11.58</td>\n    </tr>\n    <tr>\n      <th>3</th>\n      <td>4.00</td>\n      <td>8</td>\n      <td>12.00</td>\n    </tr>\n  </tbody>\n</table>\n</div>"
     },
     "execution_count": 544,
     "metadata": {},
     "output_type": "execute_result"
    }
   ],
   "source": [
    "data = pd.DataFrame({\n",
    "    'a': [-1.387,2.239,3.3434,4],\n",
    "    'b': [5,6,7,8],\n",
    "    'c': [9,-10,11.5834,12]\n",
    "})\n",
    "print(\"data : \\n \", data)\n",
    "data.round(2)"
   ],
   "metadata": {
    "collapsed": false
   }
  },
  {
   "cell_type": "code",
   "execution_count": 549,
   "outputs": [
    {
     "name": "stdout",
     "output_type": "stream",
     "text": [
      "data : \n",
      "     a  b   c\n",
      "0  1  5   9\n",
      "1  2  6  10\n",
      "2  3  7  11\n",
      "3  4  8  12\n"
     ]
    },
    {
     "data": {
      "text/plain": "    a    b     c\n0   2   32   512\n1   4   64  1024\n2   8  128  2048\n3  16  256  4096",
      "text/html": "<div>\n<style scoped>\n    .dataframe tbody tr th:only-of-type {\n        vertical-align: middle;\n    }\n\n    .dataframe tbody tr th {\n        vertical-align: top;\n    }\n\n    .dataframe thead th {\n        text-align: right;\n    }\n</style>\n<table border=\"1\" class=\"dataframe\">\n  <thead>\n    <tr style=\"text-align: right;\">\n      <th></th>\n      <th>a</th>\n      <th>b</th>\n      <th>c</th>\n    </tr>\n  </thead>\n  <tbody>\n    <tr>\n      <th>0</th>\n      <td>2</td>\n      <td>32</td>\n      <td>512</td>\n    </tr>\n    <tr>\n      <th>1</th>\n      <td>4</td>\n      <td>64</td>\n      <td>1024</td>\n    </tr>\n    <tr>\n      <th>2</th>\n      <td>8</td>\n      <td>128</td>\n      <td>2048</td>\n    </tr>\n    <tr>\n      <th>3</th>\n      <td>16</td>\n      <td>256</td>\n      <td>4096</td>\n    </tr>\n  </tbody>\n</table>\n</div>"
     },
     "execution_count": 549,
     "metadata": {},
     "output_type": "execute_result"
    }
   ],
   "source": [
    "data = pd.DataFrame({\n",
    "    'a': [1,2,3,4],\n",
    "    'b': [5,6,7,8],\n",
    "    'c': [9,10,11,12]\n",
    "})\n",
    "print(\"data : \\n \", data)\n",
    "data.rpow(2)"
   ],
   "metadata": {
    "collapsed": false
   }
  },
  {
   "cell_type": "code",
   "execution_count": 551,
   "outputs": [
    {
     "name": "stdout",
     "output_type": "stream",
     "text": [
      "data : \n",
      "     a  b   c\n",
      "0 -1  5   9\n",
      "1  2  6 -10\n",
      "2  3  7  11\n",
      "3  4  8  12\n"
     ]
    },
    {
     "data": {
      "text/plain": "   a  b   c\n0  3 -3  -7\n1  0 -4  12\n2 -1 -5  -9\n3 -2 -6 -10",
      "text/html": "<div>\n<style scoped>\n    .dataframe tbody tr th:only-of-type {\n        vertical-align: middle;\n    }\n\n    .dataframe tbody tr th {\n        vertical-align: top;\n    }\n\n    .dataframe thead th {\n        text-align: right;\n    }\n</style>\n<table border=\"1\" class=\"dataframe\">\n  <thead>\n    <tr style=\"text-align: right;\">\n      <th></th>\n      <th>a</th>\n      <th>b</th>\n      <th>c</th>\n    </tr>\n  </thead>\n  <tbody>\n    <tr>\n      <th>0</th>\n      <td>3</td>\n      <td>-3</td>\n      <td>-7</td>\n    </tr>\n    <tr>\n      <th>1</th>\n      <td>0</td>\n      <td>-4</td>\n      <td>12</td>\n    </tr>\n    <tr>\n      <th>2</th>\n      <td>-1</td>\n      <td>-5</td>\n      <td>-9</td>\n    </tr>\n    <tr>\n      <th>3</th>\n      <td>-2</td>\n      <td>-6</td>\n      <td>-10</td>\n    </tr>\n  </tbody>\n</table>\n</div>"
     },
     "execution_count": 551,
     "metadata": {},
     "output_type": "execute_result"
    }
   ],
   "source": [
    "data = pd.DataFrame({\n",
    "    'a': [-1,2,3,4],\n",
    "    'b': [5,6,7,8],\n",
    "    'c': [9,-10,11,12]\n",
    "})\n",
    "print(\"data : \\n \", data)\n",
    "data.rsub(2)"
   ],
   "metadata": {
    "collapsed": false
   }
  },
  {
   "cell_type": "code",
   "execution_count": 2,
   "outputs": [
    {
     "name": "stdout",
     "output_type": "stream",
     "text": [
      "data : \n",
      "     a  b   c\n",
      "0 -1  5   9\n",
      "1  2  6 -10\n",
      "2  3  7  11\n",
      "3  4  8  12\n"
     ]
    },
    {
     "data": {
      "text/plain": "          a         b         c\n0 -2.000000  0.400000  0.222222\n1  1.000000  0.333333 -0.200000\n2  0.666667  0.285714  0.181818\n3  0.500000  0.250000  0.166667",
      "text/html": "<div>\n<style scoped>\n    .dataframe tbody tr th:only-of-type {\n        vertical-align: middle;\n    }\n\n    .dataframe tbody tr th {\n        vertical-align: top;\n    }\n\n    .dataframe thead th {\n        text-align: right;\n    }\n</style>\n<table border=\"1\" class=\"dataframe\">\n  <thead>\n    <tr style=\"text-align: right;\">\n      <th></th>\n      <th>a</th>\n      <th>b</th>\n      <th>c</th>\n    </tr>\n  </thead>\n  <tbody>\n    <tr>\n      <th>0</th>\n      <td>-2.000000</td>\n      <td>0.400000</td>\n      <td>0.222222</td>\n    </tr>\n    <tr>\n      <th>1</th>\n      <td>1.000000</td>\n      <td>0.333333</td>\n      <td>-0.200000</td>\n    </tr>\n    <tr>\n      <th>2</th>\n      <td>0.666667</td>\n      <td>0.285714</td>\n      <td>0.181818</td>\n    </tr>\n    <tr>\n      <th>3</th>\n      <td>0.500000</td>\n      <td>0.250000</td>\n      <td>0.166667</td>\n    </tr>\n  </tbody>\n</table>\n</div>"
     },
     "execution_count": 2,
     "metadata": {},
     "output_type": "execute_result"
    }
   ],
   "source": [
    "data = pd.DataFrame({\n",
    "    'a': [-1,2,3,4],\n",
    "    'b': [5,6,7,8],\n",
    "    'c': [9,-10,11,12]\n",
    "})\n",
    "print(\"data : \\n \", data)\n",
    "data.rtruediv(2)"
   ],
   "metadata": {
    "collapsed": false
   }
  },
  {
   "cell_type": "code",
   "execution_count": 9,
   "outputs": [
    {
     "name": "stdout",
     "output_type": "stream",
     "text": [
      "data : \n",
      "     a  b   c\n",
      "0 -1  5   9\n",
      "1  2  6 -10\n",
      "2  3  7  11\n",
      "3  4  8  12\n"
     ]
    },
    {
     "data": {
      "text/plain": "   a  b   c\n1  2  6 -10",
      "text/html": "<div>\n<style scoped>\n    .dataframe tbody tr th:only-of-type {\n        vertical-align: middle;\n    }\n\n    .dataframe tbody tr th {\n        vertical-align: top;\n    }\n\n    .dataframe thead th {\n        text-align: right;\n    }\n</style>\n<table border=\"1\" class=\"dataframe\">\n  <thead>\n    <tr style=\"text-align: right;\">\n      <th></th>\n      <th>a</th>\n      <th>b</th>\n      <th>c</th>\n    </tr>\n  </thead>\n  <tbody>\n    <tr>\n      <th>1</th>\n      <td>2</td>\n      <td>6</td>\n      <td>-10</td>\n    </tr>\n  </tbody>\n</table>\n</div>"
     },
     "execution_count": 9,
     "metadata": {},
     "output_type": "execute_result"
    }
   ],
   "source": [
    "data = pd.DataFrame({\n",
    "    'a': [-1,2,3,4],\n",
    "    'b': [5,6,7,8],\n",
    "    'c': [9,-10,11,12]\n",
    "})\n",
    "print(\"data : \\n \", data)\n",
    "data.sample()"
   ],
   "metadata": {
    "collapsed": false
   }
  },
  {
   "cell_type": "code",
   "execution_count": 13,
   "outputs": [
    {
     "name": "stdout",
     "output_type": "stream",
     "text": [
      "data : \n",
      "         a         b   c\n",
      "0 -1.238  5.0+0.0j   9\n",
      "1  2.000  6.0+0.0j -10\n",
      "2  3.000  7.0+2.0j  11\n",
      "3  4.000  8.0+0.0j  12\n"
     ]
    },
    {
     "data": {
      "text/plain": "    c\n0   9\n1 -10\n2  11\n3  12",
      "text/html": "<div>\n<style scoped>\n    .dataframe tbody tr th:only-of-type {\n        vertical-align: middle;\n    }\n\n    .dataframe tbody tr th {\n        vertical-align: top;\n    }\n\n    .dataframe thead th {\n        text-align: right;\n    }\n</style>\n<table border=\"1\" class=\"dataframe\">\n  <thead>\n    <tr style=\"text-align: right;\">\n      <th></th>\n      <th>c</th>\n    </tr>\n  </thead>\n  <tbody>\n    <tr>\n      <th>0</th>\n      <td>9</td>\n    </tr>\n    <tr>\n      <th>1</th>\n      <td>-10</td>\n    </tr>\n    <tr>\n      <th>2</th>\n      <td>11</td>\n    </tr>\n    <tr>\n      <th>3</th>\n      <td>12</td>\n    </tr>\n  </tbody>\n</table>\n</div>"
     },
     "execution_count": 13,
     "metadata": {},
     "output_type": "execute_result"
    }
   ],
   "source": [
    "data = pd.DataFrame({\n",
    "    'a': [-1.238,2,3,4],\n",
    "    'b': [5,6,7+2j,8],\n",
    "    'c': [9,-10,11,12]\n",
    "})\n",
    "print(\"data : \\n \", data)\n",
    "data.select_dtypes([np.int64])"
   ],
   "metadata": {
    "collapsed": false
   }
  },
  {
   "cell_type": "code",
   "execution_count": 15,
   "outputs": [
    {
     "name": "stdout",
     "output_type": "stream",
     "text": [
      "data : \n",
      "     a  b   c\n",
      "0 -1  5   9\n",
      "1  2  6 -10\n",
      "2  3  7  11\n",
      "3  4  8  12\n"
     ]
    },
    {
     "data": {
      "text/plain": "a    1.080123\nb    0.645497\nc    5.204165\ndtype: float64"
     },
     "execution_count": 15,
     "metadata": {},
     "output_type": "execute_result"
    }
   ],
   "source": [
    "data = pd.DataFrame({\n",
    "    'a': [-1,2,3,4],\n",
    "    'b': [5,6,7,8],\n",
    "    'c': [9,-10,11,12]\n",
    "})\n",
    "print(\"data : \\n \", data)\n",
    "data.sem()"
   ],
   "metadata": {
    "collapsed": false
   }
  },
  {
   "cell_type": "code",
   "execution_count": 22,
   "outputs": [
    {
     "name": "stdout",
     "output_type": "stream",
     "text": [
      "data : \n",
      "     a  b   c\n",
      "0 -1  5   9\n",
      "1  2  6 -10\n",
      "2  3  7  11\n",
      "3  4  8  12\n"
     ]
    },
    {
     "data": {
      "text/plain": "       a  b   c\nzero  -1  5   9\none    2  6 -10\ntwo    3  7  11\nthree  4  8  12",
      "text/html": "<div>\n<style scoped>\n    .dataframe tbody tr th:only-of-type {\n        vertical-align: middle;\n    }\n\n    .dataframe tbody tr th {\n        vertical-align: top;\n    }\n\n    .dataframe thead th {\n        text-align: right;\n    }\n</style>\n<table border=\"1\" class=\"dataframe\">\n  <thead>\n    <tr style=\"text-align: right;\">\n      <th></th>\n      <th>a</th>\n      <th>b</th>\n      <th>c</th>\n    </tr>\n  </thead>\n  <tbody>\n    <tr>\n      <th>zero</th>\n      <td>-1</td>\n      <td>5</td>\n      <td>9</td>\n    </tr>\n    <tr>\n      <th>one</th>\n      <td>2</td>\n      <td>6</td>\n      <td>-10</td>\n    </tr>\n    <tr>\n      <th>two</th>\n      <td>3</td>\n      <td>7</td>\n      <td>11</td>\n    </tr>\n    <tr>\n      <th>three</th>\n      <td>4</td>\n      <td>8</td>\n      <td>12</td>\n    </tr>\n  </tbody>\n</table>\n</div>"
     },
     "execution_count": 22,
     "metadata": {},
     "output_type": "execute_result"
    }
   ],
   "source": [
    "data = pd.DataFrame({\n",
    "    'a': [-1,2,3,4],\n",
    "    'b': [5,6,7,8],\n",
    "    'c': [9,-10,11,12]\n",
    "})\n",
    "print(\"data : \\n \", data)\n",
    "data.set_axis(['zero', 'one', 'two', 'three'])"
   ],
   "metadata": {
    "collapsed": false
   }
  },
  {
   "cell_type": "code",
   "execution_count": 29,
   "outputs": [
    {
     "name": "stdout",
     "output_type": "stream",
     "text": [
      "data : \n",
      "     a  b   c\n",
      "0 -1  5   9\n",
      "1  2  6 -10\n",
      "2  3  7  11\n",
      "3  4  8  12\n"
     ]
    },
    {
     "data": {
      "text/plain": "<Flags(allows_duplicate_labels=True)>"
     },
     "execution_count": 29,
     "metadata": {},
     "output_type": "execute_result"
    }
   ],
   "source": [
    "data = pd.DataFrame({\n",
    "    'a': [-1,2,3,4],\n",
    "    'b': [5,6,7,8],\n",
    "    'c': [9,-10,11,12]\n",
    "})\n",
    "print(\"data : \\n \", data)\n",
    "data.set_flags(allows_duplicate_labels=True)\n",
    "data.flags"
   ],
   "metadata": {
    "collapsed": false
   }
  },
  {
   "cell_type": "code",
   "execution_count": 31,
   "outputs": [
    {
     "name": "stdout",
     "output_type": "stream",
     "text": [
      "data : \n",
      "     a  b   c\n",
      "0 -1  5   9\n",
      "1  2  6 -10\n",
      "2  3  7  11\n",
      "3  4  8  12\n"
     ]
    },
    {
     "data": {
      "text/plain": "    b   c\na        \n-1  5   9\n 2  6 -10\n 3  7  11\n 4  8  12",
      "text/html": "<div>\n<style scoped>\n    .dataframe tbody tr th:only-of-type {\n        vertical-align: middle;\n    }\n\n    .dataframe tbody tr th {\n        vertical-align: top;\n    }\n\n    .dataframe thead th {\n        text-align: right;\n    }\n</style>\n<table border=\"1\" class=\"dataframe\">\n  <thead>\n    <tr style=\"text-align: right;\">\n      <th></th>\n      <th>b</th>\n      <th>c</th>\n    </tr>\n    <tr>\n      <th>a</th>\n      <th></th>\n      <th></th>\n    </tr>\n  </thead>\n  <tbody>\n    <tr>\n      <th>-1</th>\n      <td>5</td>\n      <td>9</td>\n    </tr>\n    <tr>\n      <th>2</th>\n      <td>6</td>\n      <td>-10</td>\n    </tr>\n    <tr>\n      <th>3</th>\n      <td>7</td>\n      <td>11</td>\n    </tr>\n    <tr>\n      <th>4</th>\n      <td>8</td>\n      <td>12</td>\n    </tr>\n  </tbody>\n</table>\n</div>"
     },
     "execution_count": 31,
     "metadata": {},
     "output_type": "execute_result"
    }
   ],
   "source": [
    "data = pd.DataFrame({\n",
    "    'a': [-1,2,3,4],\n",
    "    'b': [5,6,7,8],\n",
    "    'c': [9,-10,11,12]\n",
    "})\n",
    "print(\"data : \\n \", data)\n",
    "data.set_index('a')"
   ],
   "metadata": {
    "collapsed": false
   }
  },
  {
   "cell_type": "code",
   "execution_count": 33,
   "outputs": [
    {
     "name": "stdout",
     "output_type": "stream",
     "text": [
      "data : \n",
      "     a  b   c\n",
      "0 -1  5   9\n",
      "1  2  6 -10\n",
      "2  3  7  11\n",
      "3  4  8  12\n"
     ]
    },
    {
     "data": {
      "text/plain": "(4, 3)"
     },
     "execution_count": 33,
     "metadata": {},
     "output_type": "execute_result"
    }
   ],
   "source": [
    "data = pd.DataFrame({\n",
    "    'a': [-1,2,3,4],\n",
    "    'b': [5,6,7,8],\n",
    "    'c': [9,-10,11,12]\n",
    "})\n",
    "print(\"data : \\n \", data)\n",
    "data.shape"
   ],
   "metadata": {
    "collapsed": false
   }
  },
  {
   "cell_type": "code",
   "execution_count": 37,
   "outputs": [
    {
     "name": "stdout",
     "output_type": "stream",
     "text": [
      "data : \n",
      "     a  b   c\n",
      "0 -1  5   9\n",
      "1  2  6 -10\n",
      "2  3  7  11\n",
      "3  4  8  12\n",
      "    a   b  c\n",
      "0 NaN NaN -1\n",
      "1 NaN NaN  2\n",
      "2 NaN NaN  3\n",
      "3 NaN NaN  4\n",
      "     a    b     c\n",
      "0  NaN  NaN   NaN\n",
      "1  NaN  NaN   NaN\n",
      "2 -1.0  5.0   9.0\n",
      "3  2.0  6.0 -10.0\n"
     ]
    }
   ],
   "source": [
    "data = pd.DataFrame({\n",
    "    'a': [-1,2,3,4],\n",
    "    'b': [5,6,7,8],\n",
    "    'c': [9,-10,11,12]\n",
    "})\n",
    "print(\"data : \\n \", data)\n",
    "print(data.shift(2, axis=1))\n",
    "print(data.shift(2, axis=0))"
   ],
   "metadata": {
    "collapsed": false
   }
  },
  {
   "cell_type": "code",
   "execution_count": 38,
   "outputs": [
    {
     "name": "stdout",
     "output_type": "stream",
     "text": [
      "data : \n",
      "     a  b   c\n",
      "0 -1  5   9\n",
      "1  2  6 -10\n",
      "2  3  7  11\n",
      "3  4  8  12\n"
     ]
    },
    {
     "data": {
      "text/plain": "12"
     },
     "execution_count": 38,
     "metadata": {},
     "output_type": "execute_result"
    }
   ],
   "source": [
    "data = pd.DataFrame({\n",
    "    'a': [-1,2,3,4],\n",
    "    'b': [5,6,7,8],\n",
    "    'c': [9,-10,11,12]\n",
    "})\n",
    "print(\"data : \\n \", data)\n",
    "data.size"
   ],
   "metadata": {
    "collapsed": false
   }
  },
  {
   "cell_type": "code",
   "execution_count": 40,
   "outputs": [
    {
     "name": "stdout",
     "output_type": "stream",
     "text": [
      "data : \n",
      "     a  b   c\n",
      "0 -1  5   9\n",
      "1  2  6 -10\n",
      "2  3  7  11\n",
      "3  4  8  12\n"
     ]
    },
    {
     "data": {
      "text/plain": "a   -1.190340\nb    0.000000\nc   -1.915625\ndtype: float64"
     },
     "execution_count": 40,
     "metadata": {},
     "output_type": "execute_result"
    }
   ],
   "source": [
    "data = pd.DataFrame({\n",
    "    'a': [-1,2,3,4],\n",
    "    'b': [5,6,7,8],\n",
    "    'c': [9,-10,11,12]\n",
    "})\n",
    "print(\"data : \\n \", data)\n",
    "data.skew()"
   ],
   "metadata": {
    "collapsed": false
   }
  },
  {
   "cell_type": "code",
   "execution_count": 42,
   "outputs": [
    {
     "name": "stdout",
     "output_type": "stream",
     "text": [
      "data : \n",
      "     a  b   c\n",
      "0 -1  5   9\n",
      "1  2  6 -10\n",
      "2  3  7  11\n",
      "3  4  8  12\n"
     ]
    },
    {
     "name": "stderr",
     "output_type": "stream",
     "text": [
      "C:\\Users\\student.ASTRUM-DOMAIN\\AppData\\Local\\Temp\\ipykernel_10456\\1467712515.py:7: FutureWarning: The 'slice_shift' method is deprecated and will be removed in a future version. You can use DataFrame/Series.shift instead.\n",
      "  data.slice_shift(periods=2)\n"
     ]
    },
    {
     "data": {
      "text/plain": "   a  b   c\n2 -1  5   9\n3  2  6 -10",
      "text/html": "<div>\n<style scoped>\n    .dataframe tbody tr th:only-of-type {\n        vertical-align: middle;\n    }\n\n    .dataframe tbody tr th {\n        vertical-align: top;\n    }\n\n    .dataframe thead th {\n        text-align: right;\n    }\n</style>\n<table border=\"1\" class=\"dataframe\">\n  <thead>\n    <tr style=\"text-align: right;\">\n      <th></th>\n      <th>a</th>\n      <th>b</th>\n      <th>c</th>\n    </tr>\n  </thead>\n  <tbody>\n    <tr>\n      <th>2</th>\n      <td>-1</td>\n      <td>5</td>\n      <td>9</td>\n    </tr>\n    <tr>\n      <th>3</th>\n      <td>2</td>\n      <td>6</td>\n      <td>-10</td>\n    </tr>\n  </tbody>\n</table>\n</div>"
     },
     "execution_count": 42,
     "metadata": {},
     "output_type": "execute_result"
    }
   ],
   "source": [
    "data = pd.DataFrame({\n",
    "    'a': [-1,2,3,4],\n",
    "    'b': [5,6,7,8],\n",
    "    'c': [9,-10,11,12]\n",
    "})\n",
    "print(\"data : \\n \", data)\n",
    "data.slice_shift(periods=2)"
   ],
   "metadata": {
    "collapsed": false
   }
  },
  {
   "cell_type": "code",
   "execution_count": 46,
   "outputs": [
    {
     "name": "stdout",
     "output_type": "stream",
     "text": [
      "data : \n",
      "     a  b   c\n",
      "0 -1  5   9\n",
      "1  2  6 -10\n",
      "2  3  7  11\n",
      "3  4  8  12\n"
     ]
    },
    {
     "data": {
      "text/plain": "   a  b   c\n3  4  8  12\n2  3  7  11\n1  2  6 -10\n0 -1  5   9",
      "text/html": "<div>\n<style scoped>\n    .dataframe tbody tr th:only-of-type {\n        vertical-align: middle;\n    }\n\n    .dataframe tbody tr th {\n        vertical-align: top;\n    }\n\n    .dataframe thead th {\n        text-align: right;\n    }\n</style>\n<table border=\"1\" class=\"dataframe\">\n  <thead>\n    <tr style=\"text-align: right;\">\n      <th></th>\n      <th>a</th>\n      <th>b</th>\n      <th>c</th>\n    </tr>\n  </thead>\n  <tbody>\n    <tr>\n      <th>3</th>\n      <td>4</td>\n      <td>8</td>\n      <td>12</td>\n    </tr>\n    <tr>\n      <th>2</th>\n      <td>3</td>\n      <td>7</td>\n      <td>11</td>\n    </tr>\n    <tr>\n      <th>1</th>\n      <td>2</td>\n      <td>6</td>\n      <td>-10</td>\n    </tr>\n    <tr>\n      <th>0</th>\n      <td>-1</td>\n      <td>5</td>\n      <td>9</td>\n    </tr>\n  </tbody>\n</table>\n</div>"
     },
     "execution_count": 46,
     "metadata": {},
     "output_type": "execute_result"
    }
   ],
   "source": [
    "data = pd.DataFrame({\n",
    "    'a': [-1,2,3,4],\n",
    "    'b': [5,6,7,8],\n",
    "    'c': [9,-10,11,12]\n",
    "})\n",
    "print(\"data : \\n \", data)\n",
    "data.sort_index(ascending=False)"
   ],
   "metadata": {
    "collapsed": false
   }
  },
  {
   "cell_type": "code",
   "execution_count": 56,
   "outputs": [
    {
     "name": "stdout",
     "output_type": "stream",
     "text": [
      "data : \n",
      "     a  b   c\n",
      "0 -1  5   9\n",
      "1  2  6 -10\n",
      "2  3  7  11\n",
      "3  4  8  12\n"
     ]
    },
    {
     "data": {
      "text/plain": "   a  b   c\n3  4  8  12\n2  3  7  11\n1  2  6 -10\n0 -1  5   9",
      "text/html": "<div>\n<style scoped>\n    .dataframe tbody tr th:only-of-type {\n        vertical-align: middle;\n    }\n\n    .dataframe tbody tr th {\n        vertical-align: top;\n    }\n\n    .dataframe thead th {\n        text-align: right;\n    }\n</style>\n<table border=\"1\" class=\"dataframe\">\n  <thead>\n    <tr style=\"text-align: right;\">\n      <th></th>\n      <th>a</th>\n      <th>b</th>\n      <th>c</th>\n    </tr>\n  </thead>\n  <tbody>\n    <tr>\n      <th>3</th>\n      <td>4</td>\n      <td>8</td>\n      <td>12</td>\n    </tr>\n    <tr>\n      <th>2</th>\n      <td>3</td>\n      <td>7</td>\n      <td>11</td>\n    </tr>\n    <tr>\n      <th>1</th>\n      <td>2</td>\n      <td>6</td>\n      <td>-10</td>\n    </tr>\n    <tr>\n      <th>0</th>\n      <td>-1</td>\n      <td>5</td>\n      <td>9</td>\n    </tr>\n  </tbody>\n</table>\n</div>"
     },
     "execution_count": 56,
     "metadata": {},
     "output_type": "execute_result"
    }
   ],
   "source": [
    "data = pd.DataFrame({\n",
    "    'a': [-1,2,3,4],\n",
    "    'b': [5,6,7,8],\n",
    "    'c': [9,-10,11,12]\n",
    "})\n",
    "print(\"data : \\n \", data)\n",
    "data.sort_values(by='a', ascending=False)"
   ],
   "metadata": {
    "collapsed": false
   }
  },
  {
   "cell_type": "code",
   "execution_count": 59,
   "outputs": [
    {
     "data": {
      "text/plain": "     0    1    2\n0  1.0  0.0  0.0\n1  0.0  1.0  0.0\n2  0.0  0.0  1.0",
      "text/html": "<div>\n<style scoped>\n    .dataframe tbody tr th:only-of-type {\n        vertical-align: middle;\n    }\n\n    .dataframe tbody tr th {\n        vertical-align: top;\n    }\n\n    .dataframe thead th {\n        text-align: right;\n    }\n</style>\n<table border=\"1\" class=\"dataframe\">\n  <thead>\n    <tr style=\"text-align: right;\">\n      <th></th>\n      <th>0</th>\n      <th>1</th>\n      <th>2</th>\n    </tr>\n  </thead>\n  <tbody>\n    <tr>\n      <th>0</th>\n      <td>1.0</td>\n      <td>0.0</td>\n      <td>0.0</td>\n    </tr>\n    <tr>\n      <th>1</th>\n      <td>0.0</td>\n      <td>1.0</td>\n      <td>0.0</td>\n    </tr>\n    <tr>\n      <th>2</th>\n      <td>0.0</td>\n      <td>0.0</td>\n      <td>1.0</td>\n    </tr>\n  </tbody>\n</table>\n</div>"
     },
     "execution_count": 59,
     "metadata": {},
     "output_type": "execute_result"
    }
   ],
   "source": [
    "import scipy.sparse\n",
    "mat = scipy.sparse.eye(3)\n",
    "pd.DataFrame.sparse.from_spmatrix(mat)"
   ],
   "metadata": {
    "collapsed": false
   }
  },
  {
   "cell_type": "code",
   "execution_count": 62,
   "outputs": [
    {
     "name": "stdout",
     "output_type": "stream",
     "text": [
      "data : \n",
      "     a  b   c\n",
      "0 -1  5   9\n",
      "1  2  6 -10\n",
      "2  3  7  11\n",
      "3  4  8  12\n"
     ]
    },
    {
     "data": {
      "text/plain": "   a  b   c\n0 -1  5   9\n1  2  6 -10\n2  3  7  11\n3  4  8  12",
      "text/html": "<div>\n<style scoped>\n    .dataframe tbody tr th:only-of-type {\n        vertical-align: middle;\n    }\n\n    .dataframe tbody tr th {\n        vertical-align: top;\n    }\n\n    .dataframe thead th {\n        text-align: right;\n    }\n</style>\n<table border=\"1\" class=\"dataframe\">\n  <thead>\n    <tr style=\"text-align: right;\">\n      <th></th>\n      <th>a</th>\n      <th>b</th>\n      <th>c</th>\n    </tr>\n  </thead>\n  <tbody>\n    <tr>\n      <th>0</th>\n      <td>-1</td>\n      <td>5</td>\n      <td>9</td>\n    </tr>\n    <tr>\n      <th>1</th>\n      <td>2</td>\n      <td>6</td>\n      <td>-10</td>\n    </tr>\n    <tr>\n      <th>2</th>\n      <td>3</td>\n      <td>7</td>\n      <td>11</td>\n    </tr>\n    <tr>\n      <th>3</th>\n      <td>4</td>\n      <td>8</td>\n      <td>12</td>\n    </tr>\n  </tbody>\n</table>\n</div>"
     },
     "execution_count": 62,
     "metadata": {},
     "output_type": "execute_result"
    }
   ],
   "source": [
    "data = pd.DataFrame({\n",
    "    'a': [-1,2,3,4],\n",
    "    'b': [5,6,7,8],\n",
    "    'c': [9,-10,11,12]\n",
    "})\n",
    "print(\"data : \\n \", data)\n",
    "data.squeeze()"
   ],
   "metadata": {
    "collapsed": false
   }
  },
  {
   "cell_type": "code",
   "execution_count": 66,
   "outputs": [
    {
     "name": "stdout",
     "output_type": "stream",
     "text": [
      "data : \n",
      "     a  b     c\n",
      "0 -1  5   9.0\n",
      "1  2  6 -10.0\n",
      "2  3  7   NaN\n",
      "3  4  8  12.0\n"
     ]
    },
    {
     "data": {
      "text/plain": "0  a    -1.0\n   b     5.0\n   c     9.0\n1  a     2.0\n   b     6.0\n   c   -10.0\n2  a     3.0\n   b     7.0\n   c     NaN\n3  a     4.0\n   b     8.0\n   c    12.0\ndtype: float64"
     },
     "execution_count": 66,
     "metadata": {},
     "output_type": "execute_result"
    }
   ],
   "source": [
    "data = pd.DataFrame({\n",
    "    'a': [-1,2,3,4],\n",
    "    'b': [5,6,7,8],\n",
    "    'c': [9,-10,np.nan,12]\n",
    "})\n",
    "print(\"data : \\n \", data)\n",
    "data.stack(dropna=False)"
   ],
   "metadata": {
    "collapsed": false
   }
  },
  {
   "cell_type": "code",
   "execution_count": 68,
   "outputs": [
    {
     "name": "stdout",
     "output_type": "stream",
     "text": [
      "data : \n",
      "     a  b   c\n",
      "0 -1  5   9\n",
      "1  2  6 -10\n",
      "2  3  7  11\n",
      "3  4  8  12\n"
     ]
    },
    {
     "data": {
      "text/plain": "a     2.160247\nb     1.290994\nc    10.408330\ndtype: float64"
     },
     "execution_count": 68,
     "metadata": {},
     "output_type": "execute_result"
    }
   ],
   "source": [
    "data = pd.DataFrame({\n",
    "    'a': [-1,2,3,4],\n",
    "    'b': [5,6,7,8],\n",
    "    'c': [9,-10,11,12]\n",
    "})\n",
    "print(\"data : \\n \", data)\n",
    "data.std()"
   ],
   "metadata": {
    "collapsed": false
   }
  },
  {
   "cell_type": "code",
   "execution_count": 72,
   "outputs": [
    {
     "name": "stdout",
     "output_type": "stream",
     "text": [
      "data : \n",
      "     a  b   c\n",
      "0 -1  5   9\n",
      "1  2  6 -10\n",
      "2  3  7  11\n",
      "3  4  8  12\n"
     ]
    },
    {
     "data": {
      "text/plain": "<pandas.io.formats.style.Styler at 0x1dc8c9742e0>",
      "text/html": "<style type=\"text/css\">\n</style>\n<table id=\"T_07efe\">\n  <thead>\n    <tr>\n      <th class=\"blank level0\" >&nbsp;</th>\n      <th id=\"T_07efe_level0_col0\" class=\"col_heading level0 col0\" >a</th>\n      <th id=\"T_07efe_level0_col1\" class=\"col_heading level0 col1\" >b</th>\n      <th id=\"T_07efe_level0_col2\" class=\"col_heading level0 col2\" >c</th>\n    </tr>\n  </thead>\n  <tbody>\n    <tr>\n      <th id=\"T_07efe_level0_row0\" class=\"row_heading level0 row0\" >0</th>\n      <td id=\"T_07efe_row0_col0\" class=\"data row0 col0\" >-1</td>\n      <td id=\"T_07efe_row0_col1\" class=\"data row0 col1\" >5</td>\n      <td id=\"T_07efe_row0_col2\" class=\"data row0 col2\" >9</td>\n    </tr>\n    <tr>\n      <th id=\"T_07efe_level0_row1\" class=\"row_heading level0 row1\" >1</th>\n      <td id=\"T_07efe_row1_col0\" class=\"data row1 col0\" >2</td>\n      <td id=\"T_07efe_row1_col1\" class=\"data row1 col1\" >6</td>\n      <td id=\"T_07efe_row1_col2\" class=\"data row1 col2\" >-10</td>\n    </tr>\n    <tr>\n      <th id=\"T_07efe_level0_row2\" class=\"row_heading level0 row2\" >2</th>\n      <td id=\"T_07efe_row2_col0\" class=\"data row2 col0\" >3</td>\n      <td id=\"T_07efe_row2_col1\" class=\"data row2 col1\" >7</td>\n      <td id=\"T_07efe_row2_col2\" class=\"data row2 col2\" >11</td>\n    </tr>\n    <tr>\n      <th id=\"T_07efe_level0_row3\" class=\"row_heading level0 row3\" >3</th>\n      <td id=\"T_07efe_row3_col0\" class=\"data row3 col0\" >4</td>\n      <td id=\"T_07efe_row3_col1\" class=\"data row3 col1\" >8</td>\n      <td id=\"T_07efe_row3_col2\" class=\"data row3 col2\" >12</td>\n    </tr>\n  </tbody>\n</table>\n"
     },
     "execution_count": 72,
     "metadata": {},
     "output_type": "execute_result"
    }
   ],
   "source": [
    "data = pd.DataFrame({\n",
    "    'a': [-1,2,3,4],\n",
    "    'b': [5,6,7,8],\n",
    "    'c': [9,-10,11,12]\n",
    "})\n",
    "print(\"data : \\n \", data)\n",
    "data.style"
   ],
   "metadata": {
    "collapsed": false
   }
  },
  {
   "cell_type": "code",
   "execution_count": 76,
   "outputs": [
    {
     "name": "stdout",
     "output_type": "stream",
     "text": [
      "data : \n",
      "     a  b   c\n",
      "0 -1  5   9\n",
      "1  2  6 -10\n",
      "2  3  7  11\n",
      "3  4  8  12\n"
     ]
    },
    {
     "data": {
      "text/plain": "    a  b   c\n0 -11 -5  -1\n1  -8 -4 -20\n2  -7 -3   1\n3  -6 -2   2",
      "text/html": "<div>\n<style scoped>\n    .dataframe tbody tr th:only-of-type {\n        vertical-align: middle;\n    }\n\n    .dataframe tbody tr th {\n        vertical-align: top;\n    }\n\n    .dataframe thead th {\n        text-align: right;\n    }\n</style>\n<table border=\"1\" class=\"dataframe\">\n  <thead>\n    <tr style=\"text-align: right;\">\n      <th></th>\n      <th>a</th>\n      <th>b</th>\n      <th>c</th>\n    </tr>\n  </thead>\n  <tbody>\n    <tr>\n      <th>0</th>\n      <td>-11</td>\n      <td>-5</td>\n      <td>-1</td>\n    </tr>\n    <tr>\n      <th>1</th>\n      <td>-8</td>\n      <td>-4</td>\n      <td>-20</td>\n    </tr>\n    <tr>\n      <th>2</th>\n      <td>-7</td>\n      <td>-3</td>\n      <td>1</td>\n    </tr>\n    <tr>\n      <th>3</th>\n      <td>-6</td>\n      <td>-2</td>\n      <td>2</td>\n    </tr>\n  </tbody>\n</table>\n</div>"
     },
     "execution_count": 76,
     "metadata": {},
     "output_type": "execute_result"
    }
   ],
   "source": [
    "data = pd.DataFrame({\n",
    "    'a': [-1,2,3,4],\n",
    "    'b': [5,6,7,8],\n",
    "    'c': [9,-10,11,12]\n",
    "})\n",
    "print(\"data : \\n \", data)\n",
    "data.sub(10)"
   ],
   "metadata": {
    "collapsed": false
   }
  },
  {
   "cell_type": "code",
   "execution_count": 78,
   "outputs": [
    {
     "name": "stdout",
     "output_type": "stream",
     "text": [
      "data : \n",
      "     a  b   c\n",
      "0 -1  5   9\n",
      "1  2  6 -10\n",
      "2  3  7  11\n",
      "3  4  8  12\n"
     ]
    },
    {
     "data": {
      "text/plain": "    a  b   c\n0 -11 -5  -1\n1  -8 -4 -20\n2  -7 -3   1\n3  -6 -2   2",
      "text/html": "<div>\n<style scoped>\n    .dataframe tbody tr th:only-of-type {\n        vertical-align: middle;\n    }\n\n    .dataframe tbody tr th {\n        vertical-align: top;\n    }\n\n    .dataframe thead th {\n        text-align: right;\n    }\n</style>\n<table border=\"1\" class=\"dataframe\">\n  <thead>\n    <tr style=\"text-align: right;\">\n      <th></th>\n      <th>a</th>\n      <th>b</th>\n      <th>c</th>\n    </tr>\n  </thead>\n  <tbody>\n    <tr>\n      <th>0</th>\n      <td>-11</td>\n      <td>-5</td>\n      <td>-1</td>\n    </tr>\n    <tr>\n      <th>1</th>\n      <td>-8</td>\n      <td>-4</td>\n      <td>-20</td>\n    </tr>\n    <tr>\n      <th>2</th>\n      <td>-7</td>\n      <td>-3</td>\n      <td>1</td>\n    </tr>\n    <tr>\n      <th>3</th>\n      <td>-6</td>\n      <td>-2</td>\n      <td>2</td>\n    </tr>\n  </tbody>\n</table>\n</div>"
     },
     "execution_count": 78,
     "metadata": {},
     "output_type": "execute_result"
    }
   ],
   "source": [
    "data = pd.DataFrame({\n",
    "    'a': [-1,2,3,4],\n",
    "    'b': [5,6,7,8],\n",
    "    'c': [9,-10,11,12]\n",
    "})\n",
    "print(\"data : \\n \", data)\n",
    "data.subtract(10)"
   ],
   "metadata": {
    "collapsed": false
   }
  },
  {
   "cell_type": "code",
   "execution_count": 80,
   "outputs": [
    {
     "name": "stdout",
     "output_type": "stream",
     "text": [
      "data : \n",
      "     a  b   c\n",
      "0 -1  5   9\n",
      "1  2  6 -10\n",
      "2  3  7  11\n",
      "3  4  8  12\n"
     ]
    },
    {
     "data": {
      "text/plain": "a     8\nb    26\nc    22\ndtype: int64"
     },
     "execution_count": 80,
     "metadata": {},
     "output_type": "execute_result"
    }
   ],
   "source": [
    "data = pd.DataFrame({\n",
    "    'a': [-1,2,3,4],\n",
    "    'b': [5,6,7,8],\n",
    "    'c': [9,-10,11,12]\n",
    "})\n",
    "print(\"data : \\n \", data)\n",
    "data.sum()"
   ],
   "metadata": {
    "collapsed": false
   }
  },
  {
   "cell_type": "code",
   "execution_count": 84,
   "outputs": [
    {
     "name": "stdout",
     "output_type": "stream",
     "text": [
      "data : \n",
      "     a  b   c\n",
      "0 -1  5   9\n",
      "1  2  6 -10\n",
      "2  3  7  11\n",
      "3  4  8  12\n"
     ]
    },
    {
     "data": {
      "text/plain": "   0   1   2   3\na -1   2   3   4\nb  5   6   7   8\nc  9 -10  11  12",
      "text/html": "<div>\n<style scoped>\n    .dataframe tbody tr th:only-of-type {\n        vertical-align: middle;\n    }\n\n    .dataframe tbody tr th {\n        vertical-align: top;\n    }\n\n    .dataframe thead th {\n        text-align: right;\n    }\n</style>\n<table border=\"1\" class=\"dataframe\">\n  <thead>\n    <tr style=\"text-align: right;\">\n      <th></th>\n      <th>0</th>\n      <th>1</th>\n      <th>2</th>\n      <th>3</th>\n    </tr>\n  </thead>\n  <tbody>\n    <tr>\n      <th>a</th>\n      <td>-1</td>\n      <td>2</td>\n      <td>3</td>\n      <td>4</td>\n    </tr>\n    <tr>\n      <th>b</th>\n      <td>5</td>\n      <td>6</td>\n      <td>7</td>\n      <td>8</td>\n    </tr>\n    <tr>\n      <th>c</th>\n      <td>9</td>\n      <td>-10</td>\n      <td>11</td>\n      <td>12</td>\n    </tr>\n  </tbody>\n</table>\n</div>"
     },
     "execution_count": 84,
     "metadata": {},
     "output_type": "execute_result"
    }
   ],
   "source": [
    "data = pd.DataFrame({\n",
    "    'a': [-1,2,3,4],\n",
    "    'b': [5,6,7,8],\n",
    "    'c': [9,-10,11,12]\n",
    "})\n",
    "print(\"data : \\n \", data)\n",
    "data.swapaxes('index', 'columns')"
   ],
   "metadata": {
    "collapsed": false
   }
  },
  {
   "cell_type": "code",
   "execution_count": 87,
   "outputs": [
    {
     "name": "stdout",
     "output_type": "stream",
     "text": [
      "data : \n",
      "                                Grade\n",
      "Final exam History   January      A\n",
      "           Geography February     B\n",
      "Coursework History   March        A\n",
      "           Geography April        C\n"
     ]
    },
    {
     "data": {
      "text/plain": "                              Grade\nFinal exam January  History       A\n           February Geography     B\nCoursework March    History       A\n           April    Geography     C",
      "text/html": "<div>\n<style scoped>\n    .dataframe tbody tr th:only-of-type {\n        vertical-align: middle;\n    }\n\n    .dataframe tbody tr th {\n        vertical-align: top;\n    }\n\n    .dataframe thead th {\n        text-align: right;\n    }\n</style>\n<table border=\"1\" class=\"dataframe\">\n  <thead>\n    <tr style=\"text-align: right;\">\n      <th></th>\n      <th></th>\n      <th></th>\n      <th>Grade</th>\n    </tr>\n  </thead>\n  <tbody>\n    <tr>\n      <th rowspan=\"2\" valign=\"top\">Final exam</th>\n      <th>January</th>\n      <th>History</th>\n      <td>A</td>\n    </tr>\n    <tr>\n      <th>February</th>\n      <th>Geography</th>\n      <td>B</td>\n    </tr>\n    <tr>\n      <th rowspan=\"2\" valign=\"top\">Coursework</th>\n      <th>March</th>\n      <th>History</th>\n      <td>A</td>\n    </tr>\n    <tr>\n      <th>April</th>\n      <th>Geography</th>\n      <td>C</td>\n    </tr>\n  </tbody>\n</table>\n</div>"
     },
     "execution_count": 87,
     "metadata": {},
     "output_type": "execute_result"
    }
   ],
   "source": [
    "data = pd.DataFrame(\n",
    "    {\"Grade\": [\"A\", \"B\", \"A\", \"C\"]},\n",
    "    index=[\n",
    "        [\"Final exam\", \"Final exam\", \"Coursework\", \"Coursework\"],\n",
    "        [\"History\", \"Geography\", \"History\", \"Geography\"],\n",
    "        [\"January\", \"February\", \"March\", \"April\"],\n",
    "    ],\n",
    ")\n",
    "print(\"data : \\n \", data)\n",
    "data.swaplevel()"
   ],
   "metadata": {
    "collapsed": false
   }
  },
  {
   "cell_type": "code",
   "execution_count": 89,
   "outputs": [
    {
     "name": "stdout",
     "output_type": "stream",
     "text": [
      "data : \n",
      "     a  b   c\n",
      "0 -1  5   9\n",
      "1  2  6 -10\n",
      "2  3  7  11\n",
      "3  4  8  12\n"
     ]
    },
    {
     "data": {
      "text/plain": "   a  b   c\n2  3  7  11\n3  4  8  12",
      "text/html": "<div>\n<style scoped>\n    .dataframe tbody tr th:only-of-type {\n        vertical-align: middle;\n    }\n\n    .dataframe tbody tr th {\n        vertical-align: top;\n    }\n\n    .dataframe thead th {\n        text-align: right;\n    }\n</style>\n<table border=\"1\" class=\"dataframe\">\n  <thead>\n    <tr style=\"text-align: right;\">\n      <th></th>\n      <th>a</th>\n      <th>b</th>\n      <th>c</th>\n    </tr>\n  </thead>\n  <tbody>\n    <tr>\n      <th>2</th>\n      <td>3</td>\n      <td>7</td>\n      <td>11</td>\n    </tr>\n    <tr>\n      <th>3</th>\n      <td>4</td>\n      <td>8</td>\n      <td>12</td>\n    </tr>\n  </tbody>\n</table>\n</div>"
     },
     "execution_count": 89,
     "metadata": {},
     "output_type": "execute_result"
    }
   ],
   "source": [
    "data = pd.DataFrame({\n",
    "    'a': [-1,2,3,4],\n",
    "    'b': [5,6,7,8],\n",
    "    'c': [9,-10,11,12]\n",
    "})\n",
    "print(\"data : \\n \", data)\n",
    "data.tail(2)"
   ],
   "metadata": {
    "collapsed": false
   }
  },
  {
   "cell_type": "code",
   "execution_count": 93,
   "outputs": [
    {
     "name": "stdout",
     "output_type": "stream",
     "text": [
      "data : \n",
      "     a  b   c\n",
      "0 -1  5   9\n",
      "1  2  6 -10\n",
      "2  3  7  11\n",
      "3  4  8  12\n"
     ]
    },
    {
     "data": {
      "text/plain": "   a  b   c\n0 -1  5   9\n3  4  8  12",
      "text/html": "<div>\n<style scoped>\n    .dataframe tbody tr th:only-of-type {\n        vertical-align: middle;\n    }\n\n    .dataframe tbody tr th {\n        vertical-align: top;\n    }\n\n    .dataframe thead th {\n        text-align: right;\n    }\n</style>\n<table border=\"1\" class=\"dataframe\">\n  <thead>\n    <tr style=\"text-align: right;\">\n      <th></th>\n      <th>a</th>\n      <th>b</th>\n      <th>c</th>\n    </tr>\n  </thead>\n  <tbody>\n    <tr>\n      <th>0</th>\n      <td>-1</td>\n      <td>5</td>\n      <td>9</td>\n    </tr>\n    <tr>\n      <th>3</th>\n      <td>4</td>\n      <td>8</td>\n      <td>12</td>\n    </tr>\n  </tbody>\n</table>\n</div>"
     },
     "execution_count": 93,
     "metadata": {},
     "output_type": "execute_result"
    }
   ],
   "source": [
    "data = pd.DataFrame({\n",
    "    'a': [-1,2,3,4],\n",
    "    'b': [5,6,7,8],\n",
    "    'c': [9,-10,11,12]\n",
    "})\n",
    "print(\"data : \\n \", data)\n",
    "data.take([0, 3])"
   ],
   "metadata": {
    "collapsed": false
   }
  },
  {
   "cell_type": "code",
   "execution_count": 98,
   "outputs": [
    {
     "name": "stdout",
     "output_type": "stream",
     "text": [
      "data : \n",
      "     a  b     c\n",
      "0 -1  5   9.0\n",
      "1  2  6 -10.0\n",
      "2  3  7  11.0\n",
      "3  4  8   NaN\n"
     ]
    }
   ],
   "source": [
    "data = pd.DataFrame({\n",
    "    'a': [-1,2,3,4],\n",
    "    'b': [5,6,7,8],\n",
    "    'c': [9,-10,11,np.nan]\n",
    "})\n",
    "print(\"data : \\n \", data)\n",
    "data.to_clipboard(excel=True)\n",
    "# ctrl + v"
   ],
   "metadata": {
    "collapsed": false
   }
  },
  {
   "cell_type": "code",
   "execution_count": 100,
   "outputs": [
    {
     "name": "stdout",
     "output_type": "stream",
     "text": [
      "data : \n",
      "     a  b   c\n",
      "0 -1  5   9\n",
      "1  2  6 -10\n",
      "2  3  7  11\n",
      "3  4  8  12\n"
     ]
    }
   ],
   "source": [
    "data = pd.DataFrame({\n",
    "    'a': [-1,2,3,4],\n",
    "    'b': [5,6,7,8],\n",
    "    'c': [9,-10,11,12]\n",
    "})\n",
    "print(\"data : \\n \", data)\n",
    "data.to_csv(\"./saved.csv\")"
   ],
   "metadata": {
    "collapsed": false
   }
  },
  {
   "cell_type": "code",
   "execution_count": 108,
   "outputs": [
    {
     "name": "stdout",
     "output_type": "stream",
     "text": [
      "data : \n",
      "     a  b   c\n",
      "0 -1  5   9\n",
      "1  2  6 -10\n",
      "2  3  7  11\n",
      "3  4  8  12\n",
      "{'a': {0: -1, 1: 2, 2: 3, 3: 4}, 'b': {0: 5, 1: 6, 2: 7, 3: 8}, 'c': {0: 9, 1: -10, 2: 11, 3: 12}}\n",
      "{'a': [-1, 2, 3, 4], 'b': [5, 6, 7, 8], 'c': [9, -10, 11, 12]}\n",
      "{'index': [0, 1, 2, 3], 'columns': ['a', 'b', 'c'], 'data': [[-1, 5, 9], [2, 6, -10], [3, 7, 11], [4, 8, 12]]}\n",
      "{'index': [0, 1, 2, 3], 'columns': ['a', 'b', 'c'], 'data': [[-1, 5, 9], [2, 6, -10], [3, 7, 11], [4, 8, 12]], 'index_names': [None], 'column_names': [None]}\n",
      "[{'a': -1, 'b': 5, 'c': 9}, {'a': 2, 'b': 6, 'c': -10}, {'a': 3, 'b': 7, 'c': 11}, {'a': 4, 'b': 8, 'c': 12}]\n",
      "{0: {'a': -1, 'b': 5, 'c': 9}, 1: {'a': 2, 'b': 6, 'c': -10}, 2: {'a': 3, 'b': 7, 'c': 11}, 3: {'a': 4, 'b': 8, 'c': 12}}\n"
     ]
    }
   ],
   "source": [
    "data = pd.DataFrame({\n",
    "    'a': [-1,2,3,4],\n",
    "    'b': [5,6,7,8],\n",
    "    'c': [9,-10,11,12]\n",
    "})\n",
    "print(\"data : \\n \", data)\n",
    "print(data.to_dict(orient='dict'))\n",
    "print(data.to_dict(orient='list'))\n",
    "# print(data.to_dict(orient='series'))\n",
    "print(data.to_dict(orient='split'))\n",
    "print(data.to_dict(orient='tight'))\n",
    "print(data.to_dict(orient='records'))\n",
    "print(data.to_dict(orient='index'))"
   ],
   "metadata": {
    "collapsed": false
   }
  },
  {
   "cell_type": "code",
   "execution_count": 112,
   "outputs": [
    {
     "name": "stdout",
     "output_type": "stream",
     "text": [
      "data : \n",
      "     a  b   c\n",
      "0 -1  5   9\n",
      "1  2  6 -10\n",
      "2  3  7  11\n",
      "3  4  8  12\n"
     ]
    }
   ],
   "source": [
    "data = pd.DataFrame({\n",
    "    'a': [-1,2,3,4],\n",
    "    'b': [5,6,7,8],\n",
    "    'c': [9,-10,11,12]\n",
    "})\n",
    "print(\"data : \\n \", data)\n",
    "data.to_excel(\"./saved_exceldata.xlsx\", sheet_name=\"saved data\")"
   ],
   "metadata": {
    "collapsed": false
   }
  },
  {
   "cell_type": "code",
   "execution_count": 114,
   "outputs": [
    {
     "name": "stdout",
     "output_type": "stream",
     "text": [
      "data : \n",
      "     a  b   c\n",
      "0 -1  5   9\n",
      "1  2  6 -10\n",
      "2  3  7  11\n",
      "3  4  8  12\n",
      "   a  b   c\n",
      "0 -1  5   9\n",
      "1  2  6 -10\n",
      "2  3  7  11\n",
      "3  4  8  12\n"
     ]
    }
   ],
   "source": [
    "import io\n",
    "data = pd.DataFrame({\n",
    "    'a': [-1,2,3,4],\n",
    "    'b': [5,6,7,8],\n",
    "    'c': [9,-10,11,12]\n",
    "})\n",
    "print(\"data : \\n \", data)\n",
    "buf = io.BytesIO()\n",
    "data.to_feather(buf)\n",
    "print(pd.read_feather(buf))"
   ],
   "metadata": {
    "collapsed": false
   }
  },
  {
   "cell_type": "code",
   "execution_count": 115,
   "outputs": [
    {
     "name": "stdout",
     "output_type": "stream",
     "text": [
      "data : \n",
      "     a  b   c\n",
      "0 -1  5   9\n",
      "1  2  6 -10\n",
      "2  3  7  11\n",
      "3  4  8  12\n"
     ]
    }
   ],
   "source": [
    "data = pd.DataFrame({\n",
    "    'a': [-1,2,3,4],\n",
    "    'b': [5,6,7,8],\n",
    "    'c': [9,-10,11,12]\n",
    "})\n",
    "print(\"data : \\n \", data)\n",
    "# data.to_gbq()\n",
    "# dataframe to google.bigquery"
   ],
   "metadata": {
    "collapsed": false
   }
  },
  {
   "cell_type": "code",
   "execution_count": 119,
   "outputs": [
    {
     "name": "stdout",
     "output_type": "stream",
     "text": [
      "data : \n",
      "     a  b   c\n",
      "0 -1  5   9\n",
      "1  2  6 -10\n",
      "2  3  7  11\n",
      "3  4  8  12\n"
     ]
    }
   ],
   "source": [
    "data = pd.DataFrame({\n",
    "    'a': [-1,2,3,4],\n",
    "    'b': [5,6,7,8],\n",
    "    'c': [9,-10,11,12]\n",
    "})\n",
    "print(\"data : \\n \", data)\n",
    "# data.to_hdf(path_or_buf=\"./data.h5\", key=\"d\")\n",
    "# print(pd.read_hdf(\"./data.h5\", 'd'))"
   ],
   "metadata": {
    "collapsed": false
   }
  },
  {
   "cell_type": "code",
   "execution_count": 124,
   "outputs": [
    {
     "name": "stdout",
     "output_type": "stream",
     "text": [
      "data : \n",
      "     a  b   c\n",
      "0 -1  5   9\n",
      "1  2  6 -10\n",
      "2  3  7  11\n",
      "3  4  8  12\n",
      "<table border=\"2\" class=\"dataframe\" id=\"new_html_table\">\n",
      "  <thead>\n",
      "    <tr style=\"text-align: right;\">\n",
      "      <th></th>\n",
      "      <th>a</th>\n",
      "      <th>b</th>\n",
      "      <th>c</th>\n",
      "    </tr>\n",
      "  </thead>\n",
      "  <tbody>\n",
      "    <tr>\n",
      "      <th>0</th>\n",
      "      <td>-1</td>\n",
      "      <td>5</td>\n",
      "      <td>9</td>\n",
      "    </tr>\n",
      "    <tr>\n",
      "      <th>1</th>\n",
      "      <td>2</td>\n",
      "      <td>6</td>\n",
      "      <td>-10</td>\n",
      "    </tr>\n",
      "    <tr>\n",
      "      <th>2</th>\n",
      "      <td>3</td>\n",
      "      <td>7</td>\n",
      "      <td>11</td>\n",
      "    </tr>\n",
      "    <tr>\n",
      "      <th>3</th>\n",
      "      <td>4</td>\n",
      "      <td>8</td>\n",
      "      <td>12</td>\n",
      "    </tr>\n",
      "  </tbody>\n",
      "</table>\n"
     ]
    }
   ],
   "source": [
    "data = pd.DataFrame({\n",
    "    'a': [-1,2,3,4],\n",
    "    'b': [5,6,7,8],\n",
    "    'c': [9,-10,11,12]\n",
    "})\n",
    "print(\"data : \\n \", data)\n",
    "print(data.to_html(bold_rows=True, border=2, table_id=\"new_html_table\"))"
   ],
   "metadata": {
    "collapsed": false
   }
  },
  {
   "cell_type": "code",
   "execution_count": 127,
   "outputs": [
    {
     "name": "stdout",
     "output_type": "stream",
     "text": [
      "data : \n",
      "     a  b   c\n",
      "0 -1  5   9\n",
      "1  2  6 -10\n",
      "2  3  7  11\n",
      "3  4  8  12\n",
      "   a  b   c\n",
      "0 -1  5   9\n",
      "1  2  6 -10\n",
      "2  3  7  11\n",
      "3  4  8  12\n"
     ]
    }
   ],
   "source": [
    "data = pd.DataFrame({\n",
    "    'a': [-1,2,3,4],\n",
    "    'b': [5,6,7,8],\n",
    "    'c': [9,-10,11,12]\n",
    "})\n",
    "print(\"data : \\n \", data)\n",
    "data.to_json(\"./saved_json.json\")\n",
    "print(pd.read_json(\"./saved_json.json\"))"
   ],
   "metadata": {
    "collapsed": false
   }
  },
  {
   "cell_type": "code",
   "execution_count": 132,
   "outputs": [
    {
     "name": "stdout",
     "output_type": "stream",
     "text": [
      "data : \n",
      "     a  b   c\n",
      "0 -1  5   9\n",
      "1  2  6 -10\n",
      "2  3  7  11\n",
      "3  4  8  12\n"
     ]
    },
    {
     "name": "stderr",
     "output_type": "stream",
     "text": [
      "C:\\Users\\student.ASTRUM-DOMAIN\\AppData\\Local\\Temp\\ipykernel_10456\\2969457421.py:7: FutureWarning: In future versions `DataFrame.to_latex` is expected to utilise the base implementation of `Styler.to_latex` for formatting and rendering. The arguments signature may therefore change. It is recommended instead to use `DataFrame.style.to_latex` which also contains additional functionality.\n",
      "  data.to_latex(\"./saved_latex\")\n"
     ]
    }
   ],
   "source": [
    "data = pd.DataFrame({\n",
    "    'a': [-1,2,3,4],\n",
    "    'b': [5,6,7,8],\n",
    "    'c': [9,-10,11,12]\n",
    "})\n",
    "print(\"data : \\n \", data)\n",
    "data.to_latex(\"./saved_latex\")"
   ],
   "metadata": {
    "collapsed": false
   }
  },
  {
   "cell_type": "code",
   "execution_count": 141,
   "outputs": [
    {
     "name": "stdout",
     "output_type": "stream",
     "text": [
      "data : \n",
      "     a  b   c\n",
      "0 -1  5   9\n",
      "1  2  6 -10\n",
      "2  3  7  11\n",
      "3  4  8  12\n",
      "|    |   a |   b |   c |\n",
      "|---:|----:|----:|----:|\n",
      "|  0 |  -1 |   5 |   9 |\n",
      "|  1 |   2 |   6 | -10 |\n",
      "|  2 |   3 |   7 |  11 |\n",
      "|  3 |   4 |   8 |  12 |\n",
      "\n",
      "\n",
      "grid\n",
      " +----+-----+-----+-----+\n",
      "|    |   a |   b |   c |\n",
      "+====+=====+=====+=====+\n",
      "|  0 |  -1 |   5 |   9 |\n",
      "+----+-----+-----+-----+\n",
      "|  1 |   2 |   6 | -10 |\n",
      "+----+-----+-----+-----+\n",
      "|  2 |   3 |   7 |  11 |\n",
      "+----+-----+-----+-----+\n",
      "|  3 |   4 |   8 |  12 |\n",
      "+----+-----+-----+-----+\n"
     ]
    }
   ],
   "source": [
    "data = pd.DataFrame({\n",
    "    'a': [-1,2,3,4],\n",
    "    'b': [5,6,7,8],\n",
    "    'c': [9,-10,11,12]\n",
    "})\n",
    "print(\"data : \\n \", data)\n",
    "print(data.to_markdown())\n",
    "print(\"\\n\\ngrid\\n\", data.to_markdown(tablefmt=\"grid\"))"
   ],
   "metadata": {
    "collapsed": false
   }
  },
  {
   "cell_type": "code",
   "execution_count": 143,
   "outputs": [
    {
     "name": "stdout",
     "output_type": "stream",
     "text": [
      "data : \n",
      "     a  b   c\n",
      "0 -1  5   9\n",
      "1  2  6 -10\n",
      "2  3  7  11\n",
      "3  4  8  12\n"
     ]
    },
    {
     "data": {
      "text/plain": "array([[ -1,   5,   9],\n       [  2,   6, -10],\n       [  3,   7,  11],\n       [  4,   8,  12]], dtype=int64)"
     },
     "execution_count": 143,
     "metadata": {},
     "output_type": "execute_result"
    }
   ],
   "source": [
    "data = pd.DataFrame({\n",
    "    'a': [-1,2,3,4],\n",
    "    'b': [5,6,7,8],\n",
    "    'c': [9,-10,11,12]\n",
    "})\n",
    "print(\"data : \\n \", data)\n",
    "data.to_numpy()"
   ],
   "metadata": {
    "collapsed": false
   }
  },
  {
   "cell_type": "code",
   "execution_count": 152,
   "outputs": [],
   "source": [
    "from pyarrow import orc\n",
    "data = pd.DataFrame({\n",
    "    'a': [-1,2,3,4],\n",
    "    'b': [5,6,7,8],\n",
    "    'c': [9,-10,11,12]\n",
    "})\n",
    "print(\"data : \\n \", data)\n",
    "data.to_orc(\"./saved_orcfile.orc\")\n",
    "print(pd.read_orc(\"./saved_orcfile.orc\"))"
   ],
   "metadata": {
    "collapsed": false
   }
  },
  {
   "cell_type": "code",
   "execution_count": 155,
   "outputs": [
    {
     "name": "stdout",
     "output_type": "stream",
     "text": [
      "data : \n",
      "     a  b   c\n",
      "0 -1  5   9\n",
      "1  2  6 -10\n",
      "2  3  7  11\n",
      "3  4  8  12\n",
      "   a  b   c\n",
      "0 -1  5   9\n",
      "1  2  6 -10\n",
      "2  3  7  11\n",
      "3  4  8  12\n"
     ]
    }
   ],
   "source": [
    "data = pd.DataFrame({\n",
    "    'a': [-1,2,3,4],\n",
    "    'b': [5,6,7,8],\n",
    "    'c': [9,-10,11,12]\n",
    "})\n",
    "print(\"data : \\n \", data)\n",
    "data.to_parquet(\"./saved_parquetfile.gzip\", compression=\"gzip\")\n",
    "print(pd.read_parquet(\"./saved_parquetfile.gzip\"))"
   ],
   "metadata": {
    "collapsed": false
   }
  },
  {
   "cell_type": "code",
   "execution_count": 164,
   "outputs": [
    {
     "name": "stdout",
     "output_type": "stream",
     "text": [
      "data : \n",
      "  DatetimeIndex(['2001-03-31', '2002-05-31', '2003-08-31'], dtype='datetime64[ns]', freq=None)\n"
     ]
    },
    {
     "data": {
      "text/plain": "PeriodIndex(['2001-03', '2002-05', '2003-08'], dtype='period[M]')"
     },
     "execution_count": 164,
     "metadata": {},
     "output_type": "execute_result"
    }
   ],
   "source": [
    "data = pd.to_datetime(\n",
    "                    [\"2001-03-31 00:00:00\",\"2002-05-31 00:00:00\",\"2003-08-31 00:00:00\"])\n",
    "print(\"data : \\n \", data)\n",
    "data.to_period(\"M\")"
   ],
   "metadata": {
    "collapsed": false
   }
  },
  {
   "cell_type": "code",
   "execution_count": 167,
   "outputs": [
    {
     "name": "stdout",
     "output_type": "stream",
     "text": [
      "data : \n",
      "     a  b   c\n",
      "0 -1  5   9\n",
      "1  2  6 -10\n",
      "2  3  7  11\n",
      "3  4  8  12\n",
      "   a  b   c\n",
      "0 -1  5   9\n",
      "1  2  6 -10\n",
      "2  3  7  11\n",
      "3  4  8  12\n"
     ]
    }
   ],
   "source": [
    "data = pd.DataFrame({\n",
    "    'a': [-1,2,3,4],\n",
    "    'b': [5,6,7,8],\n",
    "    'c': [9,-10,11,12]\n",
    "})\n",
    "print(\"data : \\n \", data)\n",
    "data.to_pickle(\"./saved_picklefile.pkl\")\n",
    "print(pd.read_pickle(\"./saved_picklefile.pkl\"))"
   ],
   "metadata": {
    "collapsed": false
   }
  },
  {
   "cell_type": "code",
   "execution_count": 172,
   "outputs": [
    {
     "name": "stdout",
     "output_type": "stream",
     "text": [
      "data : \n",
      "     a  b   c\n",
      "0 -1  5   9\n",
      "1  2  6 -10\n",
      "2  3  7  11\n",
      "3  4  8  12\n",
      "\n",
      "\n",
      "records array : \n",
      " [(-1, 5,   9) ( 2, 6, -10) ( 3, 7,  11) ( 4, 8,  12)]\n"
     ]
    },
    {
     "data": {
      "text/plain": "   a  b   c\n0 -1  5   9\n1  2  6 -10\n2  3  7  11\n3  4  8  12",
      "text/html": "<div>\n<style scoped>\n    .dataframe tbody tr th:only-of-type {\n        vertical-align: middle;\n    }\n\n    .dataframe tbody tr th {\n        vertical-align: top;\n    }\n\n    .dataframe thead th {\n        text-align: right;\n    }\n</style>\n<table border=\"1\" class=\"dataframe\">\n  <thead>\n    <tr style=\"text-align: right;\">\n      <th></th>\n      <th>a</th>\n      <th>b</th>\n      <th>c</th>\n    </tr>\n  </thead>\n  <tbody>\n    <tr>\n      <th>0</th>\n      <td>-1</td>\n      <td>5</td>\n      <td>9</td>\n    </tr>\n    <tr>\n      <th>1</th>\n      <td>2</td>\n      <td>6</td>\n      <td>-10</td>\n    </tr>\n    <tr>\n      <th>2</th>\n      <td>3</td>\n      <td>7</td>\n      <td>11</td>\n    </tr>\n    <tr>\n      <th>3</th>\n      <td>4</td>\n      <td>8</td>\n      <td>12</td>\n    </tr>\n  </tbody>\n</table>\n</div>"
     },
     "execution_count": 172,
     "metadata": {},
     "output_type": "execute_result"
    }
   ],
   "source": [
    "data = pd.DataFrame({\n",
    "    'a': [-1,2,3,4],\n",
    "    'b': [5,6,7,8],\n",
    "    'c': [9,-10,11,12]\n",
    "})\n",
    "print(\"data : \\n \", data)\n",
    "x = data.to_records(index=False)\n",
    "print(\"\\n\\nrecords array : \\n\", x)\n",
    "pd.DataFrame.from_records(x)"
   ],
   "metadata": {
    "collapsed": false
   }
  },
  {
   "cell_type": "code",
   "execution_count": 176,
   "outputs": [
    {
     "name": "stdout",
     "output_type": "stream",
     "text": [
      "data : \n",
      "     a  b   c\n",
      "0 -1  5   9\n",
      "1  2  6 -10\n",
      "2  3  7  11\n",
      "3  4  8  12\n",
      "   index  a  b   c\n",
      "0      0 -1  5   9\n",
      "1      1  2  6 -10\n",
      "2      2  3  7  11\n",
      "3      3  4  8  12\n"
     ]
    }
   ],
   "source": [
    "import sqlite3\n",
    "data = pd.DataFrame({\n",
    "    'a': [-1,2,3,4],\n",
    "    'b': [5,6,7,8],\n",
    "    'c': [9,-10,11,12]\n",
    "})\n",
    "connection = sqlite3.connect(\"./saved_sqlfile.db\")\n",
    "print(\"data : \\n \", data)\n",
    "data.to_sql(\"table_name\", connection)\n",
    "print(pd.read_sql(\"SELECT * FROM table_name\", connection))"
   ],
   "metadata": {
    "collapsed": false
   }
  },
  {
   "cell_type": "code",
   "execution_count": 179,
   "outputs": [
    {
     "name": "stdout",
     "output_type": "stream",
     "text": [
      "data : \n",
      "     a  b   c\n",
      "0 -1  5   9\n",
      "1  2  6 -10\n",
      "2  3  7  11\n",
      "3  4  8  12\n",
      "   index  a  b   c\n",
      "0      0 -1  5   9\n",
      "1      1  2  6 -10\n",
      "2      2  3  7  11\n",
      "3      3  4  8  12\n"
     ]
    }
   ],
   "source": [
    "data = pd.DataFrame({\n",
    "    'a': [-1,2,3,4],\n",
    "    'b': [5,6,7,8],\n",
    "    'c': [9,-10,11,12]\n",
    "})\n",
    "print(\"data : \\n \", data)\n",
    "data.to_stata(\"saved_statafile.dta\")\n",
    "print(pd.read_stata(\"./saved_statafile.dta\"))"
   ],
   "metadata": {
    "collapsed": false
   }
  },
  {
   "cell_type": "code",
   "execution_count": 184,
   "outputs": [
    {
     "name": "stdout",
     "output_type": "stream",
     "text": [
      "data : \n",
      "     a  b   c\n",
      "0 -1  5   9\n",
      "1  2  6 -10\n",
      "2  3  7  11\n",
      "3  4  8  12\n",
      "   a  b   c\n",
      "0 -1  5   9\n",
      "1  2  6 -10\n",
      "2  3  7  11\n",
      "3  4  8  12\n"
     ]
    }
   ],
   "source": [
    "data = pd.DataFrame({\n",
    "    'a': [-1,2,3,4],\n",
    "    'b': [5,6,7,8],\n",
    "    'c': [9,-10,11,12]\n",
    "})\n",
    "print(\"data : \\n \", data)\n",
    "print(data.to_string())"
   ],
   "metadata": {
    "collapsed": false
   }
  },
  {
   "cell_type": "code",
   "execution_count": 200,
   "outputs": [
    {
     "ename": "TypeError",
     "evalue": "unsupported Type RangeIndex",
     "output_type": "error",
     "traceback": [
      "\u001B[1;31m---------------------------------------------------------------------------\u001B[0m",
      "\u001B[1;31mTypeError\u001B[0m                                 Traceback (most recent call last)",
      "Cell \u001B[1;32mIn [200], line 3\u001B[0m\n\u001B[0;32m      1\u001B[0m data \u001B[38;5;241m=\u001B[39m pd\u001B[38;5;241m.\u001B[39mRangeIndex(\u001B[38;5;241m10\u001B[39m, \u001B[38;5;241m100\u001B[39m, \u001B[38;5;241m10\u001B[39m)\n\u001B[0;32m      2\u001B[0m data \u001B[38;5;241m=\u001B[39m pd\u001B[38;5;241m.\u001B[39mDataFrame({\u001B[38;5;124m'\u001B[39m\u001B[38;5;124mx\u001B[39m\u001B[38;5;124m'\u001B[39m: data}, index\u001B[38;5;241m=\u001B[39mdata)\n\u001B[1;32m----> 3\u001B[0m data\u001B[38;5;241m.\u001B[39mto_timestamp()\n",
      "File \u001B[1;32m~\\AppData\\IqrorjonCoder\\python-projects\\all-pandas-functions\\venv\\lib\\site-packages\\pandas\\core\\frame.py:11461\u001B[0m, in \u001B[0;36mDataFrame.to_timestamp\u001B[1;34m(self, freq, how, axis, copy)\u001B[0m\n\u001B[0;32m  11459\u001B[0m old_ax \u001B[38;5;241m=\u001B[39m \u001B[38;5;28mgetattr\u001B[39m(\u001B[38;5;28mself\u001B[39m, axis_name)\n\u001B[0;32m  11460\u001B[0m \u001B[38;5;28;01mif\u001B[39;00m \u001B[38;5;129;01mnot\u001B[39;00m \u001B[38;5;28misinstance\u001B[39m(old_ax, PeriodIndex):\n\u001B[1;32m> 11461\u001B[0m     \u001B[38;5;28;01mraise\u001B[39;00m \u001B[38;5;167;01mTypeError\u001B[39;00m(\u001B[38;5;124mf\u001B[39m\u001B[38;5;124m\"\u001B[39m\u001B[38;5;124munsupported Type \u001B[39m\u001B[38;5;132;01m{\u001B[39;00m\u001B[38;5;28mtype\u001B[39m(old_ax)\u001B[38;5;241m.\u001B[39m\u001B[38;5;18m__name__\u001B[39m\u001B[38;5;132;01m}\u001B[39;00m\u001B[38;5;124m\"\u001B[39m)\n\u001B[0;32m  11463\u001B[0m new_ax \u001B[38;5;241m=\u001B[39m old_ax\u001B[38;5;241m.\u001B[39mto_timestamp(freq\u001B[38;5;241m=\u001B[39mfreq, how\u001B[38;5;241m=\u001B[39mhow)\n\u001B[0;32m  11465\u001B[0m \u001B[38;5;28msetattr\u001B[39m(new_obj, axis_name, new_ax)\n",
      "\u001B[1;31mTypeError\u001B[0m: unsupported Type RangeIndex"
     ]
    }
   ],
   "source": [
    "# data = pd.RangeIndex(10, 100, 10)\n",
    "# data = pd.DataFrame({'x': data}, index=data)\n",
    "# data.to_timestamp()"
   ],
   "metadata": {
    "collapsed": false
   }
  },
  {
   "cell_type": "code",
   "execution_count": 205,
   "outputs": [
    {
     "name": "stdout",
     "output_type": "stream",
     "text": [
      "data : \n",
      "     a  b   c\n",
      "0 -1  5   9\n",
      "1  2  6 -10\n",
      "2  3  7  11\n",
      "3  4  8  12\n"
     ]
    },
    {
     "data": {
      "text/plain": "<xarray.Dataset>\nDimensions:  (index: 4)\nCoordinates:\n  * index    (index) int64 0 1 2 3\nData variables:\n    a        (index) int64 -1 2 3 4\n    b        (index) int64 5 6 7 8\n    c        (index) int64 9 -10 11 12",
      "text/html": "<div><svg style=\"position: absolute; width: 0; height: 0; overflow: hidden\">\n<defs>\n<symbol id=\"icon-database\" viewBox=\"0 0 32 32\">\n<path d=\"M16 0c-8.837 0-16 2.239-16 5v4c0 2.761 7.163 5 16 5s16-2.239 16-5v-4c0-2.761-7.163-5-16-5z\"></path>\n<path d=\"M16 17c-8.837 0-16-2.239-16-5v6c0 2.761 7.163 5 16 5s16-2.239 16-5v-6c0 2.761-7.163 5-16 5z\"></path>\n<path d=\"M16 26c-8.837 0-16-2.239-16-5v6c0 2.761 7.163 5 16 5s16-2.239 16-5v-6c0 2.761-7.163 5-16 5z\"></path>\n</symbol>\n<symbol id=\"icon-file-text2\" viewBox=\"0 0 32 32\">\n<path d=\"M28.681 7.159c-0.694-0.947-1.662-2.053-2.724-3.116s-2.169-2.030-3.116-2.724c-1.612-1.182-2.393-1.319-2.841-1.319h-15.5c-1.378 0-2.5 1.121-2.5 2.5v27c0 1.378 1.122 2.5 2.5 2.5h23c1.378 0 2.5-1.122 2.5-2.5v-19.5c0-0.448-0.137-1.23-1.319-2.841zM24.543 5.457c0.959 0.959 1.712 1.825 2.268 2.543h-4.811v-4.811c0.718 0.556 1.584 1.309 2.543 2.268zM28 29.5c0 0.271-0.229 0.5-0.5 0.5h-23c-0.271 0-0.5-0.229-0.5-0.5v-27c0-0.271 0.229-0.5 0.5-0.5 0 0 15.499-0 15.5 0v7c0 0.552 0.448 1 1 1h7v19.5z\"></path>\n<path d=\"M23 26h-14c-0.552 0-1-0.448-1-1s0.448-1 1-1h14c0.552 0 1 0.448 1 1s-0.448 1-1 1z\"></path>\n<path d=\"M23 22h-14c-0.552 0-1-0.448-1-1s0.448-1 1-1h14c0.552 0 1 0.448 1 1s-0.448 1-1 1z\"></path>\n<path d=\"M23 18h-14c-0.552 0-1-0.448-1-1s0.448-1 1-1h14c0.552 0 1 0.448 1 1s-0.448 1-1 1z\"></path>\n</symbol>\n</defs>\n</svg>\n<style>/* CSS stylesheet for displaying xarray objects in jupyterlab.\n *\n */\n\n:root {\n  --xr-font-color0: var(--jp-content-font-color0, rgba(0, 0, 0, 1));\n  --xr-font-color2: var(--jp-content-font-color2, rgba(0, 0, 0, 0.54));\n  --xr-font-color3: var(--jp-content-font-color3, rgba(0, 0, 0, 0.38));\n  --xr-border-color: var(--jp-border-color2, #e0e0e0);\n  --xr-disabled-color: var(--jp-layout-color3, #bdbdbd);\n  --xr-background-color: var(--jp-layout-color0, white);\n  --xr-background-color-row-even: var(--jp-layout-color1, white);\n  --xr-background-color-row-odd: var(--jp-layout-color2, #eeeeee);\n}\n\nhtml[theme=dark],\nbody[data-theme=dark],\nbody.vscode-dark {\n  --xr-font-color0: rgba(255, 255, 255, 1);\n  --xr-font-color2: rgba(255, 255, 255, 0.54);\n  --xr-font-color3: rgba(255, 255, 255, 0.38);\n  --xr-border-color: #1F1F1F;\n  --xr-disabled-color: #515151;\n  --xr-background-color: #111111;\n  --xr-background-color-row-even: #111111;\n  --xr-background-color-row-odd: #313131;\n}\n\n.xr-wrap {\n  display: block !important;\n  min-width: 300px;\n  max-width: 700px;\n}\n\n.xr-text-repr-fallback {\n  /* fallback to plain text repr when CSS is not injected (untrusted notebook) */\n  display: none;\n}\n\n.xr-header {\n  padding-top: 6px;\n  padding-bottom: 6px;\n  margin-bottom: 4px;\n  border-bottom: solid 1px var(--xr-border-color);\n}\n\n.xr-header > div,\n.xr-header > ul {\n  display: inline;\n  margin-top: 0;\n  margin-bottom: 0;\n}\n\n.xr-obj-type,\n.xr-array-name {\n  margin-left: 2px;\n  margin-right: 10px;\n}\n\n.xr-obj-type {\n  color: var(--xr-font-color2);\n}\n\n.xr-sections {\n  padding-left: 0 !important;\n  display: grid;\n  grid-template-columns: 150px auto auto 1fr 20px 20px;\n}\n\n.xr-section-item {\n  display: contents;\n}\n\n.xr-section-item input {\n  display: none;\n}\n\n.xr-section-item input + label {\n  color: var(--xr-disabled-color);\n}\n\n.xr-section-item input:enabled + label {\n  cursor: pointer;\n  color: var(--xr-font-color2);\n}\n\n.xr-section-item input:enabled + label:hover {\n  color: var(--xr-font-color0);\n}\n\n.xr-section-summary {\n  grid-column: 1;\n  color: var(--xr-font-color2);\n  font-weight: 500;\n}\n\n.xr-section-summary > span {\n  display: inline-block;\n  padding-left: 0.5em;\n}\n\n.xr-section-summary-in:disabled + label {\n  color: var(--xr-font-color2);\n}\n\n.xr-section-summary-in + label:before {\n  display: inline-block;\n  content: '►';\n  font-size: 11px;\n  width: 15px;\n  text-align: center;\n}\n\n.xr-section-summary-in:disabled + label:before {\n  color: var(--xr-disabled-color);\n}\n\n.xr-section-summary-in:checked + label:before {\n  content: '▼';\n}\n\n.xr-section-summary-in:checked + label > span {\n  display: none;\n}\n\n.xr-section-summary,\n.xr-section-inline-details {\n  padding-top: 4px;\n  padding-bottom: 4px;\n}\n\n.xr-section-inline-details {\n  grid-column: 2 / -1;\n}\n\n.xr-section-details {\n  display: none;\n  grid-column: 1 / -1;\n  margin-bottom: 5px;\n}\n\n.xr-section-summary-in:checked ~ .xr-section-details {\n  display: contents;\n}\n\n.xr-array-wrap {\n  grid-column: 1 / -1;\n  display: grid;\n  grid-template-columns: 20px auto;\n}\n\n.xr-array-wrap > label {\n  grid-column: 1;\n  vertical-align: top;\n}\n\n.xr-preview {\n  color: var(--xr-font-color3);\n}\n\n.xr-array-preview,\n.xr-array-data {\n  padding: 0 5px !important;\n  grid-column: 2;\n}\n\n.xr-array-data,\n.xr-array-in:checked ~ .xr-array-preview {\n  display: none;\n}\n\n.xr-array-in:checked ~ .xr-array-data,\n.xr-array-preview {\n  display: inline-block;\n}\n\n.xr-dim-list {\n  display: inline-block !important;\n  list-style: none;\n  padding: 0 !important;\n  margin: 0;\n}\n\n.xr-dim-list li {\n  display: inline-block;\n  padding: 0;\n  margin: 0;\n}\n\n.xr-dim-list:before {\n  content: '(';\n}\n\n.xr-dim-list:after {\n  content: ')';\n}\n\n.xr-dim-list li:not(:last-child):after {\n  content: ',';\n  padding-right: 5px;\n}\n\n.xr-has-index {\n  font-weight: bold;\n}\n\n.xr-var-list,\n.xr-var-item {\n  display: contents;\n}\n\n.xr-var-item > div,\n.xr-var-item label,\n.xr-var-item > .xr-var-name span {\n  background-color: var(--xr-background-color-row-even);\n  margin-bottom: 0;\n}\n\n.xr-var-item > .xr-var-name:hover span {\n  padding-right: 5px;\n}\n\n.xr-var-list > li:nth-child(odd) > div,\n.xr-var-list > li:nth-child(odd) > label,\n.xr-var-list > li:nth-child(odd) > .xr-var-name span {\n  background-color: var(--xr-background-color-row-odd);\n}\n\n.xr-var-name {\n  grid-column: 1;\n}\n\n.xr-var-dims {\n  grid-column: 2;\n}\n\n.xr-var-dtype {\n  grid-column: 3;\n  text-align: right;\n  color: var(--xr-font-color2);\n}\n\n.xr-var-preview {\n  grid-column: 4;\n}\n\n.xr-var-name,\n.xr-var-dims,\n.xr-var-dtype,\n.xr-preview,\n.xr-attrs dt {\n  white-space: nowrap;\n  overflow: hidden;\n  text-overflow: ellipsis;\n  padding-right: 10px;\n}\n\n.xr-var-name:hover,\n.xr-var-dims:hover,\n.xr-var-dtype:hover,\n.xr-attrs dt:hover {\n  overflow: visible;\n  width: auto;\n  z-index: 1;\n}\n\n.xr-var-attrs,\n.xr-var-data {\n  display: none;\n  background-color: var(--xr-background-color) !important;\n  padding-bottom: 5px !important;\n}\n\n.xr-var-attrs-in:checked ~ .xr-var-attrs,\n.xr-var-data-in:checked ~ .xr-var-data {\n  display: block;\n}\n\n.xr-var-data > table {\n  float: right;\n}\n\n.xr-var-name span,\n.xr-var-data,\n.xr-attrs {\n  padding-left: 25px !important;\n}\n\n.xr-attrs,\n.xr-var-attrs,\n.xr-var-data {\n  grid-column: 1 / -1;\n}\n\ndl.xr-attrs {\n  padding: 0;\n  margin: 0;\n  display: grid;\n  grid-template-columns: 125px auto;\n}\n\n.xr-attrs dt,\n.xr-attrs dd {\n  padding: 0;\n  margin: 0;\n  float: left;\n  padding-right: 10px;\n  width: auto;\n}\n\n.xr-attrs dt {\n  font-weight: normal;\n  grid-column: 1;\n}\n\n.xr-attrs dt:hover span {\n  display: inline-block;\n  background: var(--xr-background-color);\n  padding-right: 10px;\n}\n\n.xr-attrs dd {\n  grid-column: 2;\n  white-space: pre-wrap;\n  word-break: break-all;\n}\n\n.xr-icon-database,\n.xr-icon-file-text2 {\n  display: inline-block;\n  vertical-align: middle;\n  width: 1em;\n  height: 1.5em !important;\n  stroke-width: 0;\n  stroke: currentColor;\n  fill: currentColor;\n}\n</style><pre class='xr-text-repr-fallback'>&lt;xarray.Dataset&gt;\nDimensions:  (index: 4)\nCoordinates:\n  * index    (index) int64 0 1 2 3\nData variables:\n    a        (index) int64 -1 2 3 4\n    b        (index) int64 5 6 7 8\n    c        (index) int64 9 -10 11 12</pre><div class='xr-wrap' style='display:none'><div class='xr-header'><div class='xr-obj-type'>xarray.Dataset</div></div><ul class='xr-sections'><li class='xr-section-item'><input id='section-42d48da3-8bad-4f45-a765-3178917bc566' class='xr-section-summary-in' type='checkbox' disabled ><label for='section-42d48da3-8bad-4f45-a765-3178917bc566' class='xr-section-summary'  title='Expand/collapse section'>Dimensions:</label><div class='xr-section-inline-details'><ul class='xr-dim-list'><li><span class='xr-has-index'>index</span>: 4</li></ul></div><div class='xr-section-details'></div></li><li class='xr-section-item'><input id='section-b84a543f-85d2-4d46-91b5-9589716795ae' class='xr-section-summary-in' type='checkbox'  checked><label for='section-b84a543f-85d2-4d46-91b5-9589716795ae' class='xr-section-summary' >Coordinates: <span>(1)</span></label><div class='xr-section-inline-details'></div><div class='xr-section-details'><ul class='xr-var-list'><li class='xr-var-item'><div class='xr-var-name'><span class='xr-has-index'>index</span></div><div class='xr-var-dims'>(index)</div><div class='xr-var-dtype'>int64</div><div class='xr-var-preview xr-preview'>0 1 2 3</div><input id='attrs-989feaee-0524-45cb-9cd6-96fb834f515c' class='xr-var-attrs-in' type='checkbox' disabled><label for='attrs-989feaee-0524-45cb-9cd6-96fb834f515c' title='Show/Hide attributes'><svg class='icon xr-icon-file-text2'><use xlink:href='#icon-file-text2'></use></svg></label><input id='data-d8f797c6-d958-43a3-bb67-4c90d0c24d02' class='xr-var-data-in' type='checkbox'><label for='data-d8f797c6-d958-43a3-bb67-4c90d0c24d02' title='Show/Hide data repr'><svg class='icon xr-icon-database'><use xlink:href='#icon-database'></use></svg></label><div class='xr-var-attrs'><dl class='xr-attrs'></dl></div><div class='xr-var-data'><pre>array([0, 1, 2, 3], dtype=int64)</pre></div></li></ul></div></li><li class='xr-section-item'><input id='section-8fc284a9-1815-4da8-a665-afa722d013ae' class='xr-section-summary-in' type='checkbox'  checked><label for='section-8fc284a9-1815-4da8-a665-afa722d013ae' class='xr-section-summary' >Data variables: <span>(3)</span></label><div class='xr-section-inline-details'></div><div class='xr-section-details'><ul class='xr-var-list'><li class='xr-var-item'><div class='xr-var-name'><span>a</span></div><div class='xr-var-dims'>(index)</div><div class='xr-var-dtype'>int64</div><div class='xr-var-preview xr-preview'>-1 2 3 4</div><input id='attrs-90fda406-a1f8-4df0-a5a0-dce32a0d2433' class='xr-var-attrs-in' type='checkbox' disabled><label for='attrs-90fda406-a1f8-4df0-a5a0-dce32a0d2433' title='Show/Hide attributes'><svg class='icon xr-icon-file-text2'><use xlink:href='#icon-file-text2'></use></svg></label><input id='data-fadf33e9-4b58-4851-8108-251f25cf1ca9' class='xr-var-data-in' type='checkbox'><label for='data-fadf33e9-4b58-4851-8108-251f25cf1ca9' title='Show/Hide data repr'><svg class='icon xr-icon-database'><use xlink:href='#icon-database'></use></svg></label><div class='xr-var-attrs'><dl class='xr-attrs'></dl></div><div class='xr-var-data'><pre>array([-1,  2,  3,  4], dtype=int64)</pre></div></li><li class='xr-var-item'><div class='xr-var-name'><span>b</span></div><div class='xr-var-dims'>(index)</div><div class='xr-var-dtype'>int64</div><div class='xr-var-preview xr-preview'>5 6 7 8</div><input id='attrs-aa783069-d088-471d-a8ea-f2367fa2b2e3' class='xr-var-attrs-in' type='checkbox' disabled><label for='attrs-aa783069-d088-471d-a8ea-f2367fa2b2e3' title='Show/Hide attributes'><svg class='icon xr-icon-file-text2'><use xlink:href='#icon-file-text2'></use></svg></label><input id='data-2fd597a0-1856-4276-b03e-04ddb04248be' class='xr-var-data-in' type='checkbox'><label for='data-2fd597a0-1856-4276-b03e-04ddb04248be' title='Show/Hide data repr'><svg class='icon xr-icon-database'><use xlink:href='#icon-database'></use></svg></label><div class='xr-var-attrs'><dl class='xr-attrs'></dl></div><div class='xr-var-data'><pre>array([5, 6, 7, 8], dtype=int64)</pre></div></li><li class='xr-var-item'><div class='xr-var-name'><span>c</span></div><div class='xr-var-dims'>(index)</div><div class='xr-var-dtype'>int64</div><div class='xr-var-preview xr-preview'>9 -10 11 12</div><input id='attrs-505b99db-0d99-4632-9816-f0aa378be06d' class='xr-var-attrs-in' type='checkbox' disabled><label for='attrs-505b99db-0d99-4632-9816-f0aa378be06d' title='Show/Hide attributes'><svg class='icon xr-icon-file-text2'><use xlink:href='#icon-file-text2'></use></svg></label><input id='data-5643102d-9abc-4a58-8a9e-31be15ed0cc8' class='xr-var-data-in' type='checkbox'><label for='data-5643102d-9abc-4a58-8a9e-31be15ed0cc8' title='Show/Hide data repr'><svg class='icon xr-icon-database'><use xlink:href='#icon-database'></use></svg></label><div class='xr-var-attrs'><dl class='xr-attrs'></dl></div><div class='xr-var-data'><pre>array([  9, -10,  11,  12], dtype=int64)</pre></div></li></ul></div></li><li class='xr-section-item'><input id='section-fac8255c-2082-40a5-b5ea-1e81d44a533b' class='xr-section-summary-in' type='checkbox' disabled ><label for='section-fac8255c-2082-40a5-b5ea-1e81d44a533b' class='xr-section-summary'  title='Expand/collapse section'>Attributes: <span>(0)</span></label><div class='xr-section-inline-details'></div><div class='xr-section-details'><dl class='xr-attrs'></dl></div></li></ul></div></div>"
     },
     "execution_count": 205,
     "metadata": {},
     "output_type": "execute_result"
    }
   ],
   "source": [
    "data = pd.DataFrame({\n",
    "    'a': [-1,2,3,4],\n",
    "    'b': [5,6,7,8],\n",
    "    'c': [9,-10,11,12]\n",
    "})\n",
    "print(\"data : \\n \", data)\n",
    "data.to_xarray()"
   ],
   "metadata": {
    "collapsed": false
   }
  },
  {
   "cell_type": "code",
   "execution_count": 209,
   "outputs": [
    {
     "name": "stdout",
     "output_type": "stream",
     "text": [
      "data : \n",
      "     a  b   c\n",
      "0 -1  5   9\n",
      "1  2  6 -10\n",
      "2  3  7  11\n",
      "3  4  8  12\n",
      "<?xml version='1.0' encoding='utf-8'?>\n",
      "<data>\n",
      "  <row>\n",
      "    <index>0</index>\n",
      "    <a>-1</a>\n",
      "    <b>5</b>\n",
      "    <c>9</c>\n",
      "  </row>\n",
      "  <row>\n",
      "    <index>1</index>\n",
      "    <a>2</a>\n",
      "    <b>6</b>\n",
      "    <c>-10</c>\n",
      "  </row>\n",
      "  <row>\n",
      "    <index>2</index>\n",
      "    <a>3</a>\n",
      "    <b>7</b>\n",
      "    <c>11</c>\n",
      "  </row>\n",
      "  <row>\n",
      "    <index>3</index>\n",
      "    <a>4</a>\n",
      "    <b>8</b>\n",
      "    <c>12</c>\n",
      "  </row>\n",
      "</data>\n"
     ]
    }
   ],
   "source": [
    "data = pd.DataFrame({\n",
    "    'a': [-1,2,3,4],\n",
    "    'b': [5,6,7,8],\n",
    "    'c': [9,-10,11,12]\n",
    "})\n",
    "print(\"data : \\n \", data)\n",
    "print(data.to_xml())"
   ],
   "metadata": {
    "collapsed": false
   }
  },
  {
   "cell_type": "code",
   "execution_count": 214,
   "outputs": [
    {
     "name": "stdout",
     "output_type": "stream",
     "text": [
      "data : \n",
      "     a  b   c\n",
      "0 -1  5   9\n",
      "1  2  6 -10\n",
      "2  3  7  11\n",
      "3  4  8  12\n"
     ]
    },
    {
     "data": {
      "text/plain": "          a         b         c\n0       NaN  2.236068  3.000000\n1  1.414214  2.449490       NaN\n2  1.732051  2.645751  3.316625\n3  2.000000  2.828427  3.464102",
      "text/html": "<div>\n<style scoped>\n    .dataframe tbody tr th:only-of-type {\n        vertical-align: middle;\n    }\n\n    .dataframe tbody tr th {\n        vertical-align: top;\n    }\n\n    .dataframe thead th {\n        text-align: right;\n    }\n</style>\n<table border=\"1\" class=\"dataframe\">\n  <thead>\n    <tr style=\"text-align: right;\">\n      <th></th>\n      <th>a</th>\n      <th>b</th>\n      <th>c</th>\n    </tr>\n  </thead>\n  <tbody>\n    <tr>\n      <th>0</th>\n      <td>NaN</td>\n      <td>2.236068</td>\n      <td>3.000000</td>\n    </tr>\n    <tr>\n      <th>1</th>\n      <td>1.414214</td>\n      <td>2.449490</td>\n      <td>NaN</td>\n    </tr>\n    <tr>\n      <th>2</th>\n      <td>1.732051</td>\n      <td>2.645751</td>\n      <td>3.316625</td>\n    </tr>\n    <tr>\n      <th>3</th>\n      <td>2.000000</td>\n      <td>2.828427</td>\n      <td>3.464102</td>\n    </tr>\n  </tbody>\n</table>\n</div>"
     },
     "execution_count": 214,
     "metadata": {},
     "output_type": "execute_result"
    }
   ],
   "source": [
    "data = pd.DataFrame({\n",
    "    'a': [-1,2,3,4],\n",
    "    'b': [5,6,7,8],\n",
    "    'c': [9,-10,11,12]\n",
    "})\n",
    "print(\"data : \\n \", data)\n",
    "data.transform(np.sqrt)"
   ],
   "metadata": {
    "collapsed": false
   }
  },
  {
   "cell_type": "code",
   "execution_count": 216,
   "outputs": [
    {
     "name": "stdout",
     "output_type": "stream",
     "text": [
      "data : \n",
      "     a  b   c\n",
      "0 -1  5   9\n",
      "1  2  6 -10\n",
      "2  3  7  11\n",
      "3  4  8  12\n"
     ]
    },
    {
     "data": {
      "text/plain": "   0   1   2   3\na -1   2   3   4\nb  5   6   7   8\nc  9 -10  11  12",
      "text/html": "<div>\n<style scoped>\n    .dataframe tbody tr th:only-of-type {\n        vertical-align: middle;\n    }\n\n    .dataframe tbody tr th {\n        vertical-align: top;\n    }\n\n    .dataframe thead th {\n        text-align: right;\n    }\n</style>\n<table border=\"1\" class=\"dataframe\">\n  <thead>\n    <tr style=\"text-align: right;\">\n      <th></th>\n      <th>0</th>\n      <th>1</th>\n      <th>2</th>\n      <th>3</th>\n    </tr>\n  </thead>\n  <tbody>\n    <tr>\n      <th>a</th>\n      <td>-1</td>\n      <td>2</td>\n      <td>3</td>\n      <td>4</td>\n    </tr>\n    <tr>\n      <th>b</th>\n      <td>5</td>\n      <td>6</td>\n      <td>7</td>\n      <td>8</td>\n    </tr>\n    <tr>\n      <th>c</th>\n      <td>9</td>\n      <td>-10</td>\n      <td>11</td>\n      <td>12</td>\n    </tr>\n  </tbody>\n</table>\n</div>"
     },
     "execution_count": 216,
     "metadata": {},
     "output_type": "execute_result"
    }
   ],
   "source": [
    "data = pd.DataFrame({\n",
    "    'a': [-1,2,3,4],\n",
    "    'b': [5,6,7,8],\n",
    "    'c': [9,-10,11,12]\n",
    "})\n",
    "print(\"data : \\n \", data)\n",
    "data.transpose()"
   ],
   "metadata": {
    "collapsed": false
   }
  },
  {
   "cell_type": "code",
   "execution_count": 220,
   "outputs": [
    {
     "name": "stdout",
     "output_type": "stream",
     "text": [
      "data : \n",
      "     a  b   c\n",
      "0 -1  5   9\n",
      "1  2  6 -10\n",
      "2  3  7  11\n",
      "3  4  8  12\n"
     ]
    },
    {
     "data": {
      "text/plain": "     a    b    c\n0 -0.1  0.5  0.9\n1  0.2  0.6 -1.0\n2  0.3  0.7  1.1\n3  0.4  0.8  1.2",
      "text/html": "<div>\n<style scoped>\n    .dataframe tbody tr th:only-of-type {\n        vertical-align: middle;\n    }\n\n    .dataframe tbody tr th {\n        vertical-align: top;\n    }\n\n    .dataframe thead th {\n        text-align: right;\n    }\n</style>\n<table border=\"1\" class=\"dataframe\">\n  <thead>\n    <tr style=\"text-align: right;\">\n      <th></th>\n      <th>a</th>\n      <th>b</th>\n      <th>c</th>\n    </tr>\n  </thead>\n  <tbody>\n    <tr>\n      <th>0</th>\n      <td>-0.1</td>\n      <td>0.5</td>\n      <td>0.9</td>\n    </tr>\n    <tr>\n      <th>1</th>\n      <td>0.2</td>\n      <td>0.6</td>\n      <td>-1.0</td>\n    </tr>\n    <tr>\n      <th>2</th>\n      <td>0.3</td>\n      <td>0.7</td>\n      <td>1.1</td>\n    </tr>\n    <tr>\n      <th>3</th>\n      <td>0.4</td>\n      <td>0.8</td>\n      <td>1.2</td>\n    </tr>\n  </tbody>\n</table>\n</div>"
     },
     "execution_count": 220,
     "metadata": {},
     "output_type": "execute_result"
    }
   ],
   "source": [
    "data = pd.DataFrame({\n",
    "    'a': [-1,2,3,4],\n",
    "    'b': [5,6,7,8],\n",
    "    'c': [9,-10,11,12]\n",
    "})\n",
    "print(\"data : \\n \", data)\n",
    "data.truediv(10)"
   ],
   "metadata": {
    "collapsed": false
   }
  },
  {
   "cell_type": "code",
   "execution_count": 224,
   "outputs": [
    {
     "name": "stdout",
     "output_type": "stream",
     "text": [
      "data : \n",
      "     a  b   c\n",
      "0 -1  5   9\n",
      "1  2  6 -10\n",
      "2  3  7  11\n",
      "3  4  8  12\n"
     ]
    },
    {
     "data": {
      "text/plain": "   a  b   c\n1  2  6 -10\n2  3  7  11",
      "text/html": "<div>\n<style scoped>\n    .dataframe tbody tr th:only-of-type {\n        vertical-align: middle;\n    }\n\n    .dataframe tbody tr th {\n        vertical-align: top;\n    }\n\n    .dataframe thead th {\n        text-align: right;\n    }\n</style>\n<table border=\"1\" class=\"dataframe\">\n  <thead>\n    <tr style=\"text-align: right;\">\n      <th></th>\n      <th>a</th>\n      <th>b</th>\n      <th>c</th>\n    </tr>\n  </thead>\n  <tbody>\n    <tr>\n      <th>1</th>\n      <td>2</td>\n      <td>6</td>\n      <td>-10</td>\n    </tr>\n    <tr>\n      <th>2</th>\n      <td>3</td>\n      <td>7</td>\n      <td>11</td>\n    </tr>\n  </tbody>\n</table>\n</div>"
     },
     "execution_count": 224,
     "metadata": {},
     "output_type": "execute_result"
    }
   ],
   "source": [
    "data = pd.DataFrame({\n",
    "    'a': [-1,2,3,4],\n",
    "    'b': [5,6,7,8],\n",
    "    'c': [9,-10,11,12]\n",
    "})\n",
    "print(\"data : \\n \", data)\n",
    "data.truncate(before=1, after=2)"
   ],
   "metadata": {
    "collapsed": false
   }
  },
  {
   "cell_type": "code",
   "execution_count": 229,
   "outputs": [
    {
     "name": "stdout",
     "output_type": "stream",
     "text": [
      "data : \n",
      "              dates\n",
      "2005-01-01      0\n",
      "2005-01-02      1\n",
      "2005-01-03      2\n",
      "2005-01-04      3\n",
      "2005-01-05      4\n",
      "2005-01-06      5\n",
      "2005-01-07      6\n",
      "2005-01-08      7\n",
      "2005-01-09      8\n",
      "2005-01-10      9\n"
     ]
    },
    {
     "name": "stderr",
     "output_type": "stream",
     "text": [
      "C:\\Users\\student.ASTRUM-DOMAIN\\AppData\\Local\\Temp\\ipykernel_10456\\1546749051.py:3: FutureWarning: tshift is deprecated and will be removed in a future version. Please use shift instead.\n",
      "  data.tshift(2)\n"
     ]
    },
    {
     "data": {
      "text/plain": "            dates\n2005-01-03      0\n2005-01-04      1\n2005-01-05      2\n2005-01-06      3\n2005-01-07      4\n2005-01-08      5\n2005-01-09      6\n2005-01-10      7\n2005-01-11      8\n2005-01-12      9",
      "text/html": "<div>\n<style scoped>\n    .dataframe tbody tr th:only-of-type {\n        vertical-align: middle;\n    }\n\n    .dataframe tbody tr th {\n        vertical-align: top;\n    }\n\n    .dataframe thead th {\n        text-align: right;\n    }\n</style>\n<table border=\"1\" class=\"dataframe\">\n  <thead>\n    <tr style=\"text-align: right;\">\n      <th></th>\n      <th>dates</th>\n    </tr>\n  </thead>\n  <tbody>\n    <tr>\n      <th>2005-01-03</th>\n      <td>0</td>\n    </tr>\n    <tr>\n      <th>2005-01-04</th>\n      <td>1</td>\n    </tr>\n    <tr>\n      <th>2005-01-05</th>\n      <td>2</td>\n    </tr>\n    <tr>\n      <th>2005-01-06</th>\n      <td>3</td>\n    </tr>\n    <tr>\n      <th>2005-01-07</th>\n      <td>4</td>\n    </tr>\n    <tr>\n      <th>2005-01-08</th>\n      <td>5</td>\n    </tr>\n    <tr>\n      <th>2005-01-09</th>\n      <td>6</td>\n    </tr>\n    <tr>\n      <th>2005-01-10</th>\n      <td>7</td>\n    </tr>\n    <tr>\n      <th>2005-01-11</th>\n      <td>8</td>\n    </tr>\n    <tr>\n      <th>2005-01-12</th>\n      <td>9</td>\n    </tr>\n  </tbody>\n</table>\n</div>"
     },
     "execution_count": 229,
     "metadata": {},
     "output_type": "execute_result"
    }
   ],
   "source": [
    "data = pd.DataFrame({'dates':np.arange(10)}, index=pd.date_range('1/1/2005', periods=10, freq='1D'))\n",
    "print(\"data : \\n \", data)\n",
    "data.tshift(2)"
   ],
   "metadata": {
    "collapsed": false
   }
  },
  {
   "cell_type": "code",
   "execution_count": 236,
   "outputs": [
    {
     "name": "stdout",
     "output_type": "stream",
     "text": [
      "data : \n",
      "                             dates\n",
      "2005-01-01 00:00:00-06:00      0\n",
      "2005-01-01 01:00:00-06:00      1\n",
      "2005-01-01 02:00:00-06:00      2\n",
      "2005-01-01 03:00:00-06:00      3\n",
      "2005-01-01 04:00:00-06:00      4\n",
      "2005-01-01 05:00:00-06:00      5\n",
      "2005-01-01 06:00:00-06:00      6\n",
      "2005-01-01 07:00:00-06:00      7\n",
      "2005-01-01 08:00:00-06:00      8\n",
      "2005-01-01 09:00:00-06:00      9\n"
     ]
    },
    {
     "data": {
      "text/plain": "                           dates\n2005-01-01 07:00:00+01:00      0\n2005-01-01 08:00:00+01:00      1\n2005-01-01 09:00:00+01:00      2\n2005-01-01 10:00:00+01:00      3\n2005-01-01 11:00:00+01:00      4\n2005-01-01 12:00:00+01:00      5\n2005-01-01 13:00:00+01:00      6\n2005-01-01 14:00:00+01:00      7\n2005-01-01 15:00:00+01:00      8\n2005-01-01 16:00:00+01:00      9",
      "text/html": "<div>\n<style scoped>\n    .dataframe tbody tr th:only-of-type {\n        vertical-align: middle;\n    }\n\n    .dataframe tbody tr th {\n        vertical-align: top;\n    }\n\n    .dataframe thead th {\n        text-align: right;\n    }\n</style>\n<table border=\"1\" class=\"dataframe\">\n  <thead>\n    <tr style=\"text-align: right;\">\n      <th></th>\n      <th>dates</th>\n    </tr>\n  </thead>\n  <tbody>\n    <tr>\n      <th>2005-01-01 07:00:00+01:00</th>\n      <td>0</td>\n    </tr>\n    <tr>\n      <th>2005-01-01 08:00:00+01:00</th>\n      <td>1</td>\n    </tr>\n    <tr>\n      <th>2005-01-01 09:00:00+01:00</th>\n      <td>2</td>\n    </tr>\n    <tr>\n      <th>2005-01-01 10:00:00+01:00</th>\n      <td>3</td>\n    </tr>\n    <tr>\n      <th>2005-01-01 11:00:00+01:00</th>\n      <td>4</td>\n    </tr>\n    <tr>\n      <th>2005-01-01 12:00:00+01:00</th>\n      <td>5</td>\n    </tr>\n    <tr>\n      <th>2005-01-01 13:00:00+01:00</th>\n      <td>6</td>\n    </tr>\n    <tr>\n      <th>2005-01-01 14:00:00+01:00</th>\n      <td>7</td>\n    </tr>\n    <tr>\n      <th>2005-01-01 15:00:00+01:00</th>\n      <td>8</td>\n    </tr>\n    <tr>\n      <th>2005-01-01 16:00:00+01:00</th>\n      <td>9</td>\n    </tr>\n  </tbody>\n</table>\n</div>"
     },
     "execution_count": 236,
     "metadata": {},
     "output_type": "execute_result"
    }
   ],
   "source": [
    "data = pd.DataFrame({'dates':np.arange(10)}, index=pd.date_range('1/1/2005', periods=10, freq='1H', tz='US/Central'))\n",
    "print(\"data : \\n \", data)\n",
    "data.tz_convert(tz='Europe/Berlin')"
   ],
   "metadata": {
    "collapsed": false
   }
  },
  {
   "cell_type": "code",
   "execution_count": 242,
   "outputs": [
    {
     "data": {
      "text/plain": "2018-10-28 01:30:00+02:00    0\n2018-10-28 02:00:00+02:00    1\n2018-10-28 02:30:00+02:00    2\n2018-10-28 02:00:00+01:00    3\n2018-10-28 02:30:00+01:00    4\n2018-10-28 03:00:00+01:00    5\n2018-10-28 03:30:00+01:00    6\ndtype: int64"
     },
     "execution_count": 242,
     "metadata": {},
     "output_type": "execute_result"
    }
   ],
   "source": [
    "s = pd.Series(range(7),index=pd.DatetimeIndex(['2018-10-28 01:30:00',\n",
    "                        '2018-10-28 02:00:00',\n",
    "                        '2018-10-28 02:30:00',\n",
    "                        '2018-10-28 02:00:00',\n",
    "                        '2018-10-28 02:30:00',\n",
    "                        '2018-10-28 03:00:00',\n",
    "                        '2018-10-28 03:30:00']))\n",
    "s.tz_localize('CET', ambiguous='infer')"
   ],
   "metadata": {
    "collapsed": false
   }
  },
  {
   "cell_type": "code",
   "execution_count": 244,
   "outputs": [
    {
     "name": "stdout",
     "output_type": "stream",
     "text": [
      "data : \n",
      "     a  b   c\n",
      "0 -1  5   9\n",
      "1  2  6 -10\n",
      "2  3  7  11\n",
      "3  4  8  12\n"
     ]
    },
    {
     "data": {
      "text/plain": "a  0    -1\n   1     2\n   2     3\n   3     4\nb  0     5\n   1     6\n   2     7\n   3     8\nc  0     9\n   1   -10\n   2    11\n   3    12\ndtype: int64"
     },
     "execution_count": 244,
     "metadata": {},
     "output_type": "execute_result"
    }
   ],
   "source": [
    "data = pd.DataFrame({\n",
    "    'a': [-1,2,3,4],\n",
    "    'b': [5,6,7,8],\n",
    "    'c': [9,-10,11,12]\n",
    "})\n",
    "print(\"data : \\n \", data)\n",
    "data.unstack()"
   ],
   "metadata": {
    "collapsed": false
   }
  },
  {
   "cell_type": "code",
   "execution_count": 249,
   "outputs": [
    {
     "name": "stdout",
     "output_type": "stream",
     "text": [
      "data : \n",
      "     a  b   c\n",
      "0 -1  5   9\n",
      "1  2  6 -10\n",
      "2  3  7  11\n",
      "3  4  8  12\n",
      "other : \n",
      "       b  d\n",
      "0  100  1\n",
      "1  200  2\n",
      "2  300  3\n",
      "3  400  4\n",
      "\n",
      "\n",
      "updated\n",
      "    a    b   c\n",
      "0 -1  100   9\n",
      "1  2  200 -10\n",
      "2  3  300  11\n",
      "3  4  400  12\n"
     ]
    }
   ],
   "source": [
    "data = pd.DataFrame({\n",
    "    'a': [-1,2,3,4],\n",
    "    'b': [5,6,7,8],\n",
    "    'c': [9,-10,11,12]\n",
    "})\n",
    "other = pd.DataFrame({\n",
    "    'b': [100, 200, 300, 400],\n",
    "    'd': [1, 2, 3, 4],\n",
    "})\n",
    "print(\"data : \\n \", data)\n",
    "print(\"other : \\n \", other)\n",
    "data.update(other)\n",
    "print(\"\\n\\nupdated\\n\", data)\n"
   ],
   "metadata": {
    "collapsed": false
   }
  },
  {
   "cell_type": "code",
   "execution_count": 251,
   "outputs": [
    {
     "name": "stdout",
     "output_type": "stream",
     "text": [
      "data : \n",
      "     a  b   c\n",
      "0 -1  5   9\n",
      "1  2  6 -10\n",
      "2  3  7  11\n",
      "3  4  8  12\n"
     ]
    },
    {
     "data": {
      "text/plain": "a   b  c  \n-1  5   9     1\n 2  6  -10    1\n 3  7   11    1\n 4  8   12    1\ndtype: int64"
     },
     "execution_count": 251,
     "metadata": {},
     "output_type": "execute_result"
    }
   ],
   "source": [
    "data = pd.DataFrame({\n",
    "    'a': [-1,2,3,4],\n",
    "    'b': [5,6,7,8],\n",
    "    'c': [9,-10,11,12]\n",
    "})\n",
    "print(\"data : \\n \", data)\n",
    "data.value_counts()"
   ],
   "metadata": {
    "collapsed": false
   }
  },
  {
   "cell_type": "code",
   "execution_count": 253,
   "outputs": [
    {
     "name": "stdout",
     "output_type": "stream",
     "text": [
      "data : \n",
      "     a  b   c\n",
      "0 -1  5   9\n",
      "1  2  6 -10\n",
      "2  3  7  11\n",
      "3  4  8  12\n"
     ]
    },
    {
     "data": {
      "text/plain": "array([[ -1,   5,   9],\n       [  2,   6, -10],\n       [  3,   7,  11],\n       [  4,   8,  12]], dtype=int64)"
     },
     "execution_count": 253,
     "metadata": {},
     "output_type": "execute_result"
    }
   ],
   "source": [
    "data = pd.DataFrame({\n",
    "    'a': [-1,2,3,4],\n",
    "    'b': [5,6,7,8],\n",
    "    'c': [9,-10,11,12]\n",
    "})\n",
    "print(\"data : \\n \", data)\n",
    "data.values"
   ],
   "metadata": {
    "collapsed": false
   }
  },
  {
   "cell_type": "code",
   "execution_count": 255,
   "outputs": [
    {
     "name": "stdout",
     "output_type": "stream",
     "text": [
      "data : \n",
      "     a  b   c\n",
      "0 -1  5   9\n",
      "1  2  6 -10\n",
      "2  3  7  11\n",
      "3  4  8  12\n"
     ]
    },
    {
     "data": {
      "text/plain": "0    25.333333\n1    69.333333\n2    16.000000\n3    16.000000\ndtype: float64"
     },
     "execution_count": 255,
     "metadata": {},
     "output_type": "execute_result"
    }
   ],
   "source": [
    "data = pd.DataFrame({\n",
    "    'a': [-1,2,3,4],\n",
    "    'b': [5,6,7,8],\n",
    "    'c': [9,-10,11,12]\n",
    "})\n",
    "print(\"data : \\n \", data)\n",
    "data.var(axis=1)"
   ],
   "metadata": {
    "collapsed": false
   }
  },
  {
   "cell_type": "code",
   "execution_count": 257,
   "outputs": [
    {
     "name": "stdout",
     "output_type": "stream",
     "text": [
      "data : \n",
      "     a  b   c\n",
      "0 -1  5   9\n",
      "1  2  6 -10\n",
      "2  3  7  11\n",
      "3  4  8  12\n"
     ]
    },
    {
     "data": {
      "text/plain": "   a   b     c\n0 -1 NaN   NaN\n1  2 NaN -10.0\n2  3 NaN   NaN\n3  4 NaN   NaN",
      "text/html": "<div>\n<style scoped>\n    .dataframe tbody tr th:only-of-type {\n        vertical-align: middle;\n    }\n\n    .dataframe tbody tr th {\n        vertical-align: top;\n    }\n\n    .dataframe thead th {\n        text-align: right;\n    }\n</style>\n<table border=\"1\" class=\"dataframe\">\n  <thead>\n    <tr style=\"text-align: right;\">\n      <th></th>\n      <th>a</th>\n      <th>b</th>\n      <th>c</th>\n    </tr>\n  </thead>\n  <tbody>\n    <tr>\n      <th>0</th>\n      <td>-1</td>\n      <td>NaN</td>\n      <td>NaN</td>\n    </tr>\n    <tr>\n      <th>1</th>\n      <td>2</td>\n      <td>NaN</td>\n      <td>-10.0</td>\n    </tr>\n    <tr>\n      <th>2</th>\n      <td>3</td>\n      <td>NaN</td>\n      <td>NaN</td>\n    </tr>\n    <tr>\n      <th>3</th>\n      <td>4</td>\n      <td>NaN</td>\n      <td>NaN</td>\n    </tr>\n  </tbody>\n</table>\n</div>"
     },
     "execution_count": 257,
     "metadata": {},
     "output_type": "execute_result"
    }
   ],
   "source": [
    "data = pd.DataFrame({\n",
    "    'a': [-1,2,3,4],\n",
    "    'b': [5,6,7,8],\n",
    "    'c': [9,-10,11,12]\n",
    "})\n",
    "print(\"data : \\n \", data)\n",
    "data.where(data<5)"
   ],
   "metadata": {
    "collapsed": false
   }
  },
  {
   "cell_type": "code",
   "execution_count": 266,
   "outputs": [
    {
     "name": "stdout",
     "output_type": "stream",
     "text": [
      "data : \n",
      "                            num_legs  num_wings\n",
      "class  animal  locomotion                     \n",
      "mammal cat     walks              4          0\n",
      "       dog     walks              4          0\n",
      "       bat     flies              2          2\n",
      "bird   penguin walks              2          2\n"
     ]
    },
    {
     "data": {
      "text/plain": "                   num_legs  num_wings\nanimal locomotion                     \ncat    walks              4          0\ndog    walks              4          0\nbat    flies              2          2",
      "text/html": "<div>\n<style scoped>\n    .dataframe tbody tr th:only-of-type {\n        vertical-align: middle;\n    }\n\n    .dataframe tbody tr th {\n        vertical-align: top;\n    }\n\n    .dataframe thead th {\n        text-align: right;\n    }\n</style>\n<table border=\"1\" class=\"dataframe\">\n  <thead>\n    <tr style=\"text-align: right;\">\n      <th></th>\n      <th></th>\n      <th>num_legs</th>\n      <th>num_wings</th>\n    </tr>\n    <tr>\n      <th>animal</th>\n      <th>locomotion</th>\n      <th></th>\n      <th></th>\n    </tr>\n  </thead>\n  <tbody>\n    <tr>\n      <th>cat</th>\n      <th>walks</th>\n      <td>4</td>\n      <td>0</td>\n    </tr>\n    <tr>\n      <th>dog</th>\n      <th>walks</th>\n      <td>4</td>\n      <td>0</td>\n    </tr>\n    <tr>\n      <th>bat</th>\n      <th>flies</th>\n      <td>2</td>\n      <td>2</td>\n    </tr>\n  </tbody>\n</table>\n</div>"
     },
     "execution_count": 266,
     "metadata": {},
     "output_type": "execute_result"
    }
   ],
   "source": [
    "d = {'num_legs': [4, 4, 2, 2],\n",
    "      'num_wings': [0, 0, 2, 2],\n",
    "      'class': ['mammal', 'mammal', 'mammal', 'bird'],\n",
    "      'animal': ['cat', 'dog', 'bat', 'penguin'],\n",
    "      'locomotion': ['walks', 'walks', 'flies', 'walks']}\n",
    "df = pd.DataFrame(data=d)\n",
    "df = df.set_index(['class', 'animal', 'locomotion'])\n",
    "print(\"data : \\n\", df)\n",
    "df.xs('mammal')"
   ],
   "metadata": {
    "collapsed": false
   }
  }
 ],
 "metadata": {
  "kernelspec": {
   "display_name": "Python 3",
   "language": "python",
   "name": "python3"
  },
  "language_info": {
   "codemirror_mode": {
    "name": "ipython",
    "version": 2
   },
   "file_extension": ".py",
   "mimetype": "text/x-python",
   "name": "python",
   "nbconvert_exporter": "python",
   "pygments_lexer": "ipython2",
   "version": "2.7.6"
  }
 },
 "nbformat": 4,
 "nbformat_minor": 0
}
