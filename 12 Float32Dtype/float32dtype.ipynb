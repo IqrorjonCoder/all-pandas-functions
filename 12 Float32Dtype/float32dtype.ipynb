{
 "cells": [
  {
   "cell_type": "code",
   "execution_count": 1,
   "metadata": {
    "collapsed": true
   },
   "outputs": [
    {
     "name": "stdout",
     "output_type": "stream",
     "text": [
      "0 base\n",
      "1 construct_array_type\n",
      "2 construct_from_string\n",
      "3 empty\n",
      "4 from_numpy_dtype\n",
      "5 is_dtype\n",
      "6 is_signed_integer\n",
      "7 is_unsigned_integer\n",
      "8 itemsize\n",
      "9 kind\n",
      "10 na_value\n",
      "11 name\n",
      "12 names\n",
      "13 numpy_dtype\n",
      "14 type\n"
     ]
    }
   ],
   "source": [
    "import numpy as np\n",
    "import pandas as pd\n",
    "import matplotlib.pyplot as plt\n",
    "\n",
    "functions = [i for i in dir(pd.Float32Dtype) if i[:1] != '_']\n",
    "\n",
    "for i, v in enumerate(functions):\n",
    "    print(i, v)"
   ]
  },
  {
   "cell_type": "code",
   "execution_count": 8,
   "outputs": [
    {
     "data": {
      "text/plain": "Float32Dtype()"
     },
     "execution_count": 8,
     "metadata": {},
     "output_type": "execute_result"
    }
   ],
   "source": [
    "pd.Float32Dtype()"
   ],
   "metadata": {
    "collapsed": false
   }
  },
  {
   "cell_type": "code",
   "execution_count": 12,
   "outputs": [
    {
     "data": {
      "text/plain": "pandas.core.arrays.floating.FloatingArray"
     },
     "execution_count": 12,
     "metadata": {},
     "output_type": "execute_result"
    }
   ],
   "source": [
    "pd.Float32Dtype.construct_array_type()"
   ],
   "metadata": {
    "collapsed": false
   }
  },
  {
   "cell_type": "code",
   "execution_count": 21,
   "outputs": [
    {
     "data": {
      "text/plain": "'\\n        Construct this type from a string.\\n\\n        This is useful mainly for data types that accept parameters.\\n        For example, a period dtype accepts a frequency parameter that\\n        can be set as ``period[H]`` (where H means hourly frequency).\\n\\n        By default, in the abstract class, just the name of the type is\\n        expected. But subclasses can overwrite this method to accept\\n        parameters.\\n\\n        Parameters\\n        ----------\\n        string : str\\n            The name of the type, for example ``category``.\\n\\n        Returns\\n        -------\\n        ExtensionDtype\\n            Instance of the dtype.\\n\\n        Raises\\n        ------\\n        TypeError\\n            If a class cannot be constructed from this \\'string\\'.\\n\\n        Examples\\n        --------\\n        For extension dtypes with arguments the following may be an\\n        adequate implementation.\\n\\n        >>> @classmethod\\n        ... def construct_from_string(cls, string):\\n        ...     pattern = re.compile(r\"^my_type\\\\[(?P<arg_name>.+)\\\\]$\")\\n        ...     match = pattern.match(string)\\n        ...     if match:\\n        ...         return cls(**match.groupdict())\\n        ...     else:\\n        ...         raise TypeError(\\n        ...             f\"Cannot construct a \\'{cls.__name__}\\' from \\'{string}\\'\"\\n        ...         )\\n        '"
     },
     "execution_count": 21,
     "metadata": {},
     "output_type": "execute_result"
    }
   ],
   "source": [
    "pd.Float32Dtype.construct_from_string.__doc__"
   ],
   "metadata": {
    "collapsed": false
   }
  },
  {
   "cell_type": "code",
   "execution_count": 34,
   "outputs": [
    {
     "data": {
      "text/plain": "'\\n        Construct an ExtensionArray of this dtype with the given shape.\\n\\n        Analogous to numpy.empty.\\n\\n        Parameters\\n        ----------\\n        shape : int or tuple[int]\\n\\n        Returns\\n        -------\\n        ExtensionArray\\n        '"
     },
     "execution_count": 34,
     "metadata": {},
     "output_type": "execute_result"
    }
   ],
   "source": [
    "pd.Float32Dtype.empty.__doc__"
   ],
   "metadata": {
    "collapsed": false
   }
  },
  {
   "cell_type": "code",
   "execution_count": 48,
   "outputs": [
    {
     "data": {
      "text/plain": "<bound method BaseMaskedDtype.from_numpy_dtype of <class 'pandas.core.arrays.floating.Float32Dtype'>>"
     },
     "execution_count": 48,
     "metadata": {},
     "output_type": "execute_result"
    }
   ],
   "source": [
    "pd.Float32Dtype.from_numpy_dtype"
   ],
   "metadata": {
    "collapsed": false
   }
  },
  {
   "cell_type": "code",
   "execution_count": 56,
   "outputs": [
    {
     "data": {
      "text/plain": "False"
     },
     "execution_count": 56,
     "metadata": {},
     "output_type": "execute_result"
    }
   ],
   "source": [
    "data = pd.Float32Dtype.is_dtype(dtype=np.float64)\n",
    "data"
   ],
   "metadata": {
    "collapsed": false
   }
  },
  {
   "cell_type": "code",
   "execution_count": 71,
   "outputs": [],
   "source": [
    "data = pd.Float32Dtype.is_signed_integer.__doc__\n",
    "data"
   ],
   "metadata": {
    "collapsed": false
   }
  },
  {
   "cell_type": "code",
   "execution_count": 73,
   "outputs": [],
   "source": [
    "data = pd.Float32Dtype.is_unsigned_integer.__doc__\n",
    "data"
   ],
   "metadata": {
    "collapsed": false
   }
  },
  {
   "cell_type": "code",
   "execution_count": 74,
   "outputs": [
    {
     "data": {
      "text/plain": "'Return the number of bytes in this dtype'"
     },
     "execution_count": 74,
     "metadata": {},
     "output_type": "execute_result"
    }
   ],
   "source": [
    "data = pd.Float32Dtype.itemsize.__doc__\n",
    "data"
   ],
   "metadata": {
    "collapsed": false
   }
  },
  {
   "cell_type": "code",
   "execution_count": 75,
   "outputs": [],
   "source": [
    "data = pd.Float32Dtype.kind.__doc__\n",
    "data"
   ],
   "metadata": {
    "collapsed": false
   }
  },
  {
   "cell_type": "code",
   "execution_count": 76,
   "outputs": [],
   "source": [
    "data = pd.Float32Dtype.is_signed_integer.__doc__\n",
    "data"
   ],
   "metadata": {
    "collapsed": false
   }
  },
  {
   "cell_type": "code",
   "execution_count": 78,
   "outputs": [
    {
     "data": {
      "text/plain": "<property at 0x1793a5b8360>"
     },
     "execution_count": 78,
     "metadata": {},
     "output_type": "execute_result"
    }
   ],
   "source": [
    "data = pd.Float32Dtype.na_value\n",
    "data"
   ],
   "metadata": {
    "collapsed": false
   }
  },
  {
   "cell_type": "code",
   "execution_count": 80,
   "outputs": [
    {
     "data": {
      "text/plain": "'Float32'"
     },
     "execution_count": 80,
     "metadata": {},
     "output_type": "execute_result"
    }
   ],
   "source": [
    "data = pd.Float32Dtype.name\n",
    "data"
   ],
   "metadata": {
    "collapsed": false
   }
  },
  {
   "cell_type": "code",
   "execution_count": 83,
   "outputs": [
    {
     "data": {
      "text/plain": "'\\n        Ordered list of field names, or None if there are no fields.\\n\\n        This is for compatibility with NumPy arrays, and may be removed in the\\n        future.\\n        '"
     },
     "execution_count": 83,
     "metadata": {},
     "output_type": "execute_result"
    }
   ],
   "source": [
    "data = pd.Float32Dtype.names.__doc__\n",
    "data"
   ],
   "metadata": {
    "collapsed": false
   }
  },
  {
   "cell_type": "code",
   "execution_count": 90,
   "outputs": [
    {
     "data": {
      "text/plain": "'Return an instance of our numpy dtype'"
     },
     "execution_count": 90,
     "metadata": {},
     "output_type": "execute_result"
    }
   ],
   "source": [
    "data = pd.Float32Dtype.numpy_dtype.__doc__\n",
    "data"
   ],
   "metadata": {
    "collapsed": false
   }
  },
  {
   "cell_type": "code",
   "execution_count": 92,
   "outputs": [
    {
     "data": {
      "text/plain": "numpy.float32"
     },
     "execution_count": 92,
     "metadata": {},
     "output_type": "execute_result"
    }
   ],
   "source": [
    "data = pd.Float32Dtype.type\n",
    "data"
   ],
   "metadata": {
    "collapsed": false
   }
  }
 ],
 "metadata": {
  "kernelspec": {
   "display_name": "Python 3",
   "language": "python",
   "name": "python3"
  },
  "language_info": {
   "codemirror_mode": {
    "name": "ipython",
    "version": 2
   },
   "file_extension": ".py",
   "mimetype": "text/x-python",
   "name": "python",
   "nbconvert_exporter": "python",
   "pygments_lexer": "ipython2",
   "version": "2.7.6"
  }
 },
 "nbformat": 4,
 "nbformat_minor": 0
}
