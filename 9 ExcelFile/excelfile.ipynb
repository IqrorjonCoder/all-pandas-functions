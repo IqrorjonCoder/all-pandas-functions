{
 "cells": [
  {
   "cell_type": "code",
   "execution_count": 2,
   "metadata": {
    "collapsed": true
   },
   "outputs": [
    {
     "name": "stdout",
     "output_type": "stream",
     "text": [
      "0 ODFReader\n",
      "1 OpenpyxlReader\n",
      "2 PyxlsbReader\n",
      "3 XlrdReader\n",
      "4 book\n",
      "5 close\n",
      "6 parse\n",
      "7 sheet_names\n"
     ]
    }
   ],
   "source": [
    "import numpy as np\n",
    "import pandas as pd\n",
    "import matplotlib.pyplot as plt\n",
    "\n",
    "functions = [i for i in dir(pd.ExcelFile) if i[:1] != '_']\n",
    "\n",
    "for i, v in enumerate(functions):\n",
    "    print(i, v)"
   ]
  },
  {
   "cell_type": "code",
   "execution_count": 26,
   "outputs": [
    {
     "data": {
      "text/plain": "    House Age (years)  Distance to Station (meters)  Price per Square Foot  \\\n0                32.0                      84.87882                   75.8   \n1                19.5                     306.59470                   84.4   \n2                13.3                     561.98450                   94.6   \n3                13.3                     561.98450                  109.6   \n4                 5.0                     390.56840                   86.2   \n5                 7.1                    2175.03000                   64.2   \n6                34.5                     623.47310                   80.6   \n7                20.3                     287.60250                   93.4   \n8                31.7                    5512.03800                   37.6   \n9                17.9                    1783.18000                   44.2   \n10               34.8                     405.21340                   82.8   \n11                6.3                      90.45606                  116.2   \n12               13.0                     492.23130                   78.6   \n13               20.4                    2469.64500                   47.6   \n14               13.2                    1164.83800                   68.6   \n15               35.7                     579.20830                  101.0   \n16                0.0                     292.99780                  140.2   \n17               17.7                     350.85150                   74.8   \n18               16.9                     368.13630                   84.6   \n19                1.5                      23.38284                   95.4   \n20                4.5                    2275.87700                   58.6   \n21               10.5                     279.17260                  103.2   \n22               14.7                    1360.13900                   49.2   \n23               10.1                     279.17260                   95.8   \n24               39.6                     480.69770                   77.6   \n25               29.3                    1487.86800                   54.0   \n26                3.1                     383.86240                  112.4   \n27               10.4                     276.44900                   67.2   \n28               19.2                     557.47800                   94.0   \n29                7.1                     451.24380                  114.2   \n30               25.9                    4519.69000                   44.2   \n31               29.6                     769.40340                   50.0   \n32               37.9                     488.57270                   68.4   \n33               16.5                     323.65500                   98.6   \n34               15.4                     205.36700                  110.2   \n35               13.9                    4079.41800                   54.6   \n36               14.7                    1935.00900                   45.8   \n37               12.0                    1360.13900                   50.6   \n38                3.1                     577.96150                   95.4   \n39               16.2                     289.32480                   92.4   \n40               13.6                    4082.01500                   31.8   \n41               16.8                    4066.58700                   36.4   \n42               36.1                     519.46170                   69.4   \n43               34.4                     512.78710                   68.2   \n44                2.7                     533.47620                  107.8   \n45               36.6                     488.81930                   76.6   \n46               21.7                     463.96230                   84.0   \n47               35.9                     640.73910                  123.0   \n48               24.2                    4605.74900                   26.8   \n49               29.4                    4510.35900                   26.4   \n\n    Unnamed: 3            Sum  \n0          NaN           Mean  \n1          NaN         Median  \n2          NaN           Mode  \n3          NaN  St. Deviation  \n4          NaN       Variance  \n5          NaN            NaN  \n6          NaN            NaN  \n7          NaN            NaN  \n8          NaN            NaN  \n9          NaN            NaN  \n10         NaN            NaN  \n11         NaN            NaN  \n12         NaN            NaN  \n13         NaN            NaN  \n14         NaN            NaN  \n15         NaN            NaN  \n16         NaN            NaN  \n17         NaN            NaN  \n18         NaN            NaN  \n19         NaN            NaN  \n20         NaN            NaN  \n21         NaN            NaN  \n22         NaN            NaN  \n23         NaN            NaN  \n24         NaN            NaN  \n25         NaN            NaN  \n26         NaN            NaN  \n27         NaN            NaN  \n28         NaN            NaN  \n29         NaN            NaN  \n30         NaN            NaN  \n31         NaN            NaN  \n32         NaN            NaN  \n33         NaN            NaN  \n34         NaN            NaN  \n35         NaN            NaN  \n36         NaN            NaN  \n37         NaN            NaN  \n38         NaN            NaN  \n39         NaN            NaN  \n40         NaN            NaN  \n41         NaN            NaN  \n42         NaN            NaN  \n43         NaN            NaN  \n44         NaN            NaN  \n45         NaN            NaN  \n46         NaN            NaN  \n47         NaN            NaN  \n48         NaN            NaN  \n49         NaN            NaN  ",
      "text/html": "<div>\n<style scoped>\n    .dataframe tbody tr th:only-of-type {\n        vertical-align: middle;\n    }\n\n    .dataframe tbody tr th {\n        vertical-align: top;\n    }\n\n    .dataframe thead th {\n        text-align: right;\n    }\n</style>\n<table border=\"1\" class=\"dataframe\">\n  <thead>\n    <tr style=\"text-align: right;\">\n      <th></th>\n      <th>House Age (years)</th>\n      <th>Distance to Station (meters)</th>\n      <th>Price per Square Foot</th>\n      <th>Unnamed: 3</th>\n      <th>Sum</th>\n    </tr>\n  </thead>\n  <tbody>\n    <tr>\n      <th>0</th>\n      <td>32.0</td>\n      <td>84.87882</td>\n      <td>75.8</td>\n      <td>NaN</td>\n      <td>Mean</td>\n    </tr>\n    <tr>\n      <th>1</th>\n      <td>19.5</td>\n      <td>306.59470</td>\n      <td>84.4</td>\n      <td>NaN</td>\n      <td>Median</td>\n    </tr>\n    <tr>\n      <th>2</th>\n      <td>13.3</td>\n      <td>561.98450</td>\n      <td>94.6</td>\n      <td>NaN</td>\n      <td>Mode</td>\n    </tr>\n    <tr>\n      <th>3</th>\n      <td>13.3</td>\n      <td>561.98450</td>\n      <td>109.6</td>\n      <td>NaN</td>\n      <td>St. Deviation</td>\n    </tr>\n    <tr>\n      <th>4</th>\n      <td>5.0</td>\n      <td>390.56840</td>\n      <td>86.2</td>\n      <td>NaN</td>\n      <td>Variance</td>\n    </tr>\n    <tr>\n      <th>5</th>\n      <td>7.1</td>\n      <td>2175.03000</td>\n      <td>64.2</td>\n      <td>NaN</td>\n      <td>NaN</td>\n    </tr>\n    <tr>\n      <th>6</th>\n      <td>34.5</td>\n      <td>623.47310</td>\n      <td>80.6</td>\n      <td>NaN</td>\n      <td>NaN</td>\n    </tr>\n    <tr>\n      <th>7</th>\n      <td>20.3</td>\n      <td>287.60250</td>\n      <td>93.4</td>\n      <td>NaN</td>\n      <td>NaN</td>\n    </tr>\n    <tr>\n      <th>8</th>\n      <td>31.7</td>\n      <td>5512.03800</td>\n      <td>37.6</td>\n      <td>NaN</td>\n      <td>NaN</td>\n    </tr>\n    <tr>\n      <th>9</th>\n      <td>17.9</td>\n      <td>1783.18000</td>\n      <td>44.2</td>\n      <td>NaN</td>\n      <td>NaN</td>\n    </tr>\n    <tr>\n      <th>10</th>\n      <td>34.8</td>\n      <td>405.21340</td>\n      <td>82.8</td>\n      <td>NaN</td>\n      <td>NaN</td>\n    </tr>\n    <tr>\n      <th>11</th>\n      <td>6.3</td>\n      <td>90.45606</td>\n      <td>116.2</td>\n      <td>NaN</td>\n      <td>NaN</td>\n    </tr>\n    <tr>\n      <th>12</th>\n      <td>13.0</td>\n      <td>492.23130</td>\n      <td>78.6</td>\n      <td>NaN</td>\n      <td>NaN</td>\n    </tr>\n    <tr>\n      <th>13</th>\n      <td>20.4</td>\n      <td>2469.64500</td>\n      <td>47.6</td>\n      <td>NaN</td>\n      <td>NaN</td>\n    </tr>\n    <tr>\n      <th>14</th>\n      <td>13.2</td>\n      <td>1164.83800</td>\n      <td>68.6</td>\n      <td>NaN</td>\n      <td>NaN</td>\n    </tr>\n    <tr>\n      <th>15</th>\n      <td>35.7</td>\n      <td>579.20830</td>\n      <td>101.0</td>\n      <td>NaN</td>\n      <td>NaN</td>\n    </tr>\n    <tr>\n      <th>16</th>\n      <td>0.0</td>\n      <td>292.99780</td>\n      <td>140.2</td>\n      <td>NaN</td>\n      <td>NaN</td>\n    </tr>\n    <tr>\n      <th>17</th>\n      <td>17.7</td>\n      <td>350.85150</td>\n      <td>74.8</td>\n      <td>NaN</td>\n      <td>NaN</td>\n    </tr>\n    <tr>\n      <th>18</th>\n      <td>16.9</td>\n      <td>368.13630</td>\n      <td>84.6</td>\n      <td>NaN</td>\n      <td>NaN</td>\n    </tr>\n    <tr>\n      <th>19</th>\n      <td>1.5</td>\n      <td>23.38284</td>\n      <td>95.4</td>\n      <td>NaN</td>\n      <td>NaN</td>\n    </tr>\n    <tr>\n      <th>20</th>\n      <td>4.5</td>\n      <td>2275.87700</td>\n      <td>58.6</td>\n      <td>NaN</td>\n      <td>NaN</td>\n    </tr>\n    <tr>\n      <th>21</th>\n      <td>10.5</td>\n      <td>279.17260</td>\n      <td>103.2</td>\n      <td>NaN</td>\n      <td>NaN</td>\n    </tr>\n    <tr>\n      <th>22</th>\n      <td>14.7</td>\n      <td>1360.13900</td>\n      <td>49.2</td>\n      <td>NaN</td>\n      <td>NaN</td>\n    </tr>\n    <tr>\n      <th>23</th>\n      <td>10.1</td>\n      <td>279.17260</td>\n      <td>95.8</td>\n      <td>NaN</td>\n      <td>NaN</td>\n    </tr>\n    <tr>\n      <th>24</th>\n      <td>39.6</td>\n      <td>480.69770</td>\n      <td>77.6</td>\n      <td>NaN</td>\n      <td>NaN</td>\n    </tr>\n    <tr>\n      <th>25</th>\n      <td>29.3</td>\n      <td>1487.86800</td>\n      <td>54.0</td>\n      <td>NaN</td>\n      <td>NaN</td>\n    </tr>\n    <tr>\n      <th>26</th>\n      <td>3.1</td>\n      <td>383.86240</td>\n      <td>112.4</td>\n      <td>NaN</td>\n      <td>NaN</td>\n    </tr>\n    <tr>\n      <th>27</th>\n      <td>10.4</td>\n      <td>276.44900</td>\n      <td>67.2</td>\n      <td>NaN</td>\n      <td>NaN</td>\n    </tr>\n    <tr>\n      <th>28</th>\n      <td>19.2</td>\n      <td>557.47800</td>\n      <td>94.0</td>\n      <td>NaN</td>\n      <td>NaN</td>\n    </tr>\n    <tr>\n      <th>29</th>\n      <td>7.1</td>\n      <td>451.24380</td>\n      <td>114.2</td>\n      <td>NaN</td>\n      <td>NaN</td>\n    </tr>\n    <tr>\n      <th>30</th>\n      <td>25.9</td>\n      <td>4519.69000</td>\n      <td>44.2</td>\n      <td>NaN</td>\n      <td>NaN</td>\n    </tr>\n    <tr>\n      <th>31</th>\n      <td>29.6</td>\n      <td>769.40340</td>\n      <td>50.0</td>\n      <td>NaN</td>\n      <td>NaN</td>\n    </tr>\n    <tr>\n      <th>32</th>\n      <td>37.9</td>\n      <td>488.57270</td>\n      <td>68.4</td>\n      <td>NaN</td>\n      <td>NaN</td>\n    </tr>\n    <tr>\n      <th>33</th>\n      <td>16.5</td>\n      <td>323.65500</td>\n      <td>98.6</td>\n      <td>NaN</td>\n      <td>NaN</td>\n    </tr>\n    <tr>\n      <th>34</th>\n      <td>15.4</td>\n      <td>205.36700</td>\n      <td>110.2</td>\n      <td>NaN</td>\n      <td>NaN</td>\n    </tr>\n    <tr>\n      <th>35</th>\n      <td>13.9</td>\n      <td>4079.41800</td>\n      <td>54.6</td>\n      <td>NaN</td>\n      <td>NaN</td>\n    </tr>\n    <tr>\n      <th>36</th>\n      <td>14.7</td>\n      <td>1935.00900</td>\n      <td>45.8</td>\n      <td>NaN</td>\n      <td>NaN</td>\n    </tr>\n    <tr>\n      <th>37</th>\n      <td>12.0</td>\n      <td>1360.13900</td>\n      <td>50.6</td>\n      <td>NaN</td>\n      <td>NaN</td>\n    </tr>\n    <tr>\n      <th>38</th>\n      <td>3.1</td>\n      <td>577.96150</td>\n      <td>95.4</td>\n      <td>NaN</td>\n      <td>NaN</td>\n    </tr>\n    <tr>\n      <th>39</th>\n      <td>16.2</td>\n      <td>289.32480</td>\n      <td>92.4</td>\n      <td>NaN</td>\n      <td>NaN</td>\n    </tr>\n    <tr>\n      <th>40</th>\n      <td>13.6</td>\n      <td>4082.01500</td>\n      <td>31.8</td>\n      <td>NaN</td>\n      <td>NaN</td>\n    </tr>\n    <tr>\n      <th>41</th>\n      <td>16.8</td>\n      <td>4066.58700</td>\n      <td>36.4</td>\n      <td>NaN</td>\n      <td>NaN</td>\n    </tr>\n    <tr>\n      <th>42</th>\n      <td>36.1</td>\n      <td>519.46170</td>\n      <td>69.4</td>\n      <td>NaN</td>\n      <td>NaN</td>\n    </tr>\n    <tr>\n      <th>43</th>\n      <td>34.4</td>\n      <td>512.78710</td>\n      <td>68.2</td>\n      <td>NaN</td>\n      <td>NaN</td>\n    </tr>\n    <tr>\n      <th>44</th>\n      <td>2.7</td>\n      <td>533.47620</td>\n      <td>107.8</td>\n      <td>NaN</td>\n      <td>NaN</td>\n    </tr>\n    <tr>\n      <th>45</th>\n      <td>36.6</td>\n      <td>488.81930</td>\n      <td>76.6</td>\n      <td>NaN</td>\n      <td>NaN</td>\n    </tr>\n    <tr>\n      <th>46</th>\n      <td>21.7</td>\n      <td>463.96230</td>\n      <td>84.0</td>\n      <td>NaN</td>\n      <td>NaN</td>\n    </tr>\n    <tr>\n      <th>47</th>\n      <td>35.9</td>\n      <td>640.73910</td>\n      <td>123.0</td>\n      <td>NaN</td>\n      <td>NaN</td>\n    </tr>\n    <tr>\n      <th>48</th>\n      <td>24.2</td>\n      <td>4605.74900</td>\n      <td>26.8</td>\n      <td>NaN</td>\n      <td>NaN</td>\n    </tr>\n    <tr>\n      <th>49</th>\n      <td>29.4</td>\n      <td>4510.35900</td>\n      <td>26.4</td>\n      <td>NaN</td>\n      <td>NaN</td>\n    </tr>\n  </tbody>\n</table>\n</div>"
     },
     "execution_count": 26,
     "metadata": {},
     "output_type": "execute_result"
    }
   ],
   "source": [
    "# !pip install odfpy\n",
    "data = pd.ExcelFile(\"./Book1.xlsx\")\n",
    "pd.read_excel(data)"
   ],
   "metadata": {
    "collapsed": false
   }
  },
  {
   "cell_type": "code",
   "execution_count": 60,
   "outputs": [
    {
     "data": {
      "text/plain": "'\\nRead tables out of OpenDocument formatted files.\\n\\nParameters\\n----------\\nfilepath_or_buffer : str, path to be parsed or\\n    an open readable stream.\\nstorage_options : dict, optional\\n    Extra options that make sense for a particular storage connection, e.g.\\n    host, port, username, password, etc. For HTTP(S) URLs the key-value pairs\\n    are forwarded to ``urllib.request.Request`` as header options. For other\\n    URLs (e.g. starting with \"s3://\", and \"gcs://\") the key-value pairs are\\n    forwarded to ``fsspec.open``. Please see ``fsspec`` and ``urllib`` for more\\n    details, and for more examples on storage options refer `here\\n    <https://pandas.pydata.org/docs/user_guide/io.html?\\n    highlight=storage_options#reading-writing-remote-files>`_.\\n'"
     },
     "execution_count": 60,
     "metadata": {},
     "output_type": "execute_result"
    }
   ],
   "source": [
    "data = pd.ExcelFile(\"./file_example_ODS_10.ods\")\n",
    "data.ODFReader.__doc__"
   ],
   "metadata": {
    "collapsed": false
   }
  },
  {
   "cell_type": "code",
   "execution_count": 61,
   "outputs": [
    {
     "data": {
      "text/plain": "    House Age (years)  Distance to Station (meters)  Price per Square Foot  \\\n0                32.0                      84.87882                   75.8   \n1                19.5                     306.59470                   84.4   \n2                13.3                     561.98450                   94.6   \n3                13.3                     561.98450                  109.6   \n4                 5.0                     390.56840                   86.2   \n5                 7.1                    2175.03000                   64.2   \n6                34.5                     623.47310                   80.6   \n7                20.3                     287.60250                   93.4   \n8                31.7                    5512.03800                   37.6   \n9                17.9                    1783.18000                   44.2   \n10               34.8                     405.21340                   82.8   \n11                6.3                      90.45606                  116.2   \n12               13.0                     492.23130                   78.6   \n13               20.4                    2469.64500                   47.6   \n14               13.2                    1164.83800                   68.6   \n15               35.7                     579.20830                  101.0   \n16                0.0                     292.99780                  140.2   \n17               17.7                     350.85150                   74.8   \n18               16.9                     368.13630                   84.6   \n19                1.5                      23.38284                   95.4   \n20                4.5                    2275.87700                   58.6   \n21               10.5                     279.17260                  103.2   \n22               14.7                    1360.13900                   49.2   \n23               10.1                     279.17260                   95.8   \n24               39.6                     480.69770                   77.6   \n25               29.3                    1487.86800                   54.0   \n26                3.1                     383.86240                  112.4   \n27               10.4                     276.44900                   67.2   \n28               19.2                     557.47800                   94.0   \n29                7.1                     451.24380                  114.2   \n30               25.9                    4519.69000                   44.2   \n31               29.6                     769.40340                   50.0   \n32               37.9                     488.57270                   68.4   \n33               16.5                     323.65500                   98.6   \n34               15.4                     205.36700                  110.2   \n35               13.9                    4079.41800                   54.6   \n36               14.7                    1935.00900                   45.8   \n37               12.0                    1360.13900                   50.6   \n38                3.1                     577.96150                   95.4   \n39               16.2                     289.32480                   92.4   \n40               13.6                    4082.01500                   31.8   \n41               16.8                    4066.58700                   36.4   \n42               36.1                     519.46170                   69.4   \n43               34.4                     512.78710                   68.2   \n44                2.7                     533.47620                  107.8   \n45               36.6                     488.81930                   76.6   \n46               21.7                     463.96230                   84.0   \n47               35.9                     640.73910                  123.0   \n48               24.2                    4605.74900                   26.8   \n49               29.4                    4510.35900                   26.4   \n\n    Unnamed: 3            Sum  \n0          NaN           Mean  \n1          NaN         Median  \n2          NaN           Mode  \n3          NaN  St. Deviation  \n4          NaN       Variance  \n5          NaN            NaN  \n6          NaN            NaN  \n7          NaN            NaN  \n8          NaN            NaN  \n9          NaN            NaN  \n10         NaN            NaN  \n11         NaN            NaN  \n12         NaN            NaN  \n13         NaN            NaN  \n14         NaN            NaN  \n15         NaN            NaN  \n16         NaN            NaN  \n17         NaN            NaN  \n18         NaN            NaN  \n19         NaN            NaN  \n20         NaN            NaN  \n21         NaN            NaN  \n22         NaN            NaN  \n23         NaN            NaN  \n24         NaN            NaN  \n25         NaN            NaN  \n26         NaN            NaN  \n27         NaN            NaN  \n28         NaN            NaN  \n29         NaN            NaN  \n30         NaN            NaN  \n31         NaN            NaN  \n32         NaN            NaN  \n33         NaN            NaN  \n34         NaN            NaN  \n35         NaN            NaN  \n36         NaN            NaN  \n37         NaN            NaN  \n38         NaN            NaN  \n39         NaN            NaN  \n40         NaN            NaN  \n41         NaN            NaN  \n42         NaN            NaN  \n43         NaN            NaN  \n44         NaN            NaN  \n45         NaN            NaN  \n46         NaN            NaN  \n47         NaN            NaN  \n48         NaN            NaN  \n49         NaN            NaN  ",
      "text/html": "<div>\n<style scoped>\n    .dataframe tbody tr th:only-of-type {\n        vertical-align: middle;\n    }\n\n    .dataframe tbody tr th {\n        vertical-align: top;\n    }\n\n    .dataframe thead th {\n        text-align: right;\n    }\n</style>\n<table border=\"1\" class=\"dataframe\">\n  <thead>\n    <tr style=\"text-align: right;\">\n      <th></th>\n      <th>House Age (years)</th>\n      <th>Distance to Station (meters)</th>\n      <th>Price per Square Foot</th>\n      <th>Unnamed: 3</th>\n      <th>Sum</th>\n    </tr>\n  </thead>\n  <tbody>\n    <tr>\n      <th>0</th>\n      <td>32.0</td>\n      <td>84.87882</td>\n      <td>75.8</td>\n      <td>NaN</td>\n      <td>Mean</td>\n    </tr>\n    <tr>\n      <th>1</th>\n      <td>19.5</td>\n      <td>306.59470</td>\n      <td>84.4</td>\n      <td>NaN</td>\n      <td>Median</td>\n    </tr>\n    <tr>\n      <th>2</th>\n      <td>13.3</td>\n      <td>561.98450</td>\n      <td>94.6</td>\n      <td>NaN</td>\n      <td>Mode</td>\n    </tr>\n    <tr>\n      <th>3</th>\n      <td>13.3</td>\n      <td>561.98450</td>\n      <td>109.6</td>\n      <td>NaN</td>\n      <td>St. Deviation</td>\n    </tr>\n    <tr>\n      <th>4</th>\n      <td>5.0</td>\n      <td>390.56840</td>\n      <td>86.2</td>\n      <td>NaN</td>\n      <td>Variance</td>\n    </tr>\n    <tr>\n      <th>5</th>\n      <td>7.1</td>\n      <td>2175.03000</td>\n      <td>64.2</td>\n      <td>NaN</td>\n      <td>NaN</td>\n    </tr>\n    <tr>\n      <th>6</th>\n      <td>34.5</td>\n      <td>623.47310</td>\n      <td>80.6</td>\n      <td>NaN</td>\n      <td>NaN</td>\n    </tr>\n    <tr>\n      <th>7</th>\n      <td>20.3</td>\n      <td>287.60250</td>\n      <td>93.4</td>\n      <td>NaN</td>\n      <td>NaN</td>\n    </tr>\n    <tr>\n      <th>8</th>\n      <td>31.7</td>\n      <td>5512.03800</td>\n      <td>37.6</td>\n      <td>NaN</td>\n      <td>NaN</td>\n    </tr>\n    <tr>\n      <th>9</th>\n      <td>17.9</td>\n      <td>1783.18000</td>\n      <td>44.2</td>\n      <td>NaN</td>\n      <td>NaN</td>\n    </tr>\n    <tr>\n      <th>10</th>\n      <td>34.8</td>\n      <td>405.21340</td>\n      <td>82.8</td>\n      <td>NaN</td>\n      <td>NaN</td>\n    </tr>\n    <tr>\n      <th>11</th>\n      <td>6.3</td>\n      <td>90.45606</td>\n      <td>116.2</td>\n      <td>NaN</td>\n      <td>NaN</td>\n    </tr>\n    <tr>\n      <th>12</th>\n      <td>13.0</td>\n      <td>492.23130</td>\n      <td>78.6</td>\n      <td>NaN</td>\n      <td>NaN</td>\n    </tr>\n    <tr>\n      <th>13</th>\n      <td>20.4</td>\n      <td>2469.64500</td>\n      <td>47.6</td>\n      <td>NaN</td>\n      <td>NaN</td>\n    </tr>\n    <tr>\n      <th>14</th>\n      <td>13.2</td>\n      <td>1164.83800</td>\n      <td>68.6</td>\n      <td>NaN</td>\n      <td>NaN</td>\n    </tr>\n    <tr>\n      <th>15</th>\n      <td>35.7</td>\n      <td>579.20830</td>\n      <td>101.0</td>\n      <td>NaN</td>\n      <td>NaN</td>\n    </tr>\n    <tr>\n      <th>16</th>\n      <td>0.0</td>\n      <td>292.99780</td>\n      <td>140.2</td>\n      <td>NaN</td>\n      <td>NaN</td>\n    </tr>\n    <tr>\n      <th>17</th>\n      <td>17.7</td>\n      <td>350.85150</td>\n      <td>74.8</td>\n      <td>NaN</td>\n      <td>NaN</td>\n    </tr>\n    <tr>\n      <th>18</th>\n      <td>16.9</td>\n      <td>368.13630</td>\n      <td>84.6</td>\n      <td>NaN</td>\n      <td>NaN</td>\n    </tr>\n    <tr>\n      <th>19</th>\n      <td>1.5</td>\n      <td>23.38284</td>\n      <td>95.4</td>\n      <td>NaN</td>\n      <td>NaN</td>\n    </tr>\n    <tr>\n      <th>20</th>\n      <td>4.5</td>\n      <td>2275.87700</td>\n      <td>58.6</td>\n      <td>NaN</td>\n      <td>NaN</td>\n    </tr>\n    <tr>\n      <th>21</th>\n      <td>10.5</td>\n      <td>279.17260</td>\n      <td>103.2</td>\n      <td>NaN</td>\n      <td>NaN</td>\n    </tr>\n    <tr>\n      <th>22</th>\n      <td>14.7</td>\n      <td>1360.13900</td>\n      <td>49.2</td>\n      <td>NaN</td>\n      <td>NaN</td>\n    </tr>\n    <tr>\n      <th>23</th>\n      <td>10.1</td>\n      <td>279.17260</td>\n      <td>95.8</td>\n      <td>NaN</td>\n      <td>NaN</td>\n    </tr>\n    <tr>\n      <th>24</th>\n      <td>39.6</td>\n      <td>480.69770</td>\n      <td>77.6</td>\n      <td>NaN</td>\n      <td>NaN</td>\n    </tr>\n    <tr>\n      <th>25</th>\n      <td>29.3</td>\n      <td>1487.86800</td>\n      <td>54.0</td>\n      <td>NaN</td>\n      <td>NaN</td>\n    </tr>\n    <tr>\n      <th>26</th>\n      <td>3.1</td>\n      <td>383.86240</td>\n      <td>112.4</td>\n      <td>NaN</td>\n      <td>NaN</td>\n    </tr>\n    <tr>\n      <th>27</th>\n      <td>10.4</td>\n      <td>276.44900</td>\n      <td>67.2</td>\n      <td>NaN</td>\n      <td>NaN</td>\n    </tr>\n    <tr>\n      <th>28</th>\n      <td>19.2</td>\n      <td>557.47800</td>\n      <td>94.0</td>\n      <td>NaN</td>\n      <td>NaN</td>\n    </tr>\n    <tr>\n      <th>29</th>\n      <td>7.1</td>\n      <td>451.24380</td>\n      <td>114.2</td>\n      <td>NaN</td>\n      <td>NaN</td>\n    </tr>\n    <tr>\n      <th>30</th>\n      <td>25.9</td>\n      <td>4519.69000</td>\n      <td>44.2</td>\n      <td>NaN</td>\n      <td>NaN</td>\n    </tr>\n    <tr>\n      <th>31</th>\n      <td>29.6</td>\n      <td>769.40340</td>\n      <td>50.0</td>\n      <td>NaN</td>\n      <td>NaN</td>\n    </tr>\n    <tr>\n      <th>32</th>\n      <td>37.9</td>\n      <td>488.57270</td>\n      <td>68.4</td>\n      <td>NaN</td>\n      <td>NaN</td>\n    </tr>\n    <tr>\n      <th>33</th>\n      <td>16.5</td>\n      <td>323.65500</td>\n      <td>98.6</td>\n      <td>NaN</td>\n      <td>NaN</td>\n    </tr>\n    <tr>\n      <th>34</th>\n      <td>15.4</td>\n      <td>205.36700</td>\n      <td>110.2</td>\n      <td>NaN</td>\n      <td>NaN</td>\n    </tr>\n    <tr>\n      <th>35</th>\n      <td>13.9</td>\n      <td>4079.41800</td>\n      <td>54.6</td>\n      <td>NaN</td>\n      <td>NaN</td>\n    </tr>\n    <tr>\n      <th>36</th>\n      <td>14.7</td>\n      <td>1935.00900</td>\n      <td>45.8</td>\n      <td>NaN</td>\n      <td>NaN</td>\n    </tr>\n    <tr>\n      <th>37</th>\n      <td>12.0</td>\n      <td>1360.13900</td>\n      <td>50.6</td>\n      <td>NaN</td>\n      <td>NaN</td>\n    </tr>\n    <tr>\n      <th>38</th>\n      <td>3.1</td>\n      <td>577.96150</td>\n      <td>95.4</td>\n      <td>NaN</td>\n      <td>NaN</td>\n    </tr>\n    <tr>\n      <th>39</th>\n      <td>16.2</td>\n      <td>289.32480</td>\n      <td>92.4</td>\n      <td>NaN</td>\n      <td>NaN</td>\n    </tr>\n    <tr>\n      <th>40</th>\n      <td>13.6</td>\n      <td>4082.01500</td>\n      <td>31.8</td>\n      <td>NaN</td>\n      <td>NaN</td>\n    </tr>\n    <tr>\n      <th>41</th>\n      <td>16.8</td>\n      <td>4066.58700</td>\n      <td>36.4</td>\n      <td>NaN</td>\n      <td>NaN</td>\n    </tr>\n    <tr>\n      <th>42</th>\n      <td>36.1</td>\n      <td>519.46170</td>\n      <td>69.4</td>\n      <td>NaN</td>\n      <td>NaN</td>\n    </tr>\n    <tr>\n      <th>43</th>\n      <td>34.4</td>\n      <td>512.78710</td>\n      <td>68.2</td>\n      <td>NaN</td>\n      <td>NaN</td>\n    </tr>\n    <tr>\n      <th>44</th>\n      <td>2.7</td>\n      <td>533.47620</td>\n      <td>107.8</td>\n      <td>NaN</td>\n      <td>NaN</td>\n    </tr>\n    <tr>\n      <th>45</th>\n      <td>36.6</td>\n      <td>488.81930</td>\n      <td>76.6</td>\n      <td>NaN</td>\n      <td>NaN</td>\n    </tr>\n    <tr>\n      <th>46</th>\n      <td>21.7</td>\n      <td>463.96230</td>\n      <td>84.0</td>\n      <td>NaN</td>\n      <td>NaN</td>\n    </tr>\n    <tr>\n      <th>47</th>\n      <td>35.9</td>\n      <td>640.73910</td>\n      <td>123.0</td>\n      <td>NaN</td>\n      <td>NaN</td>\n    </tr>\n    <tr>\n      <th>48</th>\n      <td>24.2</td>\n      <td>4605.74900</td>\n      <td>26.8</td>\n      <td>NaN</td>\n      <td>NaN</td>\n    </tr>\n    <tr>\n      <th>49</th>\n      <td>29.4</td>\n      <td>4510.35900</td>\n      <td>26.4</td>\n      <td>NaN</td>\n      <td>NaN</td>\n    </tr>\n  </tbody>\n</table>\n</div>"
     },
     "execution_count": 61,
     "metadata": {},
     "output_type": "execute_result"
    }
   ],
   "source": [
    "data = pd.ExcelFile.OpenpyxlReader(\"./Book1.xlsx\")\n",
    "data.parse()"
   ],
   "metadata": {
    "collapsed": false
   }
  },
  {
   "cell_type": "code",
   "execution_count": 71,
   "outputs": [],
   "source": [
    "# !pip install pyxlsb\n",
    "data = pd.ExcelFile.PyxlsbReader(\"./Book1.xlsx\")"
   ],
   "metadata": {
    "collapsed": false
   }
  },
  {
   "cell_type": "code",
   "execution_count": 95,
   "outputs": [
    {
     "name": "stdout",
     "output_type": "stream",
     "text": [
      "None\n"
     ]
    }
   ],
   "source": [
    "# !pip install xlrd\n",
    "# !python -m pip install --upgrade pip\n",
    "print(pd.ExcelFile.XlrdReader.__doc__)"
   ],
   "metadata": {
    "collapsed": false
   }
  },
  {
   "cell_type": "code",
   "execution_count": 109,
   "outputs": [
    {
     "data": {
      "text/plain": "[<openpyxl.workbook.views.BookView object>\n Parameters:\n visibility='visible', minimized=False, showHorizontalScroll=True, showVerticalScroll=True, showSheetTabs=True, xWindow=0, yWindow=0, windowWidth=21570, windowHeight=8145, tabRatio=600, firstSheet=0, activeTab=0, autoFilterDateGrouping=True]"
     },
     "execution_count": 109,
     "metadata": {},
     "output_type": "execute_result"
    }
   ],
   "source": [
    "data = pd.ExcelFile(\"./Financial Sample.xlsx\")\n",
    "data.book.views"
   ],
   "metadata": {
    "collapsed": false
   }
  },
  {
   "cell_type": "code",
   "execution_count": 111,
   "outputs": [
    {
     "data": {
      "text/plain": "<pandas.io.excel._base.ExcelFile at 0x252f7bc9130>"
     },
     "execution_count": 111,
     "metadata": {},
     "output_type": "execute_result"
    }
   ],
   "source": [
    "data = pd.ExcelFile(\"./Book1.xlsx\")\n",
    "data.close()\n",
    "data"
   ],
   "metadata": {
    "collapsed": false
   }
  },
  {
   "cell_type": "code",
   "execution_count": 112,
   "outputs": [
    {
     "data": {
      "text/plain": "              Segment                   Country    Product Discount Band  \\\n0          Government                    Canada  Carretera          None   \n1          Government                   Germany  Carretera          None   \n2           Midmarket                    France  Carretera          None   \n3           Midmarket                   Germany  Carretera          None   \n4           Midmarket                    Mexico  Carretera          None   \n..                ...                       ...        ...           ...   \n695    Small Business                    France   Amarilla          High   \n696    Small Business                    Mexico   Amarilla          High   \n697        Government                    Mexico    Montana          High   \n698        Government                    Canada      Paseo          High   \n699  Channel Partners  United States of America        VTT          High   \n\n     Units Sold  Manufacturing Price  Sale Price  Gross Sales  Discounts  \\\n0        1618.5                    3          20      32370.0       0.00   \n1        1321.0                    3          20      26420.0       0.00   \n2        2178.0                    3          15      32670.0       0.00   \n3         888.0                    3          15      13320.0       0.00   \n4        2470.0                    3          15      37050.0       0.00   \n..          ...                  ...         ...          ...        ...   \n695      2475.0                  260         300     742500.0  111375.00   \n696       546.0                  260         300     163800.0   24570.00   \n697      1368.0                    5           7       9576.0    1436.40   \n698       723.0                   10           7       5061.0     759.15   \n699      1806.0                  250          12      21672.0    3250.80   \n\n         Sales      COGS    Profit       Date  Month Number Month Name  Year  \n0     32370.00   16185.0  16185.00 2014-01-01             1    January  2014  \n1     26420.00   13210.0  13210.00 2014-01-01             1    January  2014  \n2     32670.00   21780.0  10890.00 2014-06-01             6       June  2014  \n3     13320.00    8880.0   4440.00 2014-06-01             6       June  2014  \n4     37050.00   24700.0  12350.00 2014-06-01             6       June  2014  \n..         ...       ...       ...        ...           ...        ...   ...  \n695  631125.00  618750.0  12375.00 2014-03-01             3      March  2014  \n696  139230.00  136500.0   2730.00 2014-10-01            10    October  2014  \n697    8139.60    6840.0   1299.60 2014-02-01             2   February  2014  \n698    4301.85    3615.0    686.85 2014-04-01             4      April  2014  \n699   18421.20    5418.0  13003.20 2014-05-01             5        May  2014  \n\n[700 rows x 16 columns]",
      "text/html": "<div>\n<style scoped>\n    .dataframe tbody tr th:only-of-type {\n        vertical-align: middle;\n    }\n\n    .dataframe tbody tr th {\n        vertical-align: top;\n    }\n\n    .dataframe thead th {\n        text-align: right;\n    }\n</style>\n<table border=\"1\" class=\"dataframe\">\n  <thead>\n    <tr style=\"text-align: right;\">\n      <th></th>\n      <th>Segment</th>\n      <th>Country</th>\n      <th>Product</th>\n      <th>Discount Band</th>\n      <th>Units Sold</th>\n      <th>Manufacturing Price</th>\n      <th>Sale Price</th>\n      <th>Gross Sales</th>\n      <th>Discounts</th>\n      <th>Sales</th>\n      <th>COGS</th>\n      <th>Profit</th>\n      <th>Date</th>\n      <th>Month Number</th>\n      <th>Month Name</th>\n      <th>Year</th>\n    </tr>\n  </thead>\n  <tbody>\n    <tr>\n      <th>0</th>\n      <td>Government</td>\n      <td>Canada</td>\n      <td>Carretera</td>\n      <td>None</td>\n      <td>1618.5</td>\n      <td>3</td>\n      <td>20</td>\n      <td>32370.0</td>\n      <td>0.00</td>\n      <td>32370.00</td>\n      <td>16185.0</td>\n      <td>16185.00</td>\n      <td>2014-01-01</td>\n      <td>1</td>\n      <td>January</td>\n      <td>2014</td>\n    </tr>\n    <tr>\n      <th>1</th>\n      <td>Government</td>\n      <td>Germany</td>\n      <td>Carretera</td>\n      <td>None</td>\n      <td>1321.0</td>\n      <td>3</td>\n      <td>20</td>\n      <td>26420.0</td>\n      <td>0.00</td>\n      <td>26420.00</td>\n      <td>13210.0</td>\n      <td>13210.00</td>\n      <td>2014-01-01</td>\n      <td>1</td>\n      <td>January</td>\n      <td>2014</td>\n    </tr>\n    <tr>\n      <th>2</th>\n      <td>Midmarket</td>\n      <td>France</td>\n      <td>Carretera</td>\n      <td>None</td>\n      <td>2178.0</td>\n      <td>3</td>\n      <td>15</td>\n      <td>32670.0</td>\n      <td>0.00</td>\n      <td>32670.00</td>\n      <td>21780.0</td>\n      <td>10890.00</td>\n      <td>2014-06-01</td>\n      <td>6</td>\n      <td>June</td>\n      <td>2014</td>\n    </tr>\n    <tr>\n      <th>3</th>\n      <td>Midmarket</td>\n      <td>Germany</td>\n      <td>Carretera</td>\n      <td>None</td>\n      <td>888.0</td>\n      <td>3</td>\n      <td>15</td>\n      <td>13320.0</td>\n      <td>0.00</td>\n      <td>13320.00</td>\n      <td>8880.0</td>\n      <td>4440.00</td>\n      <td>2014-06-01</td>\n      <td>6</td>\n      <td>June</td>\n      <td>2014</td>\n    </tr>\n    <tr>\n      <th>4</th>\n      <td>Midmarket</td>\n      <td>Mexico</td>\n      <td>Carretera</td>\n      <td>None</td>\n      <td>2470.0</td>\n      <td>3</td>\n      <td>15</td>\n      <td>37050.0</td>\n      <td>0.00</td>\n      <td>37050.00</td>\n      <td>24700.0</td>\n      <td>12350.00</td>\n      <td>2014-06-01</td>\n      <td>6</td>\n      <td>June</td>\n      <td>2014</td>\n    </tr>\n    <tr>\n      <th>...</th>\n      <td>...</td>\n      <td>...</td>\n      <td>...</td>\n      <td>...</td>\n      <td>...</td>\n      <td>...</td>\n      <td>...</td>\n      <td>...</td>\n      <td>...</td>\n      <td>...</td>\n      <td>...</td>\n      <td>...</td>\n      <td>...</td>\n      <td>...</td>\n      <td>...</td>\n      <td>...</td>\n    </tr>\n    <tr>\n      <th>695</th>\n      <td>Small Business</td>\n      <td>France</td>\n      <td>Amarilla</td>\n      <td>High</td>\n      <td>2475.0</td>\n      <td>260</td>\n      <td>300</td>\n      <td>742500.0</td>\n      <td>111375.00</td>\n      <td>631125.00</td>\n      <td>618750.0</td>\n      <td>12375.00</td>\n      <td>2014-03-01</td>\n      <td>3</td>\n      <td>March</td>\n      <td>2014</td>\n    </tr>\n    <tr>\n      <th>696</th>\n      <td>Small Business</td>\n      <td>Mexico</td>\n      <td>Amarilla</td>\n      <td>High</td>\n      <td>546.0</td>\n      <td>260</td>\n      <td>300</td>\n      <td>163800.0</td>\n      <td>24570.00</td>\n      <td>139230.00</td>\n      <td>136500.0</td>\n      <td>2730.00</td>\n      <td>2014-10-01</td>\n      <td>10</td>\n      <td>October</td>\n      <td>2014</td>\n    </tr>\n    <tr>\n      <th>697</th>\n      <td>Government</td>\n      <td>Mexico</td>\n      <td>Montana</td>\n      <td>High</td>\n      <td>1368.0</td>\n      <td>5</td>\n      <td>7</td>\n      <td>9576.0</td>\n      <td>1436.40</td>\n      <td>8139.60</td>\n      <td>6840.0</td>\n      <td>1299.60</td>\n      <td>2014-02-01</td>\n      <td>2</td>\n      <td>February</td>\n      <td>2014</td>\n    </tr>\n    <tr>\n      <th>698</th>\n      <td>Government</td>\n      <td>Canada</td>\n      <td>Paseo</td>\n      <td>High</td>\n      <td>723.0</td>\n      <td>10</td>\n      <td>7</td>\n      <td>5061.0</td>\n      <td>759.15</td>\n      <td>4301.85</td>\n      <td>3615.0</td>\n      <td>686.85</td>\n      <td>2014-04-01</td>\n      <td>4</td>\n      <td>April</td>\n      <td>2014</td>\n    </tr>\n    <tr>\n      <th>699</th>\n      <td>Channel Partners</td>\n      <td>United States of America</td>\n      <td>VTT</td>\n      <td>High</td>\n      <td>1806.0</td>\n      <td>250</td>\n      <td>12</td>\n      <td>21672.0</td>\n      <td>3250.80</td>\n      <td>18421.20</td>\n      <td>5418.0</td>\n      <td>13003.20</td>\n      <td>2014-05-01</td>\n      <td>5</td>\n      <td>May</td>\n      <td>2014</td>\n    </tr>\n  </tbody>\n</table>\n<p>700 rows × 16 columns</p>\n</div>"
     },
     "execution_count": 112,
     "metadata": {},
     "output_type": "execute_result"
    }
   ],
   "source": [
    "data = pd.ExcelFile(\"./Financial Sample.xlsx\")\n",
    "data.parse()"
   ],
   "metadata": {
    "collapsed": false
   }
  },
  {
   "cell_type": "code",
   "execution_count": 113,
   "outputs": [
    {
     "data": {
      "text/plain": "['Sheet1']"
     },
     "execution_count": 113,
     "metadata": {},
     "output_type": "execute_result"
    }
   ],
   "source": [
    "data = pd.ExcelFile(\"./Financial Sample.xlsx\")\n",
    "data.sheet_names"
   ],
   "metadata": {
    "collapsed": false
   }
  }
 ],
 "metadata": {
  "kernelspec": {
   "display_name": "Python 3",
   "language": "python",
   "name": "python3"
  },
  "language_info": {
   "codemirror_mode": {
    "name": "ipython",
    "version": 2
   },
   "file_extension": ".py",
   "mimetype": "text/x-python",
   "name": "python",
   "nbconvert_exporter": "python",
   "pygments_lexer": "ipython2",
   "version": "2.7.6"
  }
 },
 "nbformat": 4,
 "nbformat_minor": 0
}
