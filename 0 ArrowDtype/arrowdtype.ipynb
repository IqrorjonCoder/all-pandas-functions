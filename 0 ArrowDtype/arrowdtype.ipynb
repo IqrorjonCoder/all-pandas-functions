{
 "cells": [
  {
   "cell_type": "code",
   "execution_count": 27,
   "metadata": {
    "collapsed": true
   },
   "outputs": [
    {
     "data": {
      "text/plain": "'\\n    An ExtensionDtype for PyArrow data types.\\n\\n    .. warning::\\n\\n       ArrowDtype is considered experimental. The implementation and\\n       parts of the API may change without warning.\\n\\n    While most ``dtype`` arguments can accept the \"string\"\\n    constructor, e.g. ``\"int64[pyarrow]\"``, ArrowDtype is useful\\n    if the data type contains parameters like ``pyarrow.timestamp``.\\n\\n    Parameters\\n    ----------\\n    pyarrow_dtype : pa.DataType\\n        An instance of a `pyarrow.DataType <https://arrow.apache.org/docs/python/api/datatypes.html#factory-functions>`__.\\n\\n    Attributes\\n    ----------\\n    pyarrow_dtype\\n\\n    Methods\\n    -------\\n    None\\n\\n    Returns\\n    -------\\n    ArrowDtype\\n\\n    Examples\\n    --------\\n    >>> import pyarrow as pa\\n    >>> pd.ArrowDtype(pa.int64())\\n    int64[pyarrow]\\n\\n    Types with parameters must be constructed with ArrowDtype.\\n\\n    >>> pd.ArrowDtype(pa.timestamp(\"s\", tz=\"America/New_York\"))\\n    timestamp[s, tz=America/New_York][pyarrow]\\n    >>> pd.ArrowDtype(pa.list_(pa.int64()))\\n    list<item: int64>[pyarrow]\\n    '"
     },
     "execution_count": 27,
     "metadata": {},
     "output_type": "execute_result"
    }
   ],
   "source": [
    "import pandas as pd\n",
    "pd.ArrowDtype.__doc__"
   ]
  }
 ],
 "metadata": {
  "kernelspec": {
   "display_name": "Python 3",
   "language": "python",
   "name": "python3"
  },
  "language_info": {
   "codemirror_mode": {
    "name": "ipython",
    "version": 2
   },
   "file_extension": ".py",
   "mimetype": "text/x-python",
   "name": "python",
   "nbconvert_exporter": "python",
   "pygments_lexer": "ipython2",
   "version": "2.7.6"
  }
 },
 "nbformat": 4,
 "nbformat_minor": 0
}
