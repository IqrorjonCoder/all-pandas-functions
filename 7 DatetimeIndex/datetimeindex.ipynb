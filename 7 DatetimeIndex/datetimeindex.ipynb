{
 "cells": [
  {
   "cell_type": "code",
   "execution_count": 3,
   "metadata": {
    "collapsed": true,
    "pycharm": {
     "name": "#%%\n"
    }
   },
   "outputs": [
    {
     "name": "stdout",
     "output_type": "stream",
     "text": [
      "0 T\n",
      "1 all\n",
      "2 any\n",
      "3 append\n",
      "4 argmax\n",
      "5 argmin\n",
      "6 argsort\n",
      "7 array\n",
      "8 asi8\n",
      "9 asof\n",
      "10 asof_locs\n",
      "11 astype\n",
      "12 ceil\n",
      "13 copy\n",
      "14 date\n",
      "15 day\n",
      "16 day_name\n",
      "17 day_of_week\n",
      "18 day_of_year\n",
      "19 dayofweek\n",
      "20 dayofyear\n",
      "21 days_in_month\n",
      "22 daysinmonth\n",
      "23 delete\n",
      "24 difference\n",
      "25 drop\n",
      "26 drop_duplicates\n",
      "27 droplevel\n",
      "28 dropna\n",
      "29 dtype\n",
      "30 duplicated\n",
      "31 empty\n",
      "32 equals\n",
      "33 factorize\n",
      "34 fillna\n",
      "35 floor\n",
      "36 format\n",
      "37 freq\n",
      "38 freqstr\n",
      "39 get_indexer\n",
      "40 get_indexer_for\n",
      "41 get_indexer_non_unique\n",
      "42 get_level_values\n",
      "43 get_loc\n",
      "44 get_slice_bound\n",
      "45 get_value\n",
      "46 groupby\n",
      "47 has_duplicates\n",
      "48 hasnans\n",
      "49 holds_integer\n",
      "50 hour\n",
      "51 identical\n",
      "52 indexer_at_time\n",
      "53 indexer_between_time\n",
      "54 inferred_freq\n",
      "55 inferred_type\n",
      "56 insert\n",
      "57 intersection\n",
      "58 is_\n",
      "59 is_all_dates\n",
      "60 is_boolean\n",
      "61 is_categorical\n",
      "62 is_floating\n",
      "63 is_integer\n",
      "64 is_interval\n",
      "65 is_leap_year\n",
      "66 is_mixed\n",
      "67 is_monotonic\n",
      "68 is_monotonic_decreasing\n",
      "69 is_monotonic_increasing\n",
      "70 is_month_end\n",
      "71 is_month_start\n",
      "72 is_normalized\n",
      "73 is_numeric\n",
      "74 is_object\n",
      "75 is_quarter_end\n",
      "76 is_quarter_start\n",
      "77 is_type_compatible\n",
      "78 is_unique\n",
      "79 is_year_end\n",
      "80 is_year_start\n",
      "81 isin\n",
      "82 isna\n",
      "83 isnull\n",
      "84 isocalendar\n",
      "85 item\n",
      "86 join\n",
      "87 map\n",
      "88 max\n",
      "89 mean\n",
      "90 memory_usage\n",
      "91 microsecond\n",
      "92 min\n",
      "93 minute\n",
      "94 month\n",
      "95 month_name\n",
      "96 name\n",
      "97 names\n",
      "98 nanosecond\n",
      "99 nbytes\n",
      "100 ndim\n",
      "101 nlevels\n",
      "102 normalize\n",
      "103 notna\n",
      "104 notnull\n",
      "105 nunique\n",
      "106 putmask\n",
      "107 quarter\n",
      "108 ravel\n",
      "109 reindex\n",
      "110 rename\n",
      "111 repeat\n",
      "112 resolution\n",
      "113 round\n",
      "114 searchsorted\n",
      "115 second\n",
      "116 set_names\n",
      "117 set_value\n",
      "118 shape\n",
      "119 shift\n",
      "120 size\n",
      "121 slice_indexer\n",
      "122 slice_locs\n",
      "123 snap\n",
      "124 sort\n",
      "125 sort_values\n",
      "126 sortlevel\n",
      "127 std\n",
      "128 str\n",
      "129 strftime\n",
      "130 symmetric_difference\n",
      "131 take\n",
      "132 time\n",
      "133 timetz\n",
      "134 to_flat_index\n",
      "135 to_frame\n",
      "136 to_julian_date\n",
      "137 to_list\n",
      "138 to_native_types\n",
      "139 to_numpy\n",
      "140 to_period\n",
      "141 to_perioddelta\n",
      "142 to_pydatetime\n",
      "143 to_series\n",
      "144 tolist\n",
      "145 transpose\n",
      "146 tz\n",
      "147 tz_convert\n",
      "148 tz_localize\n",
      "149 tzinfo\n",
      "150 union\n",
      "151 union_many\n",
      "152 unique\n",
      "153 value_counts\n",
      "154 values\n",
      "155 view\n",
      "156 week\n",
      "157 weekday\n",
      "158 weekofyear\n",
      "159 where\n",
      "160 year\n"
     ]
    }
   ],
   "source": [
    "import numpy as np\n",
    "import pandas as pd\n",
    "import matplotlib.pyplot as plt\n",
    "\n",
    "functions = [i for i in dir(pd.DatetimeIndex) if i[:1] != '_']\n",
    "\n",
    "for i, v in enumerate(functions):\n",
    "    print(i, v)"
   ]
  },
  {
   "cell_type": "code",
   "execution_count": 4,
   "outputs": [
    {
     "data": {
      "text/plain": "DatetimeIndex(['2005-01-01', '2005-01-02', '2005-01-03', '2005-01-04',\n               '2005-01-05', '2005-01-06', '2005-01-07', '2005-01-08',\n               '2005-01-09', '2005-01-10'],\n              dtype='datetime64[ns]', freq='D')"
     },
     "execution_count": 4,
     "metadata": {},
     "output_type": "execute_result"
    }
   ],
   "source": [
    "data = pd.DatetimeIndex(data=pd.date_range('1/1/2005', periods=10, freq='1D'))\n",
    "data"
   ],
   "metadata": {
    "collapsed": false,
    "pycharm": {
     "name": "#%%\n"
    }
   }
  },
  {
   "cell_type": "code",
   "execution_count": 5,
   "outputs": [
    {
     "data": {
      "text/plain": "DatetimeIndex(['2005-01-01', '2005-01-02', '2005-01-03', '2005-01-04',\n               '2005-01-05', '2005-01-06', '2005-01-07', '2005-01-08',\n               '2005-01-09', '2005-01-10'],\n              dtype='datetime64[ns]', freq='D')"
     },
     "execution_count": 5,
     "metadata": {},
     "output_type": "execute_result"
    }
   ],
   "source": [
    "data = pd.DatetimeIndex(data=pd.date_range('1/1/2005', periods=10, freq='1D'))\n",
    "data.T"
   ],
   "metadata": {
    "collapsed": false,
    "pycharm": {
     "name": "#%%\n"
    }
   }
  },
  {
   "cell_type": "code",
   "execution_count": 6,
   "outputs": [
    {
     "data": {
      "text/plain": "True"
     },
     "execution_count": 6,
     "metadata": {},
     "output_type": "execute_result"
    }
   ],
   "source": [
    "data = pd.Index([1,2,3])\n",
    "data.all()"
   ],
   "metadata": {
    "collapsed": false,
    "pycharm": {
     "name": "#%%\n"
    }
   }
  },
  {
   "cell_type": "code",
   "execution_count": 7,
   "outputs": [
    {
     "data": {
      "text/plain": "True"
     },
     "execution_count": 7,
     "metadata": {},
     "output_type": "execute_result"
    }
   ],
   "source": [
    "data = pd.Index([0,1])\n",
    "data.any()"
   ],
   "metadata": {
    "collapsed": false,
    "pycharm": {
     "name": "#%%\n"
    }
   }
  },
  {
   "cell_type": "code",
   "execution_count": 8,
   "outputs": [
    {
     "data": {
      "text/plain": "DatetimeIndex(['2005-01-01', '2005-01-02', '2005-01-03', '2005-01-04',\n               '2005-01-05', '2005-01-06', '2005-01-07', '2005-01-08',\n               '2005-01-09', '2005-01-10', '2005-01-12', '2005-01-13'],\n              dtype='datetime64[ns]', freq=None)"
     },
     "execution_count": 8,
     "metadata": {},
     "output_type": "execute_result"
    }
   ],
   "source": [
    "data = pd.DatetimeIndex(data=pd.date_range('1/1/2005', periods=10, freq='1D'))\n",
    "data.append(pd.date_range('1/12/2005', periods=2, freq='1D'))"
   ],
   "metadata": {
    "collapsed": false,
    "pycharm": {
     "name": "#%%\n"
    }
   }
  },
  {
   "cell_type": "code",
   "execution_count": 9,
   "outputs": [
    {
     "name": "stdout",
     "output_type": "stream",
     "text": [
      "DatetimeIndex(['2005-01-01', '2005-01-02', '2005-01-03', '2005-01-04',\n",
      "               '2005-01-05', '2005-01-06', '2005-01-07', '2005-01-08',\n",
      "               '2005-01-09', '2005-01-10'],\n",
      "              dtype='datetime64[ns]', freq='D')\n"
     ]
    },
    {
     "data": {
      "text/plain": "Timestamp('2005-01-10 00:00:00', freq='D')"
     },
     "execution_count": 9,
     "metadata": {},
     "output_type": "execute_result"
    }
   ],
   "source": [
    "data = pd.DatetimeIndex(data=pd.date_range('1/1/2005', periods=10, freq='1D'))\n",
    "print(data)\n",
    "data[data.argmax()]"
   ],
   "metadata": {
    "collapsed": false,
    "pycharm": {
     "name": "#%%\n"
    }
   }
  },
  {
   "cell_type": "code",
   "execution_count": 10,
   "outputs": [
    {
     "name": "stdout",
     "output_type": "stream",
     "text": [
      "DatetimeIndex(['2005-01-01', '2005-01-02', '2005-01-03', '2005-01-04',\n",
      "               '2005-01-05', '2005-01-06', '2005-01-07', '2005-01-08',\n",
      "               '2005-01-09', '2005-01-10'],\n",
      "              dtype='datetime64[ns]', freq='D')\n"
     ]
    },
    {
     "data": {
      "text/plain": "Timestamp('2005-01-01 00:00:00', freq='D')"
     },
     "execution_count": 10,
     "metadata": {},
     "output_type": "execute_result"
    }
   ],
   "source": [
    "data = pd.DatetimeIndex(data=pd.date_range('1/1/2005', periods=10, freq='1D'))\n",
    "print(data)\n",
    "data[data.argmin()]"
   ],
   "metadata": {
    "collapsed": false,
    "pycharm": {
     "name": "#%%\n"
    }
   }
  },
  {
   "cell_type": "code",
   "execution_count": 11,
   "outputs": [
    {
     "name": "stdout",
     "output_type": "stream",
     "text": [
      "DatetimeIndex(['2005-01-01', '2005-01-02', '2005-01-03', '2005-01-04',\n",
      "               '2005-01-05', '2005-01-06', '2005-01-07', '2005-01-08',\n",
      "               '2005-01-09', '2005-01-10'],\n",
      "              dtype='datetime64[ns]', freq='D')\n"
     ]
    },
    {
     "data": {
      "text/plain": "DatetimeIndex(['2005-01-10', '2005-01-09', '2005-01-08', '2005-01-07',\n               '2005-01-06', '2005-01-05', '2005-01-04', '2005-01-03',\n               '2005-01-02', '2005-01-01'],\n              dtype='datetime64[ns]', freq=None)"
     },
     "execution_count": 11,
     "metadata": {},
     "output_type": "execute_result"
    }
   ],
   "source": [
    "data = pd.DatetimeIndex(data=pd.date_range('1/1/2005', periods=10, freq='1D'))\n",
    "print(data)\n",
    "data[data.argsort(ascending=False)]"
   ],
   "metadata": {
    "collapsed": false,
    "pycharm": {
     "name": "#%%\n"
    }
   }
  },
  {
   "cell_type": "code",
   "execution_count": 12,
   "outputs": [
    {
     "data": {
      "text/plain": "<DatetimeArray>\n['2005-01-01 00:00:00', '2005-01-02 00:00:00', '2005-01-03 00:00:00',\n '2005-01-04 00:00:00', '2005-01-05 00:00:00', '2005-01-06 00:00:00',\n '2005-01-07 00:00:00', '2005-01-08 00:00:00', '2005-01-09 00:00:00',\n '2005-01-10 00:00:00']\nLength: 10, dtype: datetime64[ns]"
     },
     "execution_count": 12,
     "metadata": {},
     "output_type": "execute_result"
    }
   ],
   "source": [
    "data = pd.DatetimeIndex(data=pd.date_range('1/1/2005', periods=10, freq='1D'))\n",
    "data.array"
   ],
   "metadata": {
    "collapsed": false,
    "pycharm": {
     "name": "#%%\n"
    }
   }
  },
  {
   "cell_type": "code",
   "execution_count": 13,
   "outputs": [
    {
     "data": {
      "text/plain": "array([1104537600000000000, 1104624000000000000, 1104710400000000000,\n       1104796800000000000, 1104883200000000000, 1104969600000000000,\n       1105056000000000000, 1105142400000000000, 1105228800000000000,\n       1105315200000000000])"
     },
     "execution_count": 13,
     "metadata": {},
     "output_type": "execute_result"
    }
   ],
   "source": [
    "data = pd.DatetimeIndex(data=pd.date_range('1/1/2005', periods=10, freq='1D'))\n",
    "data.asi8"
   ],
   "metadata": {
    "collapsed": false,
    "pycharm": {
     "name": "#%%\n"
    }
   }
  },
  {
   "cell_type": "code",
   "execution_count": 14,
   "outputs": [
    {
     "data": {
      "text/plain": "Timestamp('2005-01-10 00:00:00', freq='D')"
     },
     "execution_count": 14,
     "metadata": {},
     "output_type": "execute_result"
    }
   ],
   "source": [
    "data = pd.DatetimeIndex(data=pd.date_range('1/1/2005', periods=10, freq='1D'))\n",
    "data.asof(pd.Timestamp(2020, 3, 14))"
   ],
   "metadata": {
    "collapsed": false,
    "pycharm": {
     "name": "#%%\n"
    }
   }
  },
  {
   "cell_type": "code",
   "execution_count": 15,
   "outputs": [
    {
     "data": {
      "text/plain": "'\\n        Return the locations (indices) of labels in the index.\\n\\n        As in the `asof` function, if the label (a particular entry in\\n        `where`) is not in the index, the latest index label up to the\\n        passed label is chosen and its index returned.\\n\\n        If all of the labels in the index are later than a label in `where`,\\n        -1 is returned.\\n\\n        `mask` is used to ignore NA values in the index during calculation.\\n\\n        Parameters\\n        ----------\\n        where : Index\\n            An Index consisting of an array of timestamps.\\n        mask : np.ndarray[bool]\\n            Array of booleans denoting where values in the original\\n            data are not NA.\\n\\n        Returns\\n        -------\\n        np.ndarray[np.intp]\\n            An array of locations (indices) of the labels from the Index\\n            which correspond to the return values of the `asof` function\\n            for every element in `where`.\\n        '"
     },
     "execution_count": 15,
     "metadata": {},
     "output_type": "execute_result"
    }
   ],
   "source": [
    "data = pd.DatetimeIndex(data=pd.date_range('1/1/2005', periods=10, freq='1D'))\n",
    "data.asof_locs.__doc__"
   ],
   "metadata": {
    "collapsed": false,
    "pycharm": {
     "name": "#%%\n"
    }
   }
  },
  {
   "cell_type": "code",
   "execution_count": 16,
   "outputs": [
    {
     "name": "stderr",
     "output_type": "stream",
     "text": [
      "/var/folders/7v/1c76ypv54yx261vygq63_47w0000gp/T/ipykernel_4335/713149380.py:2: DeprecationWarning: `np.object` is a deprecated alias for the builtin `object`. To silence this warning, use `object` by itself. Doing this will not modify any behavior and is safe. \n",
      "Deprecated in NumPy 1.20; for more details and guidance: https://numpy.org/devdocs/release/1.20.0-notes.html#deprecations\n",
      "  data.astype(np.object)\n"
     ]
    },
    {
     "data": {
      "text/plain": "Index([2005-01-01 00:00:00, 2005-01-02 00:00:00, 2005-01-03 00:00:00,\n       2005-01-04 00:00:00, 2005-01-05 00:00:00, 2005-01-06 00:00:00,\n       2005-01-07 00:00:00, 2005-01-08 00:00:00, 2005-01-09 00:00:00,\n       2005-01-10 00:00:00],\n      dtype='object')"
     },
     "execution_count": 16,
     "metadata": {},
     "output_type": "execute_result"
    }
   ],
   "source": [
    "data = pd.DatetimeIndex(data=pd.date_range('1/1/2005', periods=10, freq='1D'))\n",
    "data.astype(np.object)"
   ],
   "metadata": {
    "collapsed": false,
    "pycharm": {
     "name": "#%%\n"
    }
   }
  },
  {
   "cell_type": "code",
   "execution_count": 17,
   "outputs": [
    {
     "data": {
      "text/plain": "DatetimeIndex(['2005-01-01', '2005-01-03', '2005-01-03', '2005-01-05',\n               '2005-01-05', '2005-01-07', '2005-01-07', '2005-01-09',\n               '2005-01-09', '2005-01-11'],\n              dtype='datetime64[ns]', freq=None)"
     },
     "execution_count": 17,
     "metadata": {},
     "output_type": "execute_result"
    }
   ],
   "source": [
    "data = pd.DatetimeIndex(data=pd.date_range('1/1/2005', periods=10, freq='1D'))\n",
    "data.ceil(freq='2D')"
   ],
   "metadata": {
    "collapsed": false,
    "pycharm": {
     "name": "#%%\n"
    }
   }
  },
  {
   "cell_type": "code",
   "execution_count": 18,
   "outputs": [
    {
     "data": {
      "text/plain": "DatetimeIndex(['2005-01-01', '2005-01-02', '2005-01-03', '2005-01-04',\n               '2005-01-05', '2005-01-06', '2005-01-07', '2005-01-08',\n               '2005-01-09', '2005-01-10'],\n              dtype='datetime64[ns]', name='copied', freq='D')"
     },
     "execution_count": 18,
     "metadata": {},
     "output_type": "execute_result"
    }
   ],
   "source": [
    "data = pd.DatetimeIndex(data=pd.date_range('1/1/2005', periods=10, freq='1D'))\n",
    "x = data.copy(name=\"copied\")\n",
    "x"
   ],
   "metadata": {
    "collapsed": false,
    "pycharm": {
     "name": "#%%\n"
    }
   }
  },
  {
   "cell_type": "code",
   "execution_count": 19,
   "outputs": [
    {
     "data": {
      "text/plain": "array([datetime.date(2005, 1, 1), datetime.date(2005, 1, 2),\n       datetime.date(2005, 1, 3), datetime.date(2005, 1, 4),\n       datetime.date(2005, 1, 5), datetime.date(2005, 1, 6),\n       datetime.date(2005, 1, 7), datetime.date(2005, 1, 8),\n       datetime.date(2005, 1, 9), datetime.date(2005, 1, 10)],\n      dtype=object)"
     },
     "execution_count": 19,
     "metadata": {},
     "output_type": "execute_result"
    }
   ],
   "source": [
    "data = pd.DatetimeIndex(data=pd.date_range('1/1/2005', periods=10, freq='1D'))\n",
    "data.date"
   ],
   "metadata": {
    "collapsed": false,
    "pycharm": {
     "name": "#%%\n"
    }
   }
  },
  {
   "cell_type": "code",
   "execution_count": 20,
   "outputs": [
    {
     "data": {
      "text/plain": "Int64Index([1, 2, 3, 4, 5, 6, 7, 8, 9, 10], dtype='int64')"
     },
     "execution_count": 20,
     "metadata": {},
     "output_type": "execute_result"
    }
   ],
   "source": [
    "data = pd.DatetimeIndex(data=pd.date_range('1/1/2005', periods=10, freq='1D'))\n",
    "data.day"
   ],
   "metadata": {
    "collapsed": false,
    "pycharm": {
     "name": "#%%\n"
    }
   }
  },
  {
   "cell_type": "code",
   "execution_count": 21,
   "outputs": [
    {
     "data": {
      "text/plain": "Index(['Saturday', 'Sunday', 'Monday', 'Tuesday', 'Wednesday', 'Thursday',\n       'Friday', 'Saturday', 'Sunday', 'Monday'],\n      dtype='object')"
     },
     "execution_count": 21,
     "metadata": {},
     "output_type": "execute_result"
    }
   ],
   "source": [
    "data = pd.DatetimeIndex(data=pd.date_range('1/1/2005', periods=10, freq='1D'))\n",
    "data.day_name()"
   ],
   "metadata": {
    "collapsed": false,
    "pycharm": {
     "name": "#%%\n"
    }
   }
  },
  {
   "cell_type": "code",
   "execution_count": 22,
   "outputs": [
    {
     "data": {
      "text/plain": "Int64Index([5, 6, 0, 1, 2, 3, 4, 5, 6, 0], dtype='int64')"
     },
     "execution_count": 22,
     "metadata": {},
     "output_type": "execute_result"
    }
   ],
   "source": [
    "data = pd.DatetimeIndex(data=pd.date_range('1/1/2005', periods=10, freq='1D'))\n",
    "data.day_of_week"
   ],
   "metadata": {
    "collapsed": false,
    "pycharm": {
     "name": "#%%\n"
    }
   }
  },
  {
   "cell_type": "code",
   "execution_count": 23,
   "outputs": [
    {
     "data": {
      "text/plain": "Int64Index([1, 2, 3, 4, 5, 6, 7, 8, 9, 10], dtype='int64')"
     },
     "execution_count": 23,
     "metadata": {},
     "output_type": "execute_result"
    }
   ],
   "source": [
    "data = pd.DatetimeIndex(data=pd.date_range('1/1/2005', periods=10, freq='1D'))\n",
    "data.day_of_year"
   ],
   "metadata": {
    "collapsed": false,
    "pycharm": {
     "name": "#%%\n"
    }
   }
  },
  {
   "cell_type": "code",
   "execution_count": 24,
   "outputs": [
    {
     "data": {
      "text/plain": "Int64Index([5, 6, 0, 1, 2, 3, 4, 5, 6, 0], dtype='int64')"
     },
     "execution_count": 24,
     "metadata": {},
     "output_type": "execute_result"
    }
   ],
   "source": [
    "data = pd.DatetimeIndex(data=pd.date_range('1/1/2005', periods=10, freq='1D'))\n",
    "data.dayofweek"
   ],
   "metadata": {
    "collapsed": false,
    "pycharm": {
     "name": "#%%\n"
    }
   }
  },
  {
   "cell_type": "code",
   "execution_count": 25,
   "outputs": [
    {
     "data": {
      "text/plain": "Int64Index([1, 2, 3, 4, 5, 6, 7, 8, 9, 10], dtype='int64')"
     },
     "execution_count": 25,
     "metadata": {},
     "output_type": "execute_result"
    }
   ],
   "source": [
    "data = pd.DatetimeIndex(data=pd.date_range('1/1/2005', periods=10, freq='1D'))\n",
    "data.dayofyear"
   ],
   "metadata": {
    "collapsed": false,
    "pycharm": {
     "name": "#%%\n"
    }
   }
  },
  {
   "cell_type": "code",
   "execution_count": 26,
   "outputs": [
    {
     "data": {
      "text/plain": "Int64Index([31, 31, 31, 31, 31, 31, 31, 31, 31, 31], dtype='int64')"
     },
     "execution_count": 26,
     "metadata": {},
     "output_type": "execute_result"
    }
   ],
   "source": [
    "data = pd.DatetimeIndex(data=pd.date_range('1/1/2005', periods=10, freq='1D'))\n",
    "data.days_in_month"
   ],
   "metadata": {
    "collapsed": false,
    "pycharm": {
     "name": "#%%\n"
    }
   }
  },
  {
   "cell_type": "code",
   "execution_count": 27,
   "outputs": [
    {
     "data": {
      "text/plain": "Int64Index([31, 31, 31, 31, 31, 31, 31, 31, 31, 31], dtype='int64')"
     },
     "execution_count": 27,
     "metadata": {},
     "output_type": "execute_result"
    }
   ],
   "source": [
    "data = pd.DatetimeIndex(data=pd.date_range('1/1/2005', periods=10, freq='1D'))\n",
    "data.daysinmonth"
   ],
   "metadata": {
    "collapsed": false,
    "pycharm": {
     "name": "#%%\n"
    }
   }
  },
  {
   "cell_type": "code",
   "execution_count": 28,
   "outputs": [
    {
     "data": {
      "text/plain": "DatetimeIndex(['2005-01-02', '2005-01-03', '2005-01-04', '2005-01-05',\n               '2005-01-06', '2005-01-07', '2005-01-08', '2005-01-09'],\n              dtype='datetime64[ns]', freq=None)"
     },
     "execution_count": 28,
     "metadata": {},
     "output_type": "execute_result"
    }
   ],
   "source": [
    "data = pd.DatetimeIndex(data=pd.date_range('1/1/2005', periods=10, freq='1D'))\n",
    "data.delete([0,-1])"
   ],
   "metadata": {
    "collapsed": false,
    "pycharm": {
     "name": "#%%\n"
    }
   }
  },
  {
   "cell_type": "code",
   "execution_count": 29,
   "outputs": [
    {
     "data": {
      "text/plain": "DatetimeIndex(['2005-01-01', '2005-01-02', '2005-01-03', '2005-01-04'], dtype='datetime64[ns]', freq=None)"
     },
     "execution_count": 29,
     "metadata": {},
     "output_type": "execute_result"
    }
   ],
   "source": [
    "data = pd.DatetimeIndex(data=pd.date_range('1/1/2005', periods=10, freq='1D'))\n",
    "data.difference(pd.DatetimeIndex(data=pd.date_range('1/5/2005', periods=10, freq='1D')))\n"
   ],
   "metadata": {
    "collapsed": false,
    "pycharm": {
     "name": "#%%\n"
    }
   }
  },
  {
   "cell_type": "code",
   "execution_count": 30,
   "outputs": [
    {
     "data": {
      "text/plain": "DatetimeIndex(['2005-01-03', '2005-01-04', '2005-01-05', '2005-01-06',\n               '2005-01-07', '2005-01-08', '2005-01-09', '2005-01-10'],\n              dtype='datetime64[ns]', freq='D')"
     },
     "execution_count": 30,
     "metadata": {},
     "output_type": "execute_result"
    }
   ],
   "source": [
    "data = pd.DatetimeIndex(data=pd.date_range('1/1/2005', periods=10, freq='1D'))\n",
    "data = data.drop(['2005-01-01', '2005-01-02'])\n",
    "data"
   ],
   "metadata": {
    "collapsed": false,
    "pycharm": {
     "name": "#%%\n"
    }
   }
  },
  {
   "cell_type": "code",
   "execution_count": 31,
   "outputs": [
    {
     "name": "stdout",
     "output_type": "stream",
     "text": [
      "DatetimeIndex(['2005-01-01', '2005-01-02', '2005-01-03', '2005-01-04',\n",
      "               '2005-01-05', '2005-01-06', '2005-01-07', '2005-01-08',\n",
      "               '2005-01-09', '2005-01-10', '2005-01-01', '2005-01-02',\n",
      "               '2005-01-03', '2005-01-04', '2005-01-05', '2005-01-06',\n",
      "               '2005-01-07', '2005-01-08', '2005-01-09', '2005-01-10'],\n",
      "              dtype='datetime64[ns]', freq=None)\n"
     ]
    },
    {
     "data": {
      "text/plain": "DatetimeIndex(['2005-01-01', '2005-01-02', '2005-01-03', '2005-01-04',\n               '2005-01-05', '2005-01-06', '2005-01-07', '2005-01-08',\n               '2005-01-09', '2005-01-10'],\n              dtype='datetime64[ns]', freq=None)"
     },
     "execution_count": 31,
     "metadata": {},
     "output_type": "execute_result"
    }
   ],
   "source": [
    "data = pd.DatetimeIndex(data=pd.date_range('1/1/2005', periods=10, freq='1D'))\n",
    "data = data.append(data)\n",
    "print(data)\n",
    "data.drop_duplicates()"
   ],
   "metadata": {
    "collapsed": false,
    "pycharm": {
     "name": "#%%\n"
    }
   }
  },
  {
   "cell_type": "code",
   "execution_count": 32,
   "outputs": [
    {
     "data": {
      "text/plain": "MultiIndex([(1, 3),\n            (2, 4)],\n           names=['x', 'y'])"
     },
     "execution_count": 32,
     "metadata": {},
     "output_type": "execute_result"
    }
   ],
   "source": [
    "mi = pd.MultiIndex.from_arrays([[1, 2], [3, 4], [5, 6]], names=['x', 'y', 'z'])\n",
    "mi.droplevel(2)"
   ],
   "metadata": {
    "collapsed": false,
    "pycharm": {
     "name": "#%%\n"
    }
   }
  },
  {
   "cell_type": "code",
   "execution_count": 33,
   "outputs": [
    {
     "name": "stdout",
     "output_type": "stream",
     "text": [
      "DatetimeIndex(['2005-01-01', '2005-01-02', '2005-01-03', '2005-01-04',\n",
      "               '2005-01-05', '2005-01-06', '2005-01-07', '2005-01-08',\n",
      "               '2005-01-09', '2005-01-10',        'NaT',        'NaT'],\n",
      "              dtype='datetime64[ns]', freq=None)\n"
     ]
    },
    {
     "data": {
      "text/plain": "DatetimeIndex(['2005-01-01', '2005-01-02', '2005-01-03', '2005-01-04',\n               '2005-01-05', '2005-01-06', '2005-01-07', '2005-01-08',\n               '2005-01-09', '2005-01-10'],\n              dtype='datetime64[ns]', freq=None)"
     },
     "execution_count": 33,
     "metadata": {},
     "output_type": "execute_result"
    }
   ],
   "source": [
    "data = pd.DatetimeIndex(data=pd.date_range('1/1/2005', periods=10, freq='1D'))\n",
    "data = data.append(pd.Index([np.nan, np.nan]))\n",
    "print(data)\n",
    "data.dropna()"
   ],
   "metadata": {
    "collapsed": false,
    "pycharm": {
     "name": "#%%\n"
    }
   }
  },
  {
   "cell_type": "code",
   "execution_count": 34,
   "outputs": [
    {
     "data": {
      "text/plain": "dtype('<M8[ns]')"
     },
     "execution_count": 34,
     "metadata": {},
     "output_type": "execute_result"
    }
   ],
   "source": [
    "data = pd.DatetimeIndex(data=pd.date_range('1/1/2005', periods=10, freq='1D'))\n",
    "data.dtype"
   ],
   "metadata": {
    "collapsed": false,
    "pycharm": {
     "name": "#%%\n"
    }
   }
  },
  {
   "cell_type": "code",
   "execution_count": 35,
   "outputs": [
    {
     "data": {
      "text/plain": "array([False, False, False, False, False, False, False, False, False,\n       False,  True])"
     },
     "execution_count": 35,
     "metadata": {},
     "output_type": "execute_result"
    }
   ],
   "source": [
    "data = pd.DatetimeIndex(data=pd.date_range('1/1/2005', periods=10, freq='1D'))\n",
    "data = data.append(pd.DatetimeIndex(['2005-01-01']))\n",
    "data.duplicated()"
   ],
   "metadata": {
    "collapsed": false,
    "pycharm": {
     "name": "#%%\n"
    }
   }
  },
  {
   "cell_type": "code",
   "execution_count": 36,
   "outputs": [
    {
     "data": {
      "text/plain": "False"
     },
     "execution_count": 36,
     "metadata": {},
     "output_type": "execute_result"
    }
   ],
   "source": [
    "data = pd.DatetimeIndex(data=pd.date_range('1/1/2005', periods=10, freq='1D'))\n",
    "data.empty"
   ],
   "metadata": {
    "collapsed": false,
    "pycharm": {
     "name": "#%%\n"
    }
   }
  },
  {
   "cell_type": "code",
   "execution_count": 37,
   "outputs": [
    {
     "data": {
      "text/plain": "True"
     },
     "execution_count": 37,
     "metadata": {},
     "output_type": "execute_result"
    }
   ],
   "source": [
    "data = pd.DatetimeIndex(data=pd.date_range('1/1/2005', periods=10, freq='1D'))\n",
    "data.equals(data)\n"
   ],
   "metadata": {
    "collapsed": false,
    "pycharm": {
     "name": "#%%\n"
    }
   }
  },
  {
   "cell_type": "code",
   "execution_count": 38,
   "outputs": [
    {
     "data": {
      "text/plain": "(array([0, 1, 2, 3, 4, 5, 6, 7, 8, 9]),\n DatetimeIndex(['2005-01-01', '2005-01-02', '2005-01-03', '2005-01-04',\n                '2005-01-05', '2005-01-06', '2005-01-07', '2005-01-08',\n                '2005-01-09', '2005-01-10'],\n               dtype='datetime64[ns]', freq='D'))"
     },
     "execution_count": 38,
     "metadata": {},
     "output_type": "execute_result"
    }
   ],
   "source": [
    "data = pd.DatetimeIndex(data=pd.date_range('1/1/2005', periods=10, freq='1D'))\n",
    "data.factorize()"
   ],
   "metadata": {
    "collapsed": false,
    "pycharm": {
     "name": "#%%\n"
    }
   }
  },
  {
   "cell_type": "code",
   "execution_count": 39,
   "outputs": [
    {
     "data": {
      "text/plain": "DatetimeIndex(['2005-01-01', '2005-01-02', '2005-01-03', '2005-01-04',\n               '2005-01-05', '2005-01-06', '2005-01-07', '2005-01-08',\n               '2005-01-09', '2005-01-10'],\n              dtype='datetime64[ns]', freq='D')"
     },
     "execution_count": 39,
     "metadata": {},
     "output_type": "execute_result"
    }
   ],
   "source": [
    "data = pd.DatetimeIndex(data=pd.date_range('1/1/2005', periods=10, freq='1D'))\n",
    "data.fillna()"
   ],
   "metadata": {
    "collapsed": false,
    "pycharm": {
     "name": "#%%\n"
    }
   }
  },
  {
   "cell_type": "code",
   "execution_count": 40,
   "outputs": [
    {
     "data": {
      "text/plain": "DatetimeIndex(['2004-12-31', '2004-12-31', '2005-01-03', '2005-01-03',\n               '2005-01-03', '2005-01-06', '2005-01-06', '2005-01-06',\n               '2005-01-09', '2005-01-09'],\n              dtype='datetime64[ns]', freq=None)"
     },
     "execution_count": 40,
     "metadata": {},
     "output_type": "execute_result"
    }
   ],
   "source": [
    "data = pd.DatetimeIndex(data=pd.date_range('1/1/2005', periods=10, freq='1D'))\n",
    "data.floor(freq='3D')"
   ],
   "metadata": {
    "collapsed": false,
    "pycharm": {
     "name": "#%%\n"
    }
   }
  },
  {
   "cell_type": "code",
   "execution_count": 41,
   "outputs": [
    {
     "data": {
      "text/plain": "['2005-01-01',\n '2005-01-02',\n '2005-01-03',\n '2005-01-04',\n '2005-01-05',\n '2005-01-06',\n '2005-01-07',\n '2005-01-08',\n '2005-01-09',\n '2005-01-10']"
     },
     "execution_count": 41,
     "metadata": {},
     "output_type": "execute_result"
    }
   ],
   "source": [
    "data = pd.DatetimeIndex(data=pd.date_range('1/1/2005', periods=10, freq='1D'))\n",
    "data.format()"
   ],
   "metadata": {
    "collapsed": false,
    "pycharm": {
     "name": "#%%\n"
    }
   }
  },
  {
   "cell_type": "code",
   "execution_count": 42,
   "outputs": [
    {
     "data": {
      "text/plain": "<Day>"
     },
     "execution_count": 42,
     "metadata": {},
     "output_type": "execute_result"
    }
   ],
   "source": [
    "data = pd.DatetimeIndex(data=pd.date_range('1/1/2005', periods=10, freq='1D'))\n",
    "data.freq"
   ],
   "metadata": {
    "collapsed": false,
    "pycharm": {
     "name": "#%%\n"
    }
   }
  },
  {
   "cell_type": "code",
   "execution_count": 43,
   "outputs": [
    {
     "data": {
      "text/plain": "'D'"
     },
     "execution_count": 43,
     "metadata": {},
     "output_type": "execute_result"
    }
   ],
   "source": [
    "data = pd.DatetimeIndex(data=pd.date_range('1/1/2005', periods=10, freq='1D'))\n",
    "data.freqstr"
   ],
   "metadata": {
    "collapsed": false,
    "pycharm": {
     "name": "#%%\n"
    }
   }
  },
  {
   "cell_type": "code",
   "execution_count": 44,
   "outputs": [
    {
     "data": {
      "text/plain": "array([-1, -1, -1])"
     },
     "execution_count": 44,
     "metadata": {},
     "output_type": "execute_result"
    }
   ],
   "source": [
    "data = pd.DatetimeIndex(data=pd.date_range('1/1/2005', periods=10, freq='1D'))\n",
    "data.get_indexer([1,2,3])"
   ],
   "metadata": {
    "collapsed": false,
    "pycharm": {
     "name": "#%%\n"
    }
   }
  },
  {
   "cell_type": "code",
   "execution_count": 45,
   "outputs": [
    {
     "data": {
      "text/plain": "array([-1, -1, -1])"
     },
     "execution_count": 45,
     "metadata": {},
     "output_type": "execute_result"
    }
   ],
   "source": [
    "data = pd.DatetimeIndex(data=pd.date_range('1/1/2005', periods=10, freq='1D'))\n",
    "data.get_indexer_for([1,2,3])"
   ],
   "metadata": {
    "collapsed": false,
    "pycharm": {
     "name": "#%%\n"
    }
   }
  },
  {
   "cell_type": "code",
   "execution_count": 46,
   "outputs": [
    {
     "data": {
      "text/plain": "(array([-1, -1, -1, -1]), array([0, 1, 2, 3]))"
     },
     "execution_count": 46,
     "metadata": {},
     "output_type": "execute_result"
    }
   ],
   "source": [
    "data = pd.DatetimeIndex(data=pd.date_range('1/1/2005', periods=10, freq='1D'))\n",
    "data.get_indexer_non_unique([1,2,3,4-5])"
   ],
   "metadata": {
    "collapsed": false,
    "pycharm": {
     "name": "#%%\n"
    }
   }
  },
  {
   "cell_type": "code",
   "execution_count": 47,
   "outputs": [
    {
     "data": {
      "text/plain": "DatetimeIndex(['2005-01-01', '2005-01-02', '2005-01-03', '2005-01-04',\n               '2005-01-05', '2005-01-06', '2005-01-07', '2005-01-08',\n               '2005-01-09', '2005-01-10'],\n              dtype='datetime64[ns]', freq='D')"
     },
     "execution_count": 47,
     "metadata": {},
     "output_type": "execute_result"
    }
   ],
   "source": [
    "data = pd.DatetimeIndex(data=pd.date_range('1/1/2005', periods=10, freq='1D'))\n",
    "data.get_level_values(0)"
   ],
   "metadata": {
    "collapsed": false,
    "pycharm": {
     "name": "#%%\n"
    }
   }
  },
  {
   "cell_type": "code",
   "execution_count": 48,
   "outputs": [
    {
     "data": {
      "text/plain": "9"
     },
     "execution_count": 48,
     "metadata": {},
     "output_type": "execute_result"
    }
   ],
   "source": [
    "data = pd.DatetimeIndex(data=pd.date_range('1/1/2005', periods=10, freq='1D'))\n",
    "data.get_loc('2005-01-10')\n"
   ],
   "metadata": {
    "collapsed": false,
    "pycharm": {
     "name": "#%%\n"
    }
   }
  },
  {
   "cell_type": "code",
   "execution_count": 49,
   "outputs": [
    {
     "name": "stdout",
     "output_type": "stream",
     "text": [
      "DatetimeIndex(['2005-01-01', '2005-01-02', '2005-01-03', '2005-01-04',\n",
      "               '2005-01-05', '2005-01-06', '2005-01-07', '2005-01-08',\n",
      "               '2005-01-09', '2005-01-10'],\n",
      "              dtype='datetime64[ns]', freq='D')\n",
      "4\n",
      "3\n"
     ]
    }
   ],
   "source": [
    "data = pd.DatetimeIndex(data=pd.date_range('1/1/2005', periods=10, freq='1D'))\n",
    "print(data)\n",
    "print(data.get_slice_bound('2005-01-04', side=\"right\"))\n",
    "print(data.get_slice_bound('2005-01-04', side=\"left\"))"
   ],
   "metadata": {
    "collapsed": false,
    "pycharm": {
     "name": "#%%\n"
    }
   }
  },
  {
   "cell_type": "code",
   "execution_count": 50,
   "outputs": [
    {
     "data": {
      "text/plain": "\"\\n        Fast lookup of value from 1-dimensional ndarray.\\n\\n        Only use this if you know what you're doing.\\n\\n        Returns\\n        -------\\n        scalar or Series\\n        \""
     },
     "execution_count": 50,
     "metadata": {},
     "output_type": "execute_result"
    }
   ],
   "source": [
    "data = pd.DatetimeIndex(data=pd.date_range('1/1/2005', periods=10, freq='1D'))\n",
    "data.get_value.__doc__\n"
   ],
   "metadata": {
    "collapsed": false,
    "pycharm": {
     "name": "#%%\n"
    }
   }
  },
  {
   "cell_type": "code",
   "execution_count": 51,
   "outputs": [
    {
     "name": "stderr",
     "output_type": "stream",
     "text": [
      "/var/folders/7v/1c76ypv54yx261vygq63_47w0000gp/T/ipykernel_4335/3387258225.py:2: FutureWarning: Allowing scalars in the Categorical constructor is deprecated and will raise in a future version.  Use `[value]` instead\n",
      "  data.groupby('2005-01-10')\n"
     ]
    },
    {
     "data": {
      "text/plain": "{'2005-01-10': [2005-01-01 00:00:00]}"
     },
     "execution_count": 51,
     "metadata": {},
     "output_type": "execute_result"
    }
   ],
   "source": [
    "data = pd.DatetimeIndex(data=pd.date_range('1/1/2005', periods=10, freq='1D'))\n",
    "data.groupby('2005-01-10')"
   ],
   "metadata": {
    "collapsed": false,
    "pycharm": {
     "name": "#%%\n"
    }
   }
  },
  {
   "cell_type": "code",
   "execution_count": 52,
   "outputs": [
    {
     "data": {
      "text/plain": "False"
     },
     "execution_count": 52,
     "metadata": {},
     "output_type": "execute_result"
    }
   ],
   "source": [
    "data = pd.DatetimeIndex(data=pd.date_range('1/1/2005', periods=10, freq='1D'))\n",
    "data.has_duplicates"
   ],
   "metadata": {
    "collapsed": false,
    "pycharm": {
     "name": "#%%\n"
    }
   }
  },
  {
   "cell_type": "code",
   "execution_count": 53,
   "outputs": [
    {
     "data": {
      "text/plain": "False"
     },
     "execution_count": 53,
     "metadata": {},
     "output_type": "execute_result"
    }
   ],
   "source": [
    "data = pd.DatetimeIndex(data=pd.date_range('1/1/2005', periods=10, freq='1D'))\n",
    "data.hasnans"
   ],
   "metadata": {
    "collapsed": false,
    "pycharm": {
     "name": "#%%\n"
    }
   }
  },
  {
   "cell_type": "code",
   "execution_count": 54,
   "outputs": [
    {
     "data": {
      "text/plain": "False"
     },
     "execution_count": 54,
     "metadata": {},
     "output_type": "execute_result"
    }
   ],
   "source": [
    "data = pd.DatetimeIndex(data=pd.date_range('1/1/2005', periods=10, freq='1D'))\n",
    "data.holds_integer()"
   ],
   "metadata": {
    "collapsed": false,
    "pycharm": {
     "name": "#%%\n"
    }
   }
  },
  {
   "cell_type": "code",
   "execution_count": 55,
   "outputs": [
    {
     "data": {
      "text/plain": "Int64Index([0, 0, 0, 0, 0, 0, 0, 0, 0, 0], dtype='int64')"
     },
     "execution_count": 55,
     "metadata": {},
     "output_type": "execute_result"
    }
   ],
   "source": [
    "data = pd.DatetimeIndex(data=pd.date_range('1/1/2005', periods=10, freq='1D'))\n",
    "data.hour"
   ],
   "metadata": {
    "collapsed": false,
    "pycharm": {
     "name": "#%%\n"
    }
   }
  },
  {
   "cell_type": "code",
   "execution_count": 56,
   "outputs": [
    {
     "name": "stdout",
     "output_type": "stream",
     "text": [
      "True\n",
      "False\n"
     ]
    }
   ],
   "source": [
    "data = pd.DatetimeIndex(data=pd.date_range('1/1/2005', periods=10, freq='1D'))\n",
    "print(data.identical(pd.DatetimeIndex(data=pd.date_range('1/1/2005', periods=10, freq='1D'))))\n",
    "print(data.identical(pd.DatetimeIndex(data=pd.date_range('1/2/2005', periods=10, freq='1D'))))"
   ],
   "metadata": {
    "collapsed": false,
    "pycharm": {
     "name": "#%%\n"
    }
   }
  },
  {
   "cell_type": "code",
   "execution_count": 57,
   "outputs": [
    {
     "data": {
      "text/plain": "array([6])"
     },
     "execution_count": 57,
     "metadata": {},
     "output_type": "execute_result"
    }
   ],
   "source": [
    "data = pd.DatetimeIndex(data=pd.date_range('1/1/2005', periods=10, freq='1H'))\n",
    "data.indexer_at_time('2005-01-01 06:00:00')"
   ],
   "metadata": {
    "collapsed": false,
    "pycharm": {
     "name": "#%%\n"
    }
   }
  },
  {
   "cell_type": "code",
   "execution_count": 79,
   "outputs": [
    {
     "name": "stdout",
     "output_type": "stream",
     "text": [
      "date : \n",
      " DatetimeIndex(['2005-01-01 00:00:00', '2005-01-01 01:00:00',\n",
      "               '2005-01-01 02:00:00', '2005-01-01 03:00:00',\n",
      "               '2005-01-01 04:00:00', '2005-01-01 05:00:00',\n",
      "               '2005-01-01 06:00:00', '2005-01-01 07:00:00',\n",
      "               '2005-01-01 08:00:00', '2005-01-01 09:00:00'],\n",
      "              dtype='datetime64[ns]', freq='H')\n"
     ]
    },
    {
     "data": {
      "text/plain": "DatetimeIndex(['2005-01-01 00:00:00', '2005-01-01 03:00:00',\n               '2005-01-01 04:00:00', '2005-01-01 05:00:00',\n               '2005-01-01 06:00:00', '2005-01-01 07:00:00',\n               '2005-01-01 08:00:00', '2005-01-01 09:00:00'],\n              dtype='datetime64[ns]', freq=None)"
     },
     "execution_count": 79,
     "metadata": {},
     "output_type": "execute_result"
    }
   ],
   "source": [
    "data = pd.DatetimeIndex(pd.date_range('1/1/2005', periods=10, freq='1H'))\n",
    "print(\"date : \\n\", data)\n",
    "index = data.indexer_between_time(\"03:00\", \"00:08\")\n",
    "data[index]"
   ],
   "metadata": {
    "collapsed": false,
    "pycharm": {
     "name": "#%%\n"
    }
   }
  },
  {
   "cell_type": "code",
   "execution_count": 88,
   "outputs": [
    {
     "data": {
      "text/plain": "'D'"
     },
     "execution_count": 88,
     "metadata": {},
     "output_type": "execute_result"
    }
   ],
   "source": [
    "data = pd.DatetimeIndex(pd.date_range('1/1/2005', periods=10, freq='1D'))\n",
    "data.inferred_freq"
   ],
   "metadata": {
    "collapsed": false,
    "pycharm": {
     "name": "#%%\n"
    }
   }
  },
  {
   "cell_type": "code",
   "execution_count": 90,
   "outputs": [
    {
     "data": {
      "text/plain": "'datetime64'"
     },
     "execution_count": 90,
     "metadata": {},
     "output_type": "execute_result"
    }
   ],
   "source": [
    "data = pd.DatetimeIndex(pd.date_range('1/1/2005', periods=10, freq='1D'))\n",
    "data.inferred_type"
   ],
   "metadata": {
    "collapsed": false,
    "pycharm": {
     "name": "#%%\n"
    }
   }
  },
  {
   "cell_type": "code",
   "execution_count": 95,
   "outputs": [
    {
     "name": "stdout",
     "output_type": "stream",
     "text": [
      "False\n",
      "True\n"
     ]
    }
   ],
   "source": [
    "data = pd.DatetimeIndex(pd.date_range('1/1/2005', periods=20, freq='1D'))\n",
    "print(data.is_(data.copy()))\n",
    "print(data.is_(data))"
   ],
   "metadata": {
    "collapsed": false,
    "pycharm": {
     "name": "#%%\n"
    }
   }
  },
  {
   "cell_type": "code",
   "execution_count": 102,
   "outputs": [
    {
     "name": "stderr",
     "output_type": "stream",
     "text": [
      "/var/folders/7v/1c76ypv54yx261vygq63_47w0000gp/T/ipykernel_4335/3237038260.py:2: FutureWarning: Index.is_all_dates is deprecated, will be removed in a future version. check index.inferred_type instead.\n",
      "  data.is_all_dates\n"
     ]
    },
    {
     "data": {
      "text/plain": "True"
     },
     "execution_count": 102,
     "metadata": {},
     "output_type": "execute_result"
    }
   ],
   "source": [
    "data = pd.DatetimeIndex(pd.date_range('1/1/2005', periods=10, freq='1D'))\n",
    "data.is_all_dates"
   ],
   "metadata": {
    "collapsed": false,
    "pycharm": {
     "name": "#%%\n"
    }
   }
  },
  {
   "cell_type": "code",
   "execution_count": 104,
   "outputs": [
    {
     "data": {
      "text/plain": "False"
     },
     "execution_count": 104,
     "metadata": {},
     "output_type": "execute_result"
    }
   ],
   "source": [
    "data = pd.DatetimeIndex(pd.date_range('1/1/2005', periods=10, freq='1D'))\n",
    "data.is_boolean()"
   ],
   "metadata": {
    "collapsed": false,
    "pycharm": {
     "name": "#%%\n"
    }
   }
  },
  {
   "cell_type": "code",
   "execution_count": 106,
   "outputs": [
    {
     "data": {
      "text/plain": "False"
     },
     "execution_count": 106,
     "metadata": {},
     "output_type": "execute_result"
    }
   ],
   "source": [
    "data = pd.DatetimeIndex(pd.date_range('1/1/2005', periods=10, freq='1D'))\n",
    "data.is_floating()"
   ],
   "metadata": {
    "collapsed": false,
    "pycharm": {
     "name": "#%%\n"
    }
   }
  },
  {
   "cell_type": "code",
   "execution_count": 108,
   "outputs": [
    {
     "data": {
      "text/plain": "False"
     },
     "execution_count": 108,
     "metadata": {},
     "output_type": "execute_result"
    }
   ],
   "source": [
    "data = pd.DatetimeIndex(pd.date_range('1/1/2005', periods=10, freq='1D'))\n",
    "data.is_integer()"
   ],
   "metadata": {
    "collapsed": false,
    "pycharm": {
     "name": "#%%\n"
    }
   }
  },
  {
   "cell_type": "code",
   "execution_count": 110,
   "outputs": [
    {
     "data": {
      "text/plain": "False"
     },
     "execution_count": 110,
     "metadata": {},
     "output_type": "execute_result"
    }
   ],
   "source": [
    "data = pd.DatetimeIndex(pd.date_range('1/1/2005', periods=10, freq='1D'))\n",
    "data.is_interval()"
   ],
   "metadata": {
    "collapsed": false,
    "pycharm": {
     "name": "#%%\n"
    }
   }
  },
  {
   "cell_type": "code",
   "execution_count": 114,
   "outputs": [
    {
     "data": {
      "text/plain": "array([False, False, False, False, False, False, False, False, False,\n       False])"
     },
     "execution_count": 114,
     "metadata": {},
     "output_type": "execute_result"
    }
   ],
   "source": [
    "data = pd.DatetimeIndex(pd.date_range('1/1/2005', periods=10, freq='1D'))\n",
    "data.is_leap_year"
   ],
   "metadata": {
    "collapsed": false,
    "pycharm": {
     "name": "#%%\n"
    }
   }
  },
  {
   "cell_type": "code",
   "execution_count": 118,
   "outputs": [
    {
     "name": "stderr",
     "output_type": "stream",
     "text": [
      "/var/folders/7v/1c76ypv54yx261vygq63_47w0000gp/T/ipykernel_4335/4134202256.py:2: FutureWarning: Index.is_mixed is deprecated and will be removed in a future version. Check index.inferred_type directly instead.\n",
      "  data.is_mixed()\n"
     ]
    },
    {
     "data": {
      "text/plain": "False"
     },
     "execution_count": 118,
     "metadata": {},
     "output_type": "execute_result"
    }
   ],
   "source": [
    "data = pd.DatetimeIndex(pd.date_range('1/1/2005', periods=10, freq='1D'))\n",
    "data.is_mixed()"
   ],
   "metadata": {
    "collapsed": false,
    "pycharm": {
     "name": "#%%\n"
    }
   }
  },
  {
   "cell_type": "code",
   "execution_count": 120,
   "outputs": [
    {
     "name": "stderr",
     "output_type": "stream",
     "text": [
      "/var/folders/7v/1c76ypv54yx261vygq63_47w0000gp/T/ipykernel_4335/2216058608.py:2: FutureWarning: is_monotonic is deprecated and will be removed in a future version. Use is_monotonic_increasing instead.\n",
      "  data.is_monotonic\n"
     ]
    },
    {
     "data": {
      "text/plain": "True"
     },
     "execution_count": 120,
     "metadata": {},
     "output_type": "execute_result"
    }
   ],
   "source": [
    "data = pd.DatetimeIndex(pd.date_range('1/1/2005', periods=10, freq='1D'))\n",
    "data.is_monotonic"
   ],
   "metadata": {
    "collapsed": false,
    "pycharm": {
     "name": "#%%\n"
    }
   }
  },
  {
   "cell_type": "code",
   "execution_count": 122,
   "outputs": [
    {
     "data": {
      "text/plain": "False"
     },
     "execution_count": 122,
     "metadata": {},
     "output_type": "execute_result"
    }
   ],
   "source": [
    "data = pd.DatetimeIndex(pd.date_range('1/1/2005', periods=10, freq='1D'))\n",
    "data.is_monotonic_decreasing"
   ],
   "metadata": {
    "collapsed": false,
    "pycharm": {
     "name": "#%%\n"
    }
   }
  },
  {
   "cell_type": "code",
   "execution_count": 123,
   "outputs": [
    {
     "data": {
      "text/plain": "True"
     },
     "execution_count": 123,
     "metadata": {},
     "output_type": "execute_result"
    }
   ],
   "source": [
    "data = pd.DatetimeIndex(pd.date_range('1/1/2005', periods=10, freq='1D'))\n",
    "data.is_monotonic_increasing"
   ],
   "metadata": {
    "collapsed": false,
    "pycharm": {
     "name": "#%%\n"
    }
   }
  },
  {
   "cell_type": "code",
   "execution_count": 133,
   "outputs": [
    {
     "data": {
      "text/plain": "array([False, False, False,  True, False, False, False, False, False,\n       False])"
     },
     "execution_count": 133,
     "metadata": {},
     "output_type": "execute_result"
    }
   ],
   "source": [
    "data = pd.DatetimeIndex(pd.date_range('1/1/2005', periods=10, freq='10D'))\n",
    "data.is_month_end"
   ],
   "metadata": {
    "collapsed": false,
    "pycharm": {
     "name": "#%%\n"
    }
   }
  },
  {
   "cell_type": "code",
   "execution_count": 134,
   "outputs": [
    {
     "data": {
      "text/plain": "array([ True, False, False, False, False, False, False, False, False,\n        True])"
     },
     "execution_count": 134,
     "metadata": {},
     "output_type": "execute_result"
    }
   ],
   "source": [
    "data = pd.DatetimeIndex(pd.date_range('1/1/2005', periods=10, freq='10D'))\n",
    "data.is_month_start"
   ],
   "metadata": {
    "collapsed": false,
    "pycharm": {
     "name": "#%%\n"
    }
   }
  },
  {
   "cell_type": "code",
   "execution_count": 136,
   "outputs": [
    {
     "data": {
      "text/plain": "True"
     },
     "execution_count": 136,
     "metadata": {},
     "output_type": "execute_result"
    }
   ],
   "source": [
    "data = pd.DatetimeIndex(pd.date_range('1/1/2005', periods=10, freq='1D'))\n",
    "data.is_normalized"
   ],
   "metadata": {
    "collapsed": false,
    "pycharm": {
     "name": "#%%\n"
    }
   }
  },
  {
   "cell_type": "code",
   "execution_count": 138,
   "outputs": [
    {
     "data": {
      "text/plain": "False"
     },
     "execution_count": 138,
     "metadata": {},
     "output_type": "execute_result"
    }
   ],
   "source": [
    "data = pd.DatetimeIndex(pd.date_range('1/1/2005', periods=10, freq='1D'))\n",
    "data.is_numeric()"
   ],
   "metadata": {
    "collapsed": false,
    "pycharm": {
     "name": "#%%\n"
    }
   }
  },
  {
   "cell_type": "code",
   "execution_count": 140,
   "outputs": [
    {
     "data": {
      "text/plain": "False"
     },
     "execution_count": 140,
     "metadata": {},
     "output_type": "execute_result"
    }
   ],
   "source": [
    "data = pd.DatetimeIndex(pd.date_range('1/1/2005', periods=10, freq='1D'))\n",
    "data.is_object()"
   ],
   "metadata": {
    "collapsed": false,
    "pycharm": {
     "name": "#%%\n"
    }
   }
  },
  {
   "cell_type": "code",
   "execution_count": 147,
   "outputs": [
    {
     "data": {
      "text/plain": "array([False,  True, False, False, False, False, False, False, False,\n       False])"
     },
     "execution_count": 147,
     "metadata": {},
     "output_type": "execute_result"
    }
   ],
   "source": [
    "data = pd.DatetimeIndex(pd.date_range('03/30/2005', periods=10))\n",
    "data.is_quarter_end"
   ],
   "metadata": {
    "collapsed": false,
    "pycharm": {
     "name": "#%%\n"
    }
   }
  },
  {
   "cell_type": "code",
   "execution_count": 148,
   "outputs": [
    {
     "data": {
      "text/plain": "array([False, False,  True, False, False, False, False, False, False,\n       False])"
     },
     "execution_count": 148,
     "metadata": {},
     "output_type": "execute_result"
    }
   ],
   "source": [
    "data = pd.DatetimeIndex(pd.date_range('03/30/2005', periods=10))\n",
    "data.is_quarter_start"
   ],
   "metadata": {
    "collapsed": false,
    "pycharm": {
     "name": "#%%\n"
    }
   }
  },
  {
   "cell_type": "code",
   "execution_count": 155,
   "outputs": [
    {
     "name": "stderr",
     "output_type": "stream",
     "text": [
      "/var/folders/7v/1c76ypv54yx261vygq63_47w0000gp/T/ipykernel_4335/3908112492.py:2: FutureWarning: DatetimeIndex.is_type_compatible is deprecated and will be removed in a future version.\n",
      "  data.is_type_compatible(np.datetime64)\n"
     ]
    },
    {
     "data": {
      "text/plain": "False"
     },
     "execution_count": 155,
     "metadata": {},
     "output_type": "execute_result"
    }
   ],
   "source": [
    "data = pd.DatetimeIndex(pd.date_range('1/1/2005', periods=10))\n",
    "data.is_type_compatible(np.datetime64)"
   ],
   "metadata": {
    "collapsed": false,
    "pycharm": {
     "name": "#%%\n"
    }
   }
  },
  {
   "cell_type": "code",
   "execution_count": 159,
   "outputs": [
    {
     "data": {
      "text/plain": "True"
     },
     "execution_count": 159,
     "metadata": {},
     "output_type": "execute_result"
    }
   ],
   "source": [
    "data = pd.DatetimeIndex(pd.date_range('1/1/2005', periods=10))\n",
    "data.is_unique"
   ],
   "metadata": {
    "collapsed": false,
    "pycharm": {
     "name": "#%%\n"
    }
   }
  },
  {
   "cell_type": "code",
   "execution_count": 161,
   "outputs": [
    {
     "name": "stderr",
     "output_type": "stream",
     "text": [
      "/var/folders/7v/1c76ypv54yx261vygq63_47w0000gp/T/ipykernel_4335/1560639415.py:1: UserWarning: Parsing dates in DD/MM/YYYY format when dayfirst=False (the default) was specified. This may lead to inconsistently parsed dates! Specify a format to ensure consistent parsing.\n",
      "  data = pd.DatetimeIndex(pd.date_range('25/12/2005', periods=10))\n"
     ]
    },
    {
     "data": {
      "text/plain": "array([False, False, False, False, False, False,  True, False, False,\n       False])"
     },
     "execution_count": 161,
     "metadata": {},
     "output_type": "execute_result"
    }
   ],
   "source": [
    "data = pd.DatetimeIndex(pd.date_range('25/12/2005', periods=10))\n",
    "data.is_year_end"
   ],
   "metadata": {
    "collapsed": false,
    "pycharm": {
     "name": "#%%\n"
    }
   }
  },
  {
   "cell_type": "code",
   "execution_count": 162,
   "outputs": [
    {
     "name": "stderr",
     "output_type": "stream",
     "text": [
      "/var/folders/7v/1c76ypv54yx261vygq63_47w0000gp/T/ipykernel_4335/3186565545.py:1: UserWarning: Parsing dates in DD/MM/YYYY format when dayfirst=False (the default) was specified. This may lead to inconsistently parsed dates! Specify a format to ensure consistent parsing.\n",
      "  data = pd.DatetimeIndex(pd.date_range('25/12/2005', periods=10))\n"
     ]
    },
    {
     "data": {
      "text/plain": "array([False, False, False, False, False, False, False,  True, False,\n       False])"
     },
     "execution_count": 162,
     "metadata": {},
     "output_type": "execute_result"
    }
   ],
   "source": [
    "data = pd.DatetimeIndex(pd.date_range('25/12/2005', periods=10))\n",
    "data.is_year_start"
   ],
   "metadata": {
    "collapsed": false,
    "pycharm": {
     "name": "#%%\n"
    }
   }
  },
  {
   "cell_type": "code",
   "execution_count": 169,
   "outputs": [
    {
     "name": "stdout",
     "output_type": "stream",
     "text": [
      "[False False  True False False False False False False False]\n",
      "[False False False False False False False False False False]\n"
     ]
    },
    {
     "name": "stderr",
     "output_type": "stream",
     "text": [
      "/var/folders/7v/1c76ypv54yx261vygq63_47w0000gp/T/ipykernel_4335/205097091.py:1: UserWarning: Parsing dates in DD/MM/YYYY format when dayfirst=False (the default) was specified. This may lead to inconsistently parsed dates! Specify a format to ensure consistent parsing.\n",
      "  data = pd.DatetimeIndex(pd.date_range('25/12/2005', periods=10))\n"
     ]
    }
   ],
   "source": [
    "data = pd.DatetimeIndex(pd.date_range('25/12/2005', periods=10))\n",
    "print(data.isin(['2005-12-27']))\n",
    "print(data.isin(['2005-10-27']))"
   ],
   "metadata": {
    "collapsed": false,
    "pycharm": {
     "name": "#%%\n"
    }
   }
  },
  {
   "cell_type": "code",
   "execution_count": 172,
   "outputs": [
    {
     "data": {
      "text/plain": "array([False, False, False, False, False, False, False, False, False,\n       False,  True])"
     },
     "execution_count": 172,
     "metadata": {},
     "output_type": "execute_result"
    }
   ],
   "source": [
    "data = pd.DatetimeIndex(pd.date_range('1/1/2005', periods=10, freq='1D')).append(pd.DatetimeIndex([np.nan]))\n",
    "data.isna()"
   ],
   "metadata": {
    "collapsed": false,
    "pycharm": {
     "name": "#%%\n"
    }
   }
  },
  {
   "cell_type": "code",
   "execution_count": 174,
   "outputs": [
    {
     "data": {
      "text/plain": "array([False, False, False, False, False, False, False, False, False,\n       False,  True])"
     },
     "execution_count": 174,
     "metadata": {},
     "output_type": "execute_result"
    }
   ],
   "source": [
    "data = pd.DatetimeIndex(pd.date_range('1/1/2005', periods=10, freq='1D')).append(pd.DatetimeIndex([np.nan]))\n",
    "data.isnull()"
   ],
   "metadata": {
    "collapsed": false,
    "pycharm": {
     "name": "#%%\n"
    }
   }
  },
  {
   "cell_type": "code",
   "execution_count": 178,
   "outputs": [
    {
     "data": {
      "text/plain": "            year  week  day\n2005-01-01  2004    53    6\n2005-01-02  2004    53    7\n2005-01-03  2005     1    1\n2005-01-04  2005     1    2\n2005-01-05  2005     1    3\n2005-01-06  2005     1    4\n2005-01-07  2005     1    5\n2005-01-08  2005     1    6\n2005-01-09  2005     1    7\n2005-01-10  2005     2    1",
      "text/html": "<div>\n<style scoped>\n    .dataframe tbody tr th:only-of-type {\n        vertical-align: middle;\n    }\n\n    .dataframe tbody tr th {\n        vertical-align: top;\n    }\n\n    .dataframe thead th {\n        text-align: right;\n    }\n</style>\n<table border=\"1\" class=\"dataframe\">\n  <thead>\n    <tr style=\"text-align: right;\">\n      <th></th>\n      <th>year</th>\n      <th>week</th>\n      <th>day</th>\n    </tr>\n  </thead>\n  <tbody>\n    <tr>\n      <th>2005-01-01</th>\n      <td>2004</td>\n      <td>53</td>\n      <td>6</td>\n    </tr>\n    <tr>\n      <th>2005-01-02</th>\n      <td>2004</td>\n      <td>53</td>\n      <td>7</td>\n    </tr>\n    <tr>\n      <th>2005-01-03</th>\n      <td>2005</td>\n      <td>1</td>\n      <td>1</td>\n    </tr>\n    <tr>\n      <th>2005-01-04</th>\n      <td>2005</td>\n      <td>1</td>\n      <td>2</td>\n    </tr>\n    <tr>\n      <th>2005-01-05</th>\n      <td>2005</td>\n      <td>1</td>\n      <td>3</td>\n    </tr>\n    <tr>\n      <th>2005-01-06</th>\n      <td>2005</td>\n      <td>1</td>\n      <td>4</td>\n    </tr>\n    <tr>\n      <th>2005-01-07</th>\n      <td>2005</td>\n      <td>1</td>\n      <td>5</td>\n    </tr>\n    <tr>\n      <th>2005-01-08</th>\n      <td>2005</td>\n      <td>1</td>\n      <td>6</td>\n    </tr>\n    <tr>\n      <th>2005-01-09</th>\n      <td>2005</td>\n      <td>1</td>\n      <td>7</td>\n    </tr>\n    <tr>\n      <th>2005-01-10</th>\n      <td>2005</td>\n      <td>2</td>\n      <td>1</td>\n    </tr>\n  </tbody>\n</table>\n</div>"
     },
     "execution_count": 178,
     "metadata": {},
     "output_type": "execute_result"
    }
   ],
   "source": [
    "data = pd.DatetimeIndex(pd.date_range('1/1/2005', periods=10, freq='1D'))\n",
    "data.isocalendar()"
   ],
   "metadata": {
    "collapsed": false,
    "pycharm": {
     "name": "#%%\n"
    }
   }
  },
  {
   "cell_type": "code",
   "execution_count": 187,
   "outputs": [
    {
     "data": {
      "text/plain": "<DatetimeArray>\n['2005-01-01 00:00:00', '2005-01-02 00:00:00', '2005-01-03 00:00:00',\n '2005-01-04 00:00:00', '2005-01-05 00:00:00', '2005-01-06 00:00:00',\n '2005-01-07 00:00:00', '2005-01-08 00:00:00', '2005-01-09 00:00:00',\n '2005-01-10 00:00:00']\nLength: 10, dtype: datetime64[ns]"
     },
     "execution_count": 187,
     "metadata": {},
     "output_type": "execute_result"
    }
   ],
   "source": [
    "data = pd.DatetimeIndex([pd.date_range('1/1/2005', periods=10, freq='1D')])\n",
    "data.item()"
   ],
   "metadata": {
    "collapsed": false,
    "pycharm": {
     "name": "#%%\n"
    }
   }
  },
  {
   "cell_type": "code",
   "execution_count": 223,
   "outputs": [
    {
     "data": {
      "text/plain": "DatetimeIndex(['2005-01-01', '2005-01-02', '2005-01-03', '2005-01-04',\n               '2005-01-05', '2005-01-06', '2005-01-07', '2005-01-08',\n               '2005-01-09', '2005-01-10'],\n              dtype='datetime64[ns]', freq='D')"
     },
     "execution_count": 223,
     "metadata": {},
     "output_type": "execute_result"
    }
   ],
   "source": [
    "data = pd.DatetimeIndex(pd.date_range('1/1/2005', periods=10, freq='1D'))\n",
    "data.join(data)"
   ],
   "metadata": {
    "collapsed": false,
    "pycharm": {
     "name": "#%%\n"
    }
   }
  },
  {
   "cell_type": "code",
   "execution_count": 230,
   "outputs": [
    {
     "data": {
      "text/plain": "DatetimeIndex(['2005-01-11', '2005-01-12', '2005-01-13', '2005-01-14',\n               '2005-01-15', '2005-01-16', '2005-01-17', '2005-01-18',\n               '2005-01-19', '2005-01-20'],\n              dtype='datetime64[ns]', freq='D')"
     },
     "execution_count": 230,
     "metadata": {},
     "output_type": "execute_result"
    }
   ],
   "source": [
    "def my_f(p):\n",
    "    return p.shift(10)\n",
    "\n",
    "data = pd.DatetimeIndex(pd.date_range('1/1/2005', periods=10, freq='1D'))\n",
    "data.map(my_f)"
   ],
   "metadata": {
    "collapsed": false,
    "pycharm": {
     "name": "#%%\n"
    }
   }
  },
  {
   "cell_type": "code",
   "execution_count": 232,
   "outputs": [
    {
     "data": {
      "text/plain": "Timestamp('2005-01-10 00:00:00', freq='D')"
     },
     "execution_count": 232,
     "metadata": {},
     "output_type": "execute_result"
    }
   ],
   "source": [
    "data = pd.DatetimeIndex(pd.date_range('1/1/2005', periods=10, freq='1D'))\n",
    "data.max()"
   ],
   "metadata": {
    "collapsed": false,
    "pycharm": {
     "name": "#%%\n"
    }
   }
  },
  {
   "cell_type": "code",
   "execution_count": 234,
   "outputs": [
    {
     "data": {
      "text/plain": "Timestamp('2005-01-05 12:00:00', freq='D')"
     },
     "execution_count": 234,
     "metadata": {},
     "output_type": "execute_result"
    }
   ],
   "source": [
    "data = pd.DatetimeIndex(pd.date_range('1/1/2005', periods=10, freq='1D'))\n",
    "data.mean()"
   ],
   "metadata": {
    "collapsed": false,
    "pycharm": {
     "name": "#%%\n"
    }
   }
  },
  {
   "cell_type": "code",
   "execution_count": 236,
   "outputs": [
    {
     "data": {
      "text/plain": "80"
     },
     "execution_count": 236,
     "metadata": {},
     "output_type": "execute_result"
    }
   ],
   "source": [
    "data = pd.DatetimeIndex(pd.date_range('1/1/2005', periods=10, freq='1D'))\n",
    "data.memory_usage()"
   ],
   "metadata": {
    "collapsed": false,
    "pycharm": {
     "name": "#%%\n"
    }
   }
  },
  {
   "cell_type": "code",
   "execution_count": 237,
   "outputs": [
    {
     "data": {
      "text/plain": "Int64Index([0, 0, 0, 0, 0, 0, 0, 0, 0, 0], dtype='int64')"
     },
     "execution_count": 237,
     "metadata": {},
     "output_type": "execute_result"
    }
   ],
   "source": [
    "data = pd.DatetimeIndex(pd.date_range('1/1/2005', periods=10, freq='1D'))\n",
    "data.microsecond"
   ],
   "metadata": {
    "collapsed": false,
    "pycharm": {
     "name": "#%%\n"
    }
   }
  },
  {
   "cell_type": "code",
   "execution_count": 238,
   "outputs": [
    {
     "data": {
      "text/plain": "Timestamp('2005-01-01 00:00:00', freq='D')"
     },
     "execution_count": 238,
     "metadata": {},
     "output_type": "execute_result"
    }
   ],
   "source": [
    "data = pd.DatetimeIndex(pd.date_range('1/1/2005', periods=10, freq='1D'))\n",
    "data.min()"
   ],
   "metadata": {
    "collapsed": false,
    "pycharm": {
     "name": "#%%\n"
    }
   }
  },
  {
   "cell_type": "code",
   "execution_count": 241,
   "outputs": [
    {
     "data": {
      "text/plain": "Int64Index([0, 0, 0, 0, 0, 0, 0, 0, 0, 0], dtype='int64')"
     },
     "execution_count": 241,
     "metadata": {},
     "output_type": "execute_result"
    }
   ],
   "source": [
    "data = pd.DatetimeIndex(pd.date_range('1/1/2005', periods=10, freq='1D'))\n",
    "data.minute"
   ],
   "metadata": {
    "collapsed": false,
    "pycharm": {
     "name": "#%%\n"
    }
   }
  },
  {
   "cell_type": "code",
   "execution_count": 243,
   "outputs": [
    {
     "data": {
      "text/plain": "Int64Index([1, 1, 1, 1, 2, 2, 3, 3, 3, 4], dtype='int64')"
     },
     "execution_count": 243,
     "metadata": {},
     "output_type": "execute_result"
    }
   ],
   "source": [
    "data = pd.DatetimeIndex(pd.date_range('1/1/2005', periods=10, freq='10D'))\n",
    "data.month"
   ],
   "metadata": {
    "collapsed": false,
    "pycharm": {
     "name": "#%%\n"
    }
   }
  },
  {
   "cell_type": "code",
   "execution_count": 245,
   "outputs": [
    {
     "data": {
      "text/plain": "Index(['January', 'January', 'January', 'January', 'February', 'February',\n       'March', 'March', 'March', 'April'],\n      dtype='object')"
     },
     "execution_count": 245,
     "metadata": {},
     "output_type": "execute_result"
    }
   ],
   "source": [
    "data = pd.DatetimeIndex(pd.date_range('1/1/2005', periods=10, freq='10D'))\n",
    "data.month_name()"
   ],
   "metadata": {
    "collapsed": false,
    "pycharm": {
     "name": "#%%\n"
    }
   }
  },
  {
   "cell_type": "code",
   "execution_count": 250,
   "outputs": [],
   "source": [
    "data = pd.DatetimeIndex(pd.date_range('1/1/2005', periods=10, freq='1D'))\n",
    "data.name"
   ],
   "metadata": {
    "collapsed": false,
    "pycharm": {
     "name": "#%%\n"
    }
   }
  },
  {
   "cell_type": "code",
   "execution_count": 253,
   "outputs": [
    {
     "data": {
      "text/plain": "FrozenList([None])"
     },
     "execution_count": 253,
     "metadata": {},
     "output_type": "execute_result"
    }
   ],
   "source": [
    "data = pd.DatetimeIndex(pd.date_range('1/1/2005', periods=10, freq='1D'))\n",
    "data.names"
   ],
   "metadata": {
    "collapsed": false,
    "pycharm": {
     "name": "#%%\n"
    }
   }
  },
  {
   "cell_type": "code",
   "execution_count": 255,
   "outputs": [
    {
     "data": {
      "text/plain": "Int64Index([0, 0, 0, 0, 0, 0, 0, 0, 0, 0], dtype='int64')"
     },
     "execution_count": 255,
     "metadata": {},
     "output_type": "execute_result"
    }
   ],
   "source": [
    "data = pd.DatetimeIndex(pd.date_range('1/1/2005', periods=10, freq='1D'))\n",
    "data.nanosecond"
   ],
   "metadata": {
    "collapsed": false,
    "pycharm": {
     "name": "#%%\n"
    }
   }
  },
  {
   "cell_type": "code",
   "execution_count": 258,
   "outputs": [
    {
     "data": {
      "text/plain": "80"
     },
     "execution_count": 258,
     "metadata": {},
     "output_type": "execute_result"
    }
   ],
   "source": [
    "data = pd.DatetimeIndex(pd.date_range('1/1/2005', periods=10, freq='1D'))\n",
    "data.nbytes"
   ],
   "metadata": {
    "collapsed": false,
    "pycharm": {
     "name": "#%%\n"
    }
   }
  },
  {
   "cell_type": "code",
   "execution_count": 259,
   "outputs": [
    {
     "data": {
      "text/plain": "1"
     },
     "execution_count": 259,
     "metadata": {},
     "output_type": "execute_result"
    }
   ],
   "source": [
    "data = pd.DatetimeIndex(pd.date_range('1/1/2005', periods=10, freq='1D'))\n",
    "data.ndim"
   ],
   "metadata": {
    "collapsed": false,
    "pycharm": {
     "name": "#%%\n"
    }
   }
  },
  {
   "cell_type": "code",
   "execution_count": 261,
   "outputs": [
    {
     "data": {
      "text/plain": "1"
     },
     "execution_count": 261,
     "metadata": {},
     "output_type": "execute_result"
    }
   ],
   "source": [
    "data = pd.DatetimeIndex(pd.date_range('1/1/2005', periods=10, freq='1D'))\n",
    "data.nlevels"
   ],
   "metadata": {
    "collapsed": false,
    "pycharm": {
     "name": "#%%\n"
    }
   }
  }
 ],
 "metadata": {
  "kernelspec": {
   "display_name": "Python 3",
   "language": "python",
   "name": "python3"
  },
  "language_info": {
   "codemirror_mode": {
    "name": "ipython",
    "version": 2
   },
   "file_extension": ".py",
   "mimetype": "text/x-python",
   "name": "python",
   "nbconvert_exporter": "python",
   "pygments_lexer": "ipython2",
   "version": "2.7.6"
  }
 },
 "nbformat": 4,
 "nbformat_minor": 0
}