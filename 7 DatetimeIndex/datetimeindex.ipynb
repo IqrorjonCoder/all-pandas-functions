{
 "cells": [
  {
   "cell_type": "code",
   "execution_count": 2,
   "metadata": {
    "collapsed": true
   },
   "outputs": [
    {
     "name": "stdout",
     "output_type": "stream",
     "text": [
      "0 T\n",
      "1 all\n",
      "2 any\n",
      "3 append\n",
      "4 argmax\n",
      "5 argmin\n",
      "6 argsort\n",
      "7 array\n",
      "8 asi8\n",
      "9 asof\n",
      "10 asof_locs\n",
      "11 astype\n",
      "12 ceil\n",
      "13 copy\n",
      "14 date\n",
      "15 day\n",
      "16 day_name\n",
      "17 day_of_week\n",
      "18 day_of_year\n",
      "19 dayofweek\n",
      "20 dayofyear\n",
      "21 days_in_month\n",
      "22 daysinmonth\n",
      "23 delete\n",
      "24 difference\n",
      "25 drop\n",
      "26 drop_duplicates\n",
      "27 droplevel\n",
      "28 dropna\n",
      "29 dtype\n",
      "30 duplicated\n",
      "31 empty\n",
      "32 equals\n",
      "33 factorize\n",
      "34 fillna\n",
      "35 floor\n",
      "36 format\n",
      "37 freq\n",
      "38 freqstr\n",
      "39 get_indexer\n",
      "40 get_indexer_for\n",
      "41 get_indexer_non_unique\n",
      "42 get_level_values\n",
      "43 get_loc\n",
      "44 get_slice_bound\n",
      "45 get_value\n",
      "46 groupby\n",
      "47 has_duplicates\n",
      "48 hasnans\n",
      "49 holds_integer\n",
      "50 hour\n",
      "51 identical\n",
      "52 indexer_at_time\n",
      "53 indexer_between_time\n",
      "54 inferred_freq\n",
      "55 inferred_type\n",
      "56 insert\n",
      "57 intersection\n",
      "58 is_\n",
      "59 is_all_dates\n",
      "60 is_boolean\n",
      "61 is_categorical\n",
      "62 is_floating\n",
      "63 is_integer\n",
      "64 is_interval\n",
      "65 is_leap_year\n",
      "66 is_mixed\n",
      "67 is_monotonic\n",
      "68 is_monotonic_decreasing\n",
      "69 is_monotonic_increasing\n",
      "70 is_month_end\n",
      "71 is_month_start\n",
      "72 is_normalized\n",
      "73 is_numeric\n",
      "74 is_object\n",
      "75 is_quarter_end\n",
      "76 is_quarter_start\n",
      "77 is_type_compatible\n",
      "78 is_unique\n",
      "79 is_year_end\n",
      "80 is_year_start\n",
      "81 isin\n",
      "82 isna\n",
      "83 isnull\n",
      "84 isocalendar\n",
      "85 item\n",
      "86 join\n",
      "87 map\n",
      "88 max\n",
      "89 mean\n",
      "90 memory_usage\n",
      "91 microsecond\n",
      "92 min\n",
      "93 minute\n",
      "94 month\n",
      "95 month_name\n",
      "96 name\n",
      "97 names\n",
      "98 nanosecond\n",
      "99 nbytes\n",
      "100 ndim\n",
      "101 nlevels\n",
      "102 normalize\n",
      "103 notna\n",
      "104 notnull\n",
      "105 nunique\n",
      "106 putmask\n",
      "107 quarter\n",
      "108 ravel\n",
      "109 reindex\n",
      "110 rename\n",
      "111 repeat\n",
      "112 resolution\n",
      "113 round\n",
      "114 searchsorted\n",
      "115 second\n",
      "116 set_names\n",
      "117 set_value\n",
      "118 shape\n",
      "119 shift\n",
      "120 size\n",
      "121 slice_indexer\n",
      "122 slice_locs\n",
      "123 snap\n",
      "124 sort\n",
      "125 sort_values\n",
      "126 sortlevel\n",
      "127 std\n",
      "128 str\n",
      "129 strftime\n",
      "130 symmetric_difference\n",
      "131 take\n",
      "132 time\n",
      "133 timetz\n",
      "134 to_flat_index\n",
      "135 to_frame\n",
      "136 to_julian_date\n",
      "137 to_list\n",
      "138 to_native_types\n",
      "139 to_numpy\n",
      "140 to_period\n",
      "141 to_perioddelta\n",
      "142 to_pydatetime\n",
      "143 to_series\n",
      "144 tolist\n",
      "145 transpose\n",
      "146 tz\n",
      "147 tz_convert\n",
      "148 tz_localize\n",
      "149 tzinfo\n",
      "150 union\n",
      "151 union_many\n",
      "152 unique\n",
      "153 value_counts\n",
      "154 values\n",
      "155 view\n",
      "156 week\n",
      "157 weekday\n",
      "158 weekofyear\n",
      "159 where\n",
      "160 year\n"
     ]
    }
   ],
   "source": [
    "import numpy as np\n",
    "import pandas as pd\n",
    "import matplotlib.pyplot as plt\n",
    "\n",
    "functions = [i for i in dir(pd.DatetimeIndex) if i[:1] != '_']\n",
    "\n",
    "for i, v in enumerate(functions):\n",
    "    print(i, v)"
   ]
  },
  {
   "cell_type": "code",
   "execution_count": 4,
   "outputs": [
    {
     "data": {
      "text/plain": "DatetimeIndex(['2005-01-01', '2005-01-02', '2005-01-03', '2005-01-04',\n               '2005-01-05', '2005-01-06', '2005-01-07', '2005-01-08',\n               '2005-01-09', '2005-01-10'],\n              dtype='datetime64[ns]', freq='D')"
     },
     "execution_count": 4,
     "metadata": {},
     "output_type": "execute_result"
    }
   ],
   "source": [
    "data = pd.DatetimeIndex(data=pd.date_range('1/1/2005', periods=10, freq='1D'))\n",
    "data"
   ],
   "metadata": {
    "collapsed": false
   }
  },
  {
   "cell_type": "code",
   "execution_count": 5,
   "outputs": [
    {
     "data": {
      "text/plain": "DatetimeIndex(['2005-01-01', '2005-01-02', '2005-01-03', '2005-01-04',\n               '2005-01-05', '2005-01-06', '2005-01-07', '2005-01-08',\n               '2005-01-09', '2005-01-10'],\n              dtype='datetime64[ns]', freq='D')"
     },
     "execution_count": 5,
     "metadata": {},
     "output_type": "execute_result"
    }
   ],
   "source": [
    "data = pd.DatetimeIndex(data=pd.date_range('1/1/2005', periods=10, freq='1D'))\n",
    "data.T"
   ],
   "metadata": {
    "collapsed": false
   }
  },
  {
   "cell_type": "code",
   "execution_count": 6,
   "outputs": [
    {
     "data": {
      "text/plain": "True"
     },
     "execution_count": 6,
     "metadata": {},
     "output_type": "execute_result"
    }
   ],
   "source": [
    "data = pd.Index([1,2,3])\n",
    "data.all()"
   ],
   "metadata": {
    "collapsed": false
   }
  },
  {
   "cell_type": "code",
   "execution_count": 7,
   "outputs": [
    {
     "data": {
      "text/plain": "True"
     },
     "execution_count": 7,
     "metadata": {},
     "output_type": "execute_result"
    }
   ],
   "source": [
    "data = pd.Index([0,1])\n",
    "data.any()"
   ],
   "metadata": {
    "collapsed": false
   }
  },
  {
   "cell_type": "code",
   "execution_count": 8,
   "outputs": [
    {
     "data": {
      "text/plain": "DatetimeIndex(['2005-01-01', '2005-01-02', '2005-01-03', '2005-01-04',\n               '2005-01-05', '2005-01-06', '2005-01-07', '2005-01-08',\n               '2005-01-09', '2005-01-10', '2005-01-12', '2005-01-13'],\n              dtype='datetime64[ns]', freq=None)"
     },
     "execution_count": 8,
     "metadata": {},
     "output_type": "execute_result"
    }
   ],
   "source": [
    "data = pd.DatetimeIndex(data=pd.date_range('1/1/2005', periods=10, freq='1D'))\n",
    "data.append(pd.date_range('1/12/2005', periods=2, freq='1D'))"
   ],
   "metadata": {
    "collapsed": false
   }
  },
  {
   "cell_type": "code",
   "execution_count": 9,
   "outputs": [
    {
     "name": "stdout",
     "output_type": "stream",
     "text": [
      "DatetimeIndex(['2005-01-01', '2005-01-02', '2005-01-03', '2005-01-04',\n",
      "               '2005-01-05', '2005-01-06', '2005-01-07', '2005-01-08',\n",
      "               '2005-01-09', '2005-01-10'],\n",
      "              dtype='datetime64[ns]', freq='D')\n"
     ]
    },
    {
     "data": {
      "text/plain": "Timestamp('2005-01-10 00:00:00', freq='D')"
     },
     "execution_count": 9,
     "metadata": {},
     "output_type": "execute_result"
    }
   ],
   "source": [
    "data = pd.DatetimeIndex(data=pd.date_range('1/1/2005', periods=10, freq='1D'))\n",
    "print(data)\n",
    "data[data.argmax()]"
   ],
   "metadata": {
    "collapsed": false
   }
  },
  {
   "cell_type": "code",
   "execution_count": 10,
   "outputs": [
    {
     "name": "stdout",
     "output_type": "stream",
     "text": [
      "DatetimeIndex(['2005-01-01', '2005-01-02', '2005-01-03', '2005-01-04',\n",
      "               '2005-01-05', '2005-01-06', '2005-01-07', '2005-01-08',\n",
      "               '2005-01-09', '2005-01-10'],\n",
      "              dtype='datetime64[ns]', freq='D')\n"
     ]
    },
    {
     "data": {
      "text/plain": "Timestamp('2005-01-01 00:00:00', freq='D')"
     },
     "execution_count": 10,
     "metadata": {},
     "output_type": "execute_result"
    }
   ],
   "source": [
    "data = pd.DatetimeIndex(data=pd.date_range('1/1/2005', periods=10, freq='1D'))\n",
    "print(data)\n",
    "data[data.argmin()]"
   ],
   "metadata": {
    "collapsed": false
   }
  },
  {
   "cell_type": "code",
   "execution_count": 11,
   "outputs": [
    {
     "name": "stdout",
     "output_type": "stream",
     "text": [
      "DatetimeIndex(['2005-01-01', '2005-01-02', '2005-01-03', '2005-01-04',\n",
      "               '2005-01-05', '2005-01-06', '2005-01-07', '2005-01-08',\n",
      "               '2005-01-09', '2005-01-10'],\n",
      "              dtype='datetime64[ns]', freq='D')\n"
     ]
    },
    {
     "data": {
      "text/plain": "DatetimeIndex(['2005-01-10', '2005-01-09', '2005-01-08', '2005-01-07',\n               '2005-01-06', '2005-01-05', '2005-01-04', '2005-01-03',\n               '2005-01-02', '2005-01-01'],\n              dtype='datetime64[ns]', freq=None)"
     },
     "execution_count": 11,
     "metadata": {},
     "output_type": "execute_result"
    }
   ],
   "source": [
    "data = pd.DatetimeIndex(data=pd.date_range('1/1/2005', periods=10, freq='1D'))\n",
    "print(data)\n",
    "data[data.argsort(ascending=False)]"
   ],
   "metadata": {
    "collapsed": false
   }
  },
  {
   "cell_type": "code",
   "execution_count": 12,
   "outputs": [
    {
     "data": {
      "text/plain": "<DatetimeArray>\n['2005-01-01 00:00:00', '2005-01-02 00:00:00', '2005-01-03 00:00:00',\n '2005-01-04 00:00:00', '2005-01-05 00:00:00', '2005-01-06 00:00:00',\n '2005-01-07 00:00:00', '2005-01-08 00:00:00', '2005-01-09 00:00:00',\n '2005-01-10 00:00:00']\nLength: 10, dtype: datetime64[ns]"
     },
     "execution_count": 12,
     "metadata": {},
     "output_type": "execute_result"
    }
   ],
   "source": [
    "data = pd.DatetimeIndex(data=pd.date_range('1/1/2005', periods=10, freq='1D'))\n",
    "data.array"
   ],
   "metadata": {
    "collapsed": false
   }
  },
  {
   "cell_type": "code",
   "execution_count": 13,
   "outputs": [
    {
     "data": {
      "text/plain": "array([1104537600000000000, 1104624000000000000, 1104710400000000000,\n       1104796800000000000, 1104883200000000000, 1104969600000000000,\n       1105056000000000000, 1105142400000000000, 1105228800000000000,\n       1105315200000000000])"
     },
     "execution_count": 13,
     "metadata": {},
     "output_type": "execute_result"
    }
   ],
   "source": [
    "data = pd.DatetimeIndex(data=pd.date_range('1/1/2005', periods=10, freq='1D'))\n",
    "data.asi8"
   ],
   "metadata": {
    "collapsed": false
   }
  },
  {
   "cell_type": "code",
   "execution_count": 14,
   "outputs": [
    {
     "data": {
      "text/plain": "Timestamp('2005-01-10 00:00:00', freq='D')"
     },
     "execution_count": 14,
     "metadata": {},
     "output_type": "execute_result"
    }
   ],
   "source": [
    "data = pd.DatetimeIndex(data=pd.date_range('1/1/2005', periods=10, freq='1D'))\n",
    "data.asof(pd.Timestamp(2020, 3, 14))"
   ],
   "metadata": {
    "collapsed": false
   }
  },
  {
   "cell_type": "code",
   "execution_count": 15,
   "outputs": [
    {
     "data": {
      "text/plain": "'\\n        Return the locations (indices) of labels in the index.\\n\\n        As in the `asof` function, if the label (a particular entry in\\n        `where`) is not in the index, the latest index label up to the\\n        passed label is chosen and its index returned.\\n\\n        If all of the labels in the index are later than a label in `where`,\\n        -1 is returned.\\n\\n        `mask` is used to ignore NA values in the index during calculation.\\n\\n        Parameters\\n        ----------\\n        where : Index\\n            An Index consisting of an array of timestamps.\\n        mask : np.ndarray[bool]\\n            Array of booleans denoting where values in the original\\n            data are not NA.\\n\\n        Returns\\n        -------\\n        np.ndarray[np.intp]\\n            An array of locations (indices) of the labels from the Index\\n            which correspond to the return values of the `asof` function\\n            for every element in `where`.\\n        '"
     },
     "execution_count": 15,
     "metadata": {},
     "output_type": "execute_result"
    }
   ],
   "source": [
    "data = pd.DatetimeIndex(data=pd.date_range('1/1/2005', periods=10, freq='1D'))\n",
    "data.asof_locs.__doc__"
   ],
   "metadata": {
    "collapsed": false
   }
  },
  {
   "cell_type": "code",
   "execution_count": 16,
   "outputs": [
    {
     "name": "stderr",
     "output_type": "stream",
     "text": [
      "/var/folders/7v/1c76ypv54yx261vygq63_47w0000gp/T/ipykernel_4335/713149380.py:2: DeprecationWarning: `np.object` is a deprecated alias for the builtin `object`. To silence this warning, use `object` by itself. Doing this will not modify any behavior and is safe. \n",
      "Deprecated in NumPy 1.20; for more details and guidance: https://numpy.org/devdocs/release/1.20.0-notes.html#deprecations\n",
      "  data.astype(np.object)\n"
     ]
    },
    {
     "data": {
      "text/plain": "Index([2005-01-01 00:00:00, 2005-01-02 00:00:00, 2005-01-03 00:00:00,\n       2005-01-04 00:00:00, 2005-01-05 00:00:00, 2005-01-06 00:00:00,\n       2005-01-07 00:00:00, 2005-01-08 00:00:00, 2005-01-09 00:00:00,\n       2005-01-10 00:00:00],\n      dtype='object')"
     },
     "execution_count": 16,
     "metadata": {},
     "output_type": "execute_result"
    }
   ],
   "source": [
    "data = pd.DatetimeIndex(data=pd.date_range('1/1/2005', periods=10, freq='1D'))\n",
    "data.astype(np.object)"
   ],
   "metadata": {
    "collapsed": false
   }
  },
  {
   "cell_type": "code",
   "execution_count": 17,
   "outputs": [
    {
     "data": {
      "text/plain": "DatetimeIndex(['2005-01-01', '2005-01-03', '2005-01-03', '2005-01-05',\n               '2005-01-05', '2005-01-07', '2005-01-07', '2005-01-09',\n               '2005-01-09', '2005-01-11'],\n              dtype='datetime64[ns]', freq=None)"
     },
     "execution_count": 17,
     "metadata": {},
     "output_type": "execute_result"
    }
   ],
   "source": [
    "data = pd.DatetimeIndex(data=pd.date_range('1/1/2005', periods=10, freq='1D'))\n",
    "data.ceil(freq='2D')"
   ],
   "metadata": {
    "collapsed": false
   }
  },
  {
   "cell_type": "code",
   "execution_count": 18,
   "outputs": [
    {
     "data": {
      "text/plain": "DatetimeIndex(['2005-01-01', '2005-01-02', '2005-01-03', '2005-01-04',\n               '2005-01-05', '2005-01-06', '2005-01-07', '2005-01-08',\n               '2005-01-09', '2005-01-10'],\n              dtype='datetime64[ns]', name='copied', freq='D')"
     },
     "execution_count": 18,
     "metadata": {},
     "output_type": "execute_result"
    }
   ],
   "source": [
    "data = pd.DatetimeIndex(data=pd.date_range('1/1/2005', periods=10, freq='1D'))\n",
    "x = data.copy(name=\"copied\")\n",
    "x"
   ],
   "metadata": {
    "collapsed": false
   }
  },
  {
   "cell_type": "code",
   "execution_count": 19,
   "outputs": [
    {
     "data": {
      "text/plain": "array([datetime.date(2005, 1, 1), datetime.date(2005, 1, 2),\n       datetime.date(2005, 1, 3), datetime.date(2005, 1, 4),\n       datetime.date(2005, 1, 5), datetime.date(2005, 1, 6),\n       datetime.date(2005, 1, 7), datetime.date(2005, 1, 8),\n       datetime.date(2005, 1, 9), datetime.date(2005, 1, 10)],\n      dtype=object)"
     },
     "execution_count": 19,
     "metadata": {},
     "output_type": "execute_result"
    }
   ],
   "source": [
    "data = pd.DatetimeIndex(data=pd.date_range('1/1/2005', periods=10, freq='1D'))\n",
    "data.date"
   ],
   "metadata": {
    "collapsed": false
   }
  },
  {
   "cell_type": "code",
   "execution_count": 20,
   "outputs": [
    {
     "data": {
      "text/plain": "Int64Index([1, 2, 3, 4, 5, 6, 7, 8, 9, 10], dtype='int64')"
     },
     "execution_count": 20,
     "metadata": {},
     "output_type": "execute_result"
    }
   ],
   "source": [
    "data = pd.DatetimeIndex(data=pd.date_range('1/1/2005', periods=10, freq='1D'))\n",
    "data.day"
   ],
   "metadata": {
    "collapsed": false
   }
  },
  {
   "cell_type": "code",
   "execution_count": 21,
   "outputs": [
    {
     "data": {
      "text/plain": "Index(['Saturday', 'Sunday', 'Monday', 'Tuesday', 'Wednesday', 'Thursday',\n       'Friday', 'Saturday', 'Sunday', 'Monday'],\n      dtype='object')"
     },
     "execution_count": 21,
     "metadata": {},
     "output_type": "execute_result"
    }
   ],
   "source": [
    "data = pd.DatetimeIndex(data=pd.date_range('1/1/2005', periods=10, freq='1D'))\n",
    "data.day_name()"
   ],
   "metadata": {
    "collapsed": false
   }
  },
  {
   "cell_type": "code",
   "execution_count": 22,
   "outputs": [
    {
     "data": {
      "text/plain": "Int64Index([5, 6, 0, 1, 2, 3, 4, 5, 6, 0], dtype='int64')"
     },
     "execution_count": 22,
     "metadata": {},
     "output_type": "execute_result"
    }
   ],
   "source": [
    "data = pd.DatetimeIndex(data=pd.date_range('1/1/2005', periods=10, freq='1D'))\n",
    "data.day_of_week"
   ],
   "metadata": {
    "collapsed": false
   }
  },
  {
   "cell_type": "code",
   "execution_count": 23,
   "outputs": [
    {
     "data": {
      "text/plain": "Int64Index([1, 2, 3, 4, 5, 6, 7, 8, 9, 10], dtype='int64')"
     },
     "execution_count": 23,
     "metadata": {},
     "output_type": "execute_result"
    }
   ],
   "source": [
    "data = pd.DatetimeIndex(data=pd.date_range('1/1/2005', periods=10, freq='1D'))\n",
    "data.day_of_year"
   ],
   "metadata": {
    "collapsed": false
   }
  },
  {
   "cell_type": "code",
   "execution_count": 24,
   "outputs": [
    {
     "data": {
      "text/plain": "Int64Index([5, 6, 0, 1, 2, 3, 4, 5, 6, 0], dtype='int64')"
     },
     "execution_count": 24,
     "metadata": {},
     "output_type": "execute_result"
    }
   ],
   "source": [
    "data = pd.DatetimeIndex(data=pd.date_range('1/1/2005', periods=10, freq='1D'))\n",
    "data.dayofweek"
   ],
   "metadata": {
    "collapsed": false
   }
  },
  {
   "cell_type": "code",
   "execution_count": 25,
   "outputs": [
    {
     "data": {
      "text/plain": "Int64Index([1, 2, 3, 4, 5, 6, 7, 8, 9, 10], dtype='int64')"
     },
     "execution_count": 25,
     "metadata": {},
     "output_type": "execute_result"
    }
   ],
   "source": [
    "data = pd.DatetimeIndex(data=pd.date_range('1/1/2005', periods=10, freq='1D'))\n",
    "data.dayofyear"
   ],
   "metadata": {
    "collapsed": false
   }
  },
  {
   "cell_type": "code",
   "execution_count": 26,
   "outputs": [
    {
     "data": {
      "text/plain": "Int64Index([31, 31, 31, 31, 31, 31, 31, 31, 31, 31], dtype='int64')"
     },
     "execution_count": 26,
     "metadata": {},
     "output_type": "execute_result"
    }
   ],
   "source": [
    "data = pd.DatetimeIndex(data=pd.date_range('1/1/2005', periods=10, freq='1D'))\n",
    "data.days_in_month"
   ],
   "metadata": {
    "collapsed": false
   }
  },
  {
   "cell_type": "code",
   "execution_count": 27,
   "outputs": [
    {
     "data": {
      "text/plain": "Int64Index([31, 31, 31, 31, 31, 31, 31, 31, 31, 31], dtype='int64')"
     },
     "execution_count": 27,
     "metadata": {},
     "output_type": "execute_result"
    }
   ],
   "source": [
    "data = pd.DatetimeIndex(data=pd.date_range('1/1/2005', periods=10, freq='1D'))\n",
    "data.daysinmonth"
   ],
   "metadata": {
    "collapsed": false
   }
  },
  {
   "cell_type": "code",
   "execution_count": 28,
   "outputs": [
    {
     "data": {
      "text/plain": "DatetimeIndex(['2005-01-02', '2005-01-03', '2005-01-04', '2005-01-05',\n               '2005-01-06', '2005-01-07', '2005-01-08', '2005-01-09'],\n              dtype='datetime64[ns]', freq=None)"
     },
     "execution_count": 28,
     "metadata": {},
     "output_type": "execute_result"
    }
   ],
   "source": [
    "data = pd.DatetimeIndex(data=pd.date_range('1/1/2005', periods=10, freq='1D'))\n",
    "data.delete([0,-1])"
   ],
   "metadata": {
    "collapsed": false
   }
  },
  {
   "cell_type": "code",
   "execution_count": 29,
   "outputs": [
    {
     "data": {
      "text/plain": "DatetimeIndex(['2005-01-01', '2005-01-02', '2005-01-03', '2005-01-04'], dtype='datetime64[ns]', freq=None)"
     },
     "execution_count": 29,
     "metadata": {},
     "output_type": "execute_result"
    }
   ],
   "source": [
    "data = pd.DatetimeIndex(data=pd.date_range('1/1/2005', periods=10, freq='1D'))\n",
    "data.difference(pd.DatetimeIndex(data=pd.date_range('1/5/2005', periods=10, freq='1D')))\n"
   ],
   "metadata": {
    "collapsed": false
   }
  },
  {
   "cell_type": "code",
   "execution_count": 30,
   "outputs": [
    {
     "data": {
      "text/plain": "DatetimeIndex(['2005-01-03', '2005-01-04', '2005-01-05', '2005-01-06',\n               '2005-01-07', '2005-01-08', '2005-01-09', '2005-01-10'],\n              dtype='datetime64[ns]', freq='D')"
     },
     "execution_count": 30,
     "metadata": {},
     "output_type": "execute_result"
    }
   ],
   "source": [
    "data = pd.DatetimeIndex(data=pd.date_range('1/1/2005', periods=10, freq='1D'))\n",
    "data = data.drop(['2005-01-01', '2005-01-02'])\n",
    "data"
   ],
   "metadata": {
    "collapsed": false
   }
  },
  {
   "cell_type": "code",
   "execution_count": 31,
   "outputs": [
    {
     "name": "stdout",
     "output_type": "stream",
     "text": [
      "DatetimeIndex(['2005-01-01', '2005-01-02', '2005-01-03', '2005-01-04',\n",
      "               '2005-01-05', '2005-01-06', '2005-01-07', '2005-01-08',\n",
      "               '2005-01-09', '2005-01-10', '2005-01-01', '2005-01-02',\n",
      "               '2005-01-03', '2005-01-04', '2005-01-05', '2005-01-06',\n",
      "               '2005-01-07', '2005-01-08', '2005-01-09', '2005-01-10'],\n",
      "              dtype='datetime64[ns]', freq=None)\n"
     ]
    },
    {
     "data": {
      "text/plain": "DatetimeIndex(['2005-01-01', '2005-01-02', '2005-01-03', '2005-01-04',\n               '2005-01-05', '2005-01-06', '2005-01-07', '2005-01-08',\n               '2005-01-09', '2005-01-10'],\n              dtype='datetime64[ns]', freq=None)"
     },
     "execution_count": 31,
     "metadata": {},
     "output_type": "execute_result"
    }
   ],
   "source": [
    "data = pd.DatetimeIndex(data=pd.date_range('1/1/2005', periods=10, freq='1D'))\n",
    "data = data.append(data)\n",
    "print(data)\n",
    "data.drop_duplicates()"
   ],
   "metadata": {
    "collapsed": false
   }
  },
  {
   "cell_type": "code",
   "execution_count": 32,
   "outputs": [
    {
     "data": {
      "text/plain": "MultiIndex([(1, 3),\n            (2, 4)],\n           names=['x', 'y'])"
     },
     "execution_count": 32,
     "metadata": {},
     "output_type": "execute_result"
    }
   ],
   "source": [
    "mi = pd.MultiIndex.from_arrays([[1, 2], [3, 4], [5, 6]], names=['x', 'y', 'z'])\n",
    "mi.droplevel(2)"
   ],
   "metadata": {
    "collapsed": false
   }
  },
  {
   "cell_type": "code",
   "execution_count": 33,
   "outputs": [
    {
     "name": "stdout",
     "output_type": "stream",
     "text": [
      "DatetimeIndex(['2005-01-01', '2005-01-02', '2005-01-03', '2005-01-04',\n",
      "               '2005-01-05', '2005-01-06', '2005-01-07', '2005-01-08',\n",
      "               '2005-01-09', '2005-01-10',        'NaT',        'NaT'],\n",
      "              dtype='datetime64[ns]', freq=None)\n"
     ]
    },
    {
     "data": {
      "text/plain": "DatetimeIndex(['2005-01-01', '2005-01-02', '2005-01-03', '2005-01-04',\n               '2005-01-05', '2005-01-06', '2005-01-07', '2005-01-08',\n               '2005-01-09', '2005-01-10'],\n              dtype='datetime64[ns]', freq=None)"
     },
     "execution_count": 33,
     "metadata": {},
     "output_type": "execute_result"
    }
   ],
   "source": [
    "data = pd.DatetimeIndex(data=pd.date_range('1/1/2005', periods=10, freq='1D'))\n",
    "data = data.append(pd.Index([np.nan, np.nan]))\n",
    "print(data)\n",
    "data.dropna()"
   ],
   "metadata": {
    "collapsed": false
   }
  },
  {
   "cell_type": "code",
   "execution_count": 34,
   "outputs": [
    {
     "data": {
      "text/plain": "dtype('<M8[ns]')"
     },
     "execution_count": 34,
     "metadata": {},
     "output_type": "execute_result"
    }
   ],
   "source": [
    "data = pd.DatetimeIndex(data=pd.date_range('1/1/2005', periods=10, freq='1D'))\n",
    "data.dtype"
   ],
   "metadata": {
    "collapsed": false
   }
  },
  {
   "cell_type": "code",
   "execution_count": 35,
   "outputs": [
    {
     "data": {
      "text/plain": "array([False, False, False, False, False, False, False, False, False,\n       False,  True])"
     },
     "execution_count": 35,
     "metadata": {},
     "output_type": "execute_result"
    }
   ],
   "source": [
    "data = pd.DatetimeIndex(data=pd.date_range('1/1/2005', periods=10, freq='1D'))\n",
    "data = data.append(pd.DatetimeIndex(['2005-01-01']))\n",
    "data.duplicated()"
   ],
   "metadata": {
    "collapsed": false
   }
  },
  {
   "cell_type": "code",
   "execution_count": 36,
   "outputs": [
    {
     "data": {
      "text/plain": "False"
     },
     "execution_count": 36,
     "metadata": {},
     "output_type": "execute_result"
    }
   ],
   "source": [
    "data = pd.DatetimeIndex(data=pd.date_range('1/1/2005', periods=10, freq='1D'))\n",
    "data.empty"
   ],
   "metadata": {
    "collapsed": false
   }
  },
  {
   "cell_type": "code",
   "execution_count": 37,
   "outputs": [
    {
     "data": {
      "text/plain": "True"
     },
     "execution_count": 37,
     "metadata": {},
     "output_type": "execute_result"
    }
   ],
   "source": [
    "data = pd.DatetimeIndex(data=pd.date_range('1/1/2005', periods=10, freq='1D'))\n",
    "data.equals(data)\n"
   ],
   "metadata": {
    "collapsed": false
   }
  },
  {
   "cell_type": "code",
   "execution_count": 38,
   "outputs": [
    {
     "data": {
      "text/plain": "(array([0, 1, 2, 3, 4, 5, 6, 7, 8, 9]),\n DatetimeIndex(['2005-01-01', '2005-01-02', '2005-01-03', '2005-01-04',\n                '2005-01-05', '2005-01-06', '2005-01-07', '2005-01-08',\n                '2005-01-09', '2005-01-10'],\n               dtype='datetime64[ns]', freq='D'))"
     },
     "execution_count": 38,
     "metadata": {},
     "output_type": "execute_result"
    }
   ],
   "source": [
    "data = pd.DatetimeIndex(data=pd.date_range('1/1/2005', periods=10, freq='1D'))\n",
    "data.factorize()"
   ],
   "metadata": {
    "collapsed": false
   }
  },
  {
   "cell_type": "code",
   "execution_count": 39,
   "outputs": [
    {
     "data": {
      "text/plain": "DatetimeIndex(['2005-01-01', '2005-01-02', '2005-01-03', '2005-01-04',\n               '2005-01-05', '2005-01-06', '2005-01-07', '2005-01-08',\n               '2005-01-09', '2005-01-10'],\n              dtype='datetime64[ns]', freq='D')"
     },
     "execution_count": 39,
     "metadata": {},
     "output_type": "execute_result"
    }
   ],
   "source": [
    "data = pd.DatetimeIndex(data=pd.date_range('1/1/2005', periods=10, freq='1D'))\n",
    "data.fillna()"
   ],
   "metadata": {
    "collapsed": false
   }
  },
  {
   "cell_type": "code",
   "execution_count": 40,
   "outputs": [
    {
     "data": {
      "text/plain": "DatetimeIndex(['2004-12-31', '2004-12-31', '2005-01-03', '2005-01-03',\n               '2005-01-03', '2005-01-06', '2005-01-06', '2005-01-06',\n               '2005-01-09', '2005-01-09'],\n              dtype='datetime64[ns]', freq=None)"
     },
     "execution_count": 40,
     "metadata": {},
     "output_type": "execute_result"
    }
   ],
   "source": [
    "data = pd.DatetimeIndex(data=pd.date_range('1/1/2005', periods=10, freq='1D'))\n",
    "data.floor(freq='3D')"
   ],
   "metadata": {
    "collapsed": false
   }
  },
  {
   "cell_type": "code",
   "execution_count": 41,
   "outputs": [
    {
     "data": {
      "text/plain": "['2005-01-01',\n '2005-01-02',\n '2005-01-03',\n '2005-01-04',\n '2005-01-05',\n '2005-01-06',\n '2005-01-07',\n '2005-01-08',\n '2005-01-09',\n '2005-01-10']"
     },
     "execution_count": 41,
     "metadata": {},
     "output_type": "execute_result"
    }
   ],
   "source": [
    "data = pd.DatetimeIndex(data=pd.date_range('1/1/2005', periods=10, freq='1D'))\n",
    "data.format()"
   ],
   "metadata": {
    "collapsed": false
   }
  },
  {
   "cell_type": "code",
   "execution_count": 42,
   "outputs": [
    {
     "data": {
      "text/plain": "<Day>"
     },
     "execution_count": 42,
     "metadata": {},
     "output_type": "execute_result"
    }
   ],
   "source": [
    "data = pd.DatetimeIndex(data=pd.date_range('1/1/2005', periods=10, freq='1D'))\n",
    "data.freq"
   ],
   "metadata": {
    "collapsed": false
   }
  },
  {
   "cell_type": "code",
   "execution_count": 43,
   "outputs": [
    {
     "data": {
      "text/plain": "'D'"
     },
     "execution_count": 43,
     "metadata": {},
     "output_type": "execute_result"
    }
   ],
   "source": [
    "data = pd.DatetimeIndex(data=pd.date_range('1/1/2005', periods=10, freq='1D'))\n",
    "data.freqstr"
   ],
   "metadata": {
    "collapsed": false
   }
  },
  {
   "cell_type": "code",
   "execution_count": 44,
   "outputs": [
    {
     "data": {
      "text/plain": "array([-1, -1, -1])"
     },
     "execution_count": 44,
     "metadata": {},
     "output_type": "execute_result"
    }
   ],
   "source": [
    "data = pd.DatetimeIndex(data=pd.date_range('1/1/2005', periods=10, freq='1D'))\n",
    "data.get_indexer([1,2,3])"
   ],
   "metadata": {
    "collapsed": false
   }
  },
  {
   "cell_type": "code",
   "execution_count": 45,
   "outputs": [
    {
     "data": {
      "text/plain": "array([-1, -1, -1])"
     },
     "execution_count": 45,
     "metadata": {},
     "output_type": "execute_result"
    }
   ],
   "source": [
    "data = pd.DatetimeIndex(data=pd.date_range('1/1/2005', periods=10, freq='1D'))\n",
    "data.get_indexer_for([1,2,3])"
   ],
   "metadata": {
    "collapsed": false
   }
  },
  {
   "cell_type": "code",
   "execution_count": 46,
   "outputs": [
    {
     "data": {
      "text/plain": "(array([-1, -1, -1, -1]), array([0, 1, 2, 3]))"
     },
     "execution_count": 46,
     "metadata": {},
     "output_type": "execute_result"
    }
   ],
   "source": [
    "data = pd.DatetimeIndex(data=pd.date_range('1/1/2005', periods=10, freq='1D'))\n",
    "data.get_indexer_non_unique([1,2,3,4-5])"
   ],
   "metadata": {
    "collapsed": false
   }
  },
  {
   "cell_type": "code",
   "execution_count": 47,
   "outputs": [
    {
     "data": {
      "text/plain": "DatetimeIndex(['2005-01-01', '2005-01-02', '2005-01-03', '2005-01-04',\n               '2005-01-05', '2005-01-06', '2005-01-07', '2005-01-08',\n               '2005-01-09', '2005-01-10'],\n              dtype='datetime64[ns]', freq='D')"
     },
     "execution_count": 47,
     "metadata": {},
     "output_type": "execute_result"
    }
   ],
   "source": [
    "data = pd.DatetimeIndex(data=pd.date_range('1/1/2005', periods=10, freq='1D'))\n",
    "data.get_level_values(0)"
   ],
   "metadata": {
    "collapsed": false
   }
  },
  {
   "cell_type": "code",
   "execution_count": 48,
   "outputs": [
    {
     "data": {
      "text/plain": "9"
     },
     "execution_count": 48,
     "metadata": {},
     "output_type": "execute_result"
    }
   ],
   "source": [
    "data = pd.DatetimeIndex(data=pd.date_range('1/1/2005', periods=10, freq='1D'))\n",
    "data.get_loc('2005-01-10')\n"
   ],
   "metadata": {
    "collapsed": false
   }
  },
  {
   "cell_type": "code",
   "execution_count": 49,
   "outputs": [
    {
     "name": "stdout",
     "output_type": "stream",
     "text": [
      "DatetimeIndex(['2005-01-01', '2005-01-02', '2005-01-03', '2005-01-04',\n",
      "               '2005-01-05', '2005-01-06', '2005-01-07', '2005-01-08',\n",
      "               '2005-01-09', '2005-01-10'],\n",
      "              dtype='datetime64[ns]', freq='D')\n",
      "4\n",
      "3\n"
     ]
    }
   ],
   "source": [
    "data = pd.DatetimeIndex(data=pd.date_range('1/1/2005', periods=10, freq='1D'))\n",
    "print(data)\n",
    "print(data.get_slice_bound('2005-01-04', side=\"right\"))\n",
    "print(data.get_slice_bound('2005-01-04', side=\"left\"))"
   ],
   "metadata": {
    "collapsed": false
   }
  },
  {
   "cell_type": "code",
   "execution_count": 50,
   "outputs": [
    {
     "data": {
      "text/plain": "\"\\n        Fast lookup of value from 1-dimensional ndarray.\\n\\n        Only use this if you know what you're doing.\\n\\n        Returns\\n        -------\\n        scalar or Series\\n        \""
     },
     "execution_count": 50,
     "metadata": {},
     "output_type": "execute_result"
    }
   ],
   "source": [
    "data = pd.DatetimeIndex(data=pd.date_range('1/1/2005', periods=10, freq='1D'))\n",
    "data.get_value.__doc__\n"
   ],
   "metadata": {
    "collapsed": false
   }
  },
  {
   "cell_type": "code",
   "execution_count": 51,
   "outputs": [
    {
     "name": "stderr",
     "output_type": "stream",
     "text": [
      "/var/folders/7v/1c76ypv54yx261vygq63_47w0000gp/T/ipykernel_4335/3387258225.py:2: FutureWarning: Allowing scalars in the Categorical constructor is deprecated and will raise in a future version.  Use `[value]` instead\n",
      "  data.groupby('2005-01-10')\n"
     ]
    },
    {
     "data": {
      "text/plain": "{'2005-01-10': [2005-01-01 00:00:00]}"
     },
     "execution_count": 51,
     "metadata": {},
     "output_type": "execute_result"
    }
   ],
   "source": [
    "data = pd.DatetimeIndex(data=pd.date_range('1/1/2005', periods=10, freq='1D'))\n",
    "data.groupby('2005-01-10')"
   ],
   "metadata": {
    "collapsed": false
   }
  },
  {
   "cell_type": "code",
   "execution_count": 52,
   "outputs": [
    {
     "data": {
      "text/plain": "False"
     },
     "execution_count": 52,
     "metadata": {},
     "output_type": "execute_result"
    }
   ],
   "source": [
    "data = pd.DatetimeIndex(data=pd.date_range('1/1/2005', periods=10, freq='1D'))\n",
    "data.has_duplicates"
   ],
   "metadata": {
    "collapsed": false
   }
  },
  {
   "cell_type": "code",
   "execution_count": 53,
   "outputs": [
    {
     "data": {
      "text/plain": "False"
     },
     "execution_count": 53,
     "metadata": {},
     "output_type": "execute_result"
    }
   ],
   "source": [
    "data = pd.DatetimeIndex(data=pd.date_range('1/1/2005', periods=10, freq='1D'))\n",
    "data.hasnans"
   ],
   "metadata": {
    "collapsed": false
   }
  },
  {
   "cell_type": "code",
   "execution_count": 54,
   "outputs": [
    {
     "data": {
      "text/plain": "False"
     },
     "execution_count": 54,
     "metadata": {},
     "output_type": "execute_result"
    }
   ],
   "source": [
    "data = pd.DatetimeIndex(data=pd.date_range('1/1/2005', periods=10, freq='1D'))\n",
    "data.holds_integer()"
   ],
   "metadata": {
    "collapsed": false
   }
  },
  {
   "cell_type": "code",
   "execution_count": 55,
   "outputs": [
    {
     "data": {
      "text/plain": "Int64Index([0, 0, 0, 0, 0, 0, 0, 0, 0, 0], dtype='int64')"
     },
     "execution_count": 55,
     "metadata": {},
     "output_type": "execute_result"
    }
   ],
   "source": [
    "data = pd.DatetimeIndex(data=pd.date_range('1/1/2005', periods=10, freq='1D'))\n",
    "data.hour"
   ],
   "metadata": {
    "collapsed": false
   }
  },
  {
   "cell_type": "code",
   "execution_count": 56,
   "outputs": [
    {
     "name": "stdout",
     "output_type": "stream",
     "text": [
      "True\n",
      "False\n"
     ]
    }
   ],
   "source": [
    "data = pd.DatetimeIndex(data=pd.date_range('1/1/2005', periods=10, freq='1D'))\n",
    "print(data.identical(pd.DatetimeIndex(data=pd.date_range('1/1/2005', periods=10, freq='1D'))))\n",
    "print(data.identical(pd.DatetimeIndex(data=pd.date_range('1/2/2005', periods=10, freq='1D'))))"
   ],
   "metadata": {
    "collapsed": false
   }
  },
  {
   "cell_type": "code",
   "execution_count": 57,
   "outputs": [
    {
     "data": {
      "text/plain": "array([6])"
     },
     "execution_count": 57,
     "metadata": {},
     "output_type": "execute_result"
    }
   ],
   "source": [
    "data = pd.DatetimeIndex(data=pd.date_range('1/1/2005', periods=10, freq='1H'))\n",
    "data.indexer_at_time('2005-01-01 06:00:00')"
   ],
   "metadata": {
    "collapsed": false
   }
  },
  {
   "cell_type": "code",
   "execution_count": 79,
   "outputs": [
    {
     "name": "stdout",
     "output_type": "stream",
     "text": [
      "date : \n",
      " DatetimeIndex(['2005-01-01 00:00:00', '2005-01-01 01:00:00',\n",
      "               '2005-01-01 02:00:00', '2005-01-01 03:00:00',\n",
      "               '2005-01-01 04:00:00', '2005-01-01 05:00:00',\n",
      "               '2005-01-01 06:00:00', '2005-01-01 07:00:00',\n",
      "               '2005-01-01 08:00:00', '2005-01-01 09:00:00'],\n",
      "              dtype='datetime64[ns]', freq='H')\n"
     ]
    },
    {
     "data": {
      "text/plain": "DatetimeIndex(['2005-01-01 00:00:00', '2005-01-01 03:00:00',\n               '2005-01-01 04:00:00', '2005-01-01 05:00:00',\n               '2005-01-01 06:00:00', '2005-01-01 07:00:00',\n               '2005-01-01 08:00:00', '2005-01-01 09:00:00'],\n              dtype='datetime64[ns]', freq=None)"
     },
     "execution_count": 79,
     "metadata": {},
     "output_type": "execute_result"
    }
   ],
   "source": [
    "data = pd.DatetimeIndex(pd.date_range('1/1/2005', periods=10, freq='1H'))\n",
    "print(\"date : \\n\", data)\n",
    "index = data.indexer_between_time(\"03:00\", \"00:08\")\n",
    "data[index]"
   ],
   "metadata": {
    "collapsed": false
   }
  },
  {
   "cell_type": "code",
   "execution_count": 88,
   "outputs": [
    {
     "data": {
      "text/plain": "'D'"
     },
     "execution_count": 88,
     "metadata": {},
     "output_type": "execute_result"
    }
   ],
   "source": [
    "data = pd.DatetimeIndex(pd.date_range('1/1/2005', periods=10, freq='1D'))\n",
    "data.inferred_freq"
   ],
   "metadata": {
    "collapsed": false
   }
  },
  {
   "cell_type": "code",
   "execution_count": 90,
   "outputs": [
    {
     "data": {
      "text/plain": "'datetime64'"
     },
     "execution_count": 90,
     "metadata": {},
     "output_type": "execute_result"
    }
   ],
   "source": [
    "data = pd.DatetimeIndex(pd.date_range('1/1/2005', periods=10, freq='1D'))\n",
    "data.inferred_type"
   ],
   "metadata": {
    "collapsed": false
   }
  },
  {
   "cell_type": "code",
   "execution_count": 95,
   "outputs": [
    {
     "name": "stdout",
     "output_type": "stream",
     "text": [
      "False\n",
      "True\n"
     ]
    }
   ],
   "source": [
    "data = pd.DatetimeIndex(pd.date_range('1/1/2005', periods=20, freq='1D'))\n",
    "print(data.is_(data.copy()))\n",
    "print(data.is_(data))"
   ],
   "metadata": {
    "collapsed": false
   }
  },
  {
   "cell_type": "code",
   "execution_count": 102,
   "outputs": [
    {
     "name": "stderr",
     "output_type": "stream",
     "text": [
      "/var/folders/7v/1c76ypv54yx261vygq63_47w0000gp/T/ipykernel_4335/3237038260.py:2: FutureWarning: Index.is_all_dates is deprecated, will be removed in a future version. check index.inferred_type instead.\n",
      "  data.is_all_dates\n"
     ]
    },
    {
     "data": {
      "text/plain": "True"
     },
     "execution_count": 102,
     "metadata": {},
     "output_type": "execute_result"
    }
   ],
   "source": [
    "data = pd.DatetimeIndex(pd.date_range('1/1/2005', periods=10, freq='1D'))\n",
    "data.is_all_dates"
   ],
   "metadata": {
    "collapsed": false
   }
  },
  {
   "cell_type": "code",
   "execution_count": 104,
   "outputs": [
    {
     "data": {
      "text/plain": "False"
     },
     "execution_count": 104,
     "metadata": {},
     "output_type": "execute_result"
    }
   ],
   "source": [
    "data = pd.DatetimeIndex(pd.date_range('1/1/2005', periods=10, freq='1D'))\n",
    "data.is_boolean()"
   ],
   "metadata": {
    "collapsed": false
   }
  },
  {
   "cell_type": "code",
   "execution_count": 106,
   "outputs": [
    {
     "data": {
      "text/plain": "False"
     },
     "execution_count": 106,
     "metadata": {},
     "output_type": "execute_result"
    }
   ],
   "source": [
    "data = pd.DatetimeIndex(pd.date_range('1/1/2005', periods=10, freq='1D'))\n",
    "data.is_floating()"
   ],
   "metadata": {
    "collapsed": false
   }
  },
  {
   "cell_type": "code",
   "execution_count": 108,
   "outputs": [
    {
     "data": {
      "text/plain": "False"
     },
     "execution_count": 108,
     "metadata": {},
     "output_type": "execute_result"
    }
   ],
   "source": [
    "data = pd.DatetimeIndex(pd.date_range('1/1/2005', periods=10, freq='1D'))\n",
    "data.is_integer()"
   ],
   "metadata": {
    "collapsed": false
   }
  },
  {
   "cell_type": "code",
   "execution_count": 110,
   "outputs": [
    {
     "data": {
      "text/plain": "False"
     },
     "execution_count": 110,
     "metadata": {},
     "output_type": "execute_result"
    }
   ],
   "source": [
    "data = pd.DatetimeIndex(pd.date_range('1/1/2005', periods=10, freq='1D'))\n",
    "data.is_interval()"
   ],
   "metadata": {
    "collapsed": false
   }
  },
  {
   "cell_type": "code",
   "execution_count": 114,
   "outputs": [
    {
     "data": {
      "text/plain": "array([False, False, False, False, False, False, False, False, False,\n       False])"
     },
     "execution_count": 114,
     "metadata": {},
     "output_type": "execute_result"
    }
   ],
   "source": [
    "data = pd.DatetimeIndex(pd.date_range('1/1/2005', periods=10, freq='1D'))\n",
    "data.is_leap_year"
   ],
   "metadata": {
    "collapsed": false
   }
  },
  {
   "cell_type": "code",
   "execution_count": 118,
   "outputs": [
    {
     "name": "stderr",
     "output_type": "stream",
     "text": [
      "/var/folders/7v/1c76ypv54yx261vygq63_47w0000gp/T/ipykernel_4335/4134202256.py:2: FutureWarning: Index.is_mixed is deprecated and will be removed in a future version. Check index.inferred_type directly instead.\n",
      "  data.is_mixed()\n"
     ]
    },
    {
     "data": {
      "text/plain": "False"
     },
     "execution_count": 118,
     "metadata": {},
     "output_type": "execute_result"
    }
   ],
   "source": [
    "data = pd.DatetimeIndex(pd.date_range('1/1/2005', periods=10, freq='1D'))\n",
    "data.is_mixed()"
   ],
   "metadata": {
    "collapsed": false
   }
  },
  {
   "cell_type": "code",
   "execution_count": 120,
   "outputs": [
    {
     "name": "stderr",
     "output_type": "stream",
     "text": [
      "/var/folders/7v/1c76ypv54yx261vygq63_47w0000gp/T/ipykernel_4335/2216058608.py:2: FutureWarning: is_monotonic is deprecated and will be removed in a future version. Use is_monotonic_increasing instead.\n",
      "  data.is_monotonic\n"
     ]
    },
    {
     "data": {
      "text/plain": "True"
     },
     "execution_count": 120,
     "metadata": {},
     "output_type": "execute_result"
    }
   ],
   "source": [
    "data = pd.DatetimeIndex(pd.date_range('1/1/2005', periods=10, freq='1D'))\n",
    "data.is_monotonic"
   ],
   "metadata": {
    "collapsed": false
   }
  },
  {
   "cell_type": "code",
   "execution_count": 122,
   "outputs": [
    {
     "data": {
      "text/plain": "False"
     },
     "execution_count": 122,
     "metadata": {},
     "output_type": "execute_result"
    }
   ],
   "source": [
    "data = pd.DatetimeIndex(pd.date_range('1/1/2005', periods=10, freq='1D'))\n",
    "data.is_monotonic_decreasing"
   ],
   "metadata": {
    "collapsed": false
   }
  },
  {
   "cell_type": "code",
   "execution_count": 123,
   "outputs": [
    {
     "data": {
      "text/plain": "True"
     },
     "execution_count": 123,
     "metadata": {},
     "output_type": "execute_result"
    }
   ],
   "source": [
    "data = pd.DatetimeIndex(pd.date_range('1/1/2005', periods=10, freq='1D'))\n",
    "data.is_monotonic_increasing"
   ],
   "metadata": {
    "collapsed": false
   }
  },
  {
   "cell_type": "code",
   "execution_count": 133,
   "outputs": [
    {
     "data": {
      "text/plain": "array([False, False, False,  True, False, False, False, False, False,\n       False])"
     },
     "execution_count": 133,
     "metadata": {},
     "output_type": "execute_result"
    }
   ],
   "source": [
    "data = pd.DatetimeIndex(pd.date_range('1/1/2005', periods=10, freq='10D'))\n",
    "data.is_month_end"
   ],
   "metadata": {
    "collapsed": false
   }
  },
  {
   "cell_type": "code",
   "execution_count": 134,
   "outputs": [
    {
     "data": {
      "text/plain": "array([ True, False, False, False, False, False, False, False, False,\n        True])"
     },
     "execution_count": 134,
     "metadata": {},
     "output_type": "execute_result"
    }
   ],
   "source": [
    "data = pd.DatetimeIndex(pd.date_range('1/1/2005', periods=10, freq='10D'))\n",
    "data.is_month_start"
   ],
   "metadata": {
    "collapsed": false
   }
  },
  {
   "cell_type": "code",
   "execution_count": 136,
   "outputs": [
    {
     "data": {
      "text/plain": "True"
     },
     "execution_count": 136,
     "metadata": {},
     "output_type": "execute_result"
    }
   ],
   "source": [
    "data = pd.DatetimeIndex(pd.date_range('1/1/2005', periods=10, freq='1D'))\n",
    "data.is_normalized"
   ],
   "metadata": {
    "collapsed": false
   }
  },
  {
   "cell_type": "code",
   "execution_count": 138,
   "outputs": [
    {
     "data": {
      "text/plain": "False"
     },
     "execution_count": 138,
     "metadata": {},
     "output_type": "execute_result"
    }
   ],
   "source": [
    "data = pd.DatetimeIndex(pd.date_range('1/1/2005', periods=10, freq='1D'))\n",
    "data.is_numeric()"
   ],
   "metadata": {
    "collapsed": false
   }
  },
  {
   "cell_type": "code",
   "execution_count": 140,
   "outputs": [
    {
     "data": {
      "text/plain": "False"
     },
     "execution_count": 140,
     "metadata": {},
     "output_type": "execute_result"
    }
   ],
   "source": [
    "data = pd.DatetimeIndex(pd.date_range('1/1/2005', periods=10, freq='1D'))\n",
    "data.is_object()"
   ],
   "metadata": {
    "collapsed": false
   }
  },
  {
   "cell_type": "code",
   "execution_count": 147,
   "outputs": [
    {
     "data": {
      "text/plain": "array([False,  True, False, False, False, False, False, False, False,\n       False])"
     },
     "execution_count": 147,
     "metadata": {},
     "output_type": "execute_result"
    }
   ],
   "source": [
    "data = pd.DatetimeIndex(pd.date_range('03/30/2005', periods=10))\n",
    "data.is_quarter_end"
   ],
   "metadata": {
    "collapsed": false
   }
  },
  {
   "cell_type": "code",
   "execution_count": 148,
   "outputs": [
    {
     "data": {
      "text/plain": "array([False, False,  True, False, False, False, False, False, False,\n       False])"
     },
     "execution_count": 148,
     "metadata": {},
     "output_type": "execute_result"
    }
   ],
   "source": [
    "data = pd.DatetimeIndex(pd.date_range('03/30/2005', periods=10))\n",
    "data.is_quarter_start"
   ],
   "metadata": {
    "collapsed": false
   }
  },
  {
   "cell_type": "code",
   "execution_count": 155,
   "outputs": [
    {
     "name": "stderr",
     "output_type": "stream",
     "text": [
      "/var/folders/7v/1c76ypv54yx261vygq63_47w0000gp/T/ipykernel_4335/3908112492.py:2: FutureWarning: DatetimeIndex.is_type_compatible is deprecated and will be removed in a future version.\n",
      "  data.is_type_compatible(np.datetime64)\n"
     ]
    },
    {
     "data": {
      "text/plain": "False"
     },
     "execution_count": 155,
     "metadata": {},
     "output_type": "execute_result"
    }
   ],
   "source": [
    "data = pd.DatetimeIndex(pd.date_range('1/1/2005', periods=10))\n",
    "data.is_type_compatible(np.datetime64)"
   ],
   "metadata": {
    "collapsed": false
   }
  },
  {
   "cell_type": "code",
   "execution_count": 159,
   "outputs": [
    {
     "data": {
      "text/plain": "True"
     },
     "execution_count": 159,
     "metadata": {},
     "output_type": "execute_result"
    }
   ],
   "source": [
    "data = pd.DatetimeIndex(pd.date_range('1/1/2005', periods=10))\n",
    "data.is_unique"
   ],
   "metadata": {
    "collapsed": false
   }
  },
  {
   "cell_type": "code",
   "execution_count": 161,
   "outputs": [
    {
     "name": "stderr",
     "output_type": "stream",
     "text": [
      "/var/folders/7v/1c76ypv54yx261vygq63_47w0000gp/T/ipykernel_4335/1560639415.py:1: UserWarning: Parsing dates in DD/MM/YYYY format when dayfirst=False (the default) was specified. This may lead to inconsistently parsed dates! Specify a format to ensure consistent parsing.\n",
      "  data = pd.DatetimeIndex(pd.date_range('25/12/2005', periods=10))\n"
     ]
    },
    {
     "data": {
      "text/plain": "array([False, False, False, False, False, False,  True, False, False,\n       False])"
     },
     "execution_count": 161,
     "metadata": {},
     "output_type": "execute_result"
    }
   ],
   "source": [
    "data = pd.DatetimeIndex(pd.date_range('25/12/2005', periods=10))\n",
    "data.is_year_end"
   ],
   "metadata": {
    "collapsed": false
   }
  },
  {
   "cell_type": "code",
   "execution_count": 162,
   "outputs": [
    {
     "name": "stderr",
     "output_type": "stream",
     "text": [
      "/var/folders/7v/1c76ypv54yx261vygq63_47w0000gp/T/ipykernel_4335/3186565545.py:1: UserWarning: Parsing dates in DD/MM/YYYY format when dayfirst=False (the default) was specified. This may lead to inconsistently parsed dates! Specify a format to ensure consistent parsing.\n",
      "  data = pd.DatetimeIndex(pd.date_range('25/12/2005', periods=10))\n"
     ]
    },
    {
     "data": {
      "text/plain": "array([False, False, False, False, False, False, False,  True, False,\n       False])"
     },
     "execution_count": 162,
     "metadata": {},
     "output_type": "execute_result"
    }
   ],
   "source": [
    "data = pd.DatetimeIndex(pd.date_range('25/12/2005', periods=10))\n",
    "data.is_year_start"
   ],
   "metadata": {
    "collapsed": false
   }
  },
  {
   "cell_type": "code",
   "execution_count": 169,
   "outputs": [
    {
     "name": "stdout",
     "output_type": "stream",
     "text": [
      "[False False  True False False False False False False False]\n",
      "[False False False False False False False False False False]\n"
     ]
    },
    {
     "name": "stderr",
     "output_type": "stream",
     "text": [
      "/var/folders/7v/1c76ypv54yx261vygq63_47w0000gp/T/ipykernel_4335/205097091.py:1: UserWarning: Parsing dates in DD/MM/YYYY format when dayfirst=False (the default) was specified. This may lead to inconsistently parsed dates! Specify a format to ensure consistent parsing.\n",
      "  data = pd.DatetimeIndex(pd.date_range('25/12/2005', periods=10))\n"
     ]
    }
   ],
   "source": [
    "data = pd.DatetimeIndex(pd.date_range('25/12/2005', periods=10))\n",
    "print(data.isin(['2005-12-27']))\n",
    "print(data.isin(['2005-10-27']))"
   ],
   "metadata": {
    "collapsed": false
   }
  },
  {
   "cell_type": "code",
   "execution_count": 172,
   "outputs": [
    {
     "data": {
      "text/plain": "array([False, False, False, False, False, False, False, False, False,\n       False,  True])"
     },
     "execution_count": 172,
     "metadata": {},
     "output_type": "execute_result"
    }
   ],
   "source": [
    "data = pd.DatetimeIndex(pd.date_range('1/1/2005', periods=10, freq='1D')).append(pd.DatetimeIndex([np.nan]))\n",
    "data.isna()"
   ],
   "metadata": {
    "collapsed": false
   }
  },
  {
   "cell_type": "code",
   "execution_count": 174,
   "outputs": [
    {
     "data": {
      "text/plain": "array([False, False, False, False, False, False, False, False, False,\n       False,  True])"
     },
     "execution_count": 174,
     "metadata": {},
     "output_type": "execute_result"
    }
   ],
   "source": [
    "data = pd.DatetimeIndex(pd.date_range('1/1/2005', periods=10, freq='1D')).append(pd.DatetimeIndex([np.nan]))\n",
    "data.isnull()"
   ],
   "metadata": {
    "collapsed": false
   }
  },
  {
   "cell_type": "code",
   "execution_count": 178,
   "outputs": [
    {
     "data": {
      "text/plain": "            year  week  day\n2005-01-01  2004    53    6\n2005-01-02  2004    53    7\n2005-01-03  2005     1    1\n2005-01-04  2005     1    2\n2005-01-05  2005     1    3\n2005-01-06  2005     1    4\n2005-01-07  2005     1    5\n2005-01-08  2005     1    6\n2005-01-09  2005     1    7\n2005-01-10  2005     2    1",
      "text/html": "<div>\n<style scoped>\n    .dataframe tbody tr th:only-of-type {\n        vertical-align: middle;\n    }\n\n    .dataframe tbody tr th {\n        vertical-align: top;\n    }\n\n    .dataframe thead th {\n        text-align: right;\n    }\n</style>\n<table border=\"1\" class=\"dataframe\">\n  <thead>\n    <tr style=\"text-align: right;\">\n      <th></th>\n      <th>year</th>\n      <th>week</th>\n      <th>day</th>\n    </tr>\n  </thead>\n  <tbody>\n    <tr>\n      <th>2005-01-01</th>\n      <td>2004</td>\n      <td>53</td>\n      <td>6</td>\n    </tr>\n    <tr>\n      <th>2005-01-02</th>\n      <td>2004</td>\n      <td>53</td>\n      <td>7</td>\n    </tr>\n    <tr>\n      <th>2005-01-03</th>\n      <td>2005</td>\n      <td>1</td>\n      <td>1</td>\n    </tr>\n    <tr>\n      <th>2005-01-04</th>\n      <td>2005</td>\n      <td>1</td>\n      <td>2</td>\n    </tr>\n    <tr>\n      <th>2005-01-05</th>\n      <td>2005</td>\n      <td>1</td>\n      <td>3</td>\n    </tr>\n    <tr>\n      <th>2005-01-06</th>\n      <td>2005</td>\n      <td>1</td>\n      <td>4</td>\n    </tr>\n    <tr>\n      <th>2005-01-07</th>\n      <td>2005</td>\n      <td>1</td>\n      <td>5</td>\n    </tr>\n    <tr>\n      <th>2005-01-08</th>\n      <td>2005</td>\n      <td>1</td>\n      <td>6</td>\n    </tr>\n    <tr>\n      <th>2005-01-09</th>\n      <td>2005</td>\n      <td>1</td>\n      <td>7</td>\n    </tr>\n    <tr>\n      <th>2005-01-10</th>\n      <td>2005</td>\n      <td>2</td>\n      <td>1</td>\n    </tr>\n  </tbody>\n</table>\n</div>"
     },
     "execution_count": 178,
     "metadata": {},
     "output_type": "execute_result"
    }
   ],
   "source": [
    "data = pd.DatetimeIndex(pd.date_range('1/1/2005', periods=10, freq='1D'))\n",
    "data.isocalendar()"
   ],
   "metadata": {
    "collapsed": false
   }
  },
  {
   "cell_type": "code",
   "execution_count": 187,
   "outputs": [
    {
     "data": {
      "text/plain": "<DatetimeArray>\n['2005-01-01 00:00:00', '2005-01-02 00:00:00', '2005-01-03 00:00:00',\n '2005-01-04 00:00:00', '2005-01-05 00:00:00', '2005-01-06 00:00:00',\n '2005-01-07 00:00:00', '2005-01-08 00:00:00', '2005-01-09 00:00:00',\n '2005-01-10 00:00:00']\nLength: 10, dtype: datetime64[ns]"
     },
     "execution_count": 187,
     "metadata": {},
     "output_type": "execute_result"
    }
   ],
   "source": [
    "data = pd.DatetimeIndex([pd.date_range('1/1/2005', periods=10, freq='1D')])\n",
    "data.item()"
   ],
   "metadata": {
    "collapsed": false
   }
  },
  {
   "cell_type": "code",
   "execution_count": 223,
   "outputs": [
    {
     "data": {
      "text/plain": "DatetimeIndex(['2005-01-01', '2005-01-02', '2005-01-03', '2005-01-04',\n               '2005-01-05', '2005-01-06', '2005-01-07', '2005-01-08',\n               '2005-01-09', '2005-01-10'],\n              dtype='datetime64[ns]', freq='D')"
     },
     "execution_count": 223,
     "metadata": {},
     "output_type": "execute_result"
    }
   ],
   "source": [
    "data = pd.DatetimeIndex(pd.date_range('1/1/2005', periods=10, freq='1D'))\n",
    "data.join(data)"
   ],
   "metadata": {
    "collapsed": false
   }
  },
  {
   "cell_type": "code",
   "execution_count": 230,
   "outputs": [
    {
     "data": {
      "text/plain": "DatetimeIndex(['2005-01-11', '2005-01-12', '2005-01-13', '2005-01-14',\n               '2005-01-15', '2005-01-16', '2005-01-17', '2005-01-18',\n               '2005-01-19', '2005-01-20'],\n              dtype='datetime64[ns]', freq='D')"
     },
     "execution_count": 230,
     "metadata": {},
     "output_type": "execute_result"
    }
   ],
   "source": [
    "def my_f(p):\n",
    "    return p.shift(10)\n",
    "\n",
    "data = pd.DatetimeIndex(pd.date_range('1/1/2005', periods=10, freq='1D'))\n",
    "data.map(my_f)"
   ],
   "metadata": {
    "collapsed": false
   }
  },
  {
   "cell_type": "code",
   "execution_count": 232,
   "outputs": [
    {
     "data": {
      "text/plain": "Timestamp('2005-01-10 00:00:00', freq='D')"
     },
     "execution_count": 232,
     "metadata": {},
     "output_type": "execute_result"
    }
   ],
   "source": [
    "data = pd.DatetimeIndex(pd.date_range('1/1/2005', periods=10, freq='1D'))\n",
    "data.max()"
   ],
   "metadata": {
    "collapsed": false
   }
  },
  {
   "cell_type": "code",
   "execution_count": 234,
   "outputs": [
    {
     "data": {
      "text/plain": "Timestamp('2005-01-05 12:00:00', freq='D')"
     },
     "execution_count": 234,
     "metadata": {},
     "output_type": "execute_result"
    }
   ],
   "source": [
    "data = pd.DatetimeIndex(pd.date_range('1/1/2005', periods=10, freq='1D'))\n",
    "data.mean()"
   ],
   "metadata": {
    "collapsed": false
   }
  },
  {
   "cell_type": "code",
   "execution_count": 236,
   "outputs": [
    {
     "data": {
      "text/plain": "80"
     },
     "execution_count": 236,
     "metadata": {},
     "output_type": "execute_result"
    }
   ],
   "source": [
    "data = pd.DatetimeIndex(pd.date_range('1/1/2005', periods=10, freq='1D'))\n",
    "data.memory_usage()"
   ],
   "metadata": {
    "collapsed": false
   }
  },
  {
   "cell_type": "code",
   "execution_count": 237,
   "outputs": [
    {
     "data": {
      "text/plain": "Int64Index([0, 0, 0, 0, 0, 0, 0, 0, 0, 0], dtype='int64')"
     },
     "execution_count": 237,
     "metadata": {},
     "output_type": "execute_result"
    }
   ],
   "source": [
    "data = pd.DatetimeIndex(pd.date_range('1/1/2005', periods=10, freq='1D'))\n",
    "data.microsecond"
   ],
   "metadata": {
    "collapsed": false
   }
  },
  {
   "cell_type": "code",
   "execution_count": 238,
   "outputs": [
    {
     "data": {
      "text/plain": "Timestamp('2005-01-01 00:00:00', freq='D')"
     },
     "execution_count": 238,
     "metadata": {},
     "output_type": "execute_result"
    }
   ],
   "source": [
    "data = pd.DatetimeIndex(pd.date_range('1/1/2005', periods=10, freq='1D'))\n",
    "data.min()"
   ],
   "metadata": {
    "collapsed": false
   }
  },
  {
   "cell_type": "code",
   "execution_count": 241,
   "outputs": [
    {
     "data": {
      "text/plain": "Int64Index([0, 0, 0, 0, 0, 0, 0, 0, 0, 0], dtype='int64')"
     },
     "execution_count": 241,
     "metadata": {},
     "output_type": "execute_result"
    }
   ],
   "source": [
    "data = pd.DatetimeIndex(pd.date_range('1/1/2005', periods=10, freq='1D'))\n",
    "data.minute"
   ],
   "metadata": {
    "collapsed": false
   }
  },
  {
   "cell_type": "code",
   "execution_count": 243,
   "outputs": [
    {
     "data": {
      "text/plain": "Int64Index([1, 1, 1, 1, 2, 2, 3, 3, 3, 4], dtype='int64')"
     },
     "execution_count": 243,
     "metadata": {},
     "output_type": "execute_result"
    }
   ],
   "source": [
    "data = pd.DatetimeIndex(pd.date_range('1/1/2005', periods=10, freq='10D'))\n",
    "data.month"
   ],
   "metadata": {
    "collapsed": false
   }
  },
  {
   "cell_type": "code",
   "execution_count": 245,
   "outputs": [
    {
     "data": {
      "text/plain": "Index(['January', 'January', 'January', 'January', 'February', 'February',\n       'March', 'March', 'March', 'April'],\n      dtype='object')"
     },
     "execution_count": 245,
     "metadata": {},
     "output_type": "execute_result"
    }
   ],
   "source": [
    "data = pd.DatetimeIndex(pd.date_range('1/1/2005', periods=10, freq='10D'))\n",
    "data.month_name()"
   ],
   "metadata": {
    "collapsed": false
   }
  },
  {
   "cell_type": "code",
   "execution_count": 250,
   "outputs": [],
   "source": [
    "data = pd.DatetimeIndex(pd.date_range('1/1/2005', periods=10, freq='1D'))\n",
    "data.name"
   ],
   "metadata": {
    "collapsed": false
   }
  },
  {
   "cell_type": "code",
   "execution_count": 253,
   "outputs": [
    {
     "data": {
      "text/plain": "FrozenList([None])"
     },
     "execution_count": 253,
     "metadata": {},
     "output_type": "execute_result"
    }
   ],
   "source": [
    "data = pd.DatetimeIndex(pd.date_range('1/1/2005', periods=10, freq='1D'))\n",
    "data.names"
   ],
   "metadata": {
    "collapsed": false
   }
  },
  {
   "cell_type": "code",
   "execution_count": 255,
   "outputs": [
    {
     "data": {
      "text/plain": "Int64Index([0, 0, 0, 0, 0, 0, 0, 0, 0, 0], dtype='int64')"
     },
     "execution_count": 255,
     "metadata": {},
     "output_type": "execute_result"
    }
   ],
   "source": [
    "data = pd.DatetimeIndex(pd.date_range('1/1/2005', periods=10, freq='1D'))\n",
    "data.nanosecond"
   ],
   "metadata": {
    "collapsed": false
   }
  },
  {
   "cell_type": "code",
   "execution_count": 258,
   "outputs": [
    {
     "data": {
      "text/plain": "80"
     },
     "execution_count": 258,
     "metadata": {},
     "output_type": "execute_result"
    }
   ],
   "source": [
    "data = pd.DatetimeIndex(pd.date_range('1/1/2005', periods=10, freq='1D'))\n",
    "data.nbytes"
   ],
   "metadata": {
    "collapsed": false
   }
  },
  {
   "cell_type": "code",
   "execution_count": 259,
   "outputs": [
    {
     "data": {
      "text/plain": "1"
     },
     "execution_count": 259,
     "metadata": {},
     "output_type": "execute_result"
    }
   ],
   "source": [
    "data = pd.DatetimeIndex(pd.date_range('1/1/2005', periods=10, freq='1D'))\n",
    "data.ndim"
   ],
   "metadata": {
    "collapsed": false
   }
  },
  {
   "cell_type": "code",
   "execution_count": 262,
   "outputs": [
    {
     "data": {
      "text/plain": "1"
     },
     "execution_count": 262,
     "metadata": {},
     "output_type": "execute_result"
    }
   ],
   "source": [
    "data = pd.DatetimeIndex(pd.date_range('1/1/2005', periods=10, freq='1D'))\n",
    "data.nlevels"
   ],
   "metadata": {
    "collapsed": false
   }
  },
  {
   "cell_type": "code",
   "execution_count": 265,
   "outputs": [
    {
     "data": {
      "text/plain": "DatetimeIndex(['2005-01-01', '2005-01-02', '2005-01-03', '2005-01-04',\n               '2005-01-05', '2005-01-06', '2005-01-07', '2005-01-08',\n               '2005-01-09', '2005-01-10'],\n              dtype='datetime64[ns]', freq='D')"
     },
     "execution_count": 265,
     "metadata": {},
     "output_type": "execute_result"
    }
   ],
   "source": [
    "data = pd.DatetimeIndex(pd.date_range('1/1/2005', periods=10, freq='1D'))\n",
    "data.normalize()"
   ],
   "metadata": {
    "collapsed": false
   }
  },
  {
   "cell_type": "code",
   "execution_count": 266,
   "outputs": [
    {
     "data": {
      "text/plain": "array([ True,  True,  True,  True,  True,  True,  True,  True,  True,\n        True, False])"
     },
     "execution_count": 266,
     "metadata": {},
     "output_type": "execute_result"
    }
   ],
   "source": [
    "data = pd.DatetimeIndex(pd.date_range('1/1/2005', periods=10, freq='1D')).append(pd.DatetimeIndex([np.nan]))\n",
    "data.notna()"
   ],
   "metadata": {
    "collapsed": false
   }
  },
  {
   "cell_type": "code",
   "execution_count": 268,
   "outputs": [
    {
     "data": {
      "text/plain": "array([ True,  True,  True,  True,  True,  True,  True,  True,  True,\n        True, False])"
     },
     "execution_count": 268,
     "metadata": {},
     "output_type": "execute_result"
    }
   ],
   "source": [
    "data = pd.DatetimeIndex(pd.date_range('1/1/2005', periods=10, freq='1D')).append(pd.DatetimeIndex([np.nan]))\n",
    "data.notnull()"
   ],
   "metadata": {
    "collapsed": false
   }
  },
  {
   "cell_type": "code",
   "execution_count": 269,
   "outputs": [
    {
     "data": {
      "text/plain": "10"
     },
     "execution_count": 269,
     "metadata": {},
     "output_type": "execute_result"
    }
   ],
   "source": [
    "data = pd.DatetimeIndex(pd.date_range('1/1/2005', periods=10, freq='1D'))\n",
    "data.nunique()"
   ],
   "metadata": {
    "collapsed": false
   }
  },
  {
   "cell_type": "code",
   "execution_count": 273,
   "outputs": [
    {
     "data": {
      "text/plain": "Index([0, 1, 2, 3, 4, 5, 6, 7, 8, 9], dtype='object')"
     },
     "execution_count": 273,
     "metadata": {},
     "output_type": "execute_result"
    }
   ],
   "source": [
    "data = pd.DatetimeIndex(pd.date_range('1/1/2005', periods=10, freq='1D'))\n",
    "data.putmask(mask=data, value=np.arange(10))"
   ],
   "metadata": {
    "collapsed": false
   }
  },
  {
   "cell_type": "code",
   "execution_count": 274,
   "outputs": [
    {
     "data": {
      "text/plain": "Int64Index([1, 1, 1, 1, 1, 1, 1, 1, 1, 1], dtype='int64')"
     },
     "execution_count": 274,
     "metadata": {},
     "output_type": "execute_result"
    }
   ],
   "source": [
    "data = pd.DatetimeIndex(pd.date_range('1/1/2005', periods=10, freq='1D'))\n",
    "data.quarter"
   ],
   "metadata": {
    "collapsed": false
   }
  },
  {
   "cell_type": "code",
   "execution_count": 278,
   "outputs": [
    {
     "name": "stderr",
     "output_type": "stream",
     "text": [
      "/var/folders/7v/1c76ypv54yx261vygq63_47w0000gp/T/ipykernel_4335/2128156397.py:2: FutureWarning: Index.ravel returning ndarray is deprecated; in a future version this will return a view on self.\n",
      "  data.ravel('C')\n"
     ]
    },
    {
     "data": {
      "text/plain": "array(['2005-01-01T00:00:00.000000000', '2005-01-02T00:00:00.000000000',\n       '2005-01-03T00:00:00.000000000', '2005-01-04T00:00:00.000000000',\n       '2005-01-05T00:00:00.000000000', '2005-01-06T00:00:00.000000000',\n       '2005-01-07T00:00:00.000000000', '2005-01-08T00:00:00.000000000',\n       '2005-01-09T00:00:00.000000000', '2005-01-10T00:00:00.000000000'],\n      dtype='datetime64[ns]')"
     },
     "execution_count": 278,
     "metadata": {},
     "output_type": "execute_result"
    }
   ],
   "source": [
    "data = pd.DatetimeIndex(pd.date_range('1/1/2005', periods=10, freq='1D'))\n",
    "data.ravel('C')"
   ],
   "metadata": {
    "collapsed": false
   }
  },
  {
   "cell_type": "code",
   "execution_count": 280,
   "outputs": [
    {
     "data": {
      "text/plain": "           0\n0 2005-01-01\n1 2005-01-02\n2 2005-01-03\n3 2005-01-04\n4 2005-01-05\n5 2005-01-06\n6 2005-01-07\n7 2005-01-08\n8 2005-01-09\n9 2005-01-10",
      "text/html": "<div>\n<style scoped>\n    .dataframe tbody tr th:only-of-type {\n        vertical-align: middle;\n    }\n\n    .dataframe tbody tr th {\n        vertical-align: top;\n    }\n\n    .dataframe thead th {\n        text-align: right;\n    }\n</style>\n<table border=\"1\" class=\"dataframe\">\n  <thead>\n    <tr style=\"text-align: right;\">\n      <th></th>\n      <th>0</th>\n    </tr>\n  </thead>\n  <tbody>\n    <tr>\n      <th>0</th>\n      <td>2005-01-01</td>\n    </tr>\n    <tr>\n      <th>1</th>\n      <td>2005-01-02</td>\n    </tr>\n    <tr>\n      <th>2</th>\n      <td>2005-01-03</td>\n    </tr>\n    <tr>\n      <th>3</th>\n      <td>2005-01-04</td>\n    </tr>\n    <tr>\n      <th>4</th>\n      <td>2005-01-05</td>\n    </tr>\n    <tr>\n      <th>5</th>\n      <td>2005-01-06</td>\n    </tr>\n    <tr>\n      <th>6</th>\n      <td>2005-01-07</td>\n    </tr>\n    <tr>\n      <th>7</th>\n      <td>2005-01-08</td>\n    </tr>\n    <tr>\n      <th>8</th>\n      <td>2005-01-09</td>\n    </tr>\n    <tr>\n      <th>9</th>\n      <td>2005-01-10</td>\n    </tr>\n  </tbody>\n</table>\n</div>"
     },
     "execution_count": 280,
     "metadata": {},
     "output_type": "execute_result"
    }
   ],
   "source": [
    "data = pd.DataFrame(pd.DatetimeIndex(pd.date_range('1/1/2005', periods=10, freq='1D')))\n",
    "data.reindex()"
   ],
   "metadata": {
    "collapsed": false
   }
  },
  {
   "cell_type": "code",
   "execution_count": 281,
   "outputs": [
    {
     "data": {
      "text/plain": "DatetimeIndex(['2005-01-01', '2005-01-02', '2005-01-03', '2005-01-04',\n               '2005-01-05', '2005-01-06', '2005-01-07', '2005-01-08',\n               '2005-01-09', '2005-01-10'],\n              dtype='datetime64[ns]', name='iqrorjoncoder', freq='D')"
     },
     "execution_count": 281,
     "metadata": {},
     "output_type": "execute_result"
    }
   ],
   "source": [
    "data = pd.DatetimeIndex(pd.date_range('1/1/2005', periods=10, freq='1D'))\n",
    "data.rename(\"iqrorjoncoder\")"
   ],
   "metadata": {
    "collapsed": false
   }
  },
  {
   "cell_type": "code",
   "execution_count": 283,
   "outputs": [
    {
     "data": {
      "text/plain": "DatetimeIndex(['2005-01-01', '2005-01-01', '2005-01-02', '2005-01-02',\n               '2005-01-03', '2005-01-03', '2005-01-04', '2005-01-04',\n               '2005-01-05', '2005-01-05', '2005-01-06', '2005-01-06',\n               '2005-01-07', '2005-01-07', '2005-01-08', '2005-01-08',\n               '2005-01-09', '2005-01-09', '2005-01-10', '2005-01-10'],\n              dtype='datetime64[ns]', freq=None)"
     },
     "execution_count": 283,
     "metadata": {},
     "output_type": "execute_result"
    }
   ],
   "source": [
    "data = pd.DatetimeIndex(pd.date_range('1/1/2005', periods=10, freq='1D'))\n",
    "data.repeat(2)"
   ],
   "metadata": {
    "collapsed": false
   }
  },
  {
   "cell_type": "code",
   "execution_count": 3,
   "outputs": [
    {
     "data": {
      "text/plain": "'day'"
     },
     "execution_count": 3,
     "metadata": {},
     "output_type": "execute_result"
    }
   ],
   "source": [
    "data = pd.DatetimeIndex(pd.date_range('1/1/2005', periods=10, freq='1D'))\n",
    "data.resolution"
   ],
   "metadata": {
    "collapsed": false
   }
  },
  {
   "cell_type": "code",
   "execution_count": 11,
   "outputs": [
    {
     "data": {
      "text/plain": "DatetimeIndex(['2005-01-02', '2005-01-02', '2005-01-02', '2005-01-02',\n               '2005-01-07', '2005-01-07', '2005-01-07', '2005-01-07',\n               '2005-01-07', '2005-01-12'],\n              dtype='datetime64[ns]', freq=None)"
     },
     "execution_count": 11,
     "metadata": {},
     "output_type": "execute_result"
    }
   ],
   "source": [
    "data = pd.DatetimeIndex(pd.date_range('1/1/2005', periods=10, freq='1D'))\n",
    "data.round(freq='5D')"
   ],
   "metadata": {
    "collapsed": false
   }
  },
  {
   "cell_type": "code",
   "execution_count": 15,
   "outputs": [
    {
     "data": {
      "text/plain": "10"
     },
     "execution_count": 15,
     "metadata": {},
     "output_type": "execute_result"
    }
   ],
   "source": [
    "data = pd.DatetimeIndex(pd.date_range('1/1/2005', periods=10, freq='1D'))\n",
    "data.searchsorted(value='1/12/2005')"
   ],
   "metadata": {
    "collapsed": false
   }
  },
  {
   "cell_type": "code",
   "execution_count": 21,
   "outputs": [
    {
     "data": {
      "text/plain": "Int64Index([0, 3, 6, 9, 12, 15, 18, 21, 24, 27], dtype='int64')"
     },
     "execution_count": 21,
     "metadata": {},
     "output_type": "execute_result"
    }
   ],
   "source": [
    "data = pd.DatetimeIndex(pd.date_range('1/1/2005', periods=10, freq='3S'))\n",
    "data.second"
   ],
   "metadata": {
    "collapsed": false
   }
  },
  {
   "cell_type": "code",
   "execution_count": 26,
   "outputs": [
    {
     "data": {
      "text/plain": "DatetimeIndex(['2005-01-01', '2005-01-02', '2005-01-03', '2005-01-04',\n               '2005-01-05', '2005-01-06', '2005-01-07', '2005-01-08',\n               '2005-01-09', '2005-01-10'],\n              dtype='datetime64[ns]', name='iqrorjoncoder', freq='D')"
     },
     "execution_count": 26,
     "metadata": {},
     "output_type": "execute_result"
    }
   ],
   "source": [
    "data = pd.DatetimeIndex(pd.date_range('1/1/2005', periods=10, freq='1D'))\n",
    "data.set_names(names='iqrorjoncoder')"
   ],
   "metadata": {
    "collapsed": false
   }
  },
  {
   "cell_type": "code",
   "execution_count": 49,
   "outputs": [
    {
     "data": {
      "text/plain": "\"\\n        Fast lookup of value from 1-dimensional ndarray.\\n\\n        .. deprecated:: 1.0\\n\\n        Notes\\n        -----\\n        Only use this if you know what you're doing.\\n        \""
     },
     "execution_count": 49,
     "metadata": {},
     "output_type": "execute_result"
    }
   ],
   "source": [
    "data = pd.DatetimeIndex(pd.date_range('1/1/2005', periods=10, freq='1D'))\n",
    "data.set_value.__doc__"
   ],
   "metadata": {
    "collapsed": false
   }
  },
  {
   "cell_type": "code",
   "execution_count": 51,
   "outputs": [
    {
     "data": {
      "text/plain": "(10,)"
     },
     "execution_count": 51,
     "metadata": {},
     "output_type": "execute_result"
    }
   ],
   "source": [
    "data = pd.DatetimeIndex(pd.date_range('1/1/2005', periods=10, freq='1D'))\n",
    "data.shape"
   ],
   "metadata": {
    "collapsed": false
   }
  },
  {
   "cell_type": "code",
   "execution_count": 53,
   "outputs": [
    {
     "data": {
      "text/plain": "DatetimeIndex(['2005-01-03', '2005-01-04', '2005-01-05', '2005-01-06',\n               '2005-01-07', '2005-01-08', '2005-01-09', '2005-01-10',\n               '2005-01-11', '2005-01-12'],\n              dtype='datetime64[ns]', freq='D')"
     },
     "execution_count": 53,
     "metadata": {},
     "output_type": "execute_result"
    }
   ],
   "source": [
    "data = pd.DatetimeIndex(pd.date_range('1/1/2005', periods=10, freq='1D'))\n",
    "data.shift(2)"
   ],
   "metadata": {
    "collapsed": false
   }
  },
  {
   "cell_type": "code",
   "execution_count": 55,
   "outputs": [
    {
     "data": {
      "text/plain": "10"
     },
     "execution_count": 55,
     "metadata": {},
     "output_type": "execute_result"
    }
   ],
   "source": [
    "data = pd.DatetimeIndex(pd.date_range('1/1/2005', periods=10, freq='1D'))\n",
    "data.size"
   ],
   "metadata": {
    "collapsed": false
   }
  },
  {
   "cell_type": "code",
   "execution_count": 59,
   "outputs": [
    {
     "data": {
      "text/plain": "slice(0, 10, None)"
     },
     "execution_count": 59,
     "metadata": {},
     "output_type": "execute_result"
    }
   ],
   "source": [
    "data = pd.DatetimeIndex(pd.date_range('1/1/2005', periods=10, freq='2D'))\n",
    "data.slice_indexer()"
   ],
   "metadata": {
    "collapsed": false
   }
  },
  {
   "cell_type": "code",
   "execution_count": 60,
   "outputs": [
    {
     "data": {
      "text/plain": "(0, 10)"
     },
     "execution_count": 60,
     "metadata": {},
     "output_type": "execute_result"
    }
   ],
   "source": [
    "data = pd.DatetimeIndex(pd.date_range('1/1/2005', periods=10, freq='1D'))\n",
    "data.slice_locs()"
   ],
   "metadata": {
    "collapsed": false
   }
  },
  {
   "cell_type": "code",
   "execution_count": 65,
   "outputs": [
    {
     "data": {
      "text/plain": "DatetimeIndex(['2004-12-31', '2004-12-31', '2004-12-31', '2004-12-31',\n               '2004-12-31', '2004-12-31', '2004-12-31', '2004-12-31',\n               '2004-12-31', '2004-12-31'],\n              dtype='datetime64[ns]', freq=None)"
     },
     "execution_count": 65,
     "metadata": {},
     "output_type": "execute_result"
    }
   ],
   "source": [
    "data = pd.DatetimeIndex(pd.date_range('1/1/2005', periods=10, freq='1D'))\n",
    "data.snap(freq='2M')"
   ],
   "metadata": {
    "collapsed": false
   }
  },
  {
   "cell_type": "code",
   "execution_count": 74,
   "outputs": [
    {
     "data": {
      "text/plain": "'\\n        Use sort_values instead.\\n        '"
     },
     "execution_count": 74,
     "metadata": {},
     "output_type": "execute_result"
    }
   ],
   "source": [
    "data = pd.DatetimeIndex(pd.date_range('1/1/2005', periods=10, freq='1D'))\n",
    "data.sort.__doc__"
   ],
   "metadata": {
    "collapsed": false
   }
  },
  {
   "cell_type": "code",
   "execution_count": 78,
   "outputs": [
    {
     "data": {
      "text/plain": "DatetimeIndex(['2005-01-10', '2005-01-09', '2005-01-08', '2005-01-07',\n               '2005-01-06', '2005-01-05', '2005-01-04', '2005-01-03',\n               '2005-01-02', '2005-01-01'],\n              dtype='datetime64[ns]', freq='-1D')"
     },
     "execution_count": 78,
     "metadata": {},
     "output_type": "execute_result"
    }
   ],
   "source": [
    "data = pd.DatetimeIndex(pd.date_range('1/1/2005', periods=10, freq='1D'))\n",
    "data.sort_values(ascending=False)"
   ],
   "metadata": {
    "collapsed": false
   }
  },
  {
   "cell_type": "code",
   "execution_count": 82,
   "outputs": [
    {
     "data": {
      "text/plain": "(DatetimeIndex(['2005-01-10', '2005-01-09', '2005-01-08', '2005-01-07',\n                '2005-01-06', '2005-01-05', '2005-01-04', '2005-01-03',\n                '2005-01-02', '2005-01-01'],\n               dtype='datetime64[ns]', freq='-1D'),\n array([9, 8, 7, 6, 5, 4, 3, 2, 1, 0], dtype=int64))"
     },
     "execution_count": 82,
     "metadata": {},
     "output_type": "execute_result"
    }
   ],
   "source": [
    "data = pd.DatetimeIndex(pd.date_range('1/1/2005', periods=10, freq='1D'))\n",
    "data.sortlevel(ascending=False)"
   ],
   "metadata": {
    "collapsed": false
   }
  },
  {
   "cell_type": "code",
   "execution_count": 85,
   "outputs": [
    {
     "data": {
      "text/plain": "Timedelta('3 days 00:39:48.990594023')"
     },
     "execution_count": 85,
     "metadata": {},
     "output_type": "execute_result"
    }
   ],
   "source": [
    "data = pd.DatetimeIndex(pd.date_range('1/1/2005', periods=10, freq='1D'))\n",
    "data.std()"
   ],
   "metadata": {
    "collapsed": false
   }
  },
  {
   "cell_type": "code",
   "execution_count": 104,
   "outputs": [
    {
     "data": {
      "text/plain": "Index(['01--01--2005', '02--01--2005', '03--01--2005', '04--01--2005',\n       '05--01--2005', '06--01--2005', '07--01--2005', '08--01--2005',\n       '09--01--2005', '10--01--2005'],\n      dtype='object')"
     },
     "execution_count": 104,
     "metadata": {},
     "output_type": "execute_result"
    }
   ],
   "source": [
    "data = pd.DatetimeIndex(pd.date_range('1/1/2005', periods=10, freq='1D'))\n",
    "data.strftime('%d--%m--%Y')"
   ],
   "metadata": {
    "collapsed": false
   }
  },
  {
   "cell_type": "code",
   "execution_count": 112,
   "outputs": [
    {
     "data": {
      "text/plain": "Index([1.0, nan], dtype='object')"
     },
     "execution_count": 112,
     "metadata": {},
     "output_type": "execute_result"
    }
   ],
   "source": [
    "data = pd.DatetimeIndex(pd.date_range('1/1/2005', periods=10, freq='1D'))\n",
    "data.symmetric_difference(data.append([pd.Index([1, np.nan])]))"
   ],
   "metadata": {
    "collapsed": false
   }
  },
  {
   "cell_type": "code",
   "execution_count": 116,
   "outputs": [
    {
     "data": {
      "text/plain": "DatetimeIndex(['2005-01-01', '2005-01-03', '2005-01-06'], dtype='datetime64[ns]', freq=None)"
     },
     "execution_count": 116,
     "metadata": {},
     "output_type": "execute_result"
    }
   ],
   "source": [
    "data = pd.DatetimeIndex(pd.date_range('1/1/2005', periods=10, freq='1D'))\n",
    "data.take(indices=[0,2,5])"
   ],
   "metadata": {
    "collapsed": false
   }
  },
  {
   "cell_type": "code",
   "execution_count": 125,
   "outputs": [
    {
     "data": {
      "text/plain": "array([datetime.time(0, 0), datetime.time(1, 0), datetime.time(2, 0),\n       datetime.time(3, 0), datetime.time(4, 0), datetime.time(5, 0),\n       datetime.time(6, 0), datetime.time(7, 0), datetime.time(8, 0),\n       datetime.time(9, 0)], dtype=object)"
     },
     "execution_count": 125,
     "metadata": {},
     "output_type": "execute_result"
    }
   ],
   "source": [
    "data = pd.DatetimeIndex(pd.date_range('1/1/2005', periods=10, freq='1H'))\n",
    "data.time"
   ],
   "metadata": {
    "collapsed": false
   }
  },
  {
   "cell_type": "code",
   "execution_count": 128,
   "outputs": [
    {
     "data": {
      "text/plain": "array([datetime.time(0, 0), datetime.time(1, 0), datetime.time(2, 0),\n       datetime.time(3, 0), datetime.time(4, 0), datetime.time(5, 0),\n       datetime.time(6, 0), datetime.time(7, 0), datetime.time(8, 0),\n       datetime.time(9, 0)], dtype=object)"
     },
     "execution_count": 128,
     "metadata": {},
     "output_type": "execute_result"
    }
   ],
   "source": [
    "data = pd.DatetimeIndex(pd.date_range('1/1/2005', periods=10, freq='1H'))\n",
    "data.timetz"
   ],
   "metadata": {
    "collapsed": false
   }
  },
  {
   "cell_type": "code",
   "execution_count": 130,
   "outputs": [
    {
     "data": {
      "text/plain": "DatetimeIndex(['2005-01-01', '2005-01-02', '2005-01-03', '2005-01-04',\n               '2005-01-05', '2005-01-06', '2005-01-07', '2005-01-08',\n               '2005-01-09', '2005-01-10'],\n              dtype='datetime64[ns]', freq='D')"
     },
     "execution_count": 130,
     "metadata": {},
     "output_type": "execute_result"
    }
   ],
   "source": [
    "data = pd.DatetimeIndex(pd.date_range('1/1/2005', periods=10, freq='1D'))\n",
    "data.to_flat_index()"
   ],
   "metadata": {
    "collapsed": false
   }
  },
  {
   "cell_type": "code",
   "execution_count": 135,
   "outputs": [
    {
     "data": {
      "text/plain": "                    0\n2005-01-01 2005-01-01\n2005-01-02 2005-01-02\n2005-01-03 2005-01-03\n2005-01-04 2005-01-04\n2005-01-05 2005-01-05\n2005-01-06 2005-01-06\n2005-01-07 2005-01-07\n2005-01-08 2005-01-08\n2005-01-09 2005-01-09\n2005-01-10 2005-01-10",
      "text/html": "<div>\n<style scoped>\n    .dataframe tbody tr th:only-of-type {\n        vertical-align: middle;\n    }\n\n    .dataframe tbody tr th {\n        vertical-align: top;\n    }\n\n    .dataframe thead th {\n        text-align: right;\n    }\n</style>\n<table border=\"1\" class=\"dataframe\">\n  <thead>\n    <tr style=\"text-align: right;\">\n      <th></th>\n      <th>0</th>\n    </tr>\n  </thead>\n  <tbody>\n    <tr>\n      <th>2005-01-01</th>\n      <td>2005-01-01</td>\n    </tr>\n    <tr>\n      <th>2005-01-02</th>\n      <td>2005-01-02</td>\n    </tr>\n    <tr>\n      <th>2005-01-03</th>\n      <td>2005-01-03</td>\n    </tr>\n    <tr>\n      <th>2005-01-04</th>\n      <td>2005-01-04</td>\n    </tr>\n    <tr>\n      <th>2005-01-05</th>\n      <td>2005-01-05</td>\n    </tr>\n    <tr>\n      <th>2005-01-06</th>\n      <td>2005-01-06</td>\n    </tr>\n    <tr>\n      <th>2005-01-07</th>\n      <td>2005-01-07</td>\n    </tr>\n    <tr>\n      <th>2005-01-08</th>\n      <td>2005-01-08</td>\n    </tr>\n    <tr>\n      <th>2005-01-09</th>\n      <td>2005-01-09</td>\n    </tr>\n    <tr>\n      <th>2005-01-10</th>\n      <td>2005-01-10</td>\n    </tr>\n  </tbody>\n</table>\n</div>"
     },
     "execution_count": 135,
     "metadata": {},
     "output_type": "execute_result"
    }
   ],
   "source": [
    "data = pd.DatetimeIndex(pd.date_range('1/1/2005', periods=10, freq='1D'))\n",
    "data.to_frame(index=True)"
   ],
   "metadata": {
    "collapsed": false
   }
  },
  {
   "cell_type": "code",
   "execution_count": 138,
   "outputs": [
    {
     "data": {
      "text/plain": "Float64Index([2453371.5, 2453372.5, 2453373.5, 2453374.5, 2453375.5, 2453376.5,\n              2453377.5, 2453378.5, 2453379.5, 2453380.5],\n             dtype='float64')"
     },
     "execution_count": 138,
     "metadata": {},
     "output_type": "execute_result"
    }
   ],
   "source": [
    "data = pd.DatetimeIndex(pd.date_range('1/1/2005', periods=10, freq='1D'))\n",
    "data.to_julian_date()"
   ],
   "metadata": {
    "collapsed": false
   }
  },
  {
   "cell_type": "code",
   "execution_count": 141,
   "outputs": [
    {
     "data": {
      "text/plain": "[Timestamp('2005-01-01 00:00:00', freq='D'),\n Timestamp('2005-01-02 00:00:00', freq='D'),\n Timestamp('2005-01-03 00:00:00', freq='D'),\n Timestamp('2005-01-04 00:00:00', freq='D'),\n Timestamp('2005-01-05 00:00:00', freq='D'),\n Timestamp('2005-01-06 00:00:00', freq='D'),\n Timestamp('2005-01-07 00:00:00', freq='D'),\n Timestamp('2005-01-08 00:00:00', freq='D'),\n Timestamp('2005-01-09 00:00:00', freq='D'),\n Timestamp('2005-01-10 00:00:00', freq='D')]"
     },
     "execution_count": 141,
     "metadata": {},
     "output_type": "execute_result"
    }
   ],
   "source": [
    "data = pd.DatetimeIndex(pd.date_range('1/1/2005', periods=10, freq='1D'))\n",
    "data.to_list()"
   ],
   "metadata": {
    "collapsed": false
   }
  },
  {
   "cell_type": "code",
   "execution_count": 144,
   "outputs": [
    {
     "name": "stderr",
     "output_type": "stream",
     "text": [
      "C:\\Users\\student.ASTRUM-DOMAIN\\AppData\\Local\\Temp\\ipykernel_6072\\3857221366.py:2: FutureWarning: The 'to_native_types' method is deprecated and will be removed in a future version. Use 'astype(str)' instead.\n",
      "  data.to_native_types()\n"
     ]
    },
    {
     "data": {
      "text/plain": "array(['2005-01-01', '2005-01-02', '2005-01-03', '2005-01-04',\n       '2005-01-05', '2005-01-06', '2005-01-07', '2005-01-08',\n       '2005-01-09', '2005-01-10'], dtype=object)"
     },
     "execution_count": 144,
     "metadata": {},
     "output_type": "execute_result"
    }
   ],
   "source": [
    "data = pd.DatetimeIndex(pd.date_range('1/1/2005', periods=10, freq='1D'))\n",
    "data.to_native_types()"
   ],
   "metadata": {
    "collapsed": false
   }
  },
  {
   "cell_type": "code",
   "execution_count": 151,
   "outputs": [
    {
     "name": "stdout",
     "output_type": "stream",
     "text": [
      "['2005-01-01T00:00:00.000000000' '2005-01-02T00:00:00.000000000'\n",
      " '2005-01-03T00:00:00.000000000' '2005-01-04T00:00:00.000000000'\n",
      " '2005-01-05T00:00:00.000000000' '2005-01-06T00:00:00.000000000'\n",
      " '2005-01-07T00:00:00.000000000' '2005-01-08T00:00:00.000000000'\n",
      " '2005-01-09T00:00:00.000000000' '2005-01-10T00:00:00.000000000']\n",
      "datetime64[ns]\n"
     ]
    }
   ],
   "source": [
    "data = pd.DatetimeIndex(pd.date_range('1/1/2005', periods=10, freq='1D'))\n",
    "print(data.to_numpy())\n",
    "print(data.to_numpy().dtype)"
   ],
   "metadata": {
    "collapsed": false
   }
  },
  {
   "cell_type": "code",
   "execution_count": 156,
   "outputs": [
    {
     "data": {
      "text/plain": "PeriodIndex(['2005-01-01 00:00', '2005-01-02 00:00', '2005-01-03 00:00',\n             '2005-01-04 00:00', '2005-01-05 00:00', '2005-01-06 00:00',\n             '2005-01-07 00:00', '2005-01-08 00:00', '2005-01-09 00:00',\n             '2005-01-10 00:00'],\n            dtype='period[H]')"
     },
     "execution_count": 156,
     "metadata": {},
     "output_type": "execute_result"
    }
   ],
   "source": [
    "data = pd.DatetimeIndex(pd.date_range('1/1/2005', periods=10, freq='1D'))\n",
    "data.to_period(freq='1H')"
   ],
   "metadata": {
    "collapsed": false
   }
  },
  {
   "cell_type": "code",
   "execution_count": 164,
   "outputs": [
    {
     "name": "stderr",
     "output_type": "stream",
     "text": [
      "C:\\Users\\student.ASTRUM-DOMAIN\\AppData\\Local\\Temp\\ipykernel_6072\\1863402186.py:2: FutureWarning: to_perioddelta is deprecated and will be removed in a future version. Use `dtindex - dtindex.to_period(freq).to_timestamp()` instead.\n",
      "  data.to_perioddelta(freq='1M')\n"
     ]
    },
    {
     "data": {
      "text/plain": "TimedeltaIndex(['0 days', '1 days', '2 days', '3 days', '4 days', '5 days',\n                '6 days', '7 days', '8 days', '9 days'],\n               dtype='timedelta64[ns]', freq=None)"
     },
     "execution_count": 164,
     "metadata": {},
     "output_type": "execute_result"
    }
   ],
   "source": [
    "data = pd.DatetimeIndex(pd.date_range('1/1/2005', periods=10, freq='1D'))\n",
    "data.to_perioddelta(freq='1M')"
   ],
   "metadata": {
    "collapsed": false
   }
  },
  {
   "cell_type": "code",
   "execution_count": 171,
   "outputs": [
    {
     "name": "stdout",
     "output_type": "stream",
     "text": [
      "[datetime.datetime(2005, 1, 1, 0, 0) datetime.datetime(2005, 1, 2, 0, 0)\n",
      " datetime.datetime(2005, 1, 3, 0, 0) datetime.datetime(2005, 1, 4, 0, 0)\n",
      " datetime.datetime(2005, 1, 5, 0, 0) datetime.datetime(2005, 1, 6, 0, 0)\n",
      " datetime.datetime(2005, 1, 7, 0, 0) datetime.datetime(2005, 1, 8, 0, 0)\n",
      " datetime.datetime(2005, 1, 9, 0, 0) datetime.datetime(2005, 1, 10, 0, 0)]\n",
      "<class 'datetime.datetime'>\n"
     ]
    }
   ],
   "source": [
    "data = pd.DatetimeIndex(pd.date_range('1/1/2005', periods=10, freq='1D'))\n",
    "print(data.to_pydatetime())\n",
    "print(type(data.to_pydatetime()[0]))"
   ],
   "metadata": {
    "collapsed": false
   }
  },
  {
   "cell_type": "code",
   "execution_count": 177,
   "outputs": [
    {
     "data": {
      "text/plain": "2005-01-01   2005-01-01\n2005-01-02   2005-01-02\n2005-01-03   2005-01-03\n2005-01-04   2005-01-04\n2005-01-05   2005-01-05\n2005-01-06   2005-01-06\n2005-01-07   2005-01-07\n2005-01-08   2005-01-08\n2005-01-09   2005-01-09\n2005-01-10   2005-01-10\nFreq: D, dtype: datetime64[ns]"
     },
     "execution_count": 177,
     "metadata": {},
     "output_type": "execute_result"
    }
   ],
   "source": [
    "data = pd.DatetimeIndex(pd.date_range('1/1/2005', periods=10, freq='1D'))\n",
    "data.to_series()"
   ],
   "metadata": {
    "collapsed": false
   }
  },
  {
   "cell_type": "code",
   "execution_count": 179,
   "outputs": [
    {
     "data": {
      "text/plain": "[Timestamp('2005-01-01 00:00:00', freq='D'),\n Timestamp('2005-01-02 00:00:00', freq='D'),\n Timestamp('2005-01-03 00:00:00', freq='D'),\n Timestamp('2005-01-04 00:00:00', freq='D'),\n Timestamp('2005-01-05 00:00:00', freq='D'),\n Timestamp('2005-01-06 00:00:00', freq='D'),\n Timestamp('2005-01-07 00:00:00', freq='D'),\n Timestamp('2005-01-08 00:00:00', freq='D'),\n Timestamp('2005-01-09 00:00:00', freq='D'),\n Timestamp('2005-01-10 00:00:00', freq='D')]"
     },
     "execution_count": 179,
     "metadata": {},
     "output_type": "execute_result"
    }
   ],
   "source": [
    "data = pd.DatetimeIndex(pd.date_range('1/1/2005', periods=10, freq='1D'))\n",
    "data.tolist()"
   ],
   "metadata": {
    "collapsed": false
   }
  },
  {
   "cell_type": "code",
   "execution_count": 182,
   "outputs": [
    {
     "data": {
      "text/plain": "DatetimeIndex(['2005-01-01', '2005-01-02', '2005-01-03', '2005-01-04',\n               '2005-01-05', '2005-01-06', '2005-01-07', '2005-01-08',\n               '2005-01-09', '2005-01-10'],\n              dtype='datetime64[ns]', freq='D')"
     },
     "execution_count": 182,
     "metadata": {},
     "output_type": "execute_result"
    }
   ],
   "source": [
    "data = pd.DatetimeIndex(pd.date_range('1/1/2005', periods=10, freq='1D'))\n",
    "data.transpose()"
   ],
   "metadata": {
    "collapsed": false
   }
  },
  {
   "cell_type": "code",
   "execution_count": 200,
   "outputs": [
    {
     "data": {
      "text/plain": "<DstTzInfo 'Asia/Tashkent' LMT+4:37:00 STD>"
     },
     "execution_count": 200,
     "metadata": {},
     "output_type": "execute_result"
    }
   ],
   "source": [
    "data = pd.DatetimeIndex(pd.date_range('1/1/2005', periods=10, freq='1D', tz='Asia/Tashkent'))\n",
    "data.tz"
   ],
   "metadata": {
    "collapsed": false
   }
  },
  {
   "cell_type": "code",
   "execution_count": 202,
   "outputs": [
    {
     "name": "stdout",
     "output_type": "stream",
     "text": [
      "DatetimeIndex(['2005-01-01 00:00:00+05:00', '2005-01-02 00:00:00+05:00',\n",
      "               '2005-01-03 00:00:00+05:00', '2005-01-04 00:00:00+05:00',\n",
      "               '2005-01-05 00:00:00+05:00', '2005-01-06 00:00:00+05:00',\n",
      "               '2005-01-07 00:00:00+05:00', '2005-01-08 00:00:00+05:00',\n",
      "               '2005-01-09 00:00:00+05:00', '2005-01-10 00:00:00+05:00'],\n",
      "              dtype='datetime64[ns, Asia/Tashkent]', freq='D')\n",
      "DatetimeIndex(['2004-12-31 13:00:00-06:00', '2005-01-01 13:00:00-06:00',\n",
      "               '2005-01-02 13:00:00-06:00', '2005-01-03 13:00:00-06:00',\n",
      "               '2005-01-04 13:00:00-06:00', '2005-01-05 13:00:00-06:00',\n",
      "               '2005-01-06 13:00:00-06:00', '2005-01-07 13:00:00-06:00',\n",
      "               '2005-01-08 13:00:00-06:00', '2005-01-09 13:00:00-06:00'],\n",
      "              dtype='datetime64[ns, US/Central]', freq='D')\n"
     ]
    }
   ],
   "source": [
    "data = pd.DatetimeIndex(pd.date_range('1/1/2005', periods=10, freq='1D', tz='Asia/Tashkent'))\n",
    "print(data)\n",
    "print(data.tz_convert('US/Central'))"
   ],
   "metadata": {
    "collapsed": false
   }
  },
  {
   "cell_type": "code",
   "execution_count": 209,
   "outputs": [
    {
     "data": {
      "text/plain": "DatetimeIndex(['2005-01-01 00:00:00-05:00', '2005-01-01 01:00:00-05:00',\n               '2005-01-01 02:00:00-05:00', '2005-01-01 03:00:00-05:00',\n               '2005-01-01 04:00:00-05:00', '2005-01-01 05:00:00-05:00',\n               '2005-01-01 06:00:00-05:00', '2005-01-01 07:00:00-05:00',\n               '2005-01-01 08:00:00-05:00', '2005-01-01 09:00:00-05:00'],\n              dtype='datetime64[ns, US/Eastern]', freq=None)"
     },
     "execution_count": 209,
     "metadata": {},
     "output_type": "execute_result"
    }
   ],
   "source": [
    "data = pd.DatetimeIndex(pd.date_range('1/1/2005', periods=10, freq='1H'))\n",
    "data.tz_localize(tz='US/Eastern')"
   ],
   "metadata": {
    "collapsed": false
   }
  },
  {
   "cell_type": "code",
   "execution_count": 211,
   "outputs": [
    {
     "data": {
      "text/plain": "<DstTzInfo 'Asia/Tashkent' LMT+4:37:00 STD>"
     },
     "execution_count": 211,
     "metadata": {},
     "output_type": "execute_result"
    }
   ],
   "source": [
    "data = pd.DatetimeIndex(pd.date_range('1/1/2005', periods=10, freq='1H', tz='Asia/Tashkent'))\n",
    "data.tzinfo"
   ],
   "metadata": {
    "collapsed": false
   }
  },
  {
   "cell_type": "code",
   "execution_count": 216,
   "outputs": [
    {
     "name": "stderr",
     "output_type": "stream",
     "text": [
      "C:\\Users\\student.ASTRUM-DOMAIN\\AppData\\Local\\Temp\\ipykernel_6072\\2768894436.py:2: RuntimeWarning: '<' not supported between instances of 'float' and 'Timestamp', sort order is undefined for incomparable objects.\n",
      "  data.union(data.append(pd.Index([1, 2, np.nan])))\n"
     ]
    },
    {
     "data": {
      "text/plain": "Index([2005-01-01 00:00:00, 2005-01-02 00:00:00, 2005-01-03 00:00:00,\n       2005-01-04 00:00:00, 2005-01-05 00:00:00, 2005-01-06 00:00:00,\n       2005-01-07 00:00:00, 2005-01-08 00:00:00, 2005-01-09 00:00:00,\n       2005-01-10 00:00:00,                 1.0,                 2.0,\n                       nan],\n      dtype='object')"
     },
     "execution_count": 216,
     "metadata": {},
     "output_type": "execute_result"
    }
   ],
   "source": [
    "data = pd.DatetimeIndex(pd.date_range('1/1/2005', periods=10, freq='1D'))\n",
    "data.union(data.append(pd.Index([1, 2, np.nan])))"
   ],
   "metadata": {
    "collapsed": false
   }
  },
  {
   "cell_type": "code",
   "execution_count": 221,
   "outputs": [
    {
     "data": {
      "text/plain": "'\\n        A bit of a hack to accelerate unioning a collection of indexes.\\n        '"
     },
     "execution_count": 221,
     "metadata": {},
     "output_type": "execute_result"
    }
   ],
   "source": [
    "data = pd.DatetimeIndex(pd.date_range('1/1/2005', periods=10, freq='1D'))\n",
    "data.union_many.__doc__"
   ],
   "metadata": {
    "collapsed": false
   }
  },
  {
   "cell_type": "code",
   "execution_count": 231,
   "outputs": [
    {
     "data": {
      "text/plain": "array([False, False, False, False, False, False, False, False, False,\n       False])"
     },
     "execution_count": 231,
     "metadata": {},
     "output_type": "execute_result"
    }
   ],
   "source": [
    "data = pd.DatetimeIndex(pd.date_range('1/1/2005', periods=10, freq='1D'))\n",
    "data"
   ],
   "metadata": {
    "collapsed": false
   }
  },
  {
   "cell_type": "code",
   "execution_count": 237,
   "outputs": [
    {
     "name": "stdout",
     "output_type": "stream",
     "text": [
      "DatetimeIndex(['2005-01-01', '2005-01-02', '2005-01-03', '2005-01-04',\n",
      "               '2005-01-05', '2005-01-06', '2005-01-07', '2005-01-08',\n",
      "               '2005-01-09', '2005-01-10'],\n",
      "              dtype='datetime64[ns]', freq='D')\n",
      "DatetimeIndex(['2005-01-01', '2005-01-02', '2005-01-03', '2005-01-04',\n",
      "               '2005-01-05', '2005-01-06', '2005-01-07', '2005-01-08',\n",
      "               '2005-01-09', '2005-01-10'],\n",
      "              dtype='datetime64[ns]', freq=None)\n"
     ]
    }
   ],
   "source": [
    "data = pd.DatetimeIndex(pd.date_range('1/1/2005', periods=10, freq='1D'))\n",
    "print(data)\n",
    "print(data.repeat(2).unique())"
   ],
   "metadata": {
    "collapsed": false
   }
  },
  {
   "cell_type": "code",
   "execution_count": 240,
   "outputs": [
    {
     "data": {
      "text/plain": "2005-01-01    2\n2005-01-02    2\n2005-01-03    2\n2005-01-04    2\n2005-01-05    2\n2005-01-06    2\n2005-01-07    2\n2005-01-08    2\n2005-01-09    2\n2005-01-10    2\ndtype: int64"
     },
     "execution_count": 240,
     "metadata": {},
     "output_type": "execute_result"
    }
   ],
   "source": [
    "data = pd.DatetimeIndex(pd.date_range('1/1/2005', periods=10, freq='1D')).repeat(2)\n",
    "data.value_counts()"
   ],
   "metadata": {
    "collapsed": false
   }
  },
  {
   "cell_type": "code",
   "execution_count": 242,
   "outputs": [
    {
     "data": {
      "text/plain": "array(['2005-01-01T00:00:00.000000000', '2005-01-02T00:00:00.000000000',\n       '2005-01-03T00:00:00.000000000', '2005-01-04T00:00:00.000000000',\n       '2005-01-05T00:00:00.000000000', '2005-01-06T00:00:00.000000000',\n       '2005-01-07T00:00:00.000000000', '2005-01-08T00:00:00.000000000',\n       '2005-01-09T00:00:00.000000000', '2005-01-10T00:00:00.000000000'],\n      dtype='datetime64[ns]')"
     },
     "execution_count": 242,
     "metadata": {},
     "output_type": "execute_result"
    }
   ],
   "source": [
    "data = pd.DatetimeIndex(pd.date_range('1/1/2005', periods=10, freq='1D'))\n",
    "data.values"
   ],
   "metadata": {
    "collapsed": false
   }
  },
  {
   "cell_type": "code",
   "execution_count": 247,
   "outputs": [
    {
     "data": {
      "text/plain": "DatetimeIndex(['2005-01-01', '2005-01-02', '2005-01-03', '2005-01-04',\n               '2005-01-05', '2005-01-06', '2005-01-07', '2005-01-08',\n               '2005-01-09', '2005-01-10'],\n              dtype='datetime64[ns]', freq='D')"
     },
     "execution_count": 247,
     "metadata": {},
     "output_type": "execute_result"
    }
   ],
   "source": [
    "data = pd.DatetimeIndex(pd.date_range('1/1/2005', periods=10, freq='1D'))\n",
    "data.view()"
   ],
   "metadata": {
    "collapsed": false
   }
  },
  {
   "cell_type": "code",
   "execution_count": 251,
   "outputs": [
    {
     "name": "stderr",
     "output_type": "stream",
     "text": [
      "C:\\Users\\student.ASTRUM-DOMAIN\\AppData\\Local\\Temp\\ipykernel_6072\\4294732938.py:2: FutureWarning: weekofyear and week have been deprecated, please use DatetimeIndex.isocalendar().week instead, which returns a Series. To exactly reproduce the behavior of week and weekofyear and return an Index, you may call pd.Int64Index(idx.isocalendar().week)\n",
      "  data.week\n"
     ]
    },
    {
     "data": {
      "text/plain": "Int64Index([53, 53, 1, 1, 1, 1, 1, 1, 1, 2], dtype='int64')"
     },
     "execution_count": 251,
     "metadata": {},
     "output_type": "execute_result"
    }
   ],
   "source": [
    "data = pd.DatetimeIndex(pd.date_range('1/1/2005', periods=10, freq='1D'))\n",
    "data.week"
   ],
   "metadata": {
    "collapsed": false
   }
  },
  {
   "cell_type": "code",
   "execution_count": 253,
   "outputs": [
    {
     "data": {
      "text/plain": "Int64Index([5, 6, 0, 1, 2, 3, 4, 5, 6, 0], dtype='int64')"
     },
     "execution_count": 253,
     "metadata": {},
     "output_type": "execute_result"
    }
   ],
   "source": [
    "data = pd.DatetimeIndex(pd.date_range('1/1/2005', periods=10, freq='1D'))\n",
    "data.weekday"
   ],
   "metadata": {
    "collapsed": false
   }
  },
  {
   "cell_type": "code",
   "execution_count": 255,
   "outputs": [
    {
     "name": "stderr",
     "output_type": "stream",
     "text": [
      "C:\\Users\\student.ASTRUM-DOMAIN\\AppData\\Local\\Temp\\ipykernel_6072\\1261852634.py:2: FutureWarning: weekofyear and week have been deprecated, please use DatetimeIndex.isocalendar().week instead, which returns a Series. To exactly reproduce the behavior of week and weekofyear and return an Index, you may call pd.Int64Index(idx.isocalendar().week)\n",
      "  data.weekofyear\n"
     ]
    },
    {
     "data": {
      "text/plain": "Int64Index([53, 53, 1, 1, 1, 1, 1, 1, 1, 2], dtype='int64')"
     },
     "execution_count": 255,
     "metadata": {},
     "output_type": "execute_result"
    }
   ],
   "source": [
    "data = pd.DatetimeIndex(pd.date_range('1/1/2005', periods=10, freq='1D'))\n",
    "data.weekofyear"
   ],
   "metadata": {
    "collapsed": false
   }
  },
  {
   "cell_type": "code",
   "execution_count": 263,
   "outputs": [
    {
     "data": {
      "text/plain": "DatetimeIndex(['2005-01-01', '2005-01-02', '2005-01-03', '2005-01-04',\n               '2005-01-05', '2005-01-06', '2005-01-07', '2005-01-08',\n               '2005-01-09', '2005-01-10'],\n              dtype='datetime64[ns]', freq='D')"
     },
     "execution_count": 263,
     "metadata": {},
     "output_type": "execute_result"
    }
   ],
   "source": [
    "data = pd.DatetimeIndex(pd.date_range('1/1/2005', periods=10, freq='1D'))\n",
    "data.where(data.shift(2))"
   ],
   "metadata": {
    "collapsed": false
   }
  },
  {
   "cell_type": "code",
   "execution_count": 267,
   "outputs": [
    {
     "data": {
      "text/plain": "Int64Index([2005, 2006, 2007, 2008, 2009, 2010, 2011, 2012, 2013, 2014], dtype='int64')"
     },
     "execution_count": 267,
     "metadata": {},
     "output_type": "execute_result"
    }
   ],
   "source": [
    "data = pd.DatetimeIndex(pd.date_range('1/1/2005', periods=10, freq='1Y'))\n",
    "data.year"
   ],
   "metadata": {
    "collapsed": false
   }
  },
  {
   "cell_type": "markdown",
   "source": [
    "Thank you !"
   ],
   "metadata": {
    "collapsed": false
   }
  }
 ],
 "metadata": {
  "kernelspec": {
   "display_name": "Python 3",
   "language": "python",
   "name": "python3"
  },
  "language_info": {
   "codemirror_mode": {
    "name": "ipython",
    "version": 2
   },
   "file_extension": ".py",
   "mimetype": "text/x-python",
   "name": "python",
   "nbconvert_exporter": "python",
   "pygments_lexer": "ipython2",
   "version": "2.7.6"
  }
 },
 "nbformat": 4,
 "nbformat_minor": 0
}
