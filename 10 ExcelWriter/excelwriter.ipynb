{
 "cells": [
  {
   "cell_type": "code",
   "execution_count": 2,
   "metadata": {
    "collapsed": true
   },
   "outputs": [
    {
     "name": "stdout",
     "output_type": "stream",
     "text": [
      "0 book\n",
      "1 check_extension\n",
      "2 close\n",
      "3 cur_sheet\n",
      "4 date_format\n",
      "5 datetime_format\n",
      "6 engine\n",
      "7 handles\n",
      "8 if_sheet_exists\n",
      "9 path\n",
      "10 save\n",
      "11 sheets\n",
      "12 supported_extensions\n",
      "13 write_cells\n"
     ]
    }
   ],
   "source": [
    "import numpy as np\n",
    "import pandas as pd\n",
    "import matplotlib.pyplot as plt\n",
    "\n",
    "functions = [i for i in dir(pd.ExcelWriter) if i[:1] != '_']\n",
    "\n",
    "for i, v in enumerate(functions):\n",
    "    print(i, v)"
   ]
  },
  {
   "cell_type": "code",
   "execution_count": 5,
   "outputs": [
    {
     "data": {
      "text/plain": "<openpyxl.workbook.workbook.Workbook at 0x216b3e34820>"
     },
     "execution_count": 5,
     "metadata": {},
     "output_type": "execute_result"
    }
   ],
   "source": [
    "data = pd.ExcelWriter(\"./Book1.xlsx\")\n",
    "data.book"
   ],
   "metadata": {
    "collapsed": false
   }
  },
  {
   "cell_type": "code",
   "execution_count": 9,
   "outputs": [
    {
     "data": {
      "text/plain": "True"
     },
     "execution_count": 9,
     "metadata": {},
     "output_type": "execute_result"
    }
   ],
   "source": [
    "data = pd.ExcelWriter(\"./Book1.xlsx\")\n",
    "data.check_extension(ext='.')"
   ],
   "metadata": {
    "collapsed": false
   }
  },
  {
   "cell_type": "code",
   "execution_count": 12,
   "outputs": [
    {
     "ename": "IndexError",
     "evalue": "At least one sheet must be visible",
     "output_type": "error",
     "traceback": [
      "\u001B[1;31m---------------------------------------------------------------------------\u001B[0m",
      "\u001B[1;31mIndexError\u001B[0m                                Traceback (most recent call last)",
      "Cell \u001B[1;32mIn [12], line 2\u001B[0m\n\u001B[0;32m      1\u001B[0m data \u001B[38;5;241m=\u001B[39m pd\u001B[38;5;241m.\u001B[39mExcelWriter(\u001B[38;5;124m\"\u001B[39m\u001B[38;5;124m./Book1.xlsx\u001B[39m\u001B[38;5;124m\"\u001B[39m)\n\u001B[1;32m----> 2\u001B[0m data\u001B[38;5;241m.\u001B[39mclose()\n",
      "File \u001B[1;32m~\\AppData\\IqrorjonCoder\\python-projects\\all-pandas-functions\\venv\\lib\\site-packages\\pandas\\io\\excel\\_base.py:1457\u001B[0m, in \u001B[0;36mExcelWriter.close\u001B[1;34m(self)\u001B[0m\n\u001B[0;32m   1455\u001B[0m \u001B[38;5;28;01mdef\u001B[39;00m \u001B[38;5;21mclose\u001B[39m(\u001B[38;5;28mself\u001B[39m) \u001B[38;5;241m-\u001B[39m\u001B[38;5;241m>\u001B[39m \u001B[38;5;28;01mNone\u001B[39;00m:\n\u001B[0;32m   1456\u001B[0m     \u001B[38;5;124;03m\"\"\"synonym for save, to make it more file-like\"\"\"\u001B[39;00m\n\u001B[1;32m-> 1457\u001B[0m     \u001B[38;5;28;43mself\u001B[39;49m\u001B[38;5;241;43m.\u001B[39;49m\u001B[43m_save\u001B[49m\u001B[43m(\u001B[49m\u001B[43m)\u001B[49m\n\u001B[0;32m   1458\u001B[0m     \u001B[38;5;28mself\u001B[39m\u001B[38;5;241m.\u001B[39m_handles\u001B[38;5;241m.\u001B[39mclose()\n",
      "File \u001B[1;32m~\\AppData\\IqrorjonCoder\\python-projects\\all-pandas-functions\\venv\\lib\\site-packages\\pandas\\io\\excel\\_openpyxl.py:101\u001B[0m, in \u001B[0;36mOpenpyxlWriter._save\u001B[1;34m(self)\u001B[0m\n\u001B[0;32m     97\u001B[0m \u001B[38;5;28;01mdef\u001B[39;00m \u001B[38;5;21m_save\u001B[39m(\u001B[38;5;28mself\u001B[39m) \u001B[38;5;241m-\u001B[39m\u001B[38;5;241m>\u001B[39m \u001B[38;5;28;01mNone\u001B[39;00m:\n\u001B[0;32m     98\u001B[0m     \u001B[38;5;124;03m\"\"\"\u001B[39;00m\n\u001B[0;32m     99\u001B[0m \u001B[38;5;124;03m    Save workbook to disk.\u001B[39;00m\n\u001B[0;32m    100\u001B[0m \u001B[38;5;124;03m    \"\"\"\u001B[39;00m\n\u001B[1;32m--> 101\u001B[0m     \u001B[38;5;28;43mself\u001B[39;49m\u001B[38;5;241;43m.\u001B[39;49m\u001B[43mbook\u001B[49m\u001B[38;5;241;43m.\u001B[39;49m\u001B[43msave\u001B[49m\u001B[43m(\u001B[49m\u001B[38;5;28;43mself\u001B[39;49m\u001B[38;5;241;43m.\u001B[39;49m\u001B[43m_handles\u001B[49m\u001B[38;5;241;43m.\u001B[39;49m\u001B[43mhandle\u001B[49m\u001B[43m)\u001B[49m\n\u001B[0;32m    102\u001B[0m     \u001B[38;5;28;01mif\u001B[39;00m \u001B[38;5;124m\"\u001B[39m\u001B[38;5;124mr+\u001B[39m\u001B[38;5;124m\"\u001B[39m \u001B[38;5;129;01min\u001B[39;00m \u001B[38;5;28mself\u001B[39m\u001B[38;5;241m.\u001B[39m_mode \u001B[38;5;129;01mand\u001B[39;00m \u001B[38;5;129;01mnot\u001B[39;00m \u001B[38;5;28misinstance\u001B[39m(\u001B[38;5;28mself\u001B[39m\u001B[38;5;241m.\u001B[39m_handles\u001B[38;5;241m.\u001B[39mhandle, mmap\u001B[38;5;241m.\u001B[39mmmap):\n\u001B[0;32m    103\u001B[0m         \u001B[38;5;66;03m# truncate file to the written content\u001B[39;00m\n\u001B[0;32m    104\u001B[0m         \u001B[38;5;28mself\u001B[39m\u001B[38;5;241m.\u001B[39m_handles\u001B[38;5;241m.\u001B[39mhandle\u001B[38;5;241m.\u001B[39mtruncate()\n",
      "File \u001B[1;32m~\\AppData\\IqrorjonCoder\\python-projects\\all-pandas-functions\\venv\\lib\\site-packages\\openpyxl\\workbook\\workbook.py:407\u001B[0m, in \u001B[0;36mWorkbook.save\u001B[1;34m(self, filename)\u001B[0m\n\u001B[0;32m    405\u001B[0m \u001B[38;5;28;01mif\u001B[39;00m \u001B[38;5;28mself\u001B[39m\u001B[38;5;241m.\u001B[39mwrite_only \u001B[38;5;129;01mand\u001B[39;00m \u001B[38;5;129;01mnot\u001B[39;00m \u001B[38;5;28mself\u001B[39m\u001B[38;5;241m.\u001B[39mworksheets:\n\u001B[0;32m    406\u001B[0m     \u001B[38;5;28mself\u001B[39m\u001B[38;5;241m.\u001B[39mcreate_sheet()\n\u001B[1;32m--> 407\u001B[0m \u001B[43msave_workbook\u001B[49m\u001B[43m(\u001B[49m\u001B[38;5;28;43mself\u001B[39;49m\u001B[43m,\u001B[49m\u001B[43m \u001B[49m\u001B[43mfilename\u001B[49m\u001B[43m)\u001B[49m\n",
      "File \u001B[1;32m~\\AppData\\IqrorjonCoder\\python-projects\\all-pandas-functions\\venv\\lib\\site-packages\\openpyxl\\writer\\excel.py:293\u001B[0m, in \u001B[0;36msave_workbook\u001B[1;34m(workbook, filename)\u001B[0m\n\u001B[0;32m    291\u001B[0m archive \u001B[38;5;241m=\u001B[39m ZipFile(filename, \u001B[38;5;124m'\u001B[39m\u001B[38;5;124mw\u001B[39m\u001B[38;5;124m'\u001B[39m, ZIP_DEFLATED, allowZip64\u001B[38;5;241m=\u001B[39m\u001B[38;5;28;01mTrue\u001B[39;00m)\n\u001B[0;32m    292\u001B[0m writer \u001B[38;5;241m=\u001B[39m ExcelWriter(workbook, archive)\n\u001B[1;32m--> 293\u001B[0m \u001B[43mwriter\u001B[49m\u001B[38;5;241;43m.\u001B[39;49m\u001B[43msave\u001B[49m\u001B[43m(\u001B[49m\u001B[43m)\u001B[49m\n\u001B[0;32m    294\u001B[0m \u001B[38;5;28;01mreturn\u001B[39;00m \u001B[38;5;28;01mTrue\u001B[39;00m\n",
      "File \u001B[1;32m~\\AppData\\IqrorjonCoder\\python-projects\\all-pandas-functions\\venv\\lib\\site-packages\\openpyxl\\writer\\excel.py:275\u001B[0m, in \u001B[0;36mExcelWriter.save\u001B[1;34m(self)\u001B[0m\n\u001B[0;32m    273\u001B[0m \u001B[38;5;28;01mdef\u001B[39;00m \u001B[38;5;21msave\u001B[39m(\u001B[38;5;28mself\u001B[39m):\n\u001B[0;32m    274\u001B[0m     \u001B[38;5;124;03m\"\"\"Write data into the archive.\"\"\"\u001B[39;00m\n\u001B[1;32m--> 275\u001B[0m     \u001B[38;5;28;43mself\u001B[39;49m\u001B[38;5;241;43m.\u001B[39;49m\u001B[43mwrite_data\u001B[49m\u001B[43m(\u001B[49m\u001B[43m)\u001B[49m\n\u001B[0;32m    276\u001B[0m     \u001B[38;5;28mself\u001B[39m\u001B[38;5;241m.\u001B[39m_archive\u001B[38;5;241m.\u001B[39mclose()\n",
      "File \u001B[1;32m~\\AppData\\IqrorjonCoder\\python-projects\\all-pandas-functions\\venv\\lib\\site-packages\\openpyxl\\writer\\excel.py:89\u001B[0m, in \u001B[0;36mExcelWriter.write_data\u001B[1;34m(self)\u001B[0m\n\u001B[0;32m     87\u001B[0m writer \u001B[38;5;241m=\u001B[39m WorkbookWriter(\u001B[38;5;28mself\u001B[39m\u001B[38;5;241m.\u001B[39mworkbook)\n\u001B[0;32m     88\u001B[0m archive\u001B[38;5;241m.\u001B[39mwritestr(ARC_ROOT_RELS, writer\u001B[38;5;241m.\u001B[39mwrite_root_rels())\n\u001B[1;32m---> 89\u001B[0m archive\u001B[38;5;241m.\u001B[39mwritestr(ARC_WORKBOOK, \u001B[43mwriter\u001B[49m\u001B[38;5;241;43m.\u001B[39;49m\u001B[43mwrite\u001B[49m\u001B[43m(\u001B[49m\u001B[43m)\u001B[49m)\n\u001B[0;32m     90\u001B[0m archive\u001B[38;5;241m.\u001B[39mwritestr(ARC_WORKBOOK_RELS, writer\u001B[38;5;241m.\u001B[39mwrite_rels())\n\u001B[0;32m     92\u001B[0m \u001B[38;5;28mself\u001B[39m\u001B[38;5;241m.\u001B[39m_merge_vba()\n",
      "File \u001B[1;32m~\\AppData\\IqrorjonCoder\\python-projects\\all-pandas-functions\\venv\\lib\\site-packages\\openpyxl\\workbook\\_writer.py:148\u001B[0m, in \u001B[0;36mWorkbookWriter.write\u001B[1;34m(self)\u001B[0m\n\u001B[0;32m    146\u001B[0m \u001B[38;5;28mself\u001B[39m\u001B[38;5;241m.\u001B[39mwrite_names()\n\u001B[0;32m    147\u001B[0m \u001B[38;5;28mself\u001B[39m\u001B[38;5;241m.\u001B[39mwrite_pivots()\n\u001B[1;32m--> 148\u001B[0m \u001B[38;5;28;43mself\u001B[39;49m\u001B[38;5;241;43m.\u001B[39;49m\u001B[43mwrite_views\u001B[49m\u001B[43m(\u001B[49m\u001B[43m)\u001B[49m\n\u001B[0;32m    149\u001B[0m \u001B[38;5;28mself\u001B[39m\u001B[38;5;241m.\u001B[39mwrite_refs()\n\u001B[0;32m    151\u001B[0m \u001B[38;5;28;01mreturn\u001B[39;00m tostring(\u001B[38;5;28mself\u001B[39m\u001B[38;5;241m.\u001B[39mpackage\u001B[38;5;241m.\u001B[39mto_tree())\n",
      "File \u001B[1;32m~\\AppData\\IqrorjonCoder\\python-projects\\all-pandas-functions\\venv\\lib\\site-packages\\openpyxl\\workbook\\_writer.py:135\u001B[0m, in \u001B[0;36mWorkbookWriter.write_views\u001B[1;34m(self)\u001B[0m\n\u001B[0;32m    134\u001B[0m \u001B[38;5;28;01mdef\u001B[39;00m \u001B[38;5;21mwrite_views\u001B[39m(\u001B[38;5;28mself\u001B[39m):\n\u001B[1;32m--> 135\u001B[0m     active \u001B[38;5;241m=\u001B[39m \u001B[43mget_active_sheet\u001B[49m\u001B[43m(\u001B[49m\u001B[38;5;28;43mself\u001B[39;49m\u001B[38;5;241;43m.\u001B[39;49m\u001B[43mwb\u001B[49m\u001B[43m)\u001B[49m\n\u001B[0;32m    136\u001B[0m     \u001B[38;5;28;01mif\u001B[39;00m \u001B[38;5;28mself\u001B[39m\u001B[38;5;241m.\u001B[39mwb\u001B[38;5;241m.\u001B[39mviews:\n\u001B[0;32m    137\u001B[0m         \u001B[38;5;28mself\u001B[39m\u001B[38;5;241m.\u001B[39mwb\u001B[38;5;241m.\u001B[39mviews[\u001B[38;5;241m0\u001B[39m]\u001B[38;5;241m.\u001B[39mactiveTab \u001B[38;5;241m=\u001B[39m active\n",
      "File \u001B[1;32m~\\AppData\\IqrorjonCoder\\python-projects\\all-pandas-functions\\venv\\lib\\site-packages\\openpyxl\\workbook\\_writer.py:33\u001B[0m, in \u001B[0;36mget_active_sheet\u001B[1;34m(wb)\u001B[0m\n\u001B[0;32m     31\u001B[0m visible_sheets \u001B[38;5;241m=\u001B[39m [idx \u001B[38;5;28;01mfor\u001B[39;00m idx, sheet \u001B[38;5;129;01min\u001B[39;00m \u001B[38;5;28menumerate\u001B[39m(wb\u001B[38;5;241m.\u001B[39m_sheets) \u001B[38;5;28;01mif\u001B[39;00m sheet\u001B[38;5;241m.\u001B[39msheet_state \u001B[38;5;241m==\u001B[39m \u001B[38;5;124m\"\u001B[39m\u001B[38;5;124mvisible\u001B[39m\u001B[38;5;124m\"\u001B[39m]\n\u001B[0;32m     32\u001B[0m \u001B[38;5;28;01mif\u001B[39;00m \u001B[38;5;129;01mnot\u001B[39;00m visible_sheets:\n\u001B[1;32m---> 33\u001B[0m     \u001B[38;5;28;01mraise\u001B[39;00m \u001B[38;5;167;01mIndexError\u001B[39;00m(\u001B[38;5;124m\"\u001B[39m\u001B[38;5;124mAt least one sheet must be visible\u001B[39m\u001B[38;5;124m\"\u001B[39m)\n\u001B[0;32m     35\u001B[0m idx \u001B[38;5;241m=\u001B[39m wb\u001B[38;5;241m.\u001B[39m_active_sheet_index\n\u001B[0;32m     36\u001B[0m sheet \u001B[38;5;241m=\u001B[39m wb\u001B[38;5;241m.\u001B[39mactive\n",
      "\u001B[1;31mIndexError\u001B[0m: At least one sheet must be visible"
     ]
    }
   ],
   "source": [
    "data = pd.ExcelWriter(\"./Book1.xlsx\")\n",
    "data.close()"
   ],
   "metadata": {
    "collapsed": false
   }
  },
  {
   "cell_type": "code",
   "execution_count": 23,
   "outputs": [
    {
     "name": "stderr",
     "output_type": "stream",
     "text": [
      "C:\\Users\\student.ASTRUM-DOMAIN\\AppData\\Local\\Temp\\ipykernel_1612\\751087798.py:2: FutureWarning: cur_sheet is not part of the public API, usage can give in unexpected results and will be removed in a future version\n",
      "  data.cur_sheet\n"
     ]
    }
   ],
   "source": [
    "data = pd.ExcelWriter(\"./Book1.xlsx\")\n",
    "data.cur_sheet"
   ],
   "metadata": {
    "collapsed": false
   }
  },
  {
   "cell_type": "code",
   "execution_count": 25,
   "outputs": [
    {
     "data": {
      "text/plain": "'YYYY-MM-DD'"
     },
     "execution_count": 25,
     "metadata": {},
     "output_type": "execute_result"
    }
   ],
   "source": [
    "data = pd.ExcelWriter(\"./Book1.xlsx\")\n",
    "data.date_format"
   ],
   "metadata": {
    "collapsed": false
   }
  },
  {
   "cell_type": "code",
   "execution_count": 27,
   "outputs": [
    {
     "data": {
      "text/plain": "'YYYY-MM-DD HH:MM:SS'"
     },
     "execution_count": 27,
     "metadata": {},
     "output_type": "execute_result"
    }
   ],
   "source": [
    "data = pd.ExcelWriter(\"./Book1.xlsx\")\n",
    "data.datetime_format"
   ],
   "metadata": {
    "collapsed": false
   }
  },
  {
   "cell_type": "code",
   "execution_count": 29,
   "outputs": [
    {
     "data": {
      "text/plain": "'openpyxl'"
     },
     "execution_count": 29,
     "metadata": {},
     "output_type": "execute_result"
    }
   ],
   "source": [
    "data = pd.ExcelWriter(\"./Book1.xlsx\")\n",
    "data.engine"
   ],
   "metadata": {
    "collapsed": false
   }
  },
  {
   "cell_type": "code",
   "execution_count": 31,
   "outputs": [
    {
     "name": "stderr",
     "output_type": "stream",
     "text": [
      "C:\\Users\\student.ASTRUM-DOMAIN\\AppData\\Local\\Temp\\ipykernel_1612\\147189279.py:2: FutureWarning: handles is not part of the public API, usage can give in unexpected results and will be removed in a future version\n",
      "  data.handles\n"
     ]
    },
    {
     "data": {
      "text/plain": "IOHandles(handle=<_io.BufferedWriter name='./Book1.xlsx'>, compression={'method': None}, created_handles=[<_io.BufferedWriter name='./Book1.xlsx'>], is_wrapped=False)"
     },
     "execution_count": 31,
     "metadata": {},
     "output_type": "execute_result"
    }
   ],
   "source": [
    "data = pd.ExcelWriter(\"./Book1.xlsx\")\n",
    "data.handles"
   ],
   "metadata": {
    "collapsed": false
   }
  },
  {
   "cell_type": "code",
   "execution_count": 33,
   "outputs": [
    {
     "data": {
      "text/plain": "'error'"
     },
     "execution_count": 33,
     "metadata": {},
     "output_type": "execute_result"
    }
   ],
   "source": [
    "data = pd.ExcelWriter(\"./Book1.xlsx\")\n",
    "data.if_sheet_exists"
   ],
   "metadata": {
    "collapsed": false
   }
  },
  {
   "cell_type": "code",
   "execution_count": 37,
   "outputs": [
    {
     "name": "stderr",
     "output_type": "stream",
     "text": [
      "C:\\Users\\student.ASTRUM-DOMAIN\\AppData\\Local\\Temp\\ipykernel_1612\\1085459700.py:2: FutureWarning: path is not part of the public API, usage can give in unexpected results and will be removed in a future version\n",
      "  data.path\n"
     ]
    }
   ],
   "source": [
    "data = pd.ExcelWriter(\"./Book1.xlsx\")\n",
    "data.path"
   ],
   "metadata": {
    "collapsed": false
   }
  },
  {
   "cell_type": "code",
   "execution_count": 46,
   "outputs": [
    {
     "data": {
      "text/plain": "'\\n        Save workbook to disk.\\n\\n        .. deprecated:: 1.5.0\\n        '"
     },
     "execution_count": 46,
     "metadata": {},
     "output_type": "execute_result"
    }
   ],
   "source": [
    "data = pd.ExcelWriter(\"./Book1.xlsx\")\n",
    "data.save.__doc__"
   ],
   "metadata": {
    "collapsed": false
   }
  },
  {
   "cell_type": "code",
   "execution_count": 49,
   "outputs": [
    {
     "data": {
      "text/plain": "{}"
     },
     "execution_count": 49,
     "metadata": {},
     "output_type": "execute_result"
    }
   ],
   "source": [
    "data = pd.ExcelWriter(\"./Financial Sample.xlsx\")\n",
    "data.sheets"
   ],
   "metadata": {
    "collapsed": false
   }
  },
  {
   "cell_type": "code",
   "execution_count": 51,
   "outputs": [
    {
     "data": {
      "text/plain": "('.xlsx', '.xlsm')"
     },
     "execution_count": 51,
     "metadata": {},
     "output_type": "execute_result"
    }
   ],
   "source": [
    "data = pd.ExcelWriter(\"./Book1.xlsx\")\n",
    "data.supported_extensions"
   ],
   "metadata": {
    "collapsed": false
   }
  },
  {
   "cell_type": "code",
   "execution_count": 57,
   "outputs": [
    {
     "data": {
      "text/plain": "'\\n        Write given formatted cells into Excel an excel sheet\\n\\n        .. deprecated:: 1.5.0\\n\\n        Parameters\\n        ----------\\n        cells : generator\\n            cell of formatted data to save to Excel sheet\\n        sheet_name : str, default None\\n            Name of Excel sheet, if None, then use self.cur_sheet\\n        startrow : upper left cell row to dump data frame\\n        startcol : upper left cell column to dump data frame\\n        freeze_panes: int tuple of length 2\\n            contains the bottom-most row and right-most column to freeze\\n        '"
     },
     "execution_count": 57,
     "metadata": {},
     "output_type": "execute_result"
    }
   ],
   "source": [
    "data = pd.ExcelWriter(\"./Book1.xlsx\")\n",
    "data.write_cells.__doc__"
   ],
   "metadata": {
    "collapsed": false
   }
  }
 ],
 "metadata": {
  "kernelspec": {
   "display_name": "Python 3",
   "language": "python",
   "name": "python3"
  },
  "language_info": {
   "codemirror_mode": {
    "name": "ipython",
    "version": 2
   },
   "file_extension": ".py",
   "mimetype": "text/x-python",
   "name": "python",
   "nbconvert_exporter": "python",
   "pygments_lexer": "ipython2",
   "version": "2.7.6"
  }
 },
 "nbformat": 4,
 "nbformat_minor": 0
}
